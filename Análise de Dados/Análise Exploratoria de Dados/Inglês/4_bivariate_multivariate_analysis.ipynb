{
 "cells": [
  {
   "cell_type": "markdown",
   "id": "93957540-2eaf-4d3c-b55f-eef2b01a7fc3",
   "metadata": {},
   "source": [
    "# Bivariate and Multivariate Analysis "
   ]
  },
  {
   "cell_type": "markdown",
   "id": "60249163-2f7c-43b4-b7a8-5c7490879788",
   "metadata": {},
   "source": [
    "In this section, we will explore the relationships between pairs of variables. This is critical to see correlations and hypothesize causal dependencies. It is unfortunate that our bird strike dataset only captures incidents where bird strikes occurred, and not also flights where bird strikes were avoided. While we could go seek outside data for these uneventful flights and join them to this dataset, we will have to make due without. We will still come across some interesting findings. \n",
    "\n",
    "Let's bring in our cleaned dataset once again, and do the appropriate conversions. "
   ]
  },
  {
   "cell_type": "code",
   "execution_count": null,
   "id": "e78d396e-03a3-4398-9b8e-55b1681b2530",
   "metadata": {},
   "outputs": [],
   "source": [
    "import pandas as pd \n",
    "\n",
    "url = r\"https://github.com/thomasnield/anaconda_python_eda/raw/public/birdstrike_section2.csv\"\n",
    "df = pd.read_csv(url, index_col='INDEX_NR', parse_dates=[\"INCIDENT_DATE\"])\n",
    "\n",
    "# Turn PHASE_OF_FLIGHT into a category\n",
    "phase_of_flt = pd.CategoricalDtype(categories=['Parked', 'Taxi','Take-off Run', 'Approach', 'Departure', 'Climb', 'En Route',\n",
    "                                               'Descent', 'Landing Roll', 'Arrival', 'Local'])\n",
    "\n",
    "df[\"PHASE_OF_FLIGHT\"] = df[\"PHASE_OF_FLIGHT\"].astype(phase_of_flt)\n",
    "\n",
    "# Turn TIME into timedelta type \n",
    "df[\"TIME\"] = pd.to_timedelta(df[\"TIME\"])"
   ]
  },
  {
   "cell_type": "markdown",
   "id": "a7b6a5e2-9b8a-4917-96a4-b6e653b98f35",
   "metadata": {},
   "source": [
    "## Comparing Height to Speed"
   ]
  },
  {
   "cell_type": "markdown",
   "id": "39110cfd-57a8-441c-b18e-6b8b826be966",
   "metadata": {},
   "source": [
    "We looked at `HEIGHT` and `SPEED` extensively in the last section, but we did each one separately in a silo. Let's see if there is a relationship between the two and anything interesting. The most informative starting point for this is a scatterplot. "
   ]
  },
  {
   "cell_type": "code",
   "execution_count": null,
   "id": "4a5fc6fc-e887-43de-91af-bcde7ad7e0be",
   "metadata": {},
   "outputs": [],
   "source": [
    "df.plot.scatter(x=\"HEIGHT\",y=\"SPEED\")"
   ]
  },
  {
   "cell_type": "markdown",
   "id": "ea48a2be-0270-43df-a393-8f8bf148cd69",
   "metadata": {},
   "source": [
    "Wow, a lot to unpack here already. There does seem to be a linear correlation between `SPEED` and `HEIGHT`. We can quantify this correlation using the [Pearson correlation](https://youtu.be/rijqfllOq6g?si=Ls9OkGqCO6AxnWN2), where a value close to 1 is a strong postive correlation, close to 0 is no correlation, and close to -1 is a strong negative correlation. "
   ]
  },
  {
   "cell_type": "code",
   "execution_count": null,
   "id": "2ef4bb68-4d83-49df-a4e4-654cbf14e759",
   "metadata": {},
   "outputs": [],
   "source": [
    "df[[\"HEIGHT\",\"SPEED\"]].corr(method='pearson')"
   ]
  },
  {
   "cell_type": "markdown",
   "id": "c6ea5256-198e-4aae-b82c-094746b4a9c6",
   "metadata": {},
   "source": [
    "So we get a correlation of `.681334` which is a decent positive correlation. This makes sense because most flights will climb to higher altitudes to get more speed, which at its peak is called cruise altitude. \n",
    "\n",
    "But what about those 3 datapoints near 0 feet but were going crazy fast, between 600 and 1200 knots! 1200 knots is about 1.8 mach, so was Maverick buzzing the tower again?\n",
    "\n",
    "![](https://y.yarn.co/18f66e28-0f40-4db7-b05f-3529759e9708_text.gif)\n",
    "\n",
    "*Courtesy: Paramount Pictures*"
   ]
  },
  {
   "cell_type": "markdown",
   "id": "c570cdff-61f5-425a-9f45-b08598d00b64",
   "metadata": {},
   "source": [
    "> There was in fact a bird strike scene in the movie Top Gun: Maverick\n",
    ">\n",
    "> https://youtu.be/NCrsxRgcC38?si=mdeSiNNYs4iM9dgX"
   ]
  },
  {
   "cell_type": "markdown",
   "id": "cc1e2145-500f-4cf4-a245-036122c3495e",
   "metadata": {},
   "source": [
    "Let's query for those three data points as outliers. "
   ]
  },
  {
   "cell_type": "code",
   "execution_count": null,
   "id": "13d54fa8-11ca-448e-a813-241c8d1451b1",
   "metadata": {
    "scrolled": true
   },
   "outputs": [],
   "source": [
    "with pd.option_context('display.max_columns', None):\n",
    "    display(df[df[\"SPEED\"] > 600])"
   ]
  },
  {
   "cell_type": "markdown",
   "id": "26cc5c0c-c3fd-43f7-bdf4-4eadd00c627f",
   "metadata": {},
   "source": [
    "Okay... I got questions. A Cessna 172 going 650 knots (it's maximum is 163 knots)? And a Boeing 737-700 going 1150 knots at 1000 feet above ground (it's maximum is 473 knots)? And a Flexjet going 1250 knots at 100 feet above the ground? Even Maverick's F-18 can barely reach Mach 1.8, or 1200 knots. These data points have got to have been recorded incorrectly unless we are truly missing something. We should consider removing them if we ever used them for modeling. "
   ]
  },
  {
   "cell_type": "markdown",
   "id": "0ef1b907-312c-4c13-a71d-f6b888f7e48d",
   "metadata": {},
   "source": [
    "Let's separately compare these two variables to `DISTANCE`. "
   ]
  },
  {
   "cell_type": "code",
   "execution_count": null,
   "id": "310b48ea-b6f8-4cfd-adb5-80575d861ff5",
   "metadata": {},
   "outputs": [],
   "source": [
    "df.plot.scatter(x=\"DISTANCE\",y=\"HEIGHT\")"
   ]
  },
  {
   "cell_type": "code",
   "execution_count": null,
   "id": "e8fe64f0-dcf3-4b67-bd77-870a1d4fd8fb",
   "metadata": {
    "scrolled": true
   },
   "outputs": [],
   "source": [
    "df.plot.scatter(x=\"DISTANCE\",y=\"SPEED\")"
   ]
  },
  {
   "cell_type": "markdown",
   "id": "c86f5727-44c4-470a-b164-86e9acd1a22a",
   "metadata": {},
   "source": [
    "Use a pair plot to set each variable against every other variable at once. "
   ]
  },
  {
   "cell_type": "code",
   "execution_count": null,
   "id": "d75c5ff8-8161-4d25-86e1-f9c759a4af79",
   "metadata": {},
   "outputs": [],
   "source": [
    "import seaborn as sns\n",
    "\n",
    "sns.pairplot(df[[\"HEIGHT\",\"SPEED\",\"DISTANCE\"]])"
   ]
  },
  {
   "cell_type": "markdown",
   "id": "5f14ec49-18ee-4b75-95cb-f657a2a02377",
   "metadata": {},
   "source": [
    "Now let's look at all three of these variables for correlations. We see that `HEIGHT`, `SPEED`, and `DISTANCE` have correlations with each other. There is especially a strong correlation between `HEIGHT` and `DISTANCE` of `.834154`. This makes sense because an airplane is going to be descending as it closes in to land on an airport. "
   ]
  },
  {
   "cell_type": "code",
   "execution_count": null,
   "id": "0ce41af2-5a00-4901-b634-389bf20bf105",
   "metadata": {},
   "outputs": [],
   "source": [
    "corr_matrix = df[[\"HEIGHT\",\"SPEED\",\"DISTANCE\"]].corr(method='pearson')\n",
    "corr_matrix"
   ]
  },
  {
   "cell_type": "markdown",
   "id": "fa26d669-9c37-4ed7-9923-94a3d8c6ae38",
   "metadata": {},
   "source": [
    "We can also visualize this using a heatmap. "
   ]
  },
  {
   "cell_type": "code",
   "execution_count": null,
   "id": "afbca418-83ea-4818-8fc8-e042dea02923",
   "metadata": {},
   "outputs": [],
   "source": [
    "import matplotlib.pyplot as plt\n",
    "import seaborn as sns\n",
    "\n",
    "plt.figure(figsize=(6, 4))\n",
    "sns.heatmap(corr_matrix, annot=True, cmap='coolwarm', square=True)"
   ]
  },
  {
   "cell_type": "markdown",
   "id": "d189403c-6a83-4a0f-ace2-ae77e7b9d43b",
   "metadata": {},
   "source": [
    "We could try to bring in more variables, or even the entire dataframe. However given that a lot of these variables are discrete and would need to be numerically converted, we won't do that here. But you are welcome to pursue other variables as part of the exercise and use your knowledge to find more correlations. \n",
    "\n",
    "What would we use this correlation information for? Well, for example if we were doing machine learning like logistic regression to predict probability of bird strikes, we do not want to include collinear variables that redundantly are correlated to each other. That would overpower the underlying causal variable in the model. We would likely only choose one of these three variables to make a prediction rather than all three, such as `HEIGHT`. "
   ]
  },
  {
   "cell_type": "markdown",
   "id": "82cbdc4c-d524-4071-9f5e-29f0f0f42f55",
   "metadata": {},
   "source": [
    "## A Brief Discussion on Predictor Variables"
   ]
  },
  {
   "cell_type": "markdown",
   "id": "7f314bbf-f6ed-4e30-ab9c-038c3b9ef945",
   "metadata": {},
   "source": [
    "If we are concerned about bird strikes, it is very unfortunate we only have self-reported data when bird strikes occurred. To see what variables can be used to predict bird strikes, we need data for normal flights where bird strikes did not occur. It is not impossible to get this data but it is beyond the scope of this exercise. However, it still is worth a discussion. "
   ]
  },
  {
   "cell_type": "markdown",
   "id": "5c748417-45ce-4ed3-b273-c2559117613e",
   "metadata": {},
   "source": [
    "For example, it is too bad we do not have records for flights without bird strikes and had an alert. We could have taken the \"WARNED\" variable as shown below, and did some testing to see if the warnings had an effect in preventing bird strikes. But it is hard to make use of this variable because successful warnings that avoided bird strikes were probably not recorded. "
   ]
  },
  {
   "cell_type": "code",
   "execution_count": null,
   "id": "96a2cce7-0e41-4f4d-9cd5-6ccb9ea4f1cb",
   "metadata": {},
   "outputs": [],
   "source": [
    "df[\"WARNED\"].value_counts(dropna=False).plot.bar()"
   ]
  },
  {
   "cell_type": "markdown",
   "id": "1619bbec-6546-4c13-a401-0ab1dc8c9d13",
   "metadata": {},
   "source": [
    "If we got access to flight schedules for non-incident data, as well as weather data, we could also see if `PRECIPITATION` increased the per-capita number of incidents when rain occurred. But without that data, it's hard to conclude anything. Yeah, more bird strikes happen with no rain in our data. But if rain is not frequent, that will create less records. That does not mean the rate of incidents will not be higher with rain. "
   ]
  },
  {
   "cell_type": "code",
   "execution_count": null,
   "id": "7b5bfa25-d81e-4e40-ba47-ad10aa3c5729",
   "metadata": {},
   "outputs": [],
   "source": [
    "df[\"PRECIPITATION\"].fillna(value=\"\", inplace=False).str.contains(\"Rain\").value_counts().plot.bar()"
   ]
  },
  {
   "cell_type": "markdown",
   "id": "6053b631-5a57-4ce4-b8db-f9caf95a21d4",
   "metadata": {},
   "source": [
    "The bird strike data does not capture this, but the fact is bird strikes do increase AFTER rain because birds like to bathe in puddles on the ground. Poor runoff management on runways can therefore increase bird strikes. This only further shows your data only captures so much of the truth. "
   ]
  },
  {
   "cell_type": "markdown",
   "id": "3fa049af-7d13-4878-85e7-fe6cdd189742",
   "metadata": {},
   "source": [
    "## Multivariate Analysis "
   ]
  },
  {
   "cell_type": "markdown",
   "id": "b0152c95-b76d-4da7-8261-d0931d6cd63f",
   "metadata": {},
   "source": [
    "Trying to analyze relationships between three or more variables can be challenging to visualize, but there are ways if you do it thoughtfully. For this exercise, I'm going to assess whether or not a bird strike is more likely to occur on the engine (whether it's a jet engine, propeller, or rotor). \n",
    "\n",
    "In hindsight, I realized I have omitted some important columns where a strike, damage, or ingestion have occurred in section 1. But this will be a good exercise in learning to remedy this mistake. Let's bring in this data from the Excel file."
   ]
  },
  {
   "cell_type": "code",
   "execution_count": null,
   "id": "b29056b5-8c12-48e5-9b0c-67c64be234e0",
   "metadata": {
    "scrolled": true
   },
   "outputs": [],
   "source": [
    "import pandas as pd\n",
    "\n",
    "engine_cols = [\"INDEX_NR\", \n",
    "\"STR_ENG1\",\n",
    "\"DAM_ENG1\",\n",
    "\"ING_ENG1\",\n",
    "\"STR_ENG2\",\n",
    "\"DAM_ENG2\",\n",
    "\"ING_ENG2\",\n",
    "\"STR_ENG3\",\n",
    "\"DAM_ENG3\",\n",
    "\"ING_ENG3\",\n",
    "\"STR_ENG4\",\n",
    "\"DAM_ENG4\",\n",
    "\"ING_ENG4\",\n",
    "\"STR_PROP\",\n",
    "\"DAM_PROP\",\n",
    "\"STR_WING_ROT\",\n",
    "\"DAM_WING_ROT\"]\n",
    "\n",
    "url = r\"https://github.com/thomasnield/anaconda_python_eda/raw/public/bird_strike_faa.xlsx\"\n",
    "engine_df = pd.read_excel(url, index_col='INDEX_NR', usecols=engine_cols)\n",
    "engine_df"
   ]
  },
  {
   "cell_type": "markdown",
   "id": "2c8fa6b7-bdb1-434c-9d86-1b0095c1a8e3",
   "metadata": {},
   "source": [
    "We are going to consolidate all these columns into one by summing them for each respective row. Then we will make this a boolean indicator usign a comparative operation, checking for any values greater than 0 as `True`, and otherwise will be `False`. "
   ]
  },
  {
   "cell_type": "code",
   "execution_count": null,
   "id": "2047d110-537a-4827-8d33-e1b9a30e8695",
   "metadata": {
    "scrolled": true
   },
   "outputs": [],
   "source": [
    "engine_df_ind = engine_df.sum(axis=1) > 0 \n",
    "engine_df_ind"
   ]
  },
  {
   "cell_type": "markdown",
   "id": "45cfe7f9-502e-4e76-b4e8-5809b84b0757",
   "metadata": {},
   "source": [
    "Let's perform a left-join to our dataframe, meaning we will only keep records in our `df` of 2015 onwards data, and only include `ENGINE_STRIKE_IND` data that have indices in common. "
   ]
  },
  {
   "cell_type": "code",
   "execution_count": null,
   "id": "ea0bff0b-03be-4f79-8e8b-8ef46d929e03",
   "metadata": {},
   "outputs": [],
   "source": [
    "df = df.join(engine_df_ind.rename(\"ENGINE_STRIKE_IND\"), how='left')\n",
    "\n",
    "with pd.option_context('display.max_columns', None):\n",
    "    display(df)"
   ]
  },
  {
   "cell_type": "markdown",
   "id": "1d87fa94-4d55-44d9-852d-450063315b3c",
   "metadata": {},
   "source": [
    "Now how many strikes since 2015 were engine related? We find it is over 20% of the strikes. "
   ]
  },
  {
   "cell_type": "code",
   "execution_count": null,
   "id": "29b850db-7a2e-4c8f-82e0-52c9af96c22d",
   "metadata": {},
   "outputs": [],
   "source": [
    "df[\"ENGINE_STRIKE_IND\"].value_counts()"
   ]
  },
  {
   "attachments": {},
   "cell_type": "markdown",
   "id": "dcf7c34b-7509-4c66-ae32-5ee65a6491dd",
   "metadata": {},
   "source": [
    "When it comes to multivariable analysis, we can get really crazy and we have to structure our hypotheses carefully. After all, trying to find the relationship between more than 2 variables can be quite tricky, and it's easy to get lost in the noise. \n",
    "\n",
    "For our purposes, let's say we are interested in understanding how aircraft mass, height, a plays a role in whether or not a bird strike is engine-related across different heights. Sounds like a mouthful, right? As the Dread Pirate Roberts said in *The Princess Bride*, \"Truly you have a dizzying intellect.\" \n",
    "\n",
    "> The `AC_MASS` column can be interpreted as follows: 1 = 2,250 kg or less: 2 = 2,251-5,700 kg: 3 = 5,701-27,000 kg: 4 = 27,001-272,000 kg: 5 = above 272,000 kg\n",
    "\n",
    "But when we involve many variables like this, the secret is to isolate to just one value (such as each aircraft mass) at a time, then observe another variable in that context, and then finally another. Below, we will create a violin plot which helps us visualize the distribution of bird strikes, and for when engine strikes occurred versus not occurred. They also can contain box-and-whisker plots. "
   ]
  },
  {
   "cell_type": "code",
   "execution_count": null,
   "id": "b37e1dff-3119-443d-9e81-19637926cd38",
   "metadata": {},
   "outputs": [],
   "source": [
    "import matplotlib.pyplot as plt\n",
    "import seaborn as sns \n",
    "\n",
    "plt.figure(figsize=(12, 6))\n",
    "sns.violinplot(x='AC_MASS', y='HEIGHT', data=df, hue='ENGINE_STRIKE_IND', palette='Blues', legend=True)\n",
    "plt.show()\n"
   ]
  },
  {
   "cell_type": "markdown",
   "id": "49a0f36a-9c91-4b6b-8f9f-2a307e416d22",
   "metadata": {},
   "source": [
    "Alright, so our hypothesis did not reveal anything too interesting at least from this angle. It seems that setting aircraft mass against height, and comparing the distributions for engine-related versus non-engine related strikes did not yield anything too interesting. The distributions roughly look the same and strikes again happen heavily on the ground. \n",
    "\n",
    "Let's turn our attention to cost. What are the cost to repairs adjusted for inflation, for each aircraft mass, for both engine and non-engine related strikes? "
   ]
  },
  {
   "cell_type": "code",
   "execution_count": null,
   "id": "712d1570-36d0-4609-868e-94f5eb76cc40",
   "metadata": {},
   "outputs": [],
   "source": [
    "import matplotlib.pyplot as plt\n",
    "import seaborn as sns \n",
    "\n",
    "plt.figure(figsize=(12, 6))\n",
    "\n",
    "sns.violinplot(x='AC_MASS', \n",
    "               y='COST_REPAIRS_INFL_ADJ', data=df, \n",
    "               hue='ENGINE_STRIKE_IND', \n",
    "               palette='Blues', \n",
    "               inner='quartile', \n",
    "               legend=True)\n",
    "plt.show()\n"
   ]
  },
  {
   "cell_type": "markdown",
   "id": "e1e7c481-0bc0-48ec-8070-39b2cd7fbd37",
   "metadata": {},
   "source": [
    "While our violin plots are a bit thin due to the few records that have documented costs, we can see that aircraft with a mass of 4.0 ( 27,001-272,000 kg) are particularly prone to higher costs for engine-related strikes. Engine-related strikes are in general more likely to have more costs for `AC_MASS` values of 3 or more. \n",
    "\n",
    "Let's also count \"other\" costs that are related to loss of revenue, hotels for passengers due to grounded flights, cost of fuel dumps, and other non-damage related costs to the operator.  "
   ]
  },
  {
   "cell_type": "code",
   "execution_count": null,
   "id": "5574c9ec-fe14-4ab3-b5b1-d6fb50e803ad",
   "metadata": {},
   "outputs": [],
   "source": [
    "import matplotlib.pyplot as plt\n",
    "import seaborn as sns \n",
    "\n",
    "plt.figure(figsize=(12, 6))\n",
    "df[\"TOTAL_COST\"] = df[\"COST_REPAIRS_INFL_ADJ\"] + df[\"COST_OTHER_INFL_ADJ\"]\n",
    "\n",
    "sns.violinplot(x='AC_MASS', \n",
    "               y='TOTAL_COST', data=df, \n",
    "               hue='ENGINE_STRIKE_IND', \n",
    "               palette='Blues', \n",
    "               inner='quartile', \n",
    "               legend=True)\n",
    "plt.show()\n"
   ]
  },
  {
   "cell_type": "markdown",
   "id": "5a25f708-0b54-4b92-9195-2a636f8c8d1d",
   "metadata": {},
   "source": [
    "We see increasing amounts of costs related to engine strikes at a mass of 4, and this greatly increases at 5. This makes sense because big aircraft carry a lot of inconvenienced passengers, and they also likely have the most expensive engines needing replacement. It's also interesting to note that huge aircraft have negligible costs related to non-engine strikes. "
   ]
  },
  {
   "cell_type": "markdown",
   "id": "41acc59a-26c4-4222-8326-4e460c453b16",
   "metadata": {},
   "source": [
    "## Exercise"
   ]
  },
  {
   "cell_type": "markdown",
   "id": "92817683-fec7-4172-a68d-2897958f5639",
   "metadata": {},
   "source": [
    "Could `SPEED` be a driving variable for `COST_REPAIRS_INFL_ADJ`? Do some analysis below and state your conclusion. "
   ]
  },
  {
   "cell_type": "code",
   "execution_count": null,
   "id": "530b9017-22d9-41a8-94af-668b6f83fbbe",
   "metadata": {},
   "outputs": [],
   "source": [
    "# PUT CODE HERE, USE MORE CELLS IF NEEDED\n"
   ]
  },
  {
   "cell_type": "markdown",
   "id": "b45c21c9-b0c3-4f08-b74c-5e93585a433e",
   "metadata": {},
   "source": [
    "### SCROLL DOWN FOR ANSWER\n",
    "|<br>\n",
    "|<br>\n",
    "|<br>\n",
    "|<br>\n",
    "|<br>\n",
    "|<br>\n",
    "|<br>\n",
    "|<br>\n",
    "|<br>\n",
    "|<br>\n",
    "|<br>\n",
    "|<br>\n",
    "|<br>\n",
    "|<br>\n",
    "|<br>\n",
    "|<br>\n",
    "|<br>\n",
    "|<br>\n",
    "|<br>\n",
    "|<br>\n",
    "|<br>\n",
    "|<br>\n",
    "|<br>\n",
    "v "
   ]
  },
  {
   "cell_type": "markdown",
   "id": "e15602b9-296d-4fc6-bf77-c2b0b8f916b0",
   "metadata": {},
   "source": [
    "There is no correlation between speed and cost of repairs for the bird strike records. The scatterplot and correlation coefficient indicate no relationship. "
   ]
  },
  {
   "cell_type": "code",
   "execution_count": null,
   "id": "4dbd8064-6827-4f9f-8783-72c3d34152e8",
   "metadata": {},
   "outputs": [],
   "source": [
    "df.plot.scatter(x=\"SPEED\",y=\"COST_REPAIRS_INFL_ADJ\")"
   ]
  },
  {
   "cell_type": "code",
   "execution_count": null,
   "id": "acb982be-7b97-47b1-95d0-4c8c7274c62b",
   "metadata": {},
   "outputs": [],
   "source": [
    "df[[\"SPEED\",\"COST_REPAIRS_INFL_ADJ\"]].corr(method='pearson')"
   ]
  }
 ],
 "metadata": {
  "kernelspec": {
   "display_name": "anaconda-2024.02-py310",
   "language": "python",
   "name": "conda-env-anaconda-2024.02-py310-py"
  },
  "language_info": {
   "codemirror_mode": {
    "name": "ipython",
    "version": 3
   },
   "file_extension": ".py",
   "mimetype": "text/x-python",
   "name": "python",
   "nbconvert_exporter": "python",
   "pygments_lexer": "ipython3",
   "version": "3.12.3 (main, Apr  9 2024, 08:09:14) [Clang 15.0.0 (clang-1500.3.9.4)]"
  },
  "vscode": {
   "interpreter": {
    "hash": "b0fa6594d8f4cbf19f97940f81e996739fb7646882a419484c72d19e05852a7e"
   }
  }
 },
 "nbformat": 4,
 "nbformat_minor": 5
}
