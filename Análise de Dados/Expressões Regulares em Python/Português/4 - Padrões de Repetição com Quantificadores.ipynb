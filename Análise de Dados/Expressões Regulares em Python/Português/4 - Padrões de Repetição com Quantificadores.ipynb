{
 "cells": [
  {
   "cell_type": "markdown",
   "id": "86dbc5aa",
   "metadata": {},
   "source": [
    "# Padrões de Repetição com Quantificadores"
   ]
  },
  {
   "cell_type": "markdown",
   "id": "7b68a616",
   "metadata": {},
   "source": [
    "A esta altura, você já deve estar um pouco cansado de escrever `[A-z0-9][A-z0-9][A-z0-9]` só para corresponder a três caracteres alfanuméricos maiúsculos. Agora imagine se você tivesse que corresponder a 20 caracteres alfanuméricos 😱? Não parece horrível?\n",
    "\n",
    "```\n",
    "[A-z0-9][A-z0-9][A-z0-9][A-z0-9][A-z0-9][A-z0-9][A-z0-9][A-z0-9][A-z0-9][A-z0-9][A-z0-9][A-z0-9][A-z0-9][A-z0-9][A-z0-9][A-z0-9][A-z0-9][A-z0-9][A-z0-9][A-z0-9]\n",
    "```"
   ]
  },
  {
   "cell_type": "markdown",
   "id": "075603e0",
   "metadata": {},
   "source": [
    "Bem, não se preocupe. Os quantificadores vieram para o resgate! Podemos consolidar tudo isso aqui. 😂\n",
    "\n",
    "```\n",
    "[A-z0-9]{20}\n",
    "```\n",
    "\n",
    "E podemos fazer muito, muito mais."
   ]
  },
  {
   "cell_type": "markdown",
   "id": "bf6f3a80",
   "metadata": {},
   "source": [
    "## Quantificadores Fixos"
   ]
  },
  {
   "cell_type": "markdown",
   "id": "ac9b8d07",
   "metadata": {},
   "source": [
    "Esta regex que você viu, `[A-z0-9]{20}`, tem um número entre colchetes `{20}`, que especifica quantas vezes o padrão anterior deve ser repetido. Podemos ver que ele corresponde exatamente a 20 caracteres alfanuméricos `[A-z0-9]`."
   ]
  },
  {
   "cell_type": "code",
   "execution_count": null,
   "id": "c29c84d9",
   "metadata": {},
   "outputs": [],
   "source": [
    "from re import fullmatch \n",
    "\n",
    "fullmatch(pattern=\"[A-z0-9]{20}\", string=\"Achd46\") != None"
   ]
  },
  {
   "cell_type": "code",
   "execution_count": null,
   "id": "8d28c106",
   "metadata": {},
   "outputs": [],
   "source": [
    "fullmatch(pattern=\"[A-z0-9]{20}\", string=\"hgbjh734hgfhsabfghhf\") != None"
   ]
  },
  {
   "cell_type": "markdown",
   "id": "d6f57e7e",
   "metadata": {},
   "source": [
    "Como você pode imaginar, um **quantificador** repete um padrão de regex e o exemplo acima é um quantificador fixo."
   ]
  },
  {
   "cell_type": "markdown",
   "id": "202d861d",
   "metadata": {},
   "source": [
    "## Quantificadores Mín./Máx."
   ]
  },
  {
   "cell_type": "markdown",
   "id": "3553ec50",
   "metadata": {},
   "source": [
    "Usando dois números separados por vírgula, podemos especificar um **quantificador mín./máx.** para repetir um padrão um número mín./máx. de vezes.\n",
    "\n",
    "```\n",
    "pattern{min,max}\n",
    "```\n",
    "\n",
    "Por exemplo, podemos corresponder a códigos de companhias aéreas e aeroportos que tenham dois ou três caracteres alfabéticos, respectivamente."
   ]
  },
  {
   "cell_type": "code",
   "execution_count": null,
   "id": "0f04e71d",
   "metadata": {},
   "outputs": [],
   "source": [
    "fullmatch(pattern=\"[A-Z]{2,3}\", string=\"DL\") != None "
   ]
  },
  {
   "cell_type": "code",
   "execution_count": null,
   "id": "f31950c3",
   "metadata": {},
   "outputs": [],
   "source": [
    "fullmatch(pattern=\"[A-Z]{2,3}\", string=\"JFK\") != None "
   ]
  },
  {
   "cell_type": "code",
   "execution_count": null,
   "id": "a4990231",
   "metadata": {},
   "outputs": [],
   "source": [
    "fullmatch(pattern=\"[A-Z]{2,3}\", string=\"ALPHA\") != None "
   ]
  },
  {
   "cell_type": "markdown",
   "id": "fa911153",
   "metadata": {},
   "source": [
    "Podemos corresponder de 1 a 100 dígitos numéricos."
   ]
  },
  {
   "cell_type": "code",
   "execution_count": null,
   "id": "aa9f0f68",
   "metadata": {},
   "outputs": [],
   "source": [
    "fullmatch(pattern=\"[0-9]{1,100}\", string=\"25482\") != None "
   ]
  },
  {
   "cell_type": "code",
   "execution_count": null,
   "id": "e30725c4",
   "metadata": {},
   "outputs": [],
   "source": [
    "fullmatch(pattern=\"[0-9]{1,100}\", string=\"98465462164984335498465649849463574546325775455\") != None "
   ]
  },
  {
   "cell_type": "markdown",
   "id": "273cbfbf",
   "metadata": {},
   "source": [
    "Se deixarmos o `máx.` em branco, podemos capturar um número ilimitado de dígitos. Abaixo, correspondemos a pelo menos 3 dígitos com um máximo ilimitado."
   ]
  },
  {
   "cell_type": "code",
   "execution_count": null,
   "id": "a1d8ae87",
   "metadata": {
    "scrolled": true
   },
   "outputs": [],
   "source": [
    "fullmatch(pattern=\"[0-9]{3,}\", string=\"98\") != None "
   ]
  },
  {
   "cell_type": "code",
   "execution_count": null,
   "id": "7ce118a5",
   "metadata": {
    "scrolled": true
   },
   "outputs": [],
   "source": [
    "fullmatch(pattern=\"[0-9]{3,}\", string=\"98465462164984335498465649849463574546325775455\") != None "
   ]
  },
  {
   "cell_type": "markdown",
   "id": "0e0712d5",
   "metadata": {},
   "source": [
    "Também podemos ter um mínimo de 0, o que torna a presença desse padrão completamente opcional. Abaixo, correspondemos a um `x` e uma letra maiúscula, mas podem existir de 0 a 3 dígitos entre eles."
   ]
  },
  {
   "cell_type": "code",
   "execution_count": null,
   "id": "a9256b2a",
   "metadata": {},
   "outputs": [],
   "source": [
    "fullmatch(pattern=\"x[0-9]{0,3}[A-Z]\", string=\"xZ\") != None "
   ]
  },
  {
   "cell_type": "code",
   "execution_count": null,
   "id": "f597a8ac",
   "metadata": {
    "scrolled": true
   },
   "outputs": [],
   "source": [
    "fullmatch(pattern=\"x[0-9]{0,3}[A-Z]\", string=\"x75Z\") != None "
   ]
  },
  {
   "cell_type": "markdown",
   "id": "23275bd3",
   "metadata": {},
   "source": [
    "## Quantificadores Abreviados"
   ]
  },
  {
   "cell_type": "markdown",
   "id": "f3b135ac",
   "metadata": {},
   "source": [
    "Certos quantificadores mínimo/máximo, especificamente `{1,}`, `{0,}` e `{0,1}`, são tão comuns que recebem suas abreviações: `+`, `*` e `?`, respectivamente.\n",
    "\n",
    "|Abreviado|Equivalente|Descrição|\n",
    "|---------|-----------|---------|\n",
    "|`+`      |`{1,}`     |Corresponde a uma ou mais instâncias de um padrão|\n",
    "|`*`      |`{0,}`     |Corresponde a 0 ou mais instâncias de um padrãon|\n",
    "|`?`      |`{0,1}`    |Corresponde a apenas 0 ou 1 instância de um padrão|"
   ]
  },
  {
   "cell_type": "markdown",
   "id": "269a5b86",
   "metadata": {},
   "source": [
    "Abaixo, correspondemos a qualquer sequência de dígitos e, em seguida, a uma sequência de letras maiúsculas."
   ]
  },
  {
   "cell_type": "code",
   "execution_count": null,
   "id": "f7f3ec72",
   "metadata": {},
   "outputs": [],
   "source": [
    "fullmatch(pattern=\"[0-9]+[A-Z]+\", string=\"746234WHISKEY\") != None "
   ]
  },
  {
   "cell_type": "markdown",
   "id": "a6bbd2b6",
   "metadata": {},
   "source": [
    "Novamente, o `+` é equivalente a `{1,}`, portanto, a mesma tarefa poderia ter sido realizada dessa forma. Ele especifica que \"pelo menos uma instância deste padrão deve existir, e eu capturarei todas as que existirem depois disso\"."
   ]
  },
  {
   "cell_type": "code",
   "execution_count": null,
   "id": "5f813423",
   "metadata": {},
   "outputs": [],
   "source": [
    "fullmatch(pattern=\"[0-9]{1,}[A-Z]{1,}\", string=\"746234WHISKEY\") != None "
   ]
  },
  {
   "cell_type": "markdown",
   "id": "3ffeb09d",
   "metadata": {},
   "source": [
    "Também podemos tornar a sequência de dígitos completamente opcional usando `*` em vez de `+`, o que equivale a usar `{0,}` em vez de `{1,}`."
   ]
  },
  {
   "cell_type": "code",
   "execution_count": null,
   "id": "5007759a",
   "metadata": {
    "scrolled": true
   },
   "outputs": [],
   "source": [
    "fullmatch(pattern=\"[0-9]*[A-Z]{1,}\", string=\"746234WHISKEY\") != None "
   ]
  },
  {
   "cell_type": "code",
   "execution_count": null,
   "id": "f6620fb7",
   "metadata": {
    "scrolled": true
   },
   "outputs": [],
   "source": [
    "fullmatch(pattern=\"[0-9]*[A-Z]{1,}\", string=\"WHISKEY\") != None "
   ]
  },
  {
   "cell_type": "code",
   "execution_count": null,
   "id": "e989821e",
   "metadata": {},
   "outputs": [],
   "source": [
    "fullmatch(pattern=\"[0-9]*[A-Z]{1,}\", string=\"746234\") != None "
   ]
  },
  {
   "cell_type": "markdown",
   "id": "95c2b9fb",
   "metadata": {},
   "source": [
    "O `?` é outra abreviação comum, que é o mesmo que `{0,1}`. É frequentemente chamado de **opcional**, pois indica que uma instância de um padrão pode estar presente, mas não necessariamente. Abaixo, combinamos duas letras do alfabeto, mas elas podem ser precedidas por um único dígito."
   ]
  },
  {
   "cell_type": "code",
   "execution_count": null,
   "id": "73794efa",
   "metadata": {},
   "outputs": [],
   "source": [
    "fullmatch(pattern=\"[0-9]?[A-Z]{2}\", string=\"AZ\") != None "
   ]
  },
  {
   "cell_type": "code",
   "execution_count": null,
   "id": "05cf6f40",
   "metadata": {},
   "outputs": [],
   "source": [
    "fullmatch(pattern=\"[0-9]?[A-Z]{2}\", string=\"4AZ\") != None "
   ]
  },
  {
   "cell_type": "markdown",
   "id": "0c52bc37",
   "metadata": {},
   "source": [
    "## Quantificadores Ganancioso contra Preguiçosos"
   ]
  },
  {
   "cell_type": "markdown",
   "id": "59104fe4",
   "metadata": {},
   "source": [
    "Mudando para um contexto de correspondência parcial usando `search()`, observe o que acontece quando procuro por uma sequência de letras. Também mostrarei que você pode acessar as correspondências por índice usando colchetes `[ ]` no objeto `Match`. Usaremos o índice `[0]` para obter a primeira correspondência."
   ]
  },
  {
   "cell_type": "code",
   "execution_count": null,
   "id": "e45a1828",
   "metadata": {},
   "outputs": [],
   "source": [
    "from re import search \n",
    "\n",
    "search(pattern=\"[XY0-9]+\", string=\"XXYY9637ALPHA\")[0]"
   ]
  },
  {
   "cell_type": "markdown",
   "id": "e90f994b",
   "metadata": {},
   "source": [
    "Sem surpresas. Capturou tudo até o `7`. Mas pergunte a si mesmo: por que não parou no primeiro `X`? Isso satisfaria a expressão regular `[XY0-9]+`, certo? O motivo é que as expressões regulares são, por padrão, **gananciosas**, o que significa que elas capturam o máximo de texto possível para um determinado padrão até que o padrão não possa mais ser correspondido. Se você quiser tornar a expressão regular **preguiçosa** ou parar o mais cedo possível assim que o padrão for satisfeito, adicione um ponto de interrogação após o quantificador `+?`."
   ]
  },
  {
   "cell_type": "code",
   "execution_count": null,
   "id": "e092795d",
   "metadata": {
    "scrolled": true
   },
   "outputs": [],
   "source": [
    "search(pattern=\"[XY0-9]+?\", string=\"XXYY9637ALPHA\")[0]"
   ]
  },
  {
   "cell_type": "markdown",
   "id": "3938938b",
   "metadata": {},
   "source": [
    "Não confunda o ponto de interrogação sendo usado em um contexto diferente. Anteriormente, o usávamos como uma abreviação para um quantificador `{0,1}`, mas se estiver depois de outro quantificador, será um modificador preguiçoso. Eu, pessoalmente, não uso modificadores preguiçosos com frequência, e esses exemplos simples podem não fazer sentido para sua utilidade. Afinal, você pode obter o mesmo comportamento apenas procurando por uma instância neste caso."
   ]
  },
  {
   "cell_type": "code",
   "execution_count": null,
   "id": "50357c74",
   "metadata": {},
   "outputs": [],
   "source": [
    "search(pattern=\"[XY0-9]\", string=\"XXYY9637ALPHA\")[0]"
   ]
  },
  {
   "cell_type": "markdown",
   "id": "92456722",
   "metadata": {},
   "source": [
    "Mas quando aprendemos a construir expressões regulares mais complexas e se você estiver percorrendo documentos, elas podem ser úteis. Elas também são uma ferramenta útil quando sua regex está capturando mais do que o esperado e a modificação preguiçosa é mais simples do que uma expressão regular mais complexa."
   ]
  },
  {
   "cell_type": "markdown",
   "id": "1d2cd466",
   "metadata": {},
   "source": [
    "## Exercício"
   ]
  },
  {
   "cell_type": "markdown",
   "id": "3caf03a1",
   "metadata": {},
   "source": [
    "Escreva uma expressão regular que corresponda a uma série de dígitos, depois a um espaço, depois a uma série de letras maiúsculas, depois a outro espaço e, por fim, à palavra \"FIM\". Coloque a string da expressão regular no ponto de interrogação `?` abaixo.\n",
    "\n",
    "DICA: lembre-se de que `\\s` é um padrão de expressão regular para um espaço e não se esqueça de usar uma string bruta `r\"minha expressão regular\"`, pois haverá uma barra invertida."
   ]
  },
  {
   "cell_type": "code",
   "execution_count": null,
   "id": "af8cd506",
   "metadata": {},
   "outputs": [],
   "source": [
    "from re import fullmatch \n",
    "\n",
    "fullmatch(pattern=?, string=\"5766264 TANGO FIM\") != None"
   ]
  },
  {
   "cell_type": "markdown",
   "id": "672306ab",
   "metadata": {},
   "source": [
    "### RESPOSTA A BAIXO\n",
    "\n",
    "|<br>\n",
    "|<br>\n",
    "|<br>\n",
    "|<br>\n",
    "|<br>\n",
    "|<br>\n",
    "|<br>\n",
    "|<br>\n",
    "|<br>\n",
    "|<br>\n",
    "|<br>\n",
    "|<br>\n",
    "|<br>\n",
    "|<br>\n",
    "|<br>\n",
    "|<br>\n",
    "|<br>\n",
    "|<br>\n",
    "|<br>\n",
    "|<br>\n",
    "|<br>\n",
    "|<br>\n",
    "|<br>\n",
    "v "
   ]
  },
  {
   "cell_type": "code",
   "execution_count": null,
   "id": "6473018a",
   "metadata": {},
   "outputs": [],
   "source": [
    "from re import fullmatch \n",
    "\n",
    "fullmatch(pattern=r\"[0-9]+\\s[A-Z]+\\sFIM\", string=\"5766264 TANGO FIM\") != None"
   ]
  }
 ],
 "metadata": {
  "kernelspec": {
   "display_name": "Python 3",
   "language": "python",
   "name": "python3"
  },
  "language_info": {
   "codemirror_mode": {
    "name": "ipython",
    "version": 3
   },
   "file_extension": ".py",
   "mimetype": "text/x-python",
   "name": "python",
   "nbconvert_exporter": "python",
   "pygments_lexer": "ipython3",
   "version": "3.10.0"
  }
 },
 "nbformat": 4,
 "nbformat_minor": 5
}
