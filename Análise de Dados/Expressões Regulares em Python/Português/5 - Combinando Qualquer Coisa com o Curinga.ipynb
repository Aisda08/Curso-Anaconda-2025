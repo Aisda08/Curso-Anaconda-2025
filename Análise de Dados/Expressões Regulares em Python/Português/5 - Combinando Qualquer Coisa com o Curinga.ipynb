{
 "cells": [
  {
   "cell_type": "markdown",
   "id": "7ded6fc2",
   "metadata": {},
   "source": [
    "# Combinando Qualquer Coisa com o Curinga"
   ]
  },
  {
   "cell_type": "markdown",
   "id": "bea1a181",
   "metadata": {},
   "source": [
    "O **curinga** é representado por um único ponto `.` e corresponde a qualquer caractere, exceto para uma quebra de linha. É especialmente útil quando combinado com quantificadores, criando espaços reservados para caracteres que muitas vezes você não se importa em especificar. Vamos direto ao ponto."
   ]
  },
  {
   "cell_type": "markdown",
   "id": "eb05f2dd",
   "metadata": {},
   "source": [
    "## O Curinga"
   ]
  },
  {
   "cell_type": "markdown",
   "id": "7c02866e",
   "metadata": {},
   "source": [
    "Aprendemos como especificar caracteres especificamente nas seções anteriores usando literais e intervalos de caracteres. Se quiséssemos corresponder apenas às strings \"Cola\" e \"Cota\", poderíamos fazer assim:"
   ]
  },
  {
   "cell_type": "code",
   "execution_count": null,
   "id": "78660a79",
   "metadata": {},
   "outputs": [
    {
     "data": {
      "text/plain": [
       "True"
      ]
     },
     "execution_count": 24,
     "metadata": {},
     "output_type": "execute_result"
    }
   ],
   "source": [
    "from re import fullmatch\n",
    "\n",
    "fullmatch(pattern=\"Co[lt]a\", string=\"Cola\") != None"
   ]
  },
  {
   "cell_type": "code",
   "execution_count": null,
   "id": "917d6553",
   "metadata": {},
   "outputs": [
    {
     "data": {
      "text/plain": [
       "True"
      ]
     },
     "execution_count": 25,
     "metadata": {},
     "output_type": "execute_result"
    }
   ],
   "source": [
    "fullmatch(pattern=\"Co[lt]a\", string=\"Cota\") != None"
   ]
  },
  {
   "cell_type": "code",
   "execution_count": null,
   "id": "e04271d8",
   "metadata": {},
   "outputs": [
    {
     "data": {
      "text/plain": [
       "False"
      ]
     },
     "execution_count": 26,
     "metadata": {},
     "output_type": "execute_result"
    }
   ],
   "source": [
    "fullmatch(pattern=\"Co[lt]a\", string=\"Cora\") != None"
   ]
  },
  {
   "cell_type": "code",
   "execution_count": null,
   "id": "4b38778d",
   "metadata": {},
   "outputs": [
    {
     "data": {
      "text/plain": [
       "False"
      ]
     },
     "execution_count": 27,
     "metadata": {},
     "output_type": "execute_result"
    }
   ],
   "source": [
    "fullmatch(pattern=\"Co[lt]a\", string=\"Co,a\") != None"
   ]
  },
  {
   "cell_type": "markdown",
   "id": "1e97d1ee",
   "metadata": {},
   "source": [
    "Mas digamos que abandonamos o requisito de \"Beer\" ou \"Beer\". Queremos corresponder a *qualquer* caractere na terceira posição e nem queremos especificar se é uma letra ou um número. Pode até ser pontuação ou espaço em branco (exceto quebra de linha, que não corresponde). O operador ponto/curinga `.` servirá para esse propósito."
   ]
  },
  {
   "cell_type": "code",
   "execution_count": null,
   "id": "2c655654",
   "metadata": {},
   "outputs": [
    {
     "data": {
      "text/plain": [
       "True"
      ]
     },
     "execution_count": 28,
     "metadata": {},
     "output_type": "execute_result"
    }
   ],
   "source": [
    "fullmatch(pattern=\"Co.a\", string=\"Cola\") != None"
   ]
  },
  {
   "cell_type": "code",
   "execution_count": null,
   "id": "4aa174aa",
   "metadata": {},
   "outputs": [
    {
     "data": {
      "text/plain": [
       "True"
      ]
     },
     "execution_count": 29,
     "metadata": {},
     "output_type": "execute_result"
    }
   ],
   "source": [
    "fullmatch(pattern=\"Co.a\", string=\"Cota\") != None"
   ]
  },
  {
   "cell_type": "code",
   "execution_count": null,
   "id": "001826a8",
   "metadata": {},
   "outputs": [
    {
     "data": {
      "text/plain": [
       "True"
      ]
     },
     "execution_count": 30,
     "metadata": {},
     "output_type": "execute_result"
    }
   ],
   "source": [
    "fullmatch(pattern=\"Co.a\", string=\"Cora\") != None"
   ]
  },
  {
   "cell_type": "code",
   "execution_count": null,
   "id": "d783fac7",
   "metadata": {},
   "outputs": [
    {
     "data": {
      "text/plain": [
       "True"
      ]
     },
     "execution_count": 31,
     "metadata": {},
     "output_type": "execute_result"
    }
   ],
   "source": [
    "fullmatch(pattern=\"Co.a\", string=\"Co,a\") != None"
   ]
  },
  {
   "cell_type": "markdown",
   "id": "004e805e",
   "metadata": {},
   "source": [
    "Observe que ele corresponderá a espaços em branco como um espaço ou tabulação. Uma tabulação pode ser expressa em uma string Python usando `\\t`."
   ]
  },
  {
   "cell_type": "code",
   "execution_count": null,
   "id": "7665f626",
   "metadata": {},
   "outputs": [
    {
     "data": {
      "text/plain": [
       "True"
      ]
     },
     "execution_count": 32,
     "metadata": {},
     "output_type": "execute_result"
    }
   ],
   "source": [
    "fullmatch(pattern=\"Co.a\", string=\"Co a\") != None"
   ]
  },
  {
   "cell_type": "code",
   "execution_count": null,
   "id": "f37933ff",
   "metadata": {},
   "outputs": [
    {
     "data": {
      "text/plain": [
       "True"
      ]
     },
     "execution_count": 33,
     "metadata": {},
     "output_type": "execute_result"
    }
   ],
   "source": [
    "fullmatch(pattern=\"Co.a\", string=\"Co\\ta\") != None"
   ]
  },
  {
   "cell_type": "markdown",
   "id": "cd6f13df",
   "metadata": {},
   "source": [
    "No entanto, ele não corresponderá a uma quebra de linha. Uma quebra de linha pode ser expressa em Python usando `\\n` ou uma string com múltiplas linhas."
   ]
  },
  {
   "cell_type": "code",
   "execution_count": null,
   "id": "13bc5d2b",
   "metadata": {},
   "outputs": [
    {
     "data": {
      "text/plain": [
       "False"
      ]
     },
     "execution_count": 35,
     "metadata": {},
     "output_type": "execute_result"
    }
   ],
   "source": [
    "fullmatch(pattern=\"Co.a\", string=\"Co\\na\") != None"
   ]
  },
  {
   "cell_type": "code",
   "execution_count": null,
   "id": "e8c84714",
   "metadata": {},
   "outputs": [
    {
     "data": {
      "text/plain": [
       "False"
      ]
     },
     "execution_count": 36,
     "metadata": {},
     "output_type": "execute_result"
    }
   ],
   "source": [
    "# há uma nova linha como o terceiro caractere nesta string\n",
    "my_str = \"\"\"Co\n",
    "a\n",
    "\"\"\" \n",
    "\n",
    "fullmatch(pattern=\"Co.a\", string=my_str) != None"
   ]
  },
  {
   "cell_type": "markdown",
   "id": "6a84a381",
   "metadata": {},
   "source": [
    "## Curingas com Quantificadores"
   ]
  },
  {
   "cell_type": "markdown",
   "id": "128ff586",
   "metadata": {},
   "source": [
    "É comum usar curingas com quantificadores, mais comumente `.*` e `.+`.\n",
    "\n",
    "O `.*` corresponderá a 0 ou mais caracteres. Ele corresponderá a qualquer string e é a expressão regular mais ampla. Ele corresponderá até mesmo a uma string vazia."
   ]
  },
  {
   "cell_type": "code",
   "execution_count": null,
   "id": "311276bd",
   "metadata": {
    "scrolled": true
   },
   "outputs": [
    {
     "data": {
      "text/plain": [
       "True"
      ]
     },
     "execution_count": 37,
     "metadata": {},
     "output_type": "execute_result"
    }
   ],
   "source": [
    "fullmatch(pattern=\".*\", string=\"Esse regex corresponderá a qualquer coisa!\") != None"
   ]
  },
  {
   "cell_type": "code",
   "execution_count": 41,
   "id": "5ac2b4ca",
   "metadata": {},
   "outputs": [
    {
     "data": {
      "text/plain": [
       "False"
      ]
     },
     "execution_count": 41,
     "metadata": {},
     "output_type": "execute_result"
    }
   ],
   "source": [
    "fullmatch(pattern=\".*\", string=\"\") != None"
   ]
  },
  {
   "cell_type": "markdown",
   "id": "0a9cfdf9",
   "metadata": {},
   "source": [
    "É claro que, em Python, uma string vazia `\"\"` não é o mesmo que `None`, então não espere que ela corresponda a `None`. Isso gerará um erro."
   ]
  },
  {
   "cell_type": "code",
   "execution_count": 42,
   "id": "9d8d519b",
   "metadata": {
    "scrolled": true
   },
   "outputs": [
    {
     "ename": "TypeError",
     "evalue": "expected string or bytes-like object, got 'NoneType'",
     "output_type": "error",
     "traceback": [
      "\u001b[0;31m---------------------------------------------------------------------------\u001b[0m",
      "\u001b[0;31mTypeError\u001b[0m                                 Traceback (most recent call last)",
      "Cell \u001b[0;32mIn[42], line 1\u001b[0m\n\u001b[0;32m----> 1\u001b[0m \u001b[43mfullmatch\u001b[49m\u001b[43m(\u001b[49m\u001b[43mpattern\u001b[49m\u001b[38;5;241;43m=\u001b[39;49m\u001b[38;5;124;43m\"\u001b[39;49m\u001b[38;5;124;43m.*\u001b[39;49m\u001b[38;5;124;43m\"\u001b[39;49m\u001b[43m,\u001b[49m\u001b[43m \u001b[49m\u001b[43mstring\u001b[49m\u001b[38;5;241;43m=\u001b[39;49m\u001b[38;5;28;43;01mNone\u001b[39;49;00m\u001b[43m)\u001b[49m \u001b[38;5;241m!=\u001b[39m \u001b[38;5;28;01mNone\u001b[39;00m\n",
      "File \u001b[0;32m/Library/Frameworks/Python.framework/Versions/3.12/lib/python3.12/re/__init__.py:172\u001b[0m, in \u001b[0;36mfullmatch\u001b[0;34m(pattern, string, flags)\u001b[0m\n\u001b[1;32m    169\u001b[0m \u001b[38;5;28;01mdef\u001b[39;00m \u001b[38;5;21mfullmatch\u001b[39m(pattern, string, flags\u001b[38;5;241m=\u001b[39m\u001b[38;5;241m0\u001b[39m):\n\u001b[1;32m    170\u001b[0m \u001b[38;5;250m    \u001b[39m\u001b[38;5;124;03m\"\"\"Try to apply the pattern to all of the string, returning\u001b[39;00m\n\u001b[1;32m    171\u001b[0m \u001b[38;5;124;03m    a Match object, or None if no match was found.\"\"\"\u001b[39;00m\n\u001b[0;32m--> 172\u001b[0m     \u001b[38;5;28;01mreturn\u001b[39;00m \u001b[43m_compile\u001b[49m\u001b[43m(\u001b[49m\u001b[43mpattern\u001b[49m\u001b[43m,\u001b[49m\u001b[43m \u001b[49m\u001b[43mflags\u001b[49m\u001b[43m)\u001b[49m\u001b[38;5;241;43m.\u001b[39;49m\u001b[43mfullmatch\u001b[49m\u001b[43m(\u001b[49m\u001b[43mstring\u001b[49m\u001b[43m)\u001b[49m\n",
      "\u001b[0;31mTypeError\u001b[0m: expected string or bytes-like object, got 'NoneType'"
     ]
    }
   ],
   "source": [
    "fullmatch(pattern=\".*\", string=None) != None"
   ]
  },
  {
   "cell_type": "markdown",
   "id": "8b0f699d",
   "metadata": {},
   "source": [
    "Dentro de um padrão maior, ele corresponderá a 0 ou mais caracteres nessa posição. É uma maneira de expressar um curinga para qualquer número de caracteres. Se eu quisesse corresponder a strings em que as duas primeiras letras são `Co` e a última letra é `a`, independentemente do tamanho da string, eu poderia usar `.*` assim."
   ]
  },
  {
   "cell_type": "code",
   "execution_count": null,
   "id": "a6a8f902",
   "metadata": {},
   "outputs": [
    {
     "data": {
      "text/plain": [
       "True"
      ]
     },
     "execution_count": 43,
     "metadata": {},
     "output_type": "execute_result"
    }
   ],
   "source": [
    "fullmatch(pattern=\"Co.*a\", string=\"Cola\") != None"
   ]
  },
  {
   "cell_type": "code",
   "execution_count": null,
   "id": "c175f211",
   "metadata": {},
   "outputs": [
    {
     "data": {
      "text/plain": [
       "True"
      ]
     },
     "execution_count": 44,
     "metadata": {},
     "output_type": "execute_result"
    }
   ],
   "source": [
    "fullmatch(pattern=\"Co.*a\", string=\"Coa\") != None"
   ]
  },
  {
   "cell_type": "code",
   "execution_count": null,
   "id": "a610a12e",
   "metadata": {
    "scrolled": true
   },
   "outputs": [
    {
     "data": {
      "text/plain": [
       "True"
      ]
     },
     "execution_count": 45,
     "metadata": {},
     "output_type": "execute_result"
    }
   ],
   "source": [
    "fullmatch(pattern=\"Co.*a\", string=\"Conversa boa\") != None"
   ]
  },
  {
   "cell_type": "markdown",
   "id": "d0e9f267",
   "metadata": {},
   "source": [
    "O `.+` se comportará de forma semelhante a `.*`, exceto que deve haver pelo menos um caractere na string. Isso significa que ele não corresponderá a strings vazias."
   ]
  },
  {
   "cell_type": "code",
   "execution_count": null,
   "id": "41b826c9",
   "metadata": {},
   "outputs": [
    {
     "data": {
      "text/plain": [
       "True"
      ]
     },
     "execution_count": 46,
     "metadata": {},
     "output_type": "execute_result"
    }
   ],
   "source": [
    "fullmatch(pattern=\".+\", string=\"Esse regex corresponde a qualquer coisa, exceto strings vazias!\") != None"
   ]
  },
  {
   "cell_type": "code",
   "execution_count": 47,
   "id": "ede3a4eb",
   "metadata": {},
   "outputs": [
    {
     "data": {
      "text/plain": [
       "False"
      ]
     },
     "execution_count": 47,
     "metadata": {},
     "output_type": "execute_result"
    }
   ],
   "source": [
    "fullmatch(pattern=\".+\", string=\"\") != None"
   ]
  },
  {
   "cell_type": "code",
   "execution_count": null,
   "id": "c33cdfb6",
   "metadata": {},
   "outputs": [
    {
     "data": {
      "text/plain": [
       "True"
      ]
     },
     "execution_count": 48,
     "metadata": {},
     "output_type": "execute_result"
    }
   ],
   "source": [
    "fullmatch(pattern=\"Co.+a\", string=\"Cola\") != None"
   ]
  },
  {
   "cell_type": "code",
   "execution_count": null,
   "id": "9ad8ad22",
   "metadata": {},
   "outputs": [
    {
     "data": {
      "text/plain": [
       "False"
      ]
     },
     "execution_count": 50,
     "metadata": {},
     "output_type": "execute_result"
    }
   ],
   "source": [
    "fullmatch(pattern=\"Co.+a\", string=\"Coa\") != None"
   ]
  },
  {
   "cell_type": "code",
   "execution_count": null,
   "id": "d93ba111",
   "metadata": {
    "scrolled": true
   },
   "outputs": [
    {
     "data": {
      "text/plain": [
       "True"
      ]
     },
     "execution_count": 51,
     "metadata": {},
     "output_type": "execute_result"
    }
   ],
   "source": [
    "fullmatch(pattern=\"Co.+a\", string=\"Conversa boa\") != None"
   ]
  },
  {
   "cell_type": "markdown",
   "id": "35a2cba4",
   "metadata": {},
   "source": [
    "## Exercício"
   ]
  },
  {
   "cell_type": "markdown",
   "id": "f41d96c8",
   "metadata": {},
   "source": [
    "Escreva uma expressão regular que corresponda a uma string que comece com \"ALPHA\" e termine com um dígito, independentemente de haver outros caracteres entre esses dois padrões. Substitua o ponto de interrogação `?` abaixo pela expressão regular."
   ]
  },
  {
   "cell_type": "code",
   "execution_count": null,
   "id": "560094cd",
   "metadata": {},
   "outputs": [],
   "source": [
    "from re import fullmatch \n",
    "\n",
    "fullmatch(pattern=?, string=\"ALPHA,TANGO,FOXTROT 7\") != None"
   ]
  },
  {
   "cell_type": "markdown",
   "id": "0054c3b2",
   "metadata": {},
   "source": [
    "### RESPOSTA A BAIXO\n",
    "\n",
    "|<br>\n",
    "|<br>\n",
    "|<br>\n",
    "|<br>\n",
    "|<br>\n",
    "|<br>\n",
    "|<br>\n",
    "|<br>\n",
    "|<br>\n",
    "|<br>\n",
    "|<br>\n",
    "|<br>\n",
    "|<br>\n",
    "|<br>\n",
    "|<br>\n",
    "|<br>\n",
    "|<br>\n",
    "|<br>\n",
    "|<br>\n",
    "|<br>\n",
    "|<br>\n",
    "|<br>\n",
    "|<br>\n",
    "v "
   ]
  },
  {
   "cell_type": "markdown",
   "id": "9cc79d37",
   "metadata": {},
   "source": [
    "Use a expressão regular `ALPHA.*[0-9]` para corresponder a uma string que começa com `ALPHA` e termina em um dígito."
   ]
  },
  {
   "cell_type": "code",
   "execution_count": 52,
   "id": "91e12717",
   "metadata": {},
   "outputs": [
    {
     "data": {
      "text/plain": [
       "True"
      ]
     },
     "execution_count": 52,
     "metadata": {},
     "output_type": "execute_result"
    }
   ],
   "source": [
    "fullmatch(pattern=\"ALPHA.*[0-9]\", string=\"ALPHA,TANGO,FOXTROT 7\") != None"
   ]
  }
 ],
 "metadata": {
  "kernelspec": {
   "display_name": "anaconda-2024.02-py310",
   "language": "python",
   "name": "conda-env-anaconda-2024.02-py310-py"
  },
  "language_info": {
   "codemirror_mode": {
    "name": "ipython",
    "version": 3
   },
   "file_extension": ".py",
   "mimetype": "text/x-python",
   "name": "python",
   "nbconvert_exporter": "python",
   "pygments_lexer": "ipython3",
   "version": "3.10.14"
  }
 },
 "nbformat": 4,
 "nbformat_minor": 5
}
