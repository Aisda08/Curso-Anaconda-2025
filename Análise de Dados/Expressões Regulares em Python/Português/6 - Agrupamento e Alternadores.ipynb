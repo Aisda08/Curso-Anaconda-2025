{
 "cells": [
  {
   "cell_type": "markdown",
   "id": "66befb43",
   "metadata": {},
   "source": [
    "# Agrupamento e Alternadores"
   ]
  },
  {
   "cell_type": "markdown",
   "id": "e7465eef",
   "metadata": {},
   "source": [
    "Aprenderemos como agrupar diferentes padrões usando parênteses, usar alternadores para alternar entre diferentes padrões, bem como usar prefixos e sufixos."
   ]
  },
  {
   "cell_type": "markdown",
   "id": "7f732a26",
   "metadata": {},
   "source": [
    "## Agrupamento"
   ]
  },
  {
   "cell_type": "markdown",
   "id": "0534102d",
   "metadata": {},
   "source": [
    "Você já deve ter sentido a necessidade de quantificar uma série inteira de padrões em uma expressão regular, e não apenas um. Por exemplo, digamos que você queira corresponder às palavras \"Real\" e \"Realidade\". Poderíamos agrupar os literais `idade` entre parênteses com um quantificador opcional `(idade)?`."
   ]
  },
  {
   "cell_type": "code",
   "execution_count": null,
   "id": "b162322d",
   "metadata": {},
   "outputs": [],
   "source": [
    "from re import fullmatch\n",
    "\n",
    "fullmatch(pattern=\"Real(idade)?\", string=\"Real\") != None"
   ]
  },
  {
   "cell_type": "code",
   "execution_count": null,
   "id": "57c60b02",
   "metadata": {},
   "outputs": [],
   "source": [
    "fullmatch(pattern=\"Real(idade)?\", string=\"Realidade\") != None"
   ]
  },
  {
   "cell_type": "code",
   "execution_count": null,
   "id": "2e87e325",
   "metadata": {},
   "outputs": [],
   "source": [
    "fullmatch(pattern=\"Real(idade)?\", string=\"Realização\") != None"
   ]
  },
  {
   "cell_type": "markdown",
   "id": "0013253a",
   "metadata": {},
   "source": [
    "E se quiséssemos corresponder a qualquer sequência de uma letra alfabética seguida por um dígito, mas repetir esse padrão um número indefinido de vezes? Podemos fazer isso usando parênteses seguidos de `+` para quantificar essa expressão uma ou mais vezes."
   ]
  },
  {
   "cell_type": "code",
   "execution_count": null,
   "id": "7785977c",
   "metadata": {},
   "outputs": [],
   "source": [
    "fullmatch(pattern=\"([A-Z][0-9])+\", string=\"A2\") != None"
   ]
  },
  {
   "cell_type": "code",
   "execution_count": null,
   "id": "c8d7b7f6",
   "metadata": {},
   "outputs": [],
   "source": [
    "fullmatch(pattern=\"([A-Z][0-9])+\", string=\"F4W9F3W6\") != None"
   ]
  },
  {
   "cell_type": "markdown",
   "id": "748613ee",
   "metadata": {},
   "source": [
    "Aqui está um exemplo final de correspondência de um número de telefone dos EUA com 10 dígitos com hifens opcionais, sendo o DDD (os três primeiros dígitos) opcional."
   ]
  },
  {
   "cell_type": "code",
   "execution_count": null,
   "id": "9cf66ffc",
   "metadata": {},
   "outputs": [],
   "source": [
    "fullmatch(pattern=\"([0-9]{3}-?)?[0-9]{3}-?[0-9]{4}\", string=\"4803718745\") != None"
   ]
  },
  {
   "cell_type": "code",
   "execution_count": null,
   "id": "b93ee691",
   "metadata": {},
   "outputs": [],
   "source": [
    "fullmatch(pattern=\"([0-9]{3}-?)?[0-9]{3}-?[0-9]{4}\", string=\"371-8745\") != None"
   ]
  },
  {
   "cell_type": "code",
   "execution_count": null,
   "id": "18ef5d84",
   "metadata": {},
   "outputs": [],
   "source": [
    "fullmatch(pattern=\"([0-9]{3}-?)?[0-9]{3}-?[0-9]{4}\", string=\"480-371-8745\") != None"
   ]
  },
  {
   "cell_type": "markdown",
   "id": "16f93e74",
   "metadata": {},
   "source": [
    "Lembre-se de sempre ler uma expressão regular da esquerda para a direita e preste atenção aos agrupamentos de padrões entre parênteses para perceber que um quantificador provavelmente seguirá a sequência inteira de padrões."
   ]
  },
  {
   "cell_type": "markdown",
   "id": "f5777f40",
   "metadata": {},
   "source": [
    "## Alternadores"
   ]
  },
  {
   "cell_type": "markdown",
   "id": "7ca69c9f",
   "metadata": {},
   "source": [
    "Outro operador útil é o alternador `|`, que nos permite alternar entre dois padrões. Pense nele como um `OR` em uma expressão regular. Abaixo, combinamos strings literais simples \"ALPHA\", \"BETA\", \"GAMMA\" e \"DELTA\" usando o alternador `|`. A expressão regular corresponderá apenas a essas quatro strings."
   ]
  },
  {
   "cell_type": "code",
   "execution_count": null,
   "id": "1fe4a3cd",
   "metadata": {},
   "outputs": [],
   "source": [
    "fullmatch(pattern=\"ALPHA|BETA|GAMMA|DELTA\", string=\"ALPHA\") != None"
   ]
  },
  {
   "cell_type": "code",
   "execution_count": null,
   "id": "b1297e55",
   "metadata": {},
   "outputs": [],
   "source": [
    "fullmatch(pattern=\"ALPHA|BETA|GAMMA|DELTA\", string=\"DELTA\") != None"
   ]
  },
  {
   "cell_type": "code",
   "execution_count": null,
   "id": "202e0583",
   "metadata": {},
   "outputs": [],
   "source": [
    "fullmatch(pattern=\"ALPHA|BETA|GAMMA|DELTA\", string=\"EPSILON\") != None"
   ]
  },
  {
   "cell_type": "markdown",
   "id": "4c115cc8",
   "metadata": {},
   "source": [
    "Aqui está outro exemplo em que combinamos qualquer string seguida por dois dígitos ou \"ZZ\", um hífen e, em seguida, a string \"FOXTROT\"."
   ]
  },
  {
   "cell_type": "code",
   "execution_count": null,
   "id": "2ef77947",
   "metadata": {},
   "outputs": [],
   "source": [
    "fullmatch(pattern=\"([0-9]{2}|ZZ)-FOXTROT\", string=\"12-FOXTROT\") != None"
   ]
  },
  {
   "cell_type": "code",
   "execution_count": null,
   "id": "e8781411",
   "metadata": {},
   "outputs": [],
   "source": [
    "fullmatch(pattern=\"([0-9]{2}|ZZ)-FOXTROT\", string=\"ZZ-FOXTROT\") != None"
   ]
  },
  {
   "cell_type": "markdown",
   "id": "10d91317",
   "metadata": {},
   "source": [
    "Você verá que alternadores são frequentemente usados ​​dentro de um grupo porque é comum alternar entre dois ou mais padrões em um determinado ponto da expressão regular."
   ]
  },
  {
   "cell_type": "markdown",
   "id": "78199dfe",
   "metadata": {},
   "source": [
    "## Prefixo e Sufixo"
   ]
  },
  {
   "cell_type": "markdown",
   "id": "97f70adc",
   "metadata": {},
   "source": [
    "Especialmente ao digitalizar documentos, pode ser útil capturar um padrão de expressão regular, mas não incluir uma parte específica do padrão. É aqui que prefixos e sufixos podem ser úteis.\n",
    "\n",
    "Digamos que eu queira corresponder a uma sequência de dígitos, mas somente se eles forem precedidos por uma letra maiúscula. Eu especificaria a letra maiúscula dentro de um prefixo `(?<=[A-Z])`, que não seria retornado. No entanto, o `[0-9]+` que o segue seria, mas somente se esse prefixo fosse encontrado."
   ]
  },
  {
   "cell_type": "code",
   "execution_count": null,
   "id": "59886f49",
   "metadata": {
    "scrolled": true
   },
   "outputs": [],
   "source": [
    "from re import search\n",
    "\n",
    "result = search(pattern=\"(?<=[A-Z])[0-9]+\", string=\"A23\")\n",
    "if result: \n",
    "    print(result[0])\n",
    "else:\n",
    "    print(\"Não Correspondeu!\")"
   ]
  },
  {
   "cell_type": "code",
   "execution_count": null,
   "id": "69cb4470",
   "metadata": {},
   "outputs": [],
   "source": [
    "result = search(pattern=\"(?<=[A-Z])[0-9]+\", string=\"23\")\n",
    "if result: \n",
    "    print(result[0])\n",
    "else:\n",
    "    print(\"Não Correspondeu!\")"
   ]
  },
  {
   "cell_type": "markdown",
   "id": "1e8bbd1a",
   "metadata": {},
   "source": [
    "Observe como o `23` é o único resultado retornado, mesmo que ele qualifique a letra maiúscula que o precede. O `?<=` que inicia um grupo `(?<=` é o que define um prefixo (também chamado de look-behind), e tudo o que o segue é o padrão de prefixo.\n",
    "\n",
    "Você também pode usar um sufixo para fazer um look-ahead, qualificando um padrão que está à frente, mas não o incluindo. Abaixo, eu correspondo uma sequência de dígitos, mas somente se eles forem seguidos por uma letra maiúscula."
   ]
  },
  {
   "cell_type": "code",
   "execution_count": null,
   "id": "1c371730",
   "metadata": {},
   "outputs": [],
   "source": [
    "result = search(pattern=\"[0-9]+(?=[A-Z])\", string=\"23\")\n",
    "if result: \n",
    "    print(result[0])\n",
    "else:\n",
    "    print(\"Não Correspondeu!\")"
   ]
  },
  {
   "cell_type": "code",
   "execution_count": null,
   "id": "d3337b1c",
   "metadata": {},
   "outputs": [],
   "source": [
    "result = search(pattern=\"[0-9]+(?=[A-Z])\", string=\"23L\")\n",
    "if result: \n",
    "    print(result[0])\n",
    "else:\n",
    "    print(\"Não Correspondeu!\")"
   ]
  },
  {
   "cell_type": "markdown",
   "id": "0c17ae54",
   "metadata": {},
   "source": [
    "Como aprenderemos, prefixos e sufixos podem ser úteis na divisão de strings com base em padrões mais complexos. A desvantagem do prefixo e do sufixo é que eles podem ficar confusos quando você não usa padrões de largura fixa. Portanto, não espere que a implementação de expressões regulares em Python permita quantificadores em prefixos e sufixos."
   ]
  },
  {
   "cell_type": "markdown",
   "id": "40c10519",
   "metadata": {},
   "source": [
    "## Exercício"
   ]
  },
  {
   "cell_type": "markdown",
   "id": "03d5e59d",
   "metadata": {},
   "source": [
    "Escreva uma expressão regular que corresponda a um código postal dos Estados Unidos, com 5 dígitos, seguidos de um hífen opcional e, em seguida, uma sequência de 4 dígitos.\n",
    "\n",
    "Substitua o ponto de interrogação `?` abaixo."
   ]
  },
  {
   "cell_type": "code",
   "execution_count": null,
   "id": "0c90fd6c",
   "metadata": {},
   "outputs": [],
   "source": [
    "fullmatch(pattern=?, string=\"75035-3821\") != None"
   ]
  },
  {
   "cell_type": "markdown",
   "id": "c6baaad9",
   "metadata": {},
   "source": [
    "### RESPOSTA A BAIXO\n",
    "\n",
    "|<br>\n",
    "|<br>\n",
    "|<br>\n",
    "|<br>\n",
    "|<br>\n",
    "|<br>\n",
    "|<br>\n",
    "|<br>\n",
    "|<br>\n",
    "|<br>\n",
    "|<br>\n",
    "|<br>\n",
    "|<br>\n",
    "|<br>\n",
    "|<br>\n",
    "|<br>\n",
    "|<br>\n",
    "|<br>\n",
    "|<br>\n",
    "|<br>\n",
    "|<br>\n",
    "|<br>\n",
    "|<br>\n",
    "v "
   ]
  },
  {
   "cell_type": "code",
   "execution_count": null,
   "id": "e3cecee2",
   "metadata": {
    "scrolled": true
   },
   "outputs": [],
   "source": [
    "fullmatch(pattern=\"[0-9]{5}(-[0-9]{4})?\", string=\"75035-3821\") != None"
   ]
  },
  {
   "cell_type": "code",
   "execution_count": null,
   "id": "f9f4d16b",
   "metadata": {
    "scrolled": true
   },
   "outputs": [],
   "source": [
    "fullmatch(pattern=\"[0-9]{5}(-[0-9]{4})?\", string=\"75035\") != None"
   ]
  }
 ],
 "metadata": {
  "kernelspec": {
   "display_name": "anaconda-2024.02-py310",
   "language": "python",
   "name": "conda-env-anaconda-2024.02-py310-py"
  },
  "language_info": {
   "codemirror_mode": {
    "name": "ipython",
    "version": 3
   },
   "file_extension": ".py",
   "mimetype": "text/x-python",
   "name": "python",
   "nbconvert_exporter": "python",
   "pygments_lexer": "ipython3",
   "version": "3.10.14"
  }
 },
 "nbformat": 4,
 "nbformat_minor": 5
}
