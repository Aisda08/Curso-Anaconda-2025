{
 "cells": [
  {
   "cell_type": "markdown",
   "id": "0adc9994",
   "metadata": {},
   "source": [
    "# Pesquisando, Dividindo e Substituindo Texto"
   ]
  },
  {
   "cell_type": "markdown",
   "id": "18d5d341",
   "metadata": {},
   "source": [
    "Nas seções anteriores, dominamos os fundamentos das expressões regulares. Agora, vamos ver como podemos usar esse conhecimento para realizar algumas tarefas comuns."
   ]
  },
  {
   "cell_type": "markdown",
   "id": "56474e4a",
   "metadata": {},
   "source": [
    "## Compilando uma Regex"
   ]
  },
  {
   "cell_type": "markdown",
   "id": "fa7ae928",
   "metadata": {},
   "source": [
    "Anteriormente, usávamos funções abreviadas como `match`, `fullmatch` e `search` do pacote `re`. Embora sejam adequadas para correspondências pontuais, haverá situações em que você desejará reutilizar uma expressão regular. Uma expressão regular, na verdade, precisa ser compilada como um miniprograma, o que significa que pode ser caro configurá-la e usá-la. É por isso que, quando você pretende usar uma expressão regular várias vezes, é necessário compilá-la e salvá-la.\n",
    "\n",
    "Abaixo, compilamos uma expressão regular que procura sites que podem ser `http` ou `https` e terminar com `.com`, `.org` ou `.gov`."
   ]
  },
  {
   "cell_type": "code",
   "execution_count": null,
   "id": "e542551a",
   "metadata": {},
   "outputs": [],
   "source": [
    "import re\n",
    "\n",
    "web_pattern = re.compile(r'(https?://)?(www\\.)?([a-z0-9]+)\\.(com|org|gov)')"
   ]
  },
  {
   "cell_type": "markdown",
   "id": "2841b136",
   "metadata": {},
   "source": [
    "Agora podemos usar este objeto `Pattern` compilado e reutilizável para várias tarefas. Podemos, por exemplo, passá-lo para um argumento `pattern` no lugar de uma string. Dessa forma, `fullmatch` não perderá tempo compilando."
   ]
  },
  {
   "cell_type": "code",
   "execution_count": null,
   "id": "01f5c30d",
   "metadata": {},
   "outputs": [],
   "source": [
    "re.fullmatch(pattern=web_pattern, string=\"https://www.anaconda.com\") != None "
   ]
  },
  {
   "cell_type": "markdown",
   "id": "9ab838a4",
   "metadata": {},
   "source": [
    "## Escaneando um Documento"
   ]
  },
  {
   "cell_type": "markdown",
   "id": "390f3875",
   "metadata": {},
   "source": [
    "Se importarmos um documento para uma string, podemos usar a função `finditer()` em um objeto `Pattern` para encontrar vários [objetos `Match`](https://docs.python.org/3/library/re.html#re.Match) nesse documento. Podemos pegar esses resultados e iterá-los em um loop `for`."
   ]
  },
  {
   "cell_type": "code",
   "execution_count": null,
   "id": "49533579",
   "metadata": {},
   "outputs": [],
   "source": [
    "urls = \"\"\"\n",
    "Aqui estão alguns sites:\n",
    "\n",
    "https://www.yawmanflight.com\n",
    "http://microsoft.com\n",
    "https://youtube.com\n",
    "https://www.anaconda.com\n",
    "\n",
    "Estes são sites não comerciais:\n",
    "https://www.python.org\n",
    "https://whitehouse.gov \n",
    "\"\"\"\n",
    "\n",
    "matches = web_pattern.finditer(urls)\n",
    "\n",
    "for match in matches:\n",
    "    print(match[0])\n",
    "\n"
   ]
  },
  {
   "cell_type": "markdown",
   "id": "919aebee",
   "metadata": {},
   "source": [
    "Algo interessante é que `match[0]` retornará a correspondência completa. Mas os índices posteriores retornarão a correspondência do grupo indexada por cada par de parênteses `( )`. Por exemplo, o quarto grupo de parênteses `(com|org|gov)` em nosso padrão retornará esse domínio web. Podemos acessá-lo usando `match[4]`."
   ]
  },
  {
   "cell_type": "code",
   "execution_count": null,
   "id": "80c1164c",
   "metadata": {},
   "outputs": [],
   "source": [
    "matches = web_pattern.finditer(urls)\n",
    "\n",
    "for match in matches:\n",
    "    print(match[4])"
   ]
  },
  {
   "cell_type": "markdown",
   "id": "e3b7464b",
   "metadata": {},
   "source": [
    "Leia mais na [documentação do objeto Match](https://docs.python.org/3/library/re.html#re.Match) para saber mais sobre outros métodos disponíveis."
   ]
  },
  {
   "cell_type": "markdown",
   "id": "f158c6b9",
   "metadata": {},
   "source": [
    "## Divisão"
   ]
  },
  {
   "cell_type": "markdown",
   "id": "737e7f4c",
   "metadata": {},
   "source": [
    "Expressões regulares podem oferecer alguns recursos interessantes quando se trata de dividir dados.\n",
    "\n",
    "Vamos carregar o famoso conjunto de dados Iris de aprendizado de máquina. Embora normalmente usemos o Pandas para carregar dados tabulares (que discutiremos na próxima seção), vamos aprender alguns truques do zero."
   ]
  },
  {
   "cell_type": "code",
   "execution_count": null,
   "id": "2b6aec16",
   "metadata": {},
   "outputs": [],
   "source": [
    "import urllib.request\n",
    "\n",
    "urllib.request.urlretrieve(\n",
    "    r\"https://raw.githubusercontent.com/thomasnield/machine-learning-demo-data/master/classification/iris.csv\",\n",
    "    \"iris.csv\"\n",
    ")\n",
    "\n",
    "filename = 'iris.csv' \n",
    "file = open(filename, encoding=\"utf-8\")\n",
    "text = file.read()\n",
    "file.close()\n",
    "print(text)"
   ]
  },
  {
   "cell_type": "markdown",
   "id": "9b9ca7d0",
   "metadata": {},
   "source": [
    "Então, carregamos todo o conjunto de dados em uma única string `text`. É comum dividir em novas linhas seguidas por valores separados por vírgula para cada linha."
   ]
  },
  {
   "cell_type": "code",
   "execution_count": null,
   "id": "646df1a5",
   "metadata": {},
   "outputs": [],
   "source": [
    "for row in text.split(\"\\n\"):\n",
    "    print(row.split(\",\"))"
   ]
  },
  {
   "cell_type": "markdown",
   "id": "95799417",
   "metadata": {},
   "source": [
    "Mas e se quiséssemos separar apenas a última coluna com as espécies? Existe a oportunidade de usar uma expressão regular como separador. Podemos usar `,` seguido por um sufixo `(?=[a-z]+$)` para corresponder apenas a vírgulas seguidas por caracteres alfabéticos minúsculos `[a-z]+` e, em seguida, um `$` de fim de string."
   ]
  },
  {
   "cell_type": "code",
   "execution_count": null,
   "id": "984b2469",
   "metadata": {},
   "outputs": [],
   "source": [
    "split_pattern = re.compile(r\",(?=[a-z]+$)\")\n",
    "\n",
    "for row in text.split(\"\\n\"):\n",
    "    print(re.split(split_pattern, row))"
   ]
  },
  {
   "cell_type": "markdown",
   "id": "4fda9596",
   "metadata": {},
   "source": [
    "Perfeito! Com expressões regulares, você pode dividir strings em separadores muito mais elaborados e orientados por contexto."
   ]
  },
  {
   "cell_type": "markdown",
   "id": "6762d075",
   "metadata": {},
   "source": [
    "## Substituindo"
   ]
  },
  {
   "cell_type": "markdown",
   "id": "7e960fdf",
   "metadata": {},
   "source": [
    "Vamos retornar ao nosso exemplo anterior com os sites."
   ]
  },
  {
   "cell_type": "code",
   "execution_count": null,
   "id": "3cb610d0",
   "metadata": {},
   "outputs": [],
   "source": [
    "urls = \"\"\"\n",
    "Aqui estão alguns sites: \n",
    "\n",
    "https://www.yawmanflight.com\n",
    "http://microsoft.com\n",
    "https://youtube.com\n",
    "https://www.anaconda.com\n",
    "\n",
    "Estes são sites não comerciais:\n",
    "https://www.python.org\n",
    "https://whitehouse.gov \n",
    "\"\"\"\n",
    "\n",
    "matches = web_pattern.finditer(urls)\n",
    "\n",
    "for match in matches:\n",
    "    print(match[0])"
   ]
  },
  {
   "cell_type": "markdown",
   "id": "6bc51194",
   "metadata": {},
   "source": [
    "Digamos que queremos limpar o documento e substituir `http` por `https`. Obviamente, não queremos substituir o `http` que já existe em strings `https` existentes, portanto, garantiremos que ele não seja seguido por um \"s\". Isso pode ser feito usando um sufixo `(?=[^s])`."
   ]
  },
  {
   "cell_type": "code",
   "execution_count": null,
   "id": "2cccc048",
   "metadata": {},
   "outputs": [],
   "source": [
    "fix_https = re.sub(pattern=\"http(?=[^s])\", \n",
    "                   repl=\"https\", \n",
    "                   string=urls)\n",
    "print(fix_https)"
   ]
  },
  {
   "cell_type": "markdown",
   "id": "eed9f26e",
   "metadata": {},
   "source": [
    "Observe que existem [parâmetros adicionais](https://docs.python.org/3/library/re.html#re.sub) para sinalizadores, bem como o `count`, que é o número máximo de substituições a serem feitas.\n",
    "\n",
    "Agora, digamos que queremos injetar um `www.` onde ele está ausente. Para isso, precisamos do que chamamos de **look ahead negativo**, que é um sufixo que *não queremos que corresponda* para se qualificar. Qualificaremos duas barras `//` que não são seguidas por `www.`, que podem ser expressas como `(?!www)`."
   ]
  },
  {
   "cell_type": "code",
   "execution_count": null,
   "id": "97bec510",
   "metadata": {},
   "outputs": [],
   "source": [
    "fix_www = re.sub(pattern=\"//(?!www)\", \n",
    "                   repl=\"//www.\", \n",
    "                   string=fix_https)\n",
    "print(fix_www)"
   ]
  },
  {
   "cell_type": "markdown",
   "id": "537be6e8",
   "metadata": {},
   "source": [
    "## Exercício"
   ]
  },
  {
   "cell_type": "markdown",
   "id": "cc4e29a9",
   "metadata": {},
   "source": [
    "Divida a string abaixo para separar por vírgulas, mas somente se as vírgulas existirem entre dois dígitos. Substitua o ponto de interrogação `?` pela expressão regular abaixo."
   ]
  },
  {
   "cell_type": "code",
   "execution_count": null,
   "id": "023186bb",
   "metadata": {},
   "outputs": [],
   "source": [
    "import re\n",
    "\n",
    "split_pattern = re.compile(?)\n",
    "\n",
    "re.split(pattern=split_pattern, string=\"6.1,2.9,4.7,1.4,versicolor\")"
   ]
  },
  {
   "cell_type": "markdown",
   "id": "e361632e",
   "metadata": {},
   "source": [
    "### RESPOSTA A BAIXO\n",
    "\n",
    "|<br>\n",
    "|<br>\n",
    "|<br>\n",
    "|<br>\n",
    "|<br>\n",
    "|<br>\n",
    "|<br>\n",
    "|<br>\n",
    "|<br>\n",
    "|<br>\n",
    "|<br>\n",
    "|<br>\n",
    "|<br>\n",
    "|<br>\n",
    "|<br>\n",
    "|<br>\n",
    "|<br>\n",
    "|<br>\n",
    "|<br>\n",
    "|<br>\n",
    "|<br>\n",
    "|<br>\n",
    "|<br>\n",
    "v "
   ]
  },
  {
   "cell_type": "code",
   "execution_count": null,
   "id": "fb013959",
   "metadata": {},
   "outputs": [],
   "source": [
    "import re\n",
    "\n",
    "split_pattern = re.compile(\"(?<=[0-9]),(?=[0-9])\")\n",
    "\n",
    "re.split(pattern=split_pattern, string=\"6.1,2.9,4.7,1.4,versicolor\")"
   ]
  }
 ],
 "metadata": {
  "kernelspec": {
   "display_name": "Python 3",
   "language": "python",
   "name": "python3"
  },
  "language_info": {
   "codemirror_mode": {
    "name": "ipython",
    "version": 3
   },
   "file_extension": ".py",
   "mimetype": "text/x-python",
   "name": "python",
   "nbconvert_exporter": "python",
   "pygments_lexer": "ipython3",
   "version": "3.10.0"
  }
 },
 "nbformat": 4,
 "nbformat_minor": 5
}
