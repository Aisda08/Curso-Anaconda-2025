{
 "cells": [
  {
   "cell_type": "markdown",
   "id": "33ebe6c8",
   "metadata": {},
   "source": [
    "## Início e Fim de Linhas e Strings"
   ]
  },
  {
   "cell_type": "markdown",
   "id": "9ea5278f",
   "metadata": {},
   "source": [
    "Aprenderemos como qualificar o início e o fim de linhas e strings, que são chamadas de **âncoras**. Ao longo do caminho, entenderemos as nuances entre correspondências completas e parciais, e como as âncoras também podem ajudar nisso."
   ]
  },
  {
   "cell_type": "markdown",
   "id": "b4cf193f",
   "metadata": {},
   "source": [
    "## Full Match contra Match"
   ]
  },
  {
   "cell_type": "markdown",
   "id": "f60965bc",
   "metadata": {},
   "source": [
    "Vamos usar as funções `match()`, `search()` e `fullmatch()` da biblioteca de expressões regulares `re`."
   ]
  },
  {
   "cell_type": "code",
   "execution_count": 1,
   "id": "38f07f81",
   "metadata": {},
   "outputs": [],
   "source": [
    "from re import match, search, fullmatch"
   ]
  },
  {
   "cell_type": "markdown",
   "id": "4f2fc739",
   "metadata": {},
   "source": [
    "### fullmatch()"
   ]
  },
  {
   "cell_type": "markdown",
   "id": "e6efed26",
   "metadata": {},
   "source": [
    "Aprendemos como fazer uma correspondência completa usando a função `fullmatch()`. A expressão regular `[0-9][A-Z]` abaixo não corresponderá a `5BA` porque a string contém um caractere estranho."
   ]
  },
  {
   "cell_type": "code",
   "execution_count": 2,
   "id": "e128ec93",
   "metadata": {},
   "outputs": [
    {
     "data": {
      "text/plain": [
       "False"
      ]
     },
     "execution_count": 2,
     "metadata": {},
     "output_type": "execute_result"
    }
   ],
   "source": [
    "fullmatch(pattern=\"[0-9][A-Z]\", string=\"5BA\") != None"
   ]
  },
  {
   "cell_type": "markdown",
   "id": "08e85716",
   "metadata": {},
   "source": [
    "### match()"
   ]
  },
  {
   "cell_type": "markdown",
   "id": "db2435b2",
   "metadata": {},
   "source": [
    "Mas o que acontece se usarmos a função `match()`?"
   ]
  },
  {
   "cell_type": "code",
   "execution_count": 3,
   "id": "b0acaa2f",
   "metadata": {},
   "outputs": [
    {
     "data": {
      "text/plain": [
       "True"
      ]
     },
     "execution_count": 3,
     "metadata": {},
     "output_type": "execute_result"
    }
   ],
   "source": [
    "match(pattern=\"[0-9][A-Z]\", string=\"5BA\") != None"
   ]
  },
  {
   "cell_type": "markdown",
   "id": "8912dbdd",
   "metadata": {},
   "source": [
    "Curiosamente, agora corresponde. Deve ser porque funciona com correspondências parciais e encontrou `5B`. E se dermos a ela uma string `A5B`? Ela deveria corresponder a `5B` se corresponder parcialmente?"
   ]
  },
  {
   "cell_type": "code",
   "execution_count": 4,
   "id": "b133d0a2",
   "metadata": {},
   "outputs": [
    {
     "data": {
      "text/plain": [
       "False"
      ]
     },
     "execution_count": 4,
     "metadata": {},
     "output_type": "execute_result"
    }
   ],
   "source": [
    "match(pattern=\"[0-9][A-Z]\", string=\"A5B\") != None"
   ]
  },
  {
   "cell_type": "markdown",
   "id": "6ffac689",
   "metadata": {},
   "source": [
    "Espere, isso não funciona. O motivo é que `match()` só fará correspondências parciais no início da string. Se você pretende encontrar uma correspondência parcial *em qualquer lugar* da string, precisa usar `search()`."
   ]
  },
  {
   "cell_type": "markdown",
   "id": "3e69ffd5",
   "metadata": {},
   "source": [
    "### search()"
   ]
  },
  {
   "cell_type": "markdown",
   "id": "4b38f30e",
   "metadata": {},
   "source": [
    "Se você pensou que `match()` retornaria uma correspondência parcial em qualquer lugar da string em vez de apenas no início, provavelmente você queria usar `search()`. Não confunda os dois, e na prática é muito mais provável que você use `search()`."
   ]
  },
  {
   "cell_type": "code",
   "execution_count": 7,
   "id": "c24d082e",
   "metadata": {},
   "outputs": [
    {
     "data": {
      "text/plain": [
       "True"
      ]
     },
     "execution_count": 7,
     "metadata": {},
     "output_type": "execute_result"
    }
   ],
   "source": [
    "search(pattern=\"[0-9][A-Z]\", string=\"A5B\") != None"
   ]
  },
  {
   "cell_type": "markdown",
   "id": "0ca9ff60",
   "metadata": {},
   "source": [
    "Portanto, use `search()` quando pretende procurar correspondências parciais *em qualquer lugar* da string. Você também pode qualificar o *início da string* `^` para obter o mesmo resultado que `match()` usando o `search()`. Aprenderemos sobre o *início da string* e o *fim da string* a seguir."
   ]
  },
  {
   "cell_type": "code",
   "execution_count": 8,
   "id": "42288c66",
   "metadata": {},
   "outputs": [
    {
     "data": {
      "text/plain": [
       "False"
      ]
     },
     "execution_count": 8,
     "metadata": {},
     "output_type": "execute_result"
    }
   ],
   "source": [
    "search(pattern=\"^[0-9][A-Z]\", string=\"A5B\") != None"
   ]
  },
  {
   "cell_type": "code",
   "execution_count": 9,
   "id": "012a8689",
   "metadata": {},
   "outputs": [
    {
     "data": {
      "text/plain": [
       "True"
      ]
     },
     "execution_count": 9,
     "metadata": {},
     "output_type": "execute_result"
    }
   ],
   "source": [
    "search(pattern=\"^[0-9][A-Z]\", string=\"5BA\") != None"
   ]
  },
  {
   "cell_type": "markdown",
   "id": "7267224a",
   "metadata": {},
   "source": [
    "## Início de String e Linha"
   ]
  },
  {
   "cell_type": "markdown",
   "id": "3963935e",
   "metadata": {},
   "source": [
    "Como vimos no exemplo anterior, podemos qualificar um *início de string* usando o operador circunflexo `^`. Logicamente, é mais comum usar esse operador no início de uma expressão regular. Se eu quisesse corresponder apenas a um dígito que é o primeiro caractere de uma string, usaria a expressão regular `^[0-9]`."
   ]
  },
  {
   "cell_type": "code",
   "execution_count": 10,
   "id": "222dad49",
   "metadata": {},
   "outputs": [
    {
     "data": {
      "text/plain": [
       "True"
      ]
     },
     "execution_count": 10,
     "metadata": {},
     "output_type": "execute_result"
    }
   ],
   "source": [
    "search(pattern=\"^[0-9]\", string=\"7 Apple Macbooks\") != None"
   ]
  },
  {
   "cell_type": "code",
   "execution_count": 11,
   "id": "b3b321f7",
   "metadata": {},
   "outputs": [
    {
     "data": {
      "text/plain": [
       "False"
      ]
     },
     "execution_count": 11,
     "metadata": {},
     "output_type": "execute_result"
    }
   ],
   "source": [
    "search(pattern=\"^[0-9]\", string=\"iPhone 8\") != None"
   ]
  },
  {
   "cell_type": "markdown",
   "id": "eda88882",
   "metadata": {},
   "source": [
    "Quando você tem várias linhas em sua string, pode ser interessante alterar o comportamento de `^` para que ele qualifique o início de uma linha em vez do início de uma string. Você pode usar a flag `re.MULTILINE` para fazer isso."
   ]
  },
  {
   "cell_type": "code",
   "execution_count": 13,
   "id": "567b2324",
   "metadata": {},
   "outputs": [
    {
     "data": {
      "text/plain": [
       "'7'"
      ]
     },
     "execution_count": 13,
     "metadata": {},
     "output_type": "execute_result"
    }
   ],
   "source": [
    "import re \n",
    "\n",
    "receipt = \"\"\"\n",
    "7 Apple Macbooks\n",
    "iPhone 8\n",
    "3 iPad Airs\n",
    "\"\"\"\n",
    "\n",
    "search(pattern=\"^[0-9]\", string=receipt, flags=re.MULTILINE) != None"
   ]
  },
  {
   "cell_type": "markdown",
   "id": "7ad38d87",
   "metadata": {},
   "source": [
    "Acima, houve duas correspondências, então ele se qualifica apenas como verdadeiro. Você pode estar se perguntando como podemos retornar várias correspondências parciais de um documento ou string de várias linhas. Aprenderemos como fazer isso em uma seção posterior.\n",
    "\n",
    "O exemplo abaixo não resultará em nenhuma correspondência, pois nenhuma linha começa com um dígito."
   ]
  },
  {
   "cell_type": "code",
   "execution_count": 14,
   "id": "cb0f81bd",
   "metadata": {
    "scrolled": true
   },
   "outputs": [
    {
     "data": {
      "text/plain": [
       "False"
      ]
     },
     "execution_count": 14,
     "metadata": {},
     "output_type": "execute_result"
    }
   ],
   "source": [
    "receipt = \"\"\"\n",
    "Apple Macbook Air \n",
    "iPhone 8\n",
    "iPad Mini 3\n",
    "\"\"\"\n",
    "\n",
    "search(pattern=\"^[0-9]\", string=receipt, flags=re.MULTILINE) != None"
   ]
  },
  {
   "cell_type": "markdown",
   "id": "f41b1279",
   "metadata": {},
   "source": [
    "## Fim de String e Linha"
   ]
  },
  {
   "cell_type": "markdown",
   "id": "6179a7fa",
   "metadata": {},
   "source": [
    "Você também pode qualificar o final de uma string ou linha de maneira semelhante usando o `$`. Logicamente, ele será colocado no final da sua expressão regular, e não no início, pois corresponde ao final da string."
   ]
  },
  {
   "cell_type": "code",
   "execution_count": 15,
   "id": "251f74cf",
   "metadata": {},
   "outputs": [
    {
     "data": {
      "text/plain": [
       "True"
      ]
     },
     "execution_count": 15,
     "metadata": {},
     "output_type": "execute_result"
    }
   ],
   "source": [
    "search(pattern=\"[0-9]$\", string=\"iPhone 8\") != None"
   ]
  },
  {
   "cell_type": "code",
   "execution_count": 16,
   "id": "181bf4ef",
   "metadata": {},
   "outputs": [
    {
     "data": {
      "text/plain": [
       "False"
      ]
     },
     "execution_count": 16,
     "metadata": {},
     "output_type": "execute_result"
    }
   ],
   "source": [
    "search(pattern=\"[0-9]$\", string=\"7 Apple Macbooks\") != None"
   ]
  },
  {
   "cell_type": "markdown",
   "id": "c7c7097c",
   "metadata": {},
   "source": [
    "Também podemos corresponder dígitos no final da linha, em vez do final da string, usando `re.MULTILINE`."
   ]
  },
  {
   "cell_type": "code",
   "execution_count": 17,
   "id": "d694b1d2",
   "metadata": {},
   "outputs": [
    {
     "data": {
      "text/plain": [
       "True"
      ]
     },
     "execution_count": 17,
     "metadata": {},
     "output_type": "execute_result"
    }
   ],
   "source": [
    "receipt = \"\"\"\n",
    "Apple Macbook Air \n",
    "iPhone 8\n",
    "iPad Mini 3\n",
    "\"\"\"\n",
    "\n",
    "search(pattern=\"[0-9]$\", string=receipt, flags=re.MULTILINE) != None"
   ]
  },
  {
   "cell_type": "code",
   "execution_count": 18,
   "id": "bbd20d21",
   "metadata": {},
   "outputs": [
    {
     "data": {
      "text/plain": [
       "False"
      ]
     },
     "execution_count": 18,
     "metadata": {},
     "output_type": "execute_result"
    }
   ],
   "source": [
    "import re \n",
    "\n",
    "receipt = \"\"\"\n",
    "7 Apple Macbooks\n",
    "3 iPad Airs\n",
    "\"\"\"\n",
    "\n",
    "search(pattern=\"[0-9]$\", string=receipt, flags=re.MULTILINE) != None"
   ]
  },
  {
   "cell_type": "markdown",
   "id": "0eaded23",
   "metadata": {},
   "source": [
    "## Forçando Correspondências Completas com ^ e \\$"
   ]
  },
  {
   "cell_type": "markdown",
   "id": "4892639e",
   "metadata": {},
   "source": [
    "Para forçar uma correspondência completa em uma expressão regular, você sempre pode usar `fullmatch()`. Mas pode ser útil ter a expressão regular para expressar um requisito de correspondência completa, mesmo quando usada em um contexto de correspondência parcial. Isso é feito simplesmente usando o início da string `^` e o fim da string `$`. Abaixo, forçamos uma correspondência completa com uma regex `^[0-9][A-Z]$`. Isso basicamente significa \"apenas um dígito seguido por uma letra maiúscula pode existir entre o início e o fim da string\". Essa lógica é efetivamente uma correspondência completa."
   ]
  },
  {
   "cell_type": "code",
   "execution_count": 19,
   "id": "a2502b5b",
   "metadata": {
    "scrolled": true
   },
   "outputs": [
    {
     "data": {
      "text/plain": [
       "False"
      ]
     },
     "execution_count": 19,
     "metadata": {},
     "output_type": "execute_result"
    }
   ],
   "source": [
    "search(pattern=\"^[0-9][A-Z]$\", string=\"A5B\") != None"
   ]
  },
  {
   "cell_type": "code",
   "execution_count": 20,
   "id": "8689fd69",
   "metadata": {},
   "outputs": [
    {
     "data": {
      "text/plain": [
       "True"
      ]
     },
     "execution_count": 20,
     "metadata": {},
     "output_type": "execute_result"
    }
   ],
   "source": [
    "search(pattern=\"^[0-9][A-Z]$\", string=\"5B\") != None"
   ]
  },
  {
   "cell_type": "markdown",
   "id": "8a12f34b",
   "metadata": {},
   "source": [
    "> Quando armazenei expressões regulares em um banco de dados para construir mecanismos de regras de negócios, segui essa prática para que as pessoas soubessem que a regex pretende ser usada como uma correspondência completa. Ao alternar entre plataformas como SQL ou Java, é útil ter uma regex construída dessa maneira também para que você não use indevidamente uma função de correspondência parcial pensando que ela faz a correspondência completa. Se você pretende fazer uma correspondência completa, acredito que seja uma boa prática a ser adotada. No entanto, evitarei impor isso no restante deste curso e usarei apenas `fullmatch()` quando pretendo fazer uma correspondência completa.\n",
    "\n",
    "É claro que você pode usar esse padrão para fazer uma \"correspondência completa\" do conteúdo de cada linha usando `re.MULTLINE`."
   ]
  },
  {
   "cell_type": "code",
   "execution_count": 21,
   "id": "6627cf72",
   "metadata": {},
   "outputs": [
    {
     "data": {
      "text/plain": [
       "True"
      ]
     },
     "execution_count": 21,
     "metadata": {},
     "output_type": "execute_result"
    }
   ],
   "source": [
    "import re \n",
    "\n",
    "my_doc = \"\"\"\n",
    "7HD\n",
    "H7A\n",
    "5MD\n",
    "\"\"\"\n",
    "\n",
    "search(pattern=\"^[0-9][A-Z][A-Z]$\", string=my_doc, flags=re.MULTILINE) != None"
   ]
  },
  {
   "cell_type": "markdown",
   "id": "116dc0b8",
   "metadata": {},
   "source": [
    "Observe abaixo como `4HAU` não é correspondido com `^[0-9][A-Z][A-Z]$` porque força uma correspondência completa em cada linha, não parcial."
   ]
  },
  {
   "cell_type": "code",
   "execution_count": 22,
   "id": "c8b728e5",
   "metadata": {},
   "outputs": [
    {
     "data": {
      "text/plain": [
       "False"
      ]
     },
     "execution_count": 22,
     "metadata": {},
     "output_type": "execute_result"
    }
   ],
   "source": [
    "import re \n",
    "\n",
    "my_doc = \"\"\"\n",
    "4HAU\n",
    "H7A\n",
    "YHH\n",
    "\"\"\"\n",
    "\n",
    "search(pattern=\"^[0-9][A-Z][A-Z]$\", string=my_doc, flags=re.MULTILINE) != None"
   ]
  },
  {
   "cell_type": "markdown",
   "id": "1f65da69",
   "metadata": {},
   "source": [
    "## Exercício"
   ]
  },
  {
   "cell_type": "markdown",
   "id": "e6febc26",
   "metadata": {},
   "source": [
    "Escreva uma expressão regular abaixo que determine se há linhas que começam com um código de companhia aérea de duas letras. Substitua o ponto de interrogação `?` abaixo.\n",
    "\n",
    "DICA: lembre-se de que `\\s` é um padrão de expressão regular para um espaço e não se esqueça de usar uma string bruta `r\"minha expressão regular\"`, pois haverá uma barra invertida."
   ]
  },
  {
   "cell_type": "code",
   "execution_count": null,
   "id": "eecc20fb",
   "metadata": {},
   "outputs": [],
   "source": [
    "from re import search\n",
    "\n",
    "flights = \"\"\"\n",
    "WN 672 \n",
    "    ABQ HOU\n",
    "DL 78\n",
    "    ATL PHX\n",
    "\"\"\"\n",
    "\n",
    "search(pattern=?, string=flights, flags=re.MULTILINE) != None"
   ]
  },
  {
   "cell_type": "markdown",
   "id": "639e3620",
   "metadata": {},
   "source": [
    "### RESPOSTA A BAIXO\n",
    "\n",
    "|<br>\n",
    "|<br>\n",
    "|<br>\n",
    "|<br>\n",
    "|<br>\n",
    "|<br>\n",
    "|<br>\n",
    "|<br>\n",
    "|<br>\n",
    "|<br>\n",
    "|<br>\n",
    "|<br>\n",
    "|<br>\n",
    "|<br>\n",
    "|<br>\n",
    "|<br>\n",
    "|<br>\n",
    "|<br>\n",
    "|<br>\n",
    "|<br>\n",
    "|<br>\n",
    "|<br>\n",
    "|<br>\n",
    "v "
   ]
  },
  {
   "cell_type": "code",
   "execution_count": null,
   "id": "78eb76da",
   "metadata": {},
   "outputs": [],
   "source": [
    "from re import search\n",
    "\n",
    "\n",
    "flights = \"\"\"\n",
    "WN 672 \n",
    "    ABQ HOU\n",
    "DL 78\n",
    "    ATL PHX\n",
    "\"\"\"\n",
    "\n",
    "search(pattern=r\"^[A-Z][A-Z]\\s\", string=flights, flags=re.MULTILINE) != None"
   ]
  }
 ],
 "metadata": {
  "kernelspec": {
   "display_name": "anaconda-2024.02-py310",
   "language": "python",
   "name": "conda-env-anaconda-2024.02-py310-py"
  },
  "language_info": {
   "codemirror_mode": {
    "name": "ipython",
    "version": 3
   },
   "file_extension": ".py",
   "mimetype": "text/x-python",
   "name": "python",
   "nbconvert_exporter": "python",
   "pygments_lexer": "ipython3",
   "version": "3.10.14"
  }
 },
 "nbformat": 4,
 "nbformat_minor": 5
}
