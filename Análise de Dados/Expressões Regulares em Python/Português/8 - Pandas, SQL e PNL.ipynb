{
 "cells": [
  {
   "cell_type": "markdown",
   "id": "a9b17d92",
   "metadata": {},
   "source": [
    "# Expressões regulares em Pandas, SQL e PNL"
   ]
  },
  {
   "cell_type": "markdown",
   "id": "b60a2316",
   "metadata": {},
   "source": [
    "Nesta seção, aprenderemos alguns lugares práticos onde podemos aplicar expressões regulares por meio de bibliotecas Python. Expressões regulares são suportadas em muitos lugares, mas esperamos que isso dê uma ideia de como elas podem ser usadas em bibliotecas comuns."
   ]
  },
  {
   "cell_type": "markdown",
   "id": "6b5aa254",
   "metadata": {},
   "source": [
    "## Pandas "
   ]
  },
  {
   "cell_type": "markdown",
   "id": "eba8cb05",
   "metadata": {},
   "source": [
    "Ao importar um arquivo CSV, normalmente você usaria o Pandas em um ambiente Python."
   ]
  },
  {
   "cell_type": "code",
   "execution_count": null,
   "id": "b4d1b5c4",
   "metadata": {},
   "outputs": [],
   "source": [
    "import pandas as pd \n",
    "\n",
    "url = r\"https://raw.githubusercontent.com/thomasnield/machine-learning-demo-data/master/classification/iris.csv\"\n",
    "df = pd.read_csv(url)\n",
    "df"
   ]
  },
  {
   "cell_type": "markdown",
   "id": "5f280d23",
   "metadata": {},
   "source": [
    "Lembre-se de que, na última seção, separamos manualmente apenas a coluna `species` do restante dos dados. Podemos fazer isso usando o argumento `sep` e fornecer uma expressão regular. Precisaremos instruir o Pandas a usar o mecanismo `python` para manipular a expressão regular."
   ]
  },
  {
   "cell_type": "code",
   "execution_count": null,
   "id": "c534c3d9",
   "metadata": {
    "scrolled": true
   },
   "outputs": [],
   "source": [
    "import re \n",
    "\n",
    "pd.read_csv(url, sep=\",(?=[a-z]+$)\", engine='python')"
   ]
  },
  {
   "cell_type": "markdown",
   "id": "d80b2cad",
   "metadata": {},
   "source": [
    "Voltando ao nosso DataFrame original com colunas separadas previsivelmente, digamos que queremos comparar uma expressão regular com um campo. Podemos usar a função `str.match()` para retornar um array `Boolean` de valores e, em seguida, qualificar apenas esses registros. Abaixo, comparamos apenas espécies que começam com `v` e o terceiro caractere é um `r`, conforme especificado pela expressão regular `^v[a-z]r.*`."
   ]
  },
  {
   "cell_type": "code",
   "execution_count": null,
   "id": "434363f4",
   "metadata": {},
   "outputs": [],
   "source": [
    "df[df['species'].str.match(\"^v[a-z]r.*\") == True]"
   ]
  },
  {
   "cell_type": "markdown",
   "id": "4d31402e",
   "metadata": {},
   "source": [
    "Com certeza, obtemos registros onde as espécies são `versicolor` e `virginica`.\n",
    "\n",
    "Este exemplo pode ser um pouco artificial, mas também podemos substituir um padrão de expressão regular por um texto diferente. Abaixo, pegamos esse padrão de regex e substituímos essas três últimas por \"XXX\". Isso pode ser útil se você estiver tentando substituir informações confidenciais, como números de previdência social."
   ]
  },
  {
   "cell_type": "code",
   "execution_count": null,
   "id": "eaa75e4a",
   "metadata": {
    "scrolled": true
   },
   "outputs": [],
   "source": [
    "df['species'].str.replace(\"^v[a-z]r\", \"XXX\", regex=True)"
   ]
  },
  {
   "cell_type": "markdown",
   "id": "7d5e2692",
   "metadata": {},
   "source": [
    "Existem muitos sites que aceitam expressões regulares no Pandas, portanto, fique atento aos parâmetros relacionados a regex nas funções que você usa!"
   ]
  },
  {
   "cell_type": "markdown",
   "id": "96c520f7",
   "metadata": {},
   "source": [
    "## SQL "
   ]
  },
  {
   "cell_type": "markdown",
   "id": "8880fb4c",
   "metadata": {},
   "source": [
    "Outro lugar onde você pode utilizar expressões regulares é na maioria das plataformas SQL tradicionais, como MySQL, PostgreSQL, Microsoft SQL Server, Oracle e SQLite. Vamos testar no SQLite só para ver isso em ação. Observe que cada plataforma SQL pode implementar chamadas de função de expressões regulares de forma diferente, assim como Python e Java terão suas próprias funções para corresponder, substituir e dividir texto usando expressões regulares. As expressões regulares são praticamente as mesmas em todas as plataformas, mas a forma como você as passa por meio de funções e operadores varia.\n",
    "\n",
    "Vamos baixar e abrir um banco de dados SQLite e consultar uma tabela `CUSTOMER`. Para garantir, usaremos o Pandas para exibir convenientemente os resultados em um `DataFrame`."
   ]
  },
  {
   "cell_type": "code",
   "execution_count": null,
   "id": "6e49a834",
   "metadata": {
    "scrolled": true
   },
   "outputs": [],
   "source": [
    "import urllib.request\n",
    "import sqlite3\n",
    "import pandas as pd \n",
    "\n",
    "urllib.request.urlretrieve(\"https://github.com/thomasnield/anaconda_intro_to_sql/blob/main/company_operations.db?raw=true\", \"company_operations.db\")\n",
    "conn = sqlite3.connect('company_operations.db')\n",
    "\n",
    "\n",
    "sql = \"SELECT * FROM CUSTOMER\"\n",
    "\n",
    "pd.read_sql(sql, conn)"
   ]
  },
  {
   "cell_type": "markdown",
   "id": "22d51333",
   "metadata": {},
   "source": [
    "Embora outras plataformas SQL geralmente estejam prontas para usar expressões regulares, precisamos habilitá-las com o SQLite. Para usar uma expressão regular para corresponder registros em um determinado campo, precisamos implementar a função `REGEXP`. Felizmente, podemos fazer isso simplesmente passando uma função Python para a conexão SQLite com este nome, e pronto."
   ]
  },
  {
   "cell_type": "code",
   "execution_count": null,
   "id": "bfe06464",
   "metadata": {},
   "outputs": [],
   "source": [
    "import re \n",
    "\n",
    "def regexp(pattern, string):\n",
    "    return 1 if re.search(pattern, string) else 0\n",
    "\n",
    "conn.create_function('regexp', 2, regexp)"
   ]
  },
  {
   "cell_type": "markdown",
   "id": "6bba4e79",
   "metadata": {},
   "source": [
    "Abaixo, consultamos registros onde `ADDRESS` termina em `Dr` ou `Ave`, que capturamos com uma expressão regular."
   ]
  },
  {
   "cell_type": "code",
   "execution_count": null,
   "id": "8a65485c",
   "metadata": {},
   "outputs": [],
   "source": [
    "sql = \"SELECT * FROM CUSTOMER WHERE ADDRESS REGEXP '.*(Dr|Ave)$'\"\n",
    "\n",
    "pd.read_sql(sql, conn)"
   ]
  },
  {
   "cell_type": "markdown",
   "id": "bcf1bfd5",
   "metadata": {},
   "source": [
    "Embora isso varie de acordo com a plataforma SQL, você também encontrará funções para dividir e substituir texto usando padrões de expressões regulares."
   ]
  },
  {
   "cell_type": "markdown",
   "id": "204c7077",
   "metadata": {},
   "source": [
    "# PNL usando spaCy"
   ]
  },
  {
   "cell_type": "markdown",
   "id": "58905a46",
   "metadata": {},
   "source": [
    "Se você já se envolveu com processamento de linguagem natural (PLN) ou explorou como construir grandes modelos de linguagem, provavelmente sabe que a tokenização é uma etapa fundamental para transformar dados de texto em dados numéricos.\n",
    "\n",
    "Antes de começar, vamos instalar o spaCy."
   ]
  },
  {
   "cell_type": "code",
   "execution_count": null,
   "id": "2976c3ed",
   "metadata": {},
   "outputs": [],
   "source": [
    "!pip install spacy \n",
    "!python -m spacy download en_core_web_sm"
   ]
  },
  {
   "cell_type": "markdown",
   "id": "91e0bce8",
   "metadata": {},
   "source": [
    "Ao tokenizar dados de texto, você normalmente tokeniza palavras, nomes e outras strings semelhantes a dicionários. Mas, às vezes, você pode querer tokenizar endereços IP, números de telefone e outros valores formatados estruturalmente e realizar correspondências personalizadas com eles. Talvez você queira corresponder diferentes variantes ou grafias da mesma palavra, como \"tem\" ou \"têm\".\n",
    "\n",
    "Podemos usar expressões regulares para ajudar o spaCy a identificar números de telefone como este."
   ]
  },
  {
   "cell_type": "code",
   "execution_count": null,
   "id": "5ba269fc",
   "metadata": {},
   "outputs": [],
   "source": [
    "import spacy\n",
    "import re\n",
    "\n",
    "nlp = spacy.load(\"en_core_web_sm\")\n",
    "doc = nlp(\"My phone number is 742-278-0572\")\n",
    "\n",
    "expression = r\"[0-9]{3}-[0-9]{3}-[0-9]{4}\"\n",
    "for match in re.finditer(expression, doc.text):\n",
    "    start, end = match.span()\n",
    "    span = doc.char_span(start, end)\n",
    "    if span is not None:\n",
    "        print(\"Found match:\", span.text)"
   ]
  },
  {
   "cell_type": "markdown",
   "id": "b4f028a7",
   "metadata": {},
   "source": [
    "Se você conhece o spaCy, confira a [documentação sobre correspondência baseada em regras](https://spacy.io/usage/rule-based-matching)."
   ]
  },
  {
   "cell_type": "markdown",
   "id": "fd3af1ca",
   "metadata": {},
   "source": [
    "## Exercício"
   ]
  },
  {
   "cell_type": "markdown",
   "id": "a697be31",
   "metadata": {},
   "source": [
    "Encontre uma maneira de modificar o `DataFrame` abaixo para filtrar apenas registros onde o campo `STREET_ADDRESS` tenha um número de rua de 3 dígitos."
   ]
  },
  {
   "cell_type": "code",
   "execution_count": null,
   "id": "f8e06092",
   "metadata": {},
   "outputs": [],
   "source": [
    "import urllib.request\n",
    "import sqlite3\n",
    "import pandas as pd \n",
    "\n",
    "urllib.request.urlretrieve(\"https://github.com/thomasnield/anaconda_intro_to_sql/blob/main/company_operations.db?raw=true\", \"company_operations.db\")\n",
    "conn = sqlite3.connect('company_operations.db')\n",
    "\n",
    "df = pd.read_sql(\"SELECT * FROM CUSTOMER\", conn)"
   ]
  },
  {
   "cell_type": "markdown",
   "id": "db457e30",
   "metadata": {},
   "source": [
    "### RESPOSTA A BAIXO\n",
    "\n",
    "|<br>\n",
    "|<br>\n",
    "|<br>\n",
    "|<br>\n",
    "|<br>\n",
    "|<br>\n",
    "|<br>\n",
    "|<br>\n",
    "|<br>\n",
    "|<br>\n",
    "|<br>\n",
    "|<br>\n",
    "|<br>\n",
    "|<br>\n",
    "|<br>\n",
    "|<br>\n",
    "|<br>\n",
    "|<br>\n",
    "|<br>\n",
    "|<br>\n",
    "|<br>\n",
    "|<br>\n",
    "|<br>\n",
    "v "
   ]
  },
  {
   "cell_type": "markdown",
   "id": "bdda5bba",
   "metadata": {},
   "source": [
    "Você pode realizar essa tarefa de duas maneiras, mas ambas usam a expressão regular `^[0-9]{3}\\s`.\n",
    "\n",
    "Modifique a consulta SQL para usar expressões regulares:"
   ]
  },
  {
   "cell_type": "code",
   "execution_count": null,
   "id": "6b038959",
   "metadata": {},
   "outputs": [],
   "source": [
    "import urllib.request\n",
    "import sqlite3\n",
    "import pandas as pd \n",
    "\n",
    "urllib.request.urlretrieve(\"https://github.com/thomasnield/anaconda_intro_to_sql/blob/main/company_operations.db?raw=true\", \"company_operations.db\")\n",
    "conn = sqlite3.connect('company_operations.db')\n",
    "\n",
    "import re \n",
    "\n",
    "def regexp(pattern, string):\n",
    "    return 1 if re.search(pattern, string) else 0\n",
    "\n",
    "conn.create_function('regexp', 2, regexp)\n",
    "\n",
    "df = pd.read_sql(r\"SELECT * FROM CUSTOMER WHERE ADDRESS REGEXP '^[0-9]{3}\\s'\", conn)\n",
    "df"
   ]
  },
  {
   "cell_type": "markdown",
   "id": "3298fa7c",
   "metadata": {},
   "source": [
    "Filtre o dataframe usando uma expressão regular:"
   ]
  },
  {
   "cell_type": "code",
   "execution_count": null,
   "id": "6ae102e7",
   "metadata": {},
   "outputs": [],
   "source": [
    "import urllib.request\n",
    "import sqlite3\n",
    "import pandas as pd \n",
    "\n",
    "urllib.request.urlretrieve(\"https://github.com/thomasnield/anaconda_intro_to_sql/blob/main/company_operations.db?raw=true\", \"company_operations.db\")\n",
    "conn = sqlite3.connect('company_operations.db')\n",
    "\n",
    "df[df[\"ADDRESS\"].str.match(r\"^[0-9]{3}\\s\")]"
   ]
  }
 ],
 "metadata": {
  "kernelspec": {
   "display_name": "anaconda-2024.02-py310",
   "language": "python",
   "name": "conda-env-anaconda-2024.02-py310-py"
  },
  "language_info": {
   "codemirror_mode": {
    "name": "ipython",
    "version": 3
   },
   "file_extension": ".py",
   "mimetype": "text/x-python",
   "name": "python",
   "nbconvert_exporter": "python",
   "pygments_lexer": "ipython3",
   "version": "3.10.14"
  }
 },
 "nbformat": 4,
 "nbformat_minor": 5
}
