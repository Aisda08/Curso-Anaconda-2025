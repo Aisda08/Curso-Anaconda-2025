{
 "cells": [
  {
   "cell_type": "markdown",
   "id": "c6902bd0",
   "metadata": {},
   "source": [
    "# Correspondendo Literais e Intervalos de Caracteres"
   ]
  },
  {
   "cell_type": "markdown",
   "id": "453db973",
   "metadata": {},
   "source": [
    "Possivelmente, os dois blocos básicos de construção de expressões regulares são literais e intervalos. Literais são caracteres que não têm nenhuma função além de representar aquele caractere *literalmente*. Por exemplo, caracteres alfanuméricos como \"a\" e \"4\" representam \"a\" e \"4\" em uma expressão regular. Eles não têm nenhuma função especial. Intervalos de caracteres nos permitem qualificar vários caracteres em uma determinada posição. Também aprenderemos como usar o operador de escape `\\` para acessar outros caracteres, como espaços em branco.\n",
    "\n",
    "Para simplificar um pouco as coisas, importaremos a função `fullmatch` diretamente."
   ]
  },
  {
   "cell_type": "code",
   "execution_count": null,
   "id": "ec7b8df8",
   "metadata": {},
   "outputs": [],
   "source": [
    "from re import fullmatch "
   ]
  },
  {
   "cell_type": "markdown",
   "id": "da9b490b",
   "metadata": {},
   "source": [
    "## Literais"
   ]
  },
  {
   "cell_type": "markdown",
   "id": "0e90ea29",
   "metadata": {},
   "source": [
    "Há um array de caracteres que não possui nenhuma função especial em expressões regulares além dos próprios caracteres literais. Os literais mais comuns, é claro, são os caracteres alfabéticos.\n",
    "\n",
    "```\n",
    "ABCDEFGHIJKLMNOPQRSTUVWXYZ\n",
    "abcdefghijklmnopqrstuvwxyz\n",
    "0123456789\n",
    "```"
   ]
  },
  {
   "cell_type": "markdown",
   "id": "8bfe40f9",
   "metadata": {},
   "source": [
    "Portanto, se fornecermos uma expressão regular \"Anaconda\" e a compararmos com a string \"Anaconda\", isso, obviamente, fornecerá uma correspondência."
   ]
  },
  {
   "cell_type": "code",
   "execution_count": null,
   "id": "9d8a9d93",
   "metadata": {},
   "outputs": [],
   "source": [
    "fullmatch(pattern=\"Anaconda\", string=\"Anaconda\")"
   ]
  },
  {
   "cell_type": "markdown",
   "id": "4ed3720e",
   "metadata": {},
   "source": [
    "Observe que isso não retornou um valor `True` ou `False`, como você poderia esperar. Em vez disso, retorna um objeto `Match`. Se não houver correspondência, a função `fullmatch()` retornará `None`, como neste exemplo, mostrando que a string \"Python\" não corresponde à expressão regular \"Anaconda\".\n",
    "\n",
    "Como os notebooks não fornecem saída para `None`, a revelaremos usando `print()`."
   ]
  },
  {
   "cell_type": "code",
   "execution_count": null,
   "id": "cc56c9ed",
   "metadata": {},
   "outputs": [],
   "source": [
    "print(fullmatch(pattern=\"Anaconda\", string=\"Python\"))"
   ]
  },
  {
   "cell_type": "markdown",
   "id": "b542788c",
   "metadata": {},
   "source": [
    "Se quisermos um simples `True` ou `False`, podemos criar uma operação `if-then` ou simplesmente comparar se a saída de `fullmatch()` for diferente de None. Usaremos essa abordagem para o restante do notebook."
   ]
  },
  {
   "cell_type": "code",
   "execution_count": null,
   "id": "2e94bca0",
   "metadata": {},
   "outputs": [],
   "source": [
    "fullmatch(pattern=\"Anaconda\", string=\"Python\") != None"
   ]
  },
  {
   "cell_type": "markdown",
   "id": "a27d0429",
   "metadata": {},
   "source": [
    "### Metacaracteres"
   ]
  },
  {
   "cell_type": "markdown",
   "id": "62bf15f1",
   "metadata": {},
   "source": [
    "Existem alguns caracteres que possuem funcionalidades especiais em expressões regulares, sobre as quais aprenderemos neste curso. Esses metacaracteres são os seguintes:\n",
    "\n",
    "```\n",
    ".[](){}\\^$|*+?\n",
    "```\n",
    "\n",
    "A única maneira de usar as contrapartes literais desses caracteres (suponha que eu quisesse corresponder a um cifrão `\\$`) seria precedê-lo com uma barra invertida de escape `\\`. Veja o que acontece quando tento corresponder a string \"\\\\$151\" com uma expressão regular \"$151\"."
   ]
  },
  {
   "cell_type": "code",
   "execution_count": null,
   "id": "faf9f6d4",
   "metadata": {},
   "outputs": [],
   "source": [
    "fullmatch(pattern=\"$151\", string=\"$151\") != None"
   ]
  },
  {
   "cell_type": "raw",
   "id": "ec3b96f2",
   "metadata": {
    "vscode": {
     "languageId": "raw"
    }
   },
   "source": [
    "O cifrão `$` não é um cifrão em uma expressão regular. É o operador de \"fim de string\" sobre o qual aprenderemos mais tarde. Agora você pode usar aquela barra anterior de que falei e encerrar o assunto. Mas observe que recebo um aviso por *sequência de escape inválida*."
   ]
  },
  {
   "cell_type": "code",
   "execution_count": null,
   "id": "2c0d28a4",
   "metadata": {},
   "outputs": [],
   "source": [
    "fullmatch(pattern=\"\\$151\", string=\"$151\") != None"
   ]
  },
  {
   "cell_type": "markdown",
   "id": "fe1003be",
   "metadata": {},
   "source": [
    "Isso ocorre porque o Python tem seu próprio sistema de escape com a barra invertida fora da expressão regular. Incrivelmente irritante! Em vez de ter que usar uma barra invertida assim..."
   ]
  },
  {
   "cell_type": "code",
   "execution_count": null,
   "id": "412b1f22",
   "metadata": {},
   "outputs": [],
   "source": [
    "fullmatch(pattern=\"\\\\$151\", string=\"$151\") != None"
   ]
  },
  {
   "cell_type": "markdown",
   "id": "c819260e",
   "metadata": {},
   "source": [
    "Eu recomendo fortemente que você use uma string bruta em Python, que trata a barra invertida como uma barra invertida literal e não como um caractere de escape para o compilador Python."
   ]
  },
  {
   "cell_type": "code",
   "execution_count": null,
   "id": "44039917",
   "metadata": {},
   "outputs": [],
   "source": [
    "fullmatch(pattern=r\"\\$151\", string=\"$151\") != None"
   ]
  },
  {
   "cell_type": "markdown",
   "id": "7786bf1c",
   "metadata": {},
   "source": [
    "Assim é bem melhor! Coloque `r` antes da string de expressão regular ao usar barras invertidas `\\`, e isso evitará conflitos com o tratamento de strings do Python."
   ]
  },
  {
   "cell_type": "markdown",
   "id": "bddfb73e",
   "metadata": {},
   "source": [
    "## Intervalos de Caracteres"
   ]
  },
  {
   "cell_type": "markdown",
   "id": "f2e95132",
   "metadata": {},
   "source": [
    "Literais correspondentes não são tão interessantes. Afinal, poderíamos usar verificações de igualdade do Python para isso e não ter que nos preocupar com aqueles escapes irritantes. Mas é aqui que as coisas começam a ficar interessantes com expressões regulares.\n",
    "\n",
    "Um **intervalo de caracteres** é um colchete contendo uma lista de caracteres válidos para uma única posição. Por exemplo, aqui está uma expressão regular que corresponde apenas aos caracteres `7`, `8`, `9`, `D` e `J`.\n",
    "\n",
    "```\n",
    "[789DJ]\n",
    "```\n",
    "\n",
    "Ela corresponderá a uma string contendo apenas um desses caracteres."
   ]
  },
  {
   "cell_type": "code",
   "execution_count": null,
   "id": "e39d0b24",
   "metadata": {},
   "outputs": [],
   "source": [
    "fullmatch(pattern=\"[789DJ]\", string=\"7\") != None"
   ]
  },
  {
   "cell_type": "code",
   "execution_count": null,
   "id": "de44c6a8",
   "metadata": {},
   "outputs": [],
   "source": [
    "fullmatch(pattern=\"[789DJ]\", string=\"A\") != None"
   ]
  },
  {
   "cell_type": "markdown",
   "id": "3e473153",
   "metadata": {},
   "source": [
    "Digamos que eu queira corresponder a códigos de produtos com 5 caracteres. O primeiro, o terceiro e o quinto caracteres devem ser `T`, `A` e `B`, respectivamente. No entanto, a segunda posição pode ser `H`, `B` ou `Z`. A quarta posição pode ser `7` ou `9`. Isso pode ser tedioso de fazer com operações de substring, mas é simples com uma expressão regular.\n",
    "\n",
    "```\n",
    "T[HBZ]A[79]B\n",
    "```"
   ]
  },
  {
   "cell_type": "code",
   "execution_count": null,
   "id": "01cbfaa8",
   "metadata": {},
   "outputs": [],
   "source": [
    "fullmatch(pattern=\"T[HBZ]A[79]B\", string=\"THA7B\") != None"
   ]
  },
  {
   "cell_type": "code",
   "execution_count": null,
   "id": "ef75db13",
   "metadata": {},
   "outputs": [],
   "source": [
    "fullmatch(pattern=\"T[HBZ]A[79]B\", string=\"THA2B\") != None"
   ]
  },
  {
   "cell_type": "markdown",
   "id": "e891e219",
   "metadata": {},
   "source": [
    "Intervalos de caracteres também podem ser expressos com um intervalo de caracteres, como `[A-Z]` para corresponder a qualquer caractere alfabético maiúsculo. Abaixo, correspondemos a códigos de aeroportos que têm três letras maiúsculas.\n",
    "\n",
    "```\n",
    "[A-Z][A-Z][A-Z]\n",
    "```"
   ]
  },
  {
   "cell_type": "code",
   "execution_count": null,
   "id": "3c8943f0",
   "metadata": {},
   "outputs": [],
   "source": [
    "fullmatch(pattern=\"[A-Z][A-Z][A-Z]\", string=\"ABQ\") != None"
   ]
  },
  {
   "cell_type": "code",
   "execution_count": null,
   "id": "af24a3aa",
   "metadata": {},
   "outputs": [],
   "source": [
    "fullmatch(pattern=\"[A-Z][A-Z][A-Z]\", string=\"DFW\") != None"
   ]
  },
  {
   "cell_type": "code",
   "execution_count": null,
   "id": "4a76a91f",
   "metadata": {},
   "outputs": [],
   "source": [
    "fullmatch(pattern=\"[A-Z][A-Z][A-Z]\", string=\"JFK\") != None"
   ]
  },
  {
   "cell_type": "code",
   "execution_count": null,
   "id": "459d47cd",
   "metadata": {},
   "outputs": [],
   "source": [
    "fullmatch(pattern=\"[A-Z][A-Z][A-Z]\", string=\"9DK\") != None"
   ]
  },
  {
   "cell_type": "code",
   "execution_count": null,
   "id": "9d49518d",
   "metadata": {},
   "outputs": [],
   "source": [
    "fullmatch(pattern=\"[A-Z][A-Z][A-Z]\", string=\"KDAL\") != None"
   ]
  },
  {
   "cell_type": "markdown",
   "id": "1c97b4e5",
   "metadata": {},
   "source": [
    "Se escrever `[A-Z]` três vezes parecer repetitivo, aprenderemos sobre quantificadores mais tarde. Também podemos usá-lo para especificar números. Abaixo, correspondemos a todos os códigos de companhias aéreas em que o primeiro caractere é alfabético e o segundo é um dígito numérico."
   ]
  },
  {
   "cell_type": "code",
   "execution_count": null,
   "id": "15ba72a2",
   "metadata": {},
   "outputs": [],
   "source": [
    "fullmatch(pattern=\"[A-Z][0-9]\", string=\"F9\") != None"
   ]
  },
  {
   "cell_type": "code",
   "execution_count": null,
   "id": "ae5b1009",
   "metadata": {},
   "outputs": [],
   "source": [
    "fullmatch(pattern=\"[A-Z][0-9]\", string=\"DL\") != None"
   ]
  },
  {
   "cell_type": "code",
   "execution_count": null,
   "id": "c834d506",
   "metadata": {
    "scrolled": true
   },
   "outputs": [],
   "source": [
    "fullmatch(pattern=\"[A-Z][0-9]\", string=\"WN\") != None"
   ]
  },
  {
   "cell_type": "markdown",
   "id": "b0a92737",
   "metadata": {},
   "source": [
    "Também podemos especificar intervalos arbitrários e letras minúsculas, como `[g-j]` e `[4-7]`."
   ]
  },
  {
   "cell_type": "code",
   "execution_count": null,
   "id": "29901aae",
   "metadata": {},
   "outputs": [],
   "source": [
    "fullmatch(pattern=\"[g-j][4-7]\", string=\"i6\") != None"
   ]
  },
  {
   "cell_type": "code",
   "execution_count": null,
   "id": "2379836a",
   "metadata": {},
   "outputs": [],
   "source": [
    "fullmatch(pattern=\"[g-j][4-7]\", string=\"c4\") != None"
   ]
  },
  {
   "cell_type": "code",
   "execution_count": null,
   "id": "ef5ecc47",
   "metadata": {},
   "outputs": [],
   "source": [
    "fullmatch(pattern=\"[g-j][4-7]\", string=\"j3\") != None"
   ]
  },
  {
   "cell_type": "markdown",
   "id": "852f8725",
   "metadata": {},
   "source": [
    "Também podemos mesclar vários intervalos como válidos em um intervalo de caracteres, como `[A-Za-z0-3]`."
   ]
  },
  {
   "cell_type": "code",
   "execution_count": null,
   "id": "12fb8f48",
   "metadata": {},
   "outputs": [],
   "source": [
    "fullmatch(pattern=\"[A-Za-z0-3]\", string=\"j\") != None"
   ]
  },
  {
   "cell_type": "code",
   "execution_count": null,
   "id": "506d2bf4",
   "metadata": {},
   "outputs": [],
   "source": [
    "fullmatch(pattern=\"[A-Za-z0-3]\", string=\"4\") != None"
   ]
  },
  {
   "cell_type": "code",
   "execution_count": null,
   "id": "453806a6",
   "metadata": {},
   "outputs": [],
   "source": [
    "fullmatch(pattern=\"[A-Za-z0-3]\", string=\"2\") != None"
   ]
  },
  {
   "cell_type": "markdown",
   "id": "64a915ea",
   "metadata": {},
   "source": [
    "Você também pode combinar letras maiúsculas e minúsculas usando `[A-z]`."
   ]
  },
  {
   "cell_type": "code",
   "execution_count": null,
   "id": "638e32f1",
   "metadata": {},
   "outputs": [],
   "source": [
    "fullmatch(pattern=\"[A-z]\", string=\"d\") != None"
   ]
  },
  {
   "cell_type": "code",
   "execution_count": null,
   "id": "145798a0",
   "metadata": {
    "scrolled": true
   },
   "outputs": [],
   "source": [
    "fullmatch(pattern=\"[A-z]\", string=\"D\") != None"
   ]
  },
  {
   "cell_type": "markdown",
   "id": "ef3ad518",
   "metadata": {},
   "source": [
    "Muitos metacaracteres podem ser colocados dentro de um intervalo de caracteres, onde serão tratados como literais. Para tratar um hífen `-` como um hífen `-`, basta torná-lo o primeiro caractere no intervalo de caracteres, conforme mostrado abaixo. Também incluímos um cifrão como um caractere válido."
   ]
  },
  {
   "cell_type": "code",
   "execution_count": null,
   "id": "6ce4d2d4",
   "metadata": {},
   "outputs": [],
   "source": [
    "fullmatch(pattern=\"[-$A-z][0-9]\", string=\"-5\") != None"
   ]
  },
  {
   "cell_type": "code",
   "execution_count": null,
   "id": "80221abf",
   "metadata": {},
   "outputs": [],
   "source": [
    "fullmatch(pattern=\"[-$A-z][0-9]\", string=\"$5\") != None"
   ]
  },
  {
   "cell_type": "code",
   "execution_count": null,
   "id": "7746b0a2",
   "metadata": {
    "scrolled": true
   },
   "outputs": [],
   "source": [
    "fullmatch(pattern=\"[-$A-z][0-9]\", string=\"V5\") != None"
   ]
  },
  {
   "cell_type": "markdown",
   "id": "0968df57",
   "metadata": {},
   "source": [
    "Finalmente, você pode negar um conjunto de caracteres que correspondam a qualquer coisa, EXCETO aos caracteres especificados, começando com um símbolo `^`. Para corresponder a qualquer coisa, exceto vogais, você usaria a expressão regular `[^AEIOU]`."
   ]
  },
  {
   "cell_type": "code",
   "execution_count": null,
   "id": "b0d54214",
   "metadata": {},
   "outputs": [],
   "source": [
    "fullmatch(pattern=\"[^AEIOU]\", string=\"I\") != None"
   ]
  },
  {
   "cell_type": "code",
   "execution_count": null,
   "id": "d23c29c2",
   "metadata": {},
   "outputs": [],
   "source": [
    "fullmatch(pattern=\"[^AEIOU]\", string=\"C\") != None"
   ]
  },
  {
   "cell_type": "markdown",
   "id": "7f8b418f",
   "metadata": {},
   "source": [
    "Se você quiser corresponder literalmente a um símbolo `-` no intervalo de caracteres, simplesmente não o coloque no início do intervalo, conforme mostrado abaixo."
   ]
  },
  {
   "cell_type": "code",
   "execution_count": null,
   "id": "78353263",
   "metadata": {},
   "outputs": [],
   "source": [
    "fullmatch(pattern=\"[AEIOU^]\", string=\"^\") != None"
   ]
  },
  {
   "cell_type": "markdown",
   "id": "83e7777b",
   "metadata": {},
   "source": [
    "## Dígitos, Palavras e Espaço em Branco"
   ]
  },
  {
   "cell_type": "markdown",
   "id": "1e756c45",
   "metadata": {},
   "source": [
    "Existem alguns caracteres especiais que são habilitados com uma barra invertida `\\` seguida por uma letra.\n",
    "\n",
    "|Padrão|Descrição|\n",
    "|------|-----------|\n",
    "|`\\s` |Espaço em branco (espaço, nova linha, tabulação)|\n",
    "|`\\S` |Não é espaço em branco (não é espaço)|\n",
    "|`\\d` |Dígito 0-9|\n",
    "|`\\D` |Não é um dígito 0-9|\n",
    "|`\\w` |Caracteres de palavra (alfas, dígitos e sublinhado)|\n",
    "|`\\W` |Não é um caractere de palavra (alfas, dígitos e sublinhado)|\n",
    "\n",
    "Não sou exatamente fã dos últimos quatro, pois prefiro usar intervalos de caracteres que, na minha opinião, são mais fáceis de ler. Eu poderia encontrar uma letra seguida de dois dígitos usando intervalos como este.\n",
    "\n",
    "```\n",
    "[A-z][0-9][0-9]\n",
    "```"
   ]
  },
  {
   "cell_type": "code",
   "execution_count": null,
   "id": "58ab0b96",
   "metadata": {},
   "outputs": [],
   "source": [
    "fullmatch(pattern=\"[A-z][0-9][0-9]\", string=\"A15\") != None"
   ]
  },
  {
   "cell_type": "code",
   "execution_count": null,
   "id": "abd12910",
   "metadata": {
    "scrolled": true
   },
   "outputs": [],
   "source": [
    "fullmatch(pattern=\"[A-z][0-9][0-9]\", string=\"115\") != None"
   ]
  },
  {
   "cell_type": "markdown",
   "id": "6e134419",
   "metadata": {},
   "source": [
    "Mas você pode ver pessoas usando `\\w` para a letra e `\\d` para os dígitos. Não se esqueça de usar strings brutas, pois estamos usando barras invertidas!\n",
    "\n",
    "```\n",
    "\\w\\d\\d\n",
    "```"
   ]
  },
  {
   "cell_type": "code",
   "execution_count": null,
   "id": "4ae84316",
   "metadata": {},
   "outputs": [],
   "source": [
    "fullmatch(pattern=r\"\\w\\d\\d\", string=\"A15\") != None"
   ]
  },
  {
   "cell_type": "code",
   "execution_count": null,
   "id": "79ecd196",
   "metadata": {},
   "outputs": [],
   "source": [
    "fullmatch(pattern=r\"\\w\\d\\d\", string=\"115\") != None"
   ]
  },
  {
   "cell_type": "markdown",
   "id": "8ad80cbc",
   "metadata": {},
   "source": [
    "Estranhamente, você pode notar que `\\w` também corresponde a dígitos e não apenas a letras do alfabeto. Eles também correspondem a sublinhados. É assim que funcionam. `¯\\_(ツ)_/¯`"
   ]
  },
  {
   "cell_type": "code",
   "execution_count": null,
   "id": "d55c1e44",
   "metadata": {},
   "outputs": [],
   "source": [
    "fullmatch(pattern=r\"\\w\\d\\d\", string=\"_15\") != None"
   ]
  },
  {
   "cell_type": "markdown",
   "id": "9c8fe845",
   "metadata": {},
   "source": [
    "Como eu disse, eu pessoalmente não gosto de usar `\\d` e `\\w` e suas contrapartes negadas `\\D` e `\\W`. Prefiro usar intervalos de caracteres, pois os acho mais fáceis de ler e interpretar. Mas não se surpreenda com eles quando os encontrar.\n",
    "\n",
    "Acho `\\s` e `\\S` úteis. Podemos usá-los para corresponder a espaços em branco, incluindo espaços, tabulações e quebras de linha. Abaixo, combinamos uma letra minúscula e um dígito separados por um espaço."
   ]
  },
  {
   "cell_type": "code",
   "execution_count": null,
   "id": "6241b1d4",
   "metadata": {},
   "outputs": [],
   "source": [
    "fullmatch(pattern=r\"[a-z]\\s[0-9]\", string=\"a 3\") != None"
   ]
  },
  {
   "cell_type": "code",
   "execution_count": null,
   "id": "1c4387d0",
   "metadata": {
    "scrolled": true
   },
   "outputs": [],
   "source": [
    "fullmatch(pattern=r\"[a-z]\\s[0-9]\", string=\"2 3\") != None"
   ]
  },
  {
   "cell_type": "markdown",
   "id": "313f7a74",
   "metadata": {},
   "source": [
    "Você também pode usar um espaço para combinar um espaço. Só não combina tabulações ou quebras de linha."
   ]
  },
  {
   "cell_type": "code",
   "execution_count": null,
   "id": "d8575efc",
   "metadata": {},
   "outputs": [],
   "source": [
    "fullmatch(pattern=r\"[a-z] [0-9]\", string=\"a 3\") != None"
   ]
  },
  {
   "cell_type": "markdown",
   "id": "bb08e861",
   "metadata": {},
   "source": [
    "## Exercício"
   ]
  },
  {
   "cell_type": "markdown",
   "id": "831f7a9a",
   "metadata": {},
   "source": [
    "Um aeroporto nos Estados Unidos deve ter um código ICAO que comece com \"K\" e normalmente seja seguido por três letras maiúsculas. Crie uma expressão regular que qualifique um código de aeroporto com base nessa convenção, completando o código (substituindo o ponto de interrogação \"?\") abaixo."
   ]
  },
  {
   "cell_type": "code",
   "execution_count": null,
   "id": "41a4e244",
   "metadata": {},
   "outputs": [],
   "source": [
    "fullmatch(pattern=?, string=\"KDFW\") != None "
   ]
  },
  {
   "cell_type": "markdown",
   "id": "238956f0",
   "metadata": {},
   "source": [
    "### RESPOSTA A BAIXO\n",
    "\n",
    "|<br>\n",
    "|<br>\n",
    "|<br>\n",
    "|<br>\n",
    "|<br>\n",
    "|<br>\n",
    "|<br>\n",
    "|<br>\n",
    "|<br>\n",
    "|<br>\n",
    "|<br>\n",
    "|<br>\n",
    "|<br>\n",
    "|<br>\n",
    "|<br>\n",
    "|<br>\n",
    "|<br>\n",
    "|<br>\n",
    "|<br>\n",
    "|<br>\n",
    "|<br>\n",
    "|<br>\n",
    "|<br>\n",
    "v "
   ]
  },
  {
   "cell_type": "markdown",
   "id": "4817b777",
   "metadata": {},
   "source": [
    "Use o padrão `K[A-Z][A-Z][A-Z]` para corresponder à convenção de aeroportos da ICAO."
   ]
  },
  {
   "cell_type": "code",
   "execution_count": null,
   "id": "ea30971f",
   "metadata": {},
   "outputs": [],
   "source": [
    "fullmatch(pattern=\"K[A-Z][A-Z][A-Z]\", string=\"KDFW\") != None "
   ]
  }
 ],
 "metadata": {
  "kernelspec": {
   "display_name": "Python 3",
   "language": "python",
   "name": "python3"
  },
  "language_info": {
   "codemirror_mode": {
    "name": "ipython",
    "version": 3
   },
   "file_extension": ".py",
   "mimetype": "text/x-python",
   "name": "python",
   "nbconvert_exporter": "python",
   "pygments_lexer": "ipython3",
   "version": "3.10.0"
  }
 },
 "nbformat": 4,
 "nbformat_minor": 5
}
