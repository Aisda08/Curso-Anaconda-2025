{
 "cells": [
  {
   "cell_type": "markdown",
   "id": "dc3c2ab72d953da8",
   "metadata": {},
   "source": [
    "# FAA Bird Strike EDA"
   ]
  },
  {
   "cell_type": "markdown",
   "id": "a933ce0af6408222",
   "metadata": {},
   "source": [
    "In this section, we are going to take the abridged findings from the Anaconda course [_Exploratory Data Analysis with Python_](https://learning.anaconda.cloud/exploratory-data-analysis-eda-with-python) and gather them to tell a story. \n",
    "\n",
    "Let's say we were asked by a pilot's union to do an independent study on what factors cause bird strikes. There are other reports out there, but they want to do their own and see if we come to similar conclusions as bird strike damages continue to be a problem. \n",
    "\n",
    "We want to only include recent data from 2015 onwards. We have deemed there is little value looking at older data from before that year. We can argue that the nature of bird strikes never change, but the environment certainly changes. Schedules and airports grow and shrink, weather patterns change, and different airlines come and go.  Even the [FAA themselves](https://wildlife.faa.gov/home) say:  \n",
    "\n",
    "> Expanding wildlife populations, increases in number of aircraft movements, a trend toward faster and quieter aircraft, and outreach to the aviation community all have contributed to the observed increase in reported wildlife strikes.\n",
    "\n",
    "\n",
    "## The Bird Strike Dataset \n",
    "\n",
    "Aircraft bird strikes as reported by the Federal Aviation Administration (FAA) in the United States. A bird strike occurs when a bird collides with an aircraft, and the damage can be severe. Each year, there are on average 13,000 birdstrikes in the United States alone and cost the aviation industry $400 million in damages. While most bird strikes are minor, some can be dangerous and fatal. \n",
    "\n",
    "<a title=\"Greg L, CC BY 2.0 &lt;https://creativecommons.org/licenses/by/2.0&gt;, via Wikimedia Commons\" href=\"https://commons.wikimedia.org/wiki/File:US_Airways_Flight_1549_(N106US)_after_crashing_into_the_Hudson_River_(crop_2).jpg\"><img width=\"512\" alt=\"US Airways Flight 1549 (N106US) after crashing into the Hudson River (crop 2)\" src=\"https://upload.wikimedia.org/wikipedia/commons/thumb/8/8f/US_Airways_Flight_1549_%28N106US%29_after_crashing_into_the_Hudson_River_%28crop_2%29.jpg/512px-US_Airways_Flight_1549_%28N106US%29_after_crashing_into_the_Hudson_River_%28crop_2%29.jpg?20200816213116\"></a>\n",
    "\n",
    "**In 2009, US Airways Flight 1549 suffered a major birdstrike resulting in an emergency landing in the Hudson River.**<br>\n",
    "*Greg L, CC BY 2.0, via Wikimedia Commons*"
   ]
  },
  {
   "cell_type": "markdown",
   "id": "930f6ec6f0df33b",
   "metadata": {},
   "source": [
    "Below, we will import the bird strike data we cleaned from the other Anaconda course. "
   ]
  },
  {
   "cell_type": "code",
   "execution_count": null,
   "id": "6a2f75ca9a9a03a6",
   "metadata": {
    "execution": {
     "iopub.execute_input": "2024-10-16T19:23:50.717735Z",
     "iopub.status.busy": "2024-10-16T19:23:50.717432Z",
     "iopub.status.idle": "2024-10-16T19:23:52.597409Z",
     "shell.execute_reply": "2024-10-16T19:23:52.596600Z",
     "shell.execute_reply.started": "2024-10-16T19:23:50.717717Z"
    }
   },
   "outputs": [],
   "source": [
    "import pandas as pd \n",
    "\n",
    "url = r\"https://github.com/thomasnield/anaconda_python_eda/raw/public/birdstrike_section2.csv\"\n",
    "df = pd.read_csv(url, index_col='INDEX_NR', parse_dates=[\"INCIDENT_DATE\"])\n",
    "\n",
    "with pd.option_context('display.max_columns', None):\n",
    "  display(df)"
   ]
  },
  {
   "cell_type": "markdown",
   "id": "f2e6f7df116be6c4",
   "metadata": {},
   "source": [
    "We will also do some datatype conversions."
   ]
  },
  {
   "cell_type": "code",
   "execution_count": null,
   "id": "36af321d8e8f1718",
   "metadata": {
    "execution": {
     "iopub.execute_input": "2024-10-16T19:23:52.642630Z",
     "iopub.status.busy": "2024-10-16T19:23:52.642332Z",
     "iopub.status.idle": "2024-10-16T19:23:53.172824Z",
     "shell.execute_reply": "2024-10-16T19:23:53.172134Z",
     "shell.execute_reply.started": "2024-10-16T19:23:52.642613Z"
    }
   },
   "outputs": [],
   "source": [
    "# Turn PHASE_OF_FLIGHT into a category\n",
    "phase_of_flt = pd.CategoricalDtype(categories=['Parked', 'Taxi','Take-off Run', 'Approach', 'Departure', 'Climb', 'En Route',\n",
    "                                               'Descent', 'Landing Roll', 'Arrival', 'Local'])\n",
    "\n",
    "df[\"PHASE_OF_FLIGHT\"] = df[\"PHASE_OF_FLIGHT\"].astype(phase_of_flt)\n",
    "\n",
    "# Turn TIME into timedelta type \n",
    "df[\"TIME\"] = pd.to_timedelta(df[\"TIME\"])"
   ]
  },
  {
   "cell_type": "markdown",
   "id": "b7443f72dcb85d80",
   "metadata": {},
   "source": [
    "While we could get into the weeds with our audience, and pilots can be a mixed bag crowd with some being very technical, we should strive to avoid going into too many data-cleaning details. We should mention high-level information that we are only looking at data from 2015, leaving us with 141K records to analyze. We should also caution our audience that this data is self-reported. \n",
    "\n",
    "Each record is reported by a pilot to the FAA. It is one thing if the pilot works for a big airline like Delta or Southwest Airlines, and they are well-trained in procedure. They have little reason to miss filing a bird strike report other than the time it takes. But an independent pilot who owns his own small aircraft may be a wildcard. If the damage is minor or nonexistant, perhaps he just shrugs it off and does not report it. If he hits a protected species like the bald eagle, he may be even less inclined as he is unsure of the consequences. \n",
    "\n",
    "We caution our audience that self-reporting always carries a bias with it, because not everybody is going to self-report. This could skew the results in ways that do not reflect reality. For example, if the data shows large airlines are far more prone to bird strikes than general aviation aircraft, that could be due to airlines being better at reporting, not because birds collide more with airliners. \n",
    "\n",
    "We should challenge our audience to not get too caught up in just what the data says. Also they should ask where it came from. What could possible bias it? Framing these questions will help frame more intelligent conclusions.\n",
    "\n",
    "That being said, let's move onto some very real findings.\n",
    "\n",
    "![](https://y.yarn.co/18f66e28-0f40-4db7-b05f-3529759e9708_text.gif)\n",
    "\n",
    "*Courtesy: Paramount Pictures* "
   ]
  },
  {
   "cell_type": "markdown",
   "id": "9e0121b0cac4fea6",
   "metadata": {},
   "source": [
    "## Height and Phase of Flight "
   ]
  },
  {
   "cell_type": "markdown",
   "id": "295aa0c4a9329099",
   "metadata": {},
   "source": [
    "One of the first things we noticed in our analysis is bird strikes definitely skew towards lower altitudes, especially below 1000 feet. "
   ]
  },
  {
   "cell_type": "code",
   "execution_count": null,
   "id": "9ff883dd01b3f16a",
   "metadata": {
    "execution": {
     "iopub.execute_input": "2024-10-16T19:23:53.280900Z",
     "iopub.status.busy": "2024-10-16T19:23:53.280627Z",
     "iopub.status.idle": "2024-10-16T19:23:54.969677Z",
     "shell.execute_reply": "2024-10-16T19:23:54.968894Z",
     "shell.execute_reply.started": "2024-10-16T19:23:53.280881Z"
    }
   },
   "outputs": [],
   "source": [
    "df[\"HEIGHT\"].hist(bins=30)"
   ]
  },
  {
   "cell_type": "markdown",
   "id": "cfbf852bdc0aa24b",
   "metadata": {},
   "source": [
    "If we look at phase of flight, we surprisigly see \"approach\" and \"landing roll\" have more strikes than take-off or climb. "
   ]
  },
  {
   "cell_type": "code",
   "execution_count": null,
   "id": "e2673b193a4ed1b1",
   "metadata": {
    "execution": {
     "iopub.execute_input": "2024-10-16T19:23:55.020232Z",
     "iopub.status.busy": "2024-10-16T19:23:55.019551Z",
     "iopub.status.idle": "2024-10-16T19:23:55.274395Z",
     "shell.execute_reply": "2024-10-16T19:23:55.273678Z",
     "shell.execute_reply.started": "2024-10-16T19:23:55.020203Z"
    }
   },
   "outputs": [],
   "source": [
    "df[\"PHASE_OF_FLIGHT\"].value_counts().plot.bar()"
   ]
  },
  {
   "cell_type": "markdown",
   "id": "10b4e40f11c01f48",
   "metadata": {},
   "source": [
    "Since we are talking to pilots, we do not need to define each of these phases of flights for them as they probably know more than we do. Regardless, here they are for good measure. \n",
    "\n",
    "![](https://github.com/thomasnield/anaconda_python_eda/raw/public/resource/7Od2TS0O.svg)\n"
   ]
  },
  {
   "cell_type": "markdown",
   "id": "45abae20f85fb2f0",
   "metadata": {},
   "source": [
    "## Speed versus Height Variable"
   ]
  },
  {
   "cell_type": "markdown",
   "id": "d525a88ea8800871",
   "metadata": {},
   "source": [
    "Next let's take a look at `SPEED`. The faster a plane is going, the more likely the plane is going to be damaged colliding with a bird, hence resulting in a bird strike report. A bird that bumps into a slow-moving plane is less likely to count as a bird strike if no damage occurs, right? However, a spinning engine on a stationary aircraft can suck in a bird and certainly count as a bird strike too. \n",
    "\n",
    "Let's take a look. "
   ]
  },
  {
   "cell_type": "code",
   "execution_count": null,
   "id": "dc6d54d269de126e",
   "metadata": {
    "execution": {
     "iopub.execute_input": "2024-10-16T19:23:55.437771Z",
     "iopub.status.busy": "2024-10-16T19:23:55.437399Z",
     "iopub.status.idle": "2024-10-16T19:23:55.705946Z",
     "shell.execute_reply": "2024-10-16T19:23:55.705143Z",
     "shell.execute_reply.started": "2024-10-16T19:23:55.437745Z"
    }
   },
   "outputs": [],
   "source": [
    "df[\"SPEED\"].hist(bins=50)"
   ]
  },
  {
   "cell_type": "markdown",
   "id": "ba5b16add3f63cdf",
   "metadata": {},
   "source": [
    "We seem to have a normal distribution here as indicated by the bell curve shape, with some extreme outliers to the right. This is interesting. Maybe this is explained by the height as planes don't hit their high speeds until cruise altitudes. So what happens if we bring that in alongside the speed? "
   ]
  },
  {
   "cell_type": "code",
   "execution_count": null,
   "id": "ea38ce924f850fb8",
   "metadata": {
    "execution": {
     "iopub.execute_input": "2024-10-16T19:23:55.746147Z",
     "iopub.status.busy": "2024-10-16T19:23:55.745855Z",
     "iopub.status.idle": "2024-10-16T19:23:56.284034Z",
     "shell.execute_reply": "2024-10-16T19:23:56.282969Z",
     "shell.execute_reply.started": "2024-10-16T19:23:55.746117Z"
    }
   },
   "outputs": [],
   "source": [
    "df.plot.scatter(x=\"HEIGHT\",y=\"SPEED\")\n"
   ]
  },
  {
   "cell_type": "markdown",
   "id": "7100d91fea46d757",
   "metadata": {},
   "source": [
    "Well, when looking at bird strikes we certainly see as speed increases so does height. However, approaching cruise altitudes above 15,000 feet show sharp decreases in incidents. "
   ]
  },
  {
   "cell_type": "markdown",
   "id": "b9e743650becfc86",
   "metadata": {},
   "source": [
    "## Distance vs Height Variable"
   ]
  },
  {
   "cell_type": "markdown",
   "id": "8553e3b9d158f385",
   "metadata": {},
   "source": [
    "We can also see that when we set distance against height, we see bird strike incidents bottleneck quickly as both approach 0. "
   ]
  },
  {
   "cell_type": "code",
   "execution_count": null,
   "id": "d8956bb05f91fae3",
   "metadata": {
    "execution": {
     "iopub.execute_input": "2024-10-16T19:23:56.429651Z",
     "iopub.status.busy": "2024-10-16T19:23:56.429300Z",
     "iopub.status.idle": "2024-10-16T19:23:56.951354Z",
     "shell.execute_reply": "2024-10-16T19:23:56.950503Z",
     "shell.execute_reply.started": "2024-10-16T19:23:56.429630Z"
    }
   },
   "outputs": [],
   "source": [
    "df.plot.scatter(x=\"DISTANCE\",y=\"HEIGHT\")\n"
   ]
  },
  {
   "cell_type": "markdown",
   "id": "1584a33223613d92",
   "metadata": {},
   "source": [
    "This lines up with our finding that bird strikes happen during the approach and take-off phases of flight. "
   ]
  },
  {
   "cell_type": "markdown",
   "id": "2b977ef3fab251ef",
   "metadata": {},
   "source": [
    "## Time Series Analysis "
   ]
  },
  {
   "cell_type": "markdown",
   "id": "a220c4e084597838",
   "metadata": {},
   "source": [
    "Now let's look at bird strikes by week. We will do some time series conversions and then plot teh count of incidents by week. "
   ]
  },
  {
   "cell_type": "code",
   "execution_count": null,
   "id": "c2de48e417747073",
   "metadata": {
    "execution": {
     "iopub.execute_input": "2024-10-16T19:23:57.134401Z",
     "iopub.status.busy": "2024-10-16T19:23:57.134044Z",
     "iopub.status.idle": "2024-10-16T19:23:57.628426Z",
     "shell.execute_reply": "2024-10-16T19:23:57.627708Z",
     "shell.execute_reply.started": "2024-10-16T19:23:57.134374Z"
    }
   },
   "outputs": [],
   "source": [
    "df_series = pd.DataFrame({\"INCIDENT_DATE\" : df[\"INCIDENT_DATE\"], \"STRIKE_COUNT\" : 1})\n",
    "df_series.set_index('INCIDENT_DATE', inplace=True)\n",
    "\n",
    "df_series \\\n",
    " .resample(\"W\") \\\n",
    " .sum() \\\n",
    " .plot(kind='line', figsize=(15,3), title=\"Time Series Analysis\")\n"
   ]
  },
  {
   "cell_type": "markdown",
   "id": "93d77061017cc7b1",
   "metadata": {},
   "source": [
    "Whoa, we got something quite cyclical here. Let's take a look at a single year and sniff out some seasonality. "
   ]
  },
  {
   "cell_type": "code",
   "execution_count": null,
   "id": "37a2bb37d226b164",
   "metadata": {
    "execution": {
     "iopub.execute_input": "2024-10-16T19:23:57.697068Z",
     "iopub.status.busy": "2024-10-16T19:23:57.696732Z",
     "iopub.status.idle": "2024-10-16T19:23:58.089319Z",
     "shell.execute_reply": "2024-10-16T19:23:58.088467Z",
     "shell.execute_reply.started": "2024-10-16T19:23:57.697046Z"
    }
   },
   "outputs": [],
   "source": [
    "df_series \\\n",
    " .loc[\"2021\"] \\\n",
    " .resample(\"W\") \\\n",
    " .sum() \\\n",
    " .plot(kind='line', figsize=(15,3), title=\"Time Series Analysis\")\n"
   ]
  },
  {
   "cell_type": "markdown",
   "id": "40dc5dea0b23e2f1",
   "metadata": {},
   "source": [
    "So if this is representative of the typical cycle, we see bird strikes rise in April, and then rise again sharply after June. Then the decline starts to happen in the middle of October. \n",
    "\n",
    "Let's look at 2021 onwards by week. "
   ]
  },
  {
   "cell_type": "code",
   "execution_count": null,
   "id": "98720be1a0fd52ed",
   "metadata": {
    "execution": {
     "iopub.execute_input": "2024-10-16T19:23:59.033686Z",
     "iopub.status.busy": "2024-10-16T19:23:59.033217Z",
     "iopub.status.idle": "2024-10-16T19:23:59.413244Z",
     "shell.execute_reply": "2024-10-16T19:23:59.412413Z",
     "shell.execute_reply.started": "2024-10-16T19:23:59.033658Z"
    }
   },
   "outputs": [],
   "source": [
    "df_series \\\n",
    " .loc[\"2021\":] \\\n",
    " .resample(\"W\") \\\n",
    " .sum() \\\n",
    " .plot(kind='line', figsize=(15,3), title=\"Time Series Analysis\")\n"
   ]
  },
  {
   "cell_type": "markdown",
   "id": "69dee3f7aaa3af3a",
   "metadata": {},
   "source": [
    "The reasons why we see a peak in the summer, and a dip in the winter, largely might have to do with migration patterns with birds. In North America, birds fly south for the winter, and fly north for the summer. We could also hypothesize that summer travel brings more flights, but people travel a lot in December for holidays too. If we did research this matter thoroughly, we would find according [to the FAA](https://www.faa.gov/air_traffic/publications/atpubs/aip_html/part2_enr_section_5.6.html) that \"bird strike risk increases because of bird migration during the months of March through April and August through November.\" As a matter of fact, this is the largest factor in bird strike risk and the time series above shows this! \n"
   ]
  },
  {
   "cell_type": "markdown",
   "id": "be00c27986f0dffb",
   "metadata": {},
   "source": [
    "What about time of day? Does that play a role? "
   ]
  },
  {
   "cell_type": "code",
   "execution_count": null,
   "id": "abd8a26095a2c38b",
   "metadata": {
    "execution": {
     "iopub.execute_input": "2024-10-16T19:24:00.987683Z",
     "iopub.status.busy": "2024-10-16T19:24:00.987388Z",
     "iopub.status.idle": "2024-10-16T19:24:02.272850Z",
     "shell.execute_reply": "2024-10-16T19:24:02.264158Z",
     "shell.execute_reply.started": "2024-10-16T19:24:00.987662Z"
    }
   },
   "outputs": [],
   "source": [
    "df_series_tm =  df[\"TIME\"].dropna().dt.components.hours.value_counts().sort_index()\n",
    "df_series_tm.plot(kind='line', figsize=(15,3), title=\"Bird Strikes by Hour\")\n"
   ]
  },
  {
   "cell_type": "markdown",
   "id": "e0aa04983fde701c",
   "metadata": {},
   "source": [
    "Okay it's pretty apparent that bird strikes occur during the day, with a peak well before 10am. Makes sense that many birds would be less active at night. We could hypothesize if the less frequent night bird strikes are nocturnal birds like owls, but go down those rabbit holes on your own time. \n"
   ]
  },
  {
   "cell_type": "markdown",
   "id": "3b5822039d2163b6",
   "metadata": {},
   "source": [
    "It would probably be helpful to see this curve separately for each month of the year, so we can account for seasonality and bird migration increasing or decreasing incidents. "
   ]
  },
  {
   "cell_type": "code",
   "execution_count": null,
   "id": "23d996a2878371c8",
   "metadata": {
    "execution": {
     "iopub.execute_input": "2024-10-16T19:24:02.503073Z",
     "iopub.status.busy": "2024-10-16T19:24:02.501125Z",
     "iopub.status.idle": "2024-10-16T19:24:05.346843Z",
     "shell.execute_reply": "2024-10-16T19:24:05.332150Z",
     "shell.execute_reply.started": "2024-10-16T19:24:02.503038Z"
    }
   },
   "outputs": [],
   "source": [
    "by_month_tm = pd.DataFrame({\n",
    "    \"MONTH\" : df[df[\"TIME\"].notna()][\"INCIDENT_DATE\"].dt.month, \n",
    "    \"HOUR\" : df[df[\"TIME\"].notna()][\"TIME\"].dt.components.hours, \n",
    "    \"STRIKES\" : 1 \n",
    "}).groupby([\"MONTH\",\"HOUR\"]) \\\n",
    ".sum() \\\n",
    ".reset_index() \\\n",
    ".pivot(index=\"HOUR\",columns=\"MONTH\",values=\"STRIKES\")\n",
    "\n",
    "by_month_tm.plot(kind='line', figsize=(15,3), title=\"Bird Strikes by Hour for Each Month\")"
   ]
  },
  {
   "cell_type": "markdown",
   "id": "675f840deda438eb",
   "metadata": {},
   "source": [
    "The peak and dip trends throughout the day generally hold for each month, where summer months are more amplified. But interestingly September (month 9), October (month 10), and May (month 5) have an uptick after 8:00pm (hour 20). These might be migratory months so perhaps there is more bird activity in later hours of the day? It's hard to say and there are many hypotheses we can explore! And we only now know to look because we did this time series analysis. \n",
    "\n",
    "Time series analysis is yet another way we can detect trends and patterns in our data where a chronological component is playing a role. Just be careful and always ask where the data came from! For instance, if you ingested the entire FAA bird strike dataset (and not just post-2015) you may find bird strike reports have gone up rapidly since 2008. Does this mean bird strikes have increased? No, but the reported bird strikes have increased due to more outreach and proactive reporting since the Sully incident. "
   ]
  },
  {
   "cell_type": "markdown",
   "id": "215abf717c8e9909",
   "metadata": {},
   "source": [
    "## What Story Are We Going to Tell? \n",
    "\n",
    "Keep in mind this is an abridged exploratory data analysis for the purposes of this class. It is highly recommended to check out [_Exploratory Data Analysis with Python_](https://learning.anaconda.cloud/exploratory-data-analysis-eda-with-python) if you have not already done so. But these findings we did here should get us started with our storytelling. \n",
    "\n",
    "So what is our central thesis? I think it would be this: \n",
    "\n",
    "> Reported bird strikes occur heavily at low altitude phases of flight, especially on approach. They also are highly seasonal due to migration patterns, climbing as summer approaches and tapering off as winter approaches. They also are much more likely to occur in the morning hours.\n",
    "\n",
    "While this may not be a terribly ground-breaking analysis to pilots (the FAA has also concluded these findings and then some), you did exactly what you were asked: do an independent study on what causes bird strikes and your findings confirm the current hypotheses. \n",
    "\n",
    "We would gather the above charts and use these to back our findings. We will talk about charts in the next section. \n",
    "\n",
    "The pilots may ask you to find more interesting things that others might have missed. You should avoid this pressure because this is p-hacking, something we will discuss more later. Instead, you will want to push back with \"is there something specific (a hypothesis) you want to investigate?\" Put the onus back on them to have a hypothesis as \"the experts\" rather than feel pressure to crunch data blindly looking for correlations. Most productive analyses start with hypotheses and data mining, while appropriate in some situations, quickly has a diminishing return. \n",
    "\n",
    "### SCROLL DOWN FOR ANSWER\n",
    "|<br>\n",
    "|<br>\n",
    "|<br>\n",
    "|<br>\n",
    "|<br>\n",
    "|<br>\n",
    "|<br>\n",
    "|<br>\n",
    "|<br>\n",
    "|<br>\n",
    "|<br>\n",
    "|<br>\n",
    "|<br>\n",
    "|<br>\n",
    "|<br>\n",
    "|<br>\n",
    "|<br>\n",
    "|<br>\n",
    "|<br>\n",
    "|<br>\n",
    "|<br>\n",
    "|<br>\n",
    "|<br>\n",
    "v "
   ]
  },
  {
   "cell_type": "markdown",
   "id": "6b0172204bdca7cd",
   "metadata": {},
   "source": [
    "## Exercise\n",
    "\n",
    "If your audience was not a pilot's union, but rather data scientists at a major AI Conference with 300 attendees for your presentation, what would you do to change your storytelling? "
   ]
  },
  {
   "cell_type": "markdown",
   "id": "9e2fd364e6b8e8a",
   "metadata": {},
   "source": [
    "### SCROLL DOWN FOR ANSWER\n",
    "|<br>\n",
    "|<br>\n",
    "|<br>\n",
    "|<br>\n",
    "|<br>\n",
    "|<br>\n",
    "|<br>\n",
    "|<br>\n",
    "|<br>\n",
    "|<br>\n",
    "|<br>\n",
    "|<br>\n",
    "|<br>\n",
    "|<br>\n",
    "|<br>\n",
    "|<br>\n",
    "|<br>\n",
    "|<br>\n",
    "|<br>\n",
    "|<br>\n",
    "|<br>\n",
    "|<br>\n",
    "|<br>\n",
    "v "
   ]
  },
  {
   "cell_type": "markdown",
   "id": "675f9084770fc970",
   "metadata": {},
   "source": [
    "**If you are presenting to data scientists at an AI conference rather than a pilot's union, here are some things to consider:**\n",
    "\n",
    "* Keep findings the same, but use more detailed statistics \n",
    "* Highly technical crowd, show code\n",
    "* Use a Jupyter notebook instead of PowerPoint \n",
    "* Explain aviation jargon to them, as few (if any) will be pilots\n",
    "* Challenge them to think outside the data"
   ]
  },
  {
   "cell_type": "code",
   "execution_count": null,
   "id": "626923f0-1abb-46db-812f-7a51bb0cbcc6",
   "metadata": {},
   "outputs": [],
   "source": []
  },
  {
   "cell_type": "code",
   "execution_count": null,
   "id": "2200602a-6730-46c1-b963-c0efa03b30fe",
   "metadata": {},
   "outputs": [],
   "source": []
  }
 ],
 "metadata": {
  "kernelspec": {
   "display_name": "anaconda-2024.02-py310",
   "language": "python",
   "name": "conda-env-anaconda-2024.02-py310-py"
  },
  "language_info": {
   "codemirror_mode": {
    "name": "ipython",
    "version": 3
   },
   "file_extension": ".py",
   "mimetype": "text/x-python",
   "name": "python",
   "nbconvert_exporter": "python",
   "pygments_lexer": "ipython3",
   "version": "3.10.14"
  }
 },
 "nbformat": 4,
 "nbformat_minor": 5
}
