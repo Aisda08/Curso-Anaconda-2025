{
 "cells": [
  {
   "cell_type": "markdown",
   "id": "dc3c2ab72d953da8",
   "metadata": {},
   "source": [
    "# FAA Bird Strike EDA"
   ]
  },
  {
   "cell_type": "markdown",
   "id": "a933ce0af6408222",
   "metadata": {},
   "source": [
    "Nesta seção, vamos pegar as descobertas resumidas do curso Anaconda [_Análise Exploratória de Dados com Python_](https://learning.anaconda.cloud/exploratory-data-analysis-eda-with-python) e reuni-las para contar uma história.\n",
    "\n",
    "Digamos que um sindicato de pilotos nos pediu para realizar um estudo independente sobre os fatores que causam colisões com pássaros. Existem outros relatórios por aí, mas eles querem fazer os seus próprios e ver se chegamos a conclusões semelhantes, visto que os danos causados ​​por colisões com pássaros continuam sendo um problema.\n",
    "\n",
    "Queremos incluir apenas dados recentes de 2015 em diante. Consideramos que há pouco valor em analisar dados mais antigos, anteriores a esse ano. Podemos argumentar que a natureza das colisões com pássaros nunca muda, mas o ambiente certamente muda. Horários e aeroportos aumentam e diminuem, os padrões climáticos mudam e diferentes companhias aéreas surgem e desaparecem. Até mesmo a [própria FAA](https://wildlife.faa.gov/home) afirma:\n",
    "\n",
    "> A expansão das populações de animais selvagens, o aumento no número de movimentos de aeronaves, a tendência para aeronaves mais rápidas e silenciosas e a conscientização da comunidade da aviação contribuíram para o aumento observado nos registros de colisões com animais selvagens.\n",
    "\n",
    "## Conjunto de Dados de Colisões com Aves\n",
    "\n",
    "Colisões com aves em aeronaves, conforme relatado pela Administração Federal de Aviação (FAA) nos Estados Unidos. Uma colisão com aves ocorre quando uma ave colide com uma aeronave, e os danos podem ser graves. A cada ano, ocorrem em média 13.000 colisões com aves somente nos Estados Unidos, custando à indústria da aviação US$ 400 milhões em danos. Embora a maioria das colisões com aves seja leve, algumas podem ser perigosas e fatais.\n",
    "\n",
    "<a title=\"Greg L, CC BY 2.0 &lt;https://creativecommons.org/licenses/by/2.0&gt;, via Wikimedia Commons\" href=\"https://commons.wikimedia.org/wiki/File:US_Airways_Flight_1549_(N106US)_after_crashing_into_the_Hudson_River_(crop_2).jpg\"><img width=\"512\" alt=\"Voo 1549 da US Airways (N106US) após cair no Rio Hudson (corte 2)\" src=\"https://upload.wikimedia.org/wikipedia/commons/thumb/8/8f/US_Airways_Flight_1549_%28N106US%29_after_crashing_into_the_Hudson_River_%28crop_2%29.jpg/512px-US_Airways_Flight_1549_%28N106US%29_after_crashing_into_the_Hudson_River_%28crop_2%29.jpg?20200816213116\"></a>\n",
    "\n",
    "**Em 2009, o voo 1549 da US Airways sofreu uma grave colisão com pássaros, resultando em um pouso de emergência no Rio Hudson.**\n",
    "*Greg L, CC BY 2.0, via Wikimedia Commons*"
   ]
  },
  {
   "cell_type": "markdown",
   "id": "930f6ec6f0df33b",
   "metadata": {},
   "source": [
    "Abaixo, importaremos os dados de colisão com pássaros que limpamos de outro curso da Anaconda."
   ]
  },
  {
   "cell_type": "code",
   "execution_count": null,
   "id": "6a2f75ca9a9a03a6",
   "metadata": {
    "execution": {
     "iopub.execute_input": "2024-10-16T19:23:50.717735Z",
     "iopub.status.busy": "2024-10-16T19:23:50.717432Z",
     "iopub.status.idle": "2024-10-16T19:23:52.597409Z",
     "shell.execute_reply": "2024-10-16T19:23:52.596600Z",
     "shell.execute_reply.started": "2024-10-16T19:23:50.717717Z"
    }
   },
   "outputs": [],
   "source": [
    "import pandas as pd \n",
    "\n",
    "url = r\"https://github.com/thomasnield/anaconda_python_eda/raw/public/birdstrike_section2.csv\"\n",
    "df = pd.read_csv(url, index_col='INDEX_NR', parse_dates=[\"INCIDENT_DATE\"])\n",
    "\n",
    "with pd.option_context('display.max_columns', None):\n",
    "  display(df)"
   ]
  },
  {
   "cell_type": "markdown",
   "id": "f2e6f7df116be6c4",
   "metadata": {},
   "source": [
    "Também faremos algumas conversões de tipos de dados."
   ]
  },
  {
   "cell_type": "code",
   "execution_count": null,
   "id": "36af321d8e8f1718",
   "metadata": {
    "execution": {
     "iopub.execute_input": "2024-10-16T19:23:52.642630Z",
     "iopub.status.busy": "2024-10-16T19:23:52.642332Z",
     "iopub.status.idle": "2024-10-16T19:23:53.172824Z",
     "shell.execute_reply": "2024-10-16T19:23:53.172134Z",
     "shell.execute_reply.started": "2024-10-16T19:23:52.642613Z"
    }
   },
   "outputs": [],
   "source": [
    "# Transforma PHASE_OF_FLIGHT em uma categoria\n",
    "phase_of_flt = pd.CategoricalDtype(categories=['Parked', 'Taxi','Take-off Run', 'Approach', 'Departure', 'Climb', 'En Route',\n",
    "                                               'Descent', 'Landing Roll', 'Arrival', 'Local'])\n",
    "\n",
    "df[\"PHASE_OF_FLIGHT\"] = df[\"PHASE_OF_FLIGHT\"].astype(phase_of_flt)\n",
    "\n",
    "# Transforma TIME em tipo timedelta\n",
    "df[\"TIME\"] = pd.to_timedelta(df[\"TIME\"])"
   ]
  },
  {
   "cell_type": "markdown",
   "id": "b7443f72dcb85d80",
   "metadata": {},
   "source": [
    "Cada registro é relatado por um piloto à FAA. Uma coisa é se o piloto trabalha para uma grande companhia aérea como a Delta ou a Southwest Airlines, e eles são bem treinados em procedimentos. Eles têm poucos motivos para deixar de registrar um relatório de colisão com pássaros, além do tempo que isso leva. Mas um piloto independente que possui sua própria aeronave pequena pode ser uma incógnita. Se o dano for pequeno ou inexistente, talvez ele simplesmente ignore e não o relate. Se ele atingir uma espécie protegida como a águia-americana, ele pode ficar ainda menos inclinado, pois não tem certeza das consequências.\n",
    "\n",
    "Advertimos nosso público que o autorrelato sempre carrega um viés, pois nem todo mundo vai fazer isso. Isso pode distorcer os resultados de maneiras que não refletem a realidade. Por exemplo, se os dados mostram que grandes companhias aéreas são muito mais propensas a colisões com pássaros do que aeronaves da aviação geral, isso pode ser devido ao fato de as companhias aéreas serem melhores em reportar, e não porque os pássaros colidem mais com aviões.\n",
    "\n",
    "Devemos desafiar nosso público a não se prender muito apenas ao que os dados dizem. Eles também devem perguntar de onde vieram. O que poderia enviesá-los? Formular essas perguntas ajudará a formular conclusões mais inteligentes.\n",
    "\n",
    "Dito isso, vamos passar para algumas descobertas bem reais.\n",
    "\n",
    "![](https://y.yarn.co/18f66e28-0f40-4db7-b05f-3529759e9708_text.gif)\n",
    "\n",
    "*Fonte: Paramount Pictures* "
   ]
  },
  {
   "cell_type": "markdown",
   "id": "9e0121b0cac4fea6",
   "metadata": {},
   "source": [
    "## Altura e Fase de Voo"
   ]
  },
  {
   "cell_type": "markdown",
   "id": "295aa0c4a9329099",
   "metadata": {},
   "source": [
    "Uma das primeiras coisas que notamos em nossa análise é que as colisões com pássaros definitivamente se concentram em altitudes mais baixas, especialmente abaixo de 1.000 pés."
   ]
  },
  {
   "cell_type": "code",
   "execution_count": null,
   "id": "9ff883dd01b3f16a",
   "metadata": {
    "execution": {
     "iopub.execute_input": "2024-10-16T19:23:53.280900Z",
     "iopub.status.busy": "2024-10-16T19:23:53.280627Z",
     "iopub.status.idle": "2024-10-16T19:23:54.969677Z",
     "shell.execute_reply": "2024-10-16T19:23:54.968894Z",
     "shell.execute_reply.started": "2024-10-16T19:23:53.280881Z"
    }
   },
   "outputs": [],
   "source": [
    "df[\"HEIGHT\"].hist(bins=30)"
   ]
  },
  {
   "cell_type": "markdown",
   "id": "cfbf852bdc0aa24b",
   "metadata": {},
   "source": [
    "Se observarmos a fase do voo, surpreendentemente vemos que a \"aproximação\" e a \"rolagem de pouso\" têm mais impactos do que a decolagem ou a subida."
   ]
  },
  {
   "cell_type": "code",
   "execution_count": null,
   "id": "e2673b193a4ed1b1",
   "metadata": {
    "execution": {
     "iopub.execute_input": "2024-10-16T19:23:55.020232Z",
     "iopub.status.busy": "2024-10-16T19:23:55.019551Z",
     "iopub.status.idle": "2024-10-16T19:23:55.274395Z",
     "shell.execute_reply": "2024-10-16T19:23:55.273678Z",
     "shell.execute_reply.started": "2024-10-16T19:23:55.020203Z"
    }
   },
   "outputs": [],
   "source": [
    "df[\"PHASE_OF_FLIGHT\"].value_counts().plot.bar()"
   ]
  },
  {
   "cell_type": "markdown",
   "id": "10b4e40f11c01f48",
   "metadata": {},
   "source": [
    "Como estamos falando com pilotos, não precisamos definir cada uma dessas fases do voo para eles, pois provavelmente sabem mais do que nós. De qualquer forma, aqui estão elas para garantir.\n",
    "\n",
    "![](https://github.com/thomasnield/anaconda_python_eda/raw/public/resource/7Od2TS0O.svg)\n"
   ]
  },
  {
   "cell_type": "markdown",
   "id": "45abae20f85fb2f0",
   "metadata": {},
   "source": [
    "## Variável Velocidade vs. Altura"
   ]
  },
  {
   "cell_type": "markdown",
   "id": "d525a88ea8800871",
   "metadata": {},
   "source": [
    "A seguir, vamos dar uma olhada em `SPEED`. Quanto mais rápido um avião estiver voando, maior a probabilidade de ser danificado ao colidir com um pássaro, resultando em um relatório de colisão com pássaros. Um pássaro que colide com um avião em movimento lento tem menos probabilidade de ser considerado uma colisão com pássaros se não houver danos, certo? No entanto, um motor em rotação em uma aeronave parada pode sugar um pássaro e certamente também ser considerado uma colisão com pássaros.\n",
    "\n",
    "Vamos dar uma olhada."
   ]
  },
  {
   "cell_type": "code",
   "execution_count": null,
   "id": "dc6d54d269de126e",
   "metadata": {
    "execution": {
     "iopub.execute_input": "2024-10-16T19:23:55.437771Z",
     "iopub.status.busy": "2024-10-16T19:23:55.437399Z",
     "iopub.status.idle": "2024-10-16T19:23:55.705946Z",
     "shell.execute_reply": "2024-10-16T19:23:55.705143Z",
     "shell.execute_reply.started": "2024-10-16T19:23:55.437745Z"
    }
   },
   "outputs": [],
   "source": [
    "df[\"SPEED\"].hist(bins=50)"
   ]
  },
  {
   "cell_type": "markdown",
   "id": "ba5b16add3f63cdf",
   "metadata": {},
   "source": [
    "Parece que temos uma distribuição normal aqui, conforme indicado pela curva em forma de sino, com alguns valores extremos à direita. Isso é interessante. Talvez isso seja explicado pela altitude, já que os aviões só atingem suas altas velocidades em altitudes de cruzeiro. Então, o que acontece se somarmos isso à velocidade?"
   ]
  },
  {
   "cell_type": "code",
   "execution_count": null,
   "id": "ea38ce924f850fb8",
   "metadata": {
    "execution": {
     "iopub.execute_input": "2024-10-16T19:23:55.746147Z",
     "iopub.status.busy": "2024-10-16T19:23:55.745855Z",
     "iopub.status.idle": "2024-10-16T19:23:56.284034Z",
     "shell.execute_reply": "2024-10-16T19:23:56.282969Z",
     "shell.execute_reply.started": "2024-10-16T19:23:55.746117Z"
    }
   },
   "outputs": [],
   "source": [
    "df.plot.scatter(x=\"HEIGHT\",y=\"SPEED\")\n"
   ]
  },
  {
   "cell_type": "markdown",
   "id": "7100d91fea46d757",
   "metadata": {},
   "source": [
    "Bem, ao analisarmos colisões com pássaros, certamente vemos que, à medida que a velocidade aumenta, a altura também aumenta. No entanto, ao se aproximar de altitudes de cruzeiro acima de 15.000 pés, observamos uma queda acentuada nos incidentes."
   ]
  },
  {
   "cell_type": "markdown",
   "id": "b9e743650becfc86",
   "metadata": {},
   "source": [
    "## Variável Distância vs. Altura"
   ]
  },
  {
   "cell_type": "markdown",
   "id": "8553e3b9d158f385",
   "metadata": {},
   "source": [
    "Também podemos observar que, quando definimos a distância em relação à altura, observamos que os incidentes de colisão com pássaros se tornam rapidamente congestionados, à medida que ambos se aproximam de 0."
   ]
  },
  {
   "cell_type": "code",
   "execution_count": null,
   "id": "d8956bb05f91fae3",
   "metadata": {
    "execution": {
     "iopub.execute_input": "2024-10-16T19:23:56.429651Z",
     "iopub.status.busy": "2024-10-16T19:23:56.429300Z",
     "iopub.status.idle": "2024-10-16T19:23:56.951354Z",
     "shell.execute_reply": "2024-10-16T19:23:56.950503Z",
     "shell.execute_reply.started": "2024-10-16T19:23:56.429630Z"
    }
   },
   "outputs": [],
   "source": [
    "df.plot.scatter(x=\"DISTANCE\",y=\"HEIGHT\")\n"
   ]
  },
  {
   "cell_type": "markdown",
   "id": "1584a33223613d92",
   "metadata": {},
   "source": [
    "Isso está de acordo com nossa descoberta de que colisões com pássaros acontecem durante as fases de aproximação e decolagem do voo."
   ]
  },
  {
   "cell_type": "markdown",
   "id": "2b977ef3fab251ef",
   "metadata": {},
   "source": [
    "## Análise de Séries Temporais"
   ]
  },
  {
   "cell_type": "markdown",
   "id": "a220c4e084597838",
   "metadata": {},
   "source": [
    "Agora, vamos analisar os incidentes com pássaros por semana. Faremos algumas conversões de séries temporais e, em seguida, plotaremos a contagem de incidentes por semana."
   ]
  },
  {
   "cell_type": "code",
   "execution_count": null,
   "id": "c2de48e417747073",
   "metadata": {
    "execution": {
     "iopub.execute_input": "2024-10-16T19:23:57.134401Z",
     "iopub.status.busy": "2024-10-16T19:23:57.134044Z",
     "iopub.status.idle": "2024-10-16T19:23:57.628426Z",
     "shell.execute_reply": "2024-10-16T19:23:57.627708Z",
     "shell.execute_reply.started": "2024-10-16T19:23:57.134374Z"
    }
   },
   "outputs": [],
   "source": [
    "df_series = pd.DataFrame({\"INCIDENT_DATE\" : df[\"INCIDENT_DATE\"], \"STRIKE_COUNT\" : 1})\n",
    "df_series.set_index('INCIDENT_DATE', inplace=True)\n",
    "\n",
    "df_series \\\n",
    " .resample(\"W\") \\\n",
    " .sum() \\\n",
    " .plot(kind='line', figsize=(15,3), title=\"Time Series Analysis\")\n"
   ]
  },
  {
   "cell_type": "markdown",
   "id": "93d77061017cc7b1",
   "metadata": {},
   "source": [
    "Nossa, temos algo bastante cíclico aqui. Vamos analisar um único ano e identificar alguma sazonalidade."
   ]
  },
  {
   "cell_type": "code",
   "execution_count": null,
   "id": "37a2bb37d226b164",
   "metadata": {
    "execution": {
     "iopub.execute_input": "2024-10-16T19:23:57.697068Z",
     "iopub.status.busy": "2024-10-16T19:23:57.696732Z",
     "iopub.status.idle": "2024-10-16T19:23:58.089319Z",
     "shell.execute_reply": "2024-10-16T19:23:58.088467Z",
     "shell.execute_reply.started": "2024-10-16T19:23:57.697046Z"
    }
   },
   "outputs": [],
   "source": [
    "df_series \\\n",
    " .loc[\"2021\"] \\\n",
    " .resample(\"W\") \\\n",
    " .sum() \\\n",
    " .plot(kind='line', figsize=(15,3), title=\"Time Series Analysis\")\n"
   ]
  },
  {
   "cell_type": "markdown",
   "id": "40dc5dea0b23e2f1",
   "metadata": {},
   "source": [
    "Portanto, se isso for representativo do ciclo típico, vemos os incidentes com pássaros aumentarem em abril e, em seguida, aumentarem novamente de forma acentuada após junho. O declínio começa em meados de outubro.\n",
    "\n",
    "Vamos analisar de 2021 em diante, por semana."
   ]
  },
  {
   "cell_type": "code",
   "execution_count": null,
   "id": "98720be1a0fd52ed",
   "metadata": {
    "execution": {
     "iopub.execute_input": "2024-10-16T19:23:59.033686Z",
     "iopub.status.busy": "2024-10-16T19:23:59.033217Z",
     "iopub.status.idle": "2024-10-16T19:23:59.413244Z",
     "shell.execute_reply": "2024-10-16T19:23:59.412413Z",
     "shell.execute_reply.started": "2024-10-16T19:23:59.033658Z"
    }
   },
   "outputs": [],
   "source": [
    "df_series \\\n",
    " .loc[\"2021\":] \\\n",
    " .resample(\"W\") \\\n",
    " .sum() \\\n",
    " .plot(kind='line', figsize=(15,3), title=\"Time Series Analysis\")\n"
   ]
  },
  {
   "cell_type": "markdown",
   "id": "69dee3f7aaa3af3a",
   "metadata": {},
   "source": [
    "Os motivos pelos quais vemos um pico no verão e uma queda no inverno podem ter a ver, em grande parte, com os padrões de migração das aves. Na América do Norte, as aves voam para o sul no inverno e para o norte no verão. Também podemos levantar a hipótese de que as viagens de verão trazem mais voos, mas as pessoas também viajam muito em dezembro para férias. Se pesquisássemos esse assunto a fundo, descobriríamos, de acordo com a [FAA](https://www.faa.gov/air_traffic/publications/atpubs/aip_html/part2_enr_section_5.6.html), que \"o risco de colisões com pássaros aumenta devido à migração de pássaros durante os meses de março a abril e de agosto a novembro\". Aliás, esse é o maior fator no risco de colisões com pássaros, e a série temporal acima demonstra isso!"
   ]
  },
  {
   "cell_type": "markdown",
   "id": "be00c27986f0dffb",
   "metadata": {},
   "source": [
    "E quanto ao horário? Isso influencia?"
   ]
  },
  {
   "cell_type": "code",
   "execution_count": null,
   "id": "abd8a26095a2c38b",
   "metadata": {
    "execution": {
     "iopub.execute_input": "2024-10-16T19:24:00.987683Z",
     "iopub.status.busy": "2024-10-16T19:24:00.987388Z",
     "iopub.status.idle": "2024-10-16T19:24:02.272850Z",
     "shell.execute_reply": "2024-10-16T19:24:02.264158Z",
     "shell.execute_reply.started": "2024-10-16T19:24:00.987662Z"
    }
   },
   "outputs": [],
   "source": [
    "df_series_tm =  df[\"TIME\"].dropna().dt.components.hours.value_counts().sort_index()\n",
    "df_series_tm.plot(kind='line', figsize=(15,3), title=\"Bird Strikes by Hour\")\n"
   ]
  },
  {
   "cell_type": "markdown",
   "id": "e0aa04983fde701c",
   "metadata": {},
   "source": [
    "Ok, é bastante evidente que as colisões com pássaros ocorrem durante o dia, com um pico bem antes das 10h. Faz sentido que muitas aves sejam menos ativas à noite. Poderíamos levantar a hipótese de que as colisões noturnas menos frequentes com pássaros sejam aves noturnas, como corujas, mas explore essas áreas com calma."
   ]
  },
  {
   "cell_type": "markdown",
   "id": "3b5822039d2163b6",
   "metadata": {},
   "source": [
    "Provavelmente seria útil analisar essa curva separadamente para cada mês do ano, para que possamos levar em conta a sazonalidade e o aumento ou a diminuição dos incidentes de migração de pássaros."
   ]
  },
  {
   "cell_type": "code",
   "execution_count": null,
   "id": "23d996a2878371c8",
   "metadata": {
    "execution": {
     "iopub.execute_input": "2024-10-16T19:24:02.503073Z",
     "iopub.status.busy": "2024-10-16T19:24:02.501125Z",
     "iopub.status.idle": "2024-10-16T19:24:05.346843Z",
     "shell.execute_reply": "2024-10-16T19:24:05.332150Z",
     "shell.execute_reply.started": "2024-10-16T19:24:02.503038Z"
    }
   },
   "outputs": [],
   "source": [
    "by_month_tm = pd.DataFrame({\n",
    "    \"MONTH\" : df[df[\"TIME\"].notna()][\"INCIDENT_DATE\"].dt.month, \n",
    "    \"HOUR\" : df[df[\"TIME\"].notna()][\"TIME\"].dt.components.hours, \n",
    "    \"STRIKES\" : 1 \n",
    "}).groupby([\"MONTH\",\"HOUR\"]) \\\n",
    ".sum() \\\n",
    ".reset_index() \\\n",
    ".pivot(index=\"HOUR\",columns=\"MONTH\",values=\"STRIKES\")\n",
    "\n",
    "by_month_tm.plot(kind='line', figsize=(15,3), title=\"Bird Strikes by Hour for Each Month\")"
   ]
  },
  {
   "cell_type": "markdown",
   "id": "675f840deda438eb",
   "metadata": {},
   "source": [
    "As tendências de pico e queda ao longo do dia geralmente se mantêm para cada mês, sendo os meses de verão mais intensos. Curiosamente, setembro (mês 9), outubro (mês 10) e maio (mês 5) apresentam um aumento após as 20h (hora 20). Esses podem ser meses migratórios, então talvez haja mais atividade de aves nas horas mais tardias do dia? É difícil dizer, e há muitas hipóteses que podemos explorar! E só agora sabemos como procurar porque fizemos esta análise de séries temporais.\n",
    "\n",
    "A análise de séries temporais é mais uma maneira de detectar tendências e padrões em nossos dados nos quais um componente cronológico desempenha um papel. Apenas tome cuidado e sempre pergunte de onde vieram os dados! Por exemplo, se você ingerir todo o conjunto de dados de colisões com aves da FAA (e não apenas após 2015), poderá descobrir que os relatos de colisões com aves aumentaram rapidamente desde 2008. Isso significa que as colisões com aves aumentaram? Não, mas os relatos de colisões com aves aumentaram devido a um maior alcance e relatórios proativos desde o incidente de Sully."
   ]
  },
  {
   "cell_type": "markdown",
   "id": "215abf717c8e9909",
   "metadata": {},
   "source": [
    "## Que História Vamos Contar?\n",
    "\n",
    "Tenha em mente que esta é uma análise exploratória de dados resumida para os propósitos desta aula. É altamente recomendável conferir [_Análise Exploratória de Dados com Python_](https://learning.anaconda.cloud/exploratory-data-analysis-eda-with-python) caso você ainda não tenha feito isso. Mas essas descobertas que fizemos aqui devem nos ajudar a começar a contar a história.\n",
    "\n",
    "Então, qual é a nossa tese central? Acho que seria esta:\n",
    "\n",
    "> Os relatos de colisões com pássaros ocorrem intensamente em fases de voo de baixa altitude, especialmente na aproximação. Eles também são altamente sazonais devido aos padrões de migração, subindo à medida que o verão se aproxima e diminuindo à medida que o inverno se aproxima. Também são muito mais propensos a ocorrer nas primeiras horas da manhã.\n",
    "\n",
    "Embora esta possa não ser uma análise muito inovadora para os pilotos (a FAA também concluiu essas descobertas e outras), você fez exatamente o que lhe foi pedido: realizou um estudo independente sobre as causas das colisões com pássaros, e suas descobertas confirmaram as hipóteses atuais.\n",
    "\n",
    "Reuniríamos os gráficos acima e os usaríamos para embasar nossas descobertas. Falaremos sobre gráficos na próxima seção.\n",
    "\n",
    "Os pilotos podem pedir que você encontre coisas mais interessantes que outros possam ter perdido. Você deve evitar essa pressão, pois isso é p-hacking, algo que discutiremos mais adiante. Em vez disso, você deve responder com \"há algo específico (uma hipótese) que você deseja investigar?\". Recoloque neles o ônus de ter uma hipótese, como \"os especialistas\", em vez de se sentirem pressionados a analisar dados às cegas em busca de correlações. As análises mais produtivas começam com hipóteses, e a mineração de dados, embora apropriada em algumas situações, rapidamente tem um retorno decrescente."
   ]
  },
  {
   "cell_type": "markdown",
   "id": "6b0172204bdca7cd",
   "metadata": {},
   "source": [
    "## EXERCÍCIO\n",
    "\n",
    "Se o seu público não fosse um sindicato de pilotos, mas sim cientistas de dados em uma grande conferência de IA com 300 participantes para sua apresentação, o que você faria para mudar sua narrativa?"
   ]
  },
  {
   "cell_type": "markdown",
   "id": "9e2fd364e6b8e8a",
   "metadata": {},
   "source": [
    "### RESPOSTA A BAIXO\n",
    "\n",
    "|<br>\n",
    "|<br>\n",
    "|<br>\n",
    "|<br>\n",
    "|<br>\n",
    "|<br>\n",
    "|<br>\n",
    "|<br>\n",
    "|<br>\n",
    "|<br>\n",
    "|<br>\n",
    "|<br>\n",
    "|<br>\n",
    "|<br>\n",
    "|<br>\n",
    "|<br>\n",
    "|<br>\n",
    "|<br>\n",
    "|<br>\n",
    "|<br>\n",
    "|<br>\n",
    "|<br>\n",
    "|<br>\n",
    "v "
   ]
  },
  {
   "cell_type": "markdown",
   "id": "675f9084770fc970",
   "metadata": {},
   "source": [
    "**Se você estiver apresentando para cientistas de dados em uma conferência de IA em vez de um sindicato de pilotos, aqui estão algumas coisas a considerar:**\n",
    "\n",
    "* Mantenha as mesmas descobertas, mas use estatísticas mais detalhadas\n",
    "* Público altamente técnico, mostre o código\n",
    "* Use um notebook Jupyter em vez do PowerPoint\n",
    "* Explique o jargão da aviação a eles, já que poucos (se houver) serão pilotos\n",
    "* Desafie-os a pensar além dos dados"
   ]
  },
  {
   "cell_type": "code",
   "execution_count": null,
   "id": "626923f0-1abb-46db-812f-7a51bb0cbcc6",
   "metadata": {},
   "outputs": [],
   "source": []
  },
  {
   "cell_type": "code",
   "execution_count": null,
   "id": "2200602a-6730-46c1-b963-c0efa03b30fe",
   "metadata": {},
   "outputs": [],
   "source": []
  }
 ],
 "metadata": {
  "kernelspec": {
   "display_name": "anaconda-2024.02-py310",
   "language": "python",
   "name": "conda-env-anaconda-2024.02-py310-py"
  },
  "language_info": {
   "codemirror_mode": {
    "name": "ipython",
    "version": 3
   },
   "file_extension": ".py",
   "mimetype": "text/x-python",
   "name": "python",
   "nbconvert_exporter": "python",
   "pygments_lexer": "ipython3",
   "version": "3.10.14"
  }
 },
 "nbformat": 4,
 "nbformat_minor": 5
}
