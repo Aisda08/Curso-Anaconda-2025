{
 "cells": [
  {
   "cell_type": "markdown",
   "metadata": {
    "id": "Nwgu2z8yJGFV"
   },
   "source": [
    "# Extraindo Dados com SELECT\n",
    "\n",
    "Nesta seção, aprenderemos o comando SQL mais comum. `SELECT` é usado para recuperar dados de uma ou mais tabelas. Ele também pode transformar dados antes de serem retornados. No entanto, é uma operação somente leitura, portanto, não altera as tabelas subjacentes.\n",
    "\n",
    "## Configuração\n",
    "Primeiro, faça a configuração. Baixe o arquivo de banco de dados SQLite `company_operations.db` e conecte-se a ele. Também execute `pandas` para exibir os resultados da nossa consulta SQL como um `DataFrame`."
   ]
  },
  {
   "cell_type": "code",
   "execution_count": null,
   "metadata": {
    "id": "hWvJcKELI0dl"
   },
   "outputs": [],
   "source": [
    "import sqlite3\n",
    "import pandas as pd\n",
    "import urllib.request\n",
    "\n",
    "# baixe o banco de dados SQLite e conecte-se a ele\n",
    "urllib.request.urlretrieve(\"https://github.com/thomasnield/anaconda_intro_to_sql/blob/main/company_operations.db?raw=true\", \"company_operations.db\")\n",
    "conn = sqlite3.connect('company_operations.db')"
   ]
  },
  {
   "cell_type": "markdown",
   "metadata": {
    "id": "ZV7pT4dRJstN"
   },
   "source": [
    "## Selecionando Colunas\n",
    "\n",
    "Vamos primeiro selecionar todas as colunas da tabela `CUSTOMER`."
   ]
  },
  {
   "cell_type": "code",
   "execution_count": null,
   "metadata": {
    "colab": {
     "base_uri": "https://localhost:8080/",
     "height": 359
    },
    "executionInfo": {
     "elapsed": 10,
     "status": "ok",
     "timestamp": 1665606802987,
     "user": {
      "displayName": "Thomas Nield",
      "userId": "10920076319013086175"
     },
     "user_tz": 420
    },
    "id": "IihKn6aqKDE1",
    "outputId": "fea16f15-f6eb-44a5-f95a-6ad5c8094b07"
   },
   "outputs": [],
   "source": [
    "sql = \"SELECT * FROM CUSTOMER\"\n",
    "\n",
    "pd.read_sql(sql, conn)"
   ]
  },
  {
   "cell_type": "markdown",
   "metadata": {
    "id": "C9EdPPb8KLi5"
   },
   "source": [
    "Observe que o asterisco `*` indica a seleção de todas as colunas, e o `FROM` é precedido pela tabela da qual você está selecionando as colunas, que é `CUSTOMER`. Podemos ver que há 10 clientes nesta tabela.\n",
    "\n",
    "Se você quiser limitar sua consulta apenas aos 5 primeiros resultados, adicione `LIMIT 5` para interromper o retorno de dados após 5 registros. Isso é útil se houver muitos registros e você quiser apenas uma amostra de registros para ver a aparência dos dados."
   ]
  },
  {
   "cell_type": "code",
   "execution_count": null,
   "metadata": {
    "colab": {
     "base_uri": "https://localhost:8080/",
     "height": 204
    },
    "executionInfo": {
     "elapsed": 302,
     "status": "ok",
     "timestamp": 1665606806295,
     "user": {
      "displayName": "Thomas Nield",
      "userId": "10920076319013086175"
     },
     "user_tz": 420
    },
    "id": "4ePGtzEyKyTH",
    "outputId": "56beb142-9b0f-4a94-d7de-d91af0022dac"
   },
   "outputs": [],
   "source": [
    "sql = \"SELECT * FROM CUSTOMER LIMIT 5\"\n",
    "\n",
    "pd.read_sql(sql, conn)"
   ]
  },
  {
   "cell_type": "markdown",
   "metadata": {
    "id": "2yuWe9kdLIxY"
   },
   "source": [
    "Observe que você também pode selecionar colunas específicas separadas por vírgulas. Isso é útil para capturar apenas as colunas de seu interesse, além de reduzir a quantidade de dados a serem recuperados. Abaixo, recuperamos apenas as colunas `CUSTOMER_NAME` e `ADDRESS`."
   ]
  },
  {
   "cell_type": "code",
   "execution_count": null,
   "metadata": {
    "colab": {
     "base_uri": "https://localhost:8080/",
     "height": 359
    },
    "executionInfo": {
     "elapsed": 359,
     "status": "ok",
     "timestamp": 1665606808969,
     "user": {
      "displayName": "Thomas Nield",
      "userId": "10920076319013086175"
     },
     "user_tz": 420
    },
    "id": "Um66SFa4LI-J",
    "outputId": "ea66f5f8-39ca-43aa-f6d1-86832df58a21"
   },
   "outputs": [],
   "source": [
    "sql = \"SELECT CUSTOMER_NAME, ADDRESS FROM CUSTOMER\"\n",
    "\n",
    "pd.read_sql(sql, conn)"
   ]
  },
  {
   "cell_type": "markdown",
   "metadata": {
    "id": "6p89tdxNL3RP"
   },
   "source": [
    "Se quiser ver quais tabelas estão disponíveis em um banco de dados, você pode solicitar a documentação ao administrador do banco de dados ou usar uma ferramenta de interface gráfica do usuário que exiba as tabelas. Em um ambiente Python, você precisará de um comando SQL para sua plataforma de banco de dados que liste todas as tabelas.\n",
    "\n",
    "No SQLite, há uma tabela administrativa oculta chamada `sqlite_master` que permite listar todos os objetos em um banco de dados. Aprenderemos mais sobre a palavra-chave `WHERE`, mas observe que ela nos permite filtrar apenas objetos `table`."
   ]
  },
  {
   "cell_type": "code",
   "execution_count": null,
   "metadata": {
    "colab": {
     "base_uri": "https://localhost:8080/",
     "height": 235
    },
    "executionInfo": {
     "elapsed": 443,
     "status": "ok",
     "timestamp": 1665606811510,
     "user": {
      "displayName": "Thomas Nield",
      "userId": "10920076319013086175"
     },
     "user_tz": 420
    },
    "id": "XOe7wxcNMI-R",
    "outputId": "d0f0c7b5-804f-4e04-c66a-25ee9b672b78"
   },
   "outputs": [],
   "source": [
    "sql = \"SELECT NAME FROM sqlite_master WHERE type='table'\"\n",
    "\n",
    "pd.read_sql(sql, conn)"
   ]
  },
  {
   "cell_type": "markdown",
   "metadata": {
    "id": "_7gqIdz0P5l2"
   },
   "source": [
    "## Expressões e Funções"
   ]
  },
  {
   "cell_type": "markdown",
   "metadata": {
    "id": "DGbzsWhULnMA"
   },
   "source": [
    "Vamos dar uma olhada na tabela `PRODUCT`."
   ]
  },
  {
   "cell_type": "code",
   "execution_count": null,
   "metadata": {
    "colab": {
     "base_uri": "https://localhost:8080/",
     "height": 514
    },
    "executionInfo": {
     "elapsed": 439,
     "status": "ok",
     "timestamp": 1665606813736,
     "user": {
      "displayName": "Thomas Nield",
      "userId": "10920076319013086175"
     },
     "user_tz": 420
    },
    "id": "TA40mvPNLnTy",
    "outputId": "332e3557-3f3b-4c36-8296-5cb2c6cad13a"
   },
   "outputs": [],
   "source": [
    "sql = \"SELECT * FROM PRODUCT\"\n",
    "\n",
    "pd.read_sql(sql, conn)"
   ]
  },
  {
   "cell_type": "markdown",
   "metadata": {
    "id": "fjrVIF5LMxMV"
   },
   "source": [
    "Digamos que queremos reduzir cada preço em 10%. Podemos multiplicar cada preço por `0,9` criando um novo campo como uma expressão. Chamaremos isso de `REDUCED_PRICE`. Isso não modifica a tabela, mas transforma os dados antes de serem retornados. O cálculo desse `REDUCED_PRICE` é feito somente dentro desta consulta, de forma semelhante a uma fórmula no Excel. É isso que torna o SQL ótimo. Ele permite que os dados armazenados sejam simples e mínimos, mas podemos sobrepor cálculos e manipulações a eles dentro de uma consulta."
   ]
  },
  {
   "cell_type": "code",
   "execution_count": null,
   "metadata": {
    "colab": {
     "base_uri": "https://localhost:8080/",
     "height": 514
    },
    "executionInfo": {
     "elapsed": 10,
     "status": "ok",
     "timestamp": 1665606816582,
     "user": {
      "displayName": "Thomas Nield",
      "userId": "10920076319013086175"
     },
     "user_tz": 420
    },
    "id": "A16oWnDtMxYC",
    "outputId": "548d9f03-16cb-40f2-ec26-6e042c290134"
   },
   "outputs": [],
   "source": [
    "sql = \"\"\"\n",
    "SELECT PRODUCT_NAME,\n",
    "PRICE,\n",
    "PRICE * 0.9 AS REDUCED_PRICE\n",
    "\n",
    "FROM PRODUCT\n",
    "\"\"\"\n",
    "\n",
    "pd.read_sql(sql, conn)"
   ]
  },
  {
   "cell_type": "markdown",
   "metadata": {
    "id": "bRzLBVS4NVmQ"
   },
   "source": [
    "Observe como posso escrever minha consulta SQL em várias linhas para maior legibilidade, e aproveitei a sintaxe de aspas duplas triplas do Python `\"\"\"` para aproveitar isso.\n",
    "\n",
    "Os operadores matemáticos que você pode encontrar em todas as plataformas SQL são os seguintes:\n",
    "\n",
    "|Símbolo | Operação\n",
    "|--------|------------------\n",
    "|+       | Soma dois números\n",
    "|-       | Subtrai dois números\n",
    "|*       | Multiplica dois números\n",
    "|/       | Divide dois números\n",
    "|%       | Divide, mas retorna o resto\n",
    "\n",
    "Observe que esses operadores matemáticos funcionam apenas entre valores ou campos numéricos. Esses símbolos podem ser usados ​​em outros contextos, como o `*` que pode significar \"selecionar todas as colunas\", mas entre dois números é uma multiplicação.\n",
    "\n",
    "Agora, digamos que queremos calcular uma `PROCESS_FEE` para cada preço, que é `.00047` multiplicado por `PRICE`."
   ]
  },
  {
   "cell_type": "code",
   "execution_count": null,
   "metadata": {
    "colab": {
     "base_uri": "https://localhost:8080/",
     "height": 514
    },
    "executionInfo": {
     "elapsed": 278,
     "status": "ok",
     "timestamp": 1665606869918,
     "user": {
      "displayName": "Thomas Nield",
      "userId": "10920076319013086175"
     },
     "user_tz": 420
    },
    "id": "TJpIAqzOOLPw",
    "outputId": "d2482825-6428-4ad2-ec6b-d7fce06e261e"
   },
   "outputs": [],
   "source": [
    "sql = \"\"\"\n",
    "SELECT PRODUCT_NAME,\n",
    "PRICE,\n",
    "PRICE * .00047 AS PROCESS_FEE\n",
    "\n",
    "FROM PRODUCT\n",
    "\"\"\"\n",
    "\n",
    "pd.read_sql(sql, conn)"
   ]
  },
  {
   "cell_type": "markdown",
   "metadata": {
    "id": "HFGbDyPdOrSK"
   },
   "source": [
    "Se quisermos arredondar esses valores para duas casas decimais, precisamos usar uma função. Funções são muito parecidas com funções em Python. Elas têm um nome, abrem com parênteses, aceitam argumentos e retornam um resultado. Aqui está a função `ROUND()` para duas casas decimais no campo `REDUCED_PRICE`."
   ]
  },
  {
   "cell_type": "code",
   "execution_count": null,
   "metadata": {
    "colab": {
     "base_uri": "https://localhost:8080/",
     "height": 514
    },
    "executionInfo": {
     "elapsed": 316,
     "status": "ok",
     "timestamp": 1665606875588,
     "user": {
      "displayName": "Thomas Nield",
      "userId": "10920076319013086175"
     },
     "user_tz": 420
    },
    "id": "gqhP3GyqPsti",
    "outputId": "ddcacc1b-ffdd-41d0-bcf7-e8f0fc6c79f6"
   },
   "outputs": [],
   "source": [
    "sql = \"\"\"\n",
    "SELECT PRODUCT_NAME,\n",
    "PRICE,\n",
    "ROUND(PRICE * .00047, 2) AS PROCESS_FEE\n",
    "\n",
    "FROM PRODUCT\n",
    "\"\"\"\n",
    "\n",
    "pd.read_sql(sql, conn)"
   ]
  },
  {
   "cell_type": "markdown",
   "metadata": {
    "id": "X7xparXrQUyQ"
   },
   "source": [
    "Ao trabalhar com texto, o operador `||` pode ser usado para concatenar texto (embora algumas plataformas de banco de dados utilizem a função `CONCAT()`). Se quiséssemos mesclar vários campos na tabela `CUSTOMER` para criar um `SHIP_ADDRESS`, poderíamos fazer assim. Observe como os espaços `' `` e as vírgulas `' ,'` são preenchidos entre cada campo."
   ]
  },
  {
   "cell_type": "code",
   "execution_count": null,
   "metadata": {
    "colab": {
     "base_uri": "https://localhost:8080/",
     "height": 359
    },
    "executionInfo": {
     "elapsed": 330,
     "status": "ok",
     "timestamp": 1665606878142,
     "user": {
      "displayName": "Thomas Nield",
      "userId": "10920076319013086175"
     },
     "user_tz": 420
    },
    "id": "J8luOJ0qQqzb",
    "outputId": "b81bd8d8-c7c4-4290-b6e4-ba928dd66be7"
   },
   "outputs": [],
   "source": [
    "sql = \"\"\"\n",
    "SELECT CUSTOMER_NAME,\n",
    "ADDRESS || ' ' || CITY || ', ' || STATE || ' ' || ZIP AS SHIP_ADDRESS\n",
    "FROM CUSTOMER\n",
    "\"\"\"\n",
    "\n",
    "pd.read_sql(sql, conn)"
   ]
  },
  {
   "cell_type": "markdown",
   "metadata": {
    "id": "mzjkd8KXREdR"
   },
   "source": [
    "## Comentar Código e Regras de Sintaxe\n",
    "\n",
    "Você pode comentar código em SQL usando um hífen duplo `--` ou a sintaxe multilinha `/* */`. Essas opções serão ignoradas pelo mecanismo SQL e podem ser uma maneira útil de fornecer contexto e explicações ao seu código SQL.\n",
    "\n",
    "```sql\n",
    "-- isto é um comentário\n",
    "\n",
    "/*\n",
    "Este é um\n",
    "comentário multilinha\n",
    "*/\n",
    "```\n",
    "\n",
    "SQL não diferencia maiúsculas de minúsculas, portanto, palavras-chave, campos e nomes de tabelas podem ser maiúsculos ou minúsculos, independentemente de como são nomeados no armazenamento. Você verá que as consultas geralmente terminam com um ponto e vírgula `;`, mas isso só é necessário ao executar vários comandos SQL simultaneamente. Normalmente, a execução de vários comandos SQL ocorre na gravação de dados, não na seleção de dados.\n",
    "\n",
    "# Exercício\n",
    "\n",
    "Complete a consulta SQL abaixo substituindo os pontos de interrogação `?`. Recupere todos os registros da tabela `CUSTOMER`, mas pegue os campos `CUSTOMER_NAME` e `CATEGORY`. Concatene também `CITY` e `STATE` com uma vírgula no meio e nomeie essa expressão `LOCATION`."
   ]
  },
  {
   "cell_type": "code",
   "execution_count": null,
   "metadata": {
    "id": "9wCiPOrgSRRB"
   },
   "outputs": [],
   "source": [
    "sql = \"SELECT ? FROM ?\"\n",
    "\n",
    "pd.read_sql(sql, conn)"
   ]
  },
  {
   "cell_type": "markdown",
   "metadata": {
    "id": "64_v8fOwS-Zt"
   },
   "source": [
    "### RESPOSTA A BAIXO\n",
    "\n",
    "|<br>\n",
    "|<br>\n",
    "|<br>\n",
    "|<br>\n",
    "|<br>\n",
    "|<br>\n",
    "|<br>\n",
    "|<br>\n",
    "|<br>\n",
    "|<br>\n",
    "|<br>\n",
    "|<br>\n",
    "|<br>\n",
    "|<br>\n",
    "|<br>\n",
    "|<br>\n",
    "|<br>\n",
    "|<br>\n",
    "|<br>\n",
    "|<br>\n",
    "|<br>\n",
    "|<br>\n",
    "|<br>\n",
    "v "
   ]
  },
  {
   "cell_type": "code",
   "execution_count": null,
   "metadata": {
    "colab": {
     "base_uri": "https://localhost:8080/",
     "height": 359
    },
    "executionInfo": {
     "elapsed": 440,
     "status": "ok",
     "timestamp": 1665606884698,
     "user": {
      "displayName": "Thomas Nield",
      "userId": "10920076319013086175"
     },
     "user_tz": 420
    },
    "id": "B0P8CJVFTbeg",
    "outputId": "dfdfad62-e35a-4d74-de48-948d56edf6a7"
   },
   "outputs": [],
   "source": [
    "sql = \"SELECT CUSTOMER_NAME, CATEGORY, CITY || ', ' || STATE AS LOCATION FROM CUSTOMER\"\n",
    "\n",
    "pd.read_sql(sql, conn)"
   ]
  }
 ],
 "metadata": {
  "colab": {
   "collapsed_sections": [],
   "provenance": []
  },
  "kernelspec": {
   "display_name": "anaconda-2024.02-py310",
   "language": "python",
   "name": "conda-env-anaconda-2024.02-py310-py"
  },
  "language_info": {
   "codemirror_mode": {
    "name": "ipython",
    "version": 3
   },
   "file_extension": ".py",
   "mimetype": "text/x-python",
   "name": "python",
   "nbconvert_exporter": "python",
   "pygments_lexer": "ipython3",
   "version": "3.9.13"
  }
 },
 "nbformat": 4,
 "nbformat_minor": 4
}
