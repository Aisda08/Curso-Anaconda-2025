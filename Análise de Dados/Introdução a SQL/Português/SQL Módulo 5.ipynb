{
 "cells": [
  {
   "cell_type": "markdown",
   "metadata": {
    "id": "n_6sKo8rCzYB"
   },
   "source": [
    "# Nulls e Expressões CASE"
   ]
  },
  {
   "cell_type": "markdown",
   "metadata": {
    "id": "_OeQJrGKC6yA"
   },
   "source": [
    "Nesta seção, abordaremos valores `NULL` e expressões `CASE`. Um valor `NULL` não representa nenhum valor, assim como `None` ou `NaN` em Python indicam um valor em branco. A expressão `CASE` nos permite associar condições a valores resultantes, assim como `if`/`elif` em Python.\n",
    "\n",
    "Abordaremos ambas as operações em SQL."
   ]
  },
  {
   "cell_type": "markdown",
   "metadata": {
    "id": "EN1nr-3_Dz8E"
   },
   "source": [
    "## Configuração\n",
    "Primeiro, faça a configuração. Baixe o arquivo de banco de dados SQLite `company_operations.db` e conecte-se a ele. Também inclua `pandas` para exibir os resultados da nossa consulta SQL como um `DataFrame`."
   ]
  },
  {
   "cell_type": "code",
   "execution_count": null,
   "metadata": {
    "id": "Qfh9tJB5XjWN"
   },
   "outputs": [],
   "source": [
    "import sqlite3\n",
    "import pandas as pd\n",
    "import urllib.request\n",
    "\n",
    "# baixe o banco de dados SQLite e conecte-se a ele\n",
    "urllib.request.urlretrieve(\"https://github.com/thomasnield/anaconda_intro_to_sql/blob/main/company_operations.db?raw=true\", \"company_operations.db\")\n",
    "conn = sqlite3.connect('company_operations.db')"
   ]
  },
  {
   "cell_type": "markdown",
   "metadata": {
    "id": "WpnxGEuRD5Ia"
   },
   "source": [
    "## Valores NULL"
   ]
  },
  {
   "cell_type": "markdown",
   "metadata": {
    "id": "mAB2r6lTEByP"
   },
   "source": [
    "Vamos dar uma olhada na tabela `WEATHER_MONITOR`. Veja estes quatro registros."
   ]
  },
  {
   "cell_type": "code",
   "execution_count": null,
   "metadata": {
    "id": "eCHjhBjSEB4e"
   },
   "outputs": [],
   "source": [
    "sql = \"\"\"\n",
    "SELECT * FROM WEATHER_MONITOR \n",
    "WHERE REPORT_CODE IN ('LJVE08D', 'EP4AKZR', '1FC27OH', 'F4DEAK3') \n",
    "\"\"\"\n",
    "\n",
    "pd.read_sql(sql, conn)\n"
   ]
  },
  {
   "cell_type": "markdown",
   "metadata": {
    "id": "vgve_x_nXsKy"
   },
   "source": [
    "Observe como algumas colunas têm valores `NaN` ou `None`, que indicam um valor `NULL`. Um valor nulo está em branco, o que significa que nenhum valor foi fornecido (não confundir com `0`, que é um valor ou uma string vazia `''`).\n",
    "\n",
    "Observe que os bancos de dados SQL terão `NULL` para valores em branco, mas o Pandas os reinterpretará como `None` ou `NaN`, dependendo se a coluna for numérica ou não.\n",
    "\n",
    "Se tivermos valores nulos para chuva, isso pode indicar que os registros de chuva não foram possíveis porque os instrumentos estavam quebrados. O mesmo vale para `SNOW` e outros campos que permitem valor nulo.\n",
    "\n",
    "Para qualificar um valor nulo, use `IS NULL`. Abaixo, encontramos registros sem uma medição de `RAIN` registrada."
   ]
  },
  {
   "cell_type": "code",
   "execution_count": null,
   "metadata": {
    "id": "2Pmb_t_IYBUs"
   },
   "outputs": [],
   "source": [
    "sql = \"\"\"\n",
    "SELECT * FROM WEATHER_MONITOR \n",
    "WHERE RAIN IS NULL \n",
    "\"\"\"\n",
    "\n",
    "pd.read_sql(sql, conn)\n"
   ]
  },
  {
   "cell_type": "markdown",
   "metadata": {
    "id": "nzqXsAY1YDw-"
   },
   "source": [
    "Para qualificar registros que não são nulos, qualifique com `IS NOT NULL`."
   ]
  },
  {
   "cell_type": "code",
   "execution_count": null,
   "metadata": {
    "id": "IquI5kxUYHsX"
   },
   "outputs": [],
   "source": [
    "sql = \"\"\"\n",
    "SELECT * FROM WEATHER_MONITOR \n",
    "WHERE RAIN IS NOT NULL \n",
    "\"\"\"\n",
    "\n",
    "pd.read_sql(sql, conn)\n"
   ]
  },
  {
   "cell_type": "markdown",
   "metadata": {
    "id": "CPyLqv1_YQnI"
   },
   "source": [
    "Observe que, se você não manipular valores `NULL` explicitamente na condição `WHERE` em uma determinada coluna, os valores `NULL` serão sempre omitidos. Por exemplo, se qualificarmos para registros onde `RAIN > 0`, os valores `NULL` serão omitidos."
   ]
  },
  {
   "cell_type": "code",
   "execution_count": null,
   "metadata": {
    "id": "GYl8KjshYRVq"
   },
   "outputs": [],
   "source": [
    "sql = \"\"\"\n",
    "SELECT * FROM WEATHER_MONITOR \n",
    "WHERE RAIN > 0 \n",
    "\"\"\"\n",
    "\n",
    "pd.read_sql(sql, conn)\n"
   ]
  },
  {
   "cell_type": "markdown",
   "metadata": {
    "id": "JqU4CHbzYSuu"
   },
   "source": [
    "Se você quiser incluir valores `NULL` em sua condição, permita explicitamente `NULL`."
   ]
  },
  {
   "cell_type": "code",
   "execution_count": null,
   "metadata": {
    "id": "UREKIv1iJN6g"
   },
   "outputs": [],
   "source": [
    "sql = \"\"\"\n",
    "SELECT * FROM WEATHER_MONITOR \n",
    "WHERE RAIN IS NULL OR RAIN > 0 \n",
    "\"\"\"\n",
    "\n",
    "pd.read_sql(sql, conn)\n"
   ]
  },
  {
   "cell_type": "markdown",
   "metadata": {
    "id": "YXX8RSF4Yiww"
   },
   "source": [
    "Uma função útil para se saber de cor é `COALESCE()`. Ela receberá um valor possivelmente `NULL` e o converterá para um valor diferente se for de fato `NULL`. Caso contrário, deixará o valor inalterado.\n",
    "\n",
    "O primeiro argumento para `COALESCE()` é o valor que pode ser `NULL`. O segundo argumento é o valor para o qual será convertido, caso seja de fato `NULL`. Podemos tratar todos os valores `RAIN` que são `NULL` como `0` em `COALESCE()` abaixo."
   ]
  },
  {
   "cell_type": "code",
   "execution_count": null,
   "metadata": {
    "id": "SEDWXPPgYkj-"
   },
   "outputs": [],
   "source": [
    "sql = \"\"\"\n",
    "SELECT * FROM WEATHER_MONITOR \n",
    "WHERE COALESCE(RAIN,0) > 0 \n",
    "\"\"\"\n",
    "\n",
    "pd.read_sql(sql, conn)\n"
   ]
  },
  {
   "cell_type": "markdown",
   "metadata": {
    "id": "fFMUxabHYnKh"
   },
   "source": [
    "Como outro exemplo, para transformar valores `RAIN` ausentes em `-1`, podemos usar `COALESCE` assim."
   ]
  },
  {
   "cell_type": "code",
   "execution_count": null,
   "metadata": {
    "id": "EV6sV0a5YpMu"
   },
   "outputs": [],
   "source": [
    "sql = \"\"\"\n",
    "SELECT REPORT_CODE, \n",
    "RAIN, \n",
    "COALESCE(RAIN,-1) AS COALESCED_RAIN \n",
    "\n",
    "FROM WEATHER_MONITOR \n",
    "WHERE REPORT_CODE IN ('G0UINBG', 'PJVNOSP')\n",
    "\"\"\"\n",
    "\n",
    "pd.read_sql(sql, conn)\n"
   ]
  },
  {
   "cell_type": "markdown",
   "metadata": {
    "id": "E3fo9gD9JY1u"
   },
   "source": [
    "## Expressão CASE"
   ]
  },
  {
   "cell_type": "markdown",
   "metadata": {
    "id": "yE1s3sIFJajG"
   },
   "source": [
    "Dê uma olhada no campo `TEMPERATURE` na tabela."
   ]
  },
  {
   "cell_type": "code",
   "execution_count": null,
   "metadata": {
    "id": "2VxbPgK3JZ-C"
   },
   "outputs": [],
   "source": [
    "sql = \"\"\"\n",
    "SELECT REPORT_CODE, TEMPERATURE\n",
    "FROM WEATHER_MONITOR\n",
    "\"\"\"\n",
    "\n",
    "pd.read_sql(sql, conn)\n"
   ]
  },
  {
   "cell_type": "markdown",
   "metadata": {
    "id": "zmkUZ5g1JyrS"
   },
   "source": [
    "Digamos que quiséssemos categorizar cada temperatura como `HOT`, `MILD` ou `COLD`. Para isso, teríamos que usar uma expressão `CASE` e anexar uma condição a cada rótulo. Vamos demonstrar:"
   ]
  },
  {
   "cell_type": "code",
   "execution_count": null,
   "metadata": {
    "id": "26z68xr0KT00"
   },
   "outputs": [],
   "source": [
    "sql = \"\"\"\n",
    "SELECT REPORT_CODE, \n",
    "TEMPERATURE,\n",
    "\n",
    "CASE \n",
    "  WHEN TEMPERATURE >= 78 THEN 'HOT'\n",
    "  WHEN TEMPERATURE >= 60 THEN 'MILD'\n",
    "  ELSE 'COLD'\n",
    "END AS TEMPERATURE_LABEL\n",
    "\n",
    "FROM WEATHER_MONITOR\n",
    "\"\"\"\n",
    "\n",
    "pd.read_sql(sql, conn)\n"
   ]
  },
  {
   "cell_type": "markdown",
   "metadata": {
    "id": "MphXZZnELlUy"
   },
   "source": [
    "Observe como usamos um `CASE` para abrir a expressão `CASE`. Cada `WHEN` especifica uma condição e `THEN` especifica o valor resultante se essa condição for verdadeira. Cada condição é avaliada de cima para baixo, e a primeira que for considerada verdadeira será escolhida. Um `ELSE` pode ser opcionalmente anexado para especificar um valor padrão se todas as outras condições não forem atendidas. Nesse caso, definimos qualquer outro registro como `COLD`, pois já deduzimos que ele não é `HOT` ou `MILD`.\n",
    "\n",
    "No entanto, você deve ter cuidado com valores `NULL` se eles estiverem presentes em uma coluna. Se você usar um `ELSE` no campo `TEMPERATURE` e esse campo tiver valores `NULL` (são três), eles serão rotulados como `NULL`. Uma maneira melhor de lidar com os valores `NULL` pode ser ter uma condição explícita para `COLD` e então tornar o `ELSE` o termo geral para anomalias como `NULL` e rotulá-los como `N/A`."
   ]
  },
  {
   "cell_type": "code",
   "execution_count": null,
   "metadata": {
    "id": "FhisJCy8Kr_n"
   },
   "outputs": [],
   "source": [
    "sql = \"\"\"\n",
    "SELECT REPORT_CODE, \n",
    "TEMPERATURE,\n",
    "\n",
    "CASE \n",
    "  WHEN TEMPERATURE >= 78 THEN 'HOT'\n",
    "  WHEN TEMPERATURE >= 60 THEN 'MILD'\n",
    "  WHEN TEMPERATURE < 60 THEN 'COLD'\n",
    "  ELSE 'N/A'\n",
    "END AS TEMPERATURE_LABEL\n",
    "\n",
    "FROM WEATHER_MONITOR\n",
    "\"\"\"\n",
    "\n",
    "pd.read_sql(sql, conn)\n"
   ]
  },
  {
   "cell_type": "markdown",
   "metadata": {
    "id": "0noXV9spK35z"
   },
   "source": [
    "Com uma expressão `CASE`, agora você pode fazer agregações mais interessantes em campos que antes não estavam disponíveis. Por exemplo, podemos obter uma `COUNT` do número de registros divididos por `TEMPERATURE_LABEL`."
   ]
  },
  {
   "cell_type": "code",
   "execution_count": null,
   "metadata": {
    "id": "oTJqjY7kK5JE"
   },
   "outputs": [],
   "source": [
    "sql = \"\"\"\n",
    "SELECT \n",
    "\n",
    "CASE \n",
    "  WHEN TEMPERATURE >= 78 THEN 'HOT'\n",
    "  WHEN TEMPERATURE >= 60 THEN 'MILD'\n",
    "  WHEN TEMPERATURE < 60 THEN 'COLD'\n",
    "  ELSE 'N/A'\n",
    "END AS TEMPERATURE_LABEL,\n",
    "\n",
    "COUNT(*) AS RECORD_COUNT\n",
    "\n",
    "FROM WEATHER_MONITOR\n",
    "\n",
    "GROUP BY TEMPERATURE_LABEL\n",
    "\"\"\"\n",
    "\n",
    "pd.read_sql(sql, conn)\n"
   ]
  },
  {
   "cell_type": "markdown",
   "metadata": {
    "id": "b9M14ramNA2S"
   },
   "source": [
    "A propósito, você deve ter percebido que `COALESCE` é uma abreviação da expressão `CASE` para converter valores `NULL`. Veja nosso exemplo anterior mostrando os valores `RAIN` unidos."
   ]
  },
  {
   "cell_type": "code",
   "execution_count": null,
   "metadata": {
    "id": "6bGO8VLkNBEj"
   },
   "outputs": [],
   "source": [
    "sql = \"\"\"\n",
    "SELECT REPORT_CODE, \n",
    "RAIN, \n",
    "COALESCE(RAIN,-1) AS COALESCED_RAIN \n",
    "\n",
    "FROM WEATHER_MONITOR \n",
    "WHERE REPORT_CODE IN ('G0UINBG', 'PJVNOSP')\n",
    "\"\"\"\n",
    "\n",
    "pd.read_sql(sql, conn)\n"
   ]
  },
  {
   "cell_type": "markdown",
   "metadata": {
    "id": "KSL6SD6iNQLg"
   },
   "source": [
    "Podemos expressar isso usando uma expressão `CASE`."
   ]
  },
  {
   "cell_type": "code",
   "execution_count": null,
   "metadata": {
    "id": "fHJSWVmKNQSw"
   },
   "outputs": [],
   "source": [
    "sql = \"\"\"\n",
    "SELECT REPORT_CODE, \n",
    "RAIN, \n",
    "CASE WHEN RAIN IS NULL THEN -1 ELSE RAIN END AS COALESCED_RAIN \n",
    "\n",
    "FROM WEATHER_MONITOR \n",
    "WHERE REPORT_CODE IN ('G0UINBG', 'PJVNOSP')\n",
    "\"\"\"\n",
    "\n",
    "pd.read_sql(sql, conn)\n"
   ]
  },
  {
   "cell_type": "markdown",
   "metadata": {
    "id": "_Ej0LkgjM6hr"
   },
   "source": [
    "## O truque do caso NULL"
   ]
  },
  {
   "cell_type": "markdown",
   "metadata": {
    "id": "VsKdGTkaNqhc"
   },
   "source": [
    "Digamos que você calcule a chuva total dividida por `YEAR` e `MONTH`, apenas para o `YEAR` de 2021."
   ]
  },
  {
   "cell_type": "code",
   "execution_count": null,
   "metadata": {
    "id": "foD16J6_M7US"
   },
   "outputs": [],
   "source": [
    "sql = \"\"\"\n",
    "SELECT \n",
    "CAST(strftime('%Y', REPORT_DATE) AS INTEGER) AS YEAR, \n",
    "CAST(strftime('%m', REPORT_DATE) AS INTEGER) AS MONTH, \n",
    "\n",
    "SUM(RAIN) AS TOTAL_RAIN\n",
    "\n",
    "FROM WEATHER_MONITOR \n",
    "\n",
    "GROUP BY YEAR, MONTH\n",
    "\"\"\"\n",
    "\n",
    "pd.read_sql(sql, conn)\n"
   ]
  },
  {
   "cell_type": "markdown",
   "metadata": {
    "id": "_Qg5WuZcOpg6"
   },
   "source": [
    "Agora você quer dividir a coluna `TOTAL_RAIN` em duas colunas, uma para quando um `TORNADO` estiver presente e outra para quando não estiver. Qual é o problema aqui?"
   ]
  },
  {
   "cell_type": "code",
   "execution_count": null,
   "metadata": {
    "id": "1qwUCDRBO2Tz"
   },
   "outputs": [],
   "source": [
    "sql = \"\"\"\n",
    "SELECT \n",
    "CAST(strftime('%Y', REPORT_DATE) AS INTEGER) AS YEAR, \n",
    "CAST(strftime('%m', REPORT_DATE) AS INTEGER) AS MONTH, \n",
    "\n",
    "SUM(RAIN) AS TOTAL_TORNADO_RAIN,\n",
    "SUM(RAIN) AS TOTAL_NON_TORNADO_RAIN\n",
    "\n",
    "FROM WEATHER_MONITOR \n",
    "\n",
    "WHERE TORNADO = 1 \n",
    "AND YEAR = 2021\n",
    "\n",
    "GROUP BY YEAR, MONTH\n",
    "\"\"\"\n",
    "\n",
    "pd.read_sql(sql, conn)\n"
   ]
  },
  {
   "cell_type": "markdown",
   "metadata": {
    "id": "kZhg6B8cPBjm"
   },
   "source": [
    "Essa condição `WHERE` inconvenientemente obriga você a `TORNADO` ser 1 ou 0, mas não ambos, para cada coluna. Mas você pode contornar isso usando uma expressão `CASE` e inserindo as respectivas condições. Observe abaixo como interceptamos os valores que entram em cada `SUM()` verificando a condição `TORNADO` e, se falhar, adicionamos um `0` a `SUM`. Inteligente, não é?"
   ]
  },
  {
   "cell_type": "code",
   "execution_count": null,
   "metadata": {
    "id": "bMNnd-HSPBqT"
   },
   "outputs": [],
   "source": [
    "sql = \"\"\"\n",
    "SELECT \n",
    "CAST(strftime('%Y', REPORT_DATE) AS INTEGER) AS YEAR, \n",
    "CAST(strftime('%m', REPORT_DATE) AS INTEGER) AS MONTH, \n",
    "\n",
    "SUM(CASE WHEN TORNADO = 1 THEN RAIN ELSE 0 END) AS TOTAL_TORNADO_RAIN,\n",
    "SUM(CASE WHEN TORNADO = 0 THEN RAIN ELSE 0 END) AS TOTAL_NON_TORNADO_RAIN\n",
    "\n",
    "FROM WEATHER_MONITOR \n",
    "\n",
    "WHERE YEAR = 2021 \n",
    "\n",
    "GROUP BY YEAR, MONTH\n",
    "\"\"\"\n",
    "\n",
    "pd.read_sql(sql, conn)\n"
   ]
  },
  {
   "cell_type": "markdown",
   "metadata": {
    "id": "rl5uxVYpQE_A"
   },
   "source": [
    "No entanto, um `0` para a condição falsa pode ser problemático para outras operações de agregação como `MIN`, `MAX`, `AVG` e `COUNT`, pois afetará esses cálculos, ao contrário de `SUM`. Você pode usar `NULL`, pois ele será ignorado por todos os operadores de agregação, incluindo `SUM`."
   ]
  },
  {
   "cell_type": "code",
   "execution_count": null,
   "metadata": {
    "id": "8FYUHiKuQFES"
   },
   "outputs": [],
   "source": [
    "sql = \"\"\"\n",
    "SELECT \n",
    "CAST(strftime('%Y', REPORT_DATE) AS INTEGER) AS YEAR, \n",
    "CAST(strftime('%m', REPORT_DATE) AS INTEGER) AS MONTH, \n",
    "\n",
    "SUM(CASE WHEN TORNADO = 1 THEN RAIN ELSE NULL END) AS AVG_TORNADO_RAIN,\n",
    "SUM(CASE WHEN TORNADO = 0 THEN RAIN ELSE NULL END) AS AVG_NON_TORNADO_RAIN\n",
    "\n",
    "FROM WEATHER_MONITOR \n",
    "\n",
    "WHERE YEAR = 2021 \n",
    "\n",
    "GROUP BY YEAR, MONTH\n",
    "\"\"\"\n",
    "\n",
    "pd.read_sql(sql, conn)\n"
   ]
  },
  {
   "cell_type": "markdown",
   "metadata": {
    "id": "FnAmyUmVSIzX"
   },
   "source": [
    "Poucas pessoas que usam `SQL` conhecem esse truque, que pode evitar muitas consultas e tabelas derivadas confusas. Use-o com moderação!"
   ]
  },
  {
   "cell_type": "markdown",
   "metadata": {
    "id": "OdXLiukSSTry"
   },
   "source": [
    "## EXERCÍCIO\n",
    "\n",
    "Para cada `LOCATION_ID`, calcule a precipitação total do ano anterior `PY_RAIN` e a precipitação total do ano atual `CY_RAIN`. Substitua os pontos de interrogação `?` e considere que 2021 é o ano atual."
   ]
  },
  {
   "cell_type": "code",
   "execution_count": null,
   "metadata": {
    "id": "Q0d_bwIQSbtG"
   },
   "outputs": [],
   "source": [
    "sql = \"\"\"\n",
    "SELECT \n",
    "\n",
    "LOCATION_ID,\n",
    "\n",
    "SUM(\n",
    "  CASE WHEN CAST(strftime('%Y', REPORT_DATE) AS INTEGER) = ? THEN ? ELSE ? END\n",
    ") AS CY_RAIN,\n",
    "\n",
    "SUM(\n",
    "  CASE WHEN CAST(strftime('%Y', REPORT_DATE) AS INTEGER) = ? THEN ? ELSE ? END\n",
    ") AS PY_RAIN\n",
    "\n",
    "FROM WEATHER_MONITOR \n",
    "\n",
    "WHERE CAST(strftime('%Y', REPORT_DATE) AS INTEGER) IN (2020, 2021)\n",
    "\n",
    "GROUP BY LOCATION_ID\n",
    "\"\"\"\n",
    "\n",
    "pd.read_sql(sql, conn)\n"
   ]
  },
  {
   "cell_type": "markdown",
   "metadata": {
    "id": "yQOqMtj6SQxq"
   },
   "source": [
    "### RESPOSTA A BAIXO\n",
    "\n",
    "|<br>\n",
    "|<br>\n",
    "|<br>\n",
    "|<br>\n",
    "|<br>\n",
    "|<br>\n",
    "|<br>\n",
    "|<br>\n",
    "|<br>\n",
    "|<br>\n",
    "|<br>\n",
    "|<br>\n",
    "|<br>\n",
    "|<br>\n",
    "|<br>\n",
    "|<br>\n",
    "|<br>\n",
    "|<br>\n",
    "|<br>\n",
    "|<br>\n",
    "|<br>\n",
    "|<br>\n",
    "|<br>\n",
    "v "
   ]
  },
  {
   "cell_type": "code",
   "execution_count": null,
   "metadata": {
    "id": "zJcTI_MzUJgy"
   },
   "outputs": [],
   "source": [
    "sql = \"\"\"\n",
    "SELECT \n",
    "\n",
    "LOCATION_ID,\n",
    "\n",
    "SUM(\n",
    "  CASE WHEN CAST(strftime('%Y', REPORT_DATE) AS INTEGER) = 2021 THEN RAIN ELSE 0 END\n",
    ") AS CY_RAIN,\n",
    "\n",
    "SUM(\n",
    "  CASE WHEN CAST(strftime('%Y', REPORT_DATE) AS INTEGER) = 2020 THEN RAIN ELSE 0 END\n",
    ") AS PY_RAIN\n",
    "\n",
    "FROM WEATHER_MONITOR \n",
    "\n",
    "WHERE CAST(strftime('%Y', REPORT_DATE) AS INTEGER) IN (2020, 2021)\n",
    "\n",
    "GROUP BY LOCATION_ID\n",
    "\"\"\"\n",
    "\n",
    "pd.read_sql(sql, conn)\n"
   ]
  }
 ],
 "metadata": {
  "colab": {
   "collapsed_sections": [],
   "provenance": []
  },
  "kernelspec": {
   "display_name": "anaconda-2024.02-py310",
   "language": "python",
   "name": "conda-env-anaconda-2024.02-py310-py"
  },
  "language_info": {
   "codemirror_mode": {
    "name": "ipython",
    "version": 3
   },
   "file_extension": ".py",
   "mimetype": "text/x-python",
   "name": "python",
   "nbconvert_exporter": "python",
   "pygments_lexer": "ipython3",
   "version": "3.9.13"
  }
 },
 "nbformat": 4,
 "nbformat_minor": 4
}
