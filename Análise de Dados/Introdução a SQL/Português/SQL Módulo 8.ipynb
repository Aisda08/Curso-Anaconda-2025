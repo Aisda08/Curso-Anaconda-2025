{
 "cells": [
  {
   "cell_type": "markdown",
   "metadata": {
    "id": "peg-tXtAcK8b"
   },
   "source": [
    "# Criando tabelas e escrevendo dados"
   ]
  },
  {
   "cell_type": "markdown",
   "metadata": {
    "id": "Uk6CNcm4cWgP"
   },
   "source": [
    "Neste último módulo, abordaremos tarefas de escrita em SQL, incluindo a criação de tabelas e dados, bem como a edição de dados existentes. A maior parte do uso de SQL é para leitura de dados, especialmente se você trabalha em uma função analítica ou de ciência de dados. Mas, ao trabalhar com a movimentação de dados de uma fonte para outra, você inevitavelmente precisará assumir a criação de dados em bancos de dados relacionais."
   ]
  },
  {
   "cell_type": "markdown",
   "metadata": {
    "id": "RlPiaxZUdUnx"
   },
   "source": [
    "## Configurar"
   ]
  },
  {
   "cell_type": "markdown",
   "metadata": {
    "id": "KzST69e7dVht"
   },
   "source": [
    "Primeiro, prepare-se. Baixe o arquivo de banco de dados SQLite `company_operations.db` e conecte-se a ele. Use também o `pandas` para exibir os resultados da nossa consulta SQL como um `DataFrame`."
   ]
  },
  {
   "cell_type": "code",
   "execution_count": null,
   "metadata": {
    "executionInfo": {
     "elapsed": 1450,
     "status": "ok",
     "timestamp": 1667263999342,
     "user": {
      "displayName": "Daisy Wizda",
      "userId": "13343178402410361390"
     },
     "user_tz": 240
    },
    "id": "JOypG8eScJQO"
   },
   "outputs": [],
   "source": [
    "import sqlite3\n",
    "import pandas as pd\n",
    "import urllib.request\n",
    "\n",
    "# baixe o banco de dados SQLite e conecte-se a ele\n",
    "urllib.request.urlretrieve(\"https://github.com/thomasnield/anaconda_intro_to_sql/blob/main/company_operations.db?raw=true\", \"company_operations.db\")\n",
    "conn = sqlite3.connect('company_operations.db')"
   ]
  },
  {
   "cell_type": "markdown",
   "metadata": {
    "id": "qr-q7diydaDC"
   },
   "source": [
    "## Planejando um Banco de Dados"
   ]
  },
  {
   "cell_type": "markdown",
   "metadata": {
    "id": "iz8XDCHmdoq4"
   },
   "source": [
    "Se quiséssemos criar um novo banco de dados do zero, poderíamos declarar um arquivo de banco de dados inexistente em nosso caminho e o SQLite criará esse arquivo. No entanto, adicionaremos uma nova tabela ao arquivo de banco de dados `company_operations.db`.\n",
    "\n",
    "Ao planejar um banco de dados ou adições a um banco de dados, considere cuidadosamente quais serão os relacionamentos entre as tabelas e quais campos precisam ser capturados. Certifique-se de que os dados sejam simples e normalizados, e que uma tabela não tente ser mais de uma coisa. Por exemplo, não queremos que uma tabela contenha as informações `CUSTOMER` e `CUSTOMER_ORDER`, pois essas são duas entidades separadas, então as armazenamos em tabelas separadas.\n",
    "\n",
    "Observe que é fácil adicionar campos e tabelas a um banco de dados. No entanto, é muito mais difícil modificar e remover campos e tabelas quando há dependências entre pais e filhos.\n",
    "\n",
    "Em nosso caso de uso, queremos criar uma tabela chamada `CUSTOMER_PAYMENT` que rastreia se os clientes pagaram parte ou a totalidade de um `CUSTOMER_ORDER`.\n",
    "\n",
    "Os campos que precisamos rastrear incluem:\n",
    "\n",
    "* `CUSTOMER_PAYMENT_ID` - Identificador da chave primária para cada registro\n",
    "* `CUSTOMER_ORDER_ID` - Chave estrangeira que vincula cada pagamento a um pedido\n",
    "* `RECEIVE_DATE` - Data de recebimento do pagamento\n",
    "* `RECEIVE_AMOUNT` - Valor do pagamento recebido\n",
    "* `MEMO` - Qualquer texto de memorando do cliente"
   ]
  },
  {
   "cell_type": "markdown",
   "metadata": {
    "id": "CsyymIp4hJbC"
   },
   "source": [
    "## Atributos de campo em SQL"
   ]
  },
  {
   "cell_type": "markdown",
   "metadata": {
    "id": "dEPN7aiRhL5-"
   },
   "source": [
    "Ao criar uma tabela, é importante estar ciente dos atributos de campo de cada coluna. O SQLite é rápido e flexível com tipos de dados porque é tipado dinamicamente e não exige que uma determinada coluna contenha números ou texto, conforme especificado. Outras plataformas de dados o farão.\n",
    "\n",
    "No SQLite, você pode consultar os tipos de dados de uma tabela existente usando um comando `PRAGMA` com a função `table_info()`. Abaixo, podemos ver qual é cada tipo de dado para cada coluna da tabela `CUSTOMER_ORDER`. Observe a coluna `type`, o indicador `notnull`, o valor padrão `dflt_value` e o indicador de chave primária `pk`. Todos esses são atributos que precisaremos definir ao criar nossas próprias tabelas."
   ]
  },
  {
   "cell_type": "code",
   "execution_count": null,
   "metadata": {
    "colab": {
     "base_uri": "https://localhost:8080/",
     "height": 238
    },
    "executionInfo": {
     "elapsed": 436,
     "status": "ok",
     "timestamp": 1667264087898,
     "user": {
      "displayName": "Daisy Wizda",
      "userId": "13343178402410361390"
     },
     "user_tz": 240
    },
    "id": "nUKbMheuhJg5",
    "outputId": "c522d99f-68ab-4ed8-873b-7141d5d7bf31"
   },
   "outputs": [],
   "source": [
    "sql = \"\"\" \n",
    "PRAGMA table_info(CUSTOMER_ORDER);\n",
    "\"\"\"\n",
    "\n",
    "pd.read_sql(sql, conn)"
   ]
  },
  {
   "cell_type": "markdown",
   "metadata": {
    "id": "LR8xVVrHjYRu"
   },
   "source": [
    "Aqui está uma rápida análise de cada um desses atributos sobre um campo de tabela.\n",
    "\n",
    "* **Tipo de Dado** (type) - O tipo de dado (por exemplo, numérico, texto, data) armazenado em uma determinada coluna.\n",
    "\n",
    "* **Não Nulo** (notnull) - Indica se a coluna proíbe valores nulos.\n",
    "\n",
    "* **Valor Padrão** (dflt_value) - O valor padrão a ser fornecido para uma coluna se nenhum valor for fornecido.\n",
    "\n",
    "* **Chave Primária** (pk) - Indica se a coluna é a chave primária.\n",
    "\n",
    "O tipo de dado de uma coluna pode ser o mais complexo para se entender completamente, pois cada plataforma SQL terá diferentes tipos de dados para escolher. O SQLite simplifica o armazenamento para apenas 5 tipos de dados: [NULL, Integer, Real, Text e Blob](https://www.sqlite.org/datatype3.html). Ao contrário de outras plataformas SQL, o SQLite não impõe consistência de tipo em uma coluna porque é tipado dinamicamente.\n",
    "\n",
    "No entanto, o SQLite [nomeia os 5 tipos com afinidades de tipo](https://www.sqlite.org/datatype3.html) para que se assemelhem a tipos mais específicos em outras plataformas de banco de dados. Alguns desses tipos de afinidade incluem:\n",
    "\n",
    "|TIPO|DESCRIÇÃO|\n",
    "|---|---|\n",
    "|`INTEGER` |Um inteiro discreto que pode ser negativo ou positivo, com variantes de tamanho como `TINYINT`, `SMALLINT`, `MEDIUMINT`, etc.|\n",
    "|`CHAR(X)`|Um texto de largura fixa com comprimento de `X` caracteres. |\n",
    "|`VARCHAR(X)`|Um texto de largura variável com no máximo `X` caracteres.|\n",
    "|`FLOAT`|Um número de ponto flutuante|\n",
    "|`DOUBLE`|Um número de ponto flutuante de precisão dupla|\n",
    "|`DATE`|Um tipo de valor de data contendo um ano, mês e dia.|\n",
    "|`TIME`|Um valor de tempo contendo hora, minuto, segundo e fração de segundo.|\n",
    "|`DATETIME`|Mescla uma data e hora|\n",
    "\n",
    "Observe que esta é apenas uma amostra dos tipos de dados com os quais trabalharemos neste notebook. Independentemente da plataforma de banco de dados que você utiliza, reserve um tempo para ler a documentação e se familiarizar com os tipos de dados para saber quais escolher."
   ]
  },
  {
   "cell_type": "markdown",
   "metadata": {
    "id": "OiSrTGl1f3uL"
   },
   "source": [
    "## Criando e Removendo Tabelas"
   ]
  },
  {
   "cell_type": "markdown",
   "metadata": {
    "id": "S70eCOCyf3v0"
   },
   "source": [
    "Para criar esta tabela, usamos o comando `CREATE TABLE`. Observe que, após o comando, colocamos o nome da tabela e, em seguida, dentro de parênteses, declaramos cada coluna, seu tipo de dado e seus comportamentos, separados por vírgulas.\n",
    "\n",
    "A declaração da chave estrangeira é feita por último, apontando o `CUSTOMER_ORDER_ID` para sua chave primária correspondente na tabela pai `CUSTOMER_ORDER`."
   ]
  },
  {
   "cell_type": "code",
   "execution_count": null,
   "metadata": {
    "colab": {
     "base_uri": "https://localhost:8080/"
    },
    "executionInfo": {
     "elapsed": 201,
     "status": "ok",
     "timestamp": 1667264164811,
     "user": {
      "displayName": "Daisy Wizda",
      "userId": "13343178402410361390"
     },
     "user_tz": 240
    },
    "id": "b6cPnfXkfqnX",
    "outputId": "4365a67e-7f2c-41b6-feac-7fa1748ba0a3"
   },
   "outputs": [],
   "source": [
    "sql = \"\"\"\n",
    "CREATE TABLE CUSTOMER_PAYMENT (\n",
    "  CUSTOMER_PAYMENT_ID INTEGER PRIMARY KEY NOT NULL,\n",
    "  CUSTOMER_ORDER_ID INTEGER NOT NULL,\n",
    "  RECEIVE_DATE DATE NOT NULL DEFAULT (date('now')), \n",
    "  RECEIVE_AMOUNT DOUBLE NOT NULL, \n",
    "  MEMO VARCHAR(100), \n",
    "\n",
    "  FOREIGN KEY (CUSTOMER_ORDER_ID) REFERENCES CUSTOMER_ORDER(CUSTOMER_ORDER_ID)\n",
    ")\n",
    "\"\"\"\n",
    "\n",
    "conn.execute(sql)\n"
   ]
  },
  {
   "cell_type": "markdown",
   "metadata": {
    "id": "IwgHF4TUqjVg"
   },
   "source": [
    "Embora não haja registros nesta tabela, agora podemos executar uma consulta `SELECT` nela e ver que a tabela agora está lá."
   ]
  },
  {
   "cell_type": "code",
   "execution_count": null,
   "metadata": {
    "colab": {
     "base_uri": "https://localhost:8080/",
     "height": 49
    },
    "executionInfo": {
     "elapsed": 298,
     "status": "ok",
     "timestamp": 1667264173008,
     "user": {
      "displayName": "Daisy Wizda",
      "userId": "13343178402410361390"
     },
     "user_tz": 240
    },
    "id": "-hn-UPAmfqku",
    "outputId": "0b4f1501-c0c9-4a74-8dae-408e81c17966"
   },
   "outputs": [],
   "source": [
    "sql = \"\"\"\n",
    "SELECT * FROM CUSTOMER_PAYMENT\n",
    "\"\"\"\n",
    "\n",
    "pd.read_sql(sql, conn)\n"
   ]
  },
  {
   "cell_type": "markdown",
   "metadata": {
    "id": "RtsMCzVzrPMJ"
   },
   "source": [
    "Se precisar excluir uma tabela, use o comando `DROP TABLE`. Isso só será permitido se nenhum registro filho apontar para esta tabela.\n",
    "\n",
    "Se você executar este comando (sua execução está comentada propositalmente), certifique-se de executar a operação `CREATE TABLE` acima novamente antes de prosseguir."
   ]
  },
  {
   "cell_type": "code",
   "execution_count": null,
   "metadata": {
    "executionInfo": {
     "elapsed": 229,
     "status": "ok",
     "timestamp": 1667264182833,
     "user": {
      "displayName": "Daisy Wizda",
      "userId": "13343178402410361390"
     },
     "user_tz": 240
    },
    "id": "d7ZAzBHTdaUw"
   },
   "outputs": [],
   "source": [
    "sql = \"\"\"\n",
    "DROP TABLE CUSTOMER_PAYMENT\n",
    "\"\"\"\n",
    "\n",
    "# conn.execute(sql)\n"
   ]
  },
  {
   "cell_type": "markdown",
   "metadata": {
    "id": "0DkCJ_2wrorL"
   },
   "source": [
    "## Escrevendo registros com INSERT"
   ]
  },
  {
   "cell_type": "markdown",
   "metadata": {
    "id": "Na4-S52vrtJO"
   },
   "source": [
    "Para inserir um novo registro em uma tabela, use o comando `INSERT`. No mínimo, você precisa fornecer apenas os campos que não possuem valores padrão ou nulos. Nesse caso, precisamos fornecer apenas `CUSTOMER_ORDER_ID` e `RECEIVE_AMOUNT`. Observe que sinalizamos que esses são os campos que serão fornecidos entre parênteses e, em seguida, esses `VALUES` são fornecidos em um segundo conjunto de parênteses."
   ]
  },
  {
   "cell_type": "code",
   "execution_count": null,
   "metadata": {
    "colab": {
     "base_uri": "https://localhost:8080/"
    },
    "executionInfo": {
     "elapsed": 162,
     "status": "ok",
     "timestamp": 1667264196624,
     "user": {
      "displayName": "Daisy Wizda",
      "userId": "13343178402410361390"
     },
     "user_tz": 240
    },
    "id": "3Xo4rq2nrtU7",
    "outputId": "b8e8e67e-b759-446b-c9d6-aeea0d43fc42"
   },
   "outputs": [],
   "source": [
    "sql = \"\"\"\n",
    "INSERT INTO CUSTOMER_PAYMENT (CUSTOMER_ORDER_ID, RECEIVE_AMOUNT)\n",
    "VALUES (1, 550)\n",
    "\"\"\"\n",
    "\n",
    "conn.execute(sql)\n"
   ]
  },
  {
   "cell_type": "markdown",
   "metadata": {
    "id": "qKCPPGLPtnwv"
   },
   "source": [
    "Agora vamos selecionar na tabela `CUSTOMER_PAYMENT`."
   ]
  },
  {
   "cell_type": "code",
   "execution_count": null,
   "metadata": {
    "colab": {
     "base_uri": "https://localhost:8080/",
     "height": 81
    },
    "executionInfo": {
     "elapsed": 215,
     "status": "ok",
     "timestamp": 1667264201136,
     "user": {
      "displayName": "Daisy Wizda",
      "userId": "13343178402410361390"
     },
     "user_tz": 240
    },
    "id": "Aj8Pbc7Ctn2-",
    "outputId": "154d7c6b-4c25-4f52-cee3-522dd320df46"
   },
   "outputs": [],
   "source": [
    "sql = \"\"\"\n",
    "SELECT * FROM CUSTOMER_PAYMENT\n",
    "\"\"\"\n",
    "\n",
    "pd.read_sql(sql, conn)\n"
   ]
  },
  {
   "cell_type": "markdown",
   "metadata": {
    "id": "HliYHqoNu01k"
   },
   "source": [
    "O `CUSTOMER_PAYMENT_ID` é um `INTEGER` e uma `PRIMARY KEY`, portanto, o SQLite atribuirá automaticamente um inteiro incremental caso nenhum seja fornecido, começando no número `1`. Conforme especificado anteriormente no comando `CREATE TABLE`, o `RECEIVE_DATE` assumirá como padrão a data de hoje, e o `MEMO` não possui a restrição `NOT NULL`, portanto, assume como padrão `NULL`."
   ]
  },
  {
   "cell_type": "markdown",
   "metadata": {
    "id": "yQ9jLqDbzMMm"
   },
   "source": [
    "Você também pode inserir vários registros em lote, fornecendo várias linhas depois de `VALUES`, separadas por vírgulas."
   ]
  },
  {
   "cell_type": "code",
   "execution_count": null,
   "metadata": {
    "colab": {
     "base_uri": "https://localhost:8080/"
    },
    "executionInfo": {
     "elapsed": 181,
     "status": "ok",
     "timestamp": 1667264217849,
     "user": {
      "displayName": "Daisy Wizda",
      "userId": "13343178402410361390"
     },
     "user_tz": 240
    },
    "id": "kiYfwpRazPFS",
    "outputId": "218e54d1-690f-4063-eabc-5fe6c5c0f796"
   },
   "outputs": [],
   "source": [
    "sql = \"\"\"\n",
    "INSERT INTO CUSTOMER_PAYMENT (CUSTOMER_ORDER_ID, RECEIVE_DATE, RECEIVE_AMOUNT, MEMO) VALUES \n",
    "(2, '2020-05-01', 560, 'Thank you again!'), \n",
    "(4, '2020-05-05', 430, 'Payment 1 of 2'),\n",
    "(4, '2020-05-10', 270, 'Payment 2 of 2')\n",
    "\"\"\"\n",
    "\n",
    "conn.execute(sql)\n"
   ]
  },
  {
   "cell_type": "markdown",
   "metadata": {
    "id": "KLEW1Ha1zwfF"
   },
   "source": [
    "Execute uma consulta `SELECT` em `CUSTOMER_PAYMENT` e você verá os três registros adicionais adicionados."
   ]
  },
  {
   "cell_type": "code",
   "execution_count": null,
   "metadata": {
    "colab": {
     "base_uri": "https://localhost:8080/",
     "height": 175
    },
    "executionInfo": {
     "elapsed": 187,
     "status": "ok",
     "timestamp": 1667264222104,
     "user": {
      "displayName": "Daisy Wizda",
      "userId": "13343178402410361390"
     },
     "user_tz": 240
    },
    "id": "Mh8GdR_nzwyc",
    "outputId": "1363756e-b063-4bf7-c452-fadc980c9388"
   },
   "outputs": [],
   "source": [
    "sql = \"\"\"\n",
    "SELECT * FROM CUSTOMER_PAYMENT\n",
    "\"\"\"\n",
    "\n",
    "pd.read_sql(sql, conn)\n"
   ]
  },
  {
   "cell_type": "markdown",
   "metadata": {
    "id": "VhBz3dnoVyFf"
   },
   "source": [
    "Observe que o Pandas possui uma função `to_sql()` conveniente para gravar rapidamente um `DataFrame` em uma determinada tabela SQL. Abaixo, anexamos mais três registros à nossa tabela, mas de um `DataFrame` do Pandas."
   ]
  },
  {
   "cell_type": "code",
   "execution_count": null,
   "metadata": {
    "executionInfo": {
     "elapsed": 232,
     "status": "ok",
     "timestamp": 1667264227919,
     "user": {
      "displayName": "Daisy Wizda",
      "userId": "13343178402410361390"
     },
     "user_tz": 240
    },
    "id": "iRof6CWjVyK3"
   },
   "outputs": [],
   "source": [
    "df = pd.DataFrame(data=[\n",
    "    (5, '2020-05-11', 610, 'Payment 1 of 3'),\n",
    "    (5, '2020-05-15', 500, 'Payment 2 of 3'),\n",
    "    (5, '2020-05-19', 450, 'Payment 3 of 3')\n",
    "    ],\n",
    "    columns=[\"CUSTOMER_ORDER_ID\", \"RECEIVE_DATE\", \"RECEIVE_AMOUNT\", \"MEMO\"]\n",
    ")\n",
    "\n",
    "df.to_sql(\"CUSTOMER_PAYMENT\",\n",
    "          conn,\n",
    "          if_exists=\"append\", index=False)\n"
   ]
  },
  {
   "cell_type": "markdown",
   "metadata": {
    "id": "mjww1mtWbV5S"
   },
   "source": [
    "> Nunca concatene manualmente uma string SQL. Se precisar construir uma string SQL, certifique-se de usar marcadores de interrogação \"?\" e injetá-la usando a API. Você pode [ler mais na documentação do SQLite para Python](https://docs.python.org/3/library/sqlite3.html)."
   ]
  },
  {
   "cell_type": "markdown",
   "metadata": {
    "id": "i-pDmxqPvq66"
   },
   "source": [
    "## ATUALIZAR e EXCLUIR"
   ]
  },
  {
   "cell_type": "markdown",
   "metadata": {
    "id": "Y1JnSd62So8C"
   },
   "source": [
    "Para atualizar um registro, use o comando `UPDATE` seguido da tabela de destino das alterações. Em seguida, use a palavra-chave `SET` para atribuir um ou mais campos (separados por vírgulas) a um novo valor.\n",
    "\n",
    "Certifique-se de usar o comando `WHERE` se estiver direcionando apenas registros específicos. Caso contrário, ele atualizará todos os registros com essas alterações de atribuição. Abaixo, atualizamos o registro `CUSTOMER_PAYMENT` com `CUSTOMER_PAYMENT_ID` de `2` para que os valores `RECEIVE_AMOUNT` e `RECEIVE_DATE` sejam alterados."
   ]
  },
  {
   "cell_type": "code",
   "execution_count": null,
   "metadata": {
    "colab": {
     "base_uri": "https://localhost:8080/"
    },
    "executionInfo": {
     "elapsed": 188,
     "status": "ok",
     "timestamp": 1667264313342,
     "user": {
      "displayName": "Daisy Wizda",
      "userId": "13343178402410361390"
     },
     "user_tz": 240
    },
    "id": "CV_PJH5AvrAd",
    "outputId": "925e474e-b2ef-4772-c3f5-512472d51cf2"
   },
   "outputs": [],
   "source": [
    "sql = \"\"\"\n",
    "UPDATE CUSTOMER_PAYMENT SET RECEIVE_AMOUNT = 580, RECEIVE_DATE = '2020-05-05'\n",
    "WHERE CUSTOMER_PAYMENT_ID = 2\n",
    "\"\"\"\n",
    "\n",
    "conn.execute(sql)\n"
   ]
  },
  {
   "cell_type": "markdown",
   "metadata": {
    "id": "irMUbBPQVAmK"
   },
   "source": [
    "Para excluir um ou mais registros, use o comando `DELETE` com a condição `WHERE` direcionada a esses registros. Digamos que queremos excluir registros onde nenhum `MEMO` foi fornecido. Uma boa prática é visualizar os registros que você deseja excluir com um `SELECT`."
   ]
  },
  {
   "cell_type": "code",
   "execution_count": null,
   "metadata": {
    "colab": {
     "base_uri": "https://localhost:8080/",
     "height": 81
    },
    "executionInfo": {
     "elapsed": 175,
     "status": "ok",
     "timestamp": 1667264319321,
     "user": {
      "displayName": "Daisy Wizda",
      "userId": "13343178402410361390"
     },
     "user_tz": 240
    },
    "id": "LeQFLDy8VAtG",
    "outputId": "c01269d7-93d6-42cd-a4f4-edd3f83adf51"
   },
   "outputs": [],
   "source": [
    "sql = \"\"\"\n",
    "SELECT * FROM CUSTOMER_PAYMENT\n",
    "WHERE MEMO IS NULL \n",
    "\"\"\"\n",
    "\n",
    "pd.read_sql(sql, conn)\n"
   ]
  },
  {
   "cell_type": "markdown",
   "metadata": {
    "id": "0VYrIIgRVRfj"
   },
   "source": [
    "Podemos então usar a condição `WHERE` com um comando `DELETE`, conforme demonstrado abaixo."
   ]
  },
  {
   "cell_type": "code",
   "execution_count": null,
   "metadata": {
    "colab": {
     "base_uri": "https://localhost:8080/"
    },
    "executionInfo": {
     "elapsed": 176,
     "status": "ok",
     "timestamp": 1667264324426,
     "user": {
      "displayName": "Daisy Wizda",
      "userId": "13343178402410361390"
     },
     "user_tz": 240
    },
    "id": "4-HMPvBvVRkh",
    "outputId": "8b72575b-dcb4-4261-87a8-2c1a36f383fb"
   },
   "outputs": [],
   "source": [
    "sql = \"\"\"\n",
    "DELETE FROM CUSTOMER_PAYMENT\n",
    "WHERE MEMO IS NULL \n",
    "\"\"\"\n",
    "\n",
    "conn.execute(sql)\n"
   ]
  },
  {
   "cell_type": "markdown",
   "metadata": {
    "id": "SwtKU8BiU05C"
   },
   "source": [
    "Veja as alterações executando esta consulta."
   ]
  },
  {
   "cell_type": "code",
   "execution_count": null,
   "metadata": {
    "colab": {
     "base_uri": "https://localhost:8080/",
     "height": 238
    },
    "executionInfo": {
     "elapsed": 167,
     "status": "ok",
     "timestamp": 1667264344568,
     "user": {
      "displayName": "Daisy Wizda",
      "userId": "13343178402410361390"
     },
     "user_tz": 240
    },
    "id": "zocqngwRU0-g",
    "outputId": "397cc19c-1214-465a-bec6-5a0fe00cfce3"
   },
   "outputs": [],
   "source": [
    "sql = \"\"\"\n",
    "SELECT * FROM CUSTOMER_PAYMENT\n",
    "\"\"\"\n",
    "\n",
    "pd.read_sql(sql, conn)\n"
   ]
  },
  {
   "cell_type": "markdown",
   "metadata": {
    "id": "f_2-T-f3XLpL"
   },
   "source": [
    "## Transações"
   ]
  },
  {
   "cell_type": "markdown",
   "metadata": {
    "id": "Z6g_oIKBXNwv"
   },
   "source": [
    "Ao fazer edições em um banco de dados, considere fortemente fazê-lo dentro de uma **transação**, que atua como um botão de retrocesso a partir do ponto em que a transação foi iniciada. Aliás, quando você começa a fazer operações de gravação como fizemos acima, uma transação que nunca foi finalizada já está aberta. Isso significa que precisamos executar `commit()` nas alterações que acabamos de fazer, caso contrário, elas serão perdidas no momento em que fecharmos a conexão com o banco de dados. Vamos confirmar essas alterações agora."
   ]
  },
  {
   "cell_type": "code",
   "execution_count": null,
   "metadata": {
    "colab": {
     "base_uri": "https://localhost:8080/"
    },
    "executionInfo": {
     "elapsed": 308,
     "status": "ok",
     "timestamp": 1667264358600,
     "user": {
      "displayName": "Daisy Wizda",
      "userId": "13343178402410361390"
     },
     "user_tz": 240
    },
    "id": "0SpDQOCfYjjT",
    "outputId": "fc494f6d-91d3-43ba-f001-a85961e78ba3"
   },
   "outputs": [],
   "source": [
    "conn.execute(\"COMMIT\") "
   ]
  },
  {
   "cell_type": "markdown",
   "metadata": {
    "id": "bv9ZPYJBYmLI"
   },
   "source": [
    "O motivo para isso é que, se algo der errado, seja um erro, uma queda de energia, um erro de rede ou outros incidentes, precisamos restaurar o banco de dados ao seu último ponto de integridade.\n",
    "\n",
    "Para iniciar uma transação manualmente, você a chama com SQL assim:"
   ]
  },
  {
   "cell_type": "code",
   "execution_count": null,
   "metadata": {
    "colab": {
     "base_uri": "https://localhost:8080/"
    },
    "executionInfo": {
     "elapsed": 153,
     "status": "ok",
     "timestamp": 1667264366381,
     "user": {
      "displayName": "Daisy Wizda",
      "userId": "13343178402410361390"
     },
     "user_tz": 240
    },
    "id": "yyhcWE5ajyrV",
    "outputId": "d3d5736d-4453-40b0-975f-0699104513af"
   },
   "outputs": [],
   "source": [
    "conn.execute(\"BEGIN TRANSACTION\") "
   ]
  },
  {
   "cell_type": "markdown",
   "metadata": {
    "id": "U66UHKl1jyxT"
   },
   "source": [
    "Agora estamos no modo de transação. Podemos usar um `try-except` para lidar com operações de gravação e, se algo der errado, podemos executar um `ROLLBACK`, caso contrário, executaremos um `COMMIT`. Abaixo está uma transação bem-sucedida em que dois registros são criados com sucesso."
   ]
  },
  {
   "cell_type": "code",
   "execution_count": null,
   "metadata": {
    "executionInfo": {
     "elapsed": 187,
     "status": "ok",
     "timestamp": 1667264371370,
     "user": {
      "displayName": "Daisy Wizda",
      "userId": "13343178402410361390"
     },
     "user_tz": 240
    },
    "id": "eWQr_LB6XL25"
   },
   "outputs": [],
   "source": [
    "try: \n",
    "\n",
    "  conn.execute(\"INSERT INTO CUSTOMER_PAYMENT (CUSTOMER_ORDER_ID, RECEIVE_AMOUNT) VALUES (11, 720)\")\n",
    "  conn.execute(\"INSERT INTO CUSTOMER_PAYMENT (CUSTOMER_ORDER_ID, RECEIVE_AMOUNT) VALUES (12, 540)\")\n",
    "  \n",
    "  conn.execute(\"COMMIT\")\n",
    "\n",
    "except: \n",
    "  print(\"FAILED! Rolling back\")\n",
    "  conn.execute(\"ROLLBACK\")"
   ]
  },
  {
   "cell_type": "markdown",
   "metadata": {
    "id": "dWfhne5jc7nh"
   },
   "source": [
    "Aqui está um exemplo que falha. Observe que o segundo `INSERT` não possui um valor para `RECEIVE_AMOUNT`."
   ]
  },
  {
   "cell_type": "code",
   "execution_count": null,
   "metadata": {
    "colab": {
     "base_uri": "https://localhost:8080/"
    },
    "executionInfo": {
     "elapsed": 169,
     "status": "ok",
     "timestamp": 1667264377897,
     "user": {
      "displayName": "Daisy Wizda",
      "userId": "13343178402410361390"
     },
     "user_tz": 240
    },
    "id": "IMLgMcrxXq8Q",
    "outputId": "86b3dd98-bb4f-4a08-abe8-0930a17821e0"
   },
   "outputs": [],
   "source": [
    "conn.execute(\"BEGIN TRANSACTION\") \n",
    "\n",
    "try: \n",
    "\n",
    "  conn.execute(\"INSERT INTO CUSTOMER_PAYMENT (CUSTOMER_ORDER_ID, RECEIVE_AMOUNT) VALUES (15, 1020)\")\n",
    "  conn.execute(\"INSERT INTO CUSTOMER_PAYMENT (CUSTOMER_ORDER_ID, RECEIVE_AMOUNT) VALUES (17)\")\n",
    "  \n",
    "  conn.execute(\"COMMIT\")\n",
    "  \n",
    "except: \n",
    "  print(\"FAILED! Rolling back\")\n",
    "  conn.execute(\"ROLLBACK\")"
   ]
  },
  {
   "cell_type": "markdown",
   "metadata": {
    "id": "NTnQuyUGkTjM"
   },
   "source": [
    "A transação falhará e será revertida, o que significa que o primeiro `INSERT` será revertido e, se você verificar a tabela `CUSTOMER_PAYMENT`, não deverá vê-lo lá."
   ]
  },
  {
   "cell_type": "code",
   "execution_count": null,
   "metadata": {
    "colab": {
     "base_uri": "https://localhost:8080/",
     "height": 300
    },
    "executionInfo": {
     "elapsed": 321,
     "status": "ok",
     "timestamp": 1667264384822,
     "user": {
      "displayName": "Daisy Wizda",
      "userId": "13343178402410361390"
     },
     "user_tz": 240
    },
    "id": "E5JxAWuAkWnZ",
    "outputId": "beae7c9b-6944-4ea3-f9be-c12cc179d1eb"
   },
   "outputs": [],
   "source": [
    "sql = \"\"\"\n",
    "SELECT * FROM CUSTOMER_PAYMENT\n",
    "\"\"\"\n",
    "\n",
    "pd.read_sql(sql, conn)\n"
   ]
  },
  {
   "cell_type": "markdown",
   "metadata": {
    "id": "QqQXr8-8kkkT"
   },
   "source": [
    "## Exercício"
   ]
  },
  {
   "cell_type": "markdown",
   "metadata": {
    "id": "_oDSbwJRkvPm"
   },
   "source": [
    "Complete o código abaixo para inserir os dois registros em uma transação em `CUSTOMER_PAYMENT`, que é confirmada em caso de sucesso e revertida em caso de falha. Forneça `CUSTOMER_ORDER_ID`, `RECEIVE_DATE` e `RECEIVE_AMOUNT`."
   ]
  },
  {
   "cell_type": "code",
   "execution_count": null,
   "metadata": {
    "id": "Brb4E4sNkvrh"
   },
   "outputs": [],
   "source": [
    "conn.execute(\"?\") \n",
    "\n",
    "try: \n",
    "\n",
    "  conn.execute(\"? INTO ? (?, ?, ?) VALUES (25, '2020-05-11',1090)\")\n",
    "  conn.execute(\"? INTO ? (?, ?, ?) VALUES (27, '2020-05-12',2070)\")\n",
    "  \n",
    "  conn.execute(\"?\")\n",
    "\n",
    "except: \n",
    "  print(\"FAILED! Rolling back\")\n",
    "  conn.execute(\"?\")\n",
    "\n",
    "# display results \n",
    "pd.read_sql(\"SELECT * FROM CUSTOMER_PAYMENT\", conn)\n"
   ]
  },
  {
   "cell_type": "markdown",
   "metadata": {
    "id": "Gb-jeI68l_Y7"
   },
   "source": [
    "### RESPOSTA A BAIXO\n",
    "\n",
    "|<br>\n",
    "|<br>\n",
    "|<br>\n",
    "|<br>\n",
    "|<br>\n",
    "|<br>\n",
    "|<br>\n",
    "|<br>\n",
    "|<br>\n",
    "|<br>\n",
    "|<br>\n",
    "|<br>\n",
    "|<br>\n",
    "|<br>\n",
    "|<br>\n",
    "|<br>\n",
    "|<br>\n",
    "|<br>\n",
    "|<br>\n",
    "|<br>\n",
    "|<br>\n",
    "|<br>\n",
    "|<br>\n",
    "v "
   ]
  },
  {
   "cell_type": "code",
   "execution_count": null,
   "metadata": {
    "colab": {
     "base_uri": "https://localhost:8080/",
     "height": 363
    },
    "executionInfo": {
     "elapsed": 218,
     "status": "ok",
     "timestamp": 1667264392193,
     "user": {
      "displayName": "Daisy Wizda",
      "userId": "13343178402410361390"
     },
     "user_tz": 240
    },
    "id": "g5GytZNlmACd",
    "outputId": "22269e4c-25db-4b8c-ccb5-25890deb2d22"
   },
   "outputs": [],
   "source": [
    "conn.execute(\"BEGIN TRANSACTION\") \n",
    "\n",
    "try: \n",
    "\n",
    "  conn.execute(\"INSERT INTO CUSTOMER_PAYMENT (CUSTOMER_ORDER_ID, RECEIVE_DATE, RECEIVE_AMOUNT) VALUES (25, '2020-05-11',1090)\")\n",
    "  conn.execute(\"INSERT INTO CUSTOMER_PAYMENT (CUSTOMER_ORDER_ID, RECEIVE_DATE, RECEIVE_AMOUNT) VALUES (27, '2020-05-12',2070)\")\n",
    "  \n",
    "  conn.execute(\"COMMIT\")\n",
    "\n",
    "except: \n",
    "  print(\"FAILED! Rolling back\")\n",
    "  conn.execute(\"ROLLBACK\")\n",
    "\n",
    "pd.read_sql(\"SELECT * FROM CUSTOMER_PAYMENT\", conn)\n"
   ]
  }
 ],
 "metadata": {
  "colab": {
   "collapsed_sections": [],
   "provenance": []
  },
  "kernelspec": {
   "display_name": "anaconda-2024.02-py310",
   "language": "python",
   "name": "conda-env-anaconda-2024.02-py310-py"
  },
  "language_info": {
   "codemirror_mode": {
    "name": "ipython",
    "version": 3
   },
   "file_extension": ".py",
   "mimetype": "text/x-python",
   "name": "python",
   "nbconvert_exporter": "python",
   "pygments_lexer": "ipython3",
   "version": "3.9.13"
  }
 },
 "nbformat": 4,
 "nbformat_minor": 4
}
