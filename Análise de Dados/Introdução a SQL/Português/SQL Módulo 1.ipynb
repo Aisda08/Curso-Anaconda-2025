{
 "cells": [
  {
   "cell_type": "markdown",
   "metadata": {
    "id": "BbNpRCp220F6"
   },
   "source": [
    "# Visão geral e configuração\n",
    "\n",
    "Nesta seção, discutiremos o que é SQL e como configurar o SQLite em um ambiente Python."
   ]
  },
  {
   "cell_type": "markdown",
   "metadata": {
    "id": "CFcrMY0N4rxf"
   },
   "source": [
    "## O que são SQL e Bancos de Dados Relacionais?\n",
    "\n",
    "**SQL** significa linguagem de consulta estruturada e é usada para recuperar, manipular e gravar dados. É frequentemente usada em **sistemas de gerenciamento de bancos de dados relacionais (SGBDR)** ou bancos de dados com tabelas vinculadas. Isso significa que as tabelas podem ser unidas para melhor organizar os dados. Falaremos sobre relacionamentos e junções de tabelas no Módulo 6.\n",
    "\n",
    "Embora o SQL seja tradicionalmente associado a bancos de dados relacionais, ele continua popular o suficiente para ser implementado em bancos de dados NoSQL (\"Não apenas SQL\"), bem como em plataformas de \"big data\" como Apache Spark e Trino. Mesmo com 50 anos de existência, o SQL continua sendo uma habilidade necessária para qualquer profissional de dados e uma linguagem essencial para trabalhar com dados.\n",
    "\n",
    "Nos bancos de dados relacionais, existem muitas plataformas comerciais e de código aberto, como Oracle, Microsoft SQL Server, PostgreSQL e MySQL. Essas plataformas geralmente executam um banco de dados em um servidor local ou \"na nuvem\", que é um espaço de servidor alugado operando remotamente. Todas essas plataformas usam SQL, e os principais recursos da linguagem SQL são compartilhados entre elas. Para manter nosso ambiente simples, a plataforma que usaremos é o SQLite.\n",
    "\n",
    "## O que é SQLite?\n",
    "\n",
    "**SQLite** é uma plataforma de banco de dados, assim como o [Oracle](https://www.oracle.com/database/technologies/appdev/sql.html) ou o [Microsoft SQL Server](https://www.microsoft.com/en-us/sql-server). No entanto, sua característica única é que ele não requer um servidor. Em vez disso, o banco de dados é simplesmente armazenado como um arquivo em sua máquina local e você usa uma biblioteca ou interface de usuário para abri-lo. O Python já contém uma biblioteca SQLite por padrão, portanto, você não precisa instalá-la. Ele também está em conformidade com a [DBI API 2.0 especificada pela PEP 249](https://docs.python.org/3/library/sqlite3.html). Isso significa que outros pacotes de plataforma de banco de dados que atendem a esse padrão (incluindo [Microsoft SQL Server](https://pypi.org/project/pymssql/) e [Oracle](https://pypi.org/project/cx-Oracle/)) podem ser trabalhados da mesma forma que usaremos o SQLite. Portanto, tudo o que você aprender neste treinamento pode ser aplicado à maioria das principais plataformas de banco de dados!\n",
    "\n",
    "> Se você deseja escrever SQL em um banco de dados SQLite com uma interface gráfica de usuário, existem muitas ferramentas que oferecem isso. Meus favoritos são [SQLiteOnline](https://docs.python.org/3/library/sqlite3.html) e [SQLiteStudio](https://sqlitestudio.pl/)."
   ]
  },
  {
   "cell_type": "markdown",
   "metadata": {
    "id": "1U_wTLoA7Pb6"
   },
   "source": [
    "## Configuração\n",
    "\n",
    "Como mencionado anteriormente, o SQLite já vem integrado ao Python 3. Se você usa outras plataformas, como [Microsoft SQL Server](https://pypi.org/project/pymssql/) ou [Oracle](https://pypi.org/project/cx-Oracle/), precisará executar o comando `pip install` nos respectivos pacotes que atendem ao padrão DBI-API 2.0.\n",
    "\n",
    "No entanto, precisamos obter o arquivo SQLite contendo um banco de dados de exemplo com o qual trabalharemos com os exemplos. Para facilitar, podemos baixar o arquivo diretamente [do repositório do Github](https://github.com/thomasnield/anaconda_intro_to_sql/) e colocá-lo em nosso diretório Python de trabalho."
   ]
  },
  {
   "cell_type": "markdown",
   "metadata": {
    "id": "B8Y1OHh5_rvc"
   },
   "source": [
    "Em seguida, baixe o arquivo `company_operations.db` diretamente do repositório do GitHub usando o comando `download()`."
   ]
  },
  {
   "cell_type": "code",
   "execution_count": null,
   "metadata": {
    "colab": {
     "base_uri": "https://localhost:8080/"
    },
    "executionInfo": {
     "elapsed": 1186,
     "status": "ok",
     "timestamp": 1665674225774,
     "user": {
      "displayName": "Thomas Nield",
      "userId": "10920076319013086175"
     },
     "user_tz": 420
    },
    "id": "jU9U0bw-_0GE",
    "outputId": "f76b1918-ced7-42cc-9d00-329c5d17dc08"
   },
   "outputs": [],
   "source": [
    "import urllib.request\n",
    "urllib.request.urlretrieve(\"https://github.com/thomasnield/anaconda_intro_to_sql/blob/main/company_operations.db?raw=true\", \"company_operations.db\")"
   ]
  },
  {
   "cell_type": "markdown",
   "metadata": {
    "id": "dVOo8f-dFEdo"
   },
   "source": [
    "Agora você deve ter o arquivo `company_operations.db` baixado e pronto para uso neste notebook."
   ]
  },
  {
   "cell_type": "markdown",
   "metadata": {
    "id": "kUBoYD5-_8gW"
   },
   "source": [
    "## Conectando a um Banco de Dados\n",
    "\n",
    "Para se conectar a um banco de dados usando o padrão DB-API 2.0, primeiro importe o módulo para a plataforma de banco de dados desejada. Para SQLite, `importamos sqlite3`. Vamos também usar o Pandas, pois isso facilitará a exibição dos resultados de uma consulta SQL.\n",
    "\n",
    "Após importar o módulo para `sqlite3`, você pode chamar sua função `connect()` e passar os argumentos necessários para se conectar ao banco de dados. O SQLite requer apenas um argumento string para o caminho para o arquivo do banco de dados. Como o arquivo SQLite já está no diretório de trabalho, precisamos apenas fornecer o nome do arquivo. Isso retornará uma conexão que salvaremos em uma variável `conn`."
   ]
  },
  {
   "cell_type": "code",
   "execution_count": null,
   "metadata": {
    "id": "Yh94kdlLz5gf"
   },
   "outputs": [],
   "source": [
    "import sqlite3\n",
    "import pandas as pd\n",
    "\n",
    "conn = sqlite3.connect('company_operations.db')"
   ]
  },
  {
   "cell_type": "markdown",
   "metadata": {
    "id": "duMmddwJBTAk"
   },
   "source": [
    "Se você estiver usando Oracle ou outras plataformas de banco de dados, pode ser necessário fornecer argumentos adicionais para se conectar ao banco de dados. Você precisará [ler a documentação](https://cx-oracle.readthedocs.io/en/latest/user_guide/connection_handling.html) para uma determinada plataforma. Isso esclarecerá quais parâmetros são necessários para se conectar a um banco de dados, e você poderá recuperá-los do seu administrador de banco de dados, que poderá fornecer um nome de usuário, senha, nome do host, endereço IP ou outras informações necessárias.\n",
    "\n",
    "Agora que você tem uma conexão, pode escrever uma consulta SQL como uma string e passá-la para a função `read_sql()` do Pandas junto com a conexão. O Pandas então passará essa consulta SQL para a conexão e retornará os resultados como um [DataFrame](https://pandas.pydata.org/docs/reference/api/pandas.DataFrame.html)."
   ]
  },
  {
   "cell_type": "code",
   "execution_count": null,
   "metadata": {
    "colab": {
     "base_uri": "https://localhost:8080/",
     "height": 359
    },
    "executionInfo": {
     "elapsed": 233,
     "status": "ok",
     "timestamp": 1665606786364,
     "user": {
      "displayName": "Thomas Nield",
      "userId": "10920076319013086175"
     },
     "user_tz": 420
    },
    "id": "1W2_I6Bx1qgr",
    "outputId": "14c25190-12c7-493c-b876-d7fa79cbd521"
   },
   "outputs": [],
   "source": [
    "sql = \"SELECT * FROM CUSTOMER\"\n",
    "\n",
    "pd.read_sql(sql, conn)"
   ]
  },
  {
   "cell_type": "markdown",
   "metadata": {
    "id": "3-BPPHwbCFmU"
   },
   "source": [
    "Se você observar o código e a saída acima, `SELECT` é um comando SQL que recupera dados, e o estamos usando para recuperar todas as colunas e registros da tabela `CUSTOMER`. Em um ambiente Python, o código SQL será uma string e, em seguida, passado para a conexão, que retornará os resultados. Embora possamos iterar os resultados manualmente (como mostrado [nesta documentação](https://docs.python.org/3/library/sqlite3.html#tutorial)), é mais conveniente para nossos propósitos deixar o Pandas carregar os resultados em um `DataFrame` para nós.\n",
    "\n",
    "Em outras seções, nos concentraremos em aprender as funcionalidades do SQL e continuaremos usando um ambiente Python para executar nossas consultas e escrever operações.\n",
    "\n",
    "Se você quiser usar uma determinada coluna como coluna de índice no Pandas, pode especificá-la na função `read_sql()`."
   ]
  },
  {
   "cell_type": "code",
   "execution_count": null,
   "metadata": {
    "colab": {
     "base_uri": "https://localhost:8080/",
     "height": 390
    },
    "executionInfo": {
     "elapsed": 480,
     "status": "ok",
     "timestamp": 1665674230727,
     "user": {
      "displayName": "Thomas Nield",
      "userId": "10920076319013086175"
     },
     "user_tz": 420
    },
    "id": "AlOe5EVh6ykP",
    "outputId": "bb5c5598-9eb6-49d3-be98-0e168bf036a3"
   },
   "outputs": [],
   "source": [
    "sql = \"SELECT * FROM CUSTOMER\"\n",
    "\n",
    "pd.read_sql(sql, conn, index_col=\"CUSTOMER_ID\")"
   ]
  },
  {
   "cell_type": "markdown",
   "metadata": {
    "id": "PTKDqQweF0sm"
   },
   "source": [
    "## Por que SQL em vez de Pandas?\n",
    "\n",
    "Como aprenderemos como recuperar, filtrar, transformar, agregar e unir dados, você pode estar se perguntando por que não usar apenas o Pandas, já que ele também pode realizar todas essas tarefas. SQL e Pandas não são concorrentes, mas sim duas ferramentas diferentes para dois ambientes distintos. Quando você tem muitos terabytes de dados armazenados em um banco de dados relacional, provavelmente não conseguirá processar esses dados localmente em sua máquina usando o Pandas. Faz sentido deixar o SQL fazer a computação pesada no lado do servidor (que é otimizado para processar os dados que está armazenando) e deixar o Pandas simplesmente receber os resultados. Por outro lado, o SQL pode estar menos equipado para tarefas de aprendizado de máquina e mesclar fontes de dados distintas, ou executar algoritmos mais elaborados para os quais Python e Pandas estão mais bem equipados.\n",
    "\n",
    "Geralmente, é uma boa prática ao trabalhar com um banco de dados relacional fazer com que o servidor de banco de dados faça o trabalho de computação sempre que possível e que o ambiente Python consuma os resultados. Mantenha ambas as ferramentas em seu bolso e use-as em situações em que façam sentido."
   ]
  }
 ],
 "metadata": {
  "colab": {
   "collapsed_sections": [],
   "provenance": []
  },
  "kernelspec": {
   "display_name": "anaconda-2024.02-py310",
   "language": "python",
   "name": "conda-env-anaconda-2024.02-py310-py"
  },
  "language_info": {
   "codemirror_mode": {
    "name": "ipython",
    "version": 3
   },
   "file_extension": ".py",
   "mimetype": "text/x-python",
   "name": "python",
   "nbconvert_exporter": "python",
   "pygments_lexer": "ipython3",
   "version": "3.10.14"
  }
 },
 "nbformat": 4,
 "nbformat_minor": 4
}
