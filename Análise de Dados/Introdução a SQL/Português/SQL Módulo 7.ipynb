{
 "cells": [
  {
   "cell_type": "markdown",
   "metadata": {
    "id": "53hcDPVqHlob"
   },
   "source": [
    "# Subconsultas e expressões de tabela comuns"
   ]
  },
  {
   "cell_type": "markdown",
   "metadata": {
    "id": "P8qE9CFhHqDc"
   },
   "source": [
    "Espero que agora você já esteja familiarizado com junções, particularmente com `INNER JOIN` e `LEFT JOIN`. Embora junções sejam uma habilidade essencial, o SQL se torna incrivelmente flexível e poderoso quando você aprende sobre subconsultas, tabelas derivadas e expressões comuns de tabelas. Ao usar essas operações, você poderá descobrir que o SQL pode expressar lógica e tarefas declarativamente que você talvez não acreditasse serem possíveis."
   ]
  },
  {
   "cell_type": "markdown",
   "metadata": {
    "id": "eQue4RLXIFYs"
   },
   "source": [
    "## Configuração\n",
    "\n",
    "Primeiro, configure. Baixe o arquivo de banco de dados SQLite `company_operations.db` e conecte-se a ele. Também inclua `pandas` para exibir os resultados da nossa consulta SQL como um `DataFrame`."
   ]
  },
  {
   "cell_type": "code",
   "execution_count": null,
   "metadata": {
    "executionInfo": {
     "elapsed": 2292,
     "status": "ok",
     "timestamp": 1667263786292,
     "user": {
      "displayName": "Daisy Wizda",
      "userId": "13343178402410361390"
     },
     "user_tz": 240
    },
    "id": "mkcb6NmAHi39"
   },
   "outputs": [],
   "source": [
    "import sqlite3\n",
    "import pandas as pd\n",
    "import urllib.request\n",
    "\n",
    "# baixe o banco de dados SQLite e conecte-se a ele\n",
    "urllib.request.urlretrieve(\"https://github.com/thomasnield/anaconda_intro_to_sql/blob/main/company_operations.db?raw=true\", \"company_operations.db\")\n",
    "conn = sqlite3.connect('company_operations.db')"
   ]
  },
  {
   "cell_type": "markdown",
   "metadata": {
    "id": "pbo0ZEdLIHQW"
   },
   "source": [
    "## Subconsultas escalares"
   ]
  },
  {
   "cell_type": "markdown",
   "metadata": {
    "id": "oYAp039AIMEY"
   },
   "source": [
    "Vamos encontrar o máximo `ORDER_DATE` que existe na tabela `CUSTOMER_ORDER`."
   ]
  },
  {
   "cell_type": "code",
   "execution_count": null,
   "metadata": {
    "colab": {
     "base_uri": "https://localhost:8080/",
     "height": 81
    },
    "executionInfo": {
     "elapsed": 489,
     "status": "ok",
     "timestamp": 1667263791317,
     "user": {
      "displayName": "Daisy Wizda",
      "userId": "13343178402410361390"
     },
     "user_tz": 240
    },
    "id": "PZpVThtDIMQ5",
    "outputId": "a4b626b9-d40d-420f-910b-b57d88870e08"
   },
   "outputs": [],
   "source": [
    "sql = \"\"\"\n",
    "SELECT MAX(ORDER_DATE) FROM CUSTOMER_ORDER\n",
    "\"\"\"\n",
    "\n",
    "pd.read_sql(sql, conn)\n"
   ]
  },
  {
   "cell_type": "markdown",
   "metadata": {
    "id": "LtTTWLpFJlSH"
   },
   "source": [
    "Agora, digamos que queremos obter todos os registros `CUSTOMER_ORDER` para a última `ORDER_DATE`. Em vez de codificar esse valor como um literal, podemos incorporar essa primeira consulta como uma **subconsulta**, que é uma consulta dentro de outra consulta. Nesse caso, trata-se de uma **subconsulta escalar**, pois retorna um único valor."
   ]
  },
  {
   "cell_type": "code",
   "execution_count": null,
   "metadata": {
    "colab": {
     "base_uri": "https://localhost:8080/",
     "height": 802
    },
    "executionInfo": {
     "elapsed": 213,
     "status": "ok",
     "timestamp": 1667263804353,
     "user": {
      "displayName": "Daisy Wizda",
      "userId": "13343178402410361390"
     },
     "user_tz": 240
    },
    "id": "jzcqVXdOJ1Xp",
    "outputId": "d014e295-52e5-4a77-b94d-cdc5485baa42"
   },
   "outputs": [],
   "source": [
    "sql = \"\"\"\n",
    "SELECT * FROM CUSTOMER_ORDER\n",
    "WHERE ORDER_DATE = (SELECT MAX(ORDER_DATE) FROM CUSTOMER_ORDER)\n",
    "\"\"\"\n",
    "\n",
    "pd.read_sql(sql, conn)\n"
   ]
  },
  {
   "cell_type": "markdown",
   "metadata": {
    "id": "RLTNZ_YiLP0O"
   },
   "source": [
    "## Subconsultas de matriz"
   ]
  },
  {
   "cell_type": "markdown",
   "metadata": {
    "id": "URAfvjQ0LebB"
   },
   "source": [
    "Digamos que você queira obter todos os registros `CUSTOMER_ORDER` para clientes que estão no `ESTADO` de \"TX\". Poderíamos fazer isso usando um `INNER JOIN`, mas vamos tentar fazer isso de uma forma um pouco mais simples (e possivelmente mais eficiente).\n",
    "\n",
    "Primeiro, vamos obter uma única coluna de `CUSTOMER_ID` para clientes no `ESTADO` de \"TX\"."
   ]
  },
  {
   "cell_type": "code",
   "execution_count": null,
   "metadata": {
    "colab": {
     "base_uri": "https://localhost:8080/",
     "height": 206
    },
    "executionInfo": {
     "elapsed": 282,
     "status": "ok",
     "timestamp": 1667263822772,
     "user": {
      "displayName": "Daisy Wizda",
      "userId": "13343178402410361390"
     },
     "user_tz": 240
    },
    "id": "5ZDFw87iLynC",
    "outputId": "071eb292-413a-4d6b-b15f-b62c93317008"
   },
   "outputs": [],
   "source": [
    "sql = \"\"\"\n",
    "SELECT CUSTOMER_ID FROM CUSTOMER WHERE STATE = 'TX'\n",
    "\"\"\"\n",
    "\n",
    "pd.read_sql(sql, conn)\n"
   ]
  },
  {
   "cell_type": "markdown",
   "metadata": {
    "id": "T0cT0R-0MDzZ"
   },
   "source": [
    "Podemos então incorporar isso como uma subconsulta em uma operação `IN`. Isso é conhecido como uma **subconsulta de array** porque retorna uma lista de valores."
   ]
  },
  {
   "cell_type": "code",
   "execution_count": null,
   "metadata": {
    "colab": {
     "base_uri": "https://localhost:8080/",
     "height": 424
    },
    "executionInfo": {
     "elapsed": 212,
     "status": "ok",
     "timestamp": 1667263829277,
     "user": {
      "displayName": "Daisy Wizda",
      "userId": "13343178402410361390"
     },
     "user_tz": 240
    },
    "id": "iqVRzrmXLekJ",
    "outputId": "08ae5046-63b6-406f-8a61-058dbea52902"
   },
   "outputs": [],
   "source": [
    "sql = \"\"\"\n",
    "SELECT * FROM CUSTOMER_ORDER\n",
    "\n",
    "WHERE CUSTOMER_ID IN (SELECT CUSTOMER_ID FROM CUSTOMER WHERE STATE = 'TX')\n",
    "\"\"\"\n",
    "\n",
    "pd.read_sql(sql, conn)\n"
   ]
  },
  {
   "cell_type": "markdown",
   "metadata": {
    "id": "ZTud_w8pMLnM"
   },
   "source": [
    "Outra tarefa comum para subconsultas de array é obter registros pai sem filhos, como registros `CUSTOMER` sem registros `CUSTOMER_ORDER`. Podemos qualificar um conjunto `DISTINCT` de valores `CUSTOMER_ID` da tabela `CUSTOMER_ORDER` (removendo quaisquer duplicatas) e verificar se há registros `CUSTOMER` cujo `CUSTOMER_ID` não esteja presente.\n",
    "\n",
    "Nesse caso, devemos obter apenas um `CUSTOMER` que não tenha nenhum registro `CUSTOMER_ORDER`."
   ]
  },
  {
   "cell_type": "code",
   "execution_count": null,
   "metadata": {
    "colab": {
     "base_uri": "https://localhost:8080/",
     "height": 81
    },
    "executionInfo": {
     "elapsed": 302,
     "status": "ok",
     "timestamp": 1667263844788,
     "user": {
      "displayName": "Daisy Wizda",
      "userId": "13343178402410361390"
     },
     "user_tz": 240
    },
    "id": "R8T9hxXYMLtA",
    "outputId": "de3eff0b-64f1-40d0-a51c-c888d6529389"
   },
   "outputs": [],
   "source": [
    "sql = \"\"\"\n",
    "SELECT * FROM CUSTOMER\n",
    "\n",
    "WHERE CUSTOMER_ID NOT IN (SELECT DISTINCT CUSTOMER_ID FROM CUSTOMER_ORDER)\n",
    "\"\"\"\n",
    "\n",
    "pd.read_sql(sql, conn)\n"
   ]
  },
  {
   "cell_type": "markdown",
   "metadata": {
    "id": "ggNFI_ZKLMS-"
   },
   "source": [
    "## Subconsultas correlacionadas"
   ]
  },
  {
   "cell_type": "markdown",
   "metadata": {
    "id": "YE37RFOMLMgu"
   },
   "source": [
    "Podemos usar **subconsultas correlacionadas** para que uma subconsulta faça referência aos campos da consulta externa. Por exemplo, podemos mostrar os registros `CUSTOMER_ORDER`, mas também calcular a quantidade média pedida para todos os registros que compartilham `CUSTOMER_ID` e `PRODUCT_ID`. Observe que `CUSTOMER_ORDER` está sendo usado em dois contextos: a consulta interna, com o alias `co2`, e a consulta externa, com o alias `co1`."
   ]
  },
  {
   "cell_type": "code",
   "execution_count": null,
   "metadata": {
    "colab": {
     "base_uri": "https://localhost:8080/",
     "height": 424
    },
    "executionInfo": {
     "elapsed": 330,
     "status": "ok",
     "timestamp": 1667263859631,
     "user": {
      "displayName": "Daisy Wizda",
      "userId": "13343178402410361390"
     },
     "user_tz": 240
    },
    "id": "33IPSGEuNKWr",
    "outputId": "a272a2fd-b3a0-4e9f-a45b-89f92b4d4473"
   },
   "outputs": [],
   "source": [
    "sql = \"\"\"\n",
    "SELECT CUSTOMER_ORDER_ID, \n",
    "CUSTOMER_ID,\n",
    "ORDER_DATE,\n",
    "PRODUCT_ID,\n",
    "QUANTITY,\n",
    "\n",
    "(\n",
    "  SELECT AVG(QUANTITY)\n",
    "  FROM CUSTOMER_ORDER co2 \n",
    "  WHERE co1.CUSTOMER_ID = co2.CUSTOMER_ID \n",
    "  AND co1.PRODUCT_ID = co2.PRODUCT_ID\n",
    ") AS AVG_QTY\n",
    "\n",
    "FROM CUSTOMER_ORDER co1\n",
    "\n",
    "\"\"\"\n",
    "\n",
    "pd.read_sql(sql, conn)\n"
   ]
  },
  {
   "cell_type": "markdown",
   "metadata": {
    "id": "Zu4hZB1YOSZj"
   },
   "source": [
    "Esta não é, de forma alguma, a maneira mais eficiente de realizar esta tarefa, e aprenderemos algumas maneiras melhores de realizar esta tarefa específica de obter um valor agregado que compartilhe os atributos de cada registro. No entanto, subconsultas correlacionadas podem ser uma ferramenta poderosa para calcular com flexibilidade outras consultas dependentes de cada registro. Observe que isso é computacionalmente custoso, pois cada registro iniciará esta subconsulta."
   ]
  },
  {
   "cell_type": "markdown",
   "metadata": {
    "id": "Ygb_Le4IOtZR"
   },
   "source": [
    "## Tabelas Derivadas"
   ]
  },
  {
   "cell_type": "markdown",
   "metadata": {
    "id": "gmIH6qGCOtb3"
   },
   "source": [
    "Quando uma subconsulta contém várias colunas, a chamamos de **tabela derivada**. Isso costuma ser usado para declarar uma consulta `SELECT` e uni-la como se fosse uma tabela. Observe abaixo como podemos exibir a quantidade média pedida ao lado de cada registro `CUSTOMER_ORDER`, para todos os registros que compartilham o `CUSTOMER_ID` e o `PRODUCT_ID` de cada registro."
   ]
  },
  {
   "cell_type": "code",
   "execution_count": null,
   "metadata": {
    "colab": {
     "base_uri": "https://localhost:8080/",
     "height": 424
    },
    "executionInfo": {
     "elapsed": 189,
     "status": "ok",
     "timestamp": 1667263882724,
     "user": {
      "displayName": "Daisy Wizda",
      "userId": "13343178402410361390"
     },
     "user_tz": 240
    },
    "id": "QNXOeWxEOtls",
    "outputId": "48c7d714-549a-4fcd-fa4a-e2db38562838"
   },
   "outputs": [],
   "source": [
    "sql = \"\"\"\n",
    "SELECT CUSTOMER_ORDER_ID, \n",
    "CUSTOMER_ORDER.CUSTOMER_ID,\n",
    "ORDER_DATE,\n",
    "CUSTOMER_ORDER.PRODUCT_ID,\n",
    "QUANTITY,\n",
    "AVG_QTY\n",
    "\n",
    "FROM CUSTOMER_ORDER LEFT JOIN \n",
    "\n",
    "(\n",
    "  SELECT CUSTOMER_ID, \n",
    "  PRODUCT_ID,\n",
    "  AVG(QUANTITY) AS AVG_QTY\n",
    "\n",
    "  FROM CUSTOMER_ORDER\n",
    "  GROUP BY CUSTOMER_ID, PRODUCT_ID\n",
    ") avg_quantity\n",
    "\n",
    "ON CUSTOMER_ORDER.CUSTOMER_ID = avg_quantity.CUSTOMER_ID\n",
    "AND CUSTOMER_ORDER.PRODUCT_ID = avg_quantity.PRODUCT_ID\n",
    "\n",
    "\"\"\"\n",
    "\n",
    "pd.read_sql(sql, conn)\n"
   ]
  },
  {
   "cell_type": "markdown",
   "metadata": {
    "id": "EteR3cd_VrlI"
   },
   "source": [
    "Isso é muito mais eficiente, pois calculamos a `QUANTIDADE` média para cada `PRODUCT_ID` e `CUSTOMER_ID` de uma só vez e juntamos tudo."
   ]
  },
  {
   "cell_type": "markdown",
   "metadata": {
    "id": "Kioy-EhLWDeX"
   },
   "source": [
    "## Expressões de tabela comuns (CTE's)"
   ]
  },
  {
   "cell_type": "markdown",
   "metadata": {
    "id": "gzvolOCcWGFw"
   },
   "source": [
    "Uma maneira muito melhor de declarar tabelas derivadas é declarar uma **expressão de tabela comum**, que permite declarar uma subconsulta nomeada com antecedência, antes de usá-la em uma consulta `SELECT`. Vamos pegar o exemplo anterior e observá-lo em uma expressão de tabela comum."
   ]
  },
  {
   "cell_type": "code",
   "execution_count": null,
   "metadata": {
    "colab": {
     "base_uri": "https://localhost:8080/",
     "height": 424
    },
    "executionInfo": {
     "elapsed": 311,
     "status": "ok",
     "timestamp": 1667263904563,
     "user": {
      "displayName": "Daisy Wizda",
      "userId": "13343178402410361390"
     },
     "user_tz": 240
    },
    "id": "-skIlUuCVrrB",
    "outputId": "0d2612ce-beec-41c4-996e-edd06c5da5fb"
   },
   "outputs": [],
   "source": [
    "sql = \"\"\"\n",
    "WITH avg_quantity AS (\n",
    "  SELECT CUSTOMER_ID, \n",
    "  PRODUCT_ID,\n",
    "  AVG(QUANTITY) AS AVG_QTY\n",
    "\n",
    "  FROM CUSTOMER_ORDER\n",
    "  GROUP BY CUSTOMER_ID, PRODUCT_ID\n",
    ")\n",
    "\n",
    "SELECT CUSTOMER_ORDER_ID, \n",
    "CUSTOMER_ORDER.CUSTOMER_ID,\n",
    "ORDER_DATE,\n",
    "CUSTOMER_ORDER.PRODUCT_ID,\n",
    "QUANTITY,\n",
    "AVG_QTY\n",
    "\n",
    "FROM CUSTOMER_ORDER LEFT JOIN avg_quantity\n",
    "\n",
    "ON CUSTOMER_ORDER.CUSTOMER_ID = avg_quantity.CUSTOMER_ID\n",
    "AND CUSTOMER_ORDER.PRODUCT_ID = avg_quantity.PRODUCT_ID\n",
    "\n",
    "\"\"\"\n",
    "\n",
    "pd.read_sql(sql, conn)\n"
   ]
  },
  {
   "cell_type": "markdown",
   "metadata": {
    "id": "ZQX7udSvW3cl"
   },
   "source": [
    "Os benefícios são principalmente a reutilização e a organização do código. Podemos usar uma expressão de tabela comum várias vezes sem precisar declarar novamente sua consulta `SELECT` de forma redundante. Também podemos evitar a confusão de consultas `SELECT` dentro de consultas `SELECT` e dividir a consulta em etapas mais fáceis de entender.\n",
    "\n",
    "Outro benefício é que você pode ter, proceduralmente, várias expressões de tabela comuns, onde cada uma pode apontar para a anterior. Abaixo, declaramos `tx_customer_ids` para obter os IDs de clientes no estado `TX` e, em seguida, usamos isso para obter pedidos apenas de clientes no estado `TX`. Por fim, reduzimos esses pedidos para apenas `PRODUCT_ID` de 7."
   ]
  },
  {
   "cell_type": "code",
   "execution_count": null,
   "metadata": {
    "colab": {
     "base_uri": "https://localhost:8080/",
     "height": 1000
    },
    "executionInfo": {
     "elapsed": 181,
     "status": "ok",
     "timestamp": 1667263925710,
     "user": {
      "displayName": "Daisy Wizda",
      "userId": "13343178402410361390"
     },
     "user_tz": 240
    },
    "id": "XWn-4mjLW3iU",
    "outputId": "6132588a-ceb6-4a7b-94d8-962fc257e0aa"
   },
   "outputs": [],
   "source": [
    "sql = \"\"\"\n",
    "WITH tx_customer_ids AS (\n",
    "  SELECT CUSTOMER_ID \n",
    "  FROM CUSTOMER\n",
    "  WHERE STATE = 'TX'\n",
    "), \n",
    "\n",
    "tx_customer_orders AS (\n",
    "  SELECT * FROM CUSTOMER_ORDER \n",
    "  WHERE CUSTOMER_ID IN tx_customer_ids\n",
    ")\n",
    "\n",
    "SELECT * FROM tx_customer_orders\n",
    "WHERE PRODUCT_ID = 7 \n",
    "\n",
    "\"\"\"\n",
    "\n",
    "pd.read_sql(sql, conn)\n"
   ]
  },
  {
   "cell_type": "markdown",
   "metadata": {
    "id": "8_cgbnTOZXqv"
   },
   "source": [
    "Embora este exemplo possa dividir essas etapas desnecessariamente, ele serve para mostrar que você pode dividir consultas mais complexas em etapas simples."
   ]
  },
  {
   "cell_type": "markdown",
   "metadata": {
    "id": "dfPHaSPDarks"
   },
   "source": [
    "## EXERCÍCIO\n",
    "\n",
    "Para cada `CUSTOMER_ORDER` no mês de março, recupere todos os campos. Insira também as quantidades mínima e máxima de produtos encomendados em todos os registros que compartilham `PRODUCT_ID` e `CUSTOMER_ID` de cada registro."
   ]
  },
  {
   "cell_type": "code",
   "execution_count": null,
   "metadata": {
    "id": "EU08mlIFbLcR"
   },
   "outputs": [],
   "source": [
    "sql = \"\"\"\n",
    "? min_max_quantity AS (\n",
    "  ?\n",
    ")\n",
    "\n",
    "SELECT CUSTOMER_ORDER_ID, \n",
    "CUSTOMER_ORDER.CUSTOMER_ID,\n",
    "ORDER_DATE,\n",
    "CUSTOMER_ORDER.PRODUCT_ID,\n",
    "QUANTITY,\n",
    "MIN_QTY,\n",
    "MAX_QTY\n",
    "\n",
    "FROM CUSTOMER_ORDER LEFT JOIN ?\n",
    "\n",
    "ON CUSTOMER_ORDER.CUSTOMER_ID = min_max_quantity.CUSTOMER_ID\n",
    "AND CUSTOMER_ORDER.PRODUCT_ID = min_max_quantity.PRODUCT_ID\n",
    "\n",
    "\"\"\"\n",
    "\n",
    "pd.read_sql(sql, conn)\n"
   ]
  },
  {
   "cell_type": "markdown",
   "metadata": {
    "id": "hcY8G4q3anqE"
   },
   "source": [
    "### RESPOSTA A BAIXO\n",
    "\n",
    "|<br>\n",
    "|<br>\n",
    "|<br>\n",
    "|<br>\n",
    "|<br>\n",
    "|<br>\n",
    "|<br>\n",
    "|<br>\n",
    "|<br>\n",
    "|<br>\n",
    "|<br>\n",
    "|<br>\n",
    "|<br>\n",
    "|<br>\n",
    "|<br>\n",
    "|<br>\n",
    "|<br>\n",
    "|<br>\n",
    "|<br>\n",
    "|<br>\n",
    "|<br>\n",
    "|<br>\n",
    "|<br>\n",
    "v "
   ]
  },
  {
   "cell_type": "code",
   "execution_count": null,
   "metadata": {
    "id": "5P396chpblzf"
   },
   "outputs": [],
   "source": [
    "sql = \"\"\"\n",
    "WITH min_max_quantity AS (\n",
    "  SELECT CUSTOMER_ID, \n",
    "  PRODUCT_ID,\n",
    "  MIN(QUANTITY) AS MIN_QTY,\n",
    "  MAX(QUANTITY) AS MAX_QTY\n",
    "\n",
    "  FROM CUSTOMER_ORDER\n",
    "  GROUP BY CUSTOMER_ID, PRODUCT_ID\n",
    ")\n",
    "\n",
    "SELECT CUSTOMER_ORDER_ID, \n",
    "CUSTOMER_ORDER.CUSTOMER_ID,\n",
    "ORDER_DATE,\n",
    "CUSTOMER_ORDER.PRODUCT_ID,\n",
    "QUANTITY,\n",
    "MIN_QTY,\n",
    "MAX_QTY\n",
    "\n",
    "FROM CUSTOMER_ORDER LEFT JOIN min_max_quantity\n",
    "\n",
    "ON CUSTOMER_ORDER.CUSTOMER_ID = min_max_quantity.CUSTOMER_ID\n",
    "AND CUSTOMER_ORDER.PRODUCT_ID = min_max_quantity.PRODUCT_ID\n",
    "\n",
    "\"\"\"\n",
    "\n",
    "pd.read_sql(sql, conn)\n"
   ]
  }
 ],
 "metadata": {
  "colab": {
   "collapsed_sections": [],
   "provenance": []
  },
  "kernelspec": {
   "display_name": "anaconda-2024.02-py310",
   "language": "python",
   "name": "conda-env-anaconda-2024.02-py310-py"
  },
  "language_info": {
   "codemirror_mode": {
    "name": "ipython",
    "version": 3
   },
   "file_extension": ".py",
   "mimetype": "text/x-python",
   "name": "python",
   "nbconvert_exporter": "python",
   "pygments_lexer": "ipython3",
   "version": "3.9.13"
  }
 },
 "nbformat": 4,
 "nbformat_minor": 4
}
