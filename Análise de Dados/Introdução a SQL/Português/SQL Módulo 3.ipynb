{
 "cells": [
  {
   "cell_type": "markdown",
   "metadata": {
    "id": "3jhf3FXGWAFe"
   },
   "source": [
    "# Filtrando dados com WHERE"
   ]
  },
  {
   "cell_type": "markdown",
   "metadata": {
    "id": "ZBTgwn9QV6ok"
   },
   "source": [
    "Nesta seção, aprenderemos como filtrar registros com base em uma condição. Isso é feito com a cláusula `WHERE` de uma consulta SQL.\n",
    "\n",
    "## Configuração\n",
    "Primeiro, faça a configuração. Baixe o arquivo de banco de dados SQLite `company_operations.db` e conecte-se a ele. Também inclua `pandas` para exibir os resultados da nossa consulta SQL como um `DataFrame`."
   ]
  },
  {
   "cell_type": "code",
   "execution_count": null,
   "metadata": {
    "executionInfo": {
     "elapsed": 1409,
     "status": "ok",
     "timestamp": 1666721671778,
     "user": {
      "displayName": "Daisy Wizda",
      "userId": "00043830702421473023"
     },
     "user_tz": 240
    },
    "id": "Il5XISDMVrRu"
   },
   "outputs": [],
   "source": [
    "import sqlite3\n",
    "import pandas as pd\n",
    "import urllib.request\n",
    "\n",
    "# baixe o banco de dados SQLite e conecte-se a ele\n",
    "urllib.request.urlretrieve(\"https://github.com/thomasnield/anaconda_intro_to_sql/blob/main/company_operations.db?raw=true\", \"company_operations.db\")\n",
    "conn = sqlite3.connect('company_operations.db')"
   ]
  },
  {
   "cell_type": "markdown",
   "metadata": {
    "id": "AZrXPDbXknRL"
   },
   "source": [
    "Vamos dar uma olhada na tabela `WEATHER_MONITOR` e extrair 10 registros dela. Observe que se trata de dados meteorológicos que capturam diversas medições, incluindo `RAIN` e `LIGHTNING`, bem como indicadores VERDADEIRO/FALSO como `LIGHTNING`, `HAIL` e `TORNADO`, que serão 1 e 0, respectivamente (1 para VERDADEIRO, 0 para FALSO)."
   ]
  },
  {
   "cell_type": "markdown",
   "metadata": {
    "id": "Vks1cS8n4ctM"
   },
   "source": [
    "## Filtrando Expressões Numéricas\n",
    "\n",
    "Primeiramente, abordaremos a filtragem de dados com operações numéricas, algumas das quais se estenderão a outros tipos de dados, como texto."
   ]
  },
  {
   "cell_type": "code",
   "execution_count": null,
   "metadata": {
    "colab": {
     "base_uri": "https://localhost:8080/",
     "height": 363
    },
    "executionInfo": {
     "elapsed": 475,
     "status": "ok",
     "timestamp": 1666721709944,
     "user": {
      "displayName": "Daisy Wizda",
      "userId": "00043830702421473023"
     },
     "user_tz": 240
    },
    "id": "Ub_gF4xw4zTA",
    "outputId": "725ba4e0-bb4b-4a3e-943f-78a8be7a4ea8"
   },
   "outputs": [],
   "source": [
    "sql = \"SELECT * FROM WEATHER_MONITOR LIMIT 10\"\n",
    "\n",
    "pd.read_sql(sql, conn)"
   ]
  },
  {
   "cell_type": "markdown",
   "metadata": {
    "id": "V_XRXbB88cHF"
   },
   "source": [
    "Digamos que queremos encontrar todos os registros com uma temperatura de exatamente 64°F. Podemos simplesmente usar um operador `=` em uma condição `WHERE` como esta:"
   ]
  },
  {
   "cell_type": "code",
   "execution_count": null,
   "metadata": {
    "colab": {
     "base_uri": "https://localhost:8080/",
     "height": 394
    },
    "executionInfo": {
     "elapsed": 142,
     "status": "ok",
     "timestamp": 1666721719654,
     "user": {
      "displayName": "Daisy Wizda",
      "userId": "00043830702421473023"
     },
     "user_tz": 240
    },
    "id": "VBuiKEIY8uBH",
    "outputId": "1efc31df-c665-4878-9cd2-11f02df60bc3"
   },
   "outputs": [],
   "source": [
    "sql = \"\"\"\n",
    "\n",
    "SELECT * FROM WEATHER_MONITOR \n",
    "WHERE TEMPERATURE = 64\n",
    "\n",
    "\"\"\"\n",
    "\n",
    "pd.read_sql(sql, conn)"
   ]
  },
  {
   "cell_type": "markdown",
   "metadata": {
    "id": "RMuYkxPr-2QN"
   },
   "source": [
    "Para obter todos os registros que não são de 64 graus, você pode usar o operador `!=` ou `<>` que expressa \"não é igual a\"."
   ]
  },
  {
   "cell_type": "code",
   "execution_count": null,
   "metadata": {
    "colab": {
     "base_uri": "https://localhost:8080/",
     "height": 424
    },
    "executionInfo": {
     "elapsed": 131,
     "status": "ok",
     "timestamp": 1666721727057,
     "user": {
      "displayName": "Daisy Wizda",
      "userId": "00043830702421473023"
     },
     "user_tz": 240
    },
    "id": "10bNzBA1-whO",
    "outputId": "60e8c7ca-c05d-461d-c779-249f284164f6"
   },
   "outputs": [],
   "source": [
    "sql = \"\"\"\n",
    "\n",
    "SELECT * FROM WEATHER_MONITOR \n",
    "WHERE TEMPERATURE != 64\n",
    "\n",
    "\"\"\"\n",
    "\n",
    "pd.read_sql(sql, conn)"
   ]
  },
  {
   "cell_type": "markdown",
   "metadata": {
    "id": "8Txn7x-2_I2h"
   },
   "source": [
    "Para obter todos os registros dentro de um intervalo de valores, você pode usar o operador `BETWEEN`. Para obter todos os registros com temperatura entre 10 e 20 graus, defina `BETWEEN` no campo `TEMPERATURE`."
   ]
  },
  {
   "cell_type": "code",
   "execution_count": null,
   "metadata": {
    "colab": {
     "base_uri": "https://localhost:8080/",
     "height": 332
    },
    "executionInfo": {
     "elapsed": 120,
     "status": "ok",
     "timestamp": 1666721735163,
     "user": {
      "displayName": "Daisy Wizda",
      "userId": "00043830702421473023"
     },
     "user_tz": 240
    },
    "id": "mgxpUYIL_I9M",
    "outputId": "2965e110-4466-4441-ab96-93d19b874134"
   },
   "outputs": [],
   "source": [
    "sql = \"\"\"\n",
    "\n",
    "SELECT * FROM WEATHER_MONITOR \n",
    "WHERE TEMPERATURE BETWEEN 10 AND 20\n",
    "\"\"\"\n",
    "\n",
    "pd.read_sql(sql, conn)"
   ]
  },
  {
   "cell_type": "markdown",
   "metadata": {
    "id": "TYfNDgbr_9o5"
   },
   "source": [
    "O `BETWEEN` é inclusivo, portanto, incluirá 10 e 20 graus. Se você quiser excluir os limites e retornar apenas registros exclusivamente entre 10 e 20 graus, use os operadores comparativos `>` e `<` com um `AND` para qualificar ambas as condições."
   ]
  },
  {
   "cell_type": "code",
   "execution_count": null,
   "metadata": {
    "colab": {
     "base_uri": "https://localhost:8080/",
     "height": 300
    },
    "executionInfo": {
     "elapsed": 127,
     "status": "ok",
     "timestamp": 1666721751398,
     "user": {
      "displayName": "Daisy Wizda",
      "userId": "00043830702421473023"
     },
     "user_tz": 240
    },
    "id": "8AuPxCah_9vH",
    "outputId": "7f78db96-e94a-434b-d118-ffce8fadfe45"
   },
   "outputs": [],
   "source": [
    "sql = \"\"\"\n",
    "\n",
    "SELECT * FROM WEATHER_MONITOR \n",
    "WHERE TEMPERATURE > 10 AND TEMPERATURE < 20\n",
    "\n",
    "\"\"\"\n",
    "\n",
    "pd.read_sql(sql, conn)"
   ]
  },
  {
   "cell_type": "markdown",
   "metadata": {
    "id": "zWY4GfGZ_98H"
   },
   "source": [
    "O `BETWEEN` inclusivo também pode ser realizado usando `>=` e `<=`.\n",
    "\n",
    "Digamos que queremos obter registros onde o `LOCATION_ID` é 5, 20 ou 35. Podemos fazer isso usando um `OR` que especifica que pelo menos uma condição deve ser verdadeira."
   ]
  },
  {
   "cell_type": "code",
   "execution_count": null,
   "metadata": {
    "colab": {
     "base_uri": "https://localhost:8080/",
     "height": 424
    },
    "executionInfo": {
     "elapsed": 122,
     "status": "ok",
     "timestamp": 1666721759490,
     "user": {
      "displayName": "Daisy Wizda",
      "userId": "00043830702421473023"
     },
     "user_tz": 240
    },
    "id": "_a8PWxlG_-C8",
    "outputId": "03c40b43-b772-46ec-89e9-5919fbd4708a"
   },
   "outputs": [],
   "source": [
    "sql = \"\"\"\n",
    "\n",
    "SELECT * FROM WEATHER_MONITOR \n",
    "WHERE LOCATION_ID = 5 \n",
    "OR LOCATION_ID = 20 \n",
    "OR LOCATION_ID = 35\n",
    "\n",
    "\"\"\"\n",
    "\n",
    "pd.read_sql(sql, conn)"
   ]
  },
  {
   "cell_type": "markdown",
   "metadata": {
    "id": "f19mjaR5_-JK"
   },
   "source": [
    "Isso demonstra que o operador `OR` permite que uma condição seja composta por múltiplas condições, onde pelo menos uma delas deve ser verdadeira. Mas, para este problema específico, podemos usar o operador `IN` para qualificar um conjunto de valores em um conjunto."
   ]
  },
  {
   "cell_type": "code",
   "execution_count": null,
   "metadata": {
    "colab": {
     "base_uri": "https://localhost:8080/",
     "height": 424
    },
    "executionInfo": {
     "elapsed": 330,
     "status": "ok",
     "timestamp": 1666721774761,
     "user": {
      "displayName": "Daisy Wizda",
      "userId": "00043830702421473023"
     },
     "user_tz": 240
    },
    "id": "NM2YLkxv_-PU",
    "outputId": "244d96a2-916b-4dcf-9ea1-ebdbe6d54140"
   },
   "outputs": [],
   "source": [
    "sql = \"\"\"\n",
    "\n",
    "SELECT * FROM WEATHER_MONITOR \n",
    "WHERE LOCATION_ID IN  (5, 20, 35)\n",
    "\n",
    "\"\"\"\n",
    "\n",
    "pd.read_sql(sql, conn)"
   ]
  },
  {
   "cell_type": "markdown",
   "metadata": {
    "id": "JkL5sKSJ_-VC"
   },
   "source": [
    "Você também pode negar uma condição precedendo-a com a palavra-chave `NOT`. Para obter todos os registros em que `LOCATION_ID` não seja 5, 20 ou 35, execute esta consulta:"
   ]
  },
  {
   "cell_type": "code",
   "execution_count": null,
   "metadata": {
    "colab": {
     "base_uri": "https://localhost:8080/",
     "height": 424
    },
    "executionInfo": {
     "elapsed": 120,
     "status": "ok",
     "timestamp": 1666721782809,
     "user": {
      "displayName": "Daisy Wizda",
      "userId": "00043830702421473023"
     },
     "user_tz": 240
    },
    "id": "OlgvlyCG_-bS",
    "outputId": "91d3d9b7-5235-475a-cb6f-3993c0374fe4"
   },
   "outputs": [],
   "source": [
    "sql = \"\"\"\n",
    "\n",
    "SELECT * FROM WEATHER_MONITOR \n",
    "WHERE LOCATION_ID NOT IN  (5, 20, 35)\n",
    "\n",
    "\"\"\"\n",
    "\n",
    "pd.read_sql(sql, conn)"
   ]
  },
  {
   "cell_type": "markdown",
   "metadata": {
    "id": "VcfdjMEMgxzn"
   },
   "source": [
    "## Filtrando Valores Booleanos\n",
    "\n",
    "Ao encontrar campos binários (1 = VERDADEIRO, 0 = FALSO), também chamados de booleanos, você simplesmente qualifica da mesma forma que faria com outros números. Aqui, encontramos registros onde um tornado foi avistado (1)."
   ]
  },
  {
   "cell_type": "code",
   "execution_count": null,
   "metadata": {
    "colab": {
     "base_uri": "https://localhost:8080/",
     "height": 1000
    },
    "executionInfo": {
     "elapsed": 142,
     "status": "ok",
     "timestamp": 1666721795236,
     "user": {
      "displayName": "Daisy Wizda",
      "userId": "00043830702421473023"
     },
     "user_tz": 240
    },
    "id": "Jga4saEyg5qw",
    "outputId": "a0ca11ad-059d-4ec1-aec7-3404420f0626"
   },
   "outputs": [],
   "source": [
    "sql = \"\"\"\n",
    "\n",
    "SELECT * FROM WEATHER_MONITOR \n",
    "WHERE TORNADO = 1\n",
    "\n",
    "\"\"\"\n",
    "\n",
    "pd.read_sql(sql, conn)"
   ]
  },
  {
   "cell_type": "markdown",
   "metadata": {
    "id": "apGdtb3whufv"
   },
   "source": [
    "Você também pode qualificar registros onde um tornado não foi avistado (0)."
   ]
  },
  {
   "cell_type": "code",
   "execution_count": null,
   "metadata": {
    "colab": {
     "base_uri": "https://localhost:8080/",
     "height": 424
    },
    "executionInfo": {
     "elapsed": 120,
     "status": "ok",
     "timestamp": 1666721805858,
     "user": {
      "displayName": "Daisy Wizda",
      "userId": "00043830702421473023"
     },
     "user_tz": 240
    },
    "id": "RCBKDS3mhupq",
    "outputId": "6710be7c-6fc0-47b1-abfb-09398fac4a91"
   },
   "outputs": [],
   "source": [
    "sql = \"\"\"\n",
    "\n",
    "SELECT * FROM WEATHER_MONITOR \n",
    "WHERE TORNADO = 0\n",
    "\n",
    "\"\"\"\n",
    "\n",
    "pd.read_sql(sql, conn)"
   ]
  },
  {
   "cell_type": "markdown",
   "metadata": {
    "id": "TZxDOmBkiASz"
   },
   "source": [
    "Tenha cuidado ao misturar as operações `E` e `OU`, pois isso pode desorganizar as condições, confundindo pessoas e máquinas. Por exemplo, suponha que quiséssemos encontrar registros onde houvesse neve ou granizo. Para que haja granizo, é preciso que haja chuva e que a temperatura seja menor ou igual a 0°C. Agora, estude a consulta abaixo e pergunte a si mesmo quais condições pertencem ao `E` e ao `OU`?"
   ]
  },
  {
   "cell_type": "code",
   "execution_count": null,
   "metadata": {
    "colab": {
     "base_uri": "https://localhost:8080/",
     "height": 424
    },
    "executionInfo": {
     "elapsed": 252,
     "status": "ok",
     "timestamp": 1666721823622,
     "user": {
      "displayName": "Daisy Wizda",
      "userId": "00043830702421473023"
     },
     "user_tz": 240
    },
    "id": "UXEVzfuYiAbJ",
    "outputId": "fa1875e7-cb24-4431-8135-5568db795b67"
   },
   "outputs": [],
   "source": [
    "sql = \"\"\"\n",
    "\n",
    "SELECT * FROM WEATHER_MONITOR \n",
    "WHERE SNOW > 0 OR RAIN > 0 AND TEMPERATURE <= 32\n",
    "\n",
    "\"\"\"\n",
    "\n",
    "pd.read_sql(sql, conn)"
   ]
  },
  {
   "cell_type": "markdown",
   "metadata": {
    "id": "eLR0kpeNjLZl"
   },
   "source": [
    "Tecnicamente, isso funciona, embora misturar `E` e `OU` dessa forma possa gerar confusão e até mesmo erros em consultas mais complexas. Por isso, é uma boa ideia forçar uma ordem de operações com parênteses, para que as condições sejam agrupadas adequadamente e avaliadas na ordem pretendida. Isso deve ser feito mesmo que seja apenas para fins de clareza. Abaixo, organizamos a consulta para que a condição de granizo seja agrupada em uma única condição."
   ]
  },
  {
   "cell_type": "code",
   "execution_count": null,
   "metadata": {
    "colab": {
     "base_uri": "https://localhost:8080/",
     "height": 424
    },
    "executionInfo": {
     "elapsed": 105,
     "status": "ok",
     "timestamp": 1666721846542,
     "user": {
      "displayName": "Daisy Wizda",
      "userId": "00043830702421473023"
     },
     "user_tz": 240
    },
    "id": "wjOt-HWEjLiG",
    "outputId": "573b1801-fa64-4db7-a9ac-7a710e006d19"
   },
   "outputs": [],
   "source": [
    "sql = \"\"\"\n",
    "\n",
    "SELECT * FROM WEATHER_MONITOR \n",
    "WHERE SNOW > 0 OR (RAIN > 0 AND TEMPERATURE <= 32)\n",
    "\n",
    "\"\"\"\n",
    "\n",
    "pd.read_sql(sql, conn)"
   ]
  },
  {
   "cell_type": "markdown",
   "metadata": {
    "id": "dmAE9nv7_-hW"
   },
   "source": [
    "## Filtrando Expressões de Texto\n",
    "\n",
    "Digamos que você queira consultar um registro com um dado `REPORT_CODE`. Como esse campo é um texto e não um número, você precisa especificar o código de relatório `'YJA6G3I'` entre aspas simples. Isso ocorre porque valores numéricos não podem ser nomes de colunas ou tabelas, portanto, não precisamos usar aspas em torno de valores numéricos literais. Mas precisamos usar aspas em torno de valores de texto para que o mecanismo SQL não se confunda ao procurar esse valor como um nome de coluna ou tabela."
   ]
  },
  {
   "cell_type": "code",
   "execution_count": null,
   "metadata": {
    "colab": {
     "base_uri": "https://localhost:8080/",
     "height": 81
    },
    "executionInfo": {
     "elapsed": 138,
     "status": "ok",
     "timestamp": 1666721877036,
     "user": {
      "displayName": "Daisy Wizda",
      "userId": "00043830702421473023"
     },
     "user_tz": 240
    },
    "id": "C1ygXZYC_-nA",
    "outputId": "b47e2e43-28e1-4504-d06c-d442eb14a722"
   },
   "outputs": [],
   "source": [
    "sql = \"\"\"\n",
    "\n",
    "SELECT * FROM WEATHER_MONITOR\n",
    "WHERE REPORT_CODE = 'YJA6G3I'\n",
    "\n",
    "\"\"\"\n",
    "\n",
    "pd.read_sql(sql, conn)\n"
   ]
  },
  {
   "cell_type": "markdown",
   "metadata": {
    "id": "9gRrJuGR_-tC"
   },
   "source": [
    "Esta regra se aplica a outros operadores que aprendemos anteriormente, incluindo o uso do operador `IN`. Abaixo, veremos três códigos de relatório."
   ]
  },
  {
   "cell_type": "code",
   "execution_count": null,
   "metadata": {
    "colab": {
     "base_uri": "https://localhost:8080/",
     "height": 143
    },
    "executionInfo": {
     "elapsed": 110,
     "status": "ok",
     "timestamp": 1666721883371,
     "user": {
      "displayName": "Daisy Wizda",
      "userId": "00043830702421473023"
     },
     "user_tz": 240
    },
    "id": "mnGc_aJI_-zA",
    "outputId": "7efc1903-7f16-4435-fdac-1906c8bf1d34"
   },
   "outputs": [],
   "source": [
    "sql = \"\"\"\n",
    "\n",
    "SELECT * FROM WEATHER_MONITOR\n",
    "WHERE REPORT_CODE  IN ('YJA6G3I', 'M511XRH', 'S4ED81Y')\n",
    "\n",
    "\"\"\"\n",
    "\n",
    "pd.read_sql(sql, conn)\n"
   ]
  },
  {
   "cell_type": "markdown",
   "metadata": {
    "id": "Dy0NnPo7bKLL"
   },
   "source": [
    "Alguns operadores são específicos para texto, como a concatenação `||` ou `LIKE`, que nos permite associar texto a curingas. Aqui está uma operação `LIKE` que busca códigos de relatório que tenham um `Y` na primeira posição e um `D` na terceira. O `_` na string de padrão é um curinga para um caractere, e o `%` é um curinga para qualquer número de caracteres."
   ]
  },
  {
   "cell_type": "code",
   "execution_count": null,
   "metadata": {
    "colab": {
     "base_uri": "https://localhost:8080/",
     "height": 143
    },
    "executionInfo": {
     "elapsed": 135,
     "status": "ok",
     "timestamp": 1666721899095,
     "user": {
      "displayName": "Daisy Wizda",
      "userId": "00043830702421473023"
     },
     "user_tz": 240
    },
    "id": "CNNo7VjxbMt4",
    "outputId": "662a5dec-24de-40c3-937e-b273f1f42b76"
   },
   "outputs": [],
   "source": [
    "sql = \"\"\"\n",
    "\n",
    "SELECT * FROM WEATHER_MONITOR\n",
    "WHERE REPORT_CODE LIKE 'Y_D%'\n",
    "\n",
    "\"\"\"\n",
    "\n",
    "pd.read_sql(sql, conn)\n"
   ]
  },
  {
   "cell_type": "markdown",
   "metadata": {
    "id": "1kZDR6Q5b3qO"
   },
   "source": [
    "Existem também funções específicas para trabalhar com strings, como `length()` e `substr()`. Aqui, usamos uma operação de substring para extrair os 5 caracteres do meio do código do relatório de 7 caracteres. O primeiro argumento é a string, o segundo é o caractere inicial e o terceiro é o número de caracteres a serem extraídos a partir dessa posição."
   ]
  },
  {
   "cell_type": "code",
   "execution_count": null,
   "metadata": {
    "colab": {
     "base_uri": "https://localhost:8080/",
     "height": 424
    },
    "executionInfo": {
     "elapsed": 108,
     "status": "ok",
     "timestamp": 1666721914599,
     "user": {
      "displayName": "Daisy Wizda",
      "userId": "00043830702421473023"
     },
     "user_tz": 240
    },
    "id": "RoUixcGQb3xH",
    "outputId": "21311511-11a6-47f8-8f4e-b3510dac04a9"
   },
   "outputs": [],
   "source": [
    "sql = \"\"\"\n",
    "\n",
    "SELECT REPORT_CODE, substr(REPORT_CODE, 2, 5) FROM WEATHER_MONITOR \n",
    "\n",
    "\"\"\"\n",
    "\n",
    "pd.read_sql(sql, conn)\n"
   ]
  },
  {
   "cell_type": "markdown",
   "metadata": {
    "id": "ao82n7KDlyej"
   },
   "source": [
    "Você pode ver todas as funções que o SQLite oferece [em sua documentação](https://www.sqlite.org/lang_corefunc.html)."
   ]
  },
  {
   "cell_type": "markdown",
   "metadata": {
    "id": "gx6Vs_PXcisq"
   },
   "source": [
    "## Filtrando Datas e Horas\n",
    "\n",
    "Datas e horas podem ser um pouco complicadas em SQL, pois cada plataforma as trata de forma diferente. Normalmente, você deseja estabelecer o fuso horário em seus dados de data e hora, armazenando datas como [Horário Médio de Greenwich (GMT)](https://en.wikipedia.org/wiki/Greenwich_Mean_Time) ou [Tempo Universal Coordenado (UTC)](https://en.wikipedia.org/wiki/Coordinated_Universal_Time). Assim, você pode rastrear em qual fuso horário os dados foram registrados e ajustá-los para o horário local de acordo.\n",
    "\n",
    "Para simplificar, vamos trabalhar apenas com a coluna `REPORT_DATE`. Se quisermos obter todos os registros em que `REPORT_DATE` seja posterior a `2021-05-15`, posso fornecer essa data em uma string no formato `aaaa-MM-dd`. Este é o [padrão ISO 8601](https://en.wikipedia.org/wiki/ISO_8601) para formatação de datas. O SQLite reconhecerá isso como uma data em vez de uma string simples."
   ]
  },
  {
   "cell_type": "code",
   "execution_count": null,
   "metadata": {
    "colab": {
     "base_uri": "https://localhost:8080/",
     "height": 424
    },
    "executionInfo": {
     "elapsed": 125,
     "status": "ok",
     "timestamp": 1666721961304,
     "user": {
      "displayName": "Daisy Wizda",
      "userId": "00043830702421473023"
     },
     "user_tz": 240
    },
    "id": "QRHho37teeDH",
    "outputId": "9a60da5c-8a9e-4456-ab2b-abd3bb8c7d63"
   },
   "outputs": [],
   "source": [
    "sql = \"\"\"\n",
    "\n",
    "SELECT * FROM WEATHER_MONITOR \n",
    "WHERE REPORT_DATE > '2021-05-15' \n",
    "\n",
    "\"\"\"\n",
    "\n",
    "pd.read_sql(sql, conn)\n"
   ]
  },
  {
   "cell_type": "markdown",
   "metadata": {
    "id": "D8Sva-SKg4q_"
   },
   "source": [
    "Cada plataforma SQL provavelmente terá uma maneira diferente de extrair o mês, o dia ou outros componentes de uma data ou hora. O SQLite também possui uma maneira específica de trabalhar com datas e horas. Se quisermos filtrar por registros de 2021, podemos usar `strftime()` para extrair o ano usando uma [sintaxe de formatação especial](https://www.sqlite.org/lang_datefunc.html), onde `%Y` extrairá o componente do ano."
   ]
  },
  {
   "cell_type": "code",
   "execution_count": null,
   "metadata": {
    "colab": {
     "base_uri": "https://localhost:8080/",
     "height": 424
    },
    "executionInfo": {
     "elapsed": 139,
     "status": "ok",
     "timestamp": 1666721979834,
     "user": {
      "displayName": "Daisy Wizda",
      "userId": "00043830702421473023"
     },
     "user_tz": 240
    },
    "id": "WQ_hvdOCg4wv",
    "outputId": "c8ebeb5d-a2f5-49d0-88f0-852595482c1a"
   },
   "outputs": [],
   "source": [
    "sql = \"\"\"\n",
    "\n",
    "SELECT * FROM WEATHER_MONITOR \n",
    "WHERE strftime('%Y', REPORT_DATE) = '2021'\n",
    "\n",
    "\"\"\"\n",
    "\n",
    "pd.read_sql(sql, conn)\n"
   ]
  },
  {
   "cell_type": "markdown",
   "metadata": {
    "id": "Sq4zCCElmC8z"
   },
   "source": [
    "Você pode converter o ano de uma string para um inteiro usando o operador `CAST`."
   ]
  },
  {
   "cell_type": "code",
   "execution_count": null,
   "metadata": {
    "colab": {
     "base_uri": "https://localhost:8080/",
     "height": 424
    },
    "executionInfo": {
     "elapsed": 166,
     "status": "ok",
     "timestamp": 1666722004576,
     "user": {
      "displayName": "Daisy Wizda",
      "userId": "00043830702421473023"
     },
     "user_tz": 240
    },
    "id": "jjIXl-fAmDEK",
    "outputId": "f80728ed-7783-4a2d-aebf-72db4242fd43"
   },
   "outputs": [],
   "source": [
    "sql = \"\"\"\n",
    "\n",
    "SELECT * FROM WEATHER_MONITOR \n",
    "WHERE CAST(strftime('%Y', REPORT_DATE) AS INTEGER) = 2021\n",
    "\n",
    "\"\"\"\n",
    "\n",
    "pd.read_sql(sql, conn)\n"
   ]
  },
  {
   "cell_type": "markdown",
   "metadata": {
    "id": "gSGc4pCSg42M"
   },
   "source": [
    "Você pode obter a data de hoje usando `DATE('now')` e usar isso para qualificar consultas para a data de hoje."
   ]
  },
  {
   "cell_type": "code",
   "execution_count": null,
   "metadata": {
    "colab": {
     "base_uri": "https://localhost:8080/",
     "height": 81
    },
    "executionInfo": {
     "elapsed": 153,
     "status": "ok",
     "timestamp": 1666722010303,
     "user": {
      "displayName": "Daisy Wizda",
      "userId": "00043830702421473023"
     },
     "user_tz": 240
    },
    "id": "5WmARTQQg478",
    "outputId": "535eaa04-8336-4755-e467-6f408321424f"
   },
   "outputs": [],
   "source": [
    "sql = \"\"\"\n",
    "SELECT DATE('now')\n",
    "\"\"\"\n",
    "\n",
    "pd.read_sql(sql, conn)\n"
   ]
  },
  {
   "cell_type": "markdown",
   "metadata": {
    "id": "6dww-_G_g5BT"
   },
   "source": [
    "Você também pode obter a hora UTC atual usando a função `TIME()`. Observe o formato, que é compatível com o padrão ISO 8601."
   ]
  },
  {
   "cell_type": "code",
   "execution_count": null,
   "metadata": {
    "colab": {
     "base_uri": "https://localhost:8080/",
     "height": 81
    },
    "executionInfo": {
     "elapsed": 137,
     "status": "ok",
     "timestamp": 1666722015411,
     "user": {
      "displayName": "Daisy Wizda",
      "userId": "00043830702421473023"
     },
     "user_tz": 240
    },
    "id": "Z8PsUzhog5Gj",
    "outputId": "7a4f2308-7974-4b4f-e9f7-4979cd35c292"
   },
   "outputs": [],
   "source": [
    "sql = \"\"\"\n",
    "SELECT TIME('now')\n",
    "\"\"\"\n",
    "\n",
    "pd.read_sql(sql, conn)\n"
   ]
  },
  {
   "cell_type": "markdown",
   "metadata": {
    "id": "uPDnQjmQmh7f"
   },
   "source": [
    "Você também pode trabalhar com data e hora completas, além de adicionar e subtrair diferentes operações de calendário. Isso captura a data de ontem."
   ]
  },
  {
   "cell_type": "code",
   "execution_count": null,
   "metadata": {
    "colab": {
     "base_uri": "https://localhost:8080/",
     "height": 81
    },
    "executionInfo": {
     "elapsed": 126,
     "status": "ok",
     "timestamp": 1666722021706,
     "user": {
      "displayName": "Daisy Wizda",
      "userId": "00043830702421473023"
     },
     "user_tz": 240
    },
    "id": "iyYiTmWlm9Yv",
    "outputId": "a0edeca8-76e8-4929-a0d9-6e3ce491c070"
   },
   "outputs": [],
   "source": [
    "sql = \"\"\"\n",
    "SELECT DATETIME('now', '-1 day')\n",
    "\"\"\"\n",
    "\n",
    "pd.read_sql(sql, conn)\n"
   ]
  },
  {
   "cell_type": "markdown",
   "metadata": {
    "id": "Jx6QO2HinFmf"
   },
   "source": [
    "Seguindo o formato ISO 6201, você pode transformar qualquer sequência de caracteres formatada corretamente em `DATA`, `HORA` ou `DATAHORA` e executar qualquer lógica comparativa ou de calendário que desejar."
   ]
  },
  {
   "cell_type": "code",
   "execution_count": null,
   "metadata": {
    "colab": {
     "base_uri": "https://localhost:8080/",
     "height": 81
    },
    "executionInfo": {
     "elapsed": 129,
     "status": "ok",
     "timestamp": 1666722028852,
     "user": {
      "displayName": "Daisy Wizda",
      "userId": "00043830702421473023"
     },
     "user_tz": 240
    },
    "id": "vTe_-_OlnFv9",
    "outputId": "6ce77c28-8a01-4c15-b130-35b13c78b7f2"
   },
   "outputs": [],
   "source": [
    "sql = \"\"\"\n",
    "SELECT DATETIME('2022-10-19 18:58:12') AS MY_DATE_TIME\n",
    "\"\"\"\n",
    "\n",
    "pd.read_sql(sql, conn)\n"
   ]
  },
  {
   "cell_type": "markdown",
   "metadata": {
    "id": "qPOWaLeML73y"
   },
   "source": [
    "# EXERCÍCIO\n",
    "\n",
    "Complete a consulta abaixo para encontrar todos os registros onde houve um tornado e granizo, OU a chuva foi superior a 5 polegadas e a temperatura foi de pelo menos 70°F."
   ]
  },
  {
   "cell_type": "code",
   "execution_count": null,
   "metadata": {
    "colab": {
     "base_uri": "https://localhost:8080/",
     "height": 496
    },
    "executionInfo": {
     "elapsed": 362,
     "status": "error",
     "timestamp": 1666722048666,
     "user": {
      "displayName": "Daisy Wizda",
      "userId": "00043830702421473023"
     },
     "user_tz": 240
    },
    "id": "DYQ73njwL7-y",
    "outputId": "edfc5cc0-02e9-47cc-a270-f033e941746f"
   },
   "outputs": [],
   "source": [
    "sql = \"\"\"\n",
    "SELECT * FROM WEATHER_MONITOR\n",
    "WHERE ?\n",
    "\"\"\"\n",
    "\n",
    "pd.read_sql(sql, conn)"
   ]
  },
  {
   "cell_type": "markdown",
   "metadata": {
    "id": "lqgZA1NpL4aL"
   },
   "source": [
    "### RESPOSTA A BAIXO\n",
    "\n",
    "|<br>\n",
    "|<br>\n",
    "|<br>\n",
    "|<br>\n",
    "|<br>\n",
    "|<br>\n",
    "|<br>\n",
    "|<br>\n",
    "|<br>\n",
    "|<br>\n",
    "|<br>\n",
    "|<br>\n",
    "|<br>\n",
    "|<br>\n",
    "|<br>\n",
    "|<br>\n",
    "|<br>\n",
    "|<br>\n",
    "|<br>\n",
    "|<br>\n",
    "|<br>\n",
    "|<br>\n",
    "|<br>\n",
    "v "
   ]
  },
  {
   "cell_type": "code",
   "execution_count": null,
   "metadata": {
    "colab": {
     "base_uri": "https://localhost:8080/",
     "height": 1000
    },
    "executionInfo": {
     "elapsed": 116,
     "status": "ok",
     "timestamp": 1666722063454,
     "user": {
      "displayName": "Daisy Wizda",
      "userId": "00043830702421473023"
     },
     "user_tz": 240
    },
    "id": "mmCfSj7bM1Kd",
    "outputId": "bcc044f3-d3b8-454e-ffc1-4e3b7052eca1"
   },
   "outputs": [],
   "source": [
    "sql = \"\"\"\n",
    "SELECT * FROM WEATHER_MONITOR\n",
    "WHERE (TORNADO = 1 AND HAIL = 1) OR (RAIN > 5 AND TEMPERATURE >= 70)\n",
    "\"\"\"\n",
    "\n",
    "pd.read_sql(sql, conn)"
   ]
  }
 ],
 "metadata": {
  "colab": {
   "collapsed_sections": [],
   "provenance": []
  },
  "kernelspec": {
   "display_name": "anaconda-2024.02-py310",
   "language": "python",
   "name": "conda-env-anaconda-2024.02-py310-py"
  },
  "language_info": {
   "codemirror_mode": {
    "name": "ipython",
    "version": 3
   },
   "file_extension": ".py",
   "mimetype": "text/x-python",
   "name": "python",
   "nbconvert_exporter": "python",
   "pygments_lexer": "ipython3",
   "version": "3.9.13"
  }
 },
 "nbformat": 4,
 "nbformat_minor": 4
}
