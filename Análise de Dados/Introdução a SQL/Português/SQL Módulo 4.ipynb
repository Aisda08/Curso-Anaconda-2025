{
 "cells": [
  {
   "cell_type": "markdown",
   "metadata": {
    "id": "O72ro8VFKrdi"
   },
   "source": [
    "# Agregação e classificação"
   ]
  },
  {
   "cell_type": "markdown",
   "metadata": {
    "id": "PnE_YRGtKsyV"
   },
   "source": [
    "Nesta seção, aprenderemos como resumir registros usando os operadores SQL `GROUP BY` e `ORDER BY`. Ao longo do caminho, aprenderemos funções de agregação como `SUM`, `COUNT`, `MIN`, `MAX` e `AVG`."
   ]
  },
  {
   "cell_type": "markdown",
   "metadata": {
    "id": "qL6GowWlLzj0"
   },
   "source": [
    "# Configuração"
   ]
  },
  {
   "cell_type": "markdown",
   "metadata": {
    "id": "BPK7rsdlLQND"
   },
   "source": [
    "Baixe o banco de dados SQLite e inicialize uma conexão SQLite3."
   ]
  },
  {
   "cell_type": "code",
   "execution_count": null,
   "metadata": {
    "executionInfo": {
     "elapsed": 8589,
     "status": "ok",
     "timestamp": 1666722580347,
     "user": {
      "displayName": "Daisy Wizda",
      "userId": "00043830702421473023"
     },
     "user_tz": 240
    },
    "id": "LZ4CE8fiKnyp"
   },
   "outputs": [],
   "source": [
    "import sqlite3\n",
    "import pandas as pd\n",
    "import urllib.request\n",
    "\n",
    "# baixe o banco de dados SQLite e conecte-se a ele\n",
    "urllib.request.urlretrieve(\"https://github.com/thomasnield/anaconda_intro_to_sql/blob/main/company_operations.db?raw=true\", \"company_operations.db\")\n",
    "conn = sqlite3.connect('company_operations.db')"
   ]
  },
  {
   "cell_type": "markdown",
   "metadata": {
    "id": "iXmzDeaqLZFD"
   },
   "source": [
    "Continuaremos trabalhando com a tabela `WEATHER_MONITOR` e resumiremos os registros usando funções de agregação."
   ]
  },
  {
   "cell_type": "markdown",
   "metadata": {
    "id": "kSYT0O_VLoiG"
   },
   "source": [
    "# Funções de agregação e GROUP BY"
   ]
  },
  {
   "cell_type": "markdown",
   "metadata": {
    "id": "_o2YjKcGLvD2"
   },
   "source": [
    "Vamos dar uma olhada em três campos na tabela `WEATHER_MONITOR`."
   ]
  },
  {
   "cell_type": "code",
   "execution_count": null,
   "metadata": {
    "colab": {
     "base_uri": "https://localhost:8080/",
     "height": 424
    },
    "executionInfo": {
     "elapsed": 479,
     "status": "ok",
     "timestamp": 1666722830064,
     "user": {
      "displayName": "Daisy Wizda",
      "userId": "00043830702421473023"
     },
     "user_tz": 240
    },
    "id": "-xRg3z5FLutd",
    "outputId": "898d5f75-035c-4556-ecdf-69cb8298c3ac"
   },
   "outputs": [],
   "source": [
    "sql = \"\"\"\n",
    "\n",
    "SELECT REPORT_CODE, REPORT_DATE, RAIN\n",
    "\n",
    "FROM WEATHER_MONITOR \n",
    "\n",
    "\"\"\"\n",
    "\n",
    "pd.read_sql(sql, conn)"
   ]
  },
  {
   "cell_type": "markdown",
   "metadata": {
    "id": "Q0owFGA0MKTd"
   },
   "source": [
    "Digamos que queremos encontrar o total de `RAIN` em toda a tabela. Se removermos os campos `REPORT_CODE` e `REPORT_DATE` e colocarmos `SUM()` em torno de `RAIN`, observe o que acontece."
   ]
  },
  {
   "cell_type": "code",
   "execution_count": null,
   "metadata": {
    "colab": {
     "base_uri": "https://localhost:8080/",
     "height": 81
    },
    "executionInfo": {
     "elapsed": 234,
     "status": "ok",
     "timestamp": 1666722838099,
     "user": {
      "displayName": "Daisy Wizda",
      "userId": "00043830702421473023"
     },
     "user_tz": 240
    },
    "id": "AJDBbBOdMX1d",
    "outputId": "0d42c1b5-922c-4321-933e-113933e68332"
   },
   "outputs": [],
   "source": [
    "sql = \"\"\"\n",
    "\n",
    "SELECT SUM(RAIN) AS TOTAL_RAIN\n",
    "\n",
    "FROM WEATHER_MONITOR \n",
    "\n",
    "\"\"\"\n",
    "\n",
    "pd.read_sql(sql, conn)"
   ]
  },
  {
   "cell_type": "markdown",
   "metadata": {
    "id": "i33Yl3biMb8-"
   },
   "source": [
    "Portanto, temos 1720,78 polegadas de chuva total em toda a tabela. Vamos dividir `TOTAL_RAIN` por `LOCATION_ID`. Podemos fazer isso selecionando `LOCATION_ID` e executando `GROUP BY` nele."
   ]
  },
  {
   "cell_type": "code",
   "execution_count": null,
   "metadata": {
    "colab": {
     "base_uri": "https://localhost:8080/",
     "height": 1000
    },
    "executionInfo": {
     "elapsed": 230,
     "status": "ok",
     "timestamp": 1666722857553,
     "user": {
      "displayName": "Daisy Wizda",
      "userId": "00043830702421473023"
     },
     "user_tz": 240
    },
    "id": "keh3rIofMkRx",
    "outputId": "653aa184-e26d-4877-9650-59fa871ae07f"
   },
   "outputs": [],
   "source": [
    "sql = \"\"\"\n",
    "\n",
    "SELECT LOCATION_ID, SUM(RAIN) AS TOTAL_RAIN\n",
    "\n",
    "FROM WEATHER_MONITOR \n",
    "\n",
    "GROUP BY LOCATION_ID\n",
    "\n",
    "\"\"\"\n",
    "\n",
    "pd.read_sql(sql, conn)"
   ]
  },
  {
   "cell_type": "markdown",
   "metadata": {
    "id": "Pg15sV8qM3oL"
   },
   "source": [
    "Observe como agora temos as somas divididas por `LOCATION_ID`, ou seja, somamos `TOTAL_CHUVA` por `LOCATION_ID`. Se quiséssemos obter o total por `LOCATION_ID` e `YEAR`, poderíamos dividi-lo por esses dois campos/expressões."
   ]
  },
  {
   "cell_type": "code",
   "execution_count": null,
   "metadata": {
    "colab": {
     "base_uri": "https://localhost:8080/",
     "height": 424
    },
    "executionInfo": {
     "elapsed": 247,
     "status": "ok",
     "timestamp": 1666722883153,
     "user": {
      "displayName": "Daisy Wizda",
      "userId": "00043830702421473023"
     },
     "user_tz": 240
    },
    "id": "ac-NyybyNT7P",
    "outputId": "1215df85-0322-433c-c73f-bc131dd716f6"
   },
   "outputs": [],
   "source": [
    "sql = \"\"\"\n",
    "\n",
    "SELECT \n",
    "LOCATION_ID, \n",
    "strftime('%Y', REPORT_DATE) AS YEAR, \n",
    "SUM(RAIN) AS TOTAL_RAIN\n",
    "\n",
    "FROM WEATHER_MONITOR \n",
    "\n",
    "GROUP BY LOCATION_ID, YEAR\n",
    "\n",
    "\"\"\"\n",
    "\n",
    "pd.read_sql(sql, conn)"
   ]
  },
  {
   "cell_type": "markdown",
   "metadata": {
    "id": "410E12uENu1b"
   },
   "source": [
    "Observe também que podemos usar `GROUP BY` com índice ordinal para cada coluna/expressão selecionada, em vez do nome da coluna. Observe que isso usa indexação de base 1."
   ]
  },
  {
   "cell_type": "code",
   "execution_count": null,
   "metadata": {
    "colab": {
     "base_uri": "https://localhost:8080/",
     "height": 424
    },
    "executionInfo": {
     "elapsed": 221,
     "status": "ok",
     "timestamp": 1666722892822,
     "user": {
      "displayName": "Daisy Wizda",
      "userId": "00043830702421473023"
     },
     "user_tz": 240
    },
    "id": "X4wlh4bwNu7U",
    "outputId": "630048c1-6ff0-47fb-9d99-03b74852d7b8"
   },
   "outputs": [],
   "source": [
    "sql = \"\"\"\n",
    "\n",
    "SELECT \n",
    "LOCATION_ID, \n",
    "strftime('%Y', REPORT_DATE) AS YEAR, \n",
    "SUM(RAIN) AS TOTAL_RAIN\n",
    "\n",
    "FROM WEATHER_MONITOR \n",
    "\n",
    "GROUP BY 1, 2\n",
    "\n",
    "\"\"\"\n",
    "\n",
    "pd.read_sql(sql, conn)"
   ]
  },
  {
   "cell_type": "markdown",
   "metadata": {
    "id": "n51nTtdUOG4H"
   },
   "source": [
    "Existem outras funções de agregação além de `SUM()`. `MIN()` encontra o valor mínimo para uma determinada coluna, enquanto `MAX()` encontra o máximo. `AVG()` calcula a média da coluna, enquanto `COUNT()` conta o número de valores não nulos para essa coluna. Aqui estão todas as cinco funções de agregação para criar um relatório resumindo estatísticas descritivas de chuva por `LOCATION_ID` e `YEAR`."
   ]
  },
  {
   "cell_type": "code",
   "execution_count": null,
   "metadata": {
    "colab": {
     "base_uri": "https://localhost:8080/",
     "height": 424
    },
    "executionInfo": {
     "elapsed": 242,
     "status": "ok",
     "timestamp": 1666722924271,
     "user": {
      "displayName": "Daisy Wizda",
      "userId": "00043830702421473023"
     },
     "user_tz": 240
    },
    "id": "1g6tUAHxOG_5",
    "outputId": "8b6c7137-aabb-4965-b048-40281f273017"
   },
   "outputs": [],
   "source": [
    "sql = \"\"\"\n",
    "\n",
    "SELECT \n",
    "LOCATION_ID, \n",
    "strftime('%Y', REPORT_DATE) AS YEAR, \n",
    "\n",
    "SUM(RAIN) AS TOTAL_RAIN, \n",
    "MIN(RAIN) AS MIN_RAIN,\n",
    "MAX(RAIN) AS MAX_RAIN,\n",
    "AVG(RAIN) AS AVG_RAIN, \n",
    "COUNT(RAIN) AS COUNT_RAIN\n",
    "\n",
    "FROM WEATHER_MONITOR \n",
    "\n",
    "GROUP BY LOCATION_ID, YEAR\n",
    "\n",
    "\"\"\"\n",
    "\n",
    "pd.read_sql(sql, conn)"
   ]
  },
  {
   "cell_type": "markdown",
   "metadata": {
    "id": "jpk8oID6PCWK"
   },
   "source": [
    "Também podemos usar um filtro `WHERE` para permitir que apenas determinados registros sejam qualificados em nossas agregações. Abaixo, calculamos o total de `RAIN` por `YEAR` e `LOCATION_ID`, mas apenas onde um `TORNADO` estava presente."
   ]
  },
  {
   "cell_type": "code",
   "execution_count": null,
   "metadata": {
    "colab": {
     "base_uri": "https://localhost:8080/",
     "height": 1000
    },
    "executionInfo": {
     "elapsed": 237,
     "status": "ok",
     "timestamp": 1666722937457,
     "user": {
      "displayName": "Daisy Wizda",
      "userId": "00043830702421473023"
     },
     "user_tz": 240
    },
    "id": "qFjWt4cXPCcS",
    "outputId": "858f020c-7c66-4d22-a485-997832ce7460"
   },
   "outputs": [],
   "source": [
    "sql = \"\"\"\n",
    "\n",
    "SELECT \n",
    "LOCATION_ID, \n",
    "strftime('%Y', REPORT_DATE) AS YEAR, \n",
    "SUM(RAIN) AS TOTAL_TORNADO_RAIN\n",
    "\n",
    "FROM WEATHER_MONITOR \n",
    "\n",
    "WHERE TORNADO = 1\n",
    "GROUP BY LOCATION_ID, YEAR\n",
    "\n",
    "\"\"\"\n",
    "\n",
    "pd.read_sql(sql, conn)"
   ]
  },
  {
   "cell_type": "markdown",
   "metadata": {
    "id": "kfgQF4EKQCDA"
   },
   "source": [
    "## Contagem de Registros"
   ]
  },
  {
   "cell_type": "markdown",
   "metadata": {
    "id": "p1o-FOhiP60n"
   },
   "source": [
    "Se você quiser contar o número de registros em uma tabela, passe o registro inteiro para a função `COUNT()` em vez de um campo específico. Isso pode ser feito usando um asterisco `*`."
   ]
  },
  {
   "cell_type": "code",
   "execution_count": null,
   "metadata": {
    "colab": {
     "base_uri": "https://localhost:8080/",
     "height": 81
    },
    "executionInfo": {
     "elapsed": 259,
     "status": "ok",
     "timestamp": 1666722958910,
     "user": {
      "displayName": "Daisy Wizda",
      "userId": "00043830702421473023"
     },
     "user_tz": 240
    },
    "id": "YRcPA7HHP66l",
    "outputId": "d8f7199f-9f88-412a-e946-c95bd1eb2249"
   },
   "outputs": [],
   "source": [
    "sql = \"\"\"\n",
    "\n",
    "SELECT COUNT(*) AS RECORD_COUNT\n",
    "\n",
    "FROM WEATHER_MONITOR \n",
    "\"\"\"\n",
    "\n",
    "pd.read_sql(sql, conn)"
   ]
  },
  {
   "cell_type": "markdown",
   "metadata": {
    "id": "MFcvz4TrQQD9"
   },
   "source": [
    "Todas as outras operações que usamos anteriormente para segmentar e filtrar registros também podem ser usadas com `COUNT(*)`. Abaixo, dividimos a contagem de registros por `YEAR`, mas contamos apenas os registros em que `RAIN` tinha pelo menos 2 polegadas."
   ]
  },
  {
   "cell_type": "code",
   "execution_count": null,
   "metadata": {
    "colab": {
     "base_uri": "https://localhost:8080/",
     "height": 112
    },
    "executionInfo": {
     "elapsed": 255,
     "status": "ok",
     "timestamp": 1666722966017,
     "user": {
      "displayName": "Daisy Wizda",
      "userId": "00043830702421473023"
     },
     "user_tz": 240
    },
    "id": "s9238O7dQQJ-",
    "outputId": "72c47e6a-58f9-4b6a-c706-7394e6ef522a"
   },
   "outputs": [],
   "source": [
    "sql = \"\"\"\n",
    "\n",
    "SELECT \n",
    "strftime('%Y', REPORT_DATE) AS YEAR, \n",
    "\n",
    "COUNT(*) AS RECORD_COUNT\n",
    "\n",
    "FROM WEATHER_MONITOR \n",
    "\n",
    "WHERE RAIN >= 2\n",
    "\n",
    "GROUP BY YEAR \n",
    "\"\"\"\n",
    "\n",
    "pd.read_sql(sql, conn)"
   ]
  },
  {
   "cell_type": "markdown",
   "metadata": {
    "id": "QbDWsG7WQ_m_"
   },
   "source": [
    "## Classificação"
   ]
  },
  {
   "cell_type": "markdown",
   "metadata": {
    "id": "amJ1oW9RRGak"
   },
   "source": [
    "Vamos dar uma olhada na consulta abaixo mostrando o `TOTAL_RAIN` por `YEAR` e `MONTH`."
   ]
  },
  {
   "cell_type": "code",
   "execution_count": null,
   "metadata": {
    "colab": {
     "base_uri": "https://localhost:8080/",
     "height": 269
    },
    "executionInfo": {
     "elapsed": 327,
     "status": "ok",
     "timestamp": 1666722973072,
     "user": {
      "displayName": "Daisy Wizda",
      "userId": "00043830702421473023"
     },
     "user_tz": 240
    },
    "id": "tWwZYSB1Q_4w",
    "outputId": "654309d8-319c-4539-c1e1-17ae84d7a380"
   },
   "outputs": [],
   "source": [
    "sql = \"\"\"\n",
    "\n",
    "SELECT \n",
    "CAST(strftime('%Y', REPORT_DATE) AS INTEGER) AS YEAR, \n",
    "CAST(strftime('%m', REPORT_DATE) AS INTEGER) AS MONTH, \n",
    "\n",
    "SUM(RAIN) AS TOTAL_RAIN\n",
    "\n",
    "FROM WEATHER_MONITOR \n",
    "\n",
    "GROUP BY YEAR, MONTH\n",
    "\"\"\"\n",
    "\n",
    "pd.read_sql(sql, conn)"
   ]
  },
  {
   "cell_type": "markdown",
   "metadata": {
    "id": "RPj9cWeMShQG"
   },
   "source": [
    "Observe que os registros coincidentemente são ordenados por `YEAR` em ordem crescente e `MONTH` em ordem crescente. Você nunca deve esperar que os registros retornem em qualquer ordem sem um `ORDER BY`, mesmo que o mecanismo SQL tenha uma implementação que dê essa impressão. Isso pode acontecer especialmente se os dados forem armazenados fisicamente em uma ordem ordenada por (por exemplo, cronologicamente).\n",
    "\n",
    "Para impor uma ordem crescente por `YEAR` e `MONTH`, adicione um operador `ORDER BY`."
   ]
  },
  {
   "cell_type": "code",
   "execution_count": null,
   "metadata": {
    "colab": {
     "base_uri": "https://localhost:8080/",
     "height": 269
    },
    "executionInfo": {
     "elapsed": 234,
     "status": "ok",
     "timestamp": 1666723052712,
     "user": {
      "displayName": "Daisy Wizda",
      "userId": "00043830702421473023"
     },
     "user_tz": 240
    },
    "id": "HerMfhnfS6KH",
    "outputId": "8c8ab48f-88e8-47bd-dad0-7c87a00edec8"
   },
   "outputs": [],
   "source": [
    "sql = \"\"\"\n",
    "\n",
    "SELECT \n",
    "CAST(strftime('%Y', REPORT_DATE) AS INTEGER) AS YEAR, \n",
    "CAST(strftime('%m', REPORT_DATE) AS INTEGER) AS MONTH, \n",
    "\n",
    "SUM(RAIN) AS TOTAL_RAIN\n",
    "\n",
    "FROM WEATHER_MONITOR \n",
    "\n",
    "GROUP BY YEAR, MONTH\n",
    "\n",
    "ORDER BY YEAR, MONTH\n",
    "\"\"\"\n",
    "\n",
    "pd.read_sql(sql, conn)"
   ]
  },
  {
   "cell_type": "markdown",
   "metadata": {
    "id": "vE4jQ_N0TE05"
   },
   "source": [
    "Você também pode referenciar as expressões selecionadas usando o índice ordinal."
   ]
  },
  {
   "cell_type": "code",
   "execution_count": null,
   "metadata": {
    "colab": {
     "base_uri": "https://localhost:8080/",
     "height": 269
    },
    "executionInfo": {
     "elapsed": 271,
     "status": "ok",
     "timestamp": 1666723101305,
     "user": {
      "displayName": "Daisy Wizda",
      "userId": "00043830702421473023"
     },
     "user_tz": 240
    },
    "id": "MJs3arF-TE6W",
    "outputId": "00bb5cf8-edc6-4ef6-e8e8-f50734ae7903"
   },
   "outputs": [],
   "source": [
    "sql = \"\"\"\n",
    "\n",
    "SELECT \n",
    "CAST(strftime('%Y', REPORT_DATE) AS INTEGER) AS YEAR, \n",
    "CAST(strftime('%m', REPORT_DATE) AS INTEGER) AS MONTH, \n",
    "\n",
    "SUM(RAIN) AS TOTAL_RAIN\n",
    "\n",
    "FROM WEATHER_MONITOR \n",
    "\n",
    "GROUP BY 1, 2\n",
    "\n",
    "ORDER BY 1, 2\n",
    "\"\"\"\n",
    "\n",
    "pd.read_sql(sql, conn)"
   ]
  },
  {
   "cell_type": "markdown",
   "metadata": {
    "id": "XFZ69e6zTLym"
   },
   "source": [
    "Se quisermos que os anos mais recentes sejam exibidos primeiro, adicione a palavra-chave `DESC` para classificar um determinado campo em ordem decrescente."
   ]
  },
  {
   "cell_type": "code",
   "execution_count": null,
   "metadata": {
    "colab": {
     "base_uri": "https://localhost:8080/",
     "height": 269
    },
    "executionInfo": {
     "elapsed": 230,
     "status": "ok",
     "timestamp": 1666723111202,
     "user": {
      "displayName": "Daisy Wizda",
      "userId": "00043830702421473023"
     },
     "user_tz": 240
    },
    "id": "xWgdE9glTSSl",
    "outputId": "824db566-c7a2-473a-e7ec-24ecf0ce1457"
   },
   "outputs": [],
   "source": [
    "sql = \"\"\"\n",
    "\n",
    "SELECT \n",
    "CAST(strftime('%Y', REPORT_DATE) AS INTEGER) AS YEAR, \n",
    "CAST(strftime('%m', REPORT_DATE) AS INTEGER) AS MONTH, \n",
    "\n",
    "SUM(RAIN) AS TOTAL_RAIN\n",
    "\n",
    "FROM WEATHER_MONITOR \n",
    "\n",
    "GROUP BY YEAR, MONTH\n",
    "\n",
    "ORDER BY YEAR DESC, MONTH\n",
    "\"\"\"\n",
    "\n",
    "pd.read_sql(sql, conn)"
   ]
  },
  {
   "cell_type": "markdown",
   "metadata": {
    "id": "XOtRn5vtUGdR"
   },
   "source": [
    "## EXERCÍCIO\n",
    "\n",
    "Complete a consulta abaixo para encontrar a queda de neve total, mínima e máxima por ano. Ordene o ano em ordem decrescente para que o ano mais recente fique no topo."
   ]
  },
  {
   "cell_type": "code",
   "execution_count": null,
   "metadata": {
    "id": "B8TJ1gO0UGuz"
   },
   "outputs": [],
   "source": [
    "sql = \"\"\"\n",
    "\n",
    "SELECT \n",
    "strftime('%Y', REPORT_DATE) AS YEAR, \n",
    "\n",
    "? AS TOTAL_SNOW, \n",
    "? AS MIN_SNOW,\n",
    "? AS MAX_SNOW\n",
    "\n",
    "FROM WEATHER_MONITOR \n",
    "\n",
    "? BY ?\n",
    "? BY ? DESC\n",
    "\"\"\"\n",
    "\n",
    "pd.read_sql(sql, conn)"
   ]
  },
  {
   "cell_type": "markdown",
   "metadata": {
    "id": "B9oaKdq8T92Q"
   },
   "source": [
    "### RESPOSTA A BAIXO\n",
    "\n",
    "|<br>\n",
    "|<br>\n",
    "|<br>\n",
    "|<br>\n",
    "|<br>\n",
    "|<br>\n",
    "|<br>\n",
    "|<br>\n",
    "|<br>\n",
    "|<br>\n",
    "|<br>\n",
    "|<br>\n",
    "|<br>\n",
    "|<br>\n",
    "|<br>\n",
    "|<br>\n",
    "|<br>\n",
    "|<br>\n",
    "|<br>\n",
    "|<br>\n",
    "|<br>\n",
    "|<br>\n",
    "|<br>\n",
    "v "
   ]
  },
  {
   "cell_type": "code",
   "execution_count": null,
   "metadata": {
    "id": "ERqklnEgT-bU"
   },
   "outputs": [],
   "source": [
    "sql = \"\"\"\n",
    "\n",
    "SELECT \n",
    "strftime('%Y', REPORT_DATE) AS YEAR, \n",
    "\n",
    "SUM(SNOW) AS TOTAL_SNOW, \n",
    "MIN(SNOW) AS MIN_SNOW,\n",
    "MAX(SNOW) AS MAX_SNOW\n",
    "\n",
    "FROM WEATHER_MONITOR \n",
    "\n",
    "GROUP BY YEAR\n",
    "ORDER BY YEAR DESC\n",
    "\"\"\"\n",
    "\n",
    "pd.read_sql(sql, conn)"
   ]
  }
 ],
 "metadata": {
  "colab": {
   "collapsed_sections": [],
   "provenance": []
  },
  "kernelspec": {
   "display_name": "anaconda-2024.02-py310",
   "language": "python",
   "name": "conda-env-anaconda-2024.02-py310-py"
  },
  "language_info": {
   "codemirror_mode": {
    "name": "ipython",
    "version": 3
   },
   "file_extension": ".py",
   "mimetype": "text/x-python",
   "name": "python",
   "nbconvert_exporter": "python",
   "pygments_lexer": "ipython3",
   "version": "3.10.14"
  }
 },
 "nbformat": 4,
 "nbformat_minor": 4
}
