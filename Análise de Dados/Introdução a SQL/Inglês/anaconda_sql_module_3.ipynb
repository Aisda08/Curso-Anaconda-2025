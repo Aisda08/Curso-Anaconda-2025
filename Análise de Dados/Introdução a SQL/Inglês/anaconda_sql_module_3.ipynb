{
 "cells": [
  {
   "cell_type": "markdown",
   "metadata": {
    "id": "3jhf3FXGWAFe"
   },
   "source": [
    " # Filtering Data with WHERE "
   ]
  },
  {
   "cell_type": "markdown",
   "metadata": {
    "id": "ZBTgwn9QV6ok"
   },
   "source": [
    "In this section, we will learn how to filter records based on a condition. This is achieved with the `WHERE` clause of a SQL query. \n",
    "\n",
    "## Setup \n",
    "First get set up. Download the SQLite database file `company_operations.db` and connect to it. Also bring in `pandas` to display our SQL query results as a `DataFrame`. "
   ]
  },
  {
   "cell_type": "code",
   "execution_count": null,
   "metadata": {
    "executionInfo": {
     "elapsed": 1409,
     "status": "ok",
     "timestamp": 1666721671778,
     "user": {
      "displayName": "Daisy Wizda",
      "userId": "00043830702421473023"
     },
     "user_tz": 240
    },
    "id": "Il5XISDMVrRu"
   },
   "outputs": [],
   "source": [
    "import sqlite3\n",
    "import pandas as pd\n",
    "import urllib.request\n",
    "\n",
    "# download SQLite database and connect to it \n",
    "urllib.request.urlretrieve(\"https://github.com/thomasnield/anaconda_intro_to_sql/blob/main/company_operations.db?raw=true\", \"company_operations.db\")\n",
    "conn = sqlite3.connect('company_operations.db')"
   ]
  },
  {
   "cell_type": "markdown",
   "metadata": {
    "id": "AZrXPDbXknRL"
   },
   "source": [
    "Let's take a look at the table `WEATHER_MONITOR` and sample 10 records out of it. Note this is weather data capturing several measurements including `RAIN` and `LIGHTNING`, as well as TRUE/FALSE indicators like `LIGHTNING`, `HAIL`, `TORNADO` which will be 1 and 0 respectively (1 for TRUE, 0 for FALSE). "
   ]
  },
  {
   "cell_type": "markdown",
   "metadata": {
    "id": "Vks1cS8n4ctM"
   },
   "source": [
    "## Filtering Numeric Expressions\n",
    "\n",
    "We are first going to cover filtering data with numeric operations, some of which will extend into other data types like text. "
   ]
  },
  {
   "cell_type": "code",
   "execution_count": null,
   "metadata": {
    "colab": {
     "base_uri": "https://localhost:8080/",
     "height": 363
    },
    "executionInfo": {
     "elapsed": 475,
     "status": "ok",
     "timestamp": 1666721709944,
     "user": {
      "displayName": "Daisy Wizda",
      "userId": "00043830702421473023"
     },
     "user_tz": 240
    },
    "id": "Ub_gF4xw4zTA",
    "outputId": "725ba4e0-bb4b-4a3e-943f-78a8be7a4ea8"
   },
   "outputs": [],
   "source": [
    "sql = \"SELECT * FROM WEATHER_MONITOR LIMIT 10\"\n",
    "\n",
    "pd.read_sql(sql, conn)"
   ]
  },
  {
   "cell_type": "markdown",
   "metadata": {
    "id": "V_XRXbB88cHF"
   },
   "source": [
    "Let's say we want to find all records that have a temperature of exactly 64 degrees Fahrenheit. We can simply use an `=` operator in a `WHERE` condition like this:"
   ]
  },
  {
   "cell_type": "code",
   "execution_count": null,
   "metadata": {
    "colab": {
     "base_uri": "https://localhost:8080/",
     "height": 394
    },
    "executionInfo": {
     "elapsed": 142,
     "status": "ok",
     "timestamp": 1666721719654,
     "user": {
      "displayName": "Daisy Wizda",
      "userId": "00043830702421473023"
     },
     "user_tz": 240
    },
    "id": "VBuiKEIY8uBH",
    "outputId": "1efc31df-c665-4878-9cd2-11f02df60bc3"
   },
   "outputs": [],
   "source": [
    "sql = \"\"\"\n",
    "\n",
    "SELECT * FROM WEATHER_MONITOR \n",
    "WHERE TEMPERATURE = 64\n",
    "\n",
    "\"\"\"\n",
    "\n",
    "pd.read_sql(sql, conn)"
   ]
  },
  {
   "cell_type": "markdown",
   "metadata": {
    "id": "RMuYkxPr-2QN"
   },
   "source": [
    "To get all records that are not 64 degrees, you can use the `!=` or `<>` operator which expresses \"not equals.\" "
   ]
  },
  {
   "cell_type": "code",
   "execution_count": null,
   "metadata": {
    "colab": {
     "base_uri": "https://localhost:8080/",
     "height": 424
    },
    "executionInfo": {
     "elapsed": 131,
     "status": "ok",
     "timestamp": 1666721727057,
     "user": {
      "displayName": "Daisy Wizda",
      "userId": "00043830702421473023"
     },
     "user_tz": 240
    },
    "id": "10bNzBA1-whO",
    "outputId": "60e8c7ca-c05d-461d-c779-249f284164f6"
   },
   "outputs": [],
   "source": [
    "sql = \"\"\"\n",
    "\n",
    "SELECT * FROM WEATHER_MONITOR \n",
    "WHERE TEMPERATURE != 64\n",
    "\n",
    "\"\"\"\n",
    "\n",
    "pd.read_sql(sql, conn)"
   ]
  },
  {
   "cell_type": "markdown",
   "metadata": {
    "id": "8Txn7x-2_I2h"
   },
   "source": [
    "To get all records within a value range, you can use the `BETWEEN` operator. To get all records with a temperature between 10 and 20 degrees, target a `BETWEEN` on the `TEMPERATURE` field. "
   ]
  },
  {
   "cell_type": "code",
   "execution_count": null,
   "metadata": {
    "colab": {
     "base_uri": "https://localhost:8080/",
     "height": 332
    },
    "executionInfo": {
     "elapsed": 120,
     "status": "ok",
     "timestamp": 1666721735163,
     "user": {
      "displayName": "Daisy Wizda",
      "userId": "00043830702421473023"
     },
     "user_tz": 240
    },
    "id": "mgxpUYIL_I9M",
    "outputId": "2965e110-4466-4441-ab96-93d19b874134"
   },
   "outputs": [],
   "source": [
    "sql = \"\"\"\n",
    "\n",
    "SELECT * FROM WEATHER_MONITOR \n",
    "WHERE TEMPERATURE BETWEEN 10 AND 20\n",
    "\"\"\"\n",
    "\n",
    "pd.read_sql(sql, conn)"
   ]
  },
  {
   "cell_type": "markdown",
   "metadata": {
    "id": "TYfNDgbr_9o5"
   },
   "source": [
    "The `BETWEEN` is inclusive so it will include 10 and 20 degrees. If you want to exlude the bounds, and strictly only return records exclusively between 10 and 20 degrees, use comparative operators `>` and `<` with an `AND` to qualify both conditions. "
   ]
  },
  {
   "cell_type": "code",
   "execution_count": null,
   "metadata": {
    "colab": {
     "base_uri": "https://localhost:8080/",
     "height": 300
    },
    "executionInfo": {
     "elapsed": 127,
     "status": "ok",
     "timestamp": 1666721751398,
     "user": {
      "displayName": "Daisy Wizda",
      "userId": "00043830702421473023"
     },
     "user_tz": 240
    },
    "id": "8AuPxCah_9vH",
    "outputId": "7f78db96-e94a-434b-d118-ffce8fadfe45"
   },
   "outputs": [],
   "source": [
    "sql = \"\"\"\n",
    "\n",
    "SELECT * FROM WEATHER_MONITOR \n",
    "WHERE TEMPERATURE > 10 AND TEMPERATURE < 20\n",
    "\n",
    "\"\"\"\n",
    "\n",
    "pd.read_sql(sql, conn)"
   ]
  },
  {
   "cell_type": "markdown",
   "metadata": {
    "id": "zWY4GfGZ_98H"
   },
   "source": [
    "The inclusive `BETWEEN` could also be accomplished using `>=` and `<=`. \n",
    "\n",
    "Let's say we want to get records where the `LOCATION_ID` is 5, 20, or 35. We can achieve this using an `OR` which specifies at least one condition must be true. "
   ]
  },
  {
   "cell_type": "code",
   "execution_count": null,
   "metadata": {
    "colab": {
     "base_uri": "https://localhost:8080/",
     "height": 424
    },
    "executionInfo": {
     "elapsed": 122,
     "status": "ok",
     "timestamp": 1666721759490,
     "user": {
      "displayName": "Daisy Wizda",
      "userId": "00043830702421473023"
     },
     "user_tz": 240
    },
    "id": "_a8PWxlG_-C8",
    "outputId": "03c40b43-b772-46ec-89e9-5919fbd4708a"
   },
   "outputs": [],
   "source": [
    "sql = \"\"\"\n",
    "\n",
    "SELECT * FROM WEATHER_MONITOR \n",
    "WHERE LOCATION_ID = 5 \n",
    "OR LOCATION_ID = 20 \n",
    "OR LOCATION_ID = 35\n",
    "\n",
    "\"\"\"\n",
    "\n",
    "pd.read_sql(sql, conn)"
   ]
  },
  {
   "cell_type": "markdown",
   "metadata": {
    "id": "f19mjaR5_-JK"
   },
   "source": [
    "This demonstrates the `OR` allows a condition to be composed of multiple conditions, where at least one of them must be true. But for this particular problem we can use the `IN` operator to qualify a set of values in a set. "
   ]
  },
  {
   "cell_type": "code",
   "execution_count": null,
   "metadata": {
    "colab": {
     "base_uri": "https://localhost:8080/",
     "height": 424
    },
    "executionInfo": {
     "elapsed": 330,
     "status": "ok",
     "timestamp": 1666721774761,
     "user": {
      "displayName": "Daisy Wizda",
      "userId": "00043830702421473023"
     },
     "user_tz": 240
    },
    "id": "NM2YLkxv_-PU",
    "outputId": "244d96a2-916b-4dcf-9ea1-ebdbe6d54140"
   },
   "outputs": [],
   "source": [
    "sql = \"\"\"\n",
    "\n",
    "SELECT * FROM WEATHER_MONITOR \n",
    "WHERE LOCATION_ID IN  (5, 20, 35)\n",
    "\n",
    "\"\"\"\n",
    "\n",
    "pd.read_sql(sql, conn)"
   ]
  },
  {
   "cell_type": "markdown",
   "metadata": {
    "id": "JkL5sKSJ_-VC"
   },
   "source": [
    "You can also negate a condition by preceding it with the `NOT` keyword. To get all records where the `LOCATION_ID` is not 5, 20, or 35 run this query: "
   ]
  },
  {
   "cell_type": "code",
   "execution_count": null,
   "metadata": {
    "colab": {
     "base_uri": "https://localhost:8080/",
     "height": 424
    },
    "executionInfo": {
     "elapsed": 120,
     "status": "ok",
     "timestamp": 1666721782809,
     "user": {
      "displayName": "Daisy Wizda",
      "userId": "00043830702421473023"
     },
     "user_tz": 240
    },
    "id": "OlgvlyCG_-bS",
    "outputId": "91d3d9b7-5235-475a-cb6f-3993c0374fe4"
   },
   "outputs": [],
   "source": [
    "sql = \"\"\"\n",
    "\n",
    "SELECT * FROM WEATHER_MONITOR \n",
    "WHERE LOCATION_ID NOT IN  (5, 20, 35)\n",
    "\n",
    "\"\"\"\n",
    "\n",
    "pd.read_sql(sql, conn)"
   ]
  },
  {
   "cell_type": "markdown",
   "metadata": {
    "id": "VcfdjMEMgxzn"
   },
   "source": [
    "## Filtering Boolean Values  \n",
    "\n",
    "When you encounter fields that are binary (1 = TRUE, 0 = FALSE) which are also called booleans, you simply qualify the same way you would with other numbers. Here we find records where a tornado was sighted (1).  "
   ]
  },
  {
   "cell_type": "code",
   "execution_count": null,
   "metadata": {
    "colab": {
     "base_uri": "https://localhost:8080/",
     "height": 1000
    },
    "executionInfo": {
     "elapsed": 142,
     "status": "ok",
     "timestamp": 1666721795236,
     "user": {
      "displayName": "Daisy Wizda",
      "userId": "00043830702421473023"
     },
     "user_tz": 240
    },
    "id": "Jga4saEyg5qw",
    "outputId": "a0ca11ad-059d-4ec1-aec7-3404420f0626"
   },
   "outputs": [],
   "source": [
    "sql = \"\"\"\n",
    "\n",
    "SELECT * FROM WEATHER_MONITOR \n",
    "WHERE TORNADO = 1\n",
    "\n",
    "\"\"\"\n",
    "\n",
    "pd.read_sql(sql, conn)"
   ]
  },
  {
   "cell_type": "markdown",
   "metadata": {
    "id": "apGdtb3whufv"
   },
   "source": [
    "You can also qualify records where a tornado was not sighted (0). "
   ]
  },
  {
   "cell_type": "code",
   "execution_count": null,
   "metadata": {
    "colab": {
     "base_uri": "https://localhost:8080/",
     "height": 424
    },
    "executionInfo": {
     "elapsed": 120,
     "status": "ok",
     "timestamp": 1666721805858,
     "user": {
      "displayName": "Daisy Wizda",
      "userId": "00043830702421473023"
     },
     "user_tz": 240
    },
    "id": "RCBKDS3mhupq",
    "outputId": "6710be7c-6fc0-47b1-abfb-09398fac4a91"
   },
   "outputs": [],
   "source": [
    "sql = \"\"\"\n",
    "\n",
    "SELECT * FROM WEATHER_MONITOR \n",
    "WHERE TORNADO = 0\n",
    "\n",
    "\"\"\"\n",
    "\n",
    "pd.read_sql(sql, conn)"
   ]
  },
  {
   "cell_type": "markdown",
   "metadata": {
    "id": "TZxDOmBkiASz"
   },
   "source": [
    "Be careful mixing `AND` and `OR` operations as this can mangle conditions, confusing both people and machines. For instance, suppose we wanted to find records where there was snow or sleet. For sleet to happen, there must be rain and the temperature must be less than or equal to 32 degrees. Now study the query below, and ask yourself which conditions belong to the `AND` versus the `OR`? "
   ]
  },
  {
   "cell_type": "code",
   "execution_count": null,
   "metadata": {
    "colab": {
     "base_uri": "https://localhost:8080/",
     "height": 424
    },
    "executionInfo": {
     "elapsed": 252,
     "status": "ok",
     "timestamp": 1666721823622,
     "user": {
      "displayName": "Daisy Wizda",
      "userId": "00043830702421473023"
     },
     "user_tz": 240
    },
    "id": "UXEVzfuYiAbJ",
    "outputId": "fa1875e7-cb24-4431-8135-5568db795b67"
   },
   "outputs": [],
   "source": [
    "sql = \"\"\"\n",
    "\n",
    "SELECT * FROM WEATHER_MONITOR \n",
    "WHERE SNOW > 0 OR RAIN > 0 AND TEMPERATURE <= 32\n",
    "\n",
    "\"\"\"\n",
    "\n",
    "pd.read_sql(sql, conn)"
   ]
  },
  {
   "cell_type": "markdown",
   "metadata": {
    "id": "eLR0kpeNjLZl"
   },
   "source": [
    "This technically works, although mixing `AND` and `OR` like this can create confusion and even errors for more complicated queries. This is why it is a good idea to force an order of operations with parantheses, so the conditions are grouped appropriately and evaluated in the intended order. This should be done even if it is just for clarity. Below we organize the query so the sleet condition is grouped into a single condition. "
   ]
  },
  {
   "cell_type": "code",
   "execution_count": null,
   "metadata": {
    "colab": {
     "base_uri": "https://localhost:8080/",
     "height": 424
    },
    "executionInfo": {
     "elapsed": 105,
     "status": "ok",
     "timestamp": 1666721846542,
     "user": {
      "displayName": "Daisy Wizda",
      "userId": "00043830702421473023"
     },
     "user_tz": 240
    },
    "id": "wjOt-HWEjLiG",
    "outputId": "573b1801-fa64-4db7-a9ac-7a710e006d19"
   },
   "outputs": [],
   "source": [
    "sql = \"\"\"\n",
    "\n",
    "SELECT * FROM WEATHER_MONITOR \n",
    "WHERE SNOW > 0 OR (RAIN > 0 AND TEMPERATURE <= 32)\n",
    "\n",
    "\"\"\"\n",
    "\n",
    "pd.read_sql(sql, conn)"
   ]
  },
  {
   "cell_type": "markdown",
   "metadata": {
    "id": "dmAE9nv7_-hW"
   },
   "source": [
    "## Filtering Text Expressions\n",
    "\n",
    "Let's say you want to look up a record with a given `REPORT_CODE`. Since that field is text and not a number, you need to specify that report code `'YJA6G3I'` in single quotes. This is because numeric values are not allowed to be column or table names, so we do not need quotes around literal numeric values. But we do need quotes around text values so the SQL engine does not get confused looking for that value as a column or table name. \n",
    "\n"
   ]
  },
  {
   "cell_type": "code",
   "execution_count": null,
   "metadata": {
    "colab": {
     "base_uri": "https://localhost:8080/",
     "height": 81
    },
    "executionInfo": {
     "elapsed": 138,
     "status": "ok",
     "timestamp": 1666721877036,
     "user": {
      "displayName": "Daisy Wizda",
      "userId": "00043830702421473023"
     },
     "user_tz": 240
    },
    "id": "C1ygXZYC_-nA",
    "outputId": "b47e2e43-28e1-4504-d06c-d442eb14a722"
   },
   "outputs": [],
   "source": [
    "sql = \"\"\"\n",
    "\n",
    "SELECT * FROM WEATHER_MONITOR\n",
    "WHERE REPORT_CODE = 'YJA6G3I'\n",
    "\n",
    "\"\"\"\n",
    "\n",
    "pd.read_sql(sql, conn)\n"
   ]
  },
  {
   "cell_type": "markdown",
   "metadata": {
    "id": "9gRrJuGR_-tC"
   },
   "source": [
    "This rule applies to other operators we learned earlier, including using the `IN` operator. Below we look up three report codes. "
   ]
  },
  {
   "cell_type": "code",
   "execution_count": null,
   "metadata": {
    "colab": {
     "base_uri": "https://localhost:8080/",
     "height": 143
    },
    "executionInfo": {
     "elapsed": 110,
     "status": "ok",
     "timestamp": 1666721883371,
     "user": {
      "displayName": "Daisy Wizda",
      "userId": "00043830702421473023"
     },
     "user_tz": 240
    },
    "id": "mnGc_aJI_-zA",
    "outputId": "7efc1903-7f16-4435-fdac-1906c8bf1d34"
   },
   "outputs": [],
   "source": [
    "sql = \"\"\"\n",
    "\n",
    "SELECT * FROM WEATHER_MONITOR\n",
    "WHERE REPORT_CODE  IN ('YJA6G3I', 'M511XRH', 'S4ED81Y')\n",
    "\n",
    "\"\"\"\n",
    "\n",
    "pd.read_sql(sql, conn)\n"
   ]
  },
  {
   "cell_type": "markdown",
   "metadata": {
    "id": "Dy0NnPo7bKLL"
   },
   "source": [
    "Some operators are specific to text, such as concatentation `||` or `LIKE` which allows us to match text with wildcards. Here is a `LIKE` operation that searches for report codes that have a `Y` in the first position and a `D` in the third. The `_` in the pattern string is a wildcard for one character, and the `%` is a wildcard for any number of characters. "
   ]
  },
  {
   "cell_type": "code",
   "execution_count": null,
   "metadata": {
    "colab": {
     "base_uri": "https://localhost:8080/",
     "height": 143
    },
    "executionInfo": {
     "elapsed": 135,
     "status": "ok",
     "timestamp": 1666721899095,
     "user": {
      "displayName": "Daisy Wizda",
      "userId": "00043830702421473023"
     },
     "user_tz": 240
    },
    "id": "CNNo7VjxbMt4",
    "outputId": "662a5dec-24de-40c3-937e-b273f1f42b76"
   },
   "outputs": [],
   "source": [
    "sql = \"\"\"\n",
    "\n",
    "SELECT * FROM WEATHER_MONITOR\n",
    "WHERE REPORT_CODE LIKE 'Y_D%'\n",
    "\n",
    "\"\"\"\n",
    "\n",
    "pd.read_sql(sql, conn)\n"
   ]
  },
  {
   "cell_type": "markdown",
   "metadata": {
    "id": "1kZDR6Q5b3qO"
   },
   "source": [
    "There are also functions that specifically are for working with strings like `length()` and `substr()`. Here we use a substring operation to extract out the middle 5 characters of the 7-character report code. The first argument is the string, the second is the starting character, and the third is the number of characters to grab starting from that position."
   ]
  },
  {
   "cell_type": "code",
   "execution_count": null,
   "metadata": {
    "colab": {
     "base_uri": "https://localhost:8080/",
     "height": 424
    },
    "executionInfo": {
     "elapsed": 108,
     "status": "ok",
     "timestamp": 1666721914599,
     "user": {
      "displayName": "Daisy Wizda",
      "userId": "00043830702421473023"
     },
     "user_tz": 240
    },
    "id": "RoUixcGQb3xH",
    "outputId": "21311511-11a6-47f8-8f4e-b3510dac04a9"
   },
   "outputs": [],
   "source": [
    "sql = \"\"\"\n",
    "\n",
    "SELECT REPORT_CODE, substr(REPORT_CODE, 2, 5) FROM WEATHER_MONITOR \n",
    "\n",
    "\"\"\"\n",
    "\n",
    "pd.read_sql(sql, conn)\n"
   ]
  },
  {
   "cell_type": "markdown",
   "metadata": {
    "id": "ao82n7KDlyej"
   },
   "source": [
    "You can view all the functions SQLite offers [in its documentation](https://www.sqlite.org/lang_corefunc.html). "
   ]
  },
  {
   "cell_type": "markdown",
   "metadata": {
    "id": "gx6Vs_PXcisq"
   },
   "source": [
    "## Filtering Dates and Time\n",
    "\n",
    "Dates and time can be a little awkward in SQL as each platform will treat them differently. You typically want to establish time zone awareness in your date and time data, storing dates as [Greenwich Mean Time (GMT)](https://en.wikipedia.org/wiki/Greenwich_Mean_Time) or [Coordinated Universal Time (UTC)](https://en.wikipedia.org/wiki/Coordinated_Universal_Time). Then you can track which timezone the data was recorded in and adjust to local time accordingly. \n",
    "\n",
    "To keep things simple, let's just work with the `REPORT_DATE` column. If we want to get all records where `REPORT_DATE` is after `2021-05-15`, I can provide that date in a string of `yyyy-MM-dd` format. This is the [ISO 8601 standard](https://en.wikipedia.org/wiki/ISO_8601) for formatting dates. SQLite will then recognize this as a date instead of a plain string. "
   ]
  },
  {
   "cell_type": "code",
   "execution_count": null,
   "metadata": {
    "colab": {
     "base_uri": "https://localhost:8080/",
     "height": 424
    },
    "executionInfo": {
     "elapsed": 125,
     "status": "ok",
     "timestamp": 1666721961304,
     "user": {
      "displayName": "Daisy Wizda",
      "userId": "00043830702421473023"
     },
     "user_tz": 240
    },
    "id": "QRHho37teeDH",
    "outputId": "9a60da5c-8a9e-4456-ab2b-abd3bb8c7d63"
   },
   "outputs": [],
   "source": [
    "sql = \"\"\"\n",
    "\n",
    "SELECT * FROM WEATHER_MONITOR \n",
    "WHERE REPORT_DATE > '2021-05-15' \n",
    "\n",
    "\"\"\"\n",
    "\n",
    "pd.read_sql(sql, conn)\n"
   ]
  },
  {
   "cell_type": "markdown",
   "metadata": {
    "id": "D8Sva-SKg4q_"
   },
   "source": [
    "Each SQL platform will likely have a different way of extracting the month, day, or other components of a date or time. SQLite has a particular way of working with dates and times as well. If we want to filter for 2021 records, we can use `strftime()` to extract out the year using a [special formatting syntax](https://www.sqlite.org/lang_datefunc.html) where `%Y` will extract the year component. "
   ]
  },
  {
   "cell_type": "code",
   "execution_count": null,
   "metadata": {
    "colab": {
     "base_uri": "https://localhost:8080/",
     "height": 424
    },
    "executionInfo": {
     "elapsed": 139,
     "status": "ok",
     "timestamp": 1666721979834,
     "user": {
      "displayName": "Daisy Wizda",
      "userId": "00043830702421473023"
     },
     "user_tz": 240
    },
    "id": "WQ_hvdOCg4wv",
    "outputId": "c8ebeb5d-a2f5-49d0-88f0-852595482c1a"
   },
   "outputs": [],
   "source": [
    "sql = \"\"\"\n",
    "\n",
    "SELECT * FROM WEATHER_MONITOR \n",
    "WHERE strftime('%Y', REPORT_DATE) = '2021'\n",
    "\n",
    "\"\"\"\n",
    "\n",
    "pd.read_sql(sql, conn)\n"
   ]
  },
  {
   "cell_type": "markdown",
   "metadata": {
    "id": "Sq4zCCElmC8z"
   },
   "source": [
    "You can convert the year from a string to an integer using the `CAST` operator. "
   ]
  },
  {
   "cell_type": "code",
   "execution_count": null,
   "metadata": {
    "colab": {
     "base_uri": "https://localhost:8080/",
     "height": 424
    },
    "executionInfo": {
     "elapsed": 166,
     "status": "ok",
     "timestamp": 1666722004576,
     "user": {
      "displayName": "Daisy Wizda",
      "userId": "00043830702421473023"
     },
     "user_tz": 240
    },
    "id": "jjIXl-fAmDEK",
    "outputId": "f80728ed-7783-4a2d-aebf-72db4242fd43"
   },
   "outputs": [],
   "source": [
    "sql = \"\"\"\n",
    "\n",
    "SELECT * FROM WEATHER_MONITOR \n",
    "WHERE CAST(strftime('%Y', REPORT_DATE) AS INTEGER) = 2021\n",
    "\n",
    "\"\"\"\n",
    "\n",
    "pd.read_sql(sql, conn)\n"
   ]
  },
  {
   "cell_type": "markdown",
   "metadata": {
    "id": "gSGc4pCSg42M"
   },
   "source": [
    "You can get today's date using `DATE('now')` and use this to qualify queries for today's date. "
   ]
  },
  {
   "cell_type": "code",
   "execution_count": null,
   "metadata": {
    "colab": {
     "base_uri": "https://localhost:8080/",
     "height": 81
    },
    "executionInfo": {
     "elapsed": 153,
     "status": "ok",
     "timestamp": 1666722010303,
     "user": {
      "displayName": "Daisy Wizda",
      "userId": "00043830702421473023"
     },
     "user_tz": 240
    },
    "id": "5WmARTQQg478",
    "outputId": "535eaa04-8336-4755-e467-6f408321424f"
   },
   "outputs": [],
   "source": [
    "sql = \"\"\"\n",
    "SELECT DATE('now')\n",
    "\"\"\"\n",
    "\n",
    "pd.read_sql(sql, conn)\n"
   ]
  },
  {
   "cell_type": "markdown",
   "metadata": {
    "id": "6dww-_G_g5BT"
   },
   "source": [
    "You can also get the current UTC time using the `TIME()` function. Note the format which is compliant to ISO 8601 format. "
   ]
  },
  {
   "cell_type": "code",
   "execution_count": null,
   "metadata": {
    "colab": {
     "base_uri": "https://localhost:8080/",
     "height": 81
    },
    "executionInfo": {
     "elapsed": 137,
     "status": "ok",
     "timestamp": 1666722015411,
     "user": {
      "displayName": "Daisy Wizda",
      "userId": "00043830702421473023"
     },
     "user_tz": 240
    },
    "id": "Z8PsUzhog5Gj",
    "outputId": "7a4f2308-7974-4b4f-e9f7-4979cd35c292"
   },
   "outputs": [],
   "source": [
    "sql = \"\"\"\n",
    "SELECT TIME('now')\n",
    "\"\"\"\n",
    "\n",
    "pd.read_sql(sql, conn)\n"
   ]
  },
  {
   "cell_type": "markdown",
   "metadata": {
    "id": "uPDnQjmQmh7f"
   },
   "source": [
    "You can also work with a full date and time, as well as add and subtract different calendar operations. This grabs yesterday's date. "
   ]
  },
  {
   "cell_type": "code",
   "execution_count": null,
   "metadata": {
    "colab": {
     "base_uri": "https://localhost:8080/",
     "height": 81
    },
    "executionInfo": {
     "elapsed": 126,
     "status": "ok",
     "timestamp": 1666722021706,
     "user": {
      "displayName": "Daisy Wizda",
      "userId": "00043830702421473023"
     },
     "user_tz": 240
    },
    "id": "iyYiTmWlm9Yv",
    "outputId": "a0edeca8-76e8-4929-a0d9-6e3ce491c070"
   },
   "outputs": [],
   "source": [
    "sql = \"\"\"\n",
    "SELECT DATETIME('now', '-1 day')\n",
    "\"\"\"\n",
    "\n",
    "pd.read_sql(sql, conn)\n"
   ]
  },
  {
   "cell_type": "markdown",
   "metadata": {
    "id": "Jx6QO2HinFmf"
   },
   "source": [
    "By following the ISO 6201 format, you can turn any properly formatted string into a `DATE`, `TIME` or `DATETIME` and perform any comparative, or calendar logic you want. "
   ]
  },
  {
   "cell_type": "code",
   "execution_count": null,
   "metadata": {
    "colab": {
     "base_uri": "https://localhost:8080/",
     "height": 81
    },
    "executionInfo": {
     "elapsed": 129,
     "status": "ok",
     "timestamp": 1666722028852,
     "user": {
      "displayName": "Daisy Wizda",
      "userId": "00043830702421473023"
     },
     "user_tz": 240
    },
    "id": "vTe_-_OlnFv9",
    "outputId": "6ce77c28-8a01-4c15-b130-35b13c78b7f2"
   },
   "outputs": [],
   "source": [
    "sql = \"\"\"\n",
    "SELECT DATETIME('2022-10-19 18:58:12') AS MY_DATE_TIME\n",
    "\"\"\"\n",
    "\n",
    "pd.read_sql(sql, conn)\n"
   ]
  },
  {
   "cell_type": "markdown",
   "metadata": {
    "id": "qPOWaLeML73y"
   },
   "source": [
    "# EXERCISE\n",
    "\n",
    "Complete the query below to find all records where there was a tornado and hail, OR the rain was greater than 5 inches and temperature was at least 70. "
   ]
  },
  {
   "cell_type": "code",
   "execution_count": null,
   "metadata": {
    "colab": {
     "base_uri": "https://localhost:8080/",
     "height": 496
    },
    "executionInfo": {
     "elapsed": 362,
     "status": "error",
     "timestamp": 1666722048666,
     "user": {
      "displayName": "Daisy Wizda",
      "userId": "00043830702421473023"
     },
     "user_tz": 240
    },
    "id": "DYQ73njwL7-y",
    "outputId": "edfc5cc0-02e9-47cc-a270-f033e941746f"
   },
   "outputs": [],
   "source": [
    "sql = \"\"\"\n",
    "SELECT * FROM WEATHER_MONITOR\n",
    "WHERE ?\n",
    "\"\"\"\n",
    "\n",
    "pd.read_sql(sql, conn)"
   ]
  },
  {
   "cell_type": "markdown",
   "metadata": {
    "id": "lqgZA1NpL4aL"
   },
   "source": [
    "### SCROLL DOWN FOR ANSWER\n",
    "|<br>\n",
    "|<br>\n",
    "|<br>\n",
    "|<br>\n",
    "|<br>\n",
    "|<br>\n",
    "|<br>\n",
    "|<br>\n",
    "|<br>\n",
    "|<br>\n",
    "|<br>\n",
    "|<br>\n",
    "|<br>\n",
    "|<br>\n",
    "|<br>\n",
    "|<br>\n",
    "|<br>\n",
    "|<br>\n",
    "|<br>\n",
    "|<br>\n",
    "|<br>\n",
    "|<br>\n",
    "|<br>\n",
    "v "
   ]
  },
  {
   "cell_type": "code",
   "execution_count": null,
   "metadata": {
    "colab": {
     "base_uri": "https://localhost:8080/",
     "height": 1000
    },
    "executionInfo": {
     "elapsed": 116,
     "status": "ok",
     "timestamp": 1666722063454,
     "user": {
      "displayName": "Daisy Wizda",
      "userId": "00043830702421473023"
     },
     "user_tz": 240
    },
    "id": "mmCfSj7bM1Kd",
    "outputId": "bcc044f3-d3b8-454e-ffc1-4e3b7052eca1"
   },
   "outputs": [],
   "source": [
    "sql = \"\"\"\n",
    "SELECT * FROM WEATHER_MONITOR\n",
    "WHERE (TORNADO = 1 AND HAIL = 1) OR (RAIN > 5 AND TEMPERATURE >= 70)\n",
    "\"\"\"\n",
    "\n",
    "pd.read_sql(sql, conn)"
   ]
  }
 ],
 "metadata": {
  "colab": {
   "collapsed_sections": [],
   "provenance": []
  },
  "kernelspec": {
   "display_name": "anaconda-2024.02-py310",
   "language": "python",
   "name": "conda-env-anaconda-2024.02-py310-py"
  },
  "language_info": {
   "codemirror_mode": {
    "name": "ipython",
    "version": 3
   },
   "file_extension": ".py",
   "mimetype": "text/x-python",
   "name": "python",
   "nbconvert_exporter": "python",
   "pygments_lexer": "ipython3",
   "version": "3.9.13"
  }
 },
 "nbformat": 4,
 "nbformat_minor": 4
}
