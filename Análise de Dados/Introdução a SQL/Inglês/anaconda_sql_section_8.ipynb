{
 "cells": [
  {
   "cell_type": "markdown",
   "metadata": {
    "id": "peg-tXtAcK8b"
   },
   "source": [
    "# Creating Tables and Writing Data "
   ]
  },
  {
   "cell_type": "markdown",
   "metadata": {
    "id": "Uk6CNcm4cWgP"
   },
   "source": [
    "In this last module we will cover writing tasks in SQL, including the creation of tables and data as well as editing existing data. Most SQL usage is reading data, especially if you work in an analytical or data science role. But when you work with moving data from one source to another, you will inevitably need to take on the creation of data in relational databases. "
   ]
  },
  {
   "cell_type": "markdown",
   "metadata": {
    "id": "RlPiaxZUdUnx"
   },
   "source": [
    "## Setup"
   ]
  },
  {
   "cell_type": "markdown",
   "metadata": {
    "id": "KzST69e7dVht"
   },
   "source": [
    "First get set up. Download the SQLite database file `company_operations.db` and connect to it. Also bring in `pandas` to display our SQL query results as a `DataFrame`. "
   ]
  },
  {
   "cell_type": "code",
   "execution_count": null,
   "metadata": {
    "executionInfo": {
     "elapsed": 1450,
     "status": "ok",
     "timestamp": 1667263999342,
     "user": {
      "displayName": "Daisy Wizda",
      "userId": "13343178402410361390"
     },
     "user_tz": 240
    },
    "id": "JOypG8eScJQO"
   },
   "outputs": [],
   "source": [
    "import sqlite3\n",
    "import pandas as pd\n",
    "import urllib.request\n",
    "\n",
    "# download SQLite database and connect to it \n",
    "urllib.request.urlretrieve(\"https://github.com/thomasnield/anaconda_intro_to_sql/blob/main/company_operations.db?raw=true\", \"company_operations.db\")\n",
    "conn = sqlite3.connect('company_operations.db')"
   ]
  },
  {
   "cell_type": "markdown",
   "metadata": {
    "id": "qr-q7diydaDC"
   },
   "source": [
    "## Planning a Database  "
   ]
  },
  {
   "cell_type": "markdown",
   "metadata": {
    "id": "iz8XDCHmdoq4"
   },
   "source": [
    "If we wanted to create a new database from scratch, we could declare a nonexistant database file in our path and SQLite will create that file. However, we are going to add a new table to the `company_operations.db` database file. \n",
    "\n",
    "When you plan a database, or additions to a database, consider carefully what the table relationships will be and what fields need to be captured. Make sure that the data is simple and normalized, and a table is not trying to be more than one thing. For example, we do not want a table to contain both `CUSTOMER`  and `CUSTOMER_ORDER` information as those are two separate entities, so we store them in separate tables. \n",
    "\n",
    "Note that is easy to add fields and tables to a database. However it is much harder to modify and remove fields and tables when dependencies between parents and children are involved. \n",
    "\n",
    "In our use case, we want to create a table called `CUSTOMER_PAYMENT` that tracks whether customers paid for part or all of a `CUSTOMER_ORDER`. \n",
    "\n",
    "The fields we need to track include: \n",
    "\n",
    "*   `CUSTOMER_PAYMENT_ID`- Primary key identifier for each record\n",
    "*   `CUSTOMER_ORDER_ID` - Foreign key tying each payment to an order\n",
    "*   `RECEIVE_DATE` - Date payment was received \n",
    "*   `RECEIVE_AMOUNT`- Payment amount received\n",
    "*   `MEMO` - Any memo text from customer \n"
   ]
  },
  {
   "cell_type": "markdown",
   "metadata": {
    "id": "CsyymIp4hJbC"
   },
   "source": [
    "## Field Attributes in SQL"
   ]
  },
  {
   "cell_type": "markdown",
   "metadata": {
    "id": "dEPN7aiRhL5-"
   },
   "source": [
    "When creating a table, it is important to be aware of the field attributes of each column. SQLite is fast and loose with data types because it is dynamically typed, and does not enforce a given column to consistently be numbers or text as specified. Other data platforms will. \n",
    "\n",
    "In SQLite, you can look up the data types for an existing table using a `PRAGMA` command with the `table_info()` function. Below we can see what each datatype is for each column of the `CUSTOMER_ORDER` table. Note the `type` column, the `notnull` indicator, the default value `dflt_value`,  and primary key `pk` indicator. These are all attributes we will want to define when we create our own tables. "
   ]
  },
  {
   "cell_type": "code",
   "execution_count": null,
   "metadata": {
    "colab": {
     "base_uri": "https://localhost:8080/",
     "height": 238
    },
    "executionInfo": {
     "elapsed": 436,
     "status": "ok",
     "timestamp": 1667264087898,
     "user": {
      "displayName": "Daisy Wizda",
      "userId": "13343178402410361390"
     },
     "user_tz": 240
    },
    "id": "nUKbMheuhJg5",
    "outputId": "c522d99f-68ab-4ed8-873b-7141d5d7bf31"
   },
   "outputs": [],
   "source": [
    "sql = \"\"\" \n",
    "PRAGMA table_info(CUSTOMER_ORDER);\n",
    "\"\"\"\n",
    "\n",
    "pd.read_sql(sql, conn)"
   ]
  },
  {
   "cell_type": "markdown",
   "metadata": {
    "id": "LR8xVVrHjYRu"
   },
   "source": [
    "Here is a quick breakdown of each of these attributes about a table field. \n",
    "\n",
    "*   **Data Type** (type) - The type of data (e.g. numeric, text, date) stored in a given column \n",
    "\n",
    "*   **Not Null** (notnull) - Indicates whether the column bans null values. \n",
    "\n",
    "*   **Default Value** (dflt_value) - The default value to provide a column if no value is provided\n",
    "\n",
    "*   **Primary Key** (pk) - Indicates whether the column is the primary key. \n",
    "\n",
    "\n",
    "The data type of a column can be the most involved to thoroughly understand, as each SQL platform will have different flavors of data types to choose from. SQLite streamlines to only store 5 types of data: [NULL, Integer, Real, Text, and Blob](https://www.sqlite.org/datatype3.html). Unlike other SQL platforms, SQLite does not enforce type consistency on a column because it is dynamically typed. \n",
    "\n",
    "However, SQLite does [alias the 5 types with type affinities](https://www.sqlite.org/datatype3.html) so they compatibly resemble more specific types on other database platforms. Some of these affinity types include: \n",
    "\n",
    "\n",
    "|TYPE|DESCRIPTION|\n",
    "|---|---|\n",
    "|`INTEGER` |A discrete integer that can be negative or positive, with size variants like `TINYINT`, `SMALLINT`, `MEDIUMINT`, etc.|\n",
    "|`CHAR(X)`|A fixed-width text with a length of `X` characters. |\n",
    "|`VARCHAR(X)`|A variable-width text with a maximum of `X` characters.|\n",
    "|`FLOAT`|A floating-point number|\n",
    "|`DOUBLE`|A double-precision floating-point number|\n",
    "|`DATE`|A date value type holding a year, month, and day.|\n",
    "|`TIME`|A time value holding an hour, minute, seconds, fraction of a second.|\n",
    "|`DATETIME`|Merges a date and time together|\n",
    "\n",
    "Please note this is just a sampling of data types we will work with in this notebook. Whatever database platform you use, take time to go through its documentation and get familiar with its datatypes so you know which ones to choose. "
   ]
  },
  {
   "cell_type": "markdown",
   "metadata": {
    "id": "OiSrTGl1f3uL"
   },
   "source": [
    "## Creating and Dropping Tables "
   ]
  },
  {
   "cell_type": "markdown",
   "metadata": {
    "id": "S70eCOCyf3v0"
   },
   "source": [
    "To create this table, we use the `CREATE TABLE` command. Note that we follow the command with the name of the table, and then inside paratheses declare each column, its datatype, and its behaviors separated by commas. \n",
    "\n",
    "The foreign key declaration is done last, pointing the `CUSTOMER_ORDER_ID` to its primary key counterpart in the parent `CUSTOMER_ORDER` table."
   ]
  },
  {
   "cell_type": "code",
   "execution_count": null,
   "metadata": {
    "colab": {
     "base_uri": "https://localhost:8080/"
    },
    "executionInfo": {
     "elapsed": 201,
     "status": "ok",
     "timestamp": 1667264164811,
     "user": {
      "displayName": "Daisy Wizda",
      "userId": "13343178402410361390"
     },
     "user_tz": 240
    },
    "id": "b6cPnfXkfqnX",
    "outputId": "4365a67e-7f2c-41b6-feac-7fa1748ba0a3"
   },
   "outputs": [],
   "source": [
    "sql = \"\"\"\n",
    "CREATE TABLE CUSTOMER_PAYMENT (\n",
    "  CUSTOMER_PAYMENT_ID INTEGER PRIMARY KEY NOT NULL,\n",
    "  CUSTOMER_ORDER_ID INTEGER NOT NULL,\n",
    "  RECEIVE_DATE DATE NOT NULL DEFAULT (date('now')), \n",
    "  RECEIVE_AMOUNT DOUBLE NOT NULL, \n",
    "  MEMO VARCHAR(100), \n",
    "\n",
    "  FOREIGN KEY (CUSTOMER_ORDER_ID) REFERENCES CUSTOMER_ORDER(CUSTOMER_ORDER_ID)\n",
    ")\n",
    "\"\"\"\n",
    "\n",
    "conn.execute(sql)\n"
   ]
  },
  {
   "cell_type": "markdown",
   "metadata": {
    "id": "IwgHF4TUqjVg"
   },
   "source": [
    "While there are no records in this table, we can now run a `SELECT` query against it and see the table is now there. "
   ]
  },
  {
   "cell_type": "code",
   "execution_count": null,
   "metadata": {
    "colab": {
     "base_uri": "https://localhost:8080/",
     "height": 49
    },
    "executionInfo": {
     "elapsed": 298,
     "status": "ok",
     "timestamp": 1667264173008,
     "user": {
      "displayName": "Daisy Wizda",
      "userId": "13343178402410361390"
     },
     "user_tz": 240
    },
    "id": "-hn-UPAmfqku",
    "outputId": "0b4f1501-c0c9-4a74-8dae-408e81c17966"
   },
   "outputs": [],
   "source": [
    "sql = \"\"\"\n",
    "SELECT * FROM CUSTOMER_PAYMENT\n",
    "\"\"\"\n",
    "\n",
    "pd.read_sql(sql, conn)\n"
   ]
  },
  {
   "cell_type": "markdown",
   "metadata": {
    "id": "RtsMCzVzrPMJ"
   },
   "source": [
    "If you ever need to delete a table, use the `DROP TABLE` command. This will only be allowed if no child records are pointed to this table. \n",
    "\n",
    "If you run this command (its execution is commented out on purpose), be sure to run the `CREATE TABLE` operation above again before proceeding. "
   ]
  },
  {
   "cell_type": "code",
   "execution_count": null,
   "metadata": {
    "executionInfo": {
     "elapsed": 229,
     "status": "ok",
     "timestamp": 1667264182833,
     "user": {
      "displayName": "Daisy Wizda",
      "userId": "13343178402410361390"
     },
     "user_tz": 240
    },
    "id": "d7ZAzBHTdaUw"
   },
   "outputs": [],
   "source": [
    "sql = \"\"\"\n",
    "DROP TABLE CUSTOMER_PAYMENT\n",
    "\"\"\"\n",
    "\n",
    "# conn.execute(sql)\n"
   ]
  },
  {
   "cell_type": "markdown",
   "metadata": {
    "id": "0DkCJ_2wrorL"
   },
   "source": [
    "## Writing Records with INSERT"
   ]
  },
  {
   "cell_type": "markdown",
   "metadata": {
    "id": "Na4-S52vrtJO"
   },
   "source": [
    "To insert a new record into a table, use the `INSERT` command. At minimum, you only need to provide the fields that have no default or null values. In this case, we only need to provide the `CUSTOMER_ORDER_ID` and the `RECEIVE_AMOUNT`. Note we signal those are the fields that will be provided in parantheses and then those `VALUES` are then provided in a second set of parantheses. "
   ]
  },
  {
   "cell_type": "code",
   "execution_count": null,
   "metadata": {
    "colab": {
     "base_uri": "https://localhost:8080/"
    },
    "executionInfo": {
     "elapsed": 162,
     "status": "ok",
     "timestamp": 1667264196624,
     "user": {
      "displayName": "Daisy Wizda",
      "userId": "13343178402410361390"
     },
     "user_tz": 240
    },
    "id": "3Xo4rq2nrtU7",
    "outputId": "b8e8e67e-b759-446b-c9d6-aeea0d43fc42"
   },
   "outputs": [],
   "source": [
    "sql = \"\"\"\n",
    "INSERT INTO CUSTOMER_PAYMENT (CUSTOMER_ORDER_ID, RECEIVE_AMOUNT)\n",
    "VALUES (1, 550)\n",
    "\"\"\"\n",
    "\n",
    "conn.execute(sql)\n"
   ]
  },
  {
   "cell_type": "markdown",
   "metadata": {
    "id": "qKCPPGLPtnwv"
   },
   "source": [
    "Now let's select from the `CUSTOMER_PAYMENT` table. "
   ]
  },
  {
   "cell_type": "code",
   "execution_count": null,
   "metadata": {
    "colab": {
     "base_uri": "https://localhost:8080/",
     "height": 81
    },
    "executionInfo": {
     "elapsed": 215,
     "status": "ok",
     "timestamp": 1667264201136,
     "user": {
      "displayName": "Daisy Wizda",
      "userId": "13343178402410361390"
     },
     "user_tz": 240
    },
    "id": "Aj8Pbc7Ctn2-",
    "outputId": "154d7c6b-4c25-4f52-cee3-522dd320df46"
   },
   "outputs": [],
   "source": [
    "sql = \"\"\"\n",
    "SELECT * FROM CUSTOMER_PAYMENT\n",
    "\"\"\"\n",
    "\n",
    "pd.read_sql(sql, conn)\n"
   ]
  },
  {
   "cell_type": "markdown",
   "metadata": {
    "id": "HliYHqoNu01k"
   },
   "source": [
    "The `CUSTOMER_PAYMENT_ID` is an `INTEGER` and a `PRIMARY KEY` so SQLite will automatically assign an incremental integer if one is not provided. starting at the number `1`. As we specified in the `CREATE TABLE` command earlier, the `RECEIVE_DATE` will default to today's date, and the `MEMO` does not have a `NOT NULL` constraint so it defaults to `NULL`. \n"
   ]
  },
  {
   "cell_type": "markdown",
   "metadata": {
    "id": "yQ9jLqDbzMMm"
   },
   "source": [
    "You can also batch insert several records by providing multiple rows after `VALUES`, separated by commans. "
   ]
  },
  {
   "cell_type": "code",
   "execution_count": null,
   "metadata": {
    "colab": {
     "base_uri": "https://localhost:8080/"
    },
    "executionInfo": {
     "elapsed": 181,
     "status": "ok",
     "timestamp": 1667264217849,
     "user": {
      "displayName": "Daisy Wizda",
      "userId": "13343178402410361390"
     },
     "user_tz": 240
    },
    "id": "kiYfwpRazPFS",
    "outputId": "218e54d1-690f-4063-eabc-5fe6c5c0f796"
   },
   "outputs": [],
   "source": [
    "sql = \"\"\"\n",
    "INSERT INTO CUSTOMER_PAYMENT (CUSTOMER_ORDER_ID, RECEIVE_DATE, RECEIVE_AMOUNT, MEMO) VALUES \n",
    "(2, '2020-05-01', 560, 'Thank you again!'), \n",
    "(4, '2020-05-05', 430, 'Payment 1 of 2'),\n",
    "(4, '2020-05-10', 270, 'Payment 2 of 2')\n",
    "\"\"\"\n",
    "\n",
    "conn.execute(sql)\n"
   ]
  },
  {
   "cell_type": "markdown",
   "metadata": {
    "id": "KLEW1Ha1zwfF"
   },
   "source": [
    "Run a `SELECT` query on `CUSTOMER_PAYMENT` and you will see the three additional records added. "
   ]
  },
  {
   "cell_type": "code",
   "execution_count": null,
   "metadata": {
    "colab": {
     "base_uri": "https://localhost:8080/",
     "height": 175
    },
    "executionInfo": {
     "elapsed": 187,
     "status": "ok",
     "timestamp": 1667264222104,
     "user": {
      "displayName": "Daisy Wizda",
      "userId": "13343178402410361390"
     },
     "user_tz": 240
    },
    "id": "Mh8GdR_nzwyc",
    "outputId": "1363756e-b063-4bf7-c452-fadc980c9388"
   },
   "outputs": [],
   "source": [
    "sql = \"\"\"\n",
    "SELECT * FROM CUSTOMER_PAYMENT\n",
    "\"\"\"\n",
    "\n",
    "pd.read_sql(sql, conn)\n"
   ]
  },
  {
   "cell_type": "markdown",
   "metadata": {
    "id": "VhBz3dnoVyFf"
   },
   "source": [
    "Note that Pandas has a convenient `to_sql()` function to quickly write a `DataFrame` to a given SQL table. Below we append three more records to our table but from a Pandas `DataFrame`. "
   ]
  },
  {
   "cell_type": "code",
   "execution_count": null,
   "metadata": {
    "executionInfo": {
     "elapsed": 232,
     "status": "ok",
     "timestamp": 1667264227919,
     "user": {
      "displayName": "Daisy Wizda",
      "userId": "13343178402410361390"
     },
     "user_tz": 240
    },
    "id": "iRof6CWjVyK3"
   },
   "outputs": [],
   "source": [
    "df = pd.DataFrame(data=[\n",
    "    (5, '2020-05-11', 610, 'Payment 1 of 3'),\n",
    "    (5, '2020-05-15', 500, 'Payment 2 of 3'),\n",
    "    (5, '2020-05-19', 450, 'Payment 3 of 3')\n",
    "    ],\n",
    "    columns=[\"CUSTOMER_ORDER_ID\", \"RECEIVE_DATE\", \"RECEIVE_AMOUNT\", \"MEMO\"]\n",
    ")\n",
    "\n",
    "df.to_sql(\"CUSTOMER_PAYMENT\",\n",
    "          conn,\n",
    "          if_exists=\"append\", index=False)\n"
   ]
  },
  {
   "cell_type": "markdown",
   "metadata": {
    "id": "mjww1mtWbV5S"
   },
   "source": [
    "> Never manually concatenate a SQL string together. If you need to construct a SQL string make sure to use question mark placeholders \"?\" and inject using the API. You can [read more in the SQLite documentation for Python](https://docs.python.org/3/library/sqlite3.html). "
   ]
  },
  {
   "cell_type": "markdown",
   "metadata": {
    "id": "i-pDmxqPvq66"
   },
   "source": [
    "## UPDATE and DELETE "
   ]
  },
  {
   "cell_type": "markdown",
   "metadata": {
    "id": "Y1JnSd62So8C"
   },
   "source": [
    "To update a record, use the `UPDATE` command followed by the targeted table for the changes. Then use the `SET` keyword to assign one or more fields (separated by commas) to a new value. \n",
    "\n",
    "Be sure to use a `WHERE` command if you are only targeting specific records. Otherwise it will update every record with those assignment changes. Below we update the `CUSTOMER_PAYMENT` record with `CUSTOMER_PAYMENT_ID` of `2` to have the `RECEIVE_AMOUNT` and `RECEIVE_DATE` values changed. "
   ]
  },
  {
   "cell_type": "code",
   "execution_count": null,
   "metadata": {
    "colab": {
     "base_uri": "https://localhost:8080/"
    },
    "executionInfo": {
     "elapsed": 188,
     "status": "ok",
     "timestamp": 1667264313342,
     "user": {
      "displayName": "Daisy Wizda",
      "userId": "13343178402410361390"
     },
     "user_tz": 240
    },
    "id": "CV_PJH5AvrAd",
    "outputId": "925e474e-b2ef-4772-c3f5-512472d51cf2"
   },
   "outputs": [],
   "source": [
    "sql = \"\"\"\n",
    "UPDATE CUSTOMER_PAYMENT SET RECEIVE_AMOUNT = 580, RECEIVE_DATE = '2020-05-05'\n",
    "WHERE CUSTOMER_PAYMENT_ID = 2\n",
    "\"\"\"\n",
    "\n",
    "conn.execute(sql)\n"
   ]
  },
  {
   "cell_type": "markdown",
   "metadata": {
    "id": "irMUbBPQVAmK"
   },
   "source": [
    "To delete one or more records, use a `DELETE` command with a `WHERE` condition targeting those records. Let's say we want to delete records where no `MEMO` was provided. A good practice is to preview records you want to delete with a `SELECT`. "
   ]
  },
  {
   "cell_type": "code",
   "execution_count": null,
   "metadata": {
    "colab": {
     "base_uri": "https://localhost:8080/",
     "height": 81
    },
    "executionInfo": {
     "elapsed": 175,
     "status": "ok",
     "timestamp": 1667264319321,
     "user": {
      "displayName": "Daisy Wizda",
      "userId": "13343178402410361390"
     },
     "user_tz": 240
    },
    "id": "LeQFLDy8VAtG",
    "outputId": "c01269d7-93d6-42cd-a4f4-edd3f83adf51"
   },
   "outputs": [],
   "source": [
    "sql = \"\"\"\n",
    "SELECT * FROM CUSTOMER_PAYMENT\n",
    "WHERE MEMO IS NULL \n",
    "\"\"\"\n",
    "\n",
    "pd.read_sql(sql, conn)\n"
   ]
  },
  {
   "cell_type": "markdown",
   "metadata": {
    "id": "0VYrIIgRVRfj"
   },
   "source": [
    "We can then use that `WHERE` condition with a `DELETE` command as demonstrated below. "
   ]
  },
  {
   "cell_type": "code",
   "execution_count": null,
   "metadata": {
    "colab": {
     "base_uri": "https://localhost:8080/"
    },
    "executionInfo": {
     "elapsed": 176,
     "status": "ok",
     "timestamp": 1667264324426,
     "user": {
      "displayName": "Daisy Wizda",
      "userId": "13343178402410361390"
     },
     "user_tz": 240
    },
    "id": "4-HMPvBvVRkh",
    "outputId": "8b72575b-dcb4-4261-87a8-2c1a36f383fb"
   },
   "outputs": [],
   "source": [
    "sql = \"\"\"\n",
    "DELETE FROM CUSTOMER_PAYMENT\n",
    "WHERE MEMO IS NULL \n",
    "\"\"\"\n",
    "\n",
    "conn.execute(sql)\n"
   ]
  },
  {
   "cell_type": "markdown",
   "metadata": {
    "id": "SwtKU8BiU05C"
   },
   "source": [
    "View the changes by running this query. "
   ]
  },
  {
   "cell_type": "code",
   "execution_count": null,
   "metadata": {
    "colab": {
     "base_uri": "https://localhost:8080/",
     "height": 238
    },
    "executionInfo": {
     "elapsed": 167,
     "status": "ok",
     "timestamp": 1667264344568,
     "user": {
      "displayName": "Daisy Wizda",
      "userId": "13343178402410361390"
     },
     "user_tz": 240
    },
    "id": "zocqngwRU0-g",
    "outputId": "397cc19c-1214-465a-bec6-5a0fe00cfce3"
   },
   "outputs": [],
   "source": [
    "sql = \"\"\"\n",
    "SELECT * FROM CUSTOMER_PAYMENT\n",
    "\"\"\"\n",
    "\n",
    "pd.read_sql(sql, conn)\n"
   ]
  },
  {
   "cell_type": "markdown",
   "metadata": {
    "id": "f_2-T-f3XLpL"
   },
   "source": [
    "## Transactions"
   ]
  },
  {
   "cell_type": "markdown",
   "metadata": {
    "id": "Z6g_oIKBXNwv"
   },
   "source": [
    "When you are making edits to a database, strongly consider doing so within a **transaction** which acts as a rewind button from the point a transaction is started. As a matter of fact, when you start making write operations like we did above, it already opened a transaction that has never been finalized. This means we need to `commit()` the changes we just made or else they will be lost the moment we close the database connection. Let's commit those changes now. \n",
    "\n"
   ]
  },
  {
   "cell_type": "code",
   "execution_count": null,
   "metadata": {
    "colab": {
     "base_uri": "https://localhost:8080/"
    },
    "executionInfo": {
     "elapsed": 308,
     "status": "ok",
     "timestamp": 1667264358600,
     "user": {
      "displayName": "Daisy Wizda",
      "userId": "13343178402410361390"
     },
     "user_tz": 240
    },
    "id": "0SpDQOCfYjjT",
    "outputId": "fc494f6d-91d3-43ba-f001-a85961e78ba3"
   },
   "outputs": [],
   "source": [
    "conn.execute(\"COMMIT\") "
   ]
  },
  {
   "cell_type": "markdown",
   "metadata": {
    "id": "bv9ZPYJBYmLI"
   },
   "source": [
    "The reason for this is if anything goes wrong whether we get an error, a power failure, a network error or other mishaps occur we need to restore the database at its last point of integrity. \n",
    "\n",
    "To manually start a transaction, you call it with SQL like this: "
   ]
  },
  {
   "cell_type": "code",
   "execution_count": null,
   "metadata": {
    "colab": {
     "base_uri": "https://localhost:8080/"
    },
    "executionInfo": {
     "elapsed": 153,
     "status": "ok",
     "timestamp": 1667264366381,
     "user": {
      "displayName": "Daisy Wizda",
      "userId": "13343178402410361390"
     },
     "user_tz": 240
    },
    "id": "yyhcWE5ajyrV",
    "outputId": "d3d5736d-4453-40b0-975f-0699104513af"
   },
   "outputs": [],
   "source": [
    "conn.execute(\"BEGIN TRANSACTION\") "
   ]
  },
  {
   "cell_type": "markdown",
   "metadata": {
    "id": "U66UHKl1jyxT"
   },
   "source": [
    "We are now in transaction mode. We can use a `try-except` to handle write operations and if anything goes wrong we can `ROLLBACK` otherwise we will `COMMIT`. Below is a successful transaction where two records are created successfully."
   ]
  },
  {
   "cell_type": "code",
   "execution_count": null,
   "metadata": {
    "executionInfo": {
     "elapsed": 187,
     "status": "ok",
     "timestamp": 1667264371370,
     "user": {
      "displayName": "Daisy Wizda",
      "userId": "13343178402410361390"
     },
     "user_tz": 240
    },
    "id": "eWQr_LB6XL25"
   },
   "outputs": [],
   "source": [
    "try: \n",
    "\n",
    "  conn.execute(\"INSERT INTO CUSTOMER_PAYMENT (CUSTOMER_ORDER_ID, RECEIVE_AMOUNT) VALUES (11, 720)\")\n",
    "  conn.execute(\"INSERT INTO CUSTOMER_PAYMENT (CUSTOMER_ORDER_ID, RECEIVE_AMOUNT) VALUES (12, 540)\")\n",
    "  \n",
    "  conn.execute(\"COMMIT\")\n",
    "\n",
    "except: \n",
    "  print(\"FAILED! Rolling back\")\n",
    "  conn.execute(\"ROLLBACK\")"
   ]
  },
  {
   "cell_type": "markdown",
   "metadata": {
    "id": "dWfhne5jc7nh"
   },
   "source": [
    "Now here is an example that fails. Note that the second `INSERT` is missing a value for the `RECEIVE_AMOUNT`. "
   ]
  },
  {
   "cell_type": "code",
   "execution_count": null,
   "metadata": {
    "colab": {
     "base_uri": "https://localhost:8080/"
    },
    "executionInfo": {
     "elapsed": 169,
     "status": "ok",
     "timestamp": 1667264377897,
     "user": {
      "displayName": "Daisy Wizda",
      "userId": "13343178402410361390"
     },
     "user_tz": 240
    },
    "id": "IMLgMcrxXq8Q",
    "outputId": "86b3dd98-bb4f-4a08-abe8-0930a17821e0"
   },
   "outputs": [],
   "source": [
    "conn.execute(\"BEGIN TRANSACTION\") \n",
    "\n",
    "try: \n",
    "\n",
    "  conn.execute(\"INSERT INTO CUSTOMER_PAYMENT (CUSTOMER_ORDER_ID, RECEIVE_AMOUNT) VALUES (15, 1020)\")\n",
    "  conn.execute(\"INSERT INTO CUSTOMER_PAYMENT (CUSTOMER_ORDER_ID, RECEIVE_AMOUNT) VALUES (17)\")\n",
    "  \n",
    "  conn.execute(\"COMMIT\")\n",
    "  \n",
    "except: \n",
    "  print(\"FAILED! Rolling back\")\n",
    "  conn.execute(\"ROLLBACK\")"
   ]
  },
  {
   "cell_type": "markdown",
   "metadata": {
    "id": "NTnQuyUGkTjM"
   },
   "source": [
    "The transaction will fail and roll back, meaning that first `INSERT` is rolled back and if you check the `CUSTOMER_PAYMENT` table, you should not see it there. "
   ]
  },
  {
   "cell_type": "code",
   "execution_count": null,
   "metadata": {
    "colab": {
     "base_uri": "https://localhost:8080/",
     "height": 300
    },
    "executionInfo": {
     "elapsed": 321,
     "status": "ok",
     "timestamp": 1667264384822,
     "user": {
      "displayName": "Daisy Wizda",
      "userId": "13343178402410361390"
     },
     "user_tz": 240
    },
    "id": "E5JxAWuAkWnZ",
    "outputId": "beae7c9b-6944-4ea3-f9be-c12cc179d1eb"
   },
   "outputs": [],
   "source": [
    "sql = \"\"\"\n",
    "SELECT * FROM CUSTOMER_PAYMENT\n",
    "\"\"\"\n",
    "\n",
    "pd.read_sql(sql, conn)\n"
   ]
  },
  {
   "cell_type": "markdown",
   "metadata": {
    "id": "QqQXr8-8kkkT"
   },
   "source": [
    "## Exercise "
   ]
  },
  {
   "cell_type": "markdown",
   "metadata": {
    "id": "_oDSbwJRkvPm"
   },
   "source": [
    "Complete the code below to insert the two records within a transaction into `CUSTOMER_PAYMENT` that commits on success, and rolls back on failure. Provide the `CUSTOMER_ORDER_ID`, `RECEIVE_DATE`, and `RECEIVE_AMOUNT`."
   ]
  },
  {
   "cell_type": "code",
   "execution_count": null,
   "metadata": {
    "id": "Brb4E4sNkvrh"
   },
   "outputs": [],
   "source": [
    "conn.execute(\"?\") \n",
    "\n",
    "try: \n",
    "\n",
    "  conn.execute(\"? INTO ? (?, ?, ?) VALUES (25, '2020-05-11',1090)\")\n",
    "  conn.execute(\"? INTO ? (?, ?, ?) VALUES (27, '2020-05-12',2070)\")\n",
    "  \n",
    "  conn.execute(\"?\")\n",
    "\n",
    "except: \n",
    "  print(\"FAILED! Rolling back\")\n",
    "  conn.execute(\"?\")\n",
    "\n",
    "# display results \n",
    "pd.read_sql(\"SELECT * FROM CUSTOMER_PAYMENT\", conn)\n"
   ]
  },
  {
   "cell_type": "markdown",
   "metadata": {
    "id": "Gb-jeI68l_Y7"
   },
   "source": [
    "\n",
    "\n",
    "### SCROLL DOWN FOR ANSWER\n",
    "|<br>\n",
    "|<br>\n",
    "|<br>\n",
    "|<br>\n",
    "|<br>\n",
    "|<br>\n",
    "|<br>\n",
    "|<br>\n",
    "|<br>\n",
    "|<br>\n",
    "|<br>\n",
    "|<br>\n",
    "|<br>\n",
    "|<br>\n",
    "|<br>\n",
    "|<br>\n",
    "|<br>\n",
    "|<br>\n",
    "|<br>\n",
    "|<br>\n",
    "|<br>\n",
    "|<br>\n",
    "|<br>\n",
    "v "
   ]
  },
  {
   "cell_type": "code",
   "execution_count": null,
   "metadata": {
    "colab": {
     "base_uri": "https://localhost:8080/",
     "height": 363
    },
    "executionInfo": {
     "elapsed": 218,
     "status": "ok",
     "timestamp": 1667264392193,
     "user": {
      "displayName": "Daisy Wizda",
      "userId": "13343178402410361390"
     },
     "user_tz": 240
    },
    "id": "g5GytZNlmACd",
    "outputId": "22269e4c-25db-4b8c-ccb5-25890deb2d22"
   },
   "outputs": [],
   "source": [
    "conn.execute(\"BEGIN TRANSACTION\") \n",
    "\n",
    "try: \n",
    "\n",
    "  conn.execute(\"INSERT INTO CUSTOMER_PAYMENT (CUSTOMER_ORDER_ID, RECEIVE_DATE, RECEIVE_AMOUNT) VALUES (25, '2020-05-11',1090)\")\n",
    "  conn.execute(\"INSERT INTO CUSTOMER_PAYMENT (CUSTOMER_ORDER_ID, RECEIVE_DATE, RECEIVE_AMOUNT) VALUES (27, '2020-05-12',2070)\")\n",
    "  \n",
    "  conn.execute(\"COMMIT\")\n",
    "\n",
    "except: \n",
    "  print(\"FAILED! Rolling back\")\n",
    "  conn.execute(\"ROLLBACK\")\n",
    "\n",
    "pd.read_sql(\"SELECT * FROM CUSTOMER_PAYMENT\", conn)\n"
   ]
  }
 ],
 "metadata": {
  "colab": {
   "collapsed_sections": [],
   "provenance": []
  },
  "kernelspec": {
   "display_name": "anaconda-2024.02-py310",
   "language": "python",
   "name": "conda-env-anaconda-2024.02-py310-py"
  },
  "language_info": {
   "codemirror_mode": {
    "name": "ipython",
    "version": 3
   },
   "file_extension": ".py",
   "mimetype": "text/x-python",
   "name": "python",
   "nbconvert_exporter": "python",
   "pygments_lexer": "ipython3",
   "version": "3.9.13"
  }
 },
 "nbformat": 4,
 "nbformat_minor": 4
}
