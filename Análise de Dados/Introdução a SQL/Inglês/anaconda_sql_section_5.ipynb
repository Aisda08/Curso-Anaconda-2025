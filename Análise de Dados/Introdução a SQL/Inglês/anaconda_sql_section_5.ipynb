{
 "cells": [
  {
   "cell_type": "markdown",
   "metadata": {
    "id": "n_6sKo8rCzYB"
   },
   "source": [
    "# Nulls, CASE Expressions"
   ]
  },
  {
   "cell_type": "markdown",
   "metadata": {
    "id": "_OeQJrGKC6yA"
   },
   "source": [
    "We will cover `NULL` values and `CASE` expressions in this section. A `NULL` value is no value, much like a `None` or `NaN` in Python indicates a blank value. The `CASE` expression allows us to pair conditions to resulting values, much like an `if`/`elif` in Python. \n",
    "\n",
    "We will cover both these operations in SQL. "
   ]
  },
  {
   "cell_type": "markdown",
   "metadata": {
    "id": "EN1nr-3_Dz8E"
   },
   "source": [
    "## Setup \n",
    "First get set up. Download the SQLite database file `company_operations.db` and connect to it. Also bring in `pandas` to display our SQL query results as a `DataFrame`. "
   ]
  },
  {
   "cell_type": "code",
   "execution_count": null,
   "metadata": {
    "id": "Qfh9tJB5XjWN"
   },
   "outputs": [],
   "source": [
    "import sqlite3\n",
    "import pandas as pd\n",
    "import urllib.request\n",
    "\n",
    "# download SQLite database and connect to it \n",
    "urllib.request.urlretrieve(\"https://github.com/thomasnield/anaconda_intro_to_sql/blob/main/company_operations.db?raw=true\", \"company_operations.db\")\n",
    "conn = sqlite3.connect('company_operations.db')"
   ]
  },
  {
   "cell_type": "markdown",
   "metadata": {
    "id": "WpnxGEuRD5Ia"
   },
   "source": [
    "## NULL Values"
   ]
  },
  {
   "cell_type": "markdown",
   "metadata": {
    "id": "mAB2r6lTEByP"
   },
   "source": [
    "Let's take a look at the `WEATHER_MONITOR` table. Sample these four records. \n"
   ]
  },
  {
   "cell_type": "code",
   "execution_count": null,
   "metadata": {
    "id": "eCHjhBjSEB4e"
   },
   "outputs": [],
   "source": [
    "sql = \"\"\"\n",
    "SELECT * FROM WEATHER_MONITOR \n",
    "WHERE REPORT_CODE IN ('LJVE08D', 'EP4AKZR', '1FC27OH', 'F4DEAK3') \n",
    "\"\"\"\n",
    "\n",
    "pd.read_sql(sql, conn)\n"
   ]
  },
  {
   "cell_type": "markdown",
   "metadata": {
    "id": "vgve_x_nXsKy"
   },
   "source": [
    "Note how some columns have values that are `NaN` or `None`, which indicate a `NULL` value. A null value is blank, meaning no value has been provided (not to be confused with `0` which is a value or an empty string `''`). \n",
    "\n",
    "Note that SQL databases will have `NULL` for blank values, but Pandas will re-interpret them as `None` or `NaN` depending if the column is numeric or not. \n",
    "\n",
    "If we have null values for rain, it might indicate that rain recordings were not possible because the instruments were broken. The same goes for the `SNOW` and other fields that are nullable. \n",
    "\n",
    "To qualify a null value, use `IS NULL`. Below we find records without a recorded `RAIN` measurement. "
   ]
  },
  {
   "cell_type": "code",
   "execution_count": null,
   "metadata": {
    "id": "2Pmb_t_IYBUs"
   },
   "outputs": [],
   "source": [
    "sql = \"\"\"\n",
    "SELECT * FROM WEATHER_MONITOR \n",
    "WHERE RAIN IS NULL \n",
    "\"\"\"\n",
    "\n",
    "pd.read_sql(sql, conn)\n"
   ]
  },
  {
   "cell_type": "markdown",
   "metadata": {
    "id": "nzqXsAY1YDw-"
   },
   "source": [
    "To qualify records that are not null, qualify with `IS NOT NULL`. \n"
   ]
  },
  {
   "cell_type": "code",
   "execution_count": null,
   "metadata": {
    "id": "IquI5kxUYHsX"
   },
   "outputs": [],
   "source": [
    "sql = \"\"\"\n",
    "SELECT * FROM WEATHER_MONITOR \n",
    "WHERE RAIN IS NOT NULL \n",
    "\"\"\"\n",
    "\n",
    "pd.read_sql(sql, conn)\n"
   ]
  },
  {
   "cell_type": "markdown",
   "metadata": {
    "id": "CPyLqv1_YQnI"
   },
   "source": [
    "Note that if you do not handle `NULL` values explicitly in your `WHERE` condition on a given column, then `NULL` values will always be omitted. For example, if we qualify for records where `RAIN > 0` then the `NULL` values will be omitted. "
   ]
  },
  {
   "cell_type": "code",
   "execution_count": null,
   "metadata": {
    "id": "GYl8KjshYRVq"
   },
   "outputs": [],
   "source": [
    "sql = \"\"\"\n",
    "SELECT * FROM WEATHER_MONITOR \n",
    "WHERE RAIN > 0 \n",
    "\"\"\"\n",
    "\n",
    "pd.read_sql(sql, conn)\n"
   ]
  },
  {
   "cell_type": "markdown",
   "metadata": {
    "id": "JqU4CHbzYSuu"
   },
   "source": [
    "If you want to include `NULL` values in your condition, explicitly allow for `NULL`. "
   ]
  },
  {
   "cell_type": "code",
   "execution_count": null,
   "metadata": {
    "id": "UREKIv1iJN6g"
   },
   "outputs": [],
   "source": [
    "sql = \"\"\"\n",
    "SELECT * FROM WEATHER_MONITOR \n",
    "WHERE RAIN IS NULL OR RAIN > 0 \n",
    "\"\"\"\n",
    "\n",
    "pd.read_sql(sql, conn)\n"
   ]
  },
  {
   "cell_type": "markdown",
   "metadata": {
    "id": "YXX8RSF4Yiww"
   },
   "source": [
    "A helpful function to know by heart is `COALESCE()`. It will take a possibly `NULL` value and convert it to a different value if it is indeed `NULL`. Otherwise it will leave the value alone. \n",
    "\n",
    "The first argument for `COALESCE()` is the value that might be `NULL`. The second argument is the value to translate it into if it is indeed `NULL`. We can treat all `RAIN` values that are `NULL` as `0` in the `COALESCE()` below. "
   ]
  },
  {
   "cell_type": "code",
   "execution_count": null,
   "metadata": {
    "id": "SEDWXPPgYkj-"
   },
   "outputs": [],
   "source": [
    "sql = \"\"\"\n",
    "SELECT * FROM WEATHER_MONITOR \n",
    "WHERE COALESCE(RAIN,0) > 0 \n",
    "\"\"\"\n",
    "\n",
    "pd.read_sql(sql, conn)\n"
   ]
  },
  {
   "cell_type": "markdown",
   "metadata": {
    "id": "fFMUxabHYnKh"
   },
   "source": [
    "As another example, to turn missing `RAIN` values into `-1`, we can use the `COALESCE` like this. "
   ]
  },
  {
   "cell_type": "code",
   "execution_count": null,
   "metadata": {
    "id": "EV6sV0a5YpMu"
   },
   "outputs": [],
   "source": [
    "sql = \"\"\"\n",
    "SELECT REPORT_CODE, \n",
    "RAIN, \n",
    "COALESCE(RAIN,-1) AS COALESCED_RAIN \n",
    "\n",
    "FROM WEATHER_MONITOR \n",
    "WHERE REPORT_CODE IN ('G0UINBG', 'PJVNOSP')\n",
    "\"\"\"\n",
    "\n",
    "pd.read_sql(sql, conn)\n"
   ]
  },
  {
   "cell_type": "markdown",
   "metadata": {
    "id": "E3fo9gD9JY1u"
   },
   "source": [
    "## CASE Expression"
   ]
  },
  {
   "cell_type": "markdown",
   "metadata": {
    "id": "yE1s3sIFJajG"
   },
   "source": [
    "Take a look at the `TEMPERATURE` field in the table. "
   ]
  },
  {
   "cell_type": "code",
   "execution_count": null,
   "metadata": {
    "id": "2VxbPgK3JZ-C"
   },
   "outputs": [],
   "source": [
    "sql = \"\"\"\n",
    "SELECT REPORT_CODE, TEMPERATURE\n",
    "FROM WEATHER_MONITOR\n",
    "\"\"\"\n",
    "\n",
    "pd.read_sql(sql, conn)\n"
   ]
  },
  {
   "cell_type": "markdown",
   "metadata": {
    "id": "zmkUZ5g1JyrS"
   },
   "source": [
    "Let's say we wanted to categorize each temperature as `HOT`, `MILD` or `COLD`. To do this we would have to use a `CASE` expression and attach a condition to each label. Let's demonstrate: "
   ]
  },
  {
   "cell_type": "code",
   "execution_count": null,
   "metadata": {
    "id": "26z68xr0KT00"
   },
   "outputs": [],
   "source": [
    "sql = \"\"\"\n",
    "SELECT REPORT_CODE, \n",
    "TEMPERATURE,\n",
    "\n",
    "CASE \n",
    "  WHEN TEMPERATURE >= 78 THEN 'HOT'\n",
    "  WHEN TEMPERATURE >= 60 THEN 'MILD'\n",
    "  ELSE 'COLD'\n",
    "END AS TEMPERATURE_LABEL\n",
    "\n",
    "FROM WEATHER_MONITOR\n",
    "\"\"\"\n",
    "\n",
    "pd.read_sql(sql, conn)\n"
   ]
  },
  {
   "cell_type": "markdown",
   "metadata": {
    "id": "MphXZZnELlUy"
   },
   "source": [
    "Note how we use a `CASE` to open up the `CASE` expression. Each `WHEN` specifies a condition and `THEN` specifies the resulting value if that condition is true. Each condition is evaluted from top-to-bottom, and the first one found to be true is the one that will be chosen. An `ELSE` can optionally be appended to specifiy a default value if all the other conditions fail to be met. In this case, we establish any other record as `COLD` since we already deducted it is not `HOT` or `MILD`. \n",
    "\n",
    "However, you have to be careful about `NULL` values if they are present in a column. If you use an `ELSE` on the `TEMPERATURE` field, and that field happens to have `NULL` values (there are three), then they will be labelled as `NULL`. A better way to handle the `NULL` values might be to have an explicit condition for `COLD`, and then make the `ELSE` the catch-all for anomolies like `NULL` and label them `N/A`. "
   ]
  },
  {
   "cell_type": "code",
   "execution_count": null,
   "metadata": {
    "id": "FhisJCy8Kr_n"
   },
   "outputs": [],
   "source": [
    "sql = \"\"\"\n",
    "SELECT REPORT_CODE, \n",
    "TEMPERATURE,\n",
    "\n",
    "CASE \n",
    "  WHEN TEMPERATURE >= 78 THEN 'HOT'\n",
    "  WHEN TEMPERATURE >= 60 THEN 'MILD'\n",
    "  WHEN TEMPERATURE < 60 THEN 'COLD'\n",
    "  ELSE 'N/A'\n",
    "END AS TEMPERATURE_LABEL\n",
    "\n",
    "FROM WEATHER_MONITOR\n",
    "\"\"\"\n",
    "\n",
    "pd.read_sql(sql, conn)\n"
   ]
  },
  {
   "cell_type": "markdown",
   "metadata": {
    "id": "0noXV9spK35z"
   },
   "source": [
    "With a `CASE` expression, you can now do more interesting aggregations on fields that were not available before. For example, we can get a `COUNT` of the number records broken up by `TEMPERATURE_LABEL`. "
   ]
  },
  {
   "cell_type": "code",
   "execution_count": null,
   "metadata": {
    "id": "oTJqjY7kK5JE"
   },
   "outputs": [],
   "source": [
    "sql = \"\"\"\n",
    "SELECT \n",
    "\n",
    "CASE \n",
    "  WHEN TEMPERATURE >= 78 THEN 'HOT'\n",
    "  WHEN TEMPERATURE >= 60 THEN 'MILD'\n",
    "  WHEN TEMPERATURE < 60 THEN 'COLD'\n",
    "  ELSE 'N/A'\n",
    "END AS TEMPERATURE_LABEL,\n",
    "\n",
    "COUNT(*) AS RECORD_COUNT\n",
    "\n",
    "FROM WEATHER_MONITOR\n",
    "\n",
    "GROUP BY TEMPERATURE_LABEL\n",
    "\"\"\"\n",
    "\n",
    "pd.read_sql(sql, conn)\n"
   ]
  },
  {
   "cell_type": "markdown",
   "metadata": {
    "id": "b9M14ramNA2S"
   },
   "source": [
    "As a sidenote, you might have figured out that the `COALESCE` is a shorthand `CASE` expression to convert `NULL` values. Take our previous example showing the coalesced `RAIN` values. "
   ]
  },
  {
   "cell_type": "code",
   "execution_count": null,
   "metadata": {
    "id": "6bGO8VLkNBEj"
   },
   "outputs": [],
   "source": [
    "sql = \"\"\"\n",
    "SELECT REPORT_CODE, \n",
    "RAIN, \n",
    "COALESCE(RAIN,-1) AS COALESCED_RAIN \n",
    "\n",
    "FROM WEATHER_MONITOR \n",
    "WHERE REPORT_CODE IN ('G0UINBG', 'PJVNOSP')\n",
    "\"\"\"\n",
    "\n",
    "pd.read_sql(sql, conn)\n"
   ]
  },
  {
   "cell_type": "markdown",
   "metadata": {
    "id": "KSL6SD6iNQLg"
   },
   "source": [
    "We can express this using a `CASE` expression. "
   ]
  },
  {
   "cell_type": "code",
   "execution_count": null,
   "metadata": {
    "id": "fHJSWVmKNQSw"
   },
   "outputs": [],
   "source": [
    "sql = \"\"\"\n",
    "SELECT REPORT_CODE, \n",
    "RAIN, \n",
    "CASE WHEN RAIN IS NULL THEN -1 ELSE RAIN END AS COALESCED_RAIN \n",
    "\n",
    "FROM WEATHER_MONITOR \n",
    "WHERE REPORT_CODE IN ('G0UINBG', 'PJVNOSP')\n",
    "\"\"\"\n",
    "\n",
    "pd.read_sql(sql, conn)\n"
   ]
  },
  {
   "cell_type": "markdown",
   "metadata": {
    "id": "_Ej0LkgjM6hr"
   },
   "source": [
    "## The NULL Case Trick "
   ]
  },
  {
   "cell_type": "markdown",
   "metadata": {
    "id": "VsKdGTkaNqhc"
   },
   "source": [
    "Let's say you calculate the total rain broken up by `YEAR` and `MONTH`, only for the `YEAR` 2021. "
   ]
  },
  {
   "cell_type": "code",
   "execution_count": null,
   "metadata": {
    "id": "foD16J6_M7US"
   },
   "outputs": [],
   "source": [
    "sql = \"\"\"\n",
    "SELECT \n",
    "CAST(strftime('%Y', REPORT_DATE) AS INTEGER) AS YEAR, \n",
    "CAST(strftime('%m', REPORT_DATE) AS INTEGER) AS MONTH, \n",
    "\n",
    "SUM(RAIN) AS TOTAL_RAIN\n",
    "\n",
    "FROM WEATHER_MONITOR \n",
    "\n",
    "GROUP BY YEAR, MONTH\n",
    "\"\"\"\n",
    "\n",
    "pd.read_sql(sql, conn)\n"
   ]
  },
  {
   "cell_type": "markdown",
   "metadata": {
    "id": "_Qg5WuZcOpg6"
   },
   "source": [
    "Now you want to break up that `TOTAL_RAIN` column into two columns, one for when a `TORNADO` was present and one for when there was not. What's the problem here? "
   ]
  },
  {
   "cell_type": "code",
   "execution_count": null,
   "metadata": {
    "id": "1qwUCDRBO2Tz"
   },
   "outputs": [],
   "source": [
    "sql = \"\"\"\n",
    "SELECT \n",
    "CAST(strftime('%Y', REPORT_DATE) AS INTEGER) AS YEAR, \n",
    "CAST(strftime('%m', REPORT_DATE) AS INTEGER) AS MONTH, \n",
    "\n",
    "SUM(RAIN) AS TOTAL_TORNADO_RAIN,\n",
    "SUM(RAIN) AS TOTAL_NON_TORNADO_RAIN\n",
    "\n",
    "FROM WEATHER_MONITOR \n",
    "\n",
    "WHERE TORNADO = 1 \n",
    "AND YEAR = 2021\n",
    "\n",
    "GROUP BY YEAR, MONTH\n",
    "\"\"\"\n",
    "\n",
    "pd.read_sql(sql, conn)\n"
   ]
  },
  {
   "cell_type": "markdown",
   "metadata": {
    "id": "kZhg6B8cPBjm"
   },
   "source": [
    "That `WHERE` condition inconveniently commits you to `TORNADO` being 1 or 0, but not both for each column. But you can get around this using a `CASE` expression and putting the respective conditions there. Observe below how we intercept the values going into each `SUM()` by checking for the `TORNADO` condition, and if it fails then we add a `0` to the `SUM` instead. Clever, right? "
   ]
  },
  {
   "cell_type": "code",
   "execution_count": null,
   "metadata": {
    "id": "bMNnd-HSPBqT"
   },
   "outputs": [],
   "source": [
    "sql = \"\"\"\n",
    "SELECT \n",
    "CAST(strftime('%Y', REPORT_DATE) AS INTEGER) AS YEAR, \n",
    "CAST(strftime('%m', REPORT_DATE) AS INTEGER) AS MONTH, \n",
    "\n",
    "SUM(CASE WHEN TORNADO = 1 THEN RAIN ELSE 0 END) AS TOTAL_TORNADO_RAIN,\n",
    "SUM(CASE WHEN TORNADO = 0 THEN RAIN ELSE 0 END) AS TOTAL_NON_TORNADO_RAIN\n",
    "\n",
    "FROM WEATHER_MONITOR \n",
    "\n",
    "WHERE YEAR = 2021 \n",
    "\n",
    "GROUP BY YEAR, MONTH\n",
    "\"\"\"\n",
    "\n",
    "pd.read_sql(sql, conn)\n"
   ]
  },
  {
   "cell_type": "markdown",
   "metadata": {
    "id": "rl5uxVYpQE_A"
   },
   "source": [
    "However, a `0` for the false condition can be problematic for other aggregation operations like `MIN`, `MAX`, `AVG` and `COUNT` as it will affect those calculations unlike `SUM`. You can instead use `NULL` as it will get ignored by all the aggregation operators, including `SUM`. "
   ]
  },
  {
   "cell_type": "code",
   "execution_count": null,
   "metadata": {
    "id": "8FYUHiKuQFES"
   },
   "outputs": [],
   "source": [
    "sql = \"\"\"\n",
    "SELECT \n",
    "CAST(strftime('%Y', REPORT_DATE) AS INTEGER) AS YEAR, \n",
    "CAST(strftime('%m', REPORT_DATE) AS INTEGER) AS MONTH, \n",
    "\n",
    "SUM(CASE WHEN TORNADO = 1 THEN RAIN ELSE NULL END) AS AVG_TORNADO_RAIN,\n",
    "SUM(CASE WHEN TORNADO = 0 THEN RAIN ELSE NULL END) AS AVG_NON_TORNADO_RAIN\n",
    "\n",
    "FROM WEATHER_MONITOR \n",
    "\n",
    "WHERE YEAR = 2021 \n",
    "\n",
    "GROUP BY YEAR, MONTH\n",
    "\"\"\"\n",
    "\n",
    "pd.read_sql(sql, conn)\n"
   ]
  },
  {
   "cell_type": "markdown",
   "metadata": {
    "id": "FnAmyUmVSIzX"
   },
   "source": [
    "Few people who are using `SQL` know this trick, and it can save many messy queries and derived tables. Use it liberally! "
   ]
  },
  {
   "cell_type": "markdown",
   "metadata": {
    "id": "OdXLiukSSTry"
   },
   "source": [
    "## EXERCISE\n",
    "\n",
    "For each `LOCATION_ID`, calculate the previous year total rain `PY_RAIN` and current year total rain `CY_RAIN`. Replace the question marks `?` and assume 2021 is the current year. "
   ]
  },
  {
   "cell_type": "code",
   "execution_count": null,
   "metadata": {
    "id": "Q0d_bwIQSbtG"
   },
   "outputs": [],
   "source": [
    "sql = \"\"\"\n",
    "SELECT \n",
    "\n",
    "LOCATION_ID,\n",
    "\n",
    "SUM(\n",
    "  CASE WHEN CAST(strftime('%Y', REPORT_DATE) AS INTEGER) = ? THEN ? ELSE ? END\n",
    ") AS CY_RAIN,\n",
    "\n",
    "SUM(\n",
    "  CASE WHEN CAST(strftime('%Y', REPORT_DATE) AS INTEGER) = ? THEN ? ELSE ? END\n",
    ") AS PY_RAIN\n",
    "\n",
    "FROM WEATHER_MONITOR \n",
    "\n",
    "WHERE CAST(strftime('%Y', REPORT_DATE) AS INTEGER) IN (2020, 2021)\n",
    "\n",
    "GROUP BY LOCATION_ID\n",
    "\"\"\"\n",
    "\n",
    "pd.read_sql(sql, conn)\n"
   ]
  },
  {
   "cell_type": "markdown",
   "metadata": {
    "id": "yQOqMtj6SQxq"
   },
   "source": [
    "\n",
    "\n",
    "### SCROLL DOWN FOR ANSWER\n",
    "|<br>\n",
    "|<br>\n",
    "|<br>\n",
    "|<br>\n",
    "|<br>\n",
    "|<br>\n",
    "|<br>\n",
    "|<br>\n",
    "|<br>\n",
    "|<br>\n",
    "|<br>\n",
    "|<br>\n",
    "|<br>\n",
    "|<br>\n",
    "|<br>\n",
    "|<br>\n",
    "|<br>\n",
    "|<br>\n",
    "|<br>\n",
    "|<br>\n",
    "|<br>\n",
    "|<br>\n",
    "|<br>\n",
    "v "
   ]
  },
  {
   "cell_type": "code",
   "execution_count": null,
   "metadata": {
    "id": "zJcTI_MzUJgy"
   },
   "outputs": [],
   "source": [
    "sql = \"\"\"\n",
    "SELECT \n",
    "\n",
    "LOCATION_ID,\n",
    "\n",
    "SUM(\n",
    "  CASE WHEN CAST(strftime('%Y', REPORT_DATE) AS INTEGER) = 2021 THEN RAIN ELSE 0 END\n",
    ") AS CY_RAIN,\n",
    "\n",
    "SUM(\n",
    "  CASE WHEN CAST(strftime('%Y', REPORT_DATE) AS INTEGER) = 2020 THEN RAIN ELSE 0 END\n",
    ") AS PY_RAIN\n",
    "\n",
    "FROM WEATHER_MONITOR \n",
    "\n",
    "WHERE CAST(strftime('%Y', REPORT_DATE) AS INTEGER) IN (2020, 2021)\n",
    "\n",
    "GROUP BY LOCATION_ID\n",
    "\"\"\"\n",
    "\n",
    "pd.read_sql(sql, conn)\n"
   ]
  }
 ],
 "metadata": {
  "colab": {
   "collapsed_sections": [],
   "provenance": []
  },
  "kernelspec": {
   "display_name": "anaconda-2024.02-py310",
   "language": "python",
   "name": "conda-env-anaconda-2024.02-py310-py"
  },
  "language_info": {
   "codemirror_mode": {
    "name": "ipython",
    "version": 3
   },
   "file_extension": ".py",
   "mimetype": "text/x-python",
   "name": "python",
   "nbconvert_exporter": "python",
   "pygments_lexer": "ipython3",
   "version": "3.9.13"
  }
 },
 "nbformat": 4,
 "nbformat_minor": 4
}
