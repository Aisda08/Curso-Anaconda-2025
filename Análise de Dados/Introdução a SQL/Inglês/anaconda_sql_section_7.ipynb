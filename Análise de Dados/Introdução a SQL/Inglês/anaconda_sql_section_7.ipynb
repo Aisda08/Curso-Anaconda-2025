{
 "cells": [
  {
   "cell_type": "markdown",
   "metadata": {
    "id": "53hcDPVqHlob"
   },
   "source": [
    "# Subqueries and Common Table Expressions"
   ]
  },
  {
   "cell_type": "markdown",
   "metadata": {
    "id": "P8qE9CFhHqDc"
   },
   "source": [
    "Hopefully by now you are somewhat comfortable with joins, particularly the `INNER JOIN` and `LEFT JOIN`. While joins are a core skill, SQL becomes incredibly flexible and powerful when you learn subqueries, derived tables, and common table expressions. By using these operations you may discover SQL can declaritvely expression logic and tasks you might previous have thought not possible."
   ]
  },
  {
   "cell_type": "markdown",
   "metadata": {
    "id": "eQue4RLXIFYs"
   },
   "source": [
    "## Setup\n",
    "\n",
    "First get set up. Download the SQLite database file `company_operations.db` and connect to it. Also bring in `pandas` to display our SQL query results as a `DataFrame`. "
   ]
  },
  {
   "cell_type": "code",
   "execution_count": null,
   "metadata": {
    "executionInfo": {
     "elapsed": 2292,
     "status": "ok",
     "timestamp": 1667263786292,
     "user": {
      "displayName": "Daisy Wizda",
      "userId": "13343178402410361390"
     },
     "user_tz": 240
    },
    "id": "mkcb6NmAHi39"
   },
   "outputs": [],
   "source": [
    "import sqlite3\n",
    "import pandas as pd\n",
    "import urllib.request\n",
    "\n",
    "# download SQLite database and connect to it \n",
    "urllib.request.urlretrieve(\"https://github.com/thomasnield/anaconda_intro_to_sql/blob/main/company_operations.db?raw=true\", \"company_operations.db\")\n",
    "conn = sqlite3.connect('company_operations.db')"
   ]
  },
  {
   "cell_type": "markdown",
   "metadata": {
    "id": "pbo0ZEdLIHQW"
   },
   "source": [
    "## Scalar Subqueries"
   ]
  },
  {
   "cell_type": "markdown",
   "metadata": {
    "id": "oYAp039AIMEY"
   },
   "source": [
    "Let's find the maximum `ORDER_DATE` that exists in the `CUSTOMER_ORDER` table. "
   ]
  },
  {
   "cell_type": "code",
   "execution_count": null,
   "metadata": {
    "colab": {
     "base_uri": "https://localhost:8080/",
     "height": 81
    },
    "executionInfo": {
     "elapsed": 489,
     "status": "ok",
     "timestamp": 1667263791317,
     "user": {
      "displayName": "Daisy Wizda",
      "userId": "13343178402410361390"
     },
     "user_tz": 240
    },
    "id": "PZpVThtDIMQ5",
    "outputId": "a4b626b9-d40d-420f-910b-b57d88870e08"
   },
   "outputs": [],
   "source": [
    "sql = \"\"\"\n",
    "SELECT MAX(ORDER_DATE) FROM CUSTOMER_ORDER\n",
    "\"\"\"\n",
    "\n",
    "pd.read_sql(sql, conn)\n"
   ]
  },
  {
   "cell_type": "markdown",
   "metadata": {
    "id": "LtTTWLpFJlSH"
   },
   "source": [
    "Now let's say we want to get all the `CUSTOMER_ORDER` records for that latest `ORDER_DATE`. Instead of hard-coding that value as a literal, we can embed that first query as a **subquery** which is a query within a query. In this case, it is a **scalar subquery** because it returns a single value. \n"
   ]
  },
  {
   "cell_type": "code",
   "execution_count": null,
   "metadata": {
    "colab": {
     "base_uri": "https://localhost:8080/",
     "height": 802
    },
    "executionInfo": {
     "elapsed": 213,
     "status": "ok",
     "timestamp": 1667263804353,
     "user": {
      "displayName": "Daisy Wizda",
      "userId": "13343178402410361390"
     },
     "user_tz": 240
    },
    "id": "jzcqVXdOJ1Xp",
    "outputId": "d014e295-52e5-4a77-b94d-cdc5485baa42"
   },
   "outputs": [],
   "source": [
    "sql = \"\"\"\n",
    "SELECT * FROM CUSTOMER_ORDER\n",
    "WHERE ORDER_DATE = (SELECT MAX(ORDER_DATE) FROM CUSTOMER_ORDER)\n",
    "\"\"\"\n",
    "\n",
    "pd.read_sql(sql, conn)\n"
   ]
  },
  {
   "cell_type": "markdown",
   "metadata": {
    "id": "RLTNZ_YiLP0O"
   },
   "source": [
    "## Array Subqueries "
   ]
  },
  {
   "cell_type": "markdown",
   "metadata": {
    "id": "URAfvjQ0LebB"
   },
   "source": [
    "Let's say you wanted to get all `CUSTOMER_ORDER` records for customers that are in the `STATE` of \"TX\". We could achieve this using an `INNER JOIN` but let's try doing this in a slightly simpler (and possibly more efficient) way. \n",
    "\n",
    "First let's get a single column of `CUSTOMER_ID` for customers in the `STATE` of \"TX\". "
   ]
  },
  {
   "cell_type": "code",
   "execution_count": null,
   "metadata": {
    "colab": {
     "base_uri": "https://localhost:8080/",
     "height": 206
    },
    "executionInfo": {
     "elapsed": 282,
     "status": "ok",
     "timestamp": 1667263822772,
     "user": {
      "displayName": "Daisy Wizda",
      "userId": "13343178402410361390"
     },
     "user_tz": 240
    },
    "id": "5ZDFw87iLynC",
    "outputId": "071eb292-413a-4d6b-b15f-b62c93317008"
   },
   "outputs": [],
   "source": [
    "sql = \"\"\"\n",
    "SELECT CUSTOMER_ID FROM CUSTOMER WHERE STATE = 'TX'\n",
    "\"\"\"\n",
    "\n",
    "pd.read_sql(sql, conn)\n"
   ]
  },
  {
   "cell_type": "markdown",
   "metadata": {
    "id": "T0cT0R-0MDzZ"
   },
   "source": [
    "We can then embed this as a subquery into an `IN` operation. This is known as an **array subquery** because it returns a list of values. "
   ]
  },
  {
   "cell_type": "code",
   "execution_count": null,
   "metadata": {
    "colab": {
     "base_uri": "https://localhost:8080/",
     "height": 424
    },
    "executionInfo": {
     "elapsed": 212,
     "status": "ok",
     "timestamp": 1667263829277,
     "user": {
      "displayName": "Daisy Wizda",
      "userId": "13343178402410361390"
     },
     "user_tz": 240
    },
    "id": "iqVRzrmXLekJ",
    "outputId": "08ae5046-63b6-406f-8a61-058dbea52902"
   },
   "outputs": [],
   "source": [
    "sql = \"\"\"\n",
    "SELECT * FROM CUSTOMER_ORDER\n",
    "\n",
    "WHERE CUSTOMER_ID IN (SELECT CUSTOMER_ID FROM CUSTOMER WHERE STATE = 'TX')\n",
    "\"\"\"\n",
    "\n",
    "pd.read_sql(sql, conn)\n"
   ]
  },
  {
   "cell_type": "markdown",
   "metadata": {
    "id": "ZTud_w8pMLnM"
   },
   "source": [
    "Another common task for array subqueries is getting parent records without any children, such as `CUSTOMER` records without any `CUSTOMER_ORDER` records. We can qualify a `DISTINCT` set of `CUSTOMER_ID` values from the `CUSTOMER_ORDER` table (removing any duplicates) and check for `CUSTOMER` records whose `CUSTOMER_ID` is not present. \n",
    "\n",
    "In this case, we should only get one `CUSTOMER` that does not have any `CUSTOMER_ORDER` records. "
   ]
  },
  {
   "cell_type": "code",
   "execution_count": null,
   "metadata": {
    "colab": {
     "base_uri": "https://localhost:8080/",
     "height": 81
    },
    "executionInfo": {
     "elapsed": 302,
     "status": "ok",
     "timestamp": 1667263844788,
     "user": {
      "displayName": "Daisy Wizda",
      "userId": "13343178402410361390"
     },
     "user_tz": 240
    },
    "id": "R8T9hxXYMLtA",
    "outputId": "de3eff0b-64f1-40d0-a51c-c888d6529389"
   },
   "outputs": [],
   "source": [
    "sql = \"\"\"\n",
    "SELECT * FROM CUSTOMER\n",
    "\n",
    "WHERE CUSTOMER_ID NOT IN (SELECT DISTINCT CUSTOMER_ID FROM CUSTOMER_ORDER)\n",
    "\"\"\"\n",
    "\n",
    "pd.read_sql(sql, conn)\n"
   ]
  },
  {
   "cell_type": "markdown",
   "metadata": {
    "id": "ggNFI_ZKLMS-"
   },
   "source": [
    "## Correlated Subqueries"
   ]
  },
  {
   "cell_type": "markdown",
   "metadata": {
    "id": "YE37RFOMLMgu"
   },
   "source": [
    "We can use **correlated subqueries** to have a subqery reference the outer query's fields. For example, we can show the `CUSTOMER_ORDER` records but also calculate the average quantity ordered for all records sharing that record's `CUSTOMER_ID` and `PRODUCT_ID`. Note that `CUSTOMER_ORDER` is being used in two contexts: the inner query aliased as `co2` and the outer query aliased as `co1`. "
   ]
  },
  {
   "cell_type": "code",
   "execution_count": null,
   "metadata": {
    "colab": {
     "base_uri": "https://localhost:8080/",
     "height": 424
    },
    "executionInfo": {
     "elapsed": 330,
     "status": "ok",
     "timestamp": 1667263859631,
     "user": {
      "displayName": "Daisy Wizda",
      "userId": "13343178402410361390"
     },
     "user_tz": 240
    },
    "id": "33IPSGEuNKWr",
    "outputId": "a272a2fd-b3a0-4e9f-a45b-89f92b4d4473"
   },
   "outputs": [],
   "source": [
    "sql = \"\"\"\n",
    "SELECT CUSTOMER_ORDER_ID, \n",
    "CUSTOMER_ID,\n",
    "ORDER_DATE,\n",
    "PRODUCT_ID,\n",
    "QUANTITY,\n",
    "\n",
    "(\n",
    "  SELECT AVG(QUANTITY)\n",
    "  FROM CUSTOMER_ORDER co2 \n",
    "  WHERE co1.CUSTOMER_ID = co2.CUSTOMER_ID \n",
    "  AND co1.PRODUCT_ID = co2.PRODUCT_ID\n",
    ") AS AVG_QTY\n",
    "\n",
    "FROM CUSTOMER_ORDER co1\n",
    "\n",
    "\"\"\"\n",
    "\n",
    "pd.read_sql(sql, conn)\n"
   ]
  },
  {
   "cell_type": "markdown",
   "metadata": {
    "id": "Zu4hZB1YOSZj"
   },
   "source": [
    "This is not the most efficient way to do this task by any means, and we will learn some better ways to do this particular task of grabbing an aggregate value sharing each given records' attributes. But correlated subqueries can be a powerful tool to flexibly calculate other queries dependent on each record. Just note this is computationally expensive as every record will kick off this subquery. "
   ]
  },
  {
   "cell_type": "markdown",
   "metadata": {
    "id": "Ygb_Le4IOtZR"
   },
   "source": [
    "## Derived Tables"
   ]
  },
  {
   "cell_type": "markdown",
   "metadata": {
    "id": "gmIH6qGCOtb3"
   },
   "source": [
    "When a subquery contains multiple columns, we call it a **derived table**. This is often used to declare a `SELECT` query and join it as if it were a table. Observe below how we can show the average quantity ordered alongside each `CUSTOMER_ORDER` record, for all records sharing each record's `CUSTOMER_ID` and `PRODUCT_ID`. "
   ]
  },
  {
   "cell_type": "code",
   "execution_count": null,
   "metadata": {
    "colab": {
     "base_uri": "https://localhost:8080/",
     "height": 424
    },
    "executionInfo": {
     "elapsed": 189,
     "status": "ok",
     "timestamp": 1667263882724,
     "user": {
      "displayName": "Daisy Wizda",
      "userId": "13343178402410361390"
     },
     "user_tz": 240
    },
    "id": "QNXOeWxEOtls",
    "outputId": "48c7d714-549a-4fcd-fa4a-e2db38562838"
   },
   "outputs": [],
   "source": [
    "sql = \"\"\"\n",
    "SELECT CUSTOMER_ORDER_ID, \n",
    "CUSTOMER_ORDER.CUSTOMER_ID,\n",
    "ORDER_DATE,\n",
    "CUSTOMER_ORDER.PRODUCT_ID,\n",
    "QUANTITY,\n",
    "AVG_QTY\n",
    "\n",
    "FROM CUSTOMER_ORDER LEFT JOIN \n",
    "\n",
    "(\n",
    "  SELECT CUSTOMER_ID, \n",
    "  PRODUCT_ID,\n",
    "  AVG(QUANTITY) AS AVG_QTY\n",
    "\n",
    "  FROM CUSTOMER_ORDER\n",
    "  GROUP BY CUSTOMER_ID, PRODUCT_ID\n",
    ") avg_quantity\n",
    "\n",
    "ON CUSTOMER_ORDER.CUSTOMER_ID = avg_quantity.CUSTOMER_ID\n",
    "AND CUSTOMER_ORDER.PRODUCT_ID = avg_quantity.PRODUCT_ID\n",
    "\n",
    "\"\"\"\n",
    "\n",
    "pd.read_sql(sql, conn)\n"
   ]
  },
  {
   "cell_type": "markdown",
   "metadata": {
    "id": "EteR3cd_VrlI"
   },
   "source": [
    "This is much more efficient as we calculate the average `QUANTITY` for each `PRODUCT_ID` and `CUSTOMER_ID` all at once and join to it. "
   ]
  },
  {
   "cell_type": "markdown",
   "metadata": {
    "id": "Kioy-EhLWDeX"
   },
   "source": [
    "## Common Table Expressions (CTE's)"
   ]
  },
  {
   "cell_type": "markdown",
   "metadata": {
    "id": "gzvolOCcWGFw"
   },
   "source": [
    "A much better way to declare derived tables is to instead declare a **common table expression**, which allows you to declare a named subquery in advance prior to using it in a `SELECT` query. Let's take the previous example and observe it in a common table expression. "
   ]
  },
  {
   "cell_type": "code",
   "execution_count": null,
   "metadata": {
    "colab": {
     "base_uri": "https://localhost:8080/",
     "height": 424
    },
    "executionInfo": {
     "elapsed": 311,
     "status": "ok",
     "timestamp": 1667263904563,
     "user": {
      "displayName": "Daisy Wizda",
      "userId": "13343178402410361390"
     },
     "user_tz": 240
    },
    "id": "-skIlUuCVrrB",
    "outputId": "0d2612ce-beec-41c4-996e-edd06c5da5fb"
   },
   "outputs": [],
   "source": [
    "sql = \"\"\"\n",
    "WITH avg_quantity AS (\n",
    "  SELECT CUSTOMER_ID, \n",
    "  PRODUCT_ID,\n",
    "  AVG(QUANTITY) AS AVG_QTY\n",
    "\n",
    "  FROM CUSTOMER_ORDER\n",
    "  GROUP BY CUSTOMER_ID, PRODUCT_ID\n",
    ")\n",
    "\n",
    "SELECT CUSTOMER_ORDER_ID, \n",
    "CUSTOMER_ORDER.CUSTOMER_ID,\n",
    "ORDER_DATE,\n",
    "CUSTOMER_ORDER.PRODUCT_ID,\n",
    "QUANTITY,\n",
    "AVG_QTY\n",
    "\n",
    "FROM CUSTOMER_ORDER LEFT JOIN avg_quantity\n",
    "\n",
    "ON CUSTOMER_ORDER.CUSTOMER_ID = avg_quantity.CUSTOMER_ID\n",
    "AND CUSTOMER_ORDER.PRODUCT_ID = avg_quantity.PRODUCT_ID\n",
    "\n",
    "\"\"\"\n",
    "\n",
    "pd.read_sql(sql, conn)\n"
   ]
  },
  {
   "cell_type": "markdown",
   "metadata": {
    "id": "ZQX7udSvW3cl"
   },
   "source": [
    "The benefits are primarily reusability and code organization. We can use a common table expression multiple times without having to re-declare its `SELECT` query redundantly. We can also avoid messy nessing of `SELECT` queries inside `SELECT` queries, and break up the query into digestible steps. \n",
    "\n",
    "Another benefit is you can procedurally have multiple common table expressions, where each one can point to the previous. Below we declare the `tx_customer_ids` to get customers ID's in the state of `TX`, and then use that to get orders for only customers in the state of `TX`. Finally we whittle down those orders for only `PRODUCT_ID` of 7. "
   ]
  },
  {
   "cell_type": "code",
   "execution_count": null,
   "metadata": {
    "colab": {
     "base_uri": "https://localhost:8080/",
     "height": 1000
    },
    "executionInfo": {
     "elapsed": 181,
     "status": "ok",
     "timestamp": 1667263925710,
     "user": {
      "displayName": "Daisy Wizda",
      "userId": "13343178402410361390"
     },
     "user_tz": 240
    },
    "id": "XWn-4mjLW3iU",
    "outputId": "6132588a-ceb6-4a7b-94d8-962fc257e0aa"
   },
   "outputs": [],
   "source": [
    "sql = \"\"\"\n",
    "WITH tx_customer_ids AS (\n",
    "  SELECT CUSTOMER_ID \n",
    "  FROM CUSTOMER\n",
    "  WHERE STATE = 'TX'\n",
    "), \n",
    "\n",
    "tx_customer_orders AS (\n",
    "  SELECT * FROM CUSTOMER_ORDER \n",
    "  WHERE CUSTOMER_ID IN tx_customer_ids\n",
    ")\n",
    "\n",
    "SELECT * FROM tx_customer_orders\n",
    "WHERE PRODUCT_ID = 7 \n",
    "\n",
    "\"\"\"\n",
    "\n",
    "pd.read_sql(sql, conn)\n"
   ]
  },
  {
   "cell_type": "markdown",
   "metadata": {
    "id": "8_cgbnTOZXqv"
   },
   "source": [
    "While this example might unnecessarily break up these steps, this is to show you can break up more complex queries into simple steps. "
   ]
  },
  {
   "cell_type": "markdown",
   "metadata": {
    "id": "dfPHaSPDarks"
   },
   "source": [
    "## EXERCISE\n",
    "\n",
    "For each `CUSTOMER_ORDER` in the month of march, retrieve all the fields. Also bring in the minimum and maximum product quantities ordered across all records sharing each record's `PRODUCT_ID` and `CUSTOMER_ID`. "
   ]
  },
  {
   "cell_type": "code",
   "execution_count": null,
   "metadata": {
    "id": "EU08mlIFbLcR"
   },
   "outputs": [],
   "source": [
    "sql = \"\"\"\n",
    "? min_max_quantity AS (\n",
    "  ?\n",
    ")\n",
    "\n",
    "SELECT CUSTOMER_ORDER_ID, \n",
    "CUSTOMER_ORDER.CUSTOMER_ID,\n",
    "ORDER_DATE,\n",
    "CUSTOMER_ORDER.PRODUCT_ID,\n",
    "QUANTITY,\n",
    "MIN_QTY,\n",
    "MAX_QTY\n",
    "\n",
    "FROM CUSTOMER_ORDER LEFT JOIN ?\n",
    "\n",
    "ON CUSTOMER_ORDER.CUSTOMER_ID = min_max_quantity.CUSTOMER_ID\n",
    "AND CUSTOMER_ORDER.PRODUCT_ID = min_max_quantity.PRODUCT_ID\n",
    "\n",
    "\"\"\"\n",
    "\n",
    "pd.read_sql(sql, conn)\n"
   ]
  },
  {
   "cell_type": "markdown",
   "metadata": {
    "id": "hcY8G4q3anqE"
   },
   "source": [
    "\n",
    "\n",
    "### SCROLL DOWN FOR ANSWER\n",
    "|<br>\n",
    "|<br>\n",
    "|<br>\n",
    "|<br>\n",
    "|<br>\n",
    "|<br>\n",
    "|<br>\n",
    "|<br>\n",
    "|<br>\n",
    "|<br>\n",
    "|<br>\n",
    "|<br>\n",
    "|<br>\n",
    "|<br>\n",
    "|<br>\n",
    "|<br>\n",
    "|<br>\n",
    "|<br>\n",
    "|<br>\n",
    "|<br>\n",
    "|<br>\n",
    "|<br>\n",
    "|<br>\n",
    "v "
   ]
  },
  {
   "cell_type": "code",
   "execution_count": null,
   "metadata": {
    "id": "5P396chpblzf"
   },
   "outputs": [],
   "source": [
    "sql = \"\"\"\n",
    "WITH min_max_quantity AS (\n",
    "  SELECT CUSTOMER_ID, \n",
    "  PRODUCT_ID,\n",
    "  MIN(QUANTITY) AS MIN_QTY,\n",
    "  MAX(QUANTITY) AS MAX_QTY\n",
    "\n",
    "  FROM CUSTOMER_ORDER\n",
    "  GROUP BY CUSTOMER_ID, PRODUCT_ID\n",
    ")\n",
    "\n",
    "SELECT CUSTOMER_ORDER_ID, \n",
    "CUSTOMER_ORDER.CUSTOMER_ID,\n",
    "ORDER_DATE,\n",
    "CUSTOMER_ORDER.PRODUCT_ID,\n",
    "QUANTITY,\n",
    "MIN_QTY,\n",
    "MAX_QTY\n",
    "\n",
    "FROM CUSTOMER_ORDER LEFT JOIN min_max_quantity\n",
    "\n",
    "ON CUSTOMER_ORDER.CUSTOMER_ID = min_max_quantity.CUSTOMER_ID\n",
    "AND CUSTOMER_ORDER.PRODUCT_ID = min_max_quantity.PRODUCT_ID\n",
    "\n",
    "\"\"\"\n",
    "\n",
    "pd.read_sql(sql, conn)\n"
   ]
  }
 ],
 "metadata": {
  "colab": {
   "collapsed_sections": [],
   "provenance": []
  },
  "kernelspec": {
   "display_name": "anaconda-2024.02-py310",
   "language": "python",
   "name": "conda-env-anaconda-2024.02-py310-py"
  },
  "language_info": {
   "codemirror_mode": {
    "name": "ipython",
    "version": 3
   },
   "file_extension": ".py",
   "mimetype": "text/x-python",
   "name": "python",
   "nbconvert_exporter": "python",
   "pygments_lexer": "ipython3",
   "version": "3.9.13"
  }
 },
 "nbformat": 4,
 "nbformat_minor": 4
}
