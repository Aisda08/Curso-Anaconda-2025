{
 "cells": [
  {
   "cell_type": "markdown",
   "metadata": {
    "id": "ESdAsACfVDGW"
   },
   "source": [
    "# INNER JOIN and LEFT JOIN  "
   ]
  },
  {
   "cell_type": "markdown",
   "metadata": {
    "id": "kM6Xr0mNVIS8"
   },
   "source": [
    "The most defining feature of SQL is arguably the join, as this is what relational databases are really designed to do. While there are several types of join, none are so commonly used as the `INNER JOIN` and `LEFT JOIN`. We will cover these two operators in this section. "
   ]
  },
  {
   "cell_type": "markdown",
   "metadata": {
    "id": "JMTxIa6TV21G"
   },
   "source": [
    "## Setup\n",
    "\n",
    "First get set up. Download the SQLite database file `company_operations.db` and connect to it. Also bring in `pandas` to display our SQL query results as a `DataFrame`. "
   ]
  },
  {
   "cell_type": "code",
   "execution_count": null,
   "metadata": {
    "id": "HINYtG1LV25_"
   },
   "outputs": [],
   "source": [
    "import sqlite3\n",
    "import pandas as pd\n",
    "import urllib.request\n",
    "\n",
    "# download SQLite database and connect to it \n",
    "urllib.request.urlretrieve(\"https://github.com/thomasnield/anaconda_intro_to_sql/blob/main/company_operations.db?raw=true\", \"company_operations.db\")\n",
    "conn = sqlite3.connect('company_operations.db')"
   ]
  },
  {
   "cell_type": "markdown",
   "metadata": {
    "id": "BathKbQlVbJa"
   },
   "source": [
    "## Primary and Foreign Keys"
   ]
  },
  {
   "cell_type": "markdown",
   "metadata": {
    "id": "trm4Kn30Vu88"
   },
   "source": [
    "Let's take a look at two tables: `CUSTOMER` and `CUSTOMER_ORDER`. What do they have in common? "
   ]
  },
  {
   "cell_type": "code",
   "execution_count": null,
   "metadata": {
    "id": "8xqy5zriU-3_"
   },
   "outputs": [],
   "source": [
    "sql = \"\"\"\n",
    "SELECT * FROM CUSTOMER\n",
    "\"\"\"\n",
    "\n",
    "pd.read_sql(sql, conn)\n"
   ]
  },
  {
   "cell_type": "code",
   "execution_count": null,
   "metadata": {
    "id": "kZfhRRp6WBbe"
   },
   "outputs": [],
   "source": [
    "sql = \"\"\"\n",
    "SELECT * FROM CUSTOMER_ORDER\n",
    "\"\"\"\n",
    "\n",
    "pd.read_sql(sql, conn)\n"
   ]
  },
  {
   "cell_type": "markdown",
   "metadata": {
    "id": "XHgQE879WAw9"
   },
   "source": [
    "The two tables have a `CUSTOMER_ID` column, and you can probably infer what it does for each table. The `CUSTOMER` table has a unique `CUSTOMER_ID` assigned to each customer record. But in the `CUSTOMER_ORDER` table it is used to assign an order to a given `CUSTOMER`, using that `CUSTOMER_ID`. \n",
    "\n",
    "This makes the `CUSTOMER` table the **parent table** with the `CUSTOMER_ID` being the **primary key**. The `CUSTOMER_ORDER` table is the **child table** with the `CUSTOMER_ID` being the **foreign key**. You can think of it as the parent table *supplies* data to the child table, via the primary key to the foreign key. \n",
    "\n",
    "The primary key cannot have duplicate values, and this makes sense as no two customers should have the same `CUSTOMER_ID`. However, there can be multiple instances of a value in a foreign key column, as a given customer can have multiple orders. This is a classic **one-to-many relationship**. \n",
    "\n",
    "These relationships are a designed to be joined on, and are a fundamental use case for `INNER JOIN` and `LEFT JOIN`. "
   ]
  },
  {
   "cell_type": "markdown",
   "metadata": {
    "id": "8gSz8Nn3XXVf"
   },
   "source": [
    "## INNER JOIN"
   ]
  },
  {
   "cell_type": "markdown",
   "metadata": {
    "id": "zKpZZBv5Xbys"
   },
   "source": [
    "The `INNER JOIN` is the most common type of join in SQL. It stitches together two or more tables together on one or more fields. In our example, it would be helpful to make our `CUSTOMER_ORDER` records more descriptive, by bringing in `CUSTOMER` information alongside each `CUSTOMER_ORDER` record. An `INNER JOIN` can achieve this as shown below."
   ]
  },
  {
   "cell_type": "code",
   "execution_count": null,
   "metadata": {
    "id": "av42cZmJXXbM"
   },
   "outputs": [],
   "source": [
    "sql = \"\"\"\n",
    "SELECT \n",
    "CUSTOMER_ORDER_ID,\n",
    "CUSTOMER.CUSTOMER_ID, \n",
    "CUSTOMER_NAME,\n",
    "ADDRESS,\n",
    "CITY,\n",
    "STATE,\n",
    "ZIP,\n",
    "ORDER_DATE,\n",
    "PRODUCT_ID,\n",
    "QUANTITY\n",
    "\n",
    "FROM CUSTOMER INNER JOIN CUSTOMER_ORDER\n",
    "ON CUSTOMER.CUSTOMER_ID = CUSTOMER_ORDER.CUSTOMER_ID\n",
    "\"\"\"\n",
    "\n",
    "pd.read_sql(sql, conn)\n"
   ]
  },
  {
   "cell_type": "markdown",
   "metadata": {
    "id": "CTQaVSdq1J5F"
   },
   "source": [
    "Above we have pulled fields from both `CUSTOMER` and `CUSTOMER_ORDER`, and since the `CUSTOMER_ID` exists in both tables we choose one by using the syntax `CUSTOMER.CUSTOMER_ID` to select the one from the `CUSTOMER` table. \n",
    "\n",
    "> For ambiguous fields like `CUSTOMER_ID`, it is a good rule of thumb to prefer the one in the parent table in case you switch your `INNER JOIN` to a left `LEFT JOIN` so it never becomes `NULL`. We will learn about this later. \n",
    "\n",
    "The `INNER JOIN` allows us to stitch both tables together and define the commonality using the `ON` keyword, which is where our join condition goes. You can actually specify any condition you want for a `JOIN`, but 99.9% of the time you will likely use a simple equals `=` to line up records between the two tables. \n",
    "\n",
    "Another way to think of this is we are copying each `CUSTOMER` record across each respective `CUSTOMER_ORDER` sharing that respective `CUSTOMER_ID`. \n",
    "\n",
    "> Occasionally, you might come across colleagues who simply write `JOIN` rather than `INNER JOIN`. This is a shorthand or alias for an `INNER JOIN`, but it is better practice to explicitly express `INNER JOIN` so you make it clear that was the type of join you intended. \n",
    "\n",
    "You also should avoid using an old convention of inner joining by selecting tables in a comma-separated way, and using the `WHERE` condition for your join condition as shown below. This is an [inflexible and messy syntax that is less legible](https://stackoverflow.com/questions/1018822/inner-join-on-vs-where-clause), and I encourage avoiding it. "
   ]
  },
  {
   "cell_type": "code",
   "execution_count": null,
   "metadata": {
    "id": "HrnTNLwp1i0Q"
   },
   "outputs": [],
   "source": [
    "sql = \"\"\"\n",
    "SELECT \n",
    "CUSTOMER_ORDER_ID,\n",
    "CUSTOMER.CUSTOMER_ID, \n",
    "CUSTOMER_NAME,\n",
    "ADDRESS,\n",
    "CITY,\n",
    "STATE,\n",
    "ZIP,\n",
    "ORDER_DATE,\n",
    "PRODUCT_ID,\n",
    "QUANTITY\n",
    "\n",
    "FROM CUSTOMER, CUSTOMER_ORDER\n",
    "WHERE CUSTOMER.CUSTOMER_ID = CUSTOMER_ORDER.CUSTOMER_ID\n",
    "\"\"\"\n",
    "\n",
    "pd.read_sql(sql, conn)\n"
   ]
  },
  {
   "cell_type": "markdown",
   "metadata": {
    "id": "Xbaujajv4D9b"
   },
   "source": [
    "## LEFT JOIN"
   ]
  },
  {
   "cell_type": "markdown",
   "metadata": {
    "id": "XXKyx2pv4EoW"
   },
   "source": [
    "What happens if there are `CUSTOMER` records that do not have any `CUSTOMER_ORDER` records? Do they show up in an `INNER JOIN`? For example, \"Alpha Medical\" with a `CUSTOMER_ID` of 1 does not have any orders. Does it show up in our `INNER JOIN` query? Let's add a `WHERE` condition to find out. "
   ]
  },
  {
   "cell_type": "code",
   "execution_count": null,
   "metadata": {
    "id": "bHc8fylI4EMM"
   },
   "outputs": [],
   "source": [
    "sql = \"\"\"\n",
    "SELECT \n",
    "CUSTOMER_ORDER_ID,\n",
    "CUSTOMER.CUSTOMER_ID, \n",
    "CUSTOMER_NAME,\n",
    "ADDRESS,\n",
    "CITY,\n",
    "STATE,\n",
    "ZIP,\n",
    "ORDER_DATE,\n",
    "PRODUCT_ID,\n",
    "QUANTITY\n",
    "\n",
    "FROM CUSTOMER INNER JOIN CUSTOMER_ORDER\n",
    "ON CUSTOMER.CUSTOMER_ID = CUSTOMER_ORDER.CUSTOMER_ID\n",
    "\n",
    "WHERE CUSTOMER.CUSTOMER_ID = 1\n",
    "\"\"\"\n",
    "\n",
    "pd.read_sql(sql, conn)\n"
   ]
  },
  {
   "cell_type": "markdown",
   "metadata": {
    "id": "gdOOnucE5DJv"
   },
   "source": [
    "Sure enough we get an empty result. But look what happens if we change our `INNER JOIN` to a `LEFT JOIN` (or `LEFT OUTER JOIN` which are both aliases for the same operation). "
   ]
  },
  {
   "cell_type": "code",
   "execution_count": null,
   "metadata": {
    "id": "hmurjSx94ZO_"
   },
   "outputs": [],
   "source": [
    "sql = \"\"\"\n",
    "SELECT \n",
    "CUSTOMER_ORDER_ID,\n",
    "CUSTOMER.CUSTOMER_ID, \n",
    "CUSTOMER_NAME,\n",
    "ADDRESS,\n",
    "CITY,\n",
    "STATE,\n",
    "ZIP,\n",
    "ORDER_DATE,\n",
    "PRODUCT_ID,\n",
    "QUANTITY\n",
    "\n",
    "FROM CUSTOMER LEFT JOIN CUSTOMER_ORDER\n",
    "ON CUSTOMER.CUSTOMER_ID = CUSTOMER_ORDER.CUSTOMER_ID\n",
    "\n",
    "WHERE CUSTOMER.CUSTOMER_ID = 1 \n",
    "\"\"\"\n",
    "\n",
    "pd.read_sql(sql, conn)\n"
   ]
  },
  {
   "cell_type": "markdown",
   "metadata": {
    "id": "KkgLqLz75at1"
   },
   "source": [
    "Note how \"Alpha Medical\" now shows up with a placeholder record even though it did not have any `CUSTOMER_ORDER` records. All of its `CUSTOMER_ORDER` fields are `NULL` (which Pandas is displaying as `None`) because there were no `CUSTOMER_ORDER` records to join to and populate this information. But the `LEFT JOIN` did append this one placeholder record for \"Alpha Medical\".\n",
    "\n",
    "In other words, the `LEFT JOIN` includes all records in the \"left\" table even if there are no records to join to in the \"right\" table. By \"left\" I mean the table literally specified to the left of the `LEFT JOIN` operator. This means the order you declare the tables in your `FROM` matters with a `LEFT JOIN`. \n",
    "\n",
    "\n",
    "> There is also a `RIGHT JOIN` or `RIGHT OUTER JOIN` operator, which flips the direction and includes all records in the `RIGHT` table even if there are none to join to in the `LEFT` table. However it is seldom used as what can be done with a `RIGHT JOIN` can also be achieved with a `LEFT JOIN`. There is also a `FULL OUTER JOIN` which includes all records in both directions, but it also is rarely used. As a matter of fact, SQLite does not support the `RIGHT JOIN` or `FULL OUTER JOIN` for this reason. \n",
    "\n",
    "As we will see, this can be useful for creating reports later as we likely want to include customers that do not have any orders. Another common use case for `LEFT JOIN` is finding parent records that do not have any children, such as `CUSTOMER` records that do not have any `CUSTOMER_ORDER` records. We can do this by qualifying any `CUSTOMER_ORDER` fields to be null, which normally are not null but consequently become null as a result of the `LEFT JOIN`. "
   ]
  },
  {
   "cell_type": "code",
   "execution_count": null,
   "metadata": {
    "id": "_16NJoV55a01"
   },
   "outputs": [],
   "source": [
    "sql = \"\"\"\n",
    "SELECT \n",
    "CUSTOMER.CUSTOMER_ID, \n",
    "CUSTOMER_NAME\n",
    "\n",
    "FROM CUSTOMER LEFT JOIN CUSTOMER_ORDER\n",
    "ON CUSTOMER_ORDER.CUSTOMER_ID = CUSTOMER.CUSTOMER_ID\n",
    "\n",
    "WHERE CUSTOMER_ORDER.CUSTOMER_ID IS NULL\n",
    "\"\"\"\n",
    "\n",
    "pd.read_sql(sql, conn)\n"
   ]
  },
  {
   "cell_type": "markdown",
   "metadata": {
    "id": "MbCOXEP37xbF"
   },
   "source": [
    "## Joining Multiple Tables"
   ]
  },
  {
   "cell_type": "markdown",
   "metadata": {
    "id": "w056Mhv674aG"
   },
   "source": [
    "What if we wanted to bring `PRODUCT` information to our `CUSTOMER_ORDER` records as well as `CUSTOMER` information? This is possible by executing a second join. Let's take a look at the `PRODUCT` table and note it uses a `PRODUCT_ID`, which also exists in the `CUSTOMER_ORDER` table as a foreign key."
   ]
  },
  {
   "cell_type": "code",
   "execution_count": null,
   "metadata": {
    "id": "ogNDfd568kx7"
   },
   "outputs": [],
   "source": [
    "sql = \"\"\"\n",
    "SELECT * FROM PRODUCT\n",
    "\"\"\"\n",
    "\n",
    "pd.read_sql(sql, conn)\n"
   ]
  },
  {
   "cell_type": "markdown",
   "metadata": {
    "id": "1qkU5seV8pmp"
   },
   "source": [
    "Let's bring in the `PRODUCT_NAME` and `PRICE` to show alongside each `CUSTOMER_ORDER`. We can execute a second join on the `PRODUCT_ID` and stitch the `PRODUCT` information table to our existing stitchwork between `CUSTOMER_ORDER` and `CUSTOMER`. "
   ]
  },
  {
   "cell_type": "code",
   "execution_count": null,
   "metadata": {
    "id": "1NXNdnYy7xjF"
   },
   "outputs": [],
   "source": [
    "sql = \"\"\"\n",
    "SELECT \n",
    "CUSTOMER_ORDER_ID,\n",
    "CUSTOMER.CUSTOMER_ID, \n",
    "CUSTOMER_NAME,\n",
    "ADDRESS,\n",
    "CITY,\n",
    "STATE,\n",
    "ZIP,\n",
    "ORDER_DATE,\n",
    "PRODUCT.PRODUCT_ID,\n",
    "QUANTITY, \n",
    "PRICE\n",
    "\n",
    "FROM CUSTOMER INNER JOIN CUSTOMER_ORDER\n",
    "ON CUSTOMER.CUSTOMER_ID = CUSTOMER_ORDER.CUSTOMER_ID\n",
    "\n",
    "INNER JOIN PRODUCT\n",
    "ON PRODUCT.PRODUCT_ID = CUSTOMER_ORDER.PRODUCT_ID\n",
    "\"\"\"\n",
    "\n",
    "pd.read_sql(sql, conn)\n"
   ]
  },
  {
   "cell_type": "markdown",
   "metadata": {
    "id": "cD_k51A19rm7"
   },
   "source": [
    "You can mix `INNER JOIN` and `LEFT JOIN` in a query, and you have to reason carefully through these scenarios as this becomes use-case specific. But in this scenario, if we wanted to include all `CUSTOMER` records we need to use a `LEFT JOIN` for both joins including for `PRODUCT`, because the null values from the first `LEFT JOIN` will propagate to the next join. The second `LEFT JOIN` will tolerate these null values but the `INNER JOIN` will not and simply omit them. "
   ]
  },
  {
   "cell_type": "code",
   "execution_count": null,
   "metadata": {
    "id": "KAdV0voY9rs2"
   },
   "outputs": [],
   "source": [
    "sql = \"\"\"\n",
    "SELECT \n",
    "CUSTOMER_ORDER_ID,\n",
    "CUSTOMER.CUSTOMER_ID, \n",
    "CUSTOMER_NAME,\n",
    "ADDRESS,\n",
    "CITY,\n",
    "STATE,\n",
    "ZIP,\n",
    "ORDER_DATE,\n",
    "PRODUCT.PRODUCT_ID,\n",
    "QUANTITY, \n",
    "PRICE\n",
    "\n",
    "FROM CUSTOMER LEFT JOIN CUSTOMER_ORDER\n",
    "ON CUSTOMER.CUSTOMER_ID = CUSTOMER_ORDER.CUSTOMER_ID\n",
    "\n",
    "LEFT JOIN PRODUCT\n",
    "ON PRODUCT.PRODUCT_ID = CUSTOMER_ORDER.PRODUCT_ID\n",
    "\"\"\"\n",
    "\n",
    "pd.read_sql(sql, conn)\n"
   ]
  },
  {
   "cell_type": "markdown",
   "metadata": {
    "id": "kGW5arV1AkdG"
   },
   "source": [
    "## Aggregating Joins"
   ]
  },
  {
   "cell_type": "markdown",
   "metadata": {
    "id": "4sCZUo23AmJf"
   },
   "source": [
    "If you think of the above queries we ran earlier as \"new\" tables that were produced by the joins, logically we can apply a `GROUP BY` on them as well as aggregation functions like `SUM()`. If we wanted to find the total revenue by customer, let's add a `PRICE * QUANTITY` expression and name it `REVENUE`. "
   ]
  },
  {
   "cell_type": "code",
   "execution_count": null,
   "metadata": {
    "id": "JA5Mzm0oAmPt"
   },
   "outputs": [],
   "source": [
    "sql = \"\"\"\n",
    "SELECT\n",
    "CUSTOMER.CUSTOMER_ID, \n",
    "CUSTOMER_NAME,\n",
    "PRICE * QUANTITY AS REVENUE\n",
    "\n",
    "FROM CUSTOMER LEFT JOIN CUSTOMER_ORDER\n",
    "ON CUSTOMER.CUSTOMER_ID = CUSTOMER_ORDER.CUSTOMER_ID\n",
    "\n",
    "LEFT JOIN PRODUCT\n",
    "ON PRODUCT.PRODUCT_ID = CUSTOMER_ORDER.PRODUCT_ID\n",
    "\"\"\"\n",
    "\n",
    "pd.read_sql(sql, conn)\n"
   ]
  },
  {
   "cell_type": "markdown",
   "metadata": {
    "id": "MrGt4Tv1DURO"
   },
   "source": [
    "Then we can `SUM()` that expression and add a `GROUP BY` to roll up the `CUSTOMER` attributes. "
   ]
  },
  {
   "cell_type": "code",
   "execution_count": null,
   "metadata": {
    "id": "tACMDt_aDVJt"
   },
   "outputs": [],
   "source": [
    "sql = \"\"\"\n",
    "SELECT\n",
    "CUSTOMER.CUSTOMER_ID, \n",
    "CUSTOMER_NAME,\n",
    "SUM(PRICE * QUANTITY) AS TOTAL_REVENUE\n",
    "\n",
    "FROM CUSTOMER LEFT JOIN CUSTOMER_ORDER\n",
    "ON CUSTOMER.CUSTOMER_ID = CUSTOMER_ORDER.CUSTOMER_ID\n",
    "\n",
    "LEFT JOIN PRODUCT\n",
    "ON PRODUCT.PRODUCT_ID = CUSTOMER_ORDER.PRODUCT_ID\n",
    "\n",
    "GROUP BY CUSTOMER.CUSTOMER_ID, CUSTOMER_NAME\n",
    "\"\"\"\n",
    "\n",
    "pd.read_sql(sql, conn)\n"
   ]
  },
  {
   "cell_type": "markdown",
   "metadata": {
    "id": "gYCor6zvDxTY"
   },
   "source": [
    "Finally, we can `COALESCE()` the `TOTAL_REVENUE` to turn any null values to `0`. And that is it!"
   ]
  },
  {
   "cell_type": "code",
   "execution_count": null,
   "metadata": {
    "id": "4JIrEiuCDxZ7"
   },
   "outputs": [],
   "source": [
    "sql = \"\"\"\n",
    "SELECT\n",
    "CUSTOMER.CUSTOMER_ID, \n",
    "CUSTOMER_NAME,\n",
    "COALESCE(SUM(PRICE * QUANTITY), 0) AS TOTAL_REVENUE\n",
    "\n",
    "FROM CUSTOMER LEFT JOIN CUSTOMER_ORDER\n",
    "ON CUSTOMER.CUSTOMER_ID = CUSTOMER_ORDER.CUSTOMER_ID\n",
    "\n",
    "LEFT JOIN PRODUCT\n",
    "ON PRODUCT.PRODUCT_ID = CUSTOMER_ORDER.PRODUCT_ID\n",
    "\n",
    "GROUP BY CUSTOMER.CUSTOMER_ID, CUSTOMER_NAME\n",
    "\"\"\"\n",
    "\n",
    "pd.read_sql(sql, conn)\n"
   ]
  },
  {
   "cell_type": "markdown",
   "metadata": {
    "id": "qrBhI-gGG4jD"
   },
   "source": [
    "And that is it! We have learned the fundamentals of SQL joins. If you get comfortable with this operation, you can call yourself a SQL developer. "
   ]
  },
  {
   "cell_type": "markdown",
   "metadata": {
    "id": "gs2r-VsvEH2o"
   },
   "source": [
    "## EXERCISE"
   ]
  },
  {
   "cell_type": "markdown",
   "metadata": {
    "id": "Z7yCKcwcEJco"
   },
   "source": [
    "Find the total revenue by product by completing the query below, replacing the question marks \"?\" with the proper SQL."
   ]
  },
  {
   "cell_type": "code",
   "execution_count": null,
   "metadata": {
    "id": "R3QPtNleEJjE"
   },
   "outputs": [],
   "source": [
    "sql = \"\"\"\n",
    "SELECT\n",
    "PRODUCT.PRODUCT_ID, \n",
    "PRODUCT_NAME,\n",
    "COALESCE(SUM(PRICE * QUANTITY), 0) AS TOTAL_REVENUE\n",
    "\n",
    "FROM ?\n",
    "\n",
    "GROUP BY PRODUCT.PRODUCT_ID, PRODUCT_NAME\n",
    "\"\"\"\n",
    "\n",
    "pd.read_sql(sql, conn)\n"
   ]
  },
  {
   "cell_type": "markdown",
   "metadata": {
    "id": "lzzObDGhEH8O"
   },
   "source": [
    "\n",
    "\n",
    "### SCROLL DOWN FOR ANSWER\n",
    "|<br>\n",
    "|<br>\n",
    "|<br>\n",
    "|<br>\n",
    "|<br>\n",
    "|<br>\n",
    "|<br>\n",
    "|<br>\n",
    "|<br>\n",
    "|<br>\n",
    "|<br>\n",
    "|<br>\n",
    "|<br>\n",
    "|<br>\n",
    "|<br>\n",
    "|<br>\n",
    "|<br>\n",
    "|<br>\n",
    "|<br>\n",
    "|<br>\n",
    "|<br>\n",
    "|<br>\n",
    "|<br>\n",
    "v "
   ]
  },
  {
   "cell_type": "code",
   "execution_count": null,
   "metadata": {
    "id": "rm7ht-ZDEnm-"
   },
   "outputs": [],
   "source": [
    "sql = \"\"\"\n",
    "SELECT\n",
    "PRODUCT.PRODUCT_ID, \n",
    "PRODUCT_NAME,\n",
    "COALESCE(SUM(PRICE * QUANTITY), 0) AS TOTAL_REVENUE\n",
    "\n",
    "FROM PRODUCT LEFT JOIN CUSTOMER_ORDER\n",
    "ON PRODUCT.PRODUCT_ID = CUSTOMER_ORDER.PRODUCT_ID\n",
    "\n",
    "GROUP BY PRODUCT.PRODUCT_ID, PRODUCT_NAME\n",
    "\"\"\"\n",
    "\n",
    "pd.read_sql(sql, conn)\n"
   ]
  }
 ],
 "metadata": {
  "colab": {
   "collapsed_sections": [],
   "provenance": []
  },
  "kernelspec": {
   "display_name": "anaconda-2024.02-py310",
   "language": "python",
   "name": "conda-env-anaconda-2024.02-py310-py"
  },
  "language_info": {
   "codemirror_mode": {
    "name": "ipython",
    "version": 3
   },
   "file_extension": ".py",
   "mimetype": "text/x-python",
   "name": "python",
   "nbconvert_exporter": "python",
   "pygments_lexer": "ipython3",
   "version": "3.9.13"
  }
 },
 "nbformat": 4,
 "nbformat_minor": 4
}
