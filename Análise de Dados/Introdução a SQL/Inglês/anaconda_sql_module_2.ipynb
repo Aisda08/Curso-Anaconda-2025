{
 "cells": [
  {
   "cell_type": "markdown",
   "metadata": {
    "id": "Nwgu2z8yJGFV"
   },
   "source": [
    "# Pulling Data with SELECT\n",
    "\n",
    "In this section, we are going to learn the most common SQL command. `SELECT` is used to retrieve data from one or more tables. It can also transform data before it is returned. However, it is a read-only operation so it does not change the underlying tables. \n",
    "\n",
    "## Setup \n",
    "First get set up. Download the SQLite database file `company_operations.db` and connect to it. Also bring in `pandas` to display our SQL query results as a `DataFrame`. "
   ]
  },
  {
   "cell_type": "code",
   "execution_count": null,
   "metadata": {
    "id": "hWvJcKELI0dl"
   },
   "outputs": [],
   "source": [
    "import sqlite3\n",
    "import pandas as pd\n",
    "import urllib.request\n",
    "\n",
    "# download SQLite database and connect to it \n",
    "urllib.request.urlretrieve(\"https://github.com/thomasnield/anaconda_intro_to_sql/blob/main/company_operations.db?raw=true\", \"company_operations.db\")\n",
    "conn = sqlite3.connect('company_operations.db')"
   ]
  },
  {
   "cell_type": "markdown",
   "metadata": {
    "id": "ZV7pT4dRJstN"
   },
   "source": [
    "## Selecting Columns \n",
    "\n",
    "Let's first select all columns from the `CUSTOMER` table. "
   ]
  },
  {
   "cell_type": "code",
   "execution_count": null,
   "metadata": {
    "colab": {
     "base_uri": "https://localhost:8080/",
     "height": 359
    },
    "executionInfo": {
     "elapsed": 10,
     "status": "ok",
     "timestamp": 1665606802987,
     "user": {
      "displayName": "Thomas Nield",
      "userId": "10920076319013086175"
     },
     "user_tz": 420
    },
    "id": "IihKn6aqKDE1",
    "outputId": "fea16f15-f6eb-44a5-f95a-6ad5c8094b07"
   },
   "outputs": [],
   "source": [
    "sql = \"SELECT * FROM CUSTOMER\"\n",
    "\n",
    "pd.read_sql(sql, conn)"
   ]
  },
  {
   "cell_type": "markdown",
   "metadata": {
    "id": "C9EdPPb8KLi5"
   },
   "source": [
    "Note that the asterisk `*` indicates to select all columns, and the `FROM` is preceded by the table you are selecting the columns from which is `CUSTOMER`. We can see that there are 10 customers in this table. \n",
    "\n",
    "If you want to limit your query to just the first 5 results, add a `LIMIT 5` so it cuts off returning data after 5 records. This is helpful if there are a lot of records and you want just a sample of records to see what the data looks like. "
   ]
  },
  {
   "cell_type": "code",
   "execution_count": null,
   "metadata": {
    "colab": {
     "base_uri": "https://localhost:8080/",
     "height": 204
    },
    "executionInfo": {
     "elapsed": 302,
     "status": "ok",
     "timestamp": 1665606806295,
     "user": {
      "displayName": "Thomas Nield",
      "userId": "10920076319013086175"
     },
     "user_tz": 420
    },
    "id": "4ePGtzEyKyTH",
    "outputId": "56beb142-9b0f-4a94-d7de-d91af0022dac"
   },
   "outputs": [],
   "source": [
    "sql = \"SELECT * FROM CUSTOMER LIMIT 5\"\n",
    "\n",
    "pd.read_sql(sql, conn)"
   ]
  },
  {
   "cell_type": "markdown",
   "metadata": {
    "id": "2yuWe9kdLIxY"
   },
   "source": [
    "Note you can also select specific columns separated by commas. This is helpful to only grab columns you are interested in as well as reduce the amount of data that has to be retrieved. Below we only retrieve the `CUSTOMER_NAME` and `ADDRESS` columns. "
   ]
  },
  {
   "cell_type": "code",
   "execution_count": null,
   "metadata": {
    "colab": {
     "base_uri": "https://localhost:8080/",
     "height": 359
    },
    "executionInfo": {
     "elapsed": 359,
     "status": "ok",
     "timestamp": 1665606808969,
     "user": {
      "displayName": "Thomas Nield",
      "userId": "10920076319013086175"
     },
     "user_tz": 420
    },
    "id": "Um66SFa4LI-J",
    "outputId": "ea66f5f8-39ca-43aa-f6d1-86832df58a21"
   },
   "outputs": [],
   "source": [
    "sql = \"SELECT CUSTOMER_NAME, ADDRESS FROM CUSTOMER\"\n",
    "\n",
    "pd.read_sql(sql, conn)"
   ]
  },
  {
   "cell_type": "markdown",
   "metadata": {
    "id": "6p89tdxNL3RP"
   },
   "source": [
    "If you want to see what tables are available in a database, you can ask for documentation from the database administrator or use a graphical user interface tool which displays the tables. In a Python environment, you will need a SQL command for your database platform that lists all the tables. \n",
    "\n",
    "In SQLite, there is a hidden administrative table called `sqlite_master` that allows you to list all the objects in a database. We will learn more about the `WHERE` keyword, but note it allows us to filter to only `table` objects. "
   ]
  },
  {
   "cell_type": "code",
   "execution_count": null,
   "metadata": {
    "colab": {
     "base_uri": "https://localhost:8080/",
     "height": 235
    },
    "executionInfo": {
     "elapsed": 443,
     "status": "ok",
     "timestamp": 1665606811510,
     "user": {
      "displayName": "Thomas Nield",
      "userId": "10920076319013086175"
     },
     "user_tz": 420
    },
    "id": "XOe7wxcNMI-R",
    "outputId": "d0f0c7b5-804f-4e04-c66a-25ee9b672b78"
   },
   "outputs": [],
   "source": [
    "sql = \"SELECT NAME FROM sqlite_master WHERE type='table'\"\n",
    "\n",
    "pd.read_sql(sql, conn)"
   ]
  },
  {
   "cell_type": "markdown",
   "metadata": {
    "id": "_7gqIdz0P5l2"
   },
   "source": [
    "## Expressions and Functions"
   ]
  },
  {
   "cell_type": "markdown",
   "metadata": {
    "id": "DGbzsWhULnMA"
   },
   "source": [
    "Let's take a look at the `PRODUCT` table. "
   ]
  },
  {
   "cell_type": "code",
   "execution_count": null,
   "metadata": {
    "colab": {
     "base_uri": "https://localhost:8080/",
     "height": 514
    },
    "executionInfo": {
     "elapsed": 439,
     "status": "ok",
     "timestamp": 1665606813736,
     "user": {
      "displayName": "Thomas Nield",
      "userId": "10920076319013086175"
     },
     "user_tz": 420
    },
    "id": "TA40mvPNLnTy",
    "outputId": "332e3557-3f3b-4c36-8296-5cb2c6cad13a"
   },
   "outputs": [],
   "source": [
    "sql = \"SELECT * FROM PRODUCT\"\n",
    "\n",
    "pd.read_sql(sql, conn)"
   ]
  },
  {
   "cell_type": "markdown",
   "metadata": {
    "id": "fjrVIF5LMxMV"
   },
   "source": [
    "Let's say we want to drop each price by 10%. We can multiply each price by `0.9` by creating a new field as an expression. We will call it `REDUCED_PRICE`. This does not modify the table, but rather transforms the data before it is returned. It is calculating that `REDUCED_PRICE` only within this query, much like a formula in Excel. This is what's great about SQL. It allows the stored data to be simple and minimal, but we can layer calculations and manipulations on top of it within a query. "
   ]
  },
  {
   "cell_type": "code",
   "execution_count": null,
   "metadata": {
    "colab": {
     "base_uri": "https://localhost:8080/",
     "height": 514
    },
    "executionInfo": {
     "elapsed": 10,
     "status": "ok",
     "timestamp": 1665606816582,
     "user": {
      "displayName": "Thomas Nield",
      "userId": "10920076319013086175"
     },
     "user_tz": 420
    },
    "id": "A16oWnDtMxYC",
    "outputId": "548d9f03-16cb-40f2-ec26-6e042c290134"
   },
   "outputs": [],
   "source": [
    "sql = \"\"\"\n",
    "SELECT PRODUCT_NAME,\n",
    "PRICE,\n",
    "PRICE * 0.9 AS REDUCED_PRICE\n",
    "\n",
    "FROM PRODUCT\n",
    "\"\"\"\n",
    "\n",
    "pd.read_sql(sql, conn)"
   ]
  },
  {
   "cell_type": "markdown",
   "metadata": {
    "id": "bRzLBVS4NVmQ"
   },
   "source": [
    "Note how I can write my SQL query across multiple lines for legibility, and I leveraged the triple double-quote syntax in Python `\"\"\"` to take advantage of this. \n",
    "\n",
    "The mathematical operators you can expect in every SQL platform are as follows: \n",
    "\n",
    "Symbol  | Operation \n",
    "-------------------|------------------\n",
    "+      | Adds two numbers\n",
    "- | Subtracts two numbers\n",
    "* | Multiplies two numbers\n",
    "/ | Divides two numbers\n",
    "% | Divides, but returns remainder\n",
    "\n",
    "Note that these mathematical operators only work between numeric values or fields. These symbols may be used in other contexts, such as the `*` can mean \"select all columns\" but between two numbers it is a multiplication.\n",
    "\n",
    "Now let's say we want to calculate a `PROCESS_FEE` for each price, which is `.00047` multiplied on the `PRICE`. "
   ]
  },
  {
   "cell_type": "code",
   "execution_count": null,
   "metadata": {
    "colab": {
     "base_uri": "https://localhost:8080/",
     "height": 514
    },
    "executionInfo": {
     "elapsed": 278,
     "status": "ok",
     "timestamp": 1665606869918,
     "user": {
      "displayName": "Thomas Nield",
      "userId": "10920076319013086175"
     },
     "user_tz": 420
    },
    "id": "TJpIAqzOOLPw",
    "outputId": "d2482825-6428-4ad2-ec6b-d7fce06e261e"
   },
   "outputs": [],
   "source": [
    "sql = \"\"\"\n",
    "SELECT PRODUCT_NAME,\n",
    "PRICE,\n",
    "PRICE * .00047 AS PROCESS_FEE\n",
    "\n",
    "FROM PRODUCT\n",
    "\"\"\"\n",
    "\n",
    "pd.read_sql(sql, conn)"
   ]
  },
  {
   "cell_type": "markdown",
   "metadata": {
    "id": "HFGbDyPdOrSK"
   },
   "source": [
    "If we want to round these values to two decimal places, we have to use a function. Functions are much like functions in Python. They have a name, open with parentheses, accept arguments, and return a result. Here is the `ROUND()` function to two decimal places on the `REDUCED_PRICE` field. \n",
    "\n"
   ]
  },
  {
   "cell_type": "code",
   "execution_count": null,
   "metadata": {
    "colab": {
     "base_uri": "https://localhost:8080/",
     "height": 514
    },
    "executionInfo": {
     "elapsed": 316,
     "status": "ok",
     "timestamp": 1665606875588,
     "user": {
      "displayName": "Thomas Nield",
      "userId": "10920076319013086175"
     },
     "user_tz": 420
    },
    "id": "gqhP3GyqPsti",
    "outputId": "ddcacc1b-ffdd-41d0-bcf7-e8f0fc6c79f6"
   },
   "outputs": [],
   "source": [
    "sql = \"\"\"\n",
    "SELECT PRODUCT_NAME,\n",
    "PRICE,\n",
    "ROUND(PRICE * .00047, 2) AS PROCESS_FEE\n",
    "\n",
    "FROM PRODUCT\n",
    "\"\"\"\n",
    "\n",
    "pd.read_sql(sql, conn)"
   ]
  },
  {
   "cell_type": "markdown",
   "metadata": {
    "id": "X7xparXrQUyQ"
   },
   "source": [
    "When you are working with text, an operator `||` can be used to concatenate text together (although some database platforms use a `CONCAT()` function instead). If we wanted to merge several fields in the `CUSTOMER` table to create a `SHIP_ADDRESS`, we can do so like this. Note how spaces `' '` and commas `' ,'` are padded in between each field."
   ]
  },
  {
   "cell_type": "code",
   "execution_count": null,
   "metadata": {
    "colab": {
     "base_uri": "https://localhost:8080/",
     "height": 359
    },
    "executionInfo": {
     "elapsed": 330,
     "status": "ok",
     "timestamp": 1665606878142,
     "user": {
      "displayName": "Thomas Nield",
      "userId": "10920076319013086175"
     },
     "user_tz": 420
    },
    "id": "J8luOJ0qQqzb",
    "outputId": "b81bd8d8-c7c4-4290-b6e4-ba928dd66be7"
   },
   "outputs": [],
   "source": [
    "sql = \"\"\"\n",
    "SELECT CUSTOMER_NAME,\n",
    "ADDRESS || ' ' || CITY || ', ' || STATE || ' ' || ZIP AS SHIP_ADDRESS\n",
    "FROM CUSTOMER\n",
    "\"\"\"\n",
    "\n",
    "pd.read_sql(sql, conn)"
   ]
  },
  {
   "cell_type": "markdown",
   "metadata": {
    "id": "mzjkd8KXREdR"
   },
   "source": [
    "## Commenting Code and Syntax Rules\n",
    "\n",
    "You can comment code out in SQL using a double dash `--` or multiline syntax `/* */`. These will be ignored by the SQL engine and can be a helpful way to provide context and explanations to your SQL code. \n",
    "\n",
    "```sql\n",
    "-- this is a comment\n",
    "\n",
    "/*\n",
    "This is a\n",
    "multiline comment\n",
    "*/\n",
    "```\n",
    "\n",
    "SQL is not case sensitive so keywords, fields, and table names can be uppercase or lowercase regardless how they are named in storage. You will see queries often end with a semicolon `;` but this is only necessary when running multiple SQL commands at once. Usually running multiple SQL commands happen in writing data, not selecting data. \n",
    "\n",
    "# Exercise\n",
    "\n",
    "Complete the SQL query below by replacing the question marks `?`. Retrieve all records from the `CUSTOMER` table, but grab the `CUSTOMER_NAME` and `CATEGORY` fields. Also concatenate the `CITY` and `STATE` with a comma in-between and name that expression `LOCATION`. "
   ]
  },
  {
   "cell_type": "code",
   "execution_count": null,
   "metadata": {
    "id": "9wCiPOrgSRRB"
   },
   "outputs": [],
   "source": [
    "sql = \"SELECT ? FROM ?\"\n",
    "\n",
    "pd.read_sql(sql, conn)"
   ]
  },
  {
   "cell_type": "markdown",
   "metadata": {
    "id": "64_v8fOwS-Zt"
   },
   "source": [
    "### SCROLL DOWN FOR ANSWER\n",
    "|<br>\n",
    "|<br>\n",
    "|<br>\n",
    "|<br>\n",
    "|<br>\n",
    "|<br>\n",
    "|<br>\n",
    "|<br>\n",
    "|<br>\n",
    "|<br>\n",
    "|<br>\n",
    "|<br>\n",
    "|<br>\n",
    "|<br>\n",
    "|<br>\n",
    "|<br>\n",
    "|<br>\n",
    "|<br>\n",
    "|<br>\n",
    "|<br>\n",
    "|<br>\n",
    "|<br>\n",
    "|<br>\n",
    "v "
   ]
  },
  {
   "cell_type": "code",
   "execution_count": null,
   "metadata": {
    "colab": {
     "base_uri": "https://localhost:8080/",
     "height": 359
    },
    "executionInfo": {
     "elapsed": 440,
     "status": "ok",
     "timestamp": 1665606884698,
     "user": {
      "displayName": "Thomas Nield",
      "userId": "10920076319013086175"
     },
     "user_tz": 420
    },
    "id": "B0P8CJVFTbeg",
    "outputId": "dfdfad62-e35a-4d74-de48-948d56edf6a7"
   },
   "outputs": [],
   "source": [
    "sql = \"SELECT CUSTOMER_NAME, CATEGORY, CITY || ', ' || STATE AS LOCATION FROM CUSTOMER\"\n",
    "\n",
    "pd.read_sql(sql, conn)"
   ]
  }
 ],
 "metadata": {
  "colab": {
   "collapsed_sections": [],
   "provenance": []
  },
  "kernelspec": {
   "display_name": "anaconda-2024.02-py310",
   "language": "python",
   "name": "conda-env-anaconda-2024.02-py310-py"
  },
  "language_info": {
   "codemirror_mode": {
    "name": "ipython",
    "version": 3
   },
   "file_extension": ".py",
   "mimetype": "text/x-python",
   "name": "python",
   "nbconvert_exporter": "python",
   "pygments_lexer": "ipython3",
   "version": "3.9.13"
  }
 },
 "nbformat": 4,
 "nbformat_minor": 4
}
