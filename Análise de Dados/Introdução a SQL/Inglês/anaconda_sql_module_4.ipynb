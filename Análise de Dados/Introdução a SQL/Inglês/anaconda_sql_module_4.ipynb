{
 "cells": [
  {
   "cell_type": "markdown",
   "metadata": {
    "id": "O72ro8VFKrdi"
   },
   "source": [
    "# Aggregating and Sorting "
   ]
  },
  {
   "cell_type": "markdown",
   "metadata": {
    "id": "PnE_YRGtKsyV"
   },
   "source": [
    "In this section, we will learn how to summarize records using SQL's `GROUP BY` and `ORDER BY` operators. Along the way we will learn aggregating functions like `SUM`, `COUNT`, `MIN`, `MAX`, and `AVG`. "
   ]
  },
  {
   "cell_type": "markdown",
   "metadata": {
    "id": "qL6GowWlLzj0"
   },
   "source": [
    "# Setup"
   ]
  },
  {
   "cell_type": "markdown",
   "metadata": {
    "id": "BPK7rsdlLQND"
   },
   "source": [
    "Download the SQLite database and initalize a SQLite3 connection."
   ]
  },
  {
   "cell_type": "code",
   "execution_count": null,
   "metadata": {
    "executionInfo": {
     "elapsed": 8589,
     "status": "ok",
     "timestamp": 1666722580347,
     "user": {
      "displayName": "Daisy Wizda",
      "userId": "00043830702421473023"
     },
     "user_tz": 240
    },
    "id": "LZ4CE8fiKnyp"
   },
   "outputs": [],
   "source": [
    "import sqlite3\n",
    "import pandas as pd\n",
    "import urllib.request\n",
    "\n",
    "# download SQLite database and connect to it \n",
    "urllib.request.urlretrieve(\"https://github.com/thomasnield/anaconda_intro_to_sql/blob/main/company_operations.db?raw=true\", \"company_operations.db\")\n",
    "conn = sqlite3.connect('company_operations.db')"
   ]
  },
  {
   "cell_type": "markdown",
   "metadata": {
    "id": "iXmzDeaqLZFD"
   },
   "source": [
    "We will continue working with the `WEATHER_MONITOR` table and summarize records using aggregate functions. "
   ]
  },
  {
   "cell_type": "markdown",
   "metadata": {
    "id": "kSYT0O_VLoiG"
   },
   "source": [
    "# Aggregate Functions and GROUP BY "
   ]
  },
  {
   "cell_type": "markdown",
   "metadata": {
    "id": "_o2YjKcGLvD2"
   },
   "source": [
    "Let's take a look at three fields in the `WEATHER_MONITOR` table. "
   ]
  },
  {
   "cell_type": "code",
   "execution_count": null,
   "metadata": {
    "colab": {
     "base_uri": "https://localhost:8080/",
     "height": 424
    },
    "executionInfo": {
     "elapsed": 479,
     "status": "ok",
     "timestamp": 1666722830064,
     "user": {
      "displayName": "Daisy Wizda",
      "userId": "00043830702421473023"
     },
     "user_tz": 240
    },
    "id": "-xRg3z5FLutd",
    "outputId": "898d5f75-035c-4556-ecdf-69cb8298c3ac"
   },
   "outputs": [],
   "source": [
    "sql = \"\"\"\n",
    "\n",
    "SELECT REPORT_CODE, REPORT_DATE, RAIN\n",
    "\n",
    "FROM WEATHER_MONITOR \n",
    "\n",
    "\"\"\"\n",
    "\n",
    "pd.read_sql(sql, conn)"
   ]
  },
  {
   "cell_type": "markdown",
   "metadata": {
    "id": "Q0owFGA0MKTd"
   },
   "source": [
    "Let's say we wanted to find the total `RAIN` across the entire table. If we remove the `REPORT_CODE` and `REPORT_DATE` fields, and put the `SUM()` around `RAIN`, observe what happens. "
   ]
  },
  {
   "cell_type": "code",
   "execution_count": null,
   "metadata": {
    "colab": {
     "base_uri": "https://localhost:8080/",
     "height": 81
    },
    "executionInfo": {
     "elapsed": 234,
     "status": "ok",
     "timestamp": 1666722838099,
     "user": {
      "displayName": "Daisy Wizda",
      "userId": "00043830702421473023"
     },
     "user_tz": 240
    },
    "id": "AJDBbBOdMX1d",
    "outputId": "0d42c1b5-922c-4321-933e-113933e68332"
   },
   "outputs": [],
   "source": [
    "sql = \"\"\"\n",
    "\n",
    "SELECT SUM(RAIN) AS TOTAL_RAIN\n",
    "\n",
    "FROM WEATHER_MONITOR \n",
    "\n",
    "\"\"\"\n",
    "\n",
    "pd.read_sql(sql, conn)"
   ]
  },
  {
   "cell_type": "markdown",
   "metadata": {
    "id": "i33Yl3biMb8-"
   },
   "source": [
    "So we have 1720.78 inches of rain total across the whole table. Let's break up that `TOTAL_RAIN` by `LOCATION_ID`. We can achieve this by selecting the `LOCATION_ID` and performing a `GROUP BY` on it. "
   ]
  },
  {
   "cell_type": "code",
   "execution_count": null,
   "metadata": {
    "colab": {
     "base_uri": "https://localhost:8080/",
     "height": 1000
    },
    "executionInfo": {
     "elapsed": 230,
     "status": "ok",
     "timestamp": 1666722857553,
     "user": {
      "displayName": "Daisy Wizda",
      "userId": "00043830702421473023"
     },
     "user_tz": 240
    },
    "id": "keh3rIofMkRx",
    "outputId": "653aa184-e26d-4877-9650-59fa871ae07f"
   },
   "outputs": [],
   "source": [
    "sql = \"\"\"\n",
    "\n",
    "SELECT LOCATION_ID, SUM(RAIN) AS TOTAL_RAIN\n",
    "\n",
    "FROM WEATHER_MONITOR \n",
    "\n",
    "GROUP BY LOCATION_ID\n",
    "\n",
    "\"\"\"\n",
    "\n",
    "pd.read_sql(sql, conn)"
   ]
  },
  {
   "cell_type": "markdown",
   "metadata": {
    "id": "Pg15sV8qM3oL"
   },
   "source": [
    "Note how we have sums broken out by `LOCATION_ID` now, or in other words we rolled up that `TOTAL_RAIN` by `LOCATION_ID`. If we wanted to get the total by `LOCATION_ID` and `YEAR`, we can break it up by those two fields/expressions."
   ]
  },
  {
   "cell_type": "code",
   "execution_count": null,
   "metadata": {
    "colab": {
     "base_uri": "https://localhost:8080/",
     "height": 424
    },
    "executionInfo": {
     "elapsed": 247,
     "status": "ok",
     "timestamp": 1666722883153,
     "user": {
      "displayName": "Daisy Wizda",
      "userId": "00043830702421473023"
     },
     "user_tz": 240
    },
    "id": "ac-NyybyNT7P",
    "outputId": "1215df85-0322-433c-c73f-bc131dd716f6"
   },
   "outputs": [],
   "source": [
    "sql = \"\"\"\n",
    "\n",
    "SELECT \n",
    "LOCATION_ID, \n",
    "strftime('%Y', REPORT_DATE) AS YEAR, \n",
    "SUM(RAIN) AS TOTAL_RAIN\n",
    "\n",
    "FROM WEATHER_MONITOR \n",
    "\n",
    "GROUP BY LOCATION_ID, YEAR\n",
    "\n",
    "\"\"\"\n",
    "\n",
    "pd.read_sql(sql, conn)"
   ]
  },
  {
   "cell_type": "markdown",
   "metadata": {
    "id": "410E12uENu1b"
   },
   "source": [
    "Note also we can use `GROUP BY` with ordinal index for each selected column/expression rather than the column name. Note this uses 1-based indexing. "
   ]
  },
  {
   "cell_type": "code",
   "execution_count": null,
   "metadata": {
    "colab": {
     "base_uri": "https://localhost:8080/",
     "height": 424
    },
    "executionInfo": {
     "elapsed": 221,
     "status": "ok",
     "timestamp": 1666722892822,
     "user": {
      "displayName": "Daisy Wizda",
      "userId": "00043830702421473023"
     },
     "user_tz": 240
    },
    "id": "X4wlh4bwNu7U",
    "outputId": "630048c1-6ff0-47fb-9d99-03b74852d7b8"
   },
   "outputs": [],
   "source": [
    "sql = \"\"\"\n",
    "\n",
    "SELECT \n",
    "LOCATION_ID, \n",
    "strftime('%Y', REPORT_DATE) AS YEAR, \n",
    "SUM(RAIN) AS TOTAL_RAIN\n",
    "\n",
    "FROM WEATHER_MONITOR \n",
    "\n",
    "GROUP BY 1, 2\n",
    "\n",
    "\"\"\"\n",
    "\n",
    "pd.read_sql(sql, conn)"
   ]
  },
  {
   "cell_type": "markdown",
   "metadata": {
    "id": "n51nTtdUOG4H"
   },
   "source": [
    "There are other aggregation functions besides `SUM()`. `MIN()` will find the minimum value for a given column while `MAX()` will find the maximum. `AVG()` will calculate the average column while `COUNT()` will count the number of non-null values for that column. Here are all five of these aggregate functions to create a  report summarizing descriptive rain statistics by `LOCATION_ID` and `YEAR`. "
   ]
  },
  {
   "cell_type": "code",
   "execution_count": null,
   "metadata": {
    "colab": {
     "base_uri": "https://localhost:8080/",
     "height": 424
    },
    "executionInfo": {
     "elapsed": 242,
     "status": "ok",
     "timestamp": 1666722924271,
     "user": {
      "displayName": "Daisy Wizda",
      "userId": "00043830702421473023"
     },
     "user_tz": 240
    },
    "id": "1g6tUAHxOG_5",
    "outputId": "8b6c7137-aabb-4965-b048-40281f273017"
   },
   "outputs": [],
   "source": [
    "sql = \"\"\"\n",
    "\n",
    "SELECT \n",
    "LOCATION_ID, \n",
    "strftime('%Y', REPORT_DATE) AS YEAR, \n",
    "\n",
    "SUM(RAIN) AS TOTAL_RAIN, \n",
    "MIN(RAIN) AS MIN_RAIN,\n",
    "MAX(RAIN) AS MAX_RAIN,\n",
    "AVG(RAIN) AS AVG_RAIN, \n",
    "COUNT(RAIN) AS COUNT_RAIN\n",
    "\n",
    "FROM WEATHER_MONITOR \n",
    "\n",
    "GROUP BY LOCATION_ID, YEAR\n",
    "\n",
    "\"\"\"\n",
    "\n",
    "pd.read_sql(sql, conn)"
   ]
  },
  {
   "cell_type": "markdown",
   "metadata": {
    "id": "jpk8oID6PCWK"
   },
   "source": [
    "We can also use a `WHERE` filter to only allow certain records to qualify in our aggregations. Below we calculate the total `RAIN` by `YEAR` and `LOCATION_ID`, but only where a `TORNADO` was present."
   ]
  },
  {
   "cell_type": "code",
   "execution_count": null,
   "metadata": {
    "colab": {
     "base_uri": "https://localhost:8080/",
     "height": 1000
    },
    "executionInfo": {
     "elapsed": 237,
     "status": "ok",
     "timestamp": 1666722937457,
     "user": {
      "displayName": "Daisy Wizda",
      "userId": "00043830702421473023"
     },
     "user_tz": 240
    },
    "id": "qFjWt4cXPCcS",
    "outputId": "858f020c-7c66-4d22-a485-997832ce7460"
   },
   "outputs": [],
   "source": [
    "sql = \"\"\"\n",
    "\n",
    "SELECT \n",
    "LOCATION_ID, \n",
    "strftime('%Y', REPORT_DATE) AS YEAR, \n",
    "SUM(RAIN) AS TOTAL_TORNADO_RAIN\n",
    "\n",
    "FROM WEATHER_MONITOR \n",
    "\n",
    "WHERE TORNADO = 1\n",
    "GROUP BY LOCATION_ID, YEAR\n",
    "\n",
    "\"\"\"\n",
    "\n",
    "pd.read_sql(sql, conn)"
   ]
  },
  {
   "cell_type": "markdown",
   "metadata": {
    "id": "kfgQF4EKQCDA"
   },
   "source": [
    "## Counting Records"
   ]
  },
  {
   "cell_type": "markdown",
   "metadata": {
    "id": "p1o-FOhiP60n"
   },
   "source": [
    "If you want to count the number of records in a table, pass the whole record to the `COUNT()` function rather than a specific field. This can be achieved with using an asterisk `*`. "
   ]
  },
  {
   "cell_type": "code",
   "execution_count": null,
   "metadata": {
    "colab": {
     "base_uri": "https://localhost:8080/",
     "height": 81
    },
    "executionInfo": {
     "elapsed": 259,
     "status": "ok",
     "timestamp": 1666722958910,
     "user": {
      "displayName": "Daisy Wizda",
      "userId": "00043830702421473023"
     },
     "user_tz": 240
    },
    "id": "YRcPA7HHP66l",
    "outputId": "d8f7199f-9f88-412a-e946-c95bd1eb2249"
   },
   "outputs": [],
   "source": [
    "sql = \"\"\"\n",
    "\n",
    "SELECT COUNT(*) AS RECORD_COUNT\n",
    "\n",
    "FROM WEATHER_MONITOR \n",
    "\"\"\"\n",
    "\n",
    "pd.read_sql(sql, conn)"
   ]
  },
  {
   "cell_type": "markdown",
   "metadata": {
    "id": "MFcvz4TrQQD9"
   },
   "source": [
    "All the other operations we used previously to slice and filter records can also be used with the `COUNT(*)`. Below we break up the record count by `YEAR`, but only count records where `RAIN` was at least 2 inches. "
   ]
  },
  {
   "cell_type": "code",
   "execution_count": null,
   "metadata": {
    "colab": {
     "base_uri": "https://localhost:8080/",
     "height": 112
    },
    "executionInfo": {
     "elapsed": 255,
     "status": "ok",
     "timestamp": 1666722966017,
     "user": {
      "displayName": "Daisy Wizda",
      "userId": "00043830702421473023"
     },
     "user_tz": 240
    },
    "id": "s9238O7dQQJ-",
    "outputId": "72c47e6a-58f9-4b6a-c706-7394e6ef522a"
   },
   "outputs": [],
   "source": [
    "sql = \"\"\"\n",
    "\n",
    "SELECT \n",
    "strftime('%Y', REPORT_DATE) AS YEAR, \n",
    "\n",
    "COUNT(*) AS RECORD_COUNT\n",
    "\n",
    "FROM WEATHER_MONITOR \n",
    "\n",
    "WHERE RAIN >= 2\n",
    "\n",
    "GROUP BY YEAR \n",
    "\"\"\"\n",
    "\n",
    "pd.read_sql(sql, conn)"
   ]
  },
  {
   "cell_type": "markdown",
   "metadata": {
    "id": "QbDWsG7WQ_m_"
   },
   "source": [
    "## Sorting "
   ]
  },
  {
   "cell_type": "markdown",
   "metadata": {
    "id": "amJ1oW9RRGak"
   },
   "source": [
    "Let's take a look at the query below showing the `TOTAL_RAIN` by `YEAR` and `MONTH`. "
   ]
  },
  {
   "cell_type": "code",
   "execution_count": null,
   "metadata": {
    "colab": {
     "base_uri": "https://localhost:8080/",
     "height": 269
    },
    "executionInfo": {
     "elapsed": 327,
     "status": "ok",
     "timestamp": 1666722973072,
     "user": {
      "displayName": "Daisy Wizda",
      "userId": "00043830702421473023"
     },
     "user_tz": 240
    },
    "id": "tWwZYSB1Q_4w",
    "outputId": "654309d8-319c-4539-c1e1-17ae84d7a380"
   },
   "outputs": [],
   "source": [
    "sql = \"\"\"\n",
    "\n",
    "SELECT \n",
    "CAST(strftime('%Y', REPORT_DATE) AS INTEGER) AS YEAR, \n",
    "CAST(strftime('%m', REPORT_DATE) AS INTEGER) AS MONTH, \n",
    "\n",
    "SUM(RAIN) AS TOTAL_RAIN\n",
    "\n",
    "FROM WEATHER_MONITOR \n",
    "\n",
    "GROUP BY YEAR, MONTH\n",
    "\"\"\"\n",
    "\n",
    "pd.read_sql(sql, conn)"
   ]
  },
  {
   "cell_type": "markdown",
   "metadata": {
    "id": "RPj9cWeMShQG"
   },
   "source": [
    "Notice that the records coincidentally are ordered by `YEAR` ascending and `MONTH` ascending. You should never expect records to come back in any order without an `ORDER BY`, even if the SQL engine has an implementation that gives this impression. This can happen especially if the data is physially stored in a sorted by (e.g. chronologically). \n",
    "\n",
    "To enforce an ascending order by `YEAR` and `MONTH`, add an `ORDER BY` operator. "
   ]
  },
  {
   "cell_type": "code",
   "execution_count": null,
   "metadata": {
    "colab": {
     "base_uri": "https://localhost:8080/",
     "height": 269
    },
    "executionInfo": {
     "elapsed": 234,
     "status": "ok",
     "timestamp": 1666723052712,
     "user": {
      "displayName": "Daisy Wizda",
      "userId": "00043830702421473023"
     },
     "user_tz": 240
    },
    "id": "HerMfhnfS6KH",
    "outputId": "8c8ab48f-88e8-47bd-dad0-7c87a00edec8"
   },
   "outputs": [],
   "source": [
    "sql = \"\"\"\n",
    "\n",
    "SELECT \n",
    "CAST(strftime('%Y', REPORT_DATE) AS INTEGER) AS YEAR, \n",
    "CAST(strftime('%m', REPORT_DATE) AS INTEGER) AS MONTH, \n",
    "\n",
    "SUM(RAIN) AS TOTAL_RAIN\n",
    "\n",
    "FROM WEATHER_MONITOR \n",
    "\n",
    "GROUP BY YEAR, MONTH\n",
    "\n",
    "ORDER BY YEAR, MONTH\n",
    "\"\"\"\n",
    "\n",
    "pd.read_sql(sql, conn)"
   ]
  },
  {
   "cell_type": "markdown",
   "metadata": {
    "id": "vE4jQ_N0TE05"
   },
   "source": [
    "You can also reference the selected expressions using ordinal index. "
   ]
  },
  {
   "cell_type": "code",
   "execution_count": null,
   "metadata": {
    "colab": {
     "base_uri": "https://localhost:8080/",
     "height": 269
    },
    "executionInfo": {
     "elapsed": 271,
     "status": "ok",
     "timestamp": 1666723101305,
     "user": {
      "displayName": "Daisy Wizda",
      "userId": "00043830702421473023"
     },
     "user_tz": 240
    },
    "id": "MJs3arF-TE6W",
    "outputId": "00bb5cf8-edc6-4ef6-e8e8-f50734ae7903"
   },
   "outputs": [],
   "source": [
    "sql = \"\"\"\n",
    "\n",
    "SELECT \n",
    "CAST(strftime('%Y', REPORT_DATE) AS INTEGER) AS YEAR, \n",
    "CAST(strftime('%m', REPORT_DATE) AS INTEGER) AS MONTH, \n",
    "\n",
    "SUM(RAIN) AS TOTAL_RAIN\n",
    "\n",
    "FROM WEATHER_MONITOR \n",
    "\n",
    "GROUP BY 1, 2\n",
    "\n",
    "ORDER BY 1, 2\n",
    "\"\"\"\n",
    "\n",
    "pd.read_sql(sql, conn)"
   ]
  },
  {
   "cell_type": "markdown",
   "metadata": {
    "id": "XFZ69e6zTLym"
   },
   "source": [
    "If we wanted to have the most recent years displayed first, add the `DESC` keyword to make a given field sort in descending order. "
   ]
  },
  {
   "cell_type": "code",
   "execution_count": null,
   "metadata": {
    "colab": {
     "base_uri": "https://localhost:8080/",
     "height": 269
    },
    "executionInfo": {
     "elapsed": 230,
     "status": "ok",
     "timestamp": 1666723111202,
     "user": {
      "displayName": "Daisy Wizda",
      "userId": "00043830702421473023"
     },
     "user_tz": 240
    },
    "id": "xWgdE9glTSSl",
    "outputId": "824db566-c7a2-473a-e7ec-24ecf0ce1457"
   },
   "outputs": [],
   "source": [
    "sql = \"\"\"\n",
    "\n",
    "SELECT \n",
    "CAST(strftime('%Y', REPORT_DATE) AS INTEGER) AS YEAR, \n",
    "CAST(strftime('%m', REPORT_DATE) AS INTEGER) AS MONTH, \n",
    "\n",
    "SUM(RAIN) AS TOTAL_RAIN\n",
    "\n",
    "FROM WEATHER_MONITOR \n",
    "\n",
    "GROUP BY YEAR, MONTH\n",
    "\n",
    "ORDER BY YEAR DESC, MONTH\n",
    "\"\"\"\n",
    "\n",
    "pd.read_sql(sql, conn)"
   ]
  },
  {
   "cell_type": "markdown",
   "metadata": {
    "id": "XOtRn5vtUGdR"
   },
   "source": [
    "## EXERCISE \n",
    "\n",
    "Complete the query below to find the total, minimum, and maximum snowfall by year. Order on the year descending so the latest year is on the top. "
   ]
  },
  {
   "cell_type": "code",
   "execution_count": null,
   "metadata": {
    "id": "B8TJ1gO0UGuz"
   },
   "outputs": [],
   "source": [
    "sql = \"\"\"\n",
    "\n",
    "SELECT \n",
    "strftime('%Y', REPORT_DATE) AS YEAR, \n",
    "\n",
    "? AS TOTAL_SNOW, \n",
    "? AS MIN_SNOW,\n",
    "? AS MAX_SNOW\n",
    "\n",
    "FROM WEATHER_MONITOR \n",
    "\n",
    "? BY ?\n",
    "? BY ? DESC\n",
    "\"\"\"\n",
    "\n",
    "pd.read_sql(sql, conn)"
   ]
  },
  {
   "cell_type": "markdown",
   "metadata": {
    "id": "B9oaKdq8T92Q"
   },
   "source": [
    "\n",
    "\n",
    "### SCROLL DOWN FOR ANSWER\n",
    "|<br>\n",
    "|<br>\n",
    "|<br>\n",
    "|<br>\n",
    "|<br>\n",
    "|<br>\n",
    "|<br>\n",
    "|<br>\n",
    "|<br>\n",
    "|<br>\n",
    "|<br>\n",
    "|<br>\n",
    "|<br>\n",
    "|<br>\n",
    "|<br>\n",
    "|<br>\n",
    "|<br>\n",
    "|<br>\n",
    "|<br>\n",
    "|<br>\n",
    "|<br>\n",
    "|<br>\n",
    "|<br>\n",
    "v "
   ]
  },
  {
   "cell_type": "code",
   "execution_count": null,
   "metadata": {
    "id": "ERqklnEgT-bU"
   },
   "outputs": [],
   "source": [
    "sql = \"\"\"\n",
    "\n",
    "SELECT \n",
    "strftime('%Y', REPORT_DATE) AS YEAR, \n",
    "\n",
    "SUM(SNOW) AS TOTAL_SNOW, \n",
    "MIN(SNOW) AS MIN_SNOW,\n",
    "MAX(SNOW) AS MAX_SNOW\n",
    "\n",
    "FROM WEATHER_MONITOR \n",
    "\n",
    "GROUP BY YEAR\n",
    "ORDER BY YEAR DESC\n",
    "\"\"\"\n",
    "\n",
    "pd.read_sql(sql, conn)"
   ]
  }
 ],
 "metadata": {
  "colab": {
   "collapsed_sections": [],
   "provenance": []
  },
  "kernelspec": {
   "display_name": "anaconda-2024.02-py310",
   "language": "python",
   "name": "conda-env-anaconda-2024.02-py310-py"
  },
  "language_info": {
   "codemirror_mode": {
    "name": "ipython",
    "version": 3
   },
   "file_extension": ".py",
   "mimetype": "text/x-python",
   "name": "python",
   "nbconvert_exporter": "python",
   "pygments_lexer": "ipython3",
   "version": "3.10.14"
  }
 },
 "nbformat": 4,
 "nbformat_minor": 4
}
