{
 "cells": [
  {
   "cell_type": "markdown",
   "id": "46088efb-53a0-4bac-9e6d-d395614f6031",
   "metadata": {},
   "source": [
    "# Univariate Analysis and Outliers"
   ]
  },
  {
   "cell_type": "markdown",
   "id": "2c2a0100-6f24-4054-988b-3f5633ab7492",
   "metadata": {},
   "source": [
    "We will cover some of the fundamentals of describing data one variable at a time, called **univariate analysis**, and this knowledge will roll into dealing with outliers. \n",
    "\n",
    "Keep in mind that exploratory data analysis can be time-consuming especially as you go through each variable. Rabbit holes can frequently take you down paths that consume hours, even days or weeks, but for the sake of expediency we will show this process with a few variables we hypothesize are relevant for bird strikes. \n",
    "\n",
    "Let's start with bringing in the data from the last section. "
   ]
  },
  {
   "cell_type": "code",
   "execution_count": null,
   "id": "3992035c-bb4f-4da8-88ae-6517a8f9b55f",
   "metadata": {
    "scrolled": true
   },
   "outputs": [],
   "source": [
    "import pandas as pd \n",
    "\n",
    "url = r\"https://github.com/thomasnield/anaconda_python_eda/raw/public/birdstrike_section2.csv\"\n",
    "df = pd.read_csv(url, index_col='INDEX_NR', parse_dates=[\"INCIDENT_DATE\"])\n",
    "with pd.option_context('display.max_columns', None):\n",
    "  display(df)"
   ]
  },
  {
   "cell_type": "markdown",
   "id": "7ea48298-78cf-4463-8135-c2570b3fbe19",
   "metadata": {},
   "source": [
    "Let's also take care of a few datatype conversions that do not get saved into the CSV. "
   ]
  },
  {
   "cell_type": "code",
   "execution_count": null,
   "id": "8f1ccf50-c77b-4530-834a-af18de86838c",
   "metadata": {},
   "outputs": [],
   "source": [
    "# Turn PHASE_OF_FLIGHT into a category\n",
    "phase_of_flt = pd.CategoricalDtype(categories=['Parked', 'Taxi','Take-off Run', 'Approach', 'Departure', 'Climb', 'En Route',\n",
    "                                               'Descent', 'Landing Roll', 'Arrival', 'Local'])\n",
    "\n",
    "df[\"PHASE_OF_FLIGHT\"] = df[\"PHASE_OF_FLIGHT\"].astype(phase_of_flt)\n",
    "\n",
    "# Turn TIME into timedelta type \n",
    "df[\"TIME\"] = pd.to_timedelta(df[\"TIME\"])"
   ]
  },
  {
   "cell_type": "markdown",
   "id": "133eda8e-2cbe-479f-94df-316b8b182557",
   "metadata": {},
   "source": [
    "## Height Variable"
   ]
  },
  {
   "cell_type": "markdown",
   "id": "1a69d301-e525-40d2-8f08-367151ec8a82",
   "metadata": {},
   "source": [
    "Let's start with a few theories on some of the variables, perhaps that the `HEIGHT` variable (the altitude) might be relevant for whether or not bird strikes occurs. After all, birds need to land so they can eat and tend to their nests. We can call the `hist()` function on this column to create a histogram. "
   ]
  },
  {
   "cell_type": "code",
   "execution_count": null,
   "id": "e0072a15-42d8-4b74-a51a-777db40702b6",
   "metadata": {
    "scrolled": true
   },
   "outputs": [],
   "source": [
    "df[\"HEIGHT\"].hist(bins=10)"
   ]
  },
  {
   "cell_type": "markdown",
   "id": "64d38260-c01b-4a9b-a6d4-1ec6b6866c3a",
   "metadata": {},
   "source": [
    "Okay, that's interesting. It seems bird strikes heavily skew at lower altitudes. Let's increase the number of bins to see some more resolution. We do not want to have too many bins because we do not have an infinite amount of data, and we will encounter a diminishing return and then a loss of information. "
   ]
  },
  {
   "cell_type": "code",
   "execution_count": null,
   "id": "f0e49c2b-6048-4ca3-a7d5-5410674f867d",
   "metadata": {
    "scrolled": true
   },
   "outputs": [],
   "source": [
    "df[\"HEIGHT\"].hist(bins=30)"
   ]
  },
  {
   "cell_type": "markdown",
   "id": "1929f95b-7cca-4212-9558-5acd2bf6a878",
   "metadata": {},
   "source": [
    "Most bird strikes overwhelmingly happen below 1000 feet. This makes sense because birds, although frequently airborne, will largely fly close to the ground. Note you can also build a histogram directly with `matplotlib`. This allows us to bring in some more details into the graph, such as labeling the counts for each bar. "
   ]
  },
  {
   "cell_type": "code",
   "execution_count": null,
   "id": "ac1d64bd-01f9-4955-a5b3-4ef622f47608",
   "metadata": {
    "scrolled": true
   },
   "outputs": [],
   "source": [
    "from matplotlib import pyplot as plt\n",
    "import pandas as pd\n",
    "import numpy as np\n",
    "\n",
    "values, bins, bars = plt.hist(df['HEIGHT'], bins=30, edgecolor='white')\n",
    "plt.xlabel(\"HEIGHT (Feet)\")\n",
    "plt.ylabel(\"# BIRD STRIKES\")\n",
    "plt.title('Height vs Bird Strike Incidents')\n",
    "plt.bar_label(bars, fontsize=10, color='navy')\n",
    "plt.margins(x=0.01, y=0.1)\n",
    "plt.show()"
   ]
  },
  {
   "cell_type": "markdown",
   "id": "4145e351-0fe9-4034-adec-99368a3a5d98",
   "metadata": {},
   "source": [
    "You can detect a skew by comparing the **mean** (the average of the sample) and **median** (center-most value in the sample) of a given variable. If the two are very different, then we have a highly skewed variable which visually is apparent above. "
   ]
  },
  {
   "cell_type": "code",
   "execution_count": null,
   "id": "daf7512d-331d-4d0f-98a3-bf7a64f0b42e",
   "metadata": {
    "scrolled": true
   },
   "outputs": [],
   "source": [
    "height_mean = df[\"HEIGHT\"].mean()\n",
    "height_median = df[\"HEIGHT\"].median()\n",
    "\n",
    "print(f\"MEAN: {height_mean} MEDIAN: {height_median}\")"
   ]
  },
  {
   "cell_type": "markdown",
   "id": "dd7e78b3-cf15-463a-9793-7a285bc71555",
   "metadata": {},
   "source": [
    "On a sidenote, you can approximate the distribution using a [kernel density estimation (KDE)](https://pandas.pydata.org/docs/reference/api/pandas.Series.plot.density.html). "
   ]
  },
  {
   "cell_type": "code",
   "execution_count": null,
   "id": "d614a335-8bab-48e5-9538-3d429914bcee",
   "metadata": {},
   "outputs": [],
   "source": [
    "df[\"HEIGHT\"].plot.kde(xlim=(0,50_000))"
   ]
  },
  {
   "cell_type": "markdown",
   "id": "86abeb4e-8ab8-465f-8ba8-9a2974357118",
   "metadata": {},
   "source": [
    "## Phase of Flight Variable"
   ]
  },
  {
   "cell_type": "markdown",
   "id": "f38cdfee-41f0-4ca7-8a2a-f8d1f062753f",
   "metadata": {},
   "source": [
    "Related to the `HEIGHT`, let's look at the `PHASE_OF_FLIGHT`. For some context, here is a typical cycle visualizing the phases of flight. Note that depending on the aircraft and nature of the flight, some stages will be different. For example, an `EN ROUTE` is typical for a flight going from point A to point B. But if a pilot is practicing circuits in a plane (taking off and landing over and over again), this is called `LOCAL` as a local pattern is being flown. \n",
    "\n",
    "![](https://github.com/thomasnield/anaconda_python_eda/raw/public/resource/7Od2TS0O.svg)\n"
   ]
  },
  {
   "cell_type": "markdown",
   "id": "b9124296-1f15-4bc2-b6a8-afe2f5c48d10",
   "metadata": {},
   "source": [
    "We should expect phases of flight that are closer to the ground to have more bird strikes, based on our previous variable analysis on `HEIGHT`. Let's take a look and plot the `value_counts()` as a bar chart. "
   ]
  },
  {
   "cell_type": "code",
   "execution_count": null,
   "id": "86009b76-2251-475d-9337-d5f9e12c5655",
   "metadata": {
    "scrolled": true
   },
   "outputs": [],
   "source": [
    "df[\"PHASE_OF_FLIGHT\"].value_counts().plot.bar()"
   ]
  },
  {
   "cell_type": "markdown",
   "id": "b65d7e95-19d5-4cd7-8e1d-aa55ce02eaf5",
   "metadata": {},
   "source": [
    "So there is nothing to surprising here. Phases of flight that are closer to the ground have more bird strikes. Since this variable is discrete, it might be useful to observe the **mode**, the most frequently occurring value(s). We can see that `Approach` is the mode, meaning that is the most common phase of flight for bird strikes. "
   ]
  },
  {
   "cell_type": "code",
   "execution_count": null,
   "id": "c2bc839d-06b2-4bff-a24f-697c5f487b3a",
   "metadata": {
    "scrolled": true
   },
   "outputs": [],
   "source": [
    "df[\"PHASE_OF_FLIGHT\"].mode()"
   ]
  },
  {
   "cell_type": "markdown",
   "id": "568ffeb6-9bbc-43ec-a3ce-25bd8d2cd598",
   "metadata": {},
   "source": [
    "## Speed Variable"
   ]
  },
  {
   "cell_type": "markdown",
   "id": "126fc2ad-3ac1-4beb-a699-fab044fbd8c7",
   "metadata": {},
   "source": [
    "Next let's take a look at `SPEED`. The faster a plane is going, the more likely the plane is going to be damaged colliding with a bird, hence resulting in a bird strike report. A bird that bumps into a slow-moving plane is less likely to count as a bird strike if no damage occurs, right? However, a spinning engine on a stationary aircraft can suck in a bird and certainly count as a bird strike too. \n",
    "\n",
    "Let's take a look. "
   ]
  },
  {
   "cell_type": "code",
   "execution_count": null,
   "id": "f0298224-4267-403f-9b1d-cf238677e6b5",
   "metadata": {
    "scrolled": true
   },
   "outputs": [],
   "source": [
    "df[\"SPEED\"].hist(bins=50)"
   ]
  },
  {
   "cell_type": "markdown",
   "id": "1225bc5f-2a11-44fb-a746-6585a520b71e",
   "metadata": {},
   "source": [
    "We seem to have a normal distribution here as indicated by the bell curve shape, with some extreme outliers to the right. This is going to be interesting. Let's take the mean and median of this. "
   ]
  },
  {
   "cell_type": "code",
   "execution_count": null,
   "id": "70477aaa-1c75-4090-ba90-560c6953376f",
   "metadata": {},
   "outputs": [],
   "source": [
    "speed_mean = df[\"SPEED\"].mean()\n",
    "speed_median = df[\"SPEED\"].median()\n",
    "\n",
    "print(f\"MEAN: {speed_mean} MEDIAN: {speed_median}\")"
   ]
  },
  {
   "cell_type": "markdown",
   "id": "e29fd104-f6f9-4d00-bcd6-27f65feb3b65",
   "metadata": {},
   "source": [
    "Sure enough, our mean is not very far from our median so we got a good-looking variable with some predictive value. And again, this might make sense. When an aircraft is moving slowly, it is not moving fast enough for a bird to hit in a damaging way (unless it gets sucked into an engine). If it is moving fast, it is likely at cruise altitude high and away from where birds are found. There might be a correlation even between speed and height which we will explore in the next section. "
   ]
  },
  {
   "cell_type": "markdown",
   "id": "f81ec3c3-65f6-4993-bb43-44a712984e2c",
   "metadata": {},
   "source": [
    "For good measure, let's approximate the probability distribution. If we use speed for certain tasks, we might consider chopping off the outliers in that right tail. "
   ]
  },
  {
   "cell_type": "code",
   "execution_count": null,
   "id": "52822a87-1e1d-43ab-897c-1b5e701befe9",
   "metadata": {},
   "outputs": [],
   "source": [
    "df[\"SPEED\"].plot.kde(xlim=(0,2000))"
   ]
  },
  {
   "cell_type": "markdown",
   "id": "afa78d03-5d32-465a-b06e-91347fc17ca4",
   "metadata": {},
   "source": [
    "## Outliers "
   ]
  },
  {
   "cell_type": "markdown",
   "id": "1e0ea35e-5f19-4568-9bea-61e9109b0bd9",
   "metadata": {},
   "source": [
    "**Outliers** are values that are far away from most of the values in a distribution. How we deal with outliers depends on what we are trying to do and the context of the problem. We may remove them, replace them, or just leave them be depending on what the outlier means to the problem at hand.\n",
    "\n",
    "While there are valid cases to remove outliers, just remember to ask what outliers mean in your application. Your smart thermostat may not need to learn from an unusually cold day in May, and that is an outlier you can safely consider removing. However, a pedestrian in a chicken costume disrupting a \"self-driving\" car's computer vision is a very serious issue, even if it is an outlier. We do not want to remove that as it indicates we have bigger problems with our domain. \n",
    "\n",
    "Outliers are a very difficult topic to get right and require not just an understanding of statistics, but also an understanding of the problem. Just keep that in mind!"
   ]
  },
  {
   "cell_type": "markdown",
   "id": "0cb546b9-e4e2-43c5-804c-388a8933eddc",
   "metadata": {},
   "source": [
    "### Interquartile Range (IQR) and Percentiles"
   ]
  },
  {
   "cell_type": "markdown",
   "id": "0e367c99-895b-475b-ba35-aa240db5d41d",
   "metadata": {},
   "source": [
    "Recall that a majority of bird strikes happened well before 10,000 feet, so this skews the data to the left heavily. "
   ]
  },
  {
   "cell_type": "code",
   "execution_count": null,
   "id": "71a8f269-1faa-4bcf-a9e5-a57c1b68c1c7",
   "metadata": {},
   "outputs": [],
   "source": [
    "df[\"HEIGHT\"].hist(bins=30)"
   ]
  },
  {
   "cell_type": "markdown",
   "id": "41e2248f-3f5b-4dc4-9667-d01c95f30006",
   "metadata": {},
   "source": [
    "Let's take a look at records where bird strikes exceeded that height and hypothesize those as outliers. "
   ]
  },
  {
   "cell_type": "code",
   "execution_count": null,
   "id": "f45e1a68-445a-4049-b4b9-a2c993c72b7f",
   "metadata": {},
   "outputs": [],
   "source": [
    "with pd.option_context('display.max_columns', None):\n",
    "    display(df[df[\"HEIGHT\"] > 10_000])"
   ]
  },
  {
   "cell_type": "markdown",
   "id": "09f30821-8b46-4f7b-9759-c8afcea4c865",
   "metadata": {},
   "source": [
    "Okay, 325 rows is somewhat small amount compared to the whole dataset. While this goes into bivariate analysis, let's satiate our curiosity and ask what species of birds are capable of flying this high according to the data. "
   ]
  },
  {
   "cell_type": "code",
   "execution_count": null,
   "id": "45e6d98c-6114-4265-973c-8f4eaae0dc60",
   "metadata": {},
   "outputs": [],
   "source": [
    "df[df[\"HEIGHT\"] > 10_000][\"SPECIES\"].value_counts(dropna=False)"
   ]
  },
  {
   "cell_type": "markdown",
   "id": "07fc5ee1-cdb1-477f-9f08-d864cc1987d0",
   "metadata": {},
   "source": [
    "Okay, a lot of unknown birds and a lot of diversity with no clear pattern. Are there any birds flying above 25,000 feet? "
   ]
  },
  {
   "cell_type": "code",
   "execution_count": null,
   "id": "f1e66193-cccc-458e-9165-e861ff268726",
   "metadata": {},
   "outputs": [],
   "source": [
    "with pd.option_context('display.max_rows', None, 'display.max_columns', None):\n",
    "    display(df[df[\"HEIGHT\"] > 25_000])"
   ]
  },
  {
   "cell_type": "markdown",
   "id": "526a209b-df1a-4558-935c-c72f28dcda2e",
   "metadata": {},
   "source": [
    "Interesting. We only had 3 instances where bird strikes occurred above 25,000 feet, including a \"Cliff swallow\" and a \"Wilson's warber.\" Is it possible birds can fly this high? If we do some research, the greatest record of a bird collision was in [1973 when a vulture collided at 37,000 feet](https://sora.unm.edu/sites/default/files/journals/wilson/v086n04/p0461-p0462.pdf). \n",
    "\n",
    "Let's formalize our analysis a bit more. As we saw,`HEIGHT` is not one of those cases that follow the nice bell curve shape of the normal distribution. Another way we can approach outliers in these cases is to use the **Interquartile Range (IQR) method**. The **IQR** is the difference between the 75th and 25th percentile. When referring to the quarterly percentiles (0, 25, 50, 75, and 100), we refer to them as quartiles. A 50 percent quartile would be the middle-most value (the median), or the average of the two most-centered values.\n",
    "\n",
    "A box plot  (also called a \"box and whiskers plot\") will visualize all of this quickly as shown below. \n",
    "\n",
    "<img src =\"https://github.com/thomasnield/anaconda_python_eda/raw/public/resource/8U7f1C6A.png\" width=\"600\"> </img>\n",
    "\n",
    "The `1.5` value is known as $ k $, and we can increase it to raise the threshold for what we consider an *outlier*. The box plot will not only show the range of the data, but also show where most data gravitates towards and its skewness. Let's show a `boxplot()` for `HEIGHT`. "
   ]
  },
  {
   "cell_type": "code",
   "execution_count": null,
   "id": "eb62cd05-4df8-45fe-a619-40c14de6f01e",
   "metadata": {},
   "outputs": [],
   "source": [
    "import seaborn as sns \n",
    "import matplotlib.pyplot as plt\n",
    "\n",
    "sns.boxplot(x=df['HEIGHT'])"
   ]
  },
  {
   "cell_type": "markdown",
   "id": "e3a7e2cf-936c-4b73-8f20-e0614308eea1",
   "metadata": {},
   "source": [
    "Well... that's a bit messy. The top 25% of values are above 1000 feet and spread all the way over 30,000 feet. The bottom 25% of values are extremely compressed though at 0 feet, as well as all the outliers. Is that true? Let's get those exact numbers. Let's also drop the NA's here because they will not provide value and distract from the values we do have. While unreported values can be problematic, let's determine it is okay to remove them. "
   ]
  },
  {
   "cell_type": "code",
   "execution_count": null,
   "id": "7f410ec0-3beb-43a4-a8c6-f76b4cf5d3f8",
   "metadata": {},
   "outputs": [],
   "source": [
    "from numpy import percentile\n",
    "\n",
    "q25 = percentile(df[\"HEIGHT\"].dropna(), 25)\n",
    "q75 = percentile(df[\"HEIGHT\"].dropna(), 75)\n",
    "\n",
    "q25, q75"
   ]
  },
  {
   "cell_type": "markdown",
   "id": "49d14fda-9695-44d5-b1a7-c81cda36efcb",
   "metadata": {},
   "source": [
    "So the bottom 25% of values are indeed at ground level, 0 feet. As a matter of fact, 44% of recorded `HEIGHT` values happen at ground level. We can calculate that like this:"
   ]
  },
  {
   "cell_type": "code",
   "execution_count": null,
   "id": "c51be6ba-8674-48fa-9a5c-4d83fb7f48ee",
   "metadata": {},
   "outputs": [],
   "source": [
    "sum(df[\"HEIGHT\"] == 0) / df[\"HEIGHT\"].dropna().shape[0]"
   ]
  },
  {
   "cell_type": "markdown",
   "id": "3bfc40c1-fff3-4d77-b5e8-e2c2144f2d3b",
   "metadata": {},
   "source": [
    "This might make sense as birds tend to hang around near the ground where food, nests, water, resting spots, and other habitat essentials are.\n",
    "\n",
    "Let's do the same proportion for at least 1000 feet. Sure enough, 26% of values are above 1000 feet. "
   ]
  },
  {
   "cell_type": "code",
   "execution_count": null,
   "id": "1c382d02-0edc-44da-9229-bcfc1e190c01",
   "metadata": {},
   "outputs": [],
   "source": [
    "sum(df[\"HEIGHT\"] >= 1000) / df[\"HEIGHT\"].dropna().shape[0]"
   ]
  },
  {
   "cell_type": "markdown",
   "id": "f214c9ae-4e7f-416b-afad-0d05f357a4af",
   "metadata": {},
   "source": [
    "So what could we consider outliers? Let's try any values exceeding $ Q1 \\pm 1.5 \\times \\text{IQR} $. That `1.5` would serve as the starting `k` value, and we can increase it for a higher outlier threshold if needed (e.g. we are getting \"too many\" outliers). "
   ]
  },
  {
   "cell_type": "code",
   "execution_count": null,
   "id": "e3315890-1390-4e53-9509-1fa9cdb4cb9e",
   "metadata": {},
   "outputs": [],
   "source": [
    "iqr = q75 - q25\n",
    "k = 1.5\n",
    "cut_off = iqr * k\n",
    "lower = q25 - cut_off\n",
    "upper = q75 + cut_off\n",
    "\n",
    "outliers = df[(df['HEIGHT'] < lower) | (df['HEIGHT'] > upper)]\n",
    "\n",
    "with pd.option_context('display.max_columns', None):\n",
    "    display(outliers)"
   ]
  },
  {
   "cell_type": "markdown",
   "id": "e66047de-d774-4719-a25c-504a91da73fa",
   "metadata": {},
   "source": [
    "We cannot say it is helpful to detect outliers in the lower direction, given how 0's dominate anything below the 44th percentile so they are not really outliers. But the upper direction might be useful, so let's just focus in that direction. Let's increase the `k` value to `10` because we really want to raise the threshold to see truly fringe values. "
   ]
  },
  {
   "cell_type": "code",
   "execution_count": null,
   "id": "458ea8e8-5ce3-4898-99a1-f3d1e39fe48d",
   "metadata": {
    "scrolled": true
   },
   "outputs": [],
   "source": [
    "iqr = q75 - q25\n",
    "k = 10\n",
    "cut_off = iqr * k\n",
    "upper = q75 + cut_off\n",
    "\n",
    "outliers = df[(df['HEIGHT'] > upper)]\n",
    "\n",
    "with pd.option_context('display.max_columns', None):\n",
    "    display(outliers)"
   ]
  },
  {
   "cell_type": "markdown",
   "id": "8177676f-4e20-4dcb-88cb-53e1f0bd0582",
   "metadata": {},
   "source": [
    "With such a crazy high treshhold, we get 219 outliers. Browsing the data there seems to be a lot of heavy airliners flown by UNITED AIRLINES and SOUTHWEST AIRLINES. At risk of going into bivariate analysis, let's take a look at the `AIRCRAFT` in these outliers to test this theory. "
   ]
  },
  {
   "cell_type": "code",
   "execution_count": null,
   "id": "f973ba92-b92b-49c2-944f-0a810c1ee07b",
   "metadata": {
    "scrolled": true
   },
   "outputs": [],
   "source": [
    "outliers[\"AIRCRAFT\"].value_counts(dropna=False)"
   ]
  },
  {
   "cell_type": "markdown",
   "id": "cdfb9e01-1708-4493-9c2c-976e0b7cd6d0",
   "metadata": {},
   "source": [
    "Okay, interesting... or maybe not! Airlines fly large aircraft like the 737-800 really high and quite frequently. And where there is more frequency, there is more opportunity to observe outliers like aircraft hitting birds at higher altitudes. Perhaps the [Law of Truly Large Numbers](https://en.wikipedia.org/wiki/Law_of_truly_large_numbers) is playing a role here `¯\\_(ツ)_/¯`."
   ]
  },
  {
   "cell_type": "markdown",
   "id": "f78a96f0-3af2-4982-be22-4715e74f9912",
   "metadata": {},
   "source": [
    "## Standard Deviation Outliers"
   ]
  },
  {
   "cell_type": "markdown",
   "id": "25b7fb2a-a969-4398-a071-16d153bea695",
   "metadata": {},
   "source": [
    "Since our `SPEED` variable seems to follow a normal distribution, we can detect outliers using standard deviations. \n",
    "\n",
    "Let's create another boxplot. "
   ]
  },
  {
   "cell_type": "code",
   "execution_count": null,
   "id": "46c83ebe-6c17-4256-8710-e7c0385f7c39",
   "metadata": {
    "scrolled": true
   },
   "outputs": [],
   "source": [
    "import seaborn as sns \n",
    "import matplotlib.pyplot as plt\n",
    "\n",
    "sns.boxplot(x=df['SPEED'])"
   ]
  },
  {
   "cell_type": "markdown",
   "id": "83c34562-69bf-4288-a4ab-e20522ea717f",
   "metadata": {},
   "source": [
    "Okay, that's fairly balanced. There are a few outliers on the right side but not many of them. Let's bring our attention to that right direction, specifically values greater than 3 standard deviations from the mean. "
   ]
  },
  {
   "cell_type": "code",
   "execution_count": null,
   "id": "01b818ae-d7fe-4fa4-895a-257e94ded9b7",
   "metadata": {
    "scrolled": true
   },
   "outputs": [],
   "source": [
    "speed_mean = df[\"SPEED\"].mean()\n",
    "speed_std = df[\"SPEED\"].std()\n",
    "outliers = df[df[\"SPEED\"] > (speed_mean+speed_std*3)]\n",
    "\n",
    "with pd.option_context('display.max_columns', None):\n",
    "    display(outliers)"
   ]
  },
  {
   "cell_type": "markdown",
   "id": "b15a266a-6461-4928-afa9-1361f7c59d3b",
   "metadata": {},
   "source": [
    "This leaves us with 129 records. We will explore this in relationship with other variables, like the aircraft type and the carrier, in the next section. Let's next look in the opposite direction, but there's one problem: 3 standard deviations to the left of the mean is negative, and we do not have recorded negative speeds. "
   ]
  },
  {
   "cell_type": "code",
   "execution_count": null,
   "id": "811811b0-ee0f-4d98-ac43-a9b088e11034",
   "metadata": {
    "scrolled": true
   },
   "outputs": [],
   "source": [
    "print(speed_mean-speed_std*3)"
   ]
  },
  {
   "cell_type": "markdown",
   "id": "e08e5a50-caeb-46d2-b993-cde4a860e6cf",
   "metadata": {},
   "source": [
    "Let's dial it back to 2.5 standard deviations. "
   ]
  },
  {
   "cell_type": "code",
   "execution_count": null,
   "id": "b915da54-0ac6-4351-bccb-ae48fe46ec79",
   "metadata": {},
   "outputs": [],
   "source": [
    "print(speed_mean-speed_std*2.5)"
   ]
  },
  {
   "cell_type": "code",
   "execution_count": null,
   "id": "745eb294-9dc4-40e3-aed8-e8c3a4beaf43",
   "metadata": {
    "scrolled": true
   },
   "outputs": [],
   "source": [
    "outliers = df[df[\"SPEED\"] < (speed_mean-speed_std*2.9)]\n",
    "with pd.option_context('display.max_rows', None, 'display.max_columns', None):\n",
    "    display(outliers)"
   ]
  },
  {
   "cell_type": "markdown",
   "id": "dbc14508-cfaa-4007-b22c-4a8a37b4cd58",
   "metadata": {},
   "source": [
    "Huh, a lot of these aircraft going so slow they were captured as outliers seem to be on the ground. Makes sense. We'll save that bivariate analysis for the next section for that deep dive. "
   ]
  },
  {
   "cell_type": "markdown",
   "id": "876f02e3-1ba9-42d7-8ee4-979238cef2b9",
   "metadata": {},
   "source": [
    "## EXERCISE"
   ]
  },
  {
   "attachments": {},
   "cell_type": "markdown",
   "id": "56da76e8-1e53-4aa1-87cb-3fdc59988be9",
   "metadata": {},
   "source": [
    "Explore the `DISTANCE` (which is nautical miles from the airport) and `AC_CLASS` variables. What can you observe about each of them? \n",
    "\n",
    "For context, `AC_CLASS` is decoded in the following table: \n",
    "\n",
    "| Aircraft Code | Aircraft Classification |\n",
    "|---------------|-------------------------|\n",
    "| A             | Airplane                |\n",
    "| B             | Helicopter              |\n",
    "| C             | Glider                  |\n",
    "| D             | Balloon                 |\n",
    "| F             | Dirigible               |\n",
    "| I             | Gyroplane               |\n",
    "| J             | Ultralight              |\n",
    "| Y             | Other                   |\n",
    "| Z             | Unknown                 |"
   ]
  },
  {
   "cell_type": "code",
   "execution_count": null,
   "id": "b993d12c-0327-4978-b2dd-ef6b1f6cfa79",
   "metadata": {},
   "outputs": [],
   "source": [
    "# PUT CODE HERE \n",
    "\n"
   ]
  },
  {
   "cell_type": "markdown",
   "id": "d10a54e7-f5f1-45d5-b533-fa5f6f846d6c",
   "metadata": {},
   "source": [
    "### SCROLL DOWN FOR ANSWER\n",
    "|<br>\n",
    "|<br>\n",
    "|<br>\n",
    "|<br>\n",
    "|<br>\n",
    "|<br>\n",
    "|<br>\n",
    "|<br>\n",
    "|<br>\n",
    "|<br>\n",
    "|<br>\n",
    "|<br>\n",
    "|<br>\n",
    "|<br>\n",
    "|<br>\n",
    "|<br>\n",
    "|<br>\n",
    "|<br>\n",
    "|<br>\n",
    "|<br>\n",
    "|<br>\n",
    "|<br>\n",
    "|<br>\n",
    "v "
   ]
  },
  {
   "cell_type": "markdown",
   "id": "288df9ca-5316-4cb0-8202-8d87747d6cb8",
   "metadata": {},
   "source": [
    "Using a histogram and KDE plot, we can see that bird strikes skew heavily near the airport. "
   ]
  },
  {
   "cell_type": "code",
   "execution_count": null,
   "id": "1267a5e2-b283-4ead-ab7a-bda0dcc12bc0",
   "metadata": {},
   "outputs": [],
   "source": [
    "df[\"DISTANCE\"].hist(bins=30)"
   ]
  },
  {
   "cell_type": "code",
   "execution_count": null,
   "id": "97c5bd38-a247-4e06-ac3c-0df6679fa0b1",
   "metadata": {},
   "outputs": [],
   "source": [
    "df[\"DISTANCE\"].plot.kde(xlim=(0,150))"
   ]
  },
  {
   "cell_type": "markdown",
   "id": "cf85383c-23af-4ea2-b406-f4491f7f53cf",
   "metadata": {},
   "source": [
    "With `AC_CLASS`, bird strikes happen overwhelmingly to planes (class `A`) followed by helicopters (class `B`). This makes sense as gliders and ultralight aircraft are probably less common, rather than because aircraft and helicopters are more vulnerable to bird strikes."
   ]
  },
  {
   "cell_type": "code",
   "execution_count": null,
   "id": "cd99b51a-73ad-4a61-961d-5207e070572f",
   "metadata": {},
   "outputs": [],
   "source": [
    "df[\"AC_CLASS\"].value_counts().plot.bar()"
   ]
  }
 ],
 "metadata": {
  "kernelspec": {
   "display_name": "anaconda-2024.02-py310",
   "language": "python",
   "name": "conda-env-anaconda-2024.02-py310-py"
  },
  "language_info": {
   "codemirror_mode": {
    "name": "ipython",
    "version": 3
   },
   "file_extension": ".py",
   "mimetype": "text/x-python",
   "name": "python",
   "nbconvert_exporter": "python",
   "pygments_lexer": "ipython3",
   "version": "3.10.14"
  },
  "vscode": {
   "interpreter": {
    "hash": "b0fa6594d8f4cbf19f97940f81e996739fb7646882a419484c72d19e05852a7e"
   }
  }
 },
 "nbformat": 4,
 "nbformat_minor": 5
}
