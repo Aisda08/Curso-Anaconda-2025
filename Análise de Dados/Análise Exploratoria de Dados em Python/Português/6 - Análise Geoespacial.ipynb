{
 "cells": [
  {
   "cell_type": "markdown",
   "id": "1c3926b6-9429-4a43-98d3-0c92c13ef871",
   "metadata": {},
   "source": [
    "# Análise Geoespacial"
   ]
  },
  {
   "cell_type": "markdown",
   "id": "aa5c8854-9973-4656-bc16-4bfa017b4c22",
   "metadata": {},
   "source": [
    "Nesta seção, abordaremos algumas análises geoespaciais super básicas com Python. Como temos coordenadas de latitude e longitude em alguns dos nossos dados de colisão com pássaros, pode fazer sentido plotá-los para ver se conseguimos identificar algumas tendências geográficas. É verdade que uma análise completa exigiria a inclusão de horários de voos e outros dados externos, mas aprenderemos apenas o suficiente para nos familiarizarmos com o assunto."
   ]
  },
  {
   "cell_type": "markdown",
   "id": "87c6833b-ef5d-4c0d-82bf-dcdf4a326d69",
   "metadata": {},
   "source": [
    "## Mapa Básico Usando Geopandas"
   ]
  },
  {
   "cell_type": "markdown",
   "id": "11fc7e25-b94c-420c-8973-df871760a074",
   "metadata": {},
   "source": [
    "**Análise geoespacial** usa SIG e camadas de mapa para dar sentido a padrões geográficos em dados. Trabalha com mapas geográficos. Existe uma biblioteca útil chamada Geopandas para lidar com análise geoespacial, e ela estende o Pandas com um recurso simples e inteligente: adiciona uma coluna `geometry` a um determinado dataframe.\n",
    "\n",
    "Obter dados de mapeamento pode ser bastante complexo, mas existe um site [Natural Earth](https://www.naturalearthdata.com/) que fornece alguns conjuntos de dados de mapeamento gratuitos para trabalhar. Já baixei alguns desses conjuntos de dados junto com este notebook. Vamos trazer o arquivo \"countries\" e exibi-lo."
   ]
  },
  {
   "cell_type": "code",
   "execution_count": null,
   "id": "d329010e-5bd4-4d4c-a5ba-0c89335d8b57",
   "metadata": {},
   "outputs": [],
   "source": [
    "import geopandas as gpd\n",
    "import matplotlib.pyplot as plt\n",
    "\n",
    "# Baixe o shapefile mundial do site da Natural Earth\n",
    "world = gpd.read_file(r\"https://github.com/thomasnield/anaconda_python_eda/raw/public/resource/ne_110m_admin_0_countries/ne_110m_admin_0_countries.shp\")\n",
    "\n",
    "# Plot o mapa mundial\n",
    "ax = world.plot()\n",
    "\n",
    "# Mostre o gráfico\n",
    "plt.show()"
   ]
  },
  {
   "cell_type": "markdown",
   "id": "96e0bd52-0a6d-4a7e-9f86-2784a9e72fac",
   "metadata": {},
   "source": [
    "Isso nos dá um mapa-múndi. Muito bom. Mas o que exatamente é esse objeto que lemos de um arquivo em `geopandas`?"
   ]
  },
  {
   "cell_type": "code",
   "execution_count": null,
   "id": "7804e48f-3127-4d40-99a9-cd325b1c03c9",
   "metadata": {},
   "outputs": [],
   "source": [
    "world"
   ]
  },
  {
   "cell_type": "markdown",
   "id": "a7eed3f4-fd28-4bea-8bcc-78901d14495a",
   "metadata": {},
   "source": [
    "Se isso se parece com um `DataFrame`, é porque é. Mais corretamente, é um `GeoDataFrame` e o que o diferencia é que ele possui uma coluna `geometry` para lidar com a representação de mapeamento de cada registro.\n",
    "\n",
    "Existem algumas funções Pandas familiares e úteis que podemos usar com um `GeoDataFrame`. Por exemplo, só consigo obter registros que sejam soberanos dos Estados Unidos da América."
   ]
  },
  {
   "cell_type": "code",
   "execution_count": null,
   "id": "b2c30242-4496-4593-8693-57334bacf36c",
   "metadata": {},
   "outputs": [],
   "source": [
    "world[world[\"SOVEREIGNT\"] == \"United States of America\"]"
   ]
  },
  {
   "cell_type": "markdown",
   "id": "43e95fa0-163f-49e7-b458-d83eb59af24e",
   "metadata": {},
   "source": [
    "Interessante. Obtivemos os próprios Estados Unidos, bem como seu território, Porto Rico. Também podemos simplesmente plotar esses resultados."
   ]
  },
  {
   "cell_type": "code",
   "execution_count": null,
   "id": "6558c30b-b452-4357-b6f2-576d07f37fbd",
   "metadata": {
    "scrolled": true
   },
   "outputs": [],
   "source": [
    "usa = world[(world[\"SOVEREIGNT\"] == \"United States of America\")]\n",
    "\n",
    "# Plot o mapa do mundo\n",
    "ax = usa.plot()"
   ]
  },
  {
   "cell_type": "markdown",
   "id": "1eaa084a-b43a-41ce-8262-87a095e02933",
   "metadata": {},
   "source": [
    "Vamos recuar e trazer não apenas o mundo inteiro, mas também todos os dados de colisão de pássaros para os quais temos dados de latitude e longitude. Lembre-se de que não temos valores de latitude e longitude para todos os registros. Vamos obter essa contagem."
   ]
  },
  {
   "cell_type": "code",
   "execution_count": null,
   "id": "e8a9714c-bb22-46b2-aa2f-3af8f4eb7fb8",
   "metadata": {},
   "outputs": [],
   "source": [
    "import pandas as pd \n",
    "\n",
    "df = pd.read_csv(r\"https://github.com/thomasnield/anaconda_python_eda/raw/public/birdstrike_section2.csv\")\n",
    "\n",
    "((df[\"LATITUDE\"].notna()) & df[\"LONGITUDE\"].notna()).value_counts()"
   ]
  },
  {
   "cell_type": "markdown",
   "id": "f164bf95-7136-446b-a9c1-0577ef59cb42",
   "metadata": {},
   "source": [
    "Temos 121.359 registros com valores de latitude e longitude e 19.710 registros sem valores. Podemos conviver com isso e explorar por que esses locais não foram fornecidos. Mas deixaremos nossos gráficos ignorarem esses valores ausentes.\n",
    "\n",
    "Vamos agora criar um `GeoDataFrame` separado, chamado `gdf`, que receberá os dados de colisão com pássaros e, em seguida, adicionará a coluna `geometry` usando as colunas `LONGITUDE` e `LATITUDE`. O GeoPandas possui uma função conveniente, `points_from_xy`, que fará essa conversão."
   ]
  },
  {
   "cell_type": "code",
   "execution_count": null,
   "id": "5e3cbef5-e856-483b-a815-968d6de9bacd",
   "metadata": {},
   "outputs": [],
   "source": [
    "import geopandas as gpd\n",
    "import matplotlib.pyplot as plt\n",
    "\n",
    "# Baixe o shapefile mundial do site da Natural Earth\n",
    "world = gpd.read_file(r\"https://github.com/thomasnield/anaconda_python_eda/raw/public/resource/ne_110m_admin_0_countries/ne_110m_admin_0_countries.shp\")\n",
    "\n",
    "gdf = gpd.GeoDataFrame(df, geometry=gpd.points_from_xy(x=df[\"LONGITUDE\"],y=df[\"LATITUDE\"]),crs=\"EPSG:4326\")\n",
    "\n",
    "# Plot o mapa mundial\n",
    "ax = world.plot()\n",
    "\n",
    "gdf.plot(ax=ax, color='red', markersize=5)\n",
    "\n",
    "# Mostre o gráfico\n",
    "plt.show()"
   ]
  },
  {
   "cell_type": "markdown",
   "id": "d4efb14c-90f3-4b11-bf63-c14f75929042",
   "metadata": {},
   "source": [
    "E, só por curiosidade, vamos dar uma olhada nesse `GeoDataFrame`. Com certeza, ele possui a coluna `geometry`, que permite que o gráfico acima seja possível."
   ]
  },
  {
   "cell_type": "code",
   "execution_count": null,
   "id": "30c6031e-9cbf-41c0-a5c7-6377eefc534e",
   "metadata": {},
   "outputs": [],
   "source": [
    "with pd.option_context('display.max_columns', None):\n",
    "    display(gdf)"
   ]
  },
  {
   "cell_type": "markdown",
   "id": "e7743e94-5bfc-4b95-8060-5cfcfaef7e3b",
   "metadata": {},
   "source": [
    "Podemos \"dar um zoom\" apenas nos Estados Unidos, se quisermos, já que esses dados vêm de uma agência americana: a FAA. Isso significa que veremos um forte viés de incidentes nos EUA, já que a FAA rastreia apenas voos que chegam ou partem dos EUA. Podemos usar uma junção espacial `sjoin()` para incluir apenas colisões com pássaros que existam dentro dos contornos dos Estados Unidos."
   ]
  },
  {
   "cell_type": "code",
   "execution_count": null,
   "id": "bd510aa3-8cff-4e47-a045-cac982fbcc04",
   "metadata": {},
   "outputs": [],
   "source": [
    "import geopandas as gpd\n",
    "import matplotlib.pyplot as plt\n",
    "import pandas as pd \n",
    "\n",
    "usa = world[(world[\"SOVEREIGNT\"] == \"United States of America\") & (world[\"TYPE\"] == \"Country\")]\n",
    "\n",
    "# Plot o mapa mundial\n",
    "ax = usa.plot()\n",
    "\n",
    "# Plot apenas os pontos dos EUA\n",
    "usa_points = gpd.sjoin(gdf, usa, predicate='within')\n",
    "usa_points.plot(ax=ax, color='red', markersize=.1)\n",
    "\n",
    "# Mostre o gráfico\n",
    "plt.show()"
   ]
  },
  {
   "cell_type": "markdown",
   "id": "e6414d7a-21ba-4e93-a1c1-bb49821c3347",
   "metadata": {},
   "source": [
    "## Províncias e Estados"
   ]
  },
  {
   "cell_type": "markdown",
   "id": "3eda3540-d1ea-4bb9-a065-6c24ecf58cae",
   "metadata": {},
   "source": [
    "Digamos que queremos ampliar ainda mais. Vamos trazer o conjunto de dados de estados e províncias."
   ]
  },
  {
   "cell_type": "code",
   "execution_count": null,
   "id": "9a163ae4-478c-4945-bc2a-03d7064c89eb",
   "metadata": {},
   "outputs": [],
   "source": [
    "states = gpd.read_file(r\"https://github.com/thomasnield/anaconda_python_eda/raw/public/resource/ne_110m_admin_1_states_provinces/ne_110m_admin_1_states_provinces.shp\")\n",
    "states"
   ]
  },
  {
   "cell_type": "markdown",
   "id": "ac01ba2f-4fbd-46cc-9f3c-0218b9eea18c",
   "metadata": {},
   "source": [
    "Observe que, quando plotamos os estados, agora vemos as fronteiras."
   ]
  },
  {
   "cell_type": "code",
   "execution_count": null,
   "id": "23f53cda-018d-403c-876f-5c0552a91697",
   "metadata": {},
   "outputs": [],
   "source": [
    "states.plot()"
   ]
  },
  {
   "cell_type": "markdown",
   "id": "19b3941a-c8a4-4543-8eb1-892011cbb1bc",
   "metadata": {},
   "source": [
    "Vamos remover o Alasca e o Havaí e fazer uma junção espacial apenas com colisões com pássaros no continente."
   ]
  },
  {
   "cell_type": "code",
   "execution_count": null,
   "id": "5d366a62-acd9-48ba-a30f-ba6e2a9d2b16",
   "metadata": {},
   "outputs": [],
   "source": [
    "mainland = states[~states['name'].isin(['Alaska', 'Hawaii'])]\n",
    "\n",
    "mainland_points = gpd.sjoin(gdf, mainland, predicate='within')\n",
    "\n",
    "ax = mainland.plot()\n",
    "mainland_points.plot(ax=ax, color='red', markersize=.1)\n",
    "\n",
    "plt.show()"
   ]
  },
  {
   "cell_type": "markdown",
   "id": "26cfb611-7094-4799-8c25-f2d57c3e4cf3",
   "metadata": {},
   "source": [
    "Para a próxima parte, quero também ver os aeroportos e verificar se colisões com pássaros (sem surpresa) acontecem perto deles. Lembre-se de que colisões com pássaros são mais propensas a acontecer durante as fases de decolagem e pouso. Vamos trazer estes dados de aeroporto que obtive da FAA."
   ]
  },
  {
   "cell_type": "code",
   "execution_count": null,
   "id": "19774b6e-bce5-4171-984f-6130ab381098",
   "metadata": {
    "scrolled": true
   },
   "outputs": [],
   "source": [
    "airports = pd.read_csv(r\"https://github.com/thomasnield/anaconda_python_eda/raw/public/resource/Airports.csv\", usecols=['Icao_Ident','the_geom'])\n",
    "airports "
   ]
  },
  {
   "cell_type": "markdown",
   "id": "f721b1db-cce4-4f73-a53d-2dd94a37ba41",
   "metadata": {},
   "source": [
    "Eu só extraí duas colunas e observei que uma delas tem uma coluna chamada `the_geom`, que achamos que funcionaria com o GeoPandas. Por algum motivo, não funcionou. Então, farei uma limpeza separando as colunas `Longitude` e `Latitude` com expressões regulares, removendo os elementos padrão, como os parênteses e `Point`, e então construirei um novo GeoDataFrame em torno desses dois valores."
   ]
  },
  {
   "cell_type": "code",
   "execution_count": null,
   "id": "70d6c63e-d36b-4637-87dd-ee1f97d0ad00",
   "metadata": {},
   "outputs": [],
   "source": [
    "airports[['Longitude', 'Latitude']] = airports['the_geom'].str.split(r\"(?<=[0-9])[ ](?=[-0-9])\",regex=True, expand=True)\n",
    "\n",
    "airports['Longitude'] = airports['Longitude'].str.replace('[^-0-9.]','', regex=True)\n",
    "airports['Latitude'] = airports['Latitude'].str.replace('[^-0-9.]','', regex=True)\n",
    "\n",
    "airports = gpd.GeoDataFrame(airports, geometry=gpd.points_from_xy(x=airports[\"Longitude\"],y=airports[\"Latitude\"]),crs=\"EPSG:4326\")\n",
    "airports"
   ]
  },
  {
   "cell_type": "markdown",
   "id": "75323c45-87e8-4187-af0e-772932b2d72a",
   "metadata": {},
   "source": [
    "Agora posso dar uma olhada nas colisões com pássaros ao lado dos aeroportos. Vou fazer os aeroportos com pontos brancos e, para focar, vou olhar para o estado do Texas."
   ]
  },
  {
   "cell_type": "code",
   "execution_count": null,
   "id": "9470d63f-abfc-4b88-99c4-a2ae6834aba0",
   "metadata": {},
   "outputs": [],
   "source": [
    "texas = states[states['name'].isin(['Texas'])]\n",
    "\n",
    "texas_points = gpd.sjoin(gdf, texas, predicate='within')\n",
    "texas_airports = gpd.sjoin(airports, texas, predicate='within')\n",
    "\n",
    "ax = texas.plot()\n",
    "texas_airports.plot(ax=ax, color='white', markersize=1)\n",
    "texas_points.plot(ax=ax, color='red', markersize=2)\n",
    "\n",
    "plt.show()"
   ]
  },
  {
   "cell_type": "markdown",
   "id": "7bdbeecb-89f3-49ae-aa82-e9e52dc9663f",
   "metadata": {},
   "source": [
    "Parece que há muitas colisões com pássaros onde há um conjunto de aeroportos. Gostaria de saber se esse conjunto no norte do Texas tem muitas colisões com pássaros para voos relacionados ao Dallas. Dallas é notoriamente movimentada em nível global. Você pode investigar isso?\n",
    "\n",
    "Vamos olhar para a Flórida também."
   ]
  },
  {
   "cell_type": "code",
   "execution_count": null,
   "id": "d91982d5-3ca5-4343-baac-526f53cc9075",
   "metadata": {},
   "outputs": [],
   "source": [
    "florida = states[states['name'].isin(['Florida'])]\n",
    "\n",
    "florida_points = gpd.sjoin(gdf, florida, predicate='within')\n",
    "florida_airports = gpd.sjoin(airports, florida, predicate='within')\n",
    "\n",
    "ax = florida.plot()\n",
    "florida_airports.plot(ax=ax, color='white', markersize=1)\n",
    "florida_points.plot(ax=ax, color='red', markersize=2)\n",
    "\n",
    "plt.show()"
   ]
  },
  {
   "cell_type": "markdown",
   "id": "7d753d2d-0260-4a4d-9e69-6c078d832208",
   "metadata": {},
   "source": [
    "Há um sinal menos óbvio na Flórida. Poderia ajudar se filtrássemos aeroportos que são pistas pequenas ou minúsculas, e poderíamos filtrar isso pelo número de voos por dia. Há muitas análises interessantes que poderíamos fazer aqui, especialmente à medida que trazemos mais dados externos! Mas, por uma questão de tempo, vamos encerrar por aqui. Recomendo que você busque esses dados e continue explorando!"
   ]
  },
  {
   "cell_type": "markdown",
   "id": "300bbec9-9cac-4ea3-a28e-d84d6e52bf24",
   "metadata": {},
   "source": [
    "## Exercício"
   ]
  },
  {
   "cell_type": "markdown",
   "id": "a01079ae-2361-4b39-ba8a-6278d36a7203",
   "metadata": {},
   "source": [
    "Complete o código (substituindo os pontos de interrogação \"?\") abaixo para plotar colisões com pássaros e aeroportos no estado de Nova York."
   ]
  },
  {
   "cell_type": "code",
   "execution_count": null,
   "id": "972ec3de-2557-44d3-8d3d-bdcf6dfb7092",
   "metadata": {},
   "outputs": [],
   "source": [
    "import geopandas as gpd\n",
    "import pandas as pd \n",
    "import matplotlib.pyplot as plt\n",
    "\n",
    "df = pd.read_csv(r\"https://github.com/thomasnield/anaconda_python_eda/raw/public/birdstrike_section2.csv\")\n",
    "gdf = gpd.GeoDataFrame(?, geometry=gpd.points_from_xy(x=df[\"LONGITUDE\"],y=df[\"LATITUDE\"]),crs=\"EPSG:4326\")\n",
    "states = gpd.read_file(r\"https://github.com/thomasnield/anaconda_python_eda/raw/public/resource/ne_110m_admin_1_states_provinces/ne_110m_admin_1_states_provinces.shp\")\n",
    "\n",
    "airports = pd.read_csv(r\"https://github.com/thomasnield/anaconda_python_eda/raw/public/resource/Airports.csv\", usecols=['Icao_Ident','the_geom'])\n",
    "airports[['Longitude', 'Latitude']] = airports['the_geom'].str.split(r\"(?<=[0-9])[ ](?=[-0-9])\",regex=True, expand=True)\n",
    "airports['Longitude'] = airports['Longitude'].str.replace('[^-0-9.]','', regex=True)\n",
    "airports['Latitude'] = airports['Latitude'].str.replace('[^-0-9.]','', regex=True)\n",
    "airports = gpd.GeoDataFrame(?, geometry=gpd.points_from_xy(x=airports[\"Longitude\"],y=airports[\"Latitude\"]),crs=\"EPSG:4326\")\n",
    "\n",
    "new_york = states[states['name'].isin(['New York'])]\n",
    "\n",
    "new_york_points = gpd.sjoin(?, ?, predicate=?)\n",
    "new_york_airports = gpd.sjoin(?, ?, predicate=?)\n",
    "\n",
    "ax = new_york.plot()\n",
    "new_york_airports.plot(ax=ax, color='white', markersize=1)\n",
    "new_york_points.plot(ax=ax, color='red', markersize=2)\n",
    "\n",
    "plt.show()"
   ]
  },
  {
   "cell_type": "markdown",
   "id": "d4dd13eb-9333-4d4f-84eb-fa603818e8a0",
   "metadata": {},
   "source": [
    "### RESPOSTA A BAIXO\n",
    "\n",
    "|<br>\n",
    "|<br>\n",
    "|<br>\n",
    "|<br>\n",
    "|<br>\n",
    "|<br>\n",
    "|<br>\n",
    "|<br>\n",
    "|<br>\n",
    "|<br>\n",
    "|<br>\n",
    "|<br>\n",
    "|<br>\n",
    "|<br>\n",
    "|<br>\n",
    "|<br>\n",
    "|<br>\n",
    "|<br>\n",
    "|<br>\n",
    "|<br>\n",
    "|<br>\n",
    "|<br>\n",
    "|<br>\n",
    "v "
   ]
  },
  {
   "cell_type": "code",
   "execution_count": null,
   "id": "4254f418-d18a-4dc9-bc35-ac9713d40fd4",
   "metadata": {},
   "outputs": [],
   "source": [
    "import geopandas as gpd\n",
    "import pandas as pd \n",
    "import matplotlib.pyplot as plt\n",
    "\n",
    "df = pd.read_csv(r\"https://github.com/thomasnield/anaconda_python_eda/raw/public/birdstrike_section2.csv\")\n",
    "gdf = gpd.GeoDataFrame(df, geometry=gpd.points_from_xy(x=df[\"LONGITUDE\"],y=df[\"LATITUDE\"]),crs=\"EPSG:4326\")\n",
    "states = gpd.read_file(r\"resource/ne_110m_admin_1_states_provinces/ne_110m_admin_1_states_provinces.shp\")\n",
    "\n",
    "airports = pd.read_csv(r\"https://github.com/thomasnield/anaconda_python_eda/raw/public/resource/Airports.csv\", usecols=['Icao_Ident','the_geom'])\n",
    "airports[['Longitude', 'Latitude']] = airports['the_geom'].str.split(r\"(?<=[0-9])[ ](?=[-0-9])\",regex=True, expand=True)\n",
    "airports['Longitude'] = airports['Longitude'].str.replace('[^-0-9.]','', regex=True)\n",
    "airports['Latitude'] = airports['Latitude'].str.replace('[^-0-9.]','', regex=True)\n",
    "airports = gpd.GeoDataFrame(airports, geometry=gpd.points_from_xy(x=airports[\"Longitude\"],y=airports[\"Latitude\"]),crs=\"EPSG:4326\")\n",
    "\n",
    "new_york = states[states['name'].isin(['New York'])]\n",
    "\n",
    "new_york_points = gpd.sjoin(gdf, new_york, predicate='within')\n",
    "new_york_airports = gpd.sjoin(airports, new_york, predicate='within')\n",
    "\n",
    "ax = new_york.plot()\n",
    "new_york_airports.plot(ax=ax, color='white', markersize=1)\n",
    "new_york_points.plot(ax=ax, color='red', markersize=2)\n",
    "\n",
    "plt.show()"
   ]
  }
 ],
 "metadata": {
  "kernelspec": {
   "display_name": "anaconda-2024.02-py310",
   "language": "python",
   "name": "conda-env-anaconda-2024.02-py310-py"
  },
  "language_info": {
   "codemirror_mode": {
    "name": "ipython",
    "version": 3
   },
   "file_extension": ".py",
   "mimetype": "text/x-python",
   "name": "python",
   "nbconvert_exporter": "python",
   "pygments_lexer": "ipython3",
   "version": "3.11.5"
  }
 },
 "nbformat": 4,
 "nbformat_minor": 5
}
