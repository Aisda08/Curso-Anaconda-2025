{
 "cells": [
  {
   "cell_type": "markdown",
   "id": "46088efb-53a0-4bac-9e6d-d395614f6031",
   "metadata": {},
   "source": [
    "# Análise Univariada e Outliers"
   ]
  },
  {
   "cell_type": "markdown",
   "id": "2c2a0100-6f24-4054-988b-3f5633ab7492",
   "metadata": {},
   "source": [
    "Abordaremos alguns dos fundamentos da descrição de dados, uma variável de cada vez, chamada **análise univariada**, e esse conhecimento será aplicado à análise de outliers.\n",
    "\n",
    "Lembre-se de que a análise exploratória de dados pode ser demorada, especialmente à medida que você analisa cada variável. Buracos nos dados podem frequentemente levar você a caminhos que consomem horas, até mesmo dias ou semanas, mas, por uma questão de conveniência, mostraremos esse processo com algumas variáveis ​​que hipotetizamos serem relevantes para colisões com pássaros.\n",
    "\n",
    "Vamos começar trazendo os dados da última seção."
   ]
  },
  {
   "cell_type": "code",
   "execution_count": null,
   "id": "3992035c-bb4f-4da8-88ae-6517a8f9b55f",
   "metadata": {
    "scrolled": true
   },
   "outputs": [],
   "source": [
    "import pandas as pd \n",
    "\n",
    "url = r\"https://github.com/thomasnield/anaconda_python_eda/raw/public/birdstrike_section2.csv\"\n",
    "df = pd.read_csv(url, index_col='INDEX_NR', parse_dates=[\"INCIDENT_DATE\"])\n",
    "with pd.option_context('display.max_columns', None):\n",
    "  display(df)"
   ]
  },
  {
   "cell_type": "markdown",
   "id": "7ea48298-78cf-4463-8135-c2570b3fbe19",
   "metadata": {},
   "source": [
    "Vamos também cuidar de algumas conversões de tipos de dados que não são salvas no CSV."
   ]
  },
  {
   "cell_type": "code",
   "execution_count": null,
   "id": "8f1ccf50-c77b-4530-834a-af18de86838c",
   "metadata": {},
   "outputs": [],
   "source": [
    "# Transforme PHASE_OF_FLIGHT em uma categoria\n",
    "phase_of_flt = pd.CategoricalDtype(categories=['Parked', 'Taxi','Take-off Run', 'Approach', 'Departure', 'Climb', 'En Route',\n",
    "                                               'Descent', 'Landing Roll', 'Arrival', 'Local'])\n",
    "\n",
    "df[\"PHASE_OF_FLIGHT\"] = df[\"PHASE_OF_FLIGHT\"].astype(phase_of_flt)\n",
    "\n",
    "# Transformar TIME em tipo timedelta\n",
    "df[\"TIME\"] = pd.to_timedelta(df[\"TIME\"])"
   ]
  },
  {
   "cell_type": "markdown",
   "id": "133eda8e-2cbe-479f-94df-316b8b182557",
   "metadata": {},
   "source": [
    "## Variável de Altura"
   ]
  },
  {
   "cell_type": "markdown",
   "id": "1a69d301-e525-40d2-8f08-367151ec8a82",
   "metadata": {},
   "source": [
    "Vamos começar com algumas teorias sobre algumas das variáveis. Talvez a variável `HEIGHT` (a altitude) possa ser relevante para a ocorrência ou não de colisões com pássaros. Afinal, os pássaros precisam pousar para comer e cuidar de seus ninhos. Podemos chamar a função `hist()` nesta coluna para criar um histograma."
   ]
  },
  {
   "cell_type": "code",
   "execution_count": null,
   "id": "e0072a15-42d8-4b74-a51a-777db40702b6",
   "metadata": {
    "scrolled": true
   },
   "outputs": [],
   "source": [
    "df[\"HEIGHT\"].hist(bins=10)"
   ]
  },
  {
   "cell_type": "markdown",
   "id": "64d38260-c01b-4a9b-a6d4-1ec6b6866c3a",
   "metadata": {},
   "source": [
    "Ok, isso é interessante. Parece que as colisões com pássaros se distorcem bastante em altitudes mais baixas. Vamos aumentar o número de caixas para obter mais resolução. Não queremos ter muitas caixas porque não temos uma quantidade infinita de dados e, portanto, encontraremos um retorno decrescente e, em seguida, uma perda de informações."
   ]
  },
  {
   "cell_type": "code",
   "execution_count": null,
   "id": "f0e49c2b-6048-4ca3-a7d5-5410674f867d",
   "metadata": {
    "scrolled": true
   },
   "outputs": [],
   "source": [
    "df[\"HEIGHT\"].hist(bins=30)"
   ]
  },
  {
   "cell_type": "markdown",
   "id": "1929f95b-7cca-4212-9558-5acd2bf6a878",
   "metadata": {},
   "source": [
    "A maioria das colisões com pássaros ocorre predominantemente abaixo de 300 metros. Isso faz sentido porque os pássaros, embora frequentemente estejam no ar, voam em grande parte perto do solo. Observe que você também pode construir um histograma diretamente com `matplotlib`. Isso nos permite trazer mais detalhes para o gráfico, como rotular as contagens para cada barra."
   ]
  },
  {
   "cell_type": "code",
   "execution_count": null,
   "id": "ac1d64bd-01f9-4955-a5b3-4ef622f47608",
   "metadata": {
    "scrolled": true
   },
   "outputs": [],
   "source": [
    "from matplotlib import pyplot as plt\n",
    "import pandas as pd\n",
    "import numpy as np\n",
    "\n",
    "values, bins, bars = plt.hist(df['HEIGHT'], bins=30, edgecolor='white')\n",
    "plt.xlabel(\"HEIGHT (Feet)\")\n",
    "plt.ylabel(\"# BIRD STRIKES\")\n",
    "plt.title('Height vs Bird Strike Incidents')\n",
    "plt.bar_label(bars, fontsize=10, color='navy')\n",
    "plt.margins(x=0.01, y=0.1)\n",
    "plt.show()"
   ]
  },
  {
   "cell_type": "markdown",
   "id": "4145e351-0fe9-4034-adec-99368a3a5d98",
   "metadata": {},
   "source": [
    "Você pode detectar uma assimetria comparando a **média** (a média da amostra) e a **mediana** (valor mais central da amostra) de uma determinada variável. Se as duas forem muito diferentes, temos uma variável altamente assimétrica, como pode ser visualmente observado acima."
   ]
  },
  {
   "cell_type": "code",
   "execution_count": null,
   "id": "daf7512d-331d-4d0f-98a3-bf7a64f0b42e",
   "metadata": {
    "scrolled": true
   },
   "outputs": [],
   "source": [
    "height_mean = df[\"HEIGHT\"].mean()\n",
    "height_median = df[\"HEIGHT\"].median()\n",
    "\n",
    "print(f\"MEAN: {height_mean} MEDIAN: {height_median}\")"
   ]
  },
  {
   "cell_type": "markdown",
   "id": "dd7e78b3-cf15-463a-9793-7a285bc71555",
   "metadata": {},
   "source": [
    "A propósito, você pode aproximar a distribuição usando uma [estimativa de densidade do kernel (KDE)](https://pandas.pydata.org/docs/reference/api/pandas.Series.plot.density.html). "
   ]
  },
  {
   "cell_type": "code",
   "execution_count": null,
   "id": "d614a335-8bab-48e5-9538-3d429914bcee",
   "metadata": {},
   "outputs": [],
   "source": [
    "df[\"HEIGHT\"].plot.kde(xlim=(0,50_000))"
   ]
  },
  {
   "cell_type": "markdown",
   "id": "86abeb4e-8ab8-465f-8ba8-9a2974357118",
   "metadata": {},
   "source": [
    "## Variável de Fase de Voo"
   ]
  },
  {
   "cell_type": "markdown",
   "id": "f38cdfee-41f0-4ca7-8a2a-f8d1f062753f",
   "metadata": {},
   "source": [
    "Em relação à `HEIGHT`, vamos analisar a `PHASE_OF_FLIGHT`. Para contextualizar, aqui está um ciclo típico que visualiza as fases do voo. Observe que, dependendo da aeronave e da natureza do voo, algumas etapas serão diferentes. Por exemplo, um `EN ROUTE` é típico para um voo que vai do ponto A ao ponto B. Mas se um piloto estiver praticando circuitos em um avião (decolando e pousando repetidamente), isso é chamado de `LOCAL`, pois um padrão local está sendo executado.\n",
    "\n",
    "![](https://github.com/thomasnield/anaconda_python_eda/raw/public/resource/7Od2TS0O.svg)\n"
   ]
  },
  {
   "cell_type": "markdown",
   "id": "b9124296-1f15-4bc2-b6a8-afe2f5c48d10",
   "metadata": {},
   "source": [
    "Devemos esperar que as fases do voo mais próximas do solo tenham mais colisões com pássaros, com base em nossa análise anterior da variável `HEIGHT`. Vamos dar uma olhada e plotar o `value_counts()` como um gráfico de barras."
   ]
  },
  {
   "cell_type": "code",
   "execution_count": null,
   "id": "86009b76-2251-475d-9337-d5f9e12c5655",
   "metadata": {
    "scrolled": true
   },
   "outputs": [],
   "source": [
    "df[\"PHASE_OF_FLIGHT\"].value_counts().plot.bar()"
   ]
  },
  {
   "cell_type": "markdown",
   "id": "b65d7e95-19d5-4cd7-8e1d-aa55ce02eaf5",
   "metadata": {},
   "source": [
    "Portanto, não há nada de surpreendente aqui. Fases do voo mais próximas do solo apresentam mais colisões com pássaros. Como essa variável é discreta, pode ser útil observar o **modo**, o(s) valor(es) que ocorre(m) com mais frequência. Podemos ver que `Approach` é o modo, o que significa que é a fase do voo mais comum para colisões com pássaros."
   ]
  },
  {
   "cell_type": "code",
   "execution_count": null,
   "id": "c2bc839d-06b2-4bff-a24f-697c5f487b3a",
   "metadata": {
    "scrolled": true
   },
   "outputs": [],
   "source": [
    "df[\"PHASE_OF_FLIGHT\"].mode()"
   ]
  },
  {
   "cell_type": "markdown",
   "id": "568ffeb6-9bbc-43ec-a3ce-25bd8d2cd598",
   "metadata": {},
   "source": [
    "## Variável de Velocidade"
   ]
  },
  {
   "cell_type": "markdown",
   "id": "126fc2ad-3ac1-4beb-a699-fab044fbd8c7",
   "metadata": {},
   "source": [
    "A seguir, vamos dar uma olhada em `SPEED`. Quanto mais rápido um avião estiver voando, maior a probabilidade de ele ser danificado ao colidir com um pássaro, resultando em um relatório de colisão com pássaros. Um pássaro que colide com um avião em movimento lento tem menos probabilidade de ser considerado uma colisão com pássaros se nenhum dano ocorrer, certo? No entanto, um motor girando em uma aeronave parada pode sugar um pássaro e certamente também ser considerado uma colisão com pássaros.\n",
    "\n",
    "Vamos dar uma olhada."
   ]
  },
  {
   "cell_type": "code",
   "execution_count": null,
   "id": "f0298224-4267-403f-9b1d-cf238677e6b5",
   "metadata": {
    "scrolled": true
   },
   "outputs": [],
   "source": [
    "df[\"SPEED\"].hist(bins=50)"
   ]
  },
  {
   "cell_type": "markdown",
   "id": "1225bc5f-2a11-44fb-a746-6585a520b71e",
   "metadata": {},
   "source": [
    "Parece que temos uma distribuição normal aqui, como indicado pela curva em forma de sino, com alguns valores extremos à direita. Isso vai ser interessante. Vamos calcular a média e a mediana disso."
   ]
  },
  {
   "cell_type": "code",
   "execution_count": null,
   "id": "70477aaa-1c75-4090-ba90-560c6953376f",
   "metadata": {},
   "outputs": [],
   "source": [
    "speed_mean = df[\"SPEED\"].mean()\n",
    "speed_median = df[\"SPEED\"].median()\n",
    "\n",
    "print(f\"MEAN: {speed_mean} MEDIAN: {speed_median}\")"
   ]
  },
  {
   "cell_type": "markdown",
   "id": "e29fd104-f6f9-4d00-bcd6-27f65feb3b65",
   "metadata": {},
   "source": [
    "Com certeza, nossa média não está muito longe da nossa mediana, então obtivemos uma variável com boa aparência e algum valor preditivo. E, novamente, isso pode fazer sentido. Quando uma aeronave está se movendo lentamente, ela não está se movendo rápido o suficiente para que um pássaro a atinja de forma prejudicial (a menos que seja sugado por um motor). Se estiver se movendo rapidamente, provavelmente está em altitude de cruzeiro alta e longe de onde as aves são encontradas. Pode haver uma correlação até mesmo entre velocidade e altura, que exploraremos na próxima seção."
   ]
  },
  {
   "cell_type": "markdown",
   "id": "f81ec3c3-65f6-4993-bb43-44a712984e2c",
   "metadata": {},
   "source": [
    "Para garantir, vamos aproximar a distribuição de probabilidade. Se usarmos velocidade para certas tarefas, podemos considerar cortar os valores atípicos naquela cauda direita."
   ]
  },
  {
   "cell_type": "code",
   "execution_count": null,
   "id": "52822a87-1e1d-43ab-897c-1b5e701befe9",
   "metadata": {},
   "outputs": [],
   "source": [
    "df[\"SPEED\"].plot.kde(xlim=(0,2000))"
   ]
  },
  {
   "cell_type": "markdown",
   "id": "afa78d03-5d32-465a-b06e-91347fc17ca4",
   "metadata": {},
   "source": [
    "## Valores Atípicos"
   ]
  },
  {
   "cell_type": "markdown",
   "id": "1e0ea35e-5f19-4568-9bea-61e9109b0bd9",
   "metadata": {},
   "source": [
    "**Valores atípicos** são valores que estão muito distantes da maioria dos valores em uma distribuição. A maneira como lidamos com valores atípicos depende do que estamos tentando fazer e do contexto do problema. Podemos removê-los, substituí-los ou simplesmente deixá-los como estão, dependendo do que o valor atípico significa para o problema em questão.\n",
    "\n",
    "Embora existam casos válidos para remover valores atípicos, lembre-se de perguntar o que eles significam em sua aplicação. Seu termostato inteligente pode não precisar aprender com um dia excepcionalmente frio de maio, e esse é um valor atípico que você pode considerar remover com segurança. No entanto, um pedestre fantasiado de galinha atrapalhando a visão computacional de um carro \"autônomo\" é um problema muito sério, mesmo que seja um valor atípico. Não queremos remover isso, pois indica que temos problemas maiores com nosso domínio.\n",
    "\n",
    "Valores atípicos são um tópico muito difícil de acertar e exigem não apenas um entendimento de estatística, mas também um entendimento do problema. Lembre-se disso!"
   ]
  },
  {
   "cell_type": "markdown",
   "id": "0cb546b9-e4e2-43c5-804c-388a8933eddc",
   "metadata": {},
   "source": [
    "### Intervalo Interquartil (IQR) e Percentis"
   ]
  },
  {
   "cell_type": "markdown",
   "id": "0e367c99-895b-475b-ba35-aa240db5d41d",
   "metadata": {},
   "source": [
    "Lembre-se de que a maioria das colisões com pássaros ocorreu bem antes de 10.00 pés, o que distorce bastante os dados para a esquerda."
   ]
  },
  {
   "cell_type": "code",
   "execution_count": null,
   "id": "71a8f269-1faa-4bcf-a9e5-a57c1b68c1c7",
   "metadata": {},
   "outputs": [],
   "source": [
    "df[\"HEIGHT\"].hist(bins=30)"
   ]
  },
  {
   "cell_type": "markdown",
   "id": "41e2248f-3f5b-4dc4-9667-d01c95f30006",
   "metadata": {},
   "source": [
    "Vamos analisar os registros em que as colisões com pássaros excederam essa altura e hipotetizá-los como outliers."
   ]
  },
  {
   "cell_type": "code",
   "execution_count": null,
   "id": "f45e1a68-445a-4049-b4b9-a2c993c72b7f",
   "metadata": {},
   "outputs": [],
   "source": [
    "with pd.option_context('display.max_columns', None):\n",
    "    display(df[df[\"HEIGHT\"] > 10_000])"
   ]
  },
  {
   "cell_type": "markdown",
   "id": "09f30821-8b46-4f7b-9759-c8afcea4c865",
   "metadata": {},
   "source": [
    "Certo, 325 linhas é uma quantidade relativamente pequena em comparação com todo o conjunto de dados. Enquanto isso entra na análise bivariada, vamos saciar nossa curiosidade e perguntar quais espécies de pássaros são capazes de voar tão alto, de acordo com os dados."
   ]
  },
  {
   "cell_type": "code",
   "execution_count": null,
   "id": "45e6d98c-6114-4265-973c-8f4eaae0dc60",
   "metadata": {},
   "outputs": [],
   "source": [
    "df[df[\"HEIGHT\"] > 10_000][\"SPECIES\"].value_counts(dropna=False)"
   ]
  },
  {
   "cell_type": "markdown",
   "id": "07fc5ee1-cdb1-477f-9f08-d864cc1987d0",
   "metadata": {},
   "source": [
    "Certo, muitas aves desconhecidas e muita diversidade sem um padrão claro. Há alguma ave voando acima de 25.000 pés?"
   ]
  },
  {
   "cell_type": "code",
   "execution_count": null,
   "id": "f1e66193-cccc-458e-9165-e861ff268726",
   "metadata": {},
   "outputs": [],
   "source": [
    "with pd.option_context('display.max_rows', None, 'display.max_columns', None):\n",
    "    display(df[df[\"HEIGHT\"] > 25_000])"
   ]
  },
  {
   "cell_type": "markdown",
   "id": "526a209b-df1a-4558-935c-c72f28dcda2e",
   "metadata": {},
   "source": [
    "Interessante. Tivemos apenas 3 ocorrências em que colisões com pássaros ocorreram acima de 7.660 metros, incluindo uma \"andorinha-do-penhasco\" e uma \"toutinegra-de-wilson\". É possível que pássaros consigam voar tão alto? Se fizermos alguma pesquisa, o maior registro de colisão entre pássaros foi em 1973, quando [um abutre colidiu a 37.000 pés](https://sora.unm.edu/sites/default/files/journals/wilson/v086n04/p0461-p0462.pdf). \n",
    "\n",
    "Vamos formalizar um pouco mais nossa análise. Como vimos, `HEIGHT` não é um daqueles casos que seguem a curva em sino da distribuição normal. Outra maneira de abordar outliers nesses casos é usar o método do **Amplitude Interquartil (IQR)**. O **IQR** é a diferença entre o 75º e o 25º percentil. Ao nos referirmos aos percentis trimestrais (0, 25, 50, 75 e 100), nos referimos a eles como quartis. Um quartil de 50% seria o valor mais central (a mediana), ou a média dos dois valores mais centrados.\n",
    "\n",
    "Um gráfico de caixa (também chamado de \"gráfico de caixa de bigodes\") visualizará tudo isso rapidamente, como mostrado abaixo.\n",
    "\n",
    "<img src =\"https://github.com/thomasnield/anaconda_python_eda/raw/public/resource/8U7f1C6A.png\" width=\"600\"> </img>\n",
    "\n",
    "O valor `1,5` é conhecido como $ k $, e podemos aumentá-lo para elevar o limite para o que consideramos um *outlier*. O gráfico de caixa não mostrará apenas o intervalo dos dados, mas também para onde a maioria dos dados gravita e sua assimetria. Vamos mostrar um `boxplot()` para `HEIGHT`."
   ]
  },
  {
   "cell_type": "code",
   "execution_count": null,
   "id": "eb62cd05-4df8-45fe-a619-40c14de6f01e",
   "metadata": {},
   "outputs": [],
   "source": [
    "import seaborn as sns \n",
    "import matplotlib.pyplot as plt\n",
    "\n",
    "sns.boxplot(x=df['HEIGHT'])"
   ]
  },
  {
   "cell_type": "markdown",
   "id": "e3a7e2cf-936c-4b73-8f20-e0614308eea1",
   "metadata": {},
   "source": [
    "Bem... isso é um pouco confuso. Os 25% superiores dos valores estão acima de 1.000 pés e se espalham por mais de 30.000 pés. Os 25% inferiores dos valores estão extremamente comprimidos a 0 metros, assim como todos os valores discrepantes. Isso é verdade? Vamos obter esses números exatos. Vamos também remover os `NaN`'s aqui, porque elas não fornecerão valor e desviarão a atenção dos valores que temos. Embora valores não relatados possam ser problemáticos, vamos determinar se é aceitável removê-los."
   ]
  },
  {
   "cell_type": "code",
   "execution_count": null,
   "id": "7f410ec0-3beb-43a4-a8c6-f76b4cf5d3f8",
   "metadata": {},
   "outputs": [],
   "source": [
    "from numpy import percentile\n",
    "\n",
    "q25 = percentile(df[\"HEIGHT\"].dropna(), 25)\n",
    "q75 = percentile(df[\"HEIGHT\"].dropna(), 75)\n",
    "\n",
    "q25, q75"
   ]
  },
  {
   "cell_type": "markdown",
   "id": "49d14fda-9695-44d5-b1a7-c81cda36efcb",
   "metadata": {},
   "source": [
    "Portanto, os 25% inferiores dos valores estão de fato ao nível do solo, a 0 pés. De fato, 44% dos valores de `HEIGHT` registrados ocorrem ao nível do solo. Podemos calcular isso assim:"
   ]
  },
  {
   "cell_type": "code",
   "execution_count": null,
   "id": "c51be6ba-8674-48fa-9a5c-4d83fb7f48ee",
   "metadata": {},
   "outputs": [],
   "source": [
    "sum(df[\"HEIGHT\"] == 0) / df[\"HEIGHT\"].dropna().shape[0]"
   ]
  },
  {
   "cell_type": "markdown",
   "id": "3bfc40c1-fff3-4d77-b5e8-e2c2144f2d3b",
   "metadata": {},
   "source": [
    "Isso pode fazer sentido, já que as aves tendem a ficar perto do solo, onde estão alimentos, ninhos, água, locais de descanso e outros habitats essenciais.\n",
    "\n",
    "Vamos fazer a mesma proporção para pelo menos 1.000 pés. Com certeza, 26% dos valores estão acima de 1.000 pés."
   ]
  },
  {
   "cell_type": "code",
   "execution_count": null,
   "id": "1c382d02-0edc-44da-9229-bcfc1e190c01",
   "metadata": {},
   "outputs": [],
   "source": [
    "sum(df[\"HEIGHT\"] >= 1000) / df[\"HEIGHT\"].dropna().shape[0]"
   ]
  },
  {
   "cell_type": "markdown",
   "id": "f214c9ae-4e7f-416b-afad-0d05f357a4af",
   "metadata": {},
   "source": [
    "Então, o que poderíamos considerar como outliers? Vamos tentar quaisquer valores que excedam $ Q1 \\pm 1,5 \\times \\text{IQR} $. Esse `1,5` serviria como o valor `k` inicial, e podemos aumentá-lo para um limite de outlier mais alto, se necessário (por exemplo, estamos obtendo \"muitos\" outliers)."
   ]
  },
  {
   "cell_type": "code",
   "execution_count": null,
   "id": "e3315890-1390-4e53-9509-1fa9cdb4cb9e",
   "metadata": {},
   "outputs": [],
   "source": [
    "iqr = q75 - q25\n",
    "k = 1.5\n",
    "cut_off = iqr * k\n",
    "lower = q25 - cut_off\n",
    "upper = q75 + cut_off\n",
    "\n",
    "outliers = df[(df['HEIGHT'] < lower) | (df['HEIGHT'] > upper)]\n",
    "\n",
    "with pd.option_context('display.max_columns', None):\n",
    "    display(outliers)"
   ]
  },
  {
   "cell_type": "markdown",
   "id": "e66047de-d774-4719-a25c-504a91da73fa",
   "metadata": {},
   "source": [
    "Não podemos dizer que seja útil detectar outliers na direção inferior, visto que os 0s dominam qualquer coisa abaixo do 44º percentil, então eles não são realmente outliers. Mas a direção superior pode ser útil, então vamos nos concentrar apenas nessa direção. Vamos aumentar o valor `k` para `10` porque realmente queremos aumentar o limite para ver valores verdadeiramente marginais."
   ]
  },
  {
   "cell_type": "code",
   "execution_count": null,
   "id": "458ea8e8-5ce3-4898-99a1-f3d1e39fe48d",
   "metadata": {
    "scrolled": true
   },
   "outputs": [],
   "source": [
    "iqr = q75 - q25\n",
    "k = 10\n",
    "cut_off = iqr * k\n",
    "upper = q75 + cut_off\n",
    "\n",
    "outliers = df[(df['HEIGHT'] > upper)]\n",
    "\n",
    "with pd.option_context('display.max_columns', None):\n",
    "    display(outliers)"
   ]
  },
  {
   "cell_type": "markdown",
   "id": "8177676f-4e20-4dcb-88cb-53e1f0bd0582",
   "metadata": {},
   "source": [
    "Com um limite tão alto, obtemos 219 outliers. Analisando os dados, parece haver muitos aviões comerciais pesados ​​pilotados pela UNITED AIRLINES e pela SOUTHWEST AIRLINES. Correndo o risco de entrar em análise bivariada, vamos dar uma olhada nas `AIRCRAFT` nesses valores discrepantes para testar essa teoria."
   ]
  },
  {
   "cell_type": "code",
   "execution_count": null,
   "id": "f973ba92-b92b-49c2-944f-0a810c1ee07b",
   "metadata": {
    "scrolled": true
   },
   "outputs": [],
   "source": [
    "outliers[\"AIRCRAFT\"].value_counts(dropna=False)"
   ]
  },
  {
   "cell_type": "markdown",
   "id": "cdfb9e01-1708-4493-9c2c-976e0b7cd6d0",
   "metadata": {},
   "source": [
    "Ok, interessante... ou talvez não! As companhias aéreas voam com aeronaves grandes como o 737-800 em altitudes muito altas e com bastante frequência. E onde há mais frequência, há mais oportunidade de observar valores discrepantes, como aeronaves colidindo com pássaros em altitudes mais elevadas. Talvez a [Lei dos Números Verdadeiramente Grandes](https://en.wikipedia.org/wiki/Law_of_truly_large_numbers) esteja desempenhando um papel aqui `¯\\_(ツ)_/¯`."
   ]
  },
  {
   "cell_type": "markdown",
   "id": "f78a96f0-3af2-4982-be22-4715e74f9912",
   "metadata": {},
   "source": [
    "## Valores atípicos com desvio padrão"
   ]
  },
  {
   "cell_type": "markdown",
   "id": "25b7fb2a-a969-4398-a071-16d153bea695",
   "metadata": {},
   "source": [
    "Como nossa variável `SPEED` parece seguir uma distribuição normal, podemos detectar valores atípicos usando desvios-padrão.\n",
    "\n",
    "Vamos criar outro boxplot."
   ]
  },
  {
   "cell_type": "code",
   "execution_count": null,
   "id": "46c83ebe-6c17-4256-8710-e7c0385f7c39",
   "metadata": {
    "scrolled": true
   },
   "outputs": [],
   "source": [
    "import seaborn as sns \n",
    "import matplotlib.pyplot as plt\n",
    "\n",
    "sns.boxplot(x=df['SPEED'])"
   ]
  },
  {
   "cell_type": "markdown",
   "id": "83c34562-69bf-4288-a4ab-e20522ea717f",
   "metadata": {},
   "source": [
    "Ok, isso está bastante equilibrado. Há alguns valores atípicos no lado direito, mas não muitos. Vamos focar nossa atenção nessa direção correta, especificamente valores maiores que 3 desvios-padrão da média."
   ]
  },
  {
   "cell_type": "code",
   "execution_count": null,
   "id": "01b818ae-d7fe-4fa4-895a-257e94ded9b7",
   "metadata": {
    "scrolled": true
   },
   "outputs": [],
   "source": [
    "speed_mean = df[\"SPEED\"].mean()\n",
    "speed_std = df[\"SPEED\"].std()\n",
    "outliers = df[df[\"SPEED\"] > (speed_mean+speed_std*3)]\n",
    "\n",
    "with pd.option_context('display.max_columns', None):\n",
    "    display(outliers)"
   ]
  },
  {
   "cell_type": "markdown",
   "id": "b15a266a-6461-4928-afa9-1361f7c59d3b",
   "metadata": {},
   "source": [
    "Isso nos deixa com 129 registros. Exploraremos isso em relação a outras variáveis, como o tipo de aeronave e o porta-aviões, na próxima seção. Vamos olhar na direção oposta, mas há um problema: 3 desvios-padrão à esquerda da média são negativos e não temos velocidades negativas registradas."
   ]
  },
  {
   "cell_type": "code",
   "execution_count": null,
   "id": "811811b0-ee0f-4d98-ac43-a9b088e11034",
   "metadata": {
    "scrolled": true
   },
   "outputs": [],
   "source": [
    "print(speed_mean-speed_std*3)"
   ]
  },
  {
   "cell_type": "markdown",
   "id": "e08e5a50-caeb-46d2-b993-cde4a860e6cf",
   "metadata": {},
   "source": [
    "Vamos voltar para 2,5 desvios-padrão."
   ]
  },
  {
   "cell_type": "code",
   "execution_count": null,
   "id": "b915da54-0ac6-4351-bccb-ae48fe46ec79",
   "metadata": {},
   "outputs": [],
   "source": [
    "print(speed_mean-speed_std*2.5)"
   ]
  },
  {
   "cell_type": "code",
   "execution_count": null,
   "id": "745eb294-9dc4-40e3-aed8-e8c3a4beaf43",
   "metadata": {
    "scrolled": true
   },
   "outputs": [],
   "source": [
    "outliers = df[df[\"SPEED\"] < (speed_mean-speed_std*2.9)]\n",
    "with pd.option_context('display.max_rows', None, 'display.max_columns', None):\n",
    "    display(outliers)"
   ]
  },
  {
   "cell_type": "markdown",
   "id": "dbc14508-cfaa-4007-b22c-4a8a37b4cd58",
   "metadata": {},
   "source": [
    "Humm, muitas dessas aeronaves voando tão devagar que foram capturadas como valores atípicos parecem estar no solo. Faz sentido. Deixaremos essa análise bivariada para a próxima seção para um mergulho mais profundo."
   ]
  },
  {
   "cell_type": "markdown",
   "id": "876f02e3-1ba9-42d7-8ee4-979238cef2b9",
   "metadata": {},
   "source": [
    "## EXERCISE"
   ]
  },
  {
   "attachments": {},
   "cell_type": "markdown",
   "id": "56da76e8-1e53-4aa1-87cb-3fdc59988be9",
   "metadata": {},
   "source": [
    "Explore as variáveis ​​`DISTANCE` (que são milhas náuticas do aeroporto) e `AC_CLASS`. O que você pode observar sobre cada uma delas?\n",
    "\n",
    "Para contextualizar, `AC_CLASS` é decodificado na tabela a seguir:\n",
    "\n",
    "| Código da Aeronave | Classificação da Aeronave |\n",
    "|--------------------|---------------------------|\n",
    "| A                  | Avião                     |\n",
    "| B                  | Helicóptero               |\n",
    "| C                  | Planador                  |\n",
    "| D                  | Balão                     |\n",
    "| F                  | Dirigível                 |\n",
    "| I                  | Giroplano                 |\n",
    "| J                  | Ultraleve                 |\n",
    "| Y                  | Outro                     |\n",
    "| Z                  | Desconhecido              |"
   ]
  },
  {
   "cell_type": "code",
   "execution_count": null,
   "id": "b993d12c-0327-4978-b2dd-ef6b1f6cfa79",
   "metadata": {},
   "outputs": [],
   "source": [
    "# coloque seu código aqui\n"
   ]
  },
  {
   "cell_type": "markdown",
   "id": "d10a54e7-f5f1-45d5-b533-fa5f6f846d6c",
   "metadata": {},
   "source": [
    "### RESPOSTA A BAIXO\n",
    "\n",
    "|<br>\n",
    "|<br>\n",
    "|<br>\n",
    "|<br>\n",
    "|<br>\n",
    "|<br>\n",
    "|<br>\n",
    "|<br>\n",
    "|<br>\n",
    "|<br>\n",
    "|<br>\n",
    "|<br>\n",
    "|<br>\n",
    "|<br>\n",
    "|<br>\n",
    "|<br>\n",
    "|<br>\n",
    "|<br>\n",
    "|<br>\n",
    "|<br>\n",
    "|<br>\n",
    "|<br>\n",
    "|<br>\n",
    "v "
   ]
  },
  {
   "cell_type": "markdown",
   "id": "288df9ca-5316-4cb0-8202-8d87747d6cb8",
   "metadata": {},
   "source": [
    "Usando um histograma e um gráfico do KDE, podemos ver que as colisões com pássaros têm uma forte concentração perto do aeroporto."
   ]
  },
  {
   "cell_type": "code",
   "execution_count": null,
   "id": "1267a5e2-b283-4ead-ab7a-bda0dcc12bc0",
   "metadata": {},
   "outputs": [],
   "source": [
    "df[\"DISTANCE\"].hist(bins=30)"
   ]
  },
  {
   "cell_type": "code",
   "execution_count": null,
   "id": "97c5bd38-a247-4e06-ac3c-0df6679fa0b1",
   "metadata": {},
   "outputs": [],
   "source": [
    "df[\"DISTANCE\"].plot.kde(xlim=(0,150))"
   ]
  },
  {
   "cell_type": "markdown",
   "id": "cf85383c-23af-4ea2-b406-f4491f7f53cf",
   "metadata": {},
   "source": [
    "Com `AC_CLASS`, as colisões com pássaros ocorrem predominantemente com aviões (classe `A`), seguidos por helicópteros (classe `B`). Isso faz sentido, já que planadores e ultraleves são provavelmente menos comuns, e não porque aeronaves e helicópteros sejam mais vulneráveis ​​a colisões com pássaros."
   ]
  },
  {
   "cell_type": "code",
   "execution_count": null,
   "id": "cd99b51a-73ad-4a61-961d-5207e070572f",
   "metadata": {},
   "outputs": [],
   "source": [
    "df[\"AC_CLASS\"].value_counts().plot.bar()"
   ]
  }
 ],
 "metadata": {
  "kernelspec": {
   "display_name": "anaconda-2024.02-py310",
   "language": "python",
   "name": "conda-env-anaconda-2024.02-py310-py"
  },
  "language_info": {
   "codemirror_mode": {
    "name": "ipython",
    "version": 3
   },
   "file_extension": ".py",
   "mimetype": "text/x-python",
   "name": "python",
   "nbconvert_exporter": "python",
   "pygments_lexer": "ipython3",
   "version": "3.10.14"
  },
  "vscode": {
   "interpreter": {
    "hash": "b0fa6594d8f4cbf19f97940f81e996739fb7646882a419484c72d19e05852a7e"
   }
  }
 },
 "nbformat": 4,
 "nbformat_minor": 5
}
