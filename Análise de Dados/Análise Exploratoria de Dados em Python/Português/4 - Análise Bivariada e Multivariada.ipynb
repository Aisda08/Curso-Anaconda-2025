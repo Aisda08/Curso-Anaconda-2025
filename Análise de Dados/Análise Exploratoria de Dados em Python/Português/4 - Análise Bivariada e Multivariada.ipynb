{
 "cells": [
  {
   "cell_type": "markdown",
   "id": "93957540-2eaf-4d3c-b55f-eef2b01a7fc3",
   "metadata": {},
   "source": [
    "# Análise Bivariada e Multivariada"
   ]
  },
  {
   "cell_type": "markdown",
   "id": "60249163-2f7c-43b4-b7a8-5c7490879788",
   "metadata": {},
   "source": [
    "Nesta seção, exploraremos as relações entre pares de variáveis. Isso é fundamental para visualizar correlações e levantar hipóteses sobre dependências causais. É lamentável que nosso conjunto de dados sobre colisões com pássaros capture apenas incidentes em que ocorreram colisões com pássaros, e não também voos em que as colisões foram evitadas. Embora pudéssemos buscar dados externos para esses voos sem incidentes e adicioná-los a este conjunto de dados, teremos que nos virar sem eles. Ainda encontraremos algumas descobertas interessantes.\n",
    "\n",
    "Vamos trazer nosso conjunto de dados limpo novamente e fazer as conversões apropriadas."
   ]
  },
  {
   "cell_type": "code",
   "execution_count": null,
   "id": "e78d396e-03a3-4398-9b8e-55b1681b2530",
   "metadata": {},
   "outputs": [],
   "source": [
    "import pandas as pd \n",
    "\n",
    "url = r\"https://github.com/thomasnield/anaconda_python_eda/raw/public/birdstrike_section2.csv\"\n",
    "df = pd.read_csv(url, index_col='INDEX_NR', parse_dates=[\"INCIDENT_DATE\"])\n",
    "\n",
    "# Transforme PHASE_OF_FLIGHT em uma categoria\n",
    "phase_of_flt = pd.CategoricalDtype(categories=['Parked', 'Taxi','Take-off Run', 'Approach', 'Departure', 'Climb', 'En Route',\n",
    "                                               'Descent', 'Landing Roll', 'Arrival', 'Local'])\n",
    "\n",
    "df[\"PHASE_OF_FLIGHT\"] = df[\"PHASE_OF_FLIGHT\"].astype(phase_of_flt)\n",
    "\n",
    "# Transforme TIME em tipo timedelta\n",
    "df[\"TIME\"] = pd.to_timedelta(df[\"TIME\"])"
   ]
  },
  {
   "cell_type": "markdown",
   "id": "a7b6a5e2-9b8a-4917-96a4-b6e653b98f35",
   "metadata": {},
   "source": [
    "## Comparando Altura com Velocidade"
   ]
  },
  {
   "cell_type": "markdown",
   "id": "39110cfd-57a8-441c-b18e-6b8b826be966",
   "metadata": {},
   "source": [
    "Analisamos `HEIGHT` e `SPEED` extensivamente na última seção, mas analisamos cada uma separadamente. Vamos ver se há alguma relação entre as duas e algo interessante. O ponto de partida mais informativo para isso é um gráfico de dispersão."
   ]
  },
  {
   "cell_type": "code",
   "execution_count": null,
   "id": "4a5fc6fc-e887-43de-91af-bcde7ad7e0be",
   "metadata": {},
   "outputs": [],
   "source": [
    "df.plot.scatter(x=\"HEIGHT\",y=\"SPEED\")"
   ]
  },
  {
   "cell_type": "markdown",
   "id": "ea48a2be-0270-43df-a393-8f8bf148cd69",
   "metadata": {},
   "source": [
    "Nossa, já tem muita coisa para analisar aqui. Parece haver uma correlação linear entre `SPEED` e `HEIGHT`. Podemos quantificar essa correlação usando a [correlação de Pearson](https://youtu.be/rijqfllOq6g?si=Ls9OkGqCO6AxnWN2), onde um valor próximo a 1 é uma forte correlação positiva, próximo a 0 é nenhuma correlação e próximo a -1 é uma forte correlação negativa."
   ]
  },
  {
   "cell_type": "code",
   "execution_count": null,
   "id": "2ef4bb68-4d83-49df-a4e4-654cbf14e759",
   "metadata": {},
   "outputs": [],
   "source": [
    "df[[\"HEIGHT\",\"SPEED\"]].corr(method='pearson')"
   ]
  },
  {
   "cell_type": "markdown",
   "id": "c6ea5256-198e-4aae-b82c-094746b4a9c6",
   "metadata": {},
   "source": [
    "Assim, obtemos uma correlação de `0,681334`, que é uma correlação positiva razoável. Isso faz sentido porque a maioria dos voos sobe para altitudes mais altas para obter mais velocidade, que em seu pico é chamada de altitude de cruzeiro.\n",
    "\n",
    "Mas e aqueles 3 pontos de dados perto de 0 pés, mas que estavam incrivelmente rápidos, entre 600 e 1200 nós! 1200 nós é cerca de Mach 1,8, então será que o Maverick estava sobrevoando a torre de novo?\n",
    "\n",
    "![](https://y.yarn.co/18f66e28-0f40-4db7-b05f-3529759e9708_text.gif)\n",
    "\n",
    "*Cortesia: Paramount Pictures*"
   ]
  },
  {
   "cell_type": "markdown",
   "id": "c570cdff-61f5-425a-9f45-b08598d00b64",
   "metadata": {},
   "source": [
    "> De fato, houve uma cena de colisão com pássaros no filme Top Gun: Maverick\n",
    ">\n",
    "> https://youtu.be/NCrsxRgcC38?si=mdeSiNNYs4iM9dgX"
   ]
  },
  {
   "cell_type": "markdown",
   "id": "cc1e2145-500f-4cf4-a245-036122c3495e",
   "metadata": {},
   "source": [
    "Vamos consultar esses três pontos de dados como valores atípicos."
   ]
  },
  {
   "cell_type": "code",
   "execution_count": null,
   "id": "13d54fa8-11ca-448e-a813-241c8d1451b1",
   "metadata": {
    "scrolled": true
   },
   "outputs": [],
   "source": [
    "with pd.option_context('display.max_columns', None):\n",
    "    display(df[df[\"SPEED\"] > 600])"
   ]
  },
  {
   "cell_type": "markdown",
   "id": "26cc5c0c-c3fd-43f7-bdf4-4eadd00c627f",
   "metadata": {},
   "source": [
    "Ok... Tenho perguntas. Um Cessna 172 a 650 nós (a velocidade máxima é 163 nós)? E um Boeing 737-700 voando a 1150 nós a 1000 pés acima do solo (seu máximo é 473 nós)? E um Flexjet voando a 1250 nós a 100 pés acima do solo? Até mesmo o F-18 da Maverick mal consegue atingir Mach 1,8, ou 1200 nós. Esses pontos de dados devem ter sido registrados incorretamente, a menos que estejamos realmente perdendo algo. Devemos considerar removê-los se os usarmos para modelagem."
   ]
  },
  {
   "cell_type": "markdown",
   "id": "0ef1b907-312c-4c13-a71d-f6b888f7e48d",
   "metadata": {},
   "source": [
    "Vamos comparar separadamente essas duas variáveis ​​com `DISTANCE`."
   ]
  },
  {
   "cell_type": "code",
   "execution_count": null,
   "id": "310b48ea-b6f8-4cfd-adb5-80575d861ff5",
   "metadata": {},
   "outputs": [],
   "source": [
    "df.plot.scatter(x=\"DISTANCE\",y=\"HEIGHT\")"
   ]
  },
  {
   "cell_type": "code",
   "execution_count": null,
   "id": "e8fe64f0-dcf3-4b67-bd77-870a1d4fd8fb",
   "metadata": {
    "scrolled": true
   },
   "outputs": [],
   "source": [
    "df.plot.scatter(x=\"DISTANCE\",y=\"SPEED\")"
   ]
  },
  {
   "cell_type": "markdown",
   "id": "c86f5727-44c4-470a-b164-86e9acd1a22a",
   "metadata": {},
   "source": [
    "Use um gráfico de pares para comparar cada variável com todas as outras simultaneamente."
   ]
  },
  {
   "cell_type": "code",
   "execution_count": null,
   "id": "d75c5ff8-8161-4d25-86e1-f9c759a4af79",
   "metadata": {},
   "outputs": [],
   "source": [
    "import seaborn as sns\n",
    "\n",
    "sns.pairplot(df[[\"HEIGHT\",\"SPEED\",\"DISTANCE\"]])"
   ]
  },
  {
   "cell_type": "markdown",
   "id": "5f14ec49-18ee-4b75-95cb-f657a2a02377",
   "metadata": {},
   "source": [
    "Agora, vamos analisar as correlações entre essas três variáveis. Vemos que `HEIGHT`, `SPEED` e `DISTANCE` têm correlações entre si. Há uma correlação especialmente forte entre `HEIGHT` e `DISTANCE` de `.834154`. Isso faz sentido porque um avião estará descendo conforme se aproxima do pouso em um aeroporto."
   ]
  },
  {
   "cell_type": "code",
   "execution_count": null,
   "id": "0ce41af2-5a00-4901-b634-389bf20bf105",
   "metadata": {},
   "outputs": [],
   "source": [
    "corr_matrix = df[[\"HEIGHT\",\"SPEED\",\"DISTANCE\"]].corr(method='pearson')\n",
    "corr_matrix"
   ]
  },
  {
   "cell_type": "markdown",
   "id": "fa26d669-9c37-4ed7-9923-94a3d8c6ae38",
   "metadata": {},
   "source": [
    "Também podemos visualizar isso usando um mapa de calor."
   ]
  },
  {
   "cell_type": "code",
   "execution_count": null,
   "id": "afbca418-83ea-4818-8fc8-e042dea02923",
   "metadata": {},
   "outputs": [],
   "source": [
    "import matplotlib.pyplot as plt\n",
    "import seaborn as sns\n",
    "\n",
    "plt.figure(figsize=(6, 4))\n",
    "sns.heatmap(corr_matrix, annot=True, cmap='coolwarm', square=True)"
   ]
  },
  {
   "cell_type": "markdown",
   "id": "d189403c-6a83-4a0f-ace2-ae77e7b9d43b",
   "metadata": {},
   "source": [
    "Poderíamos tentar trazer mais variáveis, ou até mesmo o dataframe inteiro. No entanto, como muitas dessas variáveis ​​são discretas e precisariam ser convertidas numericamente, não faremos isso aqui. Mas você pode explorar outras variáveis ​​como parte do exercício e usar seu conhecimento para encontrar mais correlações.\n",
    "\n",
    "Para que usaríamos essas informações de correlação? Bem, por exemplo, se estivéssemos usando aprendizado de máquina como regressão logística para prever a probabilidade de colisões com pássaros, não iríamos querer incluir variáveis colineares que estejam redundantemente correlacionadas entre si. Isso acabaria dominando a variável causal subjacente no modelo. Provavelmente escolheríamos apenas uma dessas três variáveis ​​para fazer uma previsão, em vez de todas as três, como `HEIGHT`."
   ]
  },
  {
   "cell_type": "markdown",
   "id": "82cbdc4c-d524-4071-9f5e-29f0f0f42f55",
   "metadata": {},
   "source": [
    "## Uma Breve Discussão sobre Variáveis ​​Preditoras"
   ]
  },
  {
   "cell_type": "markdown",
   "id": "7f314bbf-f6ed-4e30-ab9c-038c3b9ef945",
   "metadata": {},
   "source": [
    "Se estamos preocupados com colisões com pássaros, é lamentável que tenhamos apenas dados autorrelatados de quando elas ocorreram. Para ver quais variáveis ​​podem ser usadas para prever colisões com pássaros, precisamos de dados de voos normais onde não ocorreram colisões com pássaros. Não é impossível obter esses dados, mas está além do escopo deste exercício. No entanto, ainda vale a pena discuti-los."
   ]
  },
  {
   "cell_type": "markdown",
   "id": "5c748417-45ce-4ed3-b273-c2559117613e",
   "metadata": {},
   "source": [
    "Por exemplo, é uma pena que não tenhamos registros de voos sem colisões com pássaros e que tivemos um alerta. Poderíamos ter usado a variável \"WARNED\", como mostrado abaixo, e feito alguns testes para verificar se os alertas tiveram algum efeito na prevenção de colisões com pássaros. Mas é difícil usar essa variável porque alertas bem-sucedidos que evitaram colisões com pássaros provavelmente não foram registrados."
   ]
  },
  {
   "cell_type": "code",
   "execution_count": null,
   "id": "96a2cce7-0e41-4f4d-9cd5-6ccb9ea4f1cb",
   "metadata": {},
   "outputs": [],
   "source": [
    "df[\"WARNED\"].value_counts(dropna=False).plot.bar()"
   ]
  },
  {
   "cell_type": "markdown",
   "id": "1619bbec-6546-4c13-a401-0ab1dc8c9d13",
   "metadata": {},
   "source": [
    "Se tivéssemos acesso aos horários de voos para dados não incidentes, bem como aos dados meteorológicos, também poderíamos verificar se `PRECIPITATION` aumentou o número per capita de incidentes quando ocorreu chuva. Mas sem esses dados, é difícil concluir qualquer coisa. Sim, mais colisões com pássaros acontecem sem chuva em nossos dados. Mas se a chuva não for frequente, isso criará menos registros. Isso não significa que a taxa de incidentes não será maior com chuva."
   ]
  },
  {
   "cell_type": "code",
   "execution_count": null,
   "id": "7b5bfa25-d81e-4e40-ba47-ad10aa3c5729",
   "metadata": {},
   "outputs": [],
   "source": [
    "df[\"PRECIPITATION\"].fillna(value=\"\", inplace=False).str.contains(\"Rain\").value_counts().plot.bar()"
   ]
  },
  {
   "cell_type": "markdown",
   "id": "6053b631-5a57-4ce4-b8db-f9caf95a21d4",
   "metadata": {},
   "source": [
    "Os dados de colisões com pássaros não capturam isso, mas o fato é que as colisões com pássaros aumentam APÓS a chuva, porque os pássaros gostam de banhar em poças d'água no solo. A má gestão do escoamento nas pistas pode, portanto, aumentar as colisões com pássaros. Isso apenas demonstra que seus dados capturam apenas uma parte limitada da verdade."
   ]
  },
  {
   "cell_type": "markdown",
   "id": "3fa049af-7d13-4878-85e7-fe6cdd189742",
   "metadata": {},
   "source": [
    "## Análise Multivariada"
   ]
  },
  {
   "cell_type": "markdown",
   "id": "b0152c95-b76d-4da7-8261-d0931d6cd63f",
   "metadata": {},
   "source": [
    "Tentar analisar relações entre três ou mais variáveis ​​pode ser desafiador de visualizar, mas existem maneiras se você fizer isso com cuidado. Neste exercício, vou avaliar se uma colisão com pássaros tem maior probabilidade de ocorrer no motor (seja um motor a jato, hélice ou rotor).\n",
    "\n",
    "Em retrospectiva, percebi que omiti algumas colunas importantes onde uma colisão, dano ou ingestão ocorreram na seção 1. Mas este será um bom exercício para aprender a corrigir esse erro. Vamos trazer esses dados do arquivo Excel."
   ]
  },
  {
   "cell_type": "code",
   "execution_count": null,
   "id": "b29056b5-8c12-48e5-9b0c-67c64be234e0",
   "metadata": {
    "scrolled": true
   },
   "outputs": [],
   "source": [
    "import pandas as pd\n",
    "\n",
    "engine_cols = [\"INDEX_NR\", \n",
    "\"STR_ENG1\",\n",
    "\"DAM_ENG1\",\n",
    "\"ING_ENG1\",\n",
    "\"STR_ENG2\",\n",
    "\"DAM_ENG2\",\n",
    "\"ING_ENG2\",\n",
    "\"STR_ENG3\",\n",
    "\"DAM_ENG3\",\n",
    "\"ING_ENG3\",\n",
    "\"STR_ENG4\",\n",
    "\"DAM_ENG4\",\n",
    "\"ING_ENG4\",\n",
    "\"STR_PROP\",\n",
    "\"DAM_PROP\",\n",
    "\"STR_WING_ROT\",\n",
    "\"DAM_WING_ROT\"]\n",
    "\n",
    "url = r\"https://github.com/thomasnield/anaconda_python_eda/raw/public/bird_strike_faa.xlsx\"\n",
    "engine_df = pd.read_excel(url, index_col='INDEX_NR', usecols=engine_cols)\n",
    "engine_df"
   ]
  },
  {
   "cell_type": "markdown",
   "id": "2c8fa6b7-bdb1-434c-9d86-1b0095c1a8e3",
   "metadata": {},
   "source": [
    "Vamos consolidar todas essas colunas em uma, somando-as para cada linha respectiva. Em seguida, faremos disso um indicador booleano usando uma operação comparativa, verificando se quaisquer valores maiores que 0 são considerados `True` e, caso contrário, serão considerados `False`."
   ]
  },
  {
   "cell_type": "code",
   "execution_count": null,
   "id": "2047d110-537a-4827-8d33-e1b9a30e8695",
   "metadata": {
    "scrolled": true
   },
   "outputs": [],
   "source": [
    "engine_df_ind = engine_df.sum(axis=1) > 0 \n",
    "engine_df_ind"
   ]
  },
  {
   "cell_type": "markdown",
   "id": "45cfe7f9-502e-4e76-b4e8-5809b84b0757",
   "metadata": {},
   "source": [
    "Vamos realizar uma junção à esquerda em nosso dataframe, o que significa que manteremos apenas registros em nosso `df` de dados de 2015 em diante e incluiremos apenas dados `ENGINE_STRIKE_IND` que tenham índices em comum."
   ]
  },
  {
   "cell_type": "code",
   "execution_count": null,
   "id": "ea0bff0b-03be-4f79-8e8b-8ef46d929e03",
   "metadata": {},
   "outputs": [],
   "source": [
    "df = df.join(engine_df_ind.rename(\"ENGINE_STRIKE_IND\"), how='left')\n",
    "\n",
    "with pd.option_context('display.max_columns', None):\n",
    "    display(df)"
   ]
  },
  {
   "cell_type": "markdown",
   "id": "1d87fa94-4d55-44d9-852d-450063315b3c",
   "metadata": {},
   "source": [
    "Agora, quantas colisões desde 2015 foram relacionadas a motores? Descobrimos que são mais de 20% das colisões."
   ]
  },
  {
   "cell_type": "code",
   "execution_count": null,
   "id": "29b850db-7a2e-4c8f-82e0-52c9af96c22d",
   "metadata": {},
   "outputs": [],
   "source": [
    "df[\"ENGINE_STRIKE_IND\"].value_counts()"
   ]
  },
  {
   "attachments": {},
   "cell_type": "markdown",
   "id": "dcf7c34b-7509-4c66-ae32-5ee65a6491dd",
   "metadata": {},
   "source": [
    "Quando se trata de análise multivariável, podemos ficar realmente malucos e precisamos estruturar nossas hipóteses cuidadosamente. Afinal, tentar encontrar a relação entre mais de duas variáveis ​​pode ser bastante complicado, e é fácil se perder no meio do ruído.\n",
    "\n",
    "Para nossos propósitos, digamos que estamos interessados ​​em entender como a massa, a altura e a velocidade da aeronave influenciam se uma colisão com pássaros está ou não relacionada ao motor em diferentes altitudes. Parece complicado, não é? Como disse o Temido Pirata Roberts em *A Princesa Prometida*: \"Você realmente tem um intelecto estonteante.\"\n",
    "\n",
    "> A coluna `AC_MASS` pode ser interpretada da seguinte forma: 1 = 2.250 kg ou menos: 2 = 2.251-5.700 kg: 3 = 5.701-27.000 kg: 4 = 27.001-272.000 kg: 5 = acima de 272.000 kg\n",
    "\n",
    "Mas quando envolvemos muitas variáveis ​​como essa, o segredo é isolar para apenas um valor (como a massa de cada aeronave) por vez, depois observar outra variável nesse contexto e, finalmente, outra. Abaixo, criaremos um diagrama de violino que nos ajuda a visualizar a distribuição de colisões com pássaros e quando colisões com motores ocorreram ou não. Eles também podem conter diagramas de caixa de bigodes."
   ]
  },
  {
   "cell_type": "code",
   "execution_count": null,
   "id": "b37e1dff-3119-443d-9e81-19637926cd38",
   "metadata": {},
   "outputs": [],
   "source": [
    "import matplotlib.pyplot as plt\n",
    "import seaborn as sns \n",
    "\n",
    "plt.figure(figsize=(12, 6))\n",
    "sns.violinplot(x='AC_MASS', y='HEIGHT', data=df, hue='ENGINE_STRIKE_IND', palette='Blues', legend=True)\n",
    "plt.show()\n"
   ]
  },
  {
   "cell_type": "markdown",
   "id": "49a0f36a-9c91-4b6b-8f9f-2a307e416d22",
   "metadata": {},
   "source": [
    "Certo, então nossa hipótese não revelou nada muito interessante, pelo menos desse ângulo. Parece que comparar a massa da aeronave com a altura e as distribuições de colisões relacionadas ao motor e não relacionadas ao motor não resultou em nada muito interessante. As distribuições parecem praticamente as mesmas e as colisões ocorrem com mais frequência em solo.\n",
    "\n",
    "Vamos voltar nossa atenção para os custos. Qual é o custo dos reparos ajustado pela inflação, para cada massa de aeronave, tanto para colisões relacionadas ao motor quanto para colisões não relacionadas ao motor?"
   ]
  },
  {
   "cell_type": "code",
   "execution_count": null,
   "id": "712d1570-36d0-4609-868e-94f5eb76cc40",
   "metadata": {},
   "outputs": [],
   "source": [
    "import matplotlib.pyplot as plt\n",
    "import seaborn as sns \n",
    "\n",
    "plt.figure(figsize=(12, 6))\n",
    "\n",
    "sns.violinplot(x='AC_MASS', \n",
    "               y='COST_REPAIRS_INFL_ADJ', data=df, \n",
    "               hue='ENGINE_STRIKE_IND', \n",
    "               palette='Blues', \n",
    "               inner='quartile', \n",
    "               legend=True)\n",
    "plt.show()\n"
   ]
  },
  {
   "cell_type": "markdown",
   "id": "e1e7c481-0bc0-48ec-8070-39b2cd7fbd37",
   "metadata": {},
   "source": [
    "Embora nossos gráficos de violino sejam um pouco tênues devido aos poucos registros que documentam custos, podemos observar que aeronaves com massa de 4,0 (27.001-272.000 kg) são particularmente propensas a custos mais altos para colisões relacionadas ao motor. Em geral, colisões relacionadas ao motor têm maior probabilidade de apresentar custos maiores para valores de `AC_MASS` de 3 ou mais.\n",
    "\n",
    "Vamos também contabilizar \"outros\" custos relacionados à perda de receita, hotéis para passageiros devido a voos parados, custo de descarte de combustível e outros custos não relacionados a danos para o operador."
   ]
  },
  {
   "cell_type": "code",
   "execution_count": null,
   "id": "5574c9ec-fe14-4ab3-b5b1-d6fb50e803ad",
   "metadata": {},
   "outputs": [],
   "source": [
    "import matplotlib.pyplot as plt\n",
    "import seaborn as sns \n",
    "\n",
    "plt.figure(figsize=(12, 6))\n",
    "df[\"TOTAL_COST\"] = df[\"COST_REPAIRS_INFL_ADJ\"] + df[\"COST_OTHER_INFL_ADJ\"]\n",
    "\n",
    "sns.violinplot(x='AC_MASS', \n",
    "               y='TOTAL_COST', data=df, \n",
    "               hue='ENGINE_STRIKE_IND', \n",
    "               palette='Blues', \n",
    "               inner='quartile', \n",
    "               legend=True)\n",
    "plt.show()\n"
   ]
  },
  {
   "cell_type": "markdown",
   "id": "5a25f708-0b54-4b92-9195-2a636f8c8d1d",
   "metadata": {},
   "source": [
    "Vemos aumentos crescentes nos custos relacionados a impactos com motores quando a massa é 4, e isso aumenta significativamente no nível 5. Isso faz sentido, pois aeronaves grandes transportam muitos passageiros que são prejudicados, e provavelmente também possuem os motores mais caros para substituir. Também é interessante notar que aeronaves enormes têm custos quase insignificantes relacionados a impactos que não envolvem os motores."
   ]
  },
  {
   "cell_type": "markdown",
   "id": "41acc59a-26c4-4222-8326-4e460c453b16",
   "metadata": {},
   "source": [
    "## Exercício"
   ]
  },
  {
   "cell_type": "markdown",
   "id": "92817683-fec7-4172-a68d-2897958f5639",
   "metadata": {},
   "source": [
    "Será que `SPEED` pode ser uma variável determinante para `COST_REPAIRS_INFL_ADJ`? Faça uma análise abaixo e apresente sua conclusão."
   ]
  },
  {
   "cell_type": "code",
   "execution_count": null,
   "id": "530b9017-22d9-41a8-94af-668b6f83fbbe",
   "metadata": {},
   "outputs": [],
   "source": [
    "# COLOQUE O CÓDIGO AQUI, USE MAIS CÉLULAS SE NECESSÁRIO\n"
   ]
  },
  {
   "cell_type": "markdown",
   "id": "b45c21c9-b0c3-4f08-b74c-5e93585a433e",
   "metadata": {},
   "source": [
    "### RESPOSTA A BAIXO\n",
    "\n",
    "|<br>\n",
    "|<br>\n",
    "|<br>\n",
    "|<br>\n",
    "|<br>\n",
    "|<br>\n",
    "|<br>\n",
    "|<br>\n",
    "|<br>\n",
    "|<br>\n",
    "|<br>\n",
    "|<br>\n",
    "|<br>\n",
    "|<br>\n",
    "|<br>\n",
    "|<br>\n",
    "|<br>\n",
    "|<br>\n",
    "|<br>\n",
    "|<br>\n",
    "|<br>\n",
    "|<br>\n",
    "|<br>\n",
    "v "
   ]
  },
  {
   "cell_type": "markdown",
   "id": "e15602b9-296d-4fc6-bf77-c2b0b8f916b0",
   "metadata": {},
   "source": [
    "Não há correlação entre a velocidade e o custo dos reparos nos registros de colisões com pássaros. O gráfico de dispersão e o coeficiente de correlação não indicam relação."
   ]
  },
  {
   "cell_type": "code",
   "execution_count": null,
   "id": "4dbd8064-6827-4f9f-8783-72c3d34152e8",
   "metadata": {},
   "outputs": [],
   "source": [
    "df.plot.scatter(x=\"SPEED\",y=\"COST_REPAIRS_INFL_ADJ\")"
   ]
  },
  {
   "cell_type": "code",
   "execution_count": null,
   "id": "acb982be-7b97-47b1-95d0-4c8c7274c62b",
   "metadata": {},
   "outputs": [],
   "source": [
    "df[[\"SPEED\",\"COST_REPAIRS_INFL_ADJ\"]].corr(method='pearson')"
   ]
  }
 ],
 "metadata": {
  "kernelspec": {
   "display_name": "anaconda-2024.02-py310",
   "language": "python",
   "name": "conda-env-anaconda-2024.02-py310-py"
  },
  "language_info": {
   "codemirror_mode": {
    "name": "ipython",
    "version": 3
   },
   "file_extension": ".py",
   "mimetype": "text/x-python",
   "name": "python",
   "nbconvert_exporter": "python",
   "pygments_lexer": "ipython3",
   "version": "3.12.3 (main, Apr  9 2024, 08:09:14) [Clang 15.0.0 (clang-1500.3.9.4)]"
  },
  "vscode": {
   "interpreter": {
    "hash": "b0fa6594d8f4cbf19f97940f81e996739fb7646882a419484c72d19e05852a7e"
   }
  }
 },
 "nbformat": 4,
 "nbformat_minor": 5
}
