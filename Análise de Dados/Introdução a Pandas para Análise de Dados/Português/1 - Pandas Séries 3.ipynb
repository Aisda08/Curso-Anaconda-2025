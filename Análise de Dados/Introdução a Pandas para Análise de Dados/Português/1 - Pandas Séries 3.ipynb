{
 "cells": [
  {
   "cell_type": "markdown",
   "id": "cecbf3a7",
   "metadata": {},
   "source": [
    "# Introdução aos Pandas"
   ]
  },
  {
   "cell_type": "markdown",
   "id": "b6533591",
   "metadata": {},
   "source": [
    "## Módulo 1: Introdução à série Pandas\n",
    "\n",
    "### Série Pandas Parte 3: Strings\n",
    "- Ordenando valores\n",
    "- Usando métodos de string integrados do Pandas\n",
    "- Atribuindo e reatribuindo resultados\n",
    "- Usando métodos de string para limpeza de dados\n",
    "- Atualizando tipos de dados"
   ]
  },
  {
   "cell_type": "code",
   "execution_count": null,
   "id": "80f405f4",
   "metadata": {},
   "outputs": [],
   "source": [
    "import pandas as pd"
   ]
  },
  {
   "cell_type": "code",
   "execution_count": null,
   "id": "19e75b5c",
   "metadata": {},
   "outputs": [],
   "source": [
    "frutas = pd.Series([\"maçã\", \"laranja\", \"banana\", \"limão\", \"lima\", \"abacaxi\", \"framboesa\", \"uva\"])\n",
    "frutas"
   ]
  },
  {
   "cell_type": "code",
   "execution_count": null,
   "id": "d1ac5b21",
   "metadata": {},
   "outputs": [],
   "source": [
    "# .sort_values ​​classifica strings em ordem alfabética ou números em ordem numérica\n",
    "# fruits.sort_values(ascending=True) a ordem de classificação padrão\n",
    "frutas.sort_values()"
   ]
  },
  {
   "cell_type": "code",
   "execution_count": null,
   "id": "82249142",
   "metadata": {},
   "outputs": [],
   "source": [
    "frutas.sort_values(ascending=False)"
   ]
  },
  {
   "cell_type": "code",
   "execution_count": null,
   "id": "838bda26",
   "metadata": {},
   "outputs": [],
   "source": [
    "# Use inplace=True para operar no original\n",
    "# Para mais informações sobre .sort_values, consulte https://pandas.pydata.org/docs/reference/api/pandas.DataFrame.sort_values.html\n",
    "frutas = frutas.sort_values()\n",
    "frutas"
   ]
  },
  {
   "cell_type": "code",
   "execution_count": null,
   "id": "68158ca0",
   "metadata": {},
   "outputs": [],
   "source": [
    "# Podemos reatribuir a série para conter os valores ordenados\n",
    "# Para mais informações sobre .sort_values, consulte https://pandas.pydata.org/docs/reference/api/pandas.DataFrame.sort_values.html\n",
    "frutas = frutas.sort_values(ignore_index=True)\n",
    "frutas"
   ]
  },
  {
   "cell_type": "code",
   "execution_count": null,
   "id": "c17c5bdd",
   "metadata": {},
   "outputs": [],
   "source": [
    "# .capitalize para capitalizar\n",
    "frutas.str.capitalize()"
   ]
  },
  {
   "cell_type": "code",
   "execution_count": null,
   "id": "3f1b18c8",
   "metadata": {},
   "outputs": [],
   "source": [
    "frutas"
   ]
  },
  {
   "cell_type": "code",
   "execution_count": null,
   "id": "083b9b39",
   "metadata": {},
   "outputs": [],
   "source": [
    "# As operações de string mantêm a série original intacta, então reatribuímos para atualizar\n",
    "capitalized_frutas = frutas.str.capitalize()\n",
    "capitalized_frutas"
   ]
  },
  {
   "cell_type": "code",
   "execution_count": null,
   "id": "fc19376f",
   "metadata": {},
   "outputs": [],
   "source": [
    "# .contains retorna uma série booleana\n",
    "# Lembre-se sempre de usar .str ou seus resultados estarão incorretos\n",
    "frutas.str.contains(\"maçã\")"
   ]
  },
  {
   "cell_type": "code",
   "execution_count": null,
   "id": "79dca530",
   "metadata": {},
   "outputs": [],
   "source": [
    "# Como .contains retorna uma série booleana, podemos usá-lo para filtrar nossos resultados\n",
    "frutas[frutas.str.contains(\"maçã\")]"
   ]
  },
  {
   "cell_type": "code",
   "execution_count": null,
   "id": "00eceac9",
   "metadata": {},
   "outputs": [],
   "source": [
    "# .count para contar ocorrências de substring\n",
    "frutas.str.count(\"a\")"
   ]
  },
  {
   "cell_type": "code",
   "execution_count": null,
   "id": "2bfa1b66",
   "metadata": {},
   "outputs": [],
   "source": [
    "frutas.str.count(\"uva\")"
   ]
  },
  {
   "cell_type": "code",
   "execution_count": null,
   "id": "b1cc2654",
   "metadata": {},
   "outputs": [],
   "source": [
    "# Resumindo os resultados de .count\n",
    "vogais_count = frutas.str.count(\"a\") + frutas.str.count(\"e\") + frutas.str.count(\"i\") + frutas.str.count(\"o\") + frutas.str.count(\"u\")\n",
    "vogais_count"
   ]
  },
  {
   "cell_type": "code",
   "execution_count": null,
   "id": "4542f7f3",
   "metadata": {},
   "outputs": [],
   "source": [
    "# Usando count com uma classe de caracteres de expressão regular\n",
    "# Alguns métodos de string do Pandas podem utilizar expressões regulares\n",
    "frutas.str.count(\"[aeiou]\")"
   ]
  },
  {
   "cell_type": "code",
   "execution_count": null,
   "id": "42da3ed0",
   "metadata": {},
   "outputs": [],
   "source": [
    "# Podemos usar nossa nova contagem de vogais para filtrar valores da série\n",
    "frutas[frutas.str.count(\"[aeiou]\") > 2]"
   ]
  },
  {
   "cell_type": "code",
   "execution_count": null,
   "id": "c4b02a88",
   "metadata": {},
   "outputs": [],
   "source": [
    "# .startswith retorna uma série booleana\n",
    "frutas.str.startswith(\"l\")"
   ]
  },
  {
   "cell_type": "code",
   "execution_count": null,
   "id": "01c8b698",
   "metadata": {},
   "outputs": [],
   "source": [
    "frutas[frutas.str.startswith(\"l\")]"
   ]
  },
  {
   "cell_type": "code",
   "execution_count": null,
   "id": "d3bc4f8e",
   "metadata": {},
   "outputs": [],
   "source": [
    "# .endswith retorna uma série booleana\n",
    "frutas.str.endswith(\"berry\")"
   ]
  },
  {
   "cell_type": "code",
   "execution_count": null,
   "id": "f265989a",
   "metadata": {},
   "outputs": [],
   "source": [
    "# .len para obter o comprimento da string\n",
    "frutas.str.len()"
   ]
  },
  {
   "cell_type": "code",
   "execution_count": null,
   "id": "25d7992c",
   "metadata": {},
   "outputs": [],
   "source": [
    "# .lower para strings em minúsculas\n",
    "gritos = pd.Series([\"POR FAVOR\", \"MINÚSCULAS\", \"ESSAS\", \"STRINGS\"])\n",
    "nao_gritos = gritos.str.lower()\n",
    "nao_gritos"
   ]
  },
  {
   "cell_type": "code",
   "execution_count": null,
   "id": "6c9a31bf",
   "metadata": {},
   "outputs": [],
   "source": [
    "# Usando .replace para substituir caracteres (também usado para remover caracteres)\n",
    "precos = pd.Series([\"R$5.99\", \"R$12.25\", \"R$95\"])\n",
    "\n",
    "# Certifique-se de reatribuir a variável\n",
    "precos = precos.str.replace(\"R$\", \"\")\n",
    "\n",
    "# Mas nosso tipo de dados ainda é uma string\n",
    "precos * 2"
   ]
  },
  {
   "cell_type": "code",
   "execution_count": null,
   "id": "9e9f7fdb",
   "metadata": {},
   "outputs": [],
   "source": [
    "# Use .astype para converter um número em uma string em um tipo de dado numérico\n",
    "precos = precos.astype(float)\n",
    "precos * 2"
   ]
  },
  {
   "cell_type": "code",
   "execution_count": null,
   "id": "389c1f3d",
   "metadata": {},
   "outputs": [],
   "source": [
    "# .upper para maiúsculas\n",
    "frutas.str.upper()"
   ]
  },
  {
   "cell_type": "markdown",
   "id": "7a4cd454",
   "metadata": {},
   "source": [
    "## Leitura Adicional\n",
    "- [Guia do usuário do Pandas para texto](https://pandas.pydata.org/docs/user_guide/text.html)\n",
    "- [Guia do usuário do Pandas](https://pandas.pydata.org/docs/user_guide/basics.html)"
   ]
  },
  {
   "cell_type": "markdown",
   "id": "ffced508",
   "metadata": {},
   "source": [
    "## Exercícios\n",
    "- Crie uma série chamada `vegetais` usando a lista de strings `[\"Cebola\", \"pepino\", \"Cenoura\", \"abóbora\", \"Batata\", \"Aspargos\", \"couve\", \"Brócolis\", \"espinafre\"]`\n",
    "- Escreva o código necessário para colocar todos os vegetais em minúsculas e reatribuir a série.\n",
    "- Escreva o código do Pandas para classificar as strings em ordem alfabética. Certifique-se de que a série armazene a ordem de classificação.\n",
    "- Escreva o código do Pandas para mostrar apenas os vegetais que começam com uma vogal.\n",
    "- Escreva o código do Pandas para mostrar os vegetais que têm exatamente duas vogais.\n",
    "<br><br>\n",
    "- Agora crie uma nova série chamada `precos` que contenha `[\"R$ 2,99\", \"R$ 1.200,25\", \"R$ 5,99\", \"R$ 2.350,00\"]`\n",
    "- Reatribua `precos` para conter apenas uma string de números. Remova os caracteres `R$` e `,`.\n",
    "- Reatribua `precos` para um tipo de dado float\n",
    "- Agora multiplique sua série `preco` por `0,9`"
   ]
  },
  {
   "cell_type": "code",
   "execution_count": null,
   "id": "b2e77e42",
   "metadata": {},
   "outputs": [],
   "source": [
    "# Crie uma série de vegetais [\"Cebola\", \"pepino\", \"Cenoura\", \"abóbora\", \"Batata\", \"Aspargos\", \"couve\", \"Brócolis\", \"espinafre\"]\n"
   ]
  },
  {
   "cell_type": "code",
   "execution_count": null,
   "id": "6fdef38f",
   "metadata": {},
   "outputs": [],
   "source": [
    "# Escreva o código necessário para colocar todos os vegetais em minúsculas e reatribuir sua série.\n"
   ]
  },
  {
   "cell_type": "code",
   "execution_count": null,
   "id": "64940068",
   "metadata": {},
   "outputs": [],
   "source": [
    "# Escreva o código do pandas para classificar as strings em ordem alfabética. Certifique-se de que a série armazene a ordem de classificação\n"
   ]
  },
  {
   "cell_type": "code",
   "execution_count": null,
   "id": "5e60cb3e",
   "metadata": {},
   "outputs": [],
   "source": [
    "# Escreva o código do pandas para mostrar apenas os vegetais que começam com uma vogal\n"
   ]
  },
  {
   "cell_type": "code",
   "execution_count": null,
   "id": "76d58987",
   "metadata": {},
   "outputs": [],
   "source": [
    "# Escreva o código dos pandas para mostrar os vegetais que têm exatamente duas vogais\n"
   ]
  },
  {
   "cell_type": "code",
   "execution_count": null,
   "id": "e320ce68",
   "metadata": {},
   "outputs": [],
   "source": [
    "# Crie uma nova série chamada preços que contenha [\"R$2,99\", \"R$1.200,25\", \"R$5,99\", \"R$2.350,00\"]\n"
   ]
  },
  {
   "cell_type": "code",
   "execution_count": null,
   "id": "73e26b55",
   "metadata": {},
   "outputs": [],
   "source": [
    "# Reatribua preços para conter apenas uma sequência de números. Remova os caracteres R$ e ,\n"
   ]
  },
  {
   "cell_type": "code",
   "execution_count": null,
   "id": "6344fc74",
   "metadata": {},
   "outputs": [],
   "source": [
    "# Reatribuir preços para serem um tipo de dado flutuante\n"
   ]
  },
  {
   "cell_type": "code",
   "execution_count": null,
   "id": "33e1a413",
   "metadata": {},
   "outputs": [],
   "source": [
    "# Multiplique sua série de preços por 0,9\n"
   ]
  },
  {
   "cell_type": "code",
   "execution_count": null,
   "id": "b0291401",
   "metadata": {},
   "outputs": [],
   "source": []
  }
 ],
 "metadata": {
  "kernelspec": {
   "display_name": "anaconda-2024.02-py310",
   "language": "python",
   "name": "conda-env-anaconda-2024.02-py310-py"
  },
  "language_info": {
   "codemirror_mode": {
    "name": "ipython",
    "version": 3
   },
   "file_extension": ".py",
   "mimetype": "text/x-python",
   "name": "python",
   "nbconvert_exporter": "python",
   "pygments_lexer": "ipython3",
   "version": "3.10.14"
  }
 },
 "nbformat": 4,
 "nbformat_minor": 5
}
