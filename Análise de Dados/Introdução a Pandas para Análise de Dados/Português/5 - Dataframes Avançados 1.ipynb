{
 "cells": [
  {
   "cell_type": "markdown",
   "id": "c6b9aaa7",
   "metadata": {},
   "source": [
    "# Introdução ao Pandas"
   ]
  },
  {
   "cell_type": "markdown",
   "id": "05ee51ca",
   "metadata": {},
   "source": [
    "## Módulo 5: Combinando Dataframes\n",
    "- Usando `.concat` para combinar dataframes horizontal ou verticalmente\n",
    "- Introdução à junção de dataframes como tabelas de banco de dados\n",
    "- Compreendendo os diferentes tipos de junções\n",
    "- Usando `.merge` para unir dataframes com base em valores de colunas em comum"
   ]
  },
  {
   "cell_type": "code",
   "execution_count": null,
   "id": "487f42ce",
   "metadata": {},
   "outputs": [],
   "source": [
    "import pandas as pd"
   ]
  },
  {
   "cell_type": "code",
   "execution_count": null,
   "id": "cace1fe4",
   "metadata": {},
   "outputs": [],
   "source": [
    "# Concatenação de strings\n",
    "\"con\" + \"cat\" + \"e\" + \"nation\""
   ]
  },
  {
   "cell_type": "code",
   "execution_count": null,
   "id": "14366547",
   "metadata": {},
   "outputs": [],
   "source": [
    "# Concatenação de lista\n",
    "[\"con\", \"cat\"] + [\"e\", \"nation\"]"
   ]
  },
  {
   "cell_type": "code",
   "execution_count": null,
   "id": "1bed67f2",
   "metadata": {},
   "outputs": [],
   "source": [
    "# Concatenação de Dataframe\n",
    "frutas = pd.DataFrame({\n",
    "    \"nome\": [\"manga\", \"goiaba\", \"laranja\"],\n",
    "    \"quantidade\": [2, 1, 3]\n",
    "})\n",
    "\n",
    "vegetais = pd.DataFrame({\n",
    "    \"nome\": [\"Couve\", \"espinafre\", \"brócolis\"],\n",
    "    \"quantidade\": [1, 7, 4]\n",
    "})"
   ]
  },
  {
   "cell_type": "code",
   "execution_count": null,
   "id": "ede9361d",
   "metadata": {},
   "outputs": [],
   "source": [
    "# Os argumentos padrão preservam o índice original para cada dataframe\n",
    "pd.concat([frutas, vegetais])"
   ]
  },
  {
   "cell_type": "code",
   "execution_count": null,
   "id": "8c331faf",
   "metadata": {},
   "outputs": [],
   "source": [
    "# Axis=0 é o argumento padrão para concatenar dataframes\n",
    "# Esta é uma concatenação vertical, já que estamos adicionando linha a linha\n",
    "pd.concat([frutas, vegetais], axis=0)"
   ]
  },
  {
   "cell_type": "code",
   "execution_count": null,
   "id": "abfd9fe0",
   "metadata": {},
   "outputs": [],
   "source": [
    "pd.concat([frutas, vegetais], ignore_index=True)"
   ]
  },
  {
   "cell_type": "code",
   "execution_count": null,
   "id": "0ce00d3f",
   "metadata": {},
   "outputs": [],
   "source": [
    "# Concatenação de DataFrame\n",
    "frutas = pd.DataFrame({\n",
    "    \"nome\": [\"manga\", \"goiaba\", \"laranja\"],\n",
    "})\n",
    "\n",
    "# Observe que esta instância de vegetais não possui uma coluna de quantidade\n",
    "vegetais = pd.DataFrame({\n",
    "    \"name\": [\"couve\", \"espinafre\", \"brócolis\"],\n",
    "    \"quantidade\": [2, 3, 4]\n",
    "})\n",
    "\n",
    "# Se uma coluna estiver ausente em um dataframe, seus valores também estarão ausentes, portanto, a concatenação será bem-sucedida\n",
    "pd.concat([frutas, vegetais])"
   ]
  },
  {
   "cell_type": "code",
   "execution_count": null,
   "id": "b78d50a1",
   "metadata": {},
   "outputs": [],
   "source": [
    "# Axis=1 concatena dataframes horizontalmente\n",
    "# Esta é uma concatenação em colunas\n",
    "preco_qualidade = pd.DataFrame({\n",
    "    \"preco\": [2.99, 1.99, 3.99],\n",
    "    \"apresentacao\": [\"congelado\", \"lavado\", \"cru\"]\n",
    "})\n",
    "\n",
    "pd.concat([vegetais, preco_qualidade], axis=1)"
   ]
  },
  {
   "cell_type": "code",
   "execution_count": null,
   "id": "b0e307b5",
   "metadata": {},
   "outputs": [],
   "source": [
    "# concat pode combinar um número arbitrário de dataframes\n",
    "# Isso pode ser útil se você tiver muitos dataframes diferentes de várias fontes\n",
    "pd.concat([vegetais, vegetais, vegetais, vegetais])"
   ]
  },
  {
   "cell_type": "markdown",
   "id": "4b7abbe4",
   "metadata": {},
   "source": [
    "## Usando `.merge` para combinar dataframes em valores de colunas comuns\n",
    "- Junção no estilo de banco de dados para Pandas Dataframes\n",
    "- O `.join` do Pandas une dataframes em nomes de colunas idênticos que existem em ambos os dataframes\n",
    "- Usar `.merge` pode ser mais flexível, já que às vezes os nomes das colunas não são idênticos"
   ]
  },
  {
   "cell_type": "markdown",
   "id": "680938fa",
   "metadata": {},
   "source": [
    "## Tipos de Junções\n",
    "- \"Inner\" retorna registros que possuem valores correspondentes em ambas as tabelas.\n",
    "- \"Left\" retorna todos os registros da tabela da esquerda e os registros correspondentes da tabela da direita.\n",
    "- \"Right\" retorna todos os registros da tabela da direita e os registros correspondentes da tabela da esquerda.\n",
    "- \"Outer\" retorna todos os registros quando há uma correspondência na tabela da esquerda ou da direita.\n",
    "![diagrama de diferentes tipos de junções](types_of_joins.png)"
   ]
  },
  {
   "cell_type": "code",
   "execution_count": null,
   "id": "f2b7069c",
   "metadata": {},
   "outputs": [],
   "source": [
    "# Observe como role_id aponta para o id no dataframe de funções\n",
    "# Observe os dados ausentes\n",
    "users = pd.DataFrame({\n",
    "    'user_id': [1, 2, 3, 4, 5, 6],\n",
    "    'nome': ['bob', 'mary', 'sally', 'adam', 'jane', 'mike'],\n",
    "    'role_id': [1, 2, 3, 3, None, None]\n",
    "})\n",
    "\n",
    "users"
   ]
  },
  {
   "cell_type": "code",
   "execution_count": null,
   "id": "e950cce1",
   "metadata": {},
   "outputs": [],
   "source": [
    "# Observe que a coluna id da função é chamada de \"id\" no dataframe de funções\n",
    "roles = pd.DataFrame({\n",
    "    'role_id': [1, 2, 3, 4],\n",
    "    'role': ['admin', 'autor', 'revisor', 'comentarista']\n",
    "})\n",
    "\n",
    "roles"
   ]
  },
  {
   "cell_type": "code",
   "execution_count": null,
   "id": "281c3afa",
   "metadata": {},
   "outputs": [],
   "source": [
    "# Uma junção interna retorna membros que existem em ambos os dataframes\n",
    "users.merge(roles, left_on='role_id', right_on='role_id', how='inner')"
   ]
  },
  {
   "cell_type": "code",
   "execution_count": null,
   "id": "1fd6407d",
   "metadata": {},
   "outputs": [],
   "source": [
    "# Se o mesmo nome de coluna exato existir em ambos os dataframes, podemos usar o argumento \"on\"\n",
    "users.merge(roles, on='role_id', how='inner')"
   ]
  },
  {
   "cell_type": "code",
   "execution_count": null,
   "id": "a2a5d8a8",
   "metadata": {},
   "outputs": [],
   "source": [
    "# Observe que a junção à esquerda mantém todos os registros do dataframe dos usuários, mesmo que estejam faltando no dataframe direito\n",
    "users.merge(roles, on='role_id', how='left')"
   ]
  },
  {
   "cell_type": "code",
   "execution_count": null,
   "id": "d0d923af",
   "metadata": {},
   "outputs": [],
   "source": [
    "# Observe que a junção correta mantém todos os registros do dataframe dos usuários, mesmo que estejam faltando no dataframe correto\n",
    "users.merge(roles, left_on='role_id', right_on='role_id', how='right')"
   ]
  },
  {
   "cell_type": "code",
   "execution_count": null,
   "id": "27eec755",
   "metadata": {},
   "outputs": [],
   "source": [
    "# A junção externa mantém todos os registros de cada dataframe, mas os valores são associados, quando aplicável.\n",
    "# Junções externas mantêm todos os valores, incluindo valores nulos.\n",
    "users.merge(roles, on='role_id', how='outer')"
   ]
  },
  {
   "cell_type": "code",
   "execution_count": null,
   "id": "423c94d7",
   "metadata": {},
   "outputs": [],
   "source": [
    "# Relação entre a ordem do dataframe e o tipo de junção\n",
    "# Considere o resultado de começar com os usuários e juntar funções à esquerda\n",
    "users.merge(roles, on=\"role_id\", how='left')"
   ]
  },
  {
   "cell_type": "code",
   "execution_count": null,
   "id": "4ea97f96",
   "metadata": {},
   "outputs": [],
   "source": [
    "# Compare com o início com funções e o uso da junção correta com usuários\n",
    "roles.merge(users, on=\"role_id\", how='right')"
   ]
  },
  {
   "cell_type": "markdown",
   "id": "9d8b2c77",
   "metadata": {},
   "source": [
    "## Recursos Adicionais\n",
    "- https://pandas.pydata.org/pandas-docs/stable/reference/api/pandas.concat.html\n",
    "- https://pandas.pydata.org/docs/reference/api/pandas.DataFrame.join.html\n",
    "- https://pandas.pydata.org/docs/reference/api/pandas.DataFrame.merge.html\n",
    "- https://pandas.pydata.org/docs/user_guide/merging.html\n",
    "- https://pandas.pydata.org/pandas-docs/stable/getting_started/comparison/comparison_with_sql.html#compare-with-sql-join"
   ]
  },
  {
   "cell_type": "markdown",
   "id": "2d199d67",
   "metadata": {},
   "source": [
    "## Exercícios\n",
    "- Leia \"2020_sales.csv\", \"2021_sales.csv\" e \"2022_sales.csv\" em dataframes e, em seguida, concatene esses 3 dataframes verticalmente.\n",
    "- Crie um dataframe `posts` com as seguintes informações.\n",
    "```\n",
    "[\n",
    "    {\n",
    "        \"autor_id\": 1,\n",
    "        \"titulo\": \"Como Aprendi Python\"\n",
    "    },\n",
    "    {\n",
    "        \"autor_id\": 2,\n",
    "        \"titulo\": \"Como Aprendi a Parar de me Preocupar e a Amar Pandas\"\n",
    "    },\n",
    "    {\n",
    "        \"autor_id\": 2,\n",
    "        \"titulo\": \"Tutorial Rápido Sobre como Instalar o Anaconda\"\n",
    "    },\n",
    "    {\n",
    "        \"autor_id\": 9,\n",
    "        \"titulo\": \"Aprendendo Pandas se Você já Trabalha com Planilhas\"\n",
    "    }\n",
    "]\n",
    "```\n",
    "- Execute uma junção interna de `users` e `posts`. *Dica* Pense nos dados que esses dois dataframes compartilham.\n",
    "- Comece com `users` e faça uma junção à esquerda do dataframe `posts`.\n",
    "- Comece com `users` e faça uma junção à direita do dataframe `posts`.\n",
    "- Por fim, execute uma junção externa de `users` e `posts`."
   ]
  },
  {
   "cell_type": "code",
   "execution_count": null,
   "id": "fe2cb2ad",
   "metadata": {},
   "outputs": [],
   "source": [
    "# Use pd.read_csv(\"\", storage_options = {'User-Agent': 'Mozilla/5.0'}) para ler \"https://static.anaconda.cloud/shared/lms/data_analysis/Intro_to_pandas_data_analysis/assets/2020_sales.csv\", \"https://static.anaconda.cloud/shared/lms/data_analysis/Intro_to_pandas_data_analysis/assets/2021_sales.csv\" e `\"https://static.anaconda.cloud/shared/lms/data_analysis/Intro_to_pandas_data_analysis/assets/2022_sales.csv\" em dataframes\n",
    "# Concatene estes 3 dataframes verticalmente\n"
   ]
  },
  {
   "cell_type": "code",
   "execution_count": null,
   "id": "b032c681",
   "metadata": {},
   "outputs": [],
   "source": [
    "# Crie um dataframe `posts` dos dados da postagem do blog acima\n"
   ]
  },
  {
   "cell_type": "code",
   "execution_count": null,
   "id": "3811fdf0",
   "metadata": {},
   "outputs": [],
   "source": [
    "users"
   ]
  },
  {
   "cell_type": "code",
   "execution_count": null,
   "id": "22f9c36d",
   "metadata": {},
   "outputs": [],
   "source": [
    "# Execute uma junção interna de `users` e `posts`.\n",
    "# Dica: Pense em quais dados esses dois dataframes compartilham.\n"
   ]
  },
  {
   "cell_type": "code",
   "execution_count": null,
   "id": "066f9890",
   "metadata": {},
   "outputs": [],
   "source": [
    "# Comece com `users` e então faça a junção à esquerda do dataframe `posts`\n"
   ]
  },
  {
   "cell_type": "code",
   "execution_count": null,
   "id": "2f7f050b",
   "metadata": {
    "scrolled": true
   },
   "outputs": [],
   "source": [
    "# Comece com `users` e junte à direita o dataframe `posts`\n"
   ]
  },
  {
   "cell_type": "code",
   "execution_count": null,
   "id": "4c60533a",
   "metadata": {},
   "outputs": [],
   "source": [
    "# Por fim, execute uma junção externa de `users` e `posts`\n"
   ]
  },
  {
   "cell_type": "code",
   "execution_count": null,
   "id": "32250559",
   "metadata": {},
   "outputs": [],
   "source": []
  }
 ],
 "metadata": {
  "kernelspec": {
   "display_name": "anaconda-2024.02-py310",
   "language": "python",
   "name": "conda-env-anaconda-2024.02-py310-py"
  },
  "language_info": {
   "codemirror_mode": {
    "name": "ipython",
    "version": 3
   },
   "file_extension": ".py",
   "mimetype": "text/x-python",
   "name": "python",
   "nbconvert_exporter": "python",
   "pygments_lexer": "ipython3",
   "version": "3.10.14"
  }
 },
 "nbformat": 4,
 "nbformat_minor": 5
}
