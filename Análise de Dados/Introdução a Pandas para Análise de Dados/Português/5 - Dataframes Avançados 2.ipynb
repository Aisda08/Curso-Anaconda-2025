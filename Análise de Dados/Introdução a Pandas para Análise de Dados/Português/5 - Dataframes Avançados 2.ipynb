{
 "cells": [
  {
   "cell_type": "markdown",
   "id": "b2cc147d",
   "metadata": {},
   "source": [
    "# Introdução ao Pandas"
   ]
  },
  {
   "cell_type": "markdown",
   "id": "0ef3108b",
   "metadata": {},
   "source": [
    "## Módulo 5: Trabalhando com Arquivos\n",
    "- Mais sobre o uso de `pd.read_csv`\n",
    "- Requisições HTTP\n",
    "- Trabalhando com arquivos que usam delimitadores/separadores diferentes de vírgulas\n",
    "- Definindo a coluna de índice\n",
    "- Escrevendo dados com `to_csv`\n",
    "- Lendo JSON\n",
    "- Lendo de arquivos do Excel\n",
    "- Escrevendo em arquivos do Excel"
   ]
  },
  {
   "cell_type": "code",
   "execution_count": null,
   "id": "2eef0be8",
   "metadata": {},
   "outputs": [],
   "source": [
    "import pandas as pd"
   ]
  },
  {
   "cell_type": "code",
   "execution_count": null,
   "id": "8b2298fa",
   "metadata": {},
   "outputs": [],
   "source": [
    "# read_csv pode ler arquivos CSV hospedados.\n",
    "# Pandas envia a solicitação http!\n",
    "url = \"https://gist.githubusercontent.com/ryanorsinger/cc276eea59e8295204d1f581c8da509f/raw/2388559aef7a0700eb31e7604351364b16e99653/mall_customers.csv\"\n",
    "pd.read_csv(url).head()"
   ]
  },
  {
   "cell_type": "code",
   "execution_count": null,
   "id": "f7229193",
   "metadata": {},
   "outputs": [],
   "source": [
    "# Para definir a coluna de índice, use o argumento index_col\n",
    "# Se você notar uma coluna que faça sentido usar como índice, você precisará especificar\n",
    "pd.read_csv(url, index_col=\"customer_id\").head()"
   ]
  },
  {
   "cell_type": "code",
   "execution_count": null,
   "id": "314549d0",
   "metadata": {},
   "outputs": [],
   "source": [
    "# O operador ! dentro do Jupyter Notebooks ou iPython emite um comando para o terminal\n",
    "# Se você usa o Windows sem o subsistema Linux habilitado, use !dir *.csv\n",
    "!ls *.csv"
   ]
  },
  {
   "cell_type": "code",
   "execution_count": null,
   "id": "1e946c11",
   "metadata": {},
   "outputs": [],
   "source": [
    "!ls *sales*.csv"
   ]
  },
  {
   "cell_type": "code",
   "execution_count": null,
   "id": "f8d9c66b",
   "metadata": {},
   "outputs": [],
   "source": [
    "arquivos_de_vendas = !ls *sales*.csv\n",
    "arquivos_de_vendas"
   ]
  },
  {
   "cell_type": "code",
   "execution_count": null,
   "id": "4cb25116",
   "metadata": {},
   "outputs": [],
   "source": [
    "# Lendo vários arquivos programaticamente\n",
    "dados_de_vendas = []\n",
    "for file in arquivos_de_vendas:\n",
    "    df = pd.read_csv(file)\n",
    "    dados_de_vendas.append(df)\n",
    "    \n",
    "vendas_df = pd.concat(dados_de_vendas, ignore_index=True)\n",
    "vendas_df"
   ]
  },
  {
   "cell_type": "code",
   "execution_count": null,
   "id": "b005de6e",
   "metadata": {},
   "outputs": [],
   "source": [
    "# É comum em campo combinar muitas fontes de dados diferentes em um único dataframe para limpeza/análise.\n",
    "# Escrever em to_csv gravará os valores de índice em sua própria coluna nos dados.\n",
    "vendas_df.to_csv(\"all_sales.csv\")"
   ]
  },
  {
   "cell_type": "code",
   "execution_count": null,
   "id": "b00151fe",
   "metadata": {},
   "outputs": [],
   "source": [
    "!ls *.csv"
   ]
  },
  {
   "cell_type": "code",
   "execution_count": null,
   "id": "28c2923a",
   "metadata": {},
   "outputs": [],
   "source": [
    "# Observe como a coluna restante é transformada em uma coluna sem nome\n",
    "pd.read_csv(\"all_sales.csv\").head()"
   ]
  },
  {
   "cell_type": "code",
   "execution_count": null,
   "id": "7422c230",
   "metadata": {},
   "outputs": [],
   "source": [
    "# Vejamos um exemplo onde evitamos essa complicação prestando mais atenção ao índice\n",
    "# O argumento index em to_csv recebe um booleano e o padrão é True\n",
    "vendas_df.to_csv(\"all_sales_clean.csv\", index=False)"
   ]
  },
  {
   "cell_type": "code",
   "execution_count": null,
   "id": "3dba0c67",
   "metadata": {},
   "outputs": [],
   "source": [
    "# Observe que o índice é regenerado e é apropriado\n",
    "pd.read_csv(\"all_sales_clean.csv\")"
   ]
  },
  {
   "cell_type": "markdown",
   "id": "a46cb29f",
   "metadata": {},
   "source": [
    "Se você usar uma coluna de índice nomeada em vez de apenas o índice gerado automaticamente, você evitará isso."
   ]
  },
  {
   "cell_type": "markdown",
   "id": "99af66c6",
   "metadata": {},
   "source": [
    "### Observação sobre caracteres separadores, chamados delimitadores\n",
    "- Arquivos CSV usam vírgulas para separar valores\n",
    "- Você pode encontrar arquivos que usam outro caractere delimitador além da vírgula\n",
    "- Arquivos separados por tabulação são comuns em arquivos de log e exportações de planilhas\n",
    "- Às vezes, você pode encontrar uma extensão de arquivo .tsv para valores separados por tabulação\n",
    "- Você pode encontrar delimitadores diferentes de vírgulas ou tabulações em arquivos de texto simples.\n",
    "- Use `pd.read_csv` para eles (a menos que o arquivo seja .JSON) e identifique o caractere apropriado"
   ]
  },
  {
   "cell_type": "code",
   "execution_count": null,
   "id": "28c95b95",
   "metadata": {},
   "outputs": [],
   "source": [
    "# O caractere \"\\t\" é como especificamos um caractere de tabulação\n",
    "pd.read_csv(\"penguins_with_tabs.tsv\", sep=\"\\t\").head()"
   ]
  },
  {
   "cell_type": "code",
   "execution_count": null,
   "id": "3a9bf1a1",
   "metadata": {},
   "outputs": [],
   "source": [
    "# O método read_json pode ler arquivos JSON do sistema de arquivos ou de URLs.\n",
    "# Isso é particularmente útil ao consumir dados de uma API RESTful que retorna JSON\n",
    "curie_quotes = pd.read_json(\"https://aphorisms.glitch.me/api/example\")\n",
    "curie_quotes"
   ]
  },
  {
   "cell_type": "markdown",
   "id": "daf2819b",
   "metadata": {},
   "source": [
    "## Exemplo de uso de `read_clipboard`\n",
    "\n",
    "|    modelo |             displ | ano  |  cyl | trans |        drv |  cty |  hwy |   fl | drv   | classe  |\n",
    "| --------: | ----------------: | ---: | ---: | ----: | ---------: | ---: | ---: | ---: | ----: | ------- |\n",
    "|      audi |                a4 |  2.0 | 2008 |     4 |   auto(av) |    f |   21 |   30 |     p | compact |\n",
    "|     dodge | dakota pickup 4wd |  3.9 | 1999 |     6 | manual(m5) |    4 |   14 |   17 |     r | pickup  |\n",
    "|    toyota |       4runner 4wd |  4.7 | 2008 |     8 |   auto(l5) |    4 |   14 |   17 |     r | suv     |\n",
    "|     dodge |       caravan 2wd |  3.8 | 2008 |     6 |   auto(l6) |    f |   16 |   23 |     r | minivan |\n",
    "| chevrolet |            malibu |  3.6 | 2008 |     6 |   auto(s6) |    f |   17 |   26 |     r | midsize |\n"
   ]
  },
  {
   "cell_type": "code",
   "execution_count": null,
   "id": "9aa8d1c3",
   "metadata": {},
   "outputs": [],
   "source": [
    "# Destaque e copie a tabela acima\n",
    "# Em seguida, execute esta célula\n",
    "df = pd.read_clipboard()\n",
    "df"
   ]
  },
  {
   "cell_type": "code",
   "execution_count": null,
   "id": "41a247fa",
   "metadata": {},
   "outputs": [],
   "source": [
    "# Escrevendo um dataframe na memória para um arquivo Excel\n",
    "df.to_excel(\"mpg.xlsx\", index=None)"
   ]
  },
  {
   "cell_type": "code",
   "execution_count": null,
   "id": "94851c41",
   "metadata": {},
   "outputs": [],
   "source": [
    "# Lendo um arquivo Excel (versão simples)\n",
    "mpg = pd.read_excel(\"mpg.xlsx\")"
   ]
  },
  {
   "cell_type": "code",
   "execution_count": null,
   "id": "965ea096",
   "metadata": {},
   "outputs": [],
   "source": [
    "mpg"
   ]
  },
  {
   "cell_type": "code",
   "execution_count": null,
   "id": "01f242ec",
   "metadata": {},
   "outputs": [],
   "source": [
    "# Lendo uma planilha específica de um arquivo Excel\n",
    "pd.read_excel(\"example_spreadsheet.xlsx\", sheet_name=\"grocery_list\")"
   ]
  },
  {
   "cell_type": "code",
   "execution_count": null,
   "id": "8b7ccc39",
   "metadata": {},
   "outputs": [],
   "source": [
    "# Observe como há alguns extras\n",
    "pd.read_excel(\"example_spreadsheet.xlsx\", sheet_name=\"pet_info\")"
   ]
  },
  {
   "cell_type": "code",
   "execution_count": null,
   "id": "ffef271f",
   "metadata": {},
   "outputs": [],
   "source": [
    "# Às vezes, pode ser necessário abrir a planilha para identificar as colunas a serem ignoradas\n",
    "pd.read_excel(\"example_spreadsheet.xlsx\", sheet_name=\"pet_info\", skiprows=4)"
   ]
  },
  {
   "cell_type": "markdown",
   "id": "700aa023",
   "metadata": {},
   "source": [
    "## Recursos Adicionais\n",
    "- https://pandas.pydata.org/docs/reference/api/pandas.read_csv.html\n",
    "- https://pandas.pydata.org/docs/reference/api/pandas.read_clipboard.html\n",
    "- https://pandas.pydata.org/docs/reference/api/pandas.DataFrame.to_clipboard.html\n",
    "- https://pandas.pydata.org/docs/reference/api/pandas.read_excel.html\n",
    "- https://pandas.pydata.org/docs/reference/api/pandas.DataFrame.to_excel.html\n",
    "- Outros formatos https://pandas.pydata.org/docs/user_guide/io.html\n",
    "- SQL\n",
    "- XML\n",
    "- STATA\n",
    "- SAS\n",
    "- SPSS"
   ]
  },
  {
   "cell_type": "markdown",
   "id": "30bdc454",
   "metadata": {},
   "source": [
    "## Exercícios\n",
    "- Use `pd.read_json` para ler as citações de Dolly Parton em um dataframe chamado `dolly`. Citações de Dolly Parton:\n",
    "https://gist.githubusercontent.com/ryanorsinger/ad042d8ee4340ae7026e215bc6b69665/raw/4c0eef2e4cbce5e47b674e8d1d5bad34f0c7b757/dolly.json\n",
    "\n",
    "- Leia as citações de Bob Ross em um dataframe chamado `bob`. Citações de Bob Ross em JSON: https://gist.githubusercontent.com/ryanorsinger/ad042d8ee4340ae7026e215bc6b69665/raw/b0c1c816d87e4d3db34e52d35e376394f689911e/bob_ross.json\n",
    "\n",
    "- Crie um dicionário usando as chaves \"quote\" e \"author\" e forneça uma citação de sua escolha. Certifique-se de colocar o dicionário entre colchetes. Use `pd.DataFrame` para transformar esta lista contendo o dicionário único em um dataframe de uma linha. Nomeie seu novo dataframe como `my_quote`.\n",
    "\n",
    "- Em seguida, use `pd.concat` para combinar os três dataframes em uma nova variável chamada `quotes`.\n",
    "\n",
    "- Use `to_csv` para gravar o dataframe `quotes` no disco, fornecendo o nome de arquivo `quotes.csv`.\n",
    "\n",
    "- Leia este JSON de bebidas em um dataframe chamado `drinks`\n",
    "https://gist.githubusercontent.com/ryanorsinger/ad042d8ee4340ae7026e215bc6b69665/raw/b0c1c816d87e4d3db34e52d35e376394f689911e/drinks.json\n",
    "\n",
    "- Agora, leia o CSV de custo de bebidas em um dataframe chamado `drink_costs`\n",
    "https://gist.githubusercontent.com/ryanorsinger/ad042d8ee4340ae7026e215bc6b69665/raw/b0c1c816d87e4d3db34e52d35e376394f689911e/drink_cost.csv\n",
    "\n",
    "- Combine estes dataframes e sobrescreva o dataframe chamado `drinks` usando `pd.concat`.\n",
    "\n",
    "- Por fim, grave seu dataframe `drinks` no disco usando `.to_excel`. Nomeie o arquivo `drinks.xlsx`."
   ]
  },
  {
   "cell_type": "code",
   "execution_count": null,
   "id": "4c67814c",
   "metadata": {},
   "outputs": [],
   "source": [
    "# Use `pd.read_json` para ler as citações de Dolly Parton em um dataframe chamado `dolly`.\n",
    "# Citações de Dolly Parton:\n",
    "# https://gist.githubusercontent.com/ryanorsinger/ad042d8ee4340ae7026e215bc6b69665/raw/4c0eef2e4cbce5e47b674e8d1d5bad34f0c7b757/dolly.json\n"
   ]
  },
  {
   "cell_type": "code",
   "execution_count": null,
   "id": "e1d99fd6",
   "metadata": {},
   "outputs": [],
   "source": [
    "# Leia as citações de Bob Ross em um dataframe chamado `bob`.\n",
    "# Bob Ross cita JSON:\n",
    "# https://gist.githubusercontent.com/ryanorsinger/ad042d8ee4340ae7026e215bc6b69665/raw/b0c1c816d87e4d3db34e52d35e376394f689911e/bob_ross.json\n"
   ]
  },
  {
   "cell_type": "code",
   "execution_count": null,
   "id": "36d74583",
   "metadata": {},
   "outputs": [],
   "source": [
    "# Crie um dicionário usando as chaves \"quote\" e \"author\" e forneça uma citação de sua escolha.\n",
    "# Em seguida, use `pd.DataFrame` para transformar este dicionário em um dataframe de uma linha.\n",
    "# Observação: certifique-se de colocar o dicionário entre colchetes.\n",
    "# Nomeie seu novo dataframe como `my_quote`\n"
   ]
  },
  {
   "cell_type": "code",
   "execution_count": null,
   "id": "7b8a4064",
   "metadata": {},
   "outputs": [],
   "source": [
    "# Use `pd.concat` para combinar todos os três dataframes em uma nova variável chamada `quotes`.\n"
   ]
  },
  {
   "cell_type": "code",
   "execution_count": null,
   "id": "4e49b16d",
   "metadata": {},
   "outputs": [],
   "source": [
    "# Use `to_csv` para gravar o dataframe `quotes` no disco, fornecendo o nome de arquivo `quotes.csv`.\n"
   ]
  },
  {
   "cell_type": "code",
   "execution_count": null,
   "id": "3bafcc1e",
   "metadata": {},
   "outputs": [],
   "source": [
    "# Leia este JSON de bebidas em um dataframe chamado drinks\n",
    "# https://gist.githubusercontent.com/ryanorsinger/ad042d8ee4340ae7026e215bc6b69665/raw/b0c1c816d87e4d3db34e52d35e376394f689911e/drinks.json\n"
   ]
  },
  {
   "cell_type": "code",
   "execution_count": null,
   "id": "b8ae4b3a",
   "metadata": {},
   "outputs": [],
   "source": [
    "# Leia o CSV do custo da bebida em um dataframe chamado drink_costs\n",
    "# https://gist.githubusercontent.com/ryanorsinger/ad042d8ee4340ae7026e215bc6b69665/raw/b0c1c816d87e4d3db34e52d35e376394f689911e/drink_cost.csv\n"
   ]
  },
  {
   "cell_type": "code",
   "execution_count": null,
   "id": "6ed293b7",
   "metadata": {},
   "outputs": [],
   "source": [
    "# Combine esses dataframes em um dataframe chamado `drinks` usando `pd.concat`, sobrescrevendo o original.\n",
    "# Lembre-se de que o pd.concat usa a concatenação por linha como padrão, a menos que especificado de outra forma.\n"
   ]
  },
  {
   "cell_type": "code",
   "execution_count": null,
   "id": "0410bdcf",
   "metadata": {},
   "outputs": [],
   "source": [
    "# Por fim, grave seu dataframe `drinks` no disco usando `.to_excel`\n",
    "# Nomeie o arquivo drinks.xlsx.\n"
   ]
  }
 ],
 "metadata": {
  "kernelspec": {
   "display_name": "anaconda-2024.02-py310",
   "language": "python",
   "name": "conda-env-anaconda-2024.02-py310-py"
  },
  "language_info": {
   "codemirror_mode": {
    "name": "ipython",
    "version": 3
   },
   "file_extension": ".py",
   "mimetype": "text/x-python",
   "name": "python",
   "nbconvert_exporter": "python",
   "pygments_lexer": "ipython3",
   "version": "3.11.4 (main, Jun 20 2023, 17:37:48) [Clang 14.0.0 (clang-1400.0.29.202)]"
  },
  "vscode": {
   "interpreter": {
    "hash": "b0fa6594d8f4cbf19f97940f81e996739fb7646882a419484c72d19e05852a7e"
   }
  }
 },
 "nbformat": 4,
 "nbformat_minor": 5
}
