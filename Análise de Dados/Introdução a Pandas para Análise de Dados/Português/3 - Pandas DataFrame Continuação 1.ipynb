{
 "cells": [
  {
   "cell_type": "markdown",
   "id": "ae0a5ad5",
   "metadata": {},
   "source": [
    "# Introdução ao Pandas"
   ]
  },
  {
   "cell_type": "markdown",
   "id": "efbbdb31",
   "metadata": {},
   "source": [
    "## Módulo 3: DataFrames Continuação\n",
    "\n",
    "### Pandas DataFrames Continuação - Identificando Valores Ausentes\n",
    "- Identificando e Contando Valores Ausentes\n",
    "- Removendo Linhas com Informações Ausentes\n",
    "- Removendo Colunas de um DataFrame"
   ]
  },
  {
   "cell_type": "code",
   "execution_count": null,
   "id": "fda235a9",
   "metadata": {},
   "outputs": [],
   "source": [
    "import pandas as pd"
   ]
  },
  {
   "cell_type": "code",
   "execution_count": null,
   "id": "cd800ff1",
   "metadata": {},
   "outputs": [],
   "source": [
    "# Vamos gerar alguns dados com valores ausentes.\n",
    "# Os dados do mundo real geralmente apresentam valores ausentes\n",
    "df = pd.DataFrame([\n",
    "    {\n",
    "        \"item\": \"biscoito\",\n",
    "        \"tamanho_porcao\": 4,\n",
    "        \"calorias\": 10,\n",
    "        \"gordura\": \"1.1g\",\n",
    "        \"sodio\": \"125mg\",\n",
    "        \"preco\": 2.99,\n",
    "        \"desconto\": None\n",
    "    },\n",
    "    {\n",
    "        \"item\": \"soda\",\n",
    "        \"tamanho_porcao\": \"200ml\",\n",
    "        \"calorias\": None,\n",
    "        \"gordura\": None,\n",
    "        \"sodio\": \"75mg\",\n",
    "        \"preco\": 2.25,\n",
    "        \"desconto\": None\n",
    "\n",
    "    },\n",
    "    {\n",
    "        \"item\": \"maça\",\n",
    "        \"tamanho_porcao\": 2,\n",
    "        \"calorias\": 95,\n",
    "        \"gordura\": None,\n",
    "        \"sodio\": None,\n",
    "        \"preco\": 1.99,\n",
    "        \"desconto\": None\n",
    "    },\n",
    "    {\n",
    "        \"item\": \"banana\",\n",
    "        \"tamanho_porcao\": 3,\n",
    "        \"calorias\": 105,\n",
    "        \"gordura\": \"0.4g\",\n",
    "        \"sodio\": \"1mg\",\n",
    "        \"preco\": None,\n",
    "        \"desconto\": None\n",
    "    },\n",
    "    {\n",
    "        \"item\": \"sardinha\",\n",
    "        \"tamanho_porcao\": \"1 lata\",\n",
    "        \"calorias\": None,\n",
    "        \"gordura\": None,\n",
    "        \"sodio\": None,\n",
    "        \"preco\": None,\n",
    "        \"desconto\": None\n",
    "    }\n",
    "])\n",
    "\n",
    "# Defina o índice como o nome do item\n",
    "df.set_index(\"item\", inplace=True)\n",
    "df"
   ]
  },
  {
   "cell_type": "code",
   "execution_count": null,
   "id": "1e32b1c6",
   "metadata": {},
   "outputs": [],
   "source": [
    "# O método .info gera tipos de dados e contagens de valores não nulos\n",
    "df.info()"
   ]
  },
  {
   "cell_type": "code",
   "execution_count": null,
   "id": "a87461c1",
   "metadata": {},
   "outputs": [],
   "source": [
    "# Observe que os valores ausentes em uma coluna numérica são exibidos como NaN, que significa \"não é um número\".\n",
    "# Para mais informações sobre NaN, consulte https://en.wikipedia.org/wiki/NaN\n",
    "df.calorias"
   ]
  },
  {
   "cell_type": "code",
   "execution_count": null,
   "id": "3ff30bf8",
   "metadata": {},
   "outputs": [],
   "source": [
    "# O NaN existe para nos permitir fazer cálculos sem erros de execução\n",
    "# Muitas funções matemáticas ignoram NaNs\n",
    "df.calorias.mean()"
   ]
  },
  {
   "cell_type": "code",
   "execution_count": null,
   "id": "ef7484b6",
   "metadata": {},
   "outputs": [],
   "source": [
    "# Por padrão, .value_counts também ignora NaNs\n",
    "df.sodio.value_counts()"
   ]
  },
  {
   "cell_type": "code",
   "execution_count": null,
   "id": "5b08a6a3",
   "metadata": {},
   "outputs": [],
   "source": [
    "# Use dropna=False para contar valores ausentes\n",
    "df.sodio.value_counts(dropna=False)"
   ]
  },
  {
   "cell_type": "code",
   "execution_count": null,
   "id": "7067d296",
   "metadata": {},
   "outputs": [],
   "source": [
    "# Observe que os valores ausentes em uma coluna de string/objeto são exibidos como Nenhum\n",
    "df.gordura"
   ]
  },
  {
   "cell_type": "code",
   "execution_count": null,
   "id": "6287b882",
   "metadata": {},
   "outputs": [],
   "source": [
    "# .isna() pode operar em uma coluna, retornando uma série booleana\n",
    "df.sodio.isna()"
   ]
  },
  {
   "cell_type": "code",
   "execution_count": null,
   "id": "aa29eb00",
   "metadata": {},
   "outputs": [],
   "source": [
    "# .isna() também pode operar em todo o dataframe\n",
    "df.isna()"
   ]
  },
  {
   "cell_type": "code",
   "execution_count": null,
   "id": "32feee21",
   "metadata": {},
   "outputs": [],
   "source": [
    "# Contando o número de nulos por coluna\n",
    "print(\"Número de nulos por coluna\")\n",
    "df.isna().sum()"
   ]
  },
  {
   "cell_type": "code",
   "execution_count": null,
   "id": "bf9eee13",
   "metadata": {},
   "outputs": [],
   "source": [
    "print(\"Proporção de nulos por coluna\")\n",
    "df.isna().mean()"
   ]
  },
  {
   "cell_type": "code",
   "execution_count": null,
   "id": "1e9fb285",
   "metadata": {},
   "outputs": [],
   "source": [
    "# Contando o número de nulos por linha\n",
    "# Lembre-se de que .sum pode ser executado em colunas ou por linha, por linha com axis=1\n",
    "print(\"Número de nulos por linha\")\n",
    "df.isna().sum(axis=1)"
   ]
  },
  {
   "cell_type": "code",
   "execution_count": null,
   "id": "96a32b29",
   "metadata": {},
   "outputs": [],
   "source": [
    "# Proporção do número de nulos por linha\n",
    "# Lembre-se de que .sum pode ser executado em colunas ou por linha, por linha com eixo=1\n",
    "print(\"Proporção de nulos por linha\")\n",
    "df.isna().mean(axis=1)"
   ]
  },
  {
   "cell_type": "markdown",
   "id": "ccad9754",
   "metadata": {},
   "source": [
    "### Lidando com Valores Ausentes\n",
    "- Não existe uma resposta única para todos os casos.\n",
    "- \"Depende\" é uma resposta comum em ciência de dados. O contexto importa.\n",
    "- Às vezes, valores ausentes podem significar zero, dependendo do contexto, então podemos preencher zero.\n",
    "- Às vezes, remover linhas ou colunas inteiras é apropriado.\n",
    "- Às vezes, preencher valores ausentes faz sentido para manter o restante dos dados da linha ou coluna."
   ]
  },
  {
   "cell_type": "code",
   "execution_count": null,
   "id": "950304d1",
   "metadata": {},
   "outputs": [],
   "source": [
    "# Exemplo de remoção de valores nulos\n",
    "# dropna descarta todas as linhas com valor nulo\n",
    "# Como há dados faltantes em todas as linhas, isso é bastante destrutivo...\n",
    "# o argumento padrão do eixo é axis=0, o que significa linha por linha\n",
    "df.dropna()"
   ]
  },
  {
   "cell_type": "code",
   "execution_count": null,
   "id": "24bb2a02",
   "metadata": {},
   "outputs": [],
   "source": [
    "# dropna(axis=1) descarta todas as colunas com valores ausentes\n",
    "# Isso também é muito destrutivo para ser útil\n",
    "df.dropna(axis=1)"
   ]
  },
  {
   "cell_type": "code",
   "execution_count": null,
   "id": "32693b55",
   "metadata": {},
   "outputs": [],
   "source": [
    "# Vamos revisar o dataframe\n",
    "df"
   ]
  },
  {
   "cell_type": "code",
   "execution_count": null,
   "id": "c113d076",
   "metadata": {},
   "outputs": [],
   "source": [
    "# A coluna de desconto não está adicionando nenhuma informação aqui, então podemos removê-la\n",
    "df.drop(columns=\"desconto\", inplace=True)\n",
    "df"
   ]
  },
  {
   "cell_type": "code",
   "execution_count": null,
   "id": "f9fa74c4",
   "metadata": {},
   "outputs": [],
   "source": [
    "# Reatribuir o df\n",
    "# df.drop(index=[\"sardinha\"], inplace=True) produziria o mesmo resultado\n",
    "df = df[df.index != \"sardinha\"]\n",
    "df"
   ]
  },
  {
   "cell_type": "markdown",
   "id": "f183259a",
   "metadata": {},
   "source": [
    "## Recursos Adicionais\n",
    "- [.isnull](https://pandas.pydata.org/docs/reference/api/pandas.DataFrame.isnull.html) é um alias para `isna`.\n",
    "- A documentação [.value_counts](https://pandas.pydata.org/docs/reference/api/pandas.Series.value_counts.html)\n",
    "- [Documentação Pandas .isna](https://pandas.pydata.org/pandas-docs/stable/reference/api/pandas.isna.html)"
   ]
  },
  {
   "cell_type": "markdown",
   "id": "40cc58ae",
   "metadata": {},
   "source": [
    "## Exercícios\n",
    "- Use `pd.read_csv` para ler `\"penguins.csv\"` em uma variável de dataframe chamada `penguins`\n",
    "- Escreva o código do Pandas para contar o número de valores ausentes por coluna\n",
    "- Escreva o código do Pandas necessário para obter a proporção de valores ausentes por linha. Armazene isso em uma variável chamada `porcentagem_faltando_por_linha`\n",
    "- Classifique a série `porcentagem_faltando_por_linha` em ordem decrescente. Quantas linhas estão praticamente vazias?"
   ]
  },
  {
   "cell_type": "code",
   "execution_count": null,
   "id": "b851cc92",
   "metadata": {},
   "outputs": [],
   "source": [
    "# Use `pd.read_csv(\"\", storage_options = {'User-Agent': 'Mozilla/5.0'})` para ler `\"https://static.anaconda.cloud/shared/lms/data_analysis/Intro_to_pandas_data_analysis/assets/penguins.csv\"` em uma variável de dataframe chamada `penguins`\n"
   ]
  },
  {
   "cell_type": "code",
   "execution_count": null,
   "id": "1deb7fe4",
   "metadata": {},
   "outputs": [],
   "source": [
    "# Use .isna para contar o número de valores ausentes por coluna\n"
   ]
  },
  {
   "cell_type": "code",
   "execution_count": null,
   "id": "dd3514aa",
   "metadata": {},
   "outputs": [],
   "source": [
    "# Escreva os pandas necessários para obter a proporção de valores ausentes por linha.\n",
    "# Armazene isso em uma variável chamada `porcentagem_faltando_por_linha`\n"
   ]
  },
  {
   "cell_type": "code",
   "execution_count": null,
   "id": "c7cae724",
   "metadata": {},
   "outputs": [],
   "source": [
    "# Classifica a série `porcentagem_faltando_por_linha` em ordem decrescente\n",
    "# Quantas linhas estão quase vazias\n"
   ]
  },
  {
   "cell_type": "code",
   "execution_count": null,
   "id": "cbd841ce",
   "metadata": {},
   "outputs": [],
   "source": []
  }
 ],
 "metadata": {
  "kernelspec": {
   "display_name": "Python 3",
   "language": "python",
   "name": "python3"
  },
  "language_info": {
   "codemirror_mode": {
    "name": "ipython",
    "version": 3
   },
   "file_extension": ".py",
   "mimetype": "text/x-python",
   "name": "python",
   "nbconvert_exporter": "python",
   "pygments_lexer": "ipython3",
   "version": "3.10.0"
  }
 },
 "nbformat": 4,
 "nbformat_minor": 5
}
