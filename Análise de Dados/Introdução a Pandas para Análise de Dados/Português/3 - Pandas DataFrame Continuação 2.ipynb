{
 "cells": [
  {
   "cell_type": "markdown",
   "id": "b93319a7",
   "metadata": {},
   "source": [
    "# Introdução ao Pandas"
   ]
  },
  {
   "cell_type": "markdown",
   "id": "dce75101",
   "metadata": {},
   "source": [
    "## Módulo 3: DataFrames Continuação\n",
    "\n",
    "### Pandas DataFrames Continuação - Preenchendo Valores Ausentes\n",
    "- Preenchendo Valores Ausentes\n",
    "- Usando `.fillna`\n",
    "- Usando `.loc` com DataFrames (semelhante a `.loc` em Séries, mas bidimensional com linhas e colunas)\n",
    "\n",
    "### Lidar com Valores Ausentes é um Caso na Resolução Criativa de Problemas\n",
    "- Não existe uma única resposta correta para todos os casos.\n",
    "- \"Depende\" é uma resposta comum em ciência de dados. O contexto importa.\n",
    "\n",
    "- Às vezes, valores ausentes podem significar zero, dependendo do contexto, então podemos preencher zero.\n",
    "- Às vezes, remover linhas ou colunas inteiras é apropriado\n",
    "- Outras vezes, preencher valores ausentes com a média, a mediana, a moda ou um valor provável é apropriado\n",
    "\n",
    "- Às vezes, analistas removem linhas com muitos valores ausentes\n",
    "- Outras vezes, analistas removem colunas com muitos valores ausentes\n",
    "- Valores ausentes também podem ser preenchidos com uma estimativa razoável, como um valor de mediana, média ou moda.\n",
    "\n",
    "- Preencher muitos valores ausentes pode distorcer os dados originais."
   ]
  },
  {
   "cell_type": "code",
   "execution_count": null,
   "id": "09eb8bf9",
   "metadata": {},
   "outputs": [],
   "source": [
    "import pandas as pd"
   ]
  },
  {
   "cell_type": "code",
   "execution_count": null,
   "id": "e5f3ada8",
   "metadata": {},
   "outputs": [],
   "source": [
    "# Vamos gerar alguns dados com valores ausentes.\n",
    "# Os dados do mundo real geralmente apresentam valores ausentes\n",
    "df = pd.DataFrame([\n",
    "    {\n",
    "        \"item\": \"biscoito\",\n",
    "        \"tamanho_porcao\": 4,\n",
    "        \"calorias\": 10,\n",
    "        \"gordura\": \"1.1g\",\n",
    "        \"sodio\": \"125mg\",\n",
    "        \"preco\": 2.99,\n",
    "        \"desconto\": None\n",
    "    },\n",
    "    {\n",
    "        \"item\": \"soda\",\n",
    "        \"tamanho_porcao\": \"200ml\",\n",
    "        \"calorias\": None,\n",
    "        \"gordura\": None,\n",
    "        \"sodio\": \"75mg\",\n",
    "        \"preco\": 2.25,\n",
    "        \"desconto\": None\n",
    "\n",
    "    },\n",
    "    {\n",
    "        \"item\": \"maça\",\n",
    "        \"tamanho_porcao\": 2,\n",
    "        \"calorias\": 95,\n",
    "        \"gordura\": None,\n",
    "        \"sodio\": None,\n",
    "        \"preco\": 1.99,\n",
    "        \"desconto\": None\n",
    "    },\n",
    "    {\n",
    "        \"item\": \"banana\",\n",
    "        \"tamanho_porcao\": 3,\n",
    "        \"calorias\": 105,\n",
    "        \"gordura\": \"0.4g\",\n",
    "        \"sodio\": \"1mg\",\n",
    "        \"preco\": None,\n",
    "        \"desconto\": None\n",
    "    },\n",
    "    {\n",
    "        \"item\": \"sardinha\",\n",
    "        \"tamanho_porcao\": \"1 lata\",\n",
    "        \"calorias\": None,\n",
    "        \"gordura\": None,\n",
    "        \"sodio\": None,\n",
    "        \"preco\": None,\n",
    "        \"desconto\": None\n",
    "    }\n",
    "])\n",
    "\n",
    "# Defina o índice como o nome do item\n",
    "df.set_index(\"item\", inplace=True)\n",
    "df"
   ]
  },
  {
   "cell_type": "code",
   "execution_count": null,
   "id": "249eb6fb",
   "metadata": {},
   "outputs": [],
   "source": [
    "# Exemplo de preenchimento de valores nulos com um valor razoável\n",
    "# A maça e o refrigerante não possuem gordura, então esses valores ausentes podem ser 0\n",
    "df.gordura = df.gordura.fillna(0)\n",
    "df"
   ]
  },
  {
   "cell_type": "markdown",
   "id": "b22a1095",
   "metadata": {},
   "source": [
    "### Um aparte sobre os avisos do Pandas\n",
    "- Os avisos do Pandas não são erros. O código será executado. O aviso é um aviso, não um erro que interrompe a execução.\n",
    "- Dependendo da sua versão do Pandas, o código acima pode gerar o seguinte aviso.\n",
    "- Pandas warnings are not errors. The code will run. The warning is a notice, not an error that halts execution.\n",
    "- Depending on your version of pandas, the above code might produce the following warning.\n",
    "```\n",
    "SettingWithCopyWarning: A value is trying to be set on a copy of a slice from a DataFrame.\n",
    "Try using .loc[row_index,col_indexer] = value instead\n",
    "```\n",
    "- Como isso pode afetar alguns usuários, passaremos a trabalhar com `.loc`\n"
   ]
  },
  {
   "cell_type": "code",
   "execution_count": null,
   "id": "39c60955",
   "metadata": {},
   "outputs": [],
   "source": [
    "# Exemplo de indexação de linha e indexação de coluna de .loc\n",
    "# [start_row:end_row, column_start:column_end]\n",
    "# [:,] retorna todas as linhas e todas as colunas\n",
    "df.loc[:,]"
   ]
  },
  {
   "cell_type": "code",
   "execution_count": null,
   "id": "9298f935",
   "metadata": {},
   "outputs": [],
   "source": [
    "# Observe como estamos obtendo o intervalo de linhas de soda a maça\n",
    "# df.loc[\"soda\":\"banana\", :]\n",
    "df.loc[\"soda\":\"banana\"]"
   ]
  },
  {
   "cell_type": "code",
   "execution_count": null,
   "id": "70857f14",
   "metadata": {},
   "outputs": [],
   "source": [
    "# Observe como .loc usa a sintaxe de indexação\n",
    "df.loc[df.index == \"maça\"]"
   ]
  },
  {
   "cell_type": "code",
   "execution_count": null,
   "id": "e29e83a6",
   "metadata": {},
   "outputs": [],
   "source": [
    "# Observe como .loc usa a sintaxe de indexação\n",
    "df.loc[df.tamanho_porcao == 3]"
   ]
  },
  {
   "cell_type": "code",
   "execution_count": null,
   "id": "b397a6fd",
   "metadata": {},
   "outputs": [],
   "source": [
    "# Observe como .loc usa a sintaxe de indexação\n",
    "df.loc[df.index == \"maça\", \"tamanho_porcao\":\"gordura\"]"
   ]
  },
  {
   "cell_type": "code",
   "execution_count": null,
   "id": "9aa89b12",
   "metadata": {},
   "outputs": [],
   "source": [
    "# Todas as linhas mostram apenas calorias como coluna\n",
    "df.loc[:, \"calorias\"]"
   ]
  },
  {
   "cell_type": "code",
   "execution_count": null,
   "id": "50c7a2a9",
   "metadata": {},
   "outputs": [],
   "source": [
    "# Observe como : for linhas retorna todas as linhas\n",
    "# mostra todas as colunas de calorias até preco 9(inclusive)\n",
    "df.loc[:, \"calorias\":\"preco\"]"
   ]
  },
  {
   "cell_type": "code",
   "execution_count": null,
   "id": "1245119f",
   "metadata": {},
   "outputs": [],
   "source": [
    "# Algumas operações do Pandas podem gerar um SettingWithCopyWarning\n",
    "# Recomenda-se a leitura atenta da documentação\n",
    "# Os desenvolvedores do Pandas criaram este aviso porque os efeitos podem ser difíceis de prever\n",
    "# Observe como a operação acima foi avaliada, mas o aviso pode parecer perturbador.\n",
    "df.loc[df.calorias.isna(), \"calorias\"] = 0\n",
    "df"
   ]
  },
  {
   "cell_type": "code",
   "execution_count": null,
   "id": "5847a4e0",
   "metadata": {},
   "outputs": [],
   "source": [
    "# Um preço médio pode ser razoável aqui, já que não temos outras informações\n",
    "df.loc[df.preco.isna(), \"preco\"] = df.preco.mean()\n",
    "df"
   ]
  },
  {
   "cell_type": "code",
   "execution_count": null,
   "id": "3aa4b619",
   "metadata": {},
   "outputs": [],
   "source": [
    "# Informações atuais da sardinha\n",
    "sardinha_calorias = 1080\n",
    "sardinha_gordura = \"96g\"\n",
    "sardinha_sodio = \"4740mg\" \n",
    "sardinha_preco = 3.25\n",
    "\n",
    "df.loc[df.index == \"sardinha\", \"calorias\":\"preco\"] = [sardinha_calorias, sardinha_gordura, sardinha_sodio, sardinha_preco]\n",
    "df"
   ]
  },
  {
   "cell_type": "code",
   "execution_count": null,
   "id": "ba0a9162",
   "metadata": {},
   "outputs": [],
   "source": [
    "# Digamos que recebemos novas informações sobre descontos\n",
    "# O gerente de negócios diz que usaremos descontos no futuro e que os valores existentes devem ser 0.\n",
    "# Precisaremos recriar a coluna e atribuir zero a ela\n",
    "df[\"desconto\"] = 0"
   ]
  },
  {
   "cell_type": "code",
   "execution_count": null,
   "id": "6f8b714c",
   "metadata": {},
   "outputs": [],
   "source": [
    "df"
   ]
  },
  {
   "cell_type": "markdown",
   "id": "b9973ad8",
   "metadata": {},
   "source": [
    "## Recursos Adicionais\n",
    "- Usando [.fillna](https://pandas.pydata.org/docs/reference/api/pandas.DataFrame.fillna.html)\n",
    "- [Retornando uma visualização versus uma cópia nos documentos do pandas](https://pandas.pydata.org/pandas-docs/stable/user_guide/indexing.html#returning-a-view-versus-a-copy)\n",
    "- [documentação do pandas .loc](https://pandas.pydata.org/docs/reference/api/pandas.DataFrame.loc.html)\n",
    "- [documentação do pandas .iloc](https://pandas.pydata.org/docs/reference/api/pandas.DataFrame.iloc.html)"
   ]
  },
  {
   "attachments": {},
   "cell_type": "markdown",
   "id": "050e7a8b",
   "metadata": {},
   "source": [
    "## Exercícios\n",
    "- Execute as células acima para remover ou preencher a maioria dos valores ausentes da variável `df`.\n",
    "- Preencha o valor de sódio ausente com uma opção lógica.\n",
    "- Use `pd.read_csv(\"\", storage_options = {'User-Agent': 'Mozilla/5.0'})` para ler `\"https://static.anaconda.cloud/shared/lms/data_analysis/Intro_to_pandas_data_analysis/assets/penguins.csv\"` em uma variável de dataframe chamada `penguins`\n",
    "- Preencha os valores ausentes de `bill_length_mm` com sua média\n",
    "- Preencha os valores ausentes de `bill_depth_mm` com sua média\n",
    "- Preencha os valores ausentes de `body_mass_g` com sua média\n",
    "- Execute `.value_counts` na coluna `sex`\n",
    "- Preencha os valores ausentes na coluna `sex` com `mode` (siga .mode() com [0] para acessar o valor da string)\n",
    "- Execute `.value_counts` na coluna `sex` novamente, após preencher os valores ausentes"
   ]
  },
  {
   "cell_type": "code",
   "execution_count": null,
   "id": "36cdefcf",
   "metadata": {},
   "outputs": [],
   "source": [
    "# Use `pd.read_csv` para ler `\"penguins.csv\"` em uma variável de dataframe chamada `penguins`\n"
   ]
  },
  {
   "cell_type": "code",
   "execution_count": null,
   "id": "c9ddb08a",
   "metadata": {},
   "outputs": [],
   "source": [
    "# Preencha os valores faltantes de `bill_length_mm` com sua média\n"
   ]
  },
  {
   "cell_type": "code",
   "execution_count": null,
   "id": "9e74e93c",
   "metadata": {},
   "outputs": [],
   "source": [
    "# Preencha os valores faltantes para `bill_depth_mm` com sua média\n"
   ]
  },
  {
   "cell_type": "code",
   "execution_count": null,
   "id": "e0edd81f",
   "metadata": {},
   "outputs": [],
   "source": [
    "# Preencha os valores faltantes para `body_mass_g` com sua média\n"
   ]
  },
  {
   "cell_type": "code",
   "execution_count": null,
   "id": "89ebf79f",
   "metadata": {},
   "outputs": [],
   "source": [
    "# Execute `.value_counts` na coluna `sex`\n"
   ]
  },
  {
   "cell_type": "code",
   "execution_count": null,
   "id": "5e7a5dc3",
   "metadata": {},
   "outputs": [],
   "source": [
    "# Preencha os valores faltantes na coluna `sex` com o `mode` (siga .mode() com [0] para acessar o valor da string)\n"
   ]
  },
  {
   "cell_type": "code",
   "execution_count": null,
   "id": "6fc6c35c",
   "metadata": {},
   "outputs": [],
   "source": [
    "# Execute `.value_counts` na coluna `sex` novamente, após preencher os valores ausentes\n"
   ]
  },
  {
   "cell_type": "code",
   "execution_count": null,
   "id": "b5197a84",
   "metadata": {},
   "outputs": [],
   "source": []
  }
 ],
 "metadata": {
  "kernelspec": {
   "display_name": "anaconda-2024.02-py310",
   "language": "python",
   "name": "conda-env-anaconda-2024.02-py310-py"
  },
  "language_info": {
   "codemirror_mode": {
    "name": "ipython",
    "version": 3
   },
   "file_extension": ".py",
   "mimetype": "text/x-python",
   "name": "python",
   "nbconvert_exporter": "python",
   "pygments_lexer": "ipython3",
   "version": "3.9.13"
  }
 },
 "nbformat": 4,
 "nbformat_minor": 5
}
