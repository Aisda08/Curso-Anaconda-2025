{
 "cells": [
  {
   "cell_type": "markdown",
   "id": "cbb4c68c",
   "metadata": {},
   "source": [
    "# Introdução aos Pandas"
   ]
  },
  {
   "cell_type": "markdown",
   "id": "d1c2ddbd",
   "metadata": {},
   "source": [
    "## Módulo 1: Introdução à série Pandas\n",
    "- Criando séries a partir de coleções Python\n",
    "- Fazendo cálculos com séries de números\n",
    "- Descrevendo nossos dados\n",
    "- Filtrando séries\n",
    "- Operando com séries de strings\n",
    "- Usando atributos e métodos de séries integrados\n",
    "\n",
    "## O que é Pandas?\n",
    "- A biblioteca líder em análise de dados para Python\n",
    "- Construída para aquisição, limpeza, organização e análise de dados\n",
    "- Séries e DataFrames são conjuntos de dados poderosos do Pandas\n",
    "\n",
    "## Por que Pandas?\n",
    "- Pandas é a biblioteca *de fato* para análise de dados no ecossistema Python\n",
    "- Pandas também é *rápido*, mais rápido que o Python básico\n",
    "- Permite realizar mais com menos código"
   ]
  },
  {
   "cell_type": "markdown",
   "id": "5f13f743",
   "metadata": {},
   "source": [
    "### Série Pandas Parte 1\n",
    "- Criando objetos de série\n",
    "- Atribuindo séries\n",
    "- Fazendo cálculos em séries\n",
    "- Descrevendo uma série"
   ]
  },
  {
   "cell_type": "code",
   "execution_count": null,
   "id": "c020021a",
   "metadata": {},
   "outputs": [],
   "source": [
    "import pandas as pd"
   ]
  },
  {
   "cell_type": "code",
   "execution_count": null,
   "id": "11c08f3f",
   "metadata": {},
   "outputs": [],
   "source": [
    "pd.Series([7, 8, 9])"
   ]
  },
  {
   "cell_type": "code",
   "execution_count": null,
   "id": "64ef6e74",
   "metadata": {},
   "outputs": [],
   "source": [
    "# Atribuindo uma série a uma variável\n",
    "resultados = pd.Series([True, False, True])\n",
    "resultados"
   ]
  },
  {
   "cell_type": "code",
   "execution_count": null,
   "id": "11929db1",
   "metadata": {},
   "outputs": [],
   "source": [
    "# A série pode ser qualquer tipo de dado Python\n",
    "cores = [\"red\", \"orange\", \"yellow\", \"green\", \"blue\", \"indigo\", \"violet\"]\n",
    "cores = pd.Series(cores)\n",
    "cores"
   ]
  },
  {
   "cell_type": "code",
   "execution_count": null,
   "id": "dca4507c",
   "metadata": {},
   "outputs": [],
   "source": [
    "# Podemos atribuir intervalos para fazer séries de números\n",
    "numeros = pd.Series(range(-3, 3))\n",
    "numeros"
   ]
  },
  {
   "cell_type": "code",
   "execution_count": null,
   "id": "d090109f",
   "metadata": {},
   "outputs": [],
   "source": [
    "# Podemos fazer aritmética em séries inteiras com nossos operadores matemáticos\n",
    "numeros + 1"
   ]
  },
  {
   "cell_type": "code",
   "execution_count": null,
   "id": "5f559c69",
   "metadata": {},
   "outputs": [],
   "source": [
    "# Pandas, assim como Python, segue a ordem de operações PEMDAS\n",
    "numeros * 2 + 5"
   ]
  },
  {
   "cell_type": "code",
   "execution_count": null,
   "id": "d0b1e271",
   "metadata": {},
   "outputs": [],
   "source": [
    "# Observe como os operadores integrados do Python funcionam em toda a série\n",
    "numeros ** 2"
   ]
  },
  {
   "cell_type": "code",
   "execution_count": null,
   "id": "8040187a",
   "metadata": {},
   "outputs": [],
   "source": [
    "# Podemos tirar a raiz quadrada elevando à potência 1/2\n",
    "numeros ** (1/2)"
   ]
  },
  {
   "cell_type": "code",
   "execution_count": null,
   "id": "a158c7f5",
   "metadata": {},
   "outputs": [],
   "source": [
    "# Observe que a aritmética não altera a série original\n",
    "numeros"
   ]
  },
  {
   "cell_type": "code",
   "execution_count": null,
   "id": "335a5ceb",
   "metadata": {},
   "outputs": [],
   "source": [
    "# Atribuindo o resultado de uma operação a uma nova variável\n",
    "triplo = numeros * 3\n",
    "triplo"
   ]
  },
  {
   "cell_type": "code",
   "execution_count": null,
   "id": "5ec1d545",
   "metadata": {},
   "outputs": [],
   "source": [
    "precos = pd.Series([1.30, 2.50, 2.50, 5.60, 10.10])\n",
    "precos"
   ]
  },
  {
   "cell_type": "code",
   "execution_count": null,
   "id": "c78dc97a",
   "metadata": {},
   "outputs": [],
   "source": [
    "# Reatribuir uma variável para sobrescrever os valores com o resultado de uma operação\n",
    "precos = precos * .8\n",
    "precos"
   ]
  },
  {
   "cell_type": "code",
   "execution_count": null,
   "id": "d98b25e7",
   "metadata": {},
   "outputs": [],
   "source": [
    "s = pd.Series([7, 8, 8, 9, 9, 9])\n",
    "s"
   ]
  },
  {
   "cell_type": "code",
   "execution_count": null,
   "id": "3408cb7e",
   "metadata": {},
   "outputs": [],
   "source": [
    "# O atributo .index retorna informações sobre o índice\n",
    "# Índices inteiros baseados em zero são o padrão\n",
    "# O Pandas também pode usar strings e datas como valores de índice\n",
    "s.index"
   ]
  },
  {
   "cell_type": "code",
   "execution_count": null,
   "id": "dcc08f10",
   "metadata": {},
   "outputs": [],
   "source": [
    "# O atributo .dtype retorna\n",
    "s.dtype"
   ]
  },
  {
   "cell_type": "code",
   "execution_count": null,
   "id": "dd9f8936",
   "metadata": {},
   "outputs": [],
   "source": [
    "# O atributo .values ​​retorna apenas os valores de um conjunto de dados pandas\n",
    "s.values"
   ]
  },
  {
   "cell_type": "code",
   "execution_count": null,
   "id": "4ff066a6",
   "metadata": {},
   "outputs": [],
   "source": [
    "# Em uma série, .shape retorna o número de elementos dessa série.\n",
    "# Em um dataframe, .shape retorna o número de linhas e colunas\n",
    "s.shape"
   ]
  },
  {
   "cell_type": "code",
   "execution_count": null,
   "id": "afef0d0e",
   "metadata": {},
   "outputs": [],
   "source": [
    "# .value_counts retorna uma contagem de frequência de valores\n",
    "# O índice é o valor\n",
    "s.value_counts()"
   ]
  },
  {
   "cell_type": "code",
   "execution_count": null,
   "id": "22e91ad8",
   "metadata": {},
   "outputs": [],
   "source": [
    "# O modo é o valor que ocorre com mais frequência em um conjunto de dados\n",
    "s.mode()"
   ]
  },
  {
   "cell_type": "code",
   "execution_count": null,
   "id": "ee047939",
   "metadata": {},
   "outputs": [],
   "source": [
    "# A mediana é o meio ordinal dos dados classificados\n",
    "s.median()"
   ]
  },
  {
   "cell_type": "code",
   "execution_count": null,
   "id": "454a7dfb",
   "metadata": {},
   "outputs": [],
   "source": [
    "# Média\n",
    "s.mean()"
   ]
  },
  {
   "cell_type": "code",
   "execution_count": null,
   "id": "0aa6ebbb",
   "metadata": {},
   "outputs": [],
   "source": [
    "# O desvio padrão é uma medida de dispersão\n",
    "s.std()"
   ]
  },
  {
   "cell_type": "code",
   "execution_count": null,
   "id": "bba1e8f1",
   "metadata": {},
   "outputs": [],
   "source": [
    "# .min retorna o menor valor\n",
    "s.min()"
   ]
  },
  {
   "cell_type": "code",
   "execution_count": null,
   "id": "be8e129d",
   "metadata": {},
   "outputs": [],
   "source": [
    "# argmin retorna o índice do menor valor\n",
    "s.argmin()"
   ]
  },
  {
   "cell_type": "code",
   "execution_count": null,
   "id": "39d5b294",
   "metadata": {},
   "outputs": [],
   "source": [
    "s.max()"
   ]
  },
  {
   "cell_type": "code",
   "execution_count": null,
   "id": "ef7f7d90",
   "metadata": {},
   "outputs": [],
   "source": [
    "s.argmax()"
   ]
  },
  {
   "cell_type": "code",
   "execution_count": null,
   "id": "2e02ea0b",
   "metadata": {},
   "outputs": [],
   "source": [
    "s"
   ]
  },
  {
   "cell_type": "code",
   "execution_count": null,
   "id": "cbd3d910",
   "metadata": {},
   "outputs": [],
   "source": [
    "# O método .describe produz algumas estatísticas descritivas úteis\n",
    "s.describe()"
   ]
  },
  {
   "cell_type": "markdown",
   "id": "5f8f9495",
   "metadata": {},
   "source": [
    "### Exercício, parte 1 de 3\n",
    "- Crie uma série chamada `a` que representa os números `[1, 2, 3, 4, 5]`\n",
    "- Crie uma série chamada `b` que representa os números `[1, 1, 2, 3, 5]`\n",
    "- Eleve `a` ao quadrado e reatribua à variável `a`\n",
    "- Eleve `b` ao quadrado e reatribua à variável `b`\n",
    "- Some os quadrados `a` e `b`. Atribua a uma variável chamada `soma_de_quadrados`\n",
    "- Agora calcule a raiz quadrada dessa soma (*dica* elevar à potência 0,5 resulta na raiz quadrada)"
   ]
  },
  {
   "cell_type": "code",
   "execution_count": null,
   "id": "5c8920ad",
   "metadata": {},
   "outputs": [],
   "source": [
    "# Crie uma série chamada \"a\" e atribua a ela os números [1, 2, 3, 4, 5]\n"
   ]
  },
  {
   "cell_type": "code",
   "execution_count": null,
   "id": "701d878e",
   "metadata": {},
   "outputs": [],
   "source": [
    "# Crie uma série chamada \"b\" e atribua a ela os números [1, 1, 2, 3, 5]\n"
   ]
  },
  {
   "cell_type": "code",
   "execution_count": null,
   "id": "2dcb3e40",
   "metadata": {},
   "outputs": [],
   "source": [
    "# Eleve ao quadrado todos os números em a e reatribua o resultado a a\n"
   ]
  },
  {
   "cell_type": "code",
   "execution_count": null,
   "id": "5ac5f690",
   "metadata": {},
   "outputs": [],
   "source": [
    "# Eleve ao quadrado todos os números em b e reatribua o resultado a b\n"
   ]
  },
  {
   "cell_type": "code",
   "execution_count": null,
   "id": "e96b07fd",
   "metadata": {},
   "outputs": [],
   "source": [
    "# Crie uma série chamada sum_of_squares que contém a soma dos quadrados a e b\n"
   ]
  },
  {
   "cell_type": "code",
   "execution_count": null,
   "id": "5ad7ab47",
   "metadata": {},
   "outputs": [],
   "source": [
    "# Avalie a raiz quadrada dessa soma_de_quadrados\n"
   ]
  },
  {
   "cell_type": "markdown",
   "id": "38a73d3c",
   "metadata": {},
   "source": [
    "Para mais informações sobre o método pandas .apply, consulte https://pandas.pydata.org/docs/reference/api/pandas.DataFrame.apply.html"
   ]
  }
 ],
 "metadata": {
  "kernelspec": {
   "display_name": "anaconda-2024.02-py310",
   "language": "python",
   "name": "conda-env-anaconda-2024.02-py310-py"
  },
  "language_info": {
   "codemirror_mode": {
    "name": "ipython",
    "version": 3
   },
   "file_extension": ".py",
   "mimetype": "text/x-python",
   "name": "python",
   "nbconvert_exporter": "python",
   "pygments_lexer": "ipython3",
   "version": "3.10.14"
  }
 },
 "nbformat": 4,
 "nbformat_minor": 5
}
