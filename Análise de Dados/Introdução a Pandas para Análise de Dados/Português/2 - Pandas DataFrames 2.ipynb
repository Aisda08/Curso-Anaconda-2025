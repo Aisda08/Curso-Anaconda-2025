{
 "cells": [
  {
   "cell_type": "markdown",
   "id": "f64d46bb",
   "metadata": {},
   "source": [
    "# Introdução aos Pandas"
   ]
  },
  {
   "cell_type": "markdown",
   "id": "37bc64da",
   "metadata": {},
   "source": [
    "## Módulo 2: Introdução aos DataFrames\n",
    "\n",
    "### Noções básicas sobre DataFrames do Pandas - Parte 2\n",
    "- Recursos úteis do Jupyter\n",
    "- Importando um conjunto de dados CSV\n",
    "- Selecionando várias colunas\n",
    "- Contando valores True em uma série booleana\n",
    "- Filtrando linhas com máscaras booleanas\n",
    "- Usando os operadores AND e OR\n",
    "- Por que e quando usar .copy\n",
    "- Classificando um dataframe por uma ou mais colunas"
   ]
  },
  {
   "cell_type": "code",
   "execution_count": null,
   "id": "34891aca",
   "metadata": {},
   "outputs": [],
   "source": [
    "import pandas as pd"
   ]
  },
  {
   "cell_type": "code",
   "execution_count": null,
   "id": "7ff6b757",
   "metadata": {},
   "outputs": [],
   "source": [
    "# pd.read_csv lê um arquivo de valores separados por vírgula e retorna um dataframe\n",
    "mpg = pd.read_csv(\"https://static.anaconda.cloud/shared/lms/data_analysis/Intro_to_pandas_data_analysis/assets/mpg.csv\", storage_options = {'User-Agent': 'Mozilla/5.0'})\n",
    "mpg"
   ]
  },
  {
   "cell_type": "code",
   "execution_count": null,
   "id": "1460e1a9",
   "metadata": {},
   "outputs": [],
   "source": [
    "# Exibindo a opção de preenchimento automático object.tab\n",
    "# Digite a variável que já foi avaliada na memória\n",
    "# Isso também funciona com módulos importados\n",
    "# Digite .\n",
    "# Em seguida, digite o caractere <Tab>\n",
    "mpg.count?"
   ]
  },
  {
   "cell_type": "code",
   "execution_count": null,
   "id": "ed0664bc",
   "metadata": {},
   "outputs": [],
   "source": [
    "# Puxando a docstring para um método\n",
    "mpg.head?"
   ]
  },
  {
   "cell_type": "code",
   "execution_count": null,
   "id": "b940d553",
   "metadata": {},
   "outputs": [],
   "source": [
    "# .tail analisa os últimos registros de um objeto pandas (série ou dataframe)\n",
    "mpg.tail(3)"
   ]
  },
  {
   "cell_type": "code",
   "execution_count": null,
   "id": "3d54be78",
   "metadata": {},
   "outputs": [],
   "source": [
    "# Os colchetes no dataframe podem aceitar uma lista de nomes de colunas\n",
    "colunas_de_interesse = [\"displ\", \"cty\", \"hwy\"]\n",
    "mpg[colunas_de_interesse].head()"
   ]
  },
  {
   "cell_type": "code",
   "execution_count": null,
   "id": "edf9b18f",
   "metadata": {},
   "outputs": [],
   "source": [
    "# Você também verá o mesmo resultado com colchetes duplos\n",
    "mpg[[\"cty\", \"hwy\"]].head()"
   ]
  },
  {
   "cell_type": "code",
   "execution_count": null,
   "id": "1c82ed92",
   "metadata": {},
   "outputs": [],
   "source": [
    "# Nossas funções, como .mean, .sum, .median, min/max, avaliam uma coluna inteira, por padrão\n",
    "# Há um argumento padrão em .mean() que é axis=0 (que significa coluna)\n",
    "mpg[[\"cty\", \"hwy\"]].mean(axis=0)"
   ]
  },
  {
   "cell_type": "code",
   "execution_count": null,
   "id": "d3c9740c",
   "metadata": {},
   "outputs": [],
   "source": [
    "mpg[[\"cty\", \"hwy\"]].head()"
   ]
  },
  {
   "cell_type": "code",
   "execution_count": null,
   "id": "ae623a29",
   "metadata": {},
   "outputs": [],
   "source": [
    "# axis=1 significa executar o .mean em cada linha, execução linha a linha\n",
    "mpg[[\"cty\", \"hwy\"]].mean(axis=1).head()"
   ]
  },
  {
   "cell_type": "code",
   "execution_count": null,
   "id": "6eb71904",
   "metadata": {},
   "outputs": [],
   "source": [
    "# axis=1 calcula a média por linha\n",
    "mpg[\"average_mileage\"] = mpg[[\"cty\", \"hwy\"]].mean(axis=1)\n",
    "mpg.head()"
   ]
  },
  {
   "cell_type": "code",
   "execution_count": null,
   "id": "fa44eeb8",
   "metadata": {},
   "outputs": [],
   "source": [
    "# value_counts mostra valores únicos e sua distribuição\n",
    "mpg.cyl.value_counts()"
   ]
  },
  {
   "cell_type": "code",
   "execution_count": null,
   "id": "a0befd28",
   "metadata": {},
   "outputs": [],
   "source": [
    "# Usando séries booleanas para responder a perguntas\n",
    "# Quantos audis existem no conjunto de dados\n",
    "# Verdadeiro funciona como 1, Falso funciona como 0\n",
    "(mpg.manufacturer == \"audi\").sum()"
   ]
  },
  {
   "cell_type": "code",
   "execution_count": null,
   "id": "a1c26a98",
   "metadata": {},
   "outputs": [],
   "source": [
    "# Qual a proporção de motores com 4 cilindros?\n",
    "(mpg.cyl == 4).mean()"
   ]
  },
  {
   "cell_type": "code",
   "execution_count": null,
   "id": "915420ec",
   "metadata": {},
   "outputs": [],
   "source": [
    "# Usando séries booleanas para filtrar um dataframe\n",
    "mpg[mpg.cyl == 5]"
   ]
  },
  {
   "cell_type": "code",
   "execution_count": null,
   "id": "2821bada",
   "metadata": {},
   "outputs": [],
   "source": [
    "# Você pode misturar e combinar as colunas usadas para gerar booleanos, os valores booleanos não se importam\n",
    "mpg[(mpg.model == \"maxima\") | (mpg.cyl == 5)]"
   ]
  },
  {
   "cell_type": "code",
   "execution_count": null,
   "id": "8e44b998",
   "metadata": {},
   "outputs": [],
   "source": [
    "# E limita as opções. Ambos os predicados devem ser verdadeiros\n",
    "mpg[(mpg[\"class\"] == \"midsize\") & (mpg[\"displ\"] < 2)]"
   ]
  },
  {
   "cell_type": "code",
   "execution_count": null,
   "id": "46915e72",
   "metadata": {},
   "outputs": [],
   "source": [
    "original_df = pd.DataFrame({\"x\": [1, 2, 3]})\n",
    "original_df"
   ]
  },
  {
   "cell_type": "code",
   "execution_count": null,
   "id": "50908de0",
   "metadata": {},
   "outputs": [],
   "source": [
    "# Tenha cuidado ao atribuir coleções Python dessa forma...\n",
    "# Isso funciona da mesma forma com listas, dicionários e muitos outros objetos de coleção\n",
    "novo_df = original_df"
   ]
  },
  {
   "cell_type": "code",
   "execution_count": null,
   "id": "4ec9a44b",
   "metadata": {},
   "outputs": [],
   "source": [
    "original_df[\"y\"] = original_df.x * 100\n",
    "original_df"
   ]
  },
  {
   "cell_type": "code",
   "execution_count": null,
   "id": "6a726382",
   "metadata": {},
   "outputs": [],
   "source": [
    "novo_df"
   ]
  },
  {
   "cell_type": "code",
   "execution_count": null,
   "id": "cd385569",
   "metadata": {},
   "outputs": [],
   "source": [
    "# Use .copy para fazer uma cópia adequada de um dataframe\n",
    "novo_df = original_df.copy()\n",
    "novo_df"
   ]
  },
  {
   "cell_type": "code",
   "execution_count": null,
   "id": "9e790875",
   "metadata": {},
   "outputs": [],
   "source": [
    "original_df[\"z\"] = 5000\n",
    "original_df"
   ]
  },
  {
   "cell_type": "code",
   "execution_count": null,
   "id": "b4ebde44",
   "metadata": {},
   "outputs": [],
   "source": [
    "# O novo df foi criado a partir de uma cópia e evita futuras mutações no dataframe original\n",
    "novo_df"
   ]
  },
  {
   "cell_type": "code",
   "execution_count": null,
   "id": "f5d57b4a",
   "metadata": {},
   "outputs": [],
   "source": [
    "# Classificando por uma única coluna\n",
    "mpg.sort_values(by=[\"average_mileage\"], ascending=False, ignore_index=True).head()"
   ]
  },
  {
   "cell_type": "code",
   "execution_count": null,
   "id": "9059739d",
   "metadata": {},
   "outputs": [],
   "source": [
    "# Classificando por múltiplas colunas\n",
    "mpg.sort_values(by=[\"hwy\", \"cty\"], ascending=False, ignore_index=True).head()"
   ]
  },
  {
   "cell_type": "code",
   "execution_count": null,
   "id": "51290503",
   "metadata": {},
   "outputs": [],
   "source": [
    "# Atualizando o dataframe para armazenar os valores ordenados\n",
    "# Use inplace=True ou reatribua a variável do dataframe (não ambos)\n",
    "mpg.sort_values(by=\"displ\", ascending=False, ignore_index=True, inplace=True)\n",
    "mpg.head()"
   ]
  },
  {
   "cell_type": "markdown",
   "id": "535d70ea",
   "metadata": {},
   "source": [
    "## Recursos Adicionais\n",
    "- [Folha de Dicas do Pandas](https://pandas.pydata.org/Pandas_Cheat_Sheet.pdf)\n",
    "- [Comparação do Pandas com Planilhas](https://pandas.pydata.org/docs/dev/getting_started/comparison/comparison_with_spreadsheets.html)\n",
    "- [Comparação do Pandas com SQL](https://pandas.pydata.org/docs/dev/getting_started/comparison/comparison_with_sql.html)"
   ]
  },
  {
   "cell_type": "markdown",
   "id": "a8cb227e",
   "metadata": {},
   "source": [
    "## Exercícios\n",
    "- Crie uma nova coluna chamada `automatico` que contenha um valor booleano para indicar se o veículo em questão é automático ou não.\n",
    "- Use a coluna `automatico` para somar o número de veículos automáticos neste conjunto de dados.\n",
    "- Escreva o código do Pandas para determinar qual porcentagem dos veículos são subcompactos.\n",
    "- A economia de combustível combinada é uma média ponderada do valor na cidade em 55% e do valor na rodovia em 45%. Use operadores aritméticos para adicionar uma nova coluna chamada `economia_combustivel` ao dataframe `mpg`.\n",
    "- Use a máscara booleana para encontrar todos os veículos com `economia_combustivel` acima da mediana `economia_combustivel`."
   ]
  },
  {
   "cell_type": "code",
   "execution_count": null,
   "id": "e7f35a2c",
   "metadata": {},
   "outputs": [],
   "source": [
    "# Crie uma nova coluna chamada `automatico` que contenha um valor booleano para indicar se o veículo em questão é automático ou não.\n"
   ]
  },
  {
   "cell_type": "code",
   "execution_count": null,
   "id": "0f9fb2e7",
   "metadata": {},
   "outputs": [],
   "source": [
    "# Use a coluna `automatico` para somar o número de veículos automáticos neste conjunto de dados.\n"
   ]
  },
  {
   "cell_type": "code",
   "execution_count": null,
   "id": "f3234786",
   "metadata": {},
   "outputs": [],
   "source": [
    "# Escreva o código do Pandas para determinar qual porcentagem dos veículos são subcompactos.\n"
   ]
  },
  {
   "cell_type": "code",
   "execution_count": null,
   "id": "b59a6d9a",
   "metadata": {},
   "outputs": [],
   "source": [
    "# Crie uma coluna `economia_combustivel`. A economia de combustível é uma média ponderada do valor da cidade em 55% e do valor da rodovia em 45%."
   ]
  },
  {
   "cell_type": "code",
   "execution_count": null,
   "id": "84f45b10",
   "metadata": {},
   "outputs": [],
   "source": [
    "# Use a máscara booleana para encontrar todos os veículos com `economia_combustivel` acima da mediana `economia_combustivel`.\n"
   ]
  },
  {
   "cell_type": "code",
   "execution_count": null,
   "id": "e30748e4",
   "metadata": {},
   "outputs": [],
   "source": []
  }
 ],
 "metadata": {
  "kernelspec": {
   "display_name": "anaconda-2024.02-py310",
   "language": "python",
   "name": "conda-env-anaconda-2024.02-py310-py"
  },
  "language_info": {
   "codemirror_mode": {
    "name": "ipython",
    "version": 3
   },
   "file_extension": ".py",
   "mimetype": "text/x-python",
   "name": "python",
   "nbconvert_exporter": "python",
   "pygments_lexer": "ipython3",
   "version": "3.10.14"
  }
 },
 "nbformat": 4,
 "nbformat_minor": 5
}
