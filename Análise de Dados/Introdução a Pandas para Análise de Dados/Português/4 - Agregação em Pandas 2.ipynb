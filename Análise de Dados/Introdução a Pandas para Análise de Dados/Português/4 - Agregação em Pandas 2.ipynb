{
 "cells": [
  {
   "cell_type": "markdown",
   "id": "a2e1c17b",
   "metadata": {},
   "source": [
    "# Introdução aos Pandas"
   ]
  },
  {
   "cell_type": "markdown",
   "id": "ea3d66f5",
   "metadata": {},
   "source": [
    "## Módulo 4: Agregação (continuação)\n",
    "- Usando `.groupby` e métodos de agregação\n",
    "- Compreendendo o objeto `.groupby`\n",
    "- Apresentando o método `.agg`\n",
    "- Especificando a saída da coluna\n",
    "- Agrupando por múltiplas colunas"
   ]
  },
  {
   "cell_type": "code",
   "execution_count": null,
   "id": "3bdcb74b",
   "metadata": {},
   "outputs": [],
   "source": [
    "# Importe pandas\n",
    "import pandas as pd\n",
    "\n",
    "# Leia nossos dados\n",
    "df = pd.read_csv(\"https://static.anaconda.cloud/shared/lms/data_analysis/Intro_to_pandas_data_analysis/assets/tips.csv\", storage_options = {'User-Agent': 'Mozilla/5.0'})\n",
    "df.head()"
   ]
  },
  {
   "cell_type": "code",
   "execution_count": null,
   "id": "689a69c4",
   "metadata": {},
   "outputs": [],
   "source": [
    "# Já trabalhamos com algumas funções de agregação\n",
    "df.total_bill.median()"
   ]
  },
  {
   "cell_type": "code",
   "execution_count": null,
   "id": "c2367789",
   "metadata": {},
   "outputs": [],
   "source": [
    "# Funções de agregação são executadas em colunas ou quadros de dados inteiros\n",
    "df.mean(numeric_only=True)"
   ]
  },
  {
   "cell_type": "code",
   "execution_count": null,
   "id": "b2d7b8c3",
   "metadata": {},
   "outputs": [],
   "source": [
    "df.tip.min(), df.tip.max()"
   ]
  },
  {
   "cell_type": "code",
   "execution_count": null,
   "id": "4f1f19e2",
   "metadata": {},
   "outputs": [],
   "source": [
    "# .describe também é uma função agregada, pois hospeda várias funções agregadas\n",
    "df.tip.describe()"
   ]
  },
  {
   "cell_type": "markdown",
   "id": "f485e28f",
   "metadata": {},
   "source": [
    "Mas o que fazemos quando precisamos de resultados agregados para cada valor em uma coluna categórica?"
   ]
  },
  {
   "cell_type": "code",
   "execution_count": null,
   "id": "f984ab6e",
   "metadata": {},
   "outputs": [],
   "source": [
    "# É possível criar dataframes manualmente para cada categoria\n",
    "# Mas isso pode se tornar tedioso com muitas categorias\n",
    "# e com múltiplas colunas\n",
    "# Especialmente se quisermos executar os mesmos métodos em cada dataframe\n",
    "# etc...\n",
    "thurs = df[df.day == \"Thur\"]\n",
    "fri = df[df.day == \"Fri\"]\n",
    "sat = df[df.day == \"Sat\"]\n",
    "sun = df[df.day == \"Sun\"]\n",
    "\n",
    "# Infelizmente não temos rótulos com esse método\n",
    "thurs.total_bill.mean(), fri.total_bill.mean(), sat.total_bill.mean(), sun.total_bill.mean()"
   ]
  },
  {
   "cell_type": "code",
   "execution_count": null,
   "id": "4b8ab3a1",
   "metadata": {},
   "outputs": [],
   "source": [
    "# Calculamos a partir do objeto groupby com métodos de agregação (.mean, .median, etc...)\n",
    "# Calculamos a média da conta total para cada dia\n",
    "# O \"for each\" significa que estamos agrupando pela coluna do dia\n",
    "df.groupby(\"day\").total_bill.mean()"
   ]
  },
  {
   "cell_type": "code",
   "execution_count": null,
   "id": "865ee059",
   "metadata": {},
   "outputs": [],
   "source": [
    "# O objeto groupby é uma entidade composta, construída para acesso com funções de agregação\n",
    "df.groupby(\"day\")"
   ]
  },
  {
   "cell_type": "code",
   "execution_count": null,
   "id": "f21e8b7a",
   "metadata": {},
   "outputs": [],
   "source": [
    "# O objeto groupby não imprime resultados,\n",
    "# Por baixo dos panos, é um objeto que contém múltiplas tuplas de dataframes para cada valor categórico possível.\n",
    "# Recomenda-se evitar a decomposição de objetos groupby (esta célula serve para compartilhar contexto).\n",
    "# É para isso que servem as funções de agregação!\n",
    "a, b, c, d = df.groupby(\"day\")\n",
    "a"
   ]
  },
  {
   "cell_type": "code",
   "execution_count": null,
   "id": "27ebb7e0",
   "metadata": {},
   "outputs": [],
   "source": [
    "# Calculamos a partir do objeto groupby com métodos de agregação (.mean, .median, etc...)\n",
    "# Calculamos a média da conta total para cada dia\n",
    "# O \"for each\" significa que estamos agrupando pela coluna do dia\n",
    "df.groupby(\"day\").total_bill.mean()"
   ]
  },
  {
   "cell_type": "code",
   "execution_count": null,
   "id": "d7a58c5c",
   "metadata": {},
   "outputs": [],
   "source": [
    "# Considere o seguinte\n",
    "# Obtemos a média para cada dia, em todas as colunas numéricas\n",
    "# Observe que cada resultado do agrupamento redefine o significado de cada linha\n",
    "df.groupby(\"day\")[[\"total_bill\", \"tip\", \"size\"]].mean()"
   ]
  },
  {
   "cell_type": "code",
   "execution_count": null,
   "id": "cd94871d",
   "metadata": {},
   "outputs": [],
   "source": [
    "# Também podemos agrupar por mais de uma coluna. Isso cria um múltiplo\n",
    "# Sem especificar as colunas, veremos todas as colunas numéricas na saída\n",
    "df.groupby([\"day\", \"time\"])[[\"total_bill\", \"tip\", \"size\"]].mean()"
   ]
  },
  {
   "cell_type": "code",
   "execution_count": null,
   "id": "42fb4b76",
   "metadata": {},
   "outputs": [],
   "source": [
    "# Também podemos agrupar por mais de uma coluna. Isso cria um múltiplo\n",
    "# Podemos fornecer uma lista de colunas numéricas dentro dos colchetes que especificam colunas (formando colchetes duplos)\n",
    "df.groupby([\"day\", \"time\"])[[\"total_bill\", \"tip\"]].mean()"
   ]
  },
  {
   "cell_type": "code",
   "execution_count": null,
   "id": "a60c3d46",
   "metadata": {},
   "outputs": [],
   "source": [
    "# Se precisarmos transformar a saída do groupby em seus próprios nomes de coluna, podemos usar .reset_index\n",
    "df.groupby([\"day\", \"time\"])[[\"total_bill\", \"tip\"]].mean().reset_index()"
   ]
  },
  {
   "cell_type": "code",
   "execution_count": null,
   "id": "2bfc931f",
   "metadata": {},
   "outputs": [],
   "source": [
    "df.groupby(\"day\")[[\"total_bill\", \"tip\"]].mean()"
   ]
  },
  {
   "cell_type": "code",
   "execution_count": null,
   "id": "6abe51a7",
   "metadata": {},
   "outputs": [],
   "source": [
    "# .describe também é uma função agregada\n",
    "df.groupby(\"time\").total_bill.describe()"
   ]
  },
  {
   "cell_type": "code",
   "execution_count": null,
   "id": "be267816",
   "metadata": {},
   "outputs": [],
   "source": [
    "# Usando o método .agg para especificar múltiplos\n",
    "df.groupby(\"day\").total_bill.agg([\"mean\", \"std\"])"
   ]
  },
  {
   "cell_type": "code",
   "execution_count": null,
   "id": "a012cf17",
   "metadata": {},
   "outputs": [],
   "source": [
    "# Usando o método .agg para especificar múltiplas\n",
    "# Também podemos chamar .agg em múltiplas colunas numéricas\n",
    "df.groupby(\"day\")[[\"total_bill\", \"tip\"]].agg([\"mean\", \"std\"])"
   ]
  },
  {
   "cell_type": "code",
   "execution_count": null,
   "id": "cbad6218",
   "metadata": {},
   "outputs": [],
   "source": [
    "# Como a saída é um dataframe, podemos transpô-lo, se isso facilitar a leitura\n",
    "df.groupby(\"day\")[[\"total_bill\", \"tip\"]].agg([\"mean\", \"std\"]).T"
   ]
  },
  {
   "cell_type": "markdown",
   "id": "c30af954",
   "metadata": {},
   "source": [
    "## As formas de .groupby\n",
    "\n",
    "| exemplo específico | forma geral |\n",
    "| ---- | ---- |\n",
    "|`df.groupby(\"day\").mean()` | `df.groupby(\"coluna_categorica\").aggregate_function()`     |\n",
    "| `df.groupby(\"day\").total_bill.mean()`     | `df.groupby(\"coluna_categorica\").numeric_column.aggregate_function()`     |\n",
    "| `df.groupby(\"day\")[\"tip\"].median()`     | `df.groupby(\"categoriaA\")[\"coluna_numericaA\"].aggregate_function()`     |\n",
    "| `df.groupby(\"day\")[[\"total_bill\", \"tip\"]].min()`     | `df.groupby(\"categoriaA\")[[\"coluna_numericaA\", \"coluna_numericaB\"]].aggregate_function()`     |\n",
    "| `df.groupby([\"day\", \"time\"]).mean()`     | `df.groupby([\"categoriaA\", \"categoriaB\").aggregate_function()` |\n",
    "| `df.groupby(\"day\").agg([\"min\", \"median\", \"max\"])`    | `df.groupby(\"categoria\").agg([\"min\", \"median\", \"max\"])`     |\n",
    "| `df.groupby(\"day\")[[\"total_bill\", \"tip\"]].agg([\"min\", \"median\", \"max\"])`    | `df.groupby(\"categoria\")[[\"numericA\", \"numericB\"]].agg([\"min\", \"median\", \"max\"])`     |"
   ]
  },
  {
   "cell_type": "markdown",
   "id": "9895736f",
   "metadata": {},
   "source": [
    "## Recurso Adicional\n",
    "- https://pandas.pydata.org/docs/reference/api/pandas.DataFrame.groupby.html\n",
    "- https://pandas.pydata.org/docs/reference/api/pandas.DataFrame.agg.html\n",
    "- [Leitura adicional sobre o multiíndice sobre agrupamento por múltiplas colunas](https://pandas.pydata.org/docs/user_guide/advanced.html)"
   ]
  },
  {
   "cell_type": "markdown",
   "id": "6ad7996e",
   "metadata": {},
   "source": [
    "## Exercícios\n",
    "- Use o conjunto de dados \"mpg.csv\" para criar um dataframe chamado `mpg`\n",
    "- Agrupe por fabricante e obtenha a maior quilometragem `hwy` para cada fabricante\n",
    "- Agrupe por fabricante e obtenha a quilometragem média `hwy` e `cty`\n",
    "- Agrupe pelo número de cilindros e obtenha a cilindrada média de cada cilindro\n",
    "- Agrupe pela classe do veículo e calcule a média e o desvio padrão da quilometragem `hwy`\n",
    "- Qual classe de veículo tem o maior desvio padrão da quilometragem `hwy`?"
   ]
  },
  {
   "cell_type": "code",
   "execution_count": null,
   "id": "427b9a2d",
   "metadata": {},
   "outputs": [],
   "source": [
    "# Use `pd.read_csv(\"\", storage_options = {'User-Agent': 'Mozilla/5.0'})` e o conjunto de dados \"https://static.anaconda.cloud/shared/lms/data_analysis/Intro_to_pandas_data_analysis/assets/mpg.csv\" para criar um dataframe chamado `mpg`"
   ]
  },
  {
   "cell_type": "code",
   "execution_count": null,
   "id": "f30cea9a",
   "metadata": {},
   "outputs": [],
   "source": [
    "# Agrupar por fabricante e obter a maior quilometragem rodoviária para cada fabricante\n"
   ]
  },
  {
   "cell_type": "code",
   "execution_count": null,
   "id": "9b4f1116",
   "metadata": {},
   "outputs": [],
   "source": [
    "# Agrupar pelo fabricante e obter a quilometragem média em rodovias e cidades\n"
   ]
  },
  {
   "cell_type": "code",
   "execution_count": null,
   "id": "2471acf7",
   "metadata": {},
   "outputs": [],
   "source": [
    "# Agrupe pelo número de cilindros e obtenha o deslocamento médio de cada cilindro\n"
   ]
  },
  {
   "cell_type": "code",
   "execution_count": null,
   "id": "6719ea81",
   "metadata": {},
   "outputs": [],
   "source": [
    "# Agrupe pela classe do veículo e calcule a média e o desvio padrão da quilometragem da rodovia\n"
   ]
  },
  {
   "cell_type": "code",
   "execution_count": null,
   "id": "8340c6e5",
   "metadata": {},
   "outputs": [],
   "source": [
    "# Qual classe de veículo tem o maior desvio padrão de quilometragem em rodovias?\n"
   ]
  },
  {
   "cell_type": "code",
   "execution_count": null,
   "id": "3d20354a",
   "metadata": {},
   "outputs": [],
   "source": []
  }
 ],
 "metadata": {
  "kernelspec": {
   "display_name": "anaconda-2024.02-py310",
   "language": "python",
   "name": "conda-env-anaconda-2024.02-py310-py"
  },
  "language_info": {
   "codemirror_mode": {
    "name": "ipython",
    "version": 3
   },
   "file_extension": ".py",
   "mimetype": "text/x-python",
   "name": "python",
   "nbconvert_exporter": "python",
   "pygments_lexer": "ipython3",
   "version": "3.10.14"
  }
 },
 "nbformat": 4,
 "nbformat_minor": 5
}
