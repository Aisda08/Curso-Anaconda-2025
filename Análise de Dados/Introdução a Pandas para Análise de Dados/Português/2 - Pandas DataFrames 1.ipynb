{
 "cells": [
  {
   "cell_type": "markdown",
   "id": "3f395488",
   "metadata": {},
   "source": [
    "# Introdução aos Pandas"
   ]
  },
  {
   "cell_type": "markdown",
   "id": "2803c8da",
   "metadata": {},
   "source": [
    "## Módulo 2: Introdução aos DataFrames\n",
    "\n",
    "### Noções básicas sobre DataFrames do Pandas - Parte 1\n",
    "- Como criar DataFrames do Pandas a partir de outras coleções em Python\n",
    "- Aprendendo sobre as propriedades e informações do seu dataframe\n",
    "- Selecionando uma única coluna\n",
    "- Adicionando novas colunas a um DataFrame\n",
    "- Renomeando colunas\n",
    "- Estatísticas descritivas sobre as colunas"
   ]
  },
  {
   "cell_type": "code",
   "execution_count": null,
   "id": "30ad2d93",
   "metadata": {},
   "outputs": [],
   "source": [
    "import pandas as pd"
   ]
  },
  {
   "cell_type": "code",
   "execution_count": null,
   "id": "3f78f0c9",
   "metadata": {},
   "outputs": [],
   "source": [
    "# Criando um dataframe a partir de uma lista de dicionários\n",
    "cesta = [\n",
    "{\"item\": \"manga\", \"quantidade\": 4, \"preco\": 2.99},\n",
    "{\"item\": \"pão\", \"quantidade\": 2, \"preco\": 3.25},\n",
    "{\"item\": \"suco\", \"quantidade\": 1, \"preco\": 5.90},\n",
    "{\"item\": \"laranja\", \"quantidade\": 3, \"preco\": 2.99},\n",
    "{\"item\": \"limão\", \"quantidade\": 3, \"preco\": 0.3},\n",
    "]\n",
    "cesta"
   ]
  },
  {
   "cell_type": "code",
   "execution_count": null,
   "id": "de47a542",
   "metadata": {},
   "outputs": [],
   "source": [
    "# Com dataframes, nossas colunas são nossas variáveis ​​ou recursos\n",
    "# Cada linha representa uma observação única (geralmente)\n",
    "df = pd.DataFrame(cesta)\n",
    "df"
   ]
  },
  {
   "cell_type": "code",
   "execution_count": null,
   "id": "b1292792",
   "metadata": {},
   "outputs": [],
   "source": [
    "# Criando um dataframe a partir de um dicionário de listas\n",
    "cesta = {\n",
    "\"item\": [\"manga\", \"pão\", \"suco\", \"laranja\", \"limão\"],\n",
    "\"quantidade\": [4, 2, 1, 3, 3],\n",
    "\"preco\": [2.99, 3.25, 5.90, 2.99, 0.30]\n",
    "}\n",
    "cesta"
   ]
  },
  {
   "cell_type": "code",
   "execution_count": null,
   "id": "58735ce3",
   "metadata": {},
   "outputs": [],
   "source": [
    "pd.DataFrame(cesta)"
   ]
  },
  {
   "cell_type": "code",
   "execution_count": null,
   "id": "16868baf",
   "metadata": {},
   "outputs": [],
   "source": [
    "# Criando um dataframe a partir de uma lista de listas\n",
    "exemplo = [\n",
    "[1, 2, 3],\n",
    "[4, 5, 6],\n",
    "[7, 8, 9]\n",
    "]\n",
    "\n",
    "nomes_coluna = [\"variável_a\", \"variável_b\", \"variável_c\"]\n",
    "nomes_linha = [\"observação_1\", \"observação_2\", \"observação_3\"]\n",
    "\n",
    "pd.DataFrame(exemplo, columns=nomes_coluna, index=nomes_linha)"
   ]
  },
  {
   "cell_type": "code",
   "execution_count": null,
   "id": "3491ae56",
   "metadata": {},
   "outputs": [],
   "source": [
    "# Criando um dataframe vazio\n",
    "df = pd.DataFrame()\n",
    "\n",
    "# Adicionando colunas a um dataframe\n",
    "# Qualquer tipo de dado do tipo lista pode se tornar uma coluna\n",
    "df[\"item\"] = pd.Series([\"Manga\", \"Pão\", \"Suco\", \"Laranja\", \"Limão\"])\n",
    "df[\"quantidade\"] = [2, 2, 1, 3, 3]\n",
    "df[\"preco\"] = (2.99, 3.25, 5.90, 2.99, 0.30)\n",
    "df"
   ]
  },
  {
   "cell_type": "code",
   "execution_count": null,
   "id": "d10a4b7d",
   "metadata": {},
   "outputs": [],
   "source": [
    "# .shape retorna linhas e colunas\n",
    "df.shape"
   ]
  },
  {
   "cell_type": "code",
   "execution_count": null,
   "id": "2022035a",
   "metadata": {},
   "outputs": [],
   "source": [
    "# Retorna as linhas\n",
    "df.shape[0]"
   ]
  },
  {
   "cell_type": "code",
   "execution_count": null,
   "id": "609cdcb5",
   "metadata": {},
   "outputs": [],
   "source": [
    "# Retorna o número de colunas\n",
    "df.shape[1]"
   ]
  },
  {
   "cell_type": "code",
   "execution_count": null,
   "id": "cf2e6fcd",
   "metadata": {},
   "outputs": [],
   "source": [
    "# len retorna o número de linhas\n",
    "len(df)"
   ]
  },
  {
   "cell_type": "code",
   "execution_count": null,
   "id": "edc6c56e",
   "metadata": {},
   "outputs": [],
   "source": [
    "# tamanho retorna linhas * colunas\n",
    "df.size"
   ]
  },
  {
   "cell_type": "code",
   "execution_count": null,
   "id": "aac8d0e7",
   "metadata": {},
   "outputs": [],
   "source": [
    "# Adicionando novas colunas ao dataframe\n",
    "df[\"subtotal\"] = df[\"quantidade\"] * df[\"preco\"]\n",
    "df"
   ]
  },
  {
   "cell_type": "code",
   "execution_count": null,
   "id": "054bc713",
   "metadata": {},
   "outputs": [],
   "source": [
    "# set_index pode sobrescrever o índice padrão\n",
    "df.set_index(\"item\", inplace=True)\n",
    "df"
   ]
  },
  {
   "cell_type": "code",
   "execution_count": null,
   "id": "c599c8eb",
   "metadata": {},
   "outputs": [],
   "source": [
    "# Acessando os valores do índice\n",
    "df.index"
   ]
  },
  {
   "cell_type": "code",
   "execution_count": null,
   "id": "99349263",
   "metadata": {},
   "outputs": [],
   "source": [
    "# Também podemos sobrescrever o índice com uma série de igual comprimento\n",
    "df.index = df.index.str.lower()\n",
    "df"
   ]
  },
  {
   "cell_type": "code",
   "execution_count": null,
   "id": "76e1132c",
   "metadata": {},
   "outputs": [],
   "source": [
    "# Acessando todas as colunas\n",
    "df.columns"
   ]
  },
  {
   "cell_type": "code",
   "execution_count": null,
   "id": "2f3993ac",
   "metadata": {},
   "outputs": [],
   "source": [
    "# Outro exemplo de criação de uma nova coluna\n",
    "df[\"imposto\"] = 0.07\n",
    "df"
   ]
  },
  {
   "cell_type": "code",
   "execution_count": null,
   "id": "48831344",
   "metadata": {},
   "outputs": [],
   "source": [
    "# A coluna \"custo total\" não existe, mas esta sintaxe de colchetes a cria.\n",
    "df[\"custo total\"] = df[\"subtotal\"] + (df[\"subtotal\"] * df[\"imposto\"])\n",
    "df"
   ]
  },
  {
   "cell_type": "code",
   "execution_count": null,
   "id": "89e429b8",
   "metadata": {},
   "outputs": [],
   "source": [
    "# A sintaxe de ponto também permite chamar uma coluna existente\n",
    "# Usar a sintaxe .column só funciona se a coluna já existir, não tiver espaços e não for um método de dataframe\n",
    "df.preco"
   ]
  },
  {
   "cell_type": "code",
   "execution_count": null,
   "id": "5fc9b9b2",
   "metadata": {},
   "outputs": [],
   "source": [
    "# .dtypes gera os tipos de dados de todas as colunas no dataframe\n",
    "df.dtypes"
   ]
  },
  {
   "cell_type": "code",
   "execution_count": null,
   "id": "42a266de",
   "metadata": {},
   "outputs": [],
   "source": [
    "# .info retorna tipo de dado e contagem não nula\n",
    "df.info()"
   ]
  },
  {
   "cell_type": "code",
   "execution_count": null,
   "id": "32df1baa",
   "metadata": {},
   "outputs": [],
   "source": [
    "df.preco.describe()"
   ]
  },
  {
   "cell_type": "code",
   "execution_count": null,
   "id": "a30fc88f",
   "metadata": {},
   "outputs": [],
   "source": [
    "# Mostrar estatísticas descritivas para colunas numéricas\n",
    "df.describe()"
   ]
  },
  {
   "cell_type": "code",
   "execution_count": null,
   "id": "a68bd228",
   "metadata": {},
   "outputs": [],
   "source": [
    "# Uma coluna em um dataframe é uma série\n",
    "type(df.quantidade)"
   ]
  },
  {
   "cell_type": "code",
   "execution_count": null,
   "id": "302b7fb7",
   "metadata": {},
   "outputs": [],
   "source": [
    "# .value_counts retorna uma série\n",
    "df.quantidade.value_counts()"
   ]
  },
  {
   "cell_type": "code",
   "execution_count": null,
   "id": "32c5003b",
   "metadata": {},
   "outputs": [],
   "source": [
    "# Funções de agregação podem ser executadas em todos os valores numéricos do dataframe\n",
    "df.mean()"
   ]
  },
  {
   "cell_type": "code",
   "execution_count": null,
   "id": "a34b3597",
   "metadata": {},
   "outputs": [],
   "source": [
    "# Obter a mediana de todas as colunas numéricas\n",
    "df.median()"
   ]
  },
  {
   "cell_type": "code",
   "execution_count": null,
   "id": "9ba2daf1",
   "metadata": {},
   "outputs": [],
   "source": [
    "# Desvio padrão de todas as colunas numéricas\n",
    "df.std()"
   ]
  },
  {
   "cell_type": "code",
   "execution_count": null,
   "id": "2882d338",
   "metadata": {},
   "outputs": [],
   "source": [
    "# A sintaxe de colchetes pode ser usada para acessar nomes de colunas com espaços\n",
    "# O mesmo vale para nomes de colunas que coincidem com métodos do objeto DataFrame\n",
    "# Recomenda-se evitar nomes de colunas com espaços; remova os espaços quando encontrar\n",
    "# Também é recomendável evitar nomear colunas com o mesmo nome de métodos do DataFrame\n",
    "df[\"formato\"] = [\"redondo\", \"pão\", \"jarro\", \"redondo\", \"redondo\"]\n",
    "df"
   ]
  },
  {
   "cell_type": "code",
   "execution_count": null,
   "id": "fed7bb27",
   "metadata": {},
   "outputs": [],
   "source": [
    "# Lembre-se de que o atributo .shape mostra # linhas, # colunas\n",
    "df.formato"
   ]
  },
  {
   "cell_type": "code",
   "execution_count": null,
   "id": "966087d2",
   "metadata": {},
   "outputs": [],
   "source": [
    "# A sintaxe de colchetes retorna a coluna\n",
    "df[\"formato\"]"
   ]
  },
  {
   "cell_type": "code",
   "execution_count": null,
   "id": "e4dd538e",
   "metadata": {},
   "outputs": [],
   "source": [
    "# Nomear colunas da mesma forma que os métodos de dataframe integrados e espaços nos nomes das colunas não ajuda.\n",
    "# .rename permite renomear colunas em um dataframe usando um dicionário.\n",
    "df.rename(columns={\"formato\": \"item_formato\", \"custo total\": \"total\"}, inplace=True)\n",
    "df"
   ]
  },
  {
   "cell_type": "markdown",
   "id": "0e5976e6",
   "metadata": {},
   "source": [
    "## Exercícios\n",
    "- Atribua um dataframe chamado `items` da seguinte lista de dicionários.\n",
    "```\n",
    "items = [\n",
    "{\"item nome\": \"Cabo USB\", \"preco\": \"R$ 10,99\", \"tipo\": \"USB C para USB C\"},\n",
    "{\"item nome\": \"Cabo USB\", \"preco\": \"R$ 10,99\", \"tipo\": \"USB A para USB C\"},\n",
    "{\"item nome\": \"Pilhas\", \"preco\": \"R$ 9,99\", \"tipo\": \"AA\"},\n",
    "{\"item nome\": \"Pilhas\", \"preco\": \"R$ 8,99\", \"tipo\": \"AAA\"},\n",
    "{\"item nome\": \"Mouse\", \"preco\": \"R$ 12,99\", \"tipo\": \"USB sem fio\"},\n",
    "]\n",
    "```\n",
    "- Renomeie a coluna `item nome` para `nome_item`\n",
    "- Adicione uma coluna chamada `unidades_vendidas` a este dataframe e atribua os valores `[41, 113, 54, 35, 22]`\n",
    "- Use o que você aprendeu trabalhando com strings para converter a coluna de preço em um valor flutuante (dica: remova caracteres não numéricos antes de tentar converter o tipo de dado para um valor flutuante)\n",
    "- Crie uma nova coluna chamada `total` que contenha a coluna `preco` multiplicada pela coluna `unidades_vendidas`\n",
    "- Arredonde os valores da coluna `total` para o centavo mais próximo. (dica: pesquise ou consulte a documentação do pandas"
   ]
  },
  {
   "cell_type": "code",
   "execution_count": null,
   "id": "ced77590",
   "metadata": {},
   "outputs": [],
   "source": [
    "# Atribua um dataframe chamado `items` da seguinte lista de dicionários.\n"
   ]
  },
  {
   "cell_type": "code",
   "execution_count": null,
   "id": "c295cbbe",
   "metadata": {},
   "outputs": [],
   "source": [
    "# Renomeie a coluna de nome item para item_nome"
   ]
  },
  {
   "cell_type": "code",
   "execution_count": null,
   "id": "1cf96712",
   "metadata": {},
   "outputs": [],
   "source": [
    "# Adicione uma coluna chamada `unidades_vendidas` a este dataframe e atribua os valores `[41, 113, 54, 35, 22]`\n"
   ]
  },
  {
   "cell_type": "code",
   "execution_count": null,
   "id": "c8d2ec24",
   "metadata": {},
   "outputs": [],
   "source": [
    "# Converta a coluna de preco em um tipo de dado float\n"
   ]
  },
  {
   "cell_type": "code",
   "execution_count": null,
   "id": "fbc9017a",
   "metadata": {},
   "outputs": [],
   "source": [
    "# Crie uma nova coluna chamada `total` que contenha a coluna `preco` multiplicada pela coluna `unidades_vendidas`\n"
   ]
  },
  {
   "cell_type": "code",
   "execution_count": null,
   "id": "d0737961",
   "metadata": {},
   "outputs": [],
   "source": [
    "# Arredonde os valores da coluna `total` para o centavo mais próximo.\n"
   ]
  }
 ],
 "metadata": {
  "kernelspec": {
   "display_name": "anaconda-2024.02-py310",
   "language": "python",
   "name": "conda-env-anaconda-2024.02-py310-py"
  },
  "language_info": {
   "codemirror_mode": {
    "name": "ipython",
    "version": 3
   },
   "file_extension": ".py",
   "mimetype": "text/x-python",
   "name": "python",
   "nbconvert_exporter": "python",
   "pygments_lexer": "ipython3",
   "version": "3.9.13"
  }
 },
 "nbformat": 4,
 "nbformat_minor": 5
}
