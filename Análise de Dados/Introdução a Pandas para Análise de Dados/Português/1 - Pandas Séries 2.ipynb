{
 "cells": [
  {
   "cell_type": "markdown",
   "id": "2ffd6d5f",
   "metadata": {},
   "source": [
    "# Introdução aos Pandas"
   ]
  },
  {
   "cell_type": "markdown",
   "id": "f9521d1d",
   "metadata": {},
   "source": [
    "## Módulo 1: Introdução à série Pandas\n",
    "\n",
    "### Série Pandas Parte 2\n",
    "\n",
    "- Usando operadores de comparação para produzir séries booleanas\n",
    "- Usando indexação booleana para filtrar dados\n",
    "- Usando operações OR e AND para criar filtros compostos\n",
    "- Atribuindo subconjuntos às suas próprias variáveis\n",
    "- Operando em subconjuntos no local usando `.loc`"
   ]
  },
  {
   "cell_type": "code",
   "execution_count": null,
   "id": "adad7398",
   "metadata": {},
   "outputs": [],
   "source": [
    "import pandas as pd"
   ]
  },
  {
   "cell_type": "code",
   "execution_count": null,
   "id": "cbd7754a",
   "metadata": {},
   "outputs": [],
   "source": [
    "# O Python básico usa índices numéricos para retornar um único elemento\n",
    "ser = range(-2, 3)\n",
    "ser[0]"
   ]
  },
  {
   "cell_type": "code",
   "execution_count": null,
   "id": "e52d0ced",
   "metadata": {},
   "outputs": [],
   "source": [
    "# Vamos fazer uma série de pandas para entrar na indexação de pandas\n",
    "ser = pd.Series(ser)\n",
    "ser"
   ]
  },
  {
   "cell_type": "code",
   "execution_count": null,
   "id": "27cd7b2c",
   "metadata": {},
   "outputs": [],
   "source": [
    "# O índice correspondente para o primeiro elemento é True e os demais são False\n",
    "# Usar o índice correspondente de uma coleção booleana para filtrar é chamado de \"mascaramento booleano\"\n",
    "primeiro = [True, False, False, False, False]\n",
    "ser[primeiro]"
   ]
  },
  {
   "cell_type": "code",
   "execution_count": null,
   "id": "2d40f653",
   "metadata": {},
   "outputs": [],
   "source": [
    "# Se todos os valores booleanos forem True, retornamos a série original\n",
    "tds_true = [True, True, True, True, True]\n",
    "ser[tds_true]"
   ]
  },
  {
   "cell_type": "code",
   "execution_count": null,
   "id": "f80b344a",
   "metadata": {},
   "outputs": [],
   "source": [
    "tds_false = [False, False, False, False, False]\n",
    "ser[tds_false]"
   ]
  },
  {
   "cell_type": "code",
   "execution_count": null,
   "id": "d4c2e742",
   "metadata": {},
   "outputs": [],
   "source": [
    "# A máscara booleana está filtrando nossos resultados aqui\n",
    "primeiro_e_terceiro = [True, False, True, False, False]\n",
    "ser[primeiro_e_terceiro]"
   ]
  },
  {
   "cell_type": "code",
   "execution_count": null,
   "id": "0a0318b3",
   "metadata": {},
   "outputs": [],
   "source": [
    "# O mascaramento booleano deixa a série original intacta\n",
    "ser"
   ]
  },
  {
   "cell_type": "code",
   "execution_count": null,
   "id": "58095298",
   "metadata": {},
   "outputs": [],
   "source": [
    "# Operadores de comparação retornam uma série booleana\n",
    "# Observe que isso retorna uma série booleana\n",
    "ser == 1"
   ]
  },
  {
   "cell_type": "code",
   "execution_count": null,
   "id": "f60f7681",
   "metadata": {},
   "outputs": [],
   "source": [
    "mask = ser == 1\n",
    "ser[mask]"
   ]
  },
  {
   "cell_type": "code",
   "execution_count": null,
   "id": "7d37750c",
   "metadata": {},
   "outputs": [],
   "source": [
    "# Podemos colocar a série booleana diretamente dentro dos colchetes\n",
    "ser[ser == 1]"
   ]
  },
  {
   "cell_type": "code",
   "execution_count": null,
   "id": "7403b5bc",
   "metadata": {},
   "outputs": [],
   "source": [
    "# Usando uma série booleana entre colchetes após os resultados dos filtros de série\n",
    "negativo = ser < 0\n",
    "negativo"
   ]
  },
  {
   "cell_type": "code",
   "execution_count": null,
   "id": "a4cef135",
   "metadata": {},
   "outputs": [],
   "source": [
    "# Os valores True na série booleana habilitam os elementos correspondentes. Os valores Falsos ocultam os elementos correspondentes.\n",
    "ser[negativo]"
   ]
  },
  {
   "cell_type": "code",
   "execution_count": null,
   "id": "fd366da9",
   "metadata": {},
   "outputs": [],
   "source": [
    "# Subconjuntos são cópias dos dados\n",
    "negativos = ser[negativo]\n",
    "negativos"
   ]
  },
  {
   "cell_type": "code",
   "execution_count": null,
   "id": "2a9a35e8",
   "metadata": {},
   "outputs": [],
   "source": [
    "# Reatribuir o resultado de uma máscara booleana mantém a série original intacta\n",
    "ser"
   ]
  },
  {
   "cell_type": "code",
   "execution_count": null,
   "id": "d426e169",
   "metadata": {},
   "outputs": [],
   "source": [
    "# Um operador de comparação usado com o operador módulo para retornar uma série booleana\n",
    "impar = ser % 2 == 1\n",
    "ser[impar]"
   ]
  },
  {
   "cell_type": "code",
   "execution_count": null,
   "id": "6d695cde",
   "metadata": {},
   "outputs": [],
   "source": [
    "# Vamos trabalhar com alguns dados novos\n",
    "numeros = pd.Series(range(1, 13))\n",
    "numeros"
   ]
  },
  {
   "cell_type": "code",
   "execution_count": null,
   "id": "811bb46c",
   "metadata": {},
   "outputs": [],
   "source": [
    "# Podemos usar os operadores & e | em nossa série booleana para produzir um comportamento mais complexo.\n",
    "# Parênteses são úteis para a ordem das operações.\n",
    "numeros[(numeros == 2) | (numeros == 5)]"
   ]
  },
  {
   "cell_type": "code",
   "execution_count": null,
   "id": "32221ac9",
   "metadata": {},
   "outputs": [],
   "source": [
    "# Se todas as expressões forem avaliadas como falsas, podemos obter uma série vazia\n",
    "numeros[(numeros == 2) & (numeros == 5)]"
   ]
  },
  {
   "cell_type": "code",
   "execution_count": null,
   "id": "21c09e96",
   "metadata": {},
   "outputs": [],
   "source": [
    "# Para evitar parênteses, podemos atribuir cada série booleana separadamente.\n",
    "# O operador & é o operador AND para séries booleanas\n",
    "par = numeros % 2 == 0\n",
    "divisivel_por_3 = numeros % 3 == 0\n",
    "divisivel_por_3_ou_2 = par & divisivel_por_3\n",
    "numeros[divisivel_por_3_ou_2]"
   ]
  },
  {
   "cell_type": "code",
   "execution_count": null,
   "id": "fb18d88b",
   "metadata": {},
   "outputs": [],
   "source": [
    "# Se cada série/expressão booleana não for atribuída à sua própria variável, precisamos de parênteses para a ordem das operações.\n",
    "# Observe como, com um operador AND, ambos os booleanos devem ser verdadeiros.\n",
    "numeros[(numeros % 2 == 0) & (numeros % 5 == 0)]"
   ]
  },
  {
   "cell_type": "code",
   "execution_count": null,
   "id": "4338a2dc",
   "metadata": {},
   "outputs": [],
   "source": [
    "# Usamos o operador | para operações OR\n",
    "# Isso retorna todos os números pares ou os números divisíveis por 5\n",
    "numeros[(numeros % 2 == 0) | (numeros % 5 == 0)]"
   ]
  },
  {
   "cell_type": "code",
   "execution_count": null,
   "id": "1a71aa15",
   "metadata": {},
   "outputs": [],
   "source": [
    "# O mascaramento booleano é muito poderoso, mas e quanto à modificação de valores em uma série?\n",
    "# O método .loc usa a mesma sintaxe booleana de série\n",
    "par = numeros % 2 == 0\n",
    "\n",
    "# Para simplificar, vamos atribuir a cada número par 200\n",
    "numeros.loc[par] = 200"
   ]
  },
  {
   "cell_type": "code",
   "execution_count": null,
   "id": "830caa91",
   "metadata": {},
   "outputs": [],
   "source": [
    "numeros"
   ]
  },
  {
   "cell_type": "code",
   "execution_count": null,
   "id": "d1335a44",
   "metadata": {},
   "outputs": [],
   "source": [
    "# E se precisarmos de mais reatribuição dinâmica?\n",
    "numeros = pd.Series(range(1, 13))\n",
    "\n",
    "# A sintaxe abreviada seria numeros.loc[par] *= 2\n",
    "numeros.loc[par] = numeros.loc[par] * 2\n",
    "numeros"
   ]
  },
  {
   "cell_type": "markdown",
   "id": "c695f8d6",
   "metadata": {},
   "source": [
    "## Leitura Adicional\n",
    "- https://pandas.pydata.org/docs/user_guide/indexing.html\n",
    "- https://pandas.pydata.org/docs/reference/api/pandas.DataFrame.loc.html"
   ]
  },
  {
   "cell_type": "markdown",
   "id": "3bf23100",
   "metadata": {},
   "source": [
    "## Exercício\n",
    "- Crie uma série com os seguintes valores `[-4, -3, -2, -1, 0, 1, 2, 3, 4]` e armazene-a em uma variável chamada `ser`\n",
    "- Escreva o código para filtrar apenas o número 2\n",
    "- Escreva o código para filtrar os números 2 ou 4.\n",
    "- Crie uma variável chamada `positivo` que será a série booleana, independentemente de o valor `ser` correspondente ser positivo ou não. Agora crie uma nova variável chamada `positivos` e use-a para armazenar apenas os números positivos.\n",
    "- Siga os passos acima para criar uma série booleana chamada `par` e atribua uma nova variável chamada `pares` que contenha apenas os números pares.\n",
    "- Use o que você aprendeu para produzir uma nova série booleana chamada `par_e_positivo` e atribuir os valores booleanos. Use sua nova série booleana para criar uma nova variável chamada `pares_positivos` que contenha apenas os números pares e positivos.\n",
    "- Siga o padrão acima para produzir uma nova série booleana chamada `par_ou_positivo` e atribua os valores booleanos apropriados usando | para operações OU. Use sua nova série booleana para criar uma nova variável chamada `pares_ou_positivos` que contém apenas os números pares e positivos.\n",
    "- Use o método `.loc` para reatribuir todos os números pares e positivos ao número zero.\n",
    "- Use o método `.loc` e a sintaxe de reatribuição para multiplicar todos os números negativos por 20, no local."
   ]
  },
  {
   "cell_type": "code",
   "execution_count": null,
   "id": "e53659ac",
   "metadata": {},
   "outputs": [],
   "source": [
    "# Faça uma série de [-4, -3, -2, -1, 0, 1, 2, 3, 4]\n"
   ]
  },
  {
   "cell_type": "code",
   "execution_count": null,
   "id": "b319ee36",
   "metadata": {},
   "outputs": [],
   "source": [
    "# Escreva o código para filtrar apenas o número 2\n"
   ]
  },
  {
   "cell_type": "code",
   "execution_count": null,
   "id": "c4e7f785",
   "metadata": {},
   "outputs": [],
   "source": [
    "# Escreva o código para filtrar o número 2 ou 4.\n"
   ]
  },
  {
   "cell_type": "code",
   "execution_count": null,
   "id": "d181e74d",
   "metadata": {},
   "outputs": [],
   "source": [
    "# Crie uma variável chamada `positivo` que será a série booleana, independentemente de o valor `ser` correspondente ser positivo ou não. Agora crie uma nova variável chamada `positivos` e use-a para armazenar apenas os números positivos."
   ]
  },
  {
   "cell_type": "code",
   "execution_count": null,
   "id": "f04e8de2",
   "metadata": {},
   "outputs": [],
   "source": [
    "# Siga os passos acima para criar uma série booleana chamada `par` e atribua uma nova variável chamada `pares` que contenha apenas os números pares.\n"
   ]
  },
  {
   "cell_type": "code",
   "execution_count": null,
   "id": "7759204f",
   "metadata": {},
   "outputs": [],
   "source": [
    "# Use o que você aprendeu para produzir uma nova série booleana chamada `par_e_positivo` e atribuir os valores booleanos. Use sua nova série booleana para criar uma nova variável chamada `pares_positivos` que contenha apenas os números pares e positivos.\n",
    "par_e_positivo = par & positivo\n",
    "pares_positivos = ser[par_e_positivo]\n",
    "pares_positivos"
   ]
  },
  {
   "cell_type": "code",
   "execution_count": null,
   "id": "47871072",
   "metadata": {},
   "outputs": [],
   "source": [
    "# Siga o padrão acima para produzir uma nova série booleana chamada `par_ou_positivo` e atribua os valores booleanos apropriados usando | para operações OU. Use sua nova série booleana para criar uma nova variável chamada `pares_ou_positivos` que contém apenas os números pares e positivos.\n"
   ]
  },
  {
   "cell_type": "code",
   "execution_count": null,
   "id": "1cf0cc49",
   "metadata": {},
   "outputs": [],
   "source": [
    "# Use o método `.loc` para reatribuir todos os números pares e positivos como o número zero.\n"
   ]
  },
  {
   "cell_type": "code",
   "execution_count": null,
   "id": "69c84ba2",
   "metadata": {},
   "outputs": [],
   "source": [
    "# Use o método `.loc` e a sintaxe de reatribuição para multiplicar cada número negativo por 20, no local."
   ]
  },
  {
   "cell_type": "code",
   "execution_count": null,
   "id": "b22afa32",
   "metadata": {},
   "outputs": [],
   "source": []
  }
 ],
 "metadata": {
  "kernelspec": {
   "display_name": "anaconda-2024.02-py310",
   "language": "python",
   "name": "conda-env-anaconda-2024.02-py310-py"
  },
  "language_info": {
   "codemirror_mode": {
    "name": "ipython",
    "version": 3
   },
   "file_extension": ".py",
   "mimetype": "text/x-python",
   "name": "python",
   "nbconvert_exporter": "python",
   "pygments_lexer": "ipython3",
   "version": "3.10.14"
  }
 },
 "nbformat": 4,
 "nbformat_minor": 5
}
