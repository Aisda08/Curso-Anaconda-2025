{
 "cells": [
  {
   "cell_type": "markdown",
   "id": "e848ce0e",
   "metadata": {},
   "source": [
    "# Introdução aos Pandas"
   ]
  },
  {
   "cell_type": "markdown",
   "id": "25142685",
   "metadata": {},
   "source": [
    "## Módulo 4: Agregação\n",
    "- Usando `.crosstab` para contabilizar a frequência de cada par de categorias\n",
    "- Usando `.pivot_table` para calcular agregados de valores numéricos para cada par de categorias (o mesmo que uma tabela dinâmica de planilha)"
   ]
  },
  {
   "cell_type": "code",
   "execution_count": null,
   "id": "429bef4e",
   "metadata": {},
   "outputs": [],
   "source": [
    "# Importe pandas\n",
    "import pandas as pd\n",
    "\n",
    "# Leia alguns dados\n",
    "df = pd.read_csv(\"https://static.anaconda.cloud/shared/lms/data_analysis/Intro_to_pandas_data_analysis/assets/tips.csv\", storage_options = {'User-Agent': 'Mozilla/5.0'})\n",
    "df.head()"
   ]
  },
  {
   "cell_type": "markdown",
   "id": "3c776aa1",
   "metadata": {},
   "source": [
    "### O que é `.crosstab?`\n",
    "- A tabela de tabulação cruzada calcula uma tabulação cruzada simples de dois (ou mais) fatores\n",
    "- Calcula uma tabela de frequência de fatores\n",
    "- Exemplo: contar quantas mesas almoçaram ou jantaram em cada dia?\n",
    "- Exemplo: contar o número de mesas de fumantes, discriminadas por gênero?"
   ]
  },
  {
   "cell_type": "code",
   "execution_count": null,
   "id": "28b7a6a0",
   "metadata": {},
   "outputs": [],
   "source": [
    "# Digamos que precisamos obter todos os dias diferentes\n",
    "df.day.unique()"
   ]
  },
  {
   "cell_type": "code",
   "execution_count": null,
   "id": "b54e55f0",
   "metadata": {},
   "outputs": [],
   "source": [
    "# E todos os momentos diferentes\n",
    "df.time.unique()"
   ]
  },
  {
   "cell_type": "code",
   "execution_count": null,
   "id": "336b12e2",
   "metadata": {},
   "outputs": [],
   "source": [
    "# Para contar o Thursday Lunch, precisamos desta operação de indexação composta\n",
    "df[(df.day == \"Thur\") & (df.time == \"Lunch\")].shape[0]"
   ]
  },
  {
   "cell_type": "code",
   "execution_count": null,
   "id": "b9fe507b",
   "metadata": {},
   "outputs": [],
   "source": [
    "# Para contar o Thrusday Dinner, precisamos desta operação de indexação composta\n",
    "# Repita isso para cada combinação de dia/horário...\n",
    "df[(df.day == \"Thur\") & (df.time == \"Dinner\")].shape[0]"
   ]
  },
  {
   "cell_type": "code",
   "execution_count": null,
   "id": "29fed9fd",
   "metadata": {},
   "outputs": [],
   "source": [
    "# Para outra abordagem,\n",
    "# poderíamos executar .time.value_counts() em cada dia individual\n",
    "# Mas isso também seria tedioso\n",
    "# Especialmente se os valores possíveis forem numerosos\n",
    "df[df.day == \"Thur\"].time.value_counts()"
   ]
  },
  {
   "cell_type": "code",
   "execution_count": null,
   "id": "9f936499",
   "metadata": {},
   "outputs": [],
   "source": [
    "# Crosstab para o resgate!\n",
    "# Contagem de frequência de todos os dias em todos os horários\n",
    "pd.crosstab(index=df.day, columns=df.time)"
   ]
  },
  {
   "cell_type": "code",
   "execution_count": null,
   "id": "46d95ec1",
   "metadata": {},
   "outputs": [],
   "source": [
    "# Margins=True mostra os totais de linha/coluna\n",
    "pd.crosstab(index=df.day, columns=df.time, margins=True)"
   ]
  },
  {
   "cell_type": "code",
   "execution_count": null,
   "id": "d1ddeaca",
   "metadata": {},
   "outputs": [],
   "source": [
    "# Normalize=True mostra porcentagens em vez de contagens brutas\n",
    "pd.crosstab(index=df.day, columns=df.time, margins=True, normalize=True).round(2)"
   ]
  },
  {
   "cell_type": "code",
   "execution_count": null,
   "id": "86350e9d",
   "metadata": {},
   "outputs": [],
   "source": [
    "# Também podemos passar listas de séries para índices ou colunas\n",
    "pd.crosstab(index=df.day, columns=[df.time, df.smoker])"
   ]
  },
  {
   "cell_type": "markdown",
   "id": "bc8136d4",
   "metadata": {},
   "source": [
    "## Usando tabelas dinâmicas para agregar mais do que conta\n",
    "- Use `.pivot_table` para configurar pares de categorias e, em seguida, especifique a coluna a ser medida, em agregado, e sua(s) função(ões) de agregação.\n",
    "- O método `.pivot_table` usa a média por padrão.\n",
    "- Podemos especificar várias categorias no índice e nas colunas, mas os resultados podem ficar visualmente confusos.\n",
    "- Exemplo: para cada par dia/horário, calcule a média `total_bill`\n",
    "- Exemplo: para cada par dia/horário, obtenha a média `total_bill` e `tip`\n",
    "- Exemplo: para cada par dia/horário, calcule a `tip` mínima, mediana e máxima."
   ]
  },
  {
   "cell_type": "code",
   "execution_count": null,
   "id": "52b0b479",
   "metadata": {},
   "outputs": [],
   "source": [
    "# Sem especificar uma coluna \"valores\",\n",
    "# pivot_table retorna a média numérica de colunas numéricas, divididas por par de categorias\n",
    "pd.pivot_table(df, index=\"day\", columns=\"time\")"
   ]
  },
  {
   "cell_type": "code",
   "execution_count": null,
   "id": "f7e5cb81",
   "metadata": {},
   "outputs": [],
   "source": [
    "# Use o argumento de valores para especificar coluna(s) numérica(s)\n",
    "pd.pivot_table(df, index=\"day\", columns=\"time\", values=\"total_bill\")"
   ]
  },
  {
   "cell_type": "code",
   "execution_count": null,
   "id": "a4735540",
   "metadata": {},
   "outputs": [],
   "source": [
    "# Use o argumento \"values\" para especificar quais colunas calcular\n",
    "pd.pivot_table(df, index=\"day\", columns=\"time\", values=[\"total_bill\", \"tip\"])"
   ]
  },
  {
   "cell_type": "code",
   "execution_count": null,
   "id": "7f4c44f4",
   "metadata": {},
   "outputs": [],
   "source": [
    "# Use o argumento aggfunc para substituir a função média padrão\n",
    "pd.pivot_table(df, values=\"tip\", aggfunc=\"median\", index=\"day\", columns=\"time\")"
   ]
  },
  {
   "cell_type": "code",
   "execution_count": null,
   "id": "7b153e3e",
   "metadata": {},
   "outputs": [],
   "source": [
    "# O argumento aggfunc pode receber uma lista de funções agregadas\n",
    "pd.pivot_table(df, values=\"tip\", aggfunc=[\"min\", \"median\", \"max\"], index=\"day\", columns=\"time\")"
   ]
  },
  {
   "cell_type": "markdown",
   "id": "3baa00b1",
   "metadata": {},
   "source": [
    "## Recursos adicionais\n",
    "- https://pandas.pydata.org/docs/reference/api/pandas.crosstab.html\n",
    "- https://pandas.pydata.org/docs/reference/api/pandas.pivot_table.html"
   ]
  },
  {
   "attachments": {},
   "cell_type": "markdown",
   "id": "ae54a7bf",
   "metadata": {},
   "source": [
    "## Exercícios\n",
    "- Use a tabela de referência cruzada no dataframe `tips` para contar o número de tabelas de tamanhos diferentes para cada hora do dia. *Dica*: lembre-se de que `.size` é um atributo integrado aos objetos do Pandas.\n",
    "- Use `df = pd.read_csv(\"\", storage_options = {'User-Agent': 'Mozilla/5.0'})` e o arquivo `https://static.anaconda.cloud/shared/lms/data_analysis/Intro_to_pandas_data_analysis/assets/mpg.csv` para criar um dataframe chamado `mpg`.\n",
    "- Use `.crosstab` para contar o número de veículos para cada combinação de classe e sistema de transmissão. *Dica*: lembre-se de que `class` é uma palavra reservada em Python.\n",
    "- Use `.crosstab` para contar o número de veículos para cada combinação de fabricante e sistema de transmissão.\n",
    "- Use `.pivot_table` e `mpg` para calcular a quilometragem média na rodovia para cada combinação de classe de veículo e sistema de transmissão.\n",
    "- Use `.pivot_table` e `mpg` para calcular a quilometragem média na cidade para cada combinação de fabricante e sistema de transmissão."
   ]
  },
  {
   "cell_type": "code",
   "execution_count": null,
   "id": "6c56a1aa",
   "metadata": {},
   "outputs": [],
   "source": [
    "# Use a tabulação cruzada no dataframe de dicas para contar o número de tabelas de tamanhos diferentes para cada hora do dia.\n",
    "# Dica: lembre-se de que .size é um atributo integrado aos objetos pandas.\n"
   ]
  },
  {
   "cell_type": "code",
   "execution_count": null,
   "id": "ca684b88",
   "metadata": {},
   "outputs": [],
   "source": [
    "# Use `pd.read_csv(\"\", storage_options = {'User-Agent': 'Mozilla/5.0'})` e o arquivo `https://static.anaconda.cloud/shared/lms/data_analysis/Intro_to_pandas_data_analysis/assets/mpg.csv` para criar um dataframe chamado `mpg`.\n"
   ]
  },
  {
   "cell_type": "code",
   "execution_count": null,
   "id": "77593616",
   "metadata": {},
   "outputs": [],
   "source": [
    "# Use .crosstab para contar o número de veículos para cada combinação de classe e sistema de transmissão.\n",
    "# Dica: lembre-se de que \"classe\" é uma palavra reservada em Python.\n"
   ]
  },
  {
   "cell_type": "code",
   "execution_count": null,
   "id": "2b49051b",
   "metadata": {},
   "outputs": [],
   "source": [
    "# Use .crosstab para contar o número de veículos para cada combinação de fabricante e transmissão.\n"
   ]
  },
  {
   "cell_type": "code",
   "execution_count": null,
   "id": "280056ff",
   "metadata": {},
   "outputs": [],
   "source": [
    "# Use .pivot_table e mpg para calcular a quilometragem média na rodovia para cada combinação de classe de veículo e transmissão.\n"
   ]
  },
  {
   "cell_type": "code",
   "execution_count": null,
   "id": "d7982176",
   "metadata": {},
   "outputs": [],
   "source": [
    "# Use .pivot_table e mpg para calcular a quilometragem média na cidade para cada combinação de fabricante e transmissão.\n"
   ]
  },
  {
   "cell_type": "code",
   "execution_count": null,
   "id": "f7117c4e",
   "metadata": {},
   "outputs": [],
   "source": []
  }
 ],
 "metadata": {
  "kernelspec": {
   "display_name": "anaconda-2024.02-py310",
   "language": "python",
   "name": "conda-env-anaconda-2024.02-py310-py"
  },
  "language_info": {
   "codemirror_mode": {
    "name": "ipython",
    "version": 3
   },
   "file_extension": ".py",
   "mimetype": "text/x-python",
   "name": "python",
   "nbconvert_exporter": "python",
   "pygments_lexer": "ipython3",
   "version": "3.10.14"
  }
 },
 "nbformat": 4,
 "nbformat_minor": 5
}
