{
 "cells": [
  {
   "cell_type": "markdown",
   "id": "5d246029",
   "metadata": {
    "slideshow": {
     "slide_type": "slide"
    }
   },
   "source": [
    "# Técnicas de Previsão de Séries Temporais"
   ]
  },
  {
   "cell_type": "markdown",
   "id": "6f7b9399-5e6b-4c85-a326-d630e9075f2b",
   "metadata": {
    "slideshow": {
     "slide_type": "subslide"
    },
    "tags": []
   },
   "source": [
    "Imagine que você seja solicitado a analisar dados climáticos. Seu empregador pediu que você criasse um modelo para prever a temperatura de amanhã.\n",
    "\n",
    "* O que teria maior poder explicativo sobre o clima de amanhã?\n",
    "    - Hoje?"
   ]
  },
  {
   "cell_type": "code",
   "execution_count": null,
   "id": "3b5694fb",
   "metadata": {
    "slideshow": {
     "slide_type": "slide"
    },
    "tags": []
   },
   "outputs": [],
   "source": [
    "import pandas as pd\n",
    "import statsmodels.api as sm\n",
    "\n",
    "# Carrega o conjunto de dados Vega\n",
    "df = pd.read_csv(\"https://raw.githubusercontent.com/stanfordnlp/plot-interface/master/public/data/sf-temps.csv\")\n",
    "\n",
    "# Define a data como índice\n",
    "df['date'] = pd.to_datetime(df['date'])\n",
    "df.set_index('date', inplace=True)\n",
    "\n",
    "\n",
    "# Calcula a temperatura média mensal\n",
    "monthly_avg_temp = df.resample('M').mean()\n",
    "monthly_avg_temp = monthly_avg_temp.diff()\n",
    "monthly_avg_temp = monthly_avg_temp.dropna()\n",
    "# Exibe as primeiras linhas da temperatura média mensal\n",
    "monthly_avg_temp.plot()\n",
    "\n",
    "\n",
    "df = monthly_avg_temp"
   ]
  },
  {
   "cell_type": "code",
   "execution_count": null,
   "id": "a43018d3-e54b-421a-89be-9b8d5a12629d",
   "metadata": {
    "slideshow": {
     "slide_type": "slide"
    },
    "tags": []
   },
   "outputs": [],
   "source": [
    "from statsmodels.tsa.ar_model import AutoReg\n",
    "\n",
    "# Garante que os dados sejam apropriados para a modelagem\n",
    "df['temp'] = df['temp'].dropna()  # Remove quaisquer valores ausentes\n",
    "\n",
    "# Ajusta um Modelo Autorregressivo (modelo AR)\n",
    "ar_model = AutoReg(df['temp'], lags=3)\n",
    "ar_result = ar_model.fit()\n",
    "\n",
    "print(ar_result.summary())"
   ]
  },
  {
   "cell_type": "markdown",
   "id": "0228d6bd-e3e5-4f88-a08f-bda1f5a946c4",
   "metadata": {
    "slideshow": {
     "slide_type": "slide"
    },
    "tags": []
   },
   "source": [
    "# Modelos Autorregressivos (AR)\n",
    "\n",
    "## O que é um Modelo AR?\n",
    "- Um **modelo autorregressivo (AR)** é um tipo de modelo estatístico usado para previsão em dados de séries temporais.\n",
    "- Ele prevê o comportamento futuro com base no comportamento passado.\n",
    "- O modelo é denominado \"autoregressivo\" porque regride a variável em relação a si mesma.\n",
    "\n",
    "## Formulação de um Modelo AR\n",
    "- O modelo AR é definido como:\n",
    "\n",
    "$\n",
    "Y_t = c + x_1 Y_{t-1} + x_2 Y_{t-2} + ... + x_p Y_{t-p} + \\epsilon_t$\n",
    "\n",
    "onde,\n",
    "- $Y_t$ é o valor no instante \\( t \\),\n",
    "- $c$ é uma constante,\n",
    "- $x_1, x_2, ..., x_p$ são os parâmetros do modelo,\n",
    "- $p$ é a ordem do modelo AR,\n",
    "- $\\epsilon_t$ é o ruído branco."
   ]
  },
  {
   "cell_type": "markdown",
   "id": "a3e7e065",
   "metadata": {
    "slideshow": {
     "slide_type": "slide"
    }
   },
   "source": [
    "## Médias Móveis"
   ]
  },
  {
   "cell_type": "markdown",
   "id": "d5d63d62-4287-4e3f-8054-60c6528da19f",
   "metadata": {
    "slideshow": {
     "slide_type": "subslide"
    },
    "tags": []
   },
   "source": [
    "Agora imagine que você está tentando entender o tempo e prever como estará amanhã. Uma maneira de fazer isso é observar como o tempo mudou nos últimos dias. O modelo de Média Móvel (MM) faz algo semelhante com os dados.\n",
    "\n",
    "Em um modelo de MM, em vez de olhar diretamente para os dados em si (como a temperatura diária), observamos os \"erros\" cometidos em previsões anteriores. \"Erro\" aqui significa o quanto erramos em nossas previsões anteriores. Por exemplo, se previmos que a temperatura de ontem seria de 21°C, mas na verdade foi de 22°C, o erro é de 0°C.\n",
    "\n",
    "O modelo de MM diz que a melhor previsão para a temperatura de hoje é uma combinação desses erros passados. Então, é como dizer: \"Sei que errei alguns graus nos últimos dias, deixe-me usar essa informação para fazer uma estimativa melhor hoje.\""
   ]
  },
  {
   "cell_type": "code",
   "execution_count": null,
   "id": "6f63f9e3",
   "metadata": {
    "slideshow": {
     "slide_type": "slide"
    },
    "tags": []
   },
   "outputs": [],
   "source": [
    "### O modelo MA em ação\n",
    "\n",
    "ma_model = sm.tsa.ARIMA(df['temp'], order=(0, 0, 1))\n",
    "ma_result = ma_model.fit()\n",
    "\n",
    "# Exibe o resumo do modelo MA\n",
    "print(ma_result.summary())"
   ]
  },
  {
   "cell_type": "markdown",
   "id": "d7d94f7a-432c-4e02-b206-0f586d8f0205",
   "metadata": {
    "slideshow": {
     "slide_type": "slide"
    },
    "tags": []
   },
   "source": [
    "# Modelos de Média Móvel (MM)\n",
    "\n",
    "## O que é um Modelo de MM?\n",
    "\n",
    "- Um **modelo de Média Móvel (MM)** é uma abordagem estatística usada para prever dados de séries temporais.\n",
    "- Ele prevê valores futuros com base nos erros (diferenças entre os valores reais e previstos) de previsões passadas.\n",
    "\n",
    "## Como funciona?\n",
    "- Em vez de usar valores passados ​​da série diretamente, o modelo de MM utiliza os erros de previsão passados.\n",
    "- Um erro de previsão é a diferença entre o valor real e o valor previsto em um ponto no tempo anterior.\n",
    "\n",
    "## Formulação do Modelo\n",
    "- O modelo de MA é definido como:\n",
    "\n",
    "$Y_t = \\mu + ε_t + θ_1 ε_{t-1} + θ_2 ε_{t-2} + ... + θ_q ε_{t-q}$\n",
    "\n",
    "onde,\n",
    "- $Y_t$ é o valor no instante $t$,\n",
    "- $\\mu$ é a média da série,\n",
    "- $ε_t$ é o erro de previsão no instante `t`,\n",
    "- $θ_1, θ_2, ..., θ_q$ são os parâmetros do modelo,\n",
    "- $q$ é a ordem do modelo de MA."
   ]
  },
  {
   "cell_type": "code",
   "execution_count": null,
   "id": "7720b147-7dc8-4439-a2b1-fe172bc44ab1",
   "metadata": {},
   "outputs": [],
   "source": [
    "# Carrega o conjunto de dados Vega\n",
    "df = pd.read_csv(\"https://raw.githubusercontent.com/stanfordnlp/plot-interface/master/public/data/co2-concentration.csv\")\n",
    "\n",
    "# Definir a data como índice\n",
    "df['Date'] = pd.to_datetime(df['Date'])\n",
    "df.set_index('Date', inplace=True)\n",
    "\n",
    "# Calcular a temperatura média mensal\n",
    "monthly_avg_co = df.resample('M').mean()\n",
    "\n",
    "# Exibir as primeiras linhas da temperatura média mensal\n",
    "monthly_avg_co = monthly_avg_co.diff()\n"
   ]
  },
  {
   "cell_type": "code",
   "execution_count": null,
   "id": "e0a8a88e-ef84-4e65-a46f-144796ec4ed5",
   "metadata": {},
   "outputs": [],
   "source": [
    "monthly_avg_co.plot()"
   ]
  },
  {
   "cell_type": "code",
   "execution_count": null,
   "id": "f9526b2e-3df8-4ff4-875c-a6bc5dff779a",
   "metadata": {},
   "outputs": [],
   "source": [
    "### O modelo MA em ação\n",
    "\n",
    "ma_model = sm.tsa.ARIMA(monthly_avg_co['CO2'], order=(1, 0, 1))\n",
    "ma_result = ma_model.fit()\n",
    "\n",
    "# Exibe o resumo do modelo MA\n",
    "print(ma_result.summary())"
   ]
  },
  {
   "cell_type": "code",
   "execution_count": null,
   "id": "3032f85e-6ef2-443d-bc89-b15c68e0e6fb",
   "metadata": {},
   "outputs": [],
   "source": [
    "### O modelo MA em ação\n",
    "\n",
    "ma_model = sm.tsa.ARIMA(monthly_avg_co['CO2'], order=(2, 0, 1))\n",
    "ma_result = ma_model.fit()\n",
    "\n",
    "# Exibe o resumo do modelo MA\n",
    "print(ma_result.summary())"
   ]
  },
  {
   "cell_type": "markdown",
   "id": "b5ed653f-f038-4fcb-9992-d6aaad5a94c1",
   "metadata": {},
   "source": [
    "## Modelos de Média Móvel Integrada Autorregressiva (ARIMA)\n",
    "\n",
    "Agora podemos falar sobre os dois modelos e combiná-los. Ou seja, podemos modelar tanto o termo de erro quanto a média móvel."
   ]
  },
  {
   "cell_type": "code",
   "execution_count": null,
   "id": "40614097-5a3f-4b19-a963-6125dba3fd67",
   "metadata": {},
   "outputs": [],
   "source": [
    "import pandas as pd\n",
    "\n",
    "# Carrega o conjunto de dados Vega\n",
    "df = pd.read_csv(\"https://raw.githubusercontent.com/stanfordnlp/plot-interface/master/public/data/co2-concentration.csv\")\n",
    "\n",
    "# Definir a data como índice\n",
    "df['Date'] = pd.to_datetime(df['Date'])\n",
    "df.set_index('Date', inplace=True)\n",
    "\n",
    "# Calcula a temperatura média mensal\n",
    "monthly_avg_co = df.resample('M').mean()\n",
    "\n",
    "# Exibe as primeiras linhas da temperatura média mensal\n",
    "monthly_avg_co = monthly_avg_co.diff()\n"
   ]
  },
  {
   "cell_type": "code",
   "execution_count": null,
   "id": "2fa0298b-a332-4365-86ee-598079288ced",
   "metadata": {},
   "outputs": [],
   "source": [
    "import statsmodels.api as sm\n",
    "\n",
    "\n",
    "ma_model = sm.tsa.ARIMA(monthly_avg_co['CO2'], order=(1, 0, 1))\n",
    "ma_result = ma_model.fit()\n",
    "\n",
    "# Exibe o resumo do modelo MA\n",
    "print(ma_result.summary())"
   ]
  },
  {
   "cell_type": "markdown",
   "id": "2d7d2782-9222-42d0-90d3-935c82554044",
   "metadata": {},
   "source": [
    "# ARIMA Sazonal (SARIMA)"
   ]
  },
  {
   "cell_type": "code",
   "execution_count": null,
   "id": "1cbbfd8b-2c91-4352-bcd1-e21f414107c1",
   "metadata": {},
   "outputs": [],
   "source": [
    "import pandas as pd\n",
    "import statsmodels.api as sm\n",
    "\n",
    "# Carrega o conjunto de dados Vega\n",
    "df = pd.read_csv(\"https://raw.githubusercontent.com/stanfordnlp/plot-interface/master/public/data/co2-concentration.csv\")\n",
    "\n",
    "# Define a data como índice e converter para data e hora\n",
    "df['Date'] = pd.to_datetime(df['Date'])\n",
    "df.set_index('Date', inplace=True)\n",
    "\n",
    "# Reamostra para média mensal e calcula a primeira diferença para torná-la estacionária\n",
    "monthly_avg_co = df.resample('M').mean()\n",
    "monthly_avg_co_diff = monthly_avg_co.diff().dropna()"
   ]
  },
  {
   "cell_type": "code",
   "execution_count": null,
   "id": "f7982102-444d-4a2e-b383-b1004467582a",
   "metadata": {},
   "outputs": [],
   "source": [
    "df.plot()"
   ]
  },
  {
   "cell_type": "code",
   "execution_count": null,
   "id": "386bd6b6-1ef4-4754-a4d5-1f6669c8d4c4",
   "metadata": {},
   "outputs": [],
   "source": [
    "\n",
    "# Defina o modelo SARIMA - ajuste os parâmetros p, d, q e seasonal_order conforme necessário\n",
    "# Parâmetros de exemplo: p=1, d=1, q=1 para a parte não sazonal;\n",
    "# P=1, D=1, Q=1, s=12 para a parte sazonal (assumindo sazonalidade anual)\n",
    "model = sm.tsa.SARIMAX(monthly_avg_co_diff, \n",
    "                       order=(2, 1, 1), \n",
    "                       seasonal_order=(1, 1, 1, 12))\n",
    "\n",
    "# Ajuste o modelo\n",
    "sarima_result = model.fit()\n",
    "\n",
    "# Exiba o sumário do modelo\n",
    "print(sarima_result.summary())\n"
   ]
  },
  {
   "cell_type": "code",
   "execution_count": null,
   "id": "a5616496-9551-412d-b992-08c7c6b2e420",
   "metadata": {},
   "outputs": [],
   "source": []
  }
 ],
 "metadata": {
  "celltoolbar": "Slideshow",
  "kernelspec": {
   "display_name": "anaconda-2024.02-py310",
   "language": "python",
   "name": "conda-env-anaconda-2024.02-py310-py"
  },
  "language_info": {
   "codemirror_mode": {
    "name": "ipython",
    "version": 3
   },
   "file_extension": ".py",
   "mimetype": "text/x-python",
   "name": "python",
   "nbconvert_exporter": "python",
   "pygments_lexer": "ipython3",
   "version": "3.12.3 (main, Apr  9 2024, 08:09:14) [Clang 15.0.0 (clang-1500.3.9.4)]"
  },
  "vscode": {
   "interpreter": {
    "hash": "b0fa6594d8f4cbf19f97940f81e996739fb7646882a419484c72d19e05852a7e"
   }
  }
 },
 "nbformat": 4,
 "nbformat_minor": 5
}
