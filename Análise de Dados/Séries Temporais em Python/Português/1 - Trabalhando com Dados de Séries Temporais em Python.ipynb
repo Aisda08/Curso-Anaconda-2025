{
 "cells": [
  {
   "cell_type": "markdown",
   "id": "49ed53ce",
   "metadata": {
    "slideshow": {
     "slide_type": "slide"
    }
   },
   "source": [
    "# Trabalhando com Dados de Séries Temporais em Python"
   ]
  },
  {
   "cell_type": "markdown",
   "id": "5b382e82",
   "metadata": {
    "slideshow": {
     "slide_type": "slide"
    }
   },
   "source": [
    "## O que são Dados de Séries Temporais?"
   ]
  },
  {
   "cell_type": "code",
   "execution_count": null,
   "id": "95fb7f4f",
   "metadata": {
    "scrolled": true,
    "slideshow": {
     "slide_type": "fragment"
    }
   },
   "outputs": [],
   "source": [
    "import pandas as pd\n",
    "\n",
    "df = pd.read_csv(\"https://www.alphavantage.co/query?function=TIME_SERIES_DAILY&symbol=IBM&apikey=demo&datatype=csv\")\n",
    "\n",
    "df.head() "
   ]
  },
  {
   "cell_type": "code",
   "execution_count": null,
   "id": "a598be3b",
   "metadata": {
    "slideshow": {
     "slide_type": "subslide"
    }
   },
   "outputs": [],
   "source": [
    "df['timestamp'] = pd.to_datetime(df.timestamp)\n",
    "\n",
    "df.head()"
   ]
  },
  {
   "cell_type": "code",
   "execution_count": null,
   "id": "f1855007",
   "metadata": {
    "slideshow": {
     "slide_type": "subslide"
    }
   },
   "outputs": [],
   "source": [
    "df.index = df.timestamp\n",
    "\n",
    "print(df.head())\n",
    "\n",
    "df['close'].plot()"
   ]
  },
  {
   "cell_type": "markdown",
   "id": "aed9ed13",
   "metadata": {
    "slideshow": {
     "slide_type": "slide"
    }
   },
   "source": [
    "### Podemos fazer tudo isso de uma só vez com..."
   ]
  },
  {
   "cell_type": "code",
   "execution_count": null,
   "id": "ea838ffd",
   "metadata": {
    "slideshow": {
     "slide_type": "fragment"
    }
   },
   "outputs": [],
   "source": [
    "one_step = pd.read_csv(\"https://www.alphavantage.co/query?function=TIME_SERIES_DAILY&symbol=IBM&apikey=demo&datatype=csv\" \\\n",
    "                       , parse_dates=['timestamp'], index_col = 'timestamp')\n",
    "\n",
    "one_step.head()"
   ]
  },
  {
   "cell_type": "markdown",
   "id": "6922f5e8",
   "metadata": {
    "slideshow": {
     "slide_type": "slide"
    }
   },
   "source": [
    "# Trabalhando com Dados de Séries Temporais"
   ]
  },
  {
   "cell_type": "markdown",
   "id": "aa30a2aa",
   "metadata": {
    "slideshow": {
     "slide_type": "slide"
    }
   },
   "source": [
    "## Indexação e fatiamento baseados em tempo"
   ]
  },
  {
   "cell_type": "code",
   "execution_count": null,
   "id": "1a011318",
   "metadata": {
    "slideshow": {
     "slide_type": "subslide"
    }
   },
   "outputs": [],
   "source": [
    "# Podemos fatiar o dataframe\n",
    "\n",
    "start = df['timestamp'].iloc[10]\n",
    "stop = df['timestamp'].iloc[20]\n",
    "\n",
    "sample = df[start:stop]\n",
    "\n",
    "sample.head()"
   ]
  },
  {
   "cell_type": "code",
   "execution_count": null,
   "id": "f9134a51",
   "metadata": {
    "slideshow": {
     "slide_type": "subslide"
    }
   },
   "outputs": [],
   "source": [
    "# Podemos acessar valores de data e hora\n",
    "\n",
    "df.timestamp.dt.month"
   ]
  },
  {
   "cell_type": "markdown",
   "id": "c55154f1",
   "metadata": {
    "slideshow": {
     "slide_type": "slide"
    }
   },
   "source": [
    "## O que é Estacionariedade? Por que isso importa?"
   ]
  },
  {
   "cell_type": "markdown",
   "id": "36fb1d4e",
   "metadata": {
    "slideshow": {
     "slide_type": "slide"
    }
   },
   "source": [
    "Uma série temporal **estacionária** é aquela cujas propriedades estatísticas, como média, variância e autocorrelação, não mudam ao longo do tempo.\n",
    "\n",
    "- **Média Constante:** A média da série não deve ser uma função do tempo.\n",
    "\n",
    "- **Variância Constante:** A variância da série não deve ser uma função do tempo. Essa propriedade é conhecida como homocedasticidade.\n",
    "\n",
    "- **Covariância Constante:** A covariância do i-ésimo termo e do (i+m)-ésimo termo não deve ser uma função do tempo."
   ]
  },
  {
   "cell_type": "markdown",
   "id": "c5c0b9fd",
   "metadata": {
    "slideshow": {
     "slide_type": "slide"
    }
   },
   "source": [
    "### A história de dois conjuntos de dados"
   ]
  },
  {
   "cell_type": "code",
   "execution_count": null,
   "id": "33d3a449",
   "metadata": {
    "slideshow": {
     "slide_type": "subslide"
    }
   },
   "outputs": [],
   "source": [
    "### Dados de Frequência Cardíaca\n",
    "\n",
    "\n",
    "hr = pd.read_csv(\"https://raw.githubusercontent.com/alyssaq/python-data-science-intro/master/datasets/heart-rate-time-series.csv\", header=None)\n",
    "hr.columns = ['rate']\n",
    "\n",
    "# Plotar os dados de frequência cardíaca\n",
    "hr.plot(title='HR Data')"
   ]
  },
  {
   "cell_type": "markdown",
   "id": "961d76b1",
   "metadata": {
    "slideshow": {
     "slide_type": "slide"
    }
   },
   "source": [
    "### A história de dois conjuntos de dados"
   ]
  },
  {
   "cell_type": "code",
   "execution_count": null,
   "id": "a677b354",
   "metadata": {
    "slideshow": {
     "slide_type": "subslide"
    }
   },
   "outputs": [],
   "source": [
    "df['close'].plot(title='Stock Data')"
   ]
  },
  {
   "cell_type": "markdown",
   "id": "e177cebf",
   "metadata": {
    "slideshow": {
     "slide_type": "slide"
    }
   },
   "source": [
    "## Testes de Estacionariedade\n",
    "\n",
    "### Teste Dickey-Fuller Aumentado (ADF)\n",
    "\n",
    "O teste ADF é um dos testes estatísticos mais populares para verificar a estacionariedade de uma série temporal. A hipótese nula do teste ADF é que a série temporal é não estacionária devido à presença de uma raiz unitária.\n",
    "\n",
    "$ \n",
    "\\Delta Y_t = \\alpha + \\beta t + \\gamma Y_{t-1} + \\delta_1 \\Delta Y_{t-1} + \\ldots + \\delta_{p-1} \\Delta Y_{t-p+1} + \\epsilon_t\n",
    "$\n",
    "\n",
    "Onde:\n",
    "- $\\Delta Y_t$ é a série de diferenças\n",
    "- $\\alpha$, $\\beta$, and $\\gamma$ são coeficientes\n",
    "- $p$ é o número de defasagens\n",
    "- $\\epsilon_t$ é o termo de erro\n",
    "\n"
   ]
  },
  {
   "cell_type": "markdown",
   "id": "499d3397",
   "metadata": {
    "slideshow": {
     "slide_type": "slide"
    }
   },
   "source": [
    "### Teste de Kwiatkowski-Phillips-Schmidt-Shin (KPSS)\n",
    "\n",
    "O teste KPSS é outro teste popular para estacionariedade, em que a hipótese nula é que os dados são estacionários em torno de uma tendência determinística.\n",
    "\n",
    "$\n",
    "Y_t = \\alpha + \\beta t + \\rho Y_{t-1} + \\epsilon_t\n",
    "$\n",
    "\n",
    "Onde:\n",
    "- $Y_t$ é a série temporal\n",
    "- $\\alpha$ and $\\beta$ são coeficientes\n",
    "- $\\rho$ é o parâmetro autorregressivo\n",
    "- $\\epsilon_t$ é o termo de erro"
   ]
  },
  {
   "cell_type": "markdown",
   "id": "5f7674b0",
   "metadata": {
    "slideshow": {
     "slide_type": "slide"
    }
   },
   "source": [
    "## Os testes em ação"
   ]
  },
  {
   "cell_type": "markdown",
   "id": "47c8dc17",
   "metadata": {
    "slideshow": {
     "slide_type": "subslide"
    }
   },
   "source": [
    "### O teste ADF"
   ]
  },
  {
   "cell_type": "code",
   "execution_count": null,
   "id": "b43364c8",
   "metadata": {
    "slideshow": {
     "slide_type": "subslide"
    }
   },
   "outputs": [],
   "source": [
    "from statsmodels.tsa.stattools import adfuller\n",
    "\n",
    "result_adf_stock = adfuller(df['close'])\n",
    "result_adf_hr = adfuller(hr)\n",
    "\n",
    "print(f'ADF Statistic Stock: {result_adf_stock[0]}')\n",
    "print(f'p-value: {result_adf_stock[1]}')\n",
    "print('Critical Values:')\n",
    "for key, value in result_adf_stock[4].items():\n",
    "    print(f'\\t{key}: {value}')\n",
    "\n",
    "print(\"---------------------------\")\n",
    "    \n",
    "print(f'ADF Statistic HR: {result_adf_hr[0]}')\n",
    "print(f'p-value: {result_adf_hr[1]}')\n",
    "print('Critical Values:')\n",
    "for key, value in result_adf_hr[4].items():\n",
    "    print(f'\\t{key}: {value}') "
   ]
  },
  {
   "cell_type": "markdown",
   "id": "72674386",
   "metadata": {
    "slideshow": {
     "slide_type": "slide"
    }
   },
   "source": [
    "## Os testes em ação"
   ]
  },
  {
   "cell_type": "markdown",
   "id": "dbfab861",
   "metadata": {
    "slideshow": {
     "slide_type": "subslide"
    }
   },
   "source": [
    "### O teste KPSS"
   ]
  },
  {
   "cell_type": "code",
   "execution_count": null,
   "id": "9b223d7a",
   "metadata": {
    "slideshow": {
     "slide_type": "subslide"
    }
   },
   "outputs": [],
   "source": [
    "### NOTE: Você pode não obter os mesmos valores do vídeo.\n",
    "## Os dados são ao vivo, o que resultará em uma alteração no valor a cada execução. No entanto,\n",
    "## a conclusão é a mesma.\n",
    "\n",
    "from statsmodels.tsa.stattools import kpss\n",
    "\n",
    "# Executar teste KPSS\n",
    "result_adf_stock = kpss(df['close'], nlags=\"auto\")\n",
    "result_adf_hr = kpss(hr, nlags=\"auto\")\n",
    "\n",
    "\n",
    "print(f'KPSS Statistic: {result_adf_stock[0]}')\n",
    "print(f'p-value: {result_adf_stock[1]}')\n",
    "print('Critical Values:')\n",
    "for key, value in result_adf_stock[3].items():\n",
    "    print(f'\\t{key}: {value}')\n",
    "    \n",
    "print(\"---------------------------\")\n",
    "\n",
    "print(f'KPSS Statistic: {result_adf_hr[0]}')\n",
    "print(f'p-value: {result_adf_hr[1]}')\n",
    "print('Critical Values:')\n",
    "for key, value in result_adf_hr[3].items():\n",
    "    print(f'\\t{key}: {value}')"
   ]
  },
  {
   "cell_type": "markdown",
   "id": "3f6a845d",
   "metadata": {
    "slideshow": {
     "slide_type": "slide"
    }
   },
   "source": [
    "## Como corrigimos dados de TS que não são Estacionários?"
   ]
  },
  {
   "cell_type": "markdown",
   "id": "05ad4519",
   "metadata": {
    "slideshow": {
     "slide_type": "subslide"
    }
   },
   "source": [
    "## Diferenciação\n",
    "\n",
    "A diferenciação é uma técnica usada para tornar estacionária uma série temporal não estacionária. Ela envolve a transformação da série calculando as diferenças entre observações consecutivas.\n",
    "\n",
    "### Diferenciação de Primeira Ordem\n",
    "\n",
    "A primeira diferença é dada pela seguinte equação:\n",
    "\n",
    "$ \n",
    "\\Delta Y_t = Y_t - Y_{t-1}\n",
    "$\n"
   ]
  },
  {
   "cell_type": "code",
   "execution_count": null,
   "id": "86d1cb51",
   "metadata": {
    "slideshow": {
     "slide_type": "subslide"
    }
   },
   "outputs": [],
   "source": [
    "df = df.sort_index()\n",
    "new_station_data = df['close'].diff()\n",
    "new_station_data = new_station_data.dropna()\n",
    "new_station_data.head()"
   ]
  },
  {
   "cell_type": "code",
   "execution_count": null,
   "id": "73a211a3",
   "metadata": {
    "slideshow": {
     "slide_type": "slide"
    }
   },
   "outputs": [],
   "source": [
    "### NOTE: Você pode não obter os mesmos valores do vídeo.\n",
    "## Os dados são dinâmicos, o que resultará em uma alteração no valor a cada execução. No entanto,\n",
    "## a conclusão é a mesma.\n",
    "\n",
    "result_adf_stock = adfuller(new_station_data)\n",
    "result_kpss_stock = kpss(new_station_data, nlags=\"auto\")\n",
    "\n",
    "print(f'ADF Statistic Stock: {result_adf_stock[0]}')\n",
    "print(f'p-value: {result_adf_stock[1]}')\n",
    "print('Critical Values:')\n",
    "for key, value in result_adf_stock[4].items():\n",
    "    print(f'\\t{key}: {value}')\n",
    "    \n",
    "print(\"---------------------------\")\n",
    "\n",
    "print(f'KPSS Statistic: {result_kpss_stock[0]}')\n",
    "print(f'p-value: {result_kpss_stock[1]}')\n",
    "print('Critical Values:')\n",
    "for key, value in result_kpss_stock[3].items():\n",
    "    print(f'\\t{key}: {value}')\n",
    "    \n"
   ]
  },
  {
   "cell_type": "code",
   "execution_count": null,
   "id": "06d62df9",
   "metadata": {
    "slideshow": {
     "slide_type": "slide"
    }
   },
   "outputs": [],
   "source": [
    "new_station_data.plot(title='Stock Data')"
   ]
  },
  {
   "cell_type": "code",
   "execution_count": null,
   "id": "511f8847-e30c-450c-a73c-d497286bd7a4",
   "metadata": {},
   "outputs": [],
   "source": []
  }
 ],
 "metadata": {
  "celltoolbar": "Slideshow",
  "kernelspec": {
   "display_name": "anaconda-2024.02-py310",
   "language": "python",
   "name": "conda-env-anaconda-2024.02-py310-py"
  },
  "language_info": {
   "codemirror_mode": {
    "name": "ipython",
    "version": 3
   },
   "file_extension": ".py",
   "mimetype": "text/x-python",
   "name": "python",
   "nbconvert_exporter": "python",
   "pygments_lexer": "ipython3",
   "version": "3.12.3 (main, Apr  9 2024, 08:09:14) [Clang 15.0.0 (clang-1500.3.9.4)]"
  },
  "vscode": {
   "interpreter": {
    "hash": "b0fa6594d8f4cbf19f97940f81e996739fb7646882a419484c72d19e05852a7e"
   }
  }
 },
 "nbformat": 4,
 "nbformat_minor": 5
}
