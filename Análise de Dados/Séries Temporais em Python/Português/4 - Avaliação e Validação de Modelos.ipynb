{
 "cells": [
  {
   "cell_type": "markdown",
   "id": "5d246029",
   "metadata": {
    "slideshow": {
     "slide_type": "slide"
    }
   },
   "source": [
    "# Avaliação e Validação de Modelos"
   ]
  },
  {
   "cell_type": "markdown",
   "id": "4b511740-c5ab-4893-bc5b-950b3b5b3c7a",
   "metadata": {
    "slideshow": {
     "slide_type": "slide"
    },
    "tags": []
   },
   "source": [
    "# Por que dividir os dados em conjuntos de dados de treinamento e teste?\n",
    "\n",
    "## Introdução\n",
    "Ao desenvolver modelos de aprendizado de máquina, uma das etapas principais é dividir os dados disponíveis em conjuntos de dados de treinamento e teste. Essa prática é crucial por vários motivos, que serão descritos a seguir.\n",
    "\n",
    "## Motivos para a Divisão de Dados\n",
    "\n",
    "### 1. **Avaliação do Modelo**\n",
    "\n",
    "### 2. **Prevenção de Overfitting**\n",
    "\n",
    "### 3. **Ajuste do Modelo**\n",
    "\n",
    "### 4. **Validação Cruzada**\n",
    "\n",
    "### 5. **Comparação Justa**"
   ]
  },
  {
   "cell_type": "code",
   "execution_count": null,
   "id": "172f68db-a421-4aca-ae21-96e494e5d469",
   "metadata": {},
   "outputs": [],
   "source": [
    "import pandas as pd\n",
    "import requests\n",
    "from io import StringIO\n",
    "\n",
    "df = pd.read_csv(\"https://raw.githubusercontent.com/datasets/cpi-us/main/data/cpiai.csv\")\n",
    "\n",
    "print(df)\n",
    "# Extraia e defina a coluna 'year' como índice com formato DateTime\n",
    "df['Date'] = pd.to_datetime(df['Date'])\n",
    "df.dropna(inplace=True)\n",
    "df.set_index('Date', inplace=True)\n",
    "df.sort_index(inplace = True)\n",
    "\n",
    "df = df[\"1990-01-01\":\"2014-01-01\"]\n",
    "\n",
    "\n",
    "# Selecione a coluna 'Index' para os níveis mensais do IPC\n",
    "cpi_monthly = df['Inflation'].resample('M').mean()\n",
    "\n",
    "# Exibe as primeiras linhas\n",
    "print(cpi_monthly.head())\n",
    "\n",
    "cpi_monthly = cpi_monthly.diff().dropna()\n",
    "\n",
    "# Dividi os dados em conjuntos de treinamento e teste com base no ponto de divisão\n",
    "train = cpi_monthly.iloc[:round(len(cpi_monthly)/2)]\n",
    "test = cpi_monthly.iloc[round(len(cpi_monthly)/2):]\n",
    "\n",
    "# Exibe as formas do treinamento e dos conjuntos de teste\n",
    "print(\"Formato do conjunto de treinamento\", train.shape)\n",
    "print(\"Forma do conjunto de teste:\", test.shape)\n"
   ]
  },
  {
   "cell_type": "code",
   "execution_count": null,
   "id": "6c7d7a18-b1eb-453e-a0e4-0f7806a70e6d",
   "metadata": {},
   "outputs": [],
   "source": [
    "train.sort_index(inplace = True)\n",
    "train.head()"
   ]
  },
  {
   "cell_type": "code",
   "execution_count": null,
   "id": "937e4ef2-c72d-4b03-b3c7-c5e0ad3bd5b8",
   "metadata": {
    "slideshow": {
     "slide_type": "slide"
    },
    "tags": []
   },
   "outputs": [],
   "source": [
    "train.plot()"
   ]
  },
  {
   "cell_type": "code",
   "execution_count": null,
   "id": "5b18bf75-476a-4ce8-ab2e-4285e9d74203",
   "metadata": {},
   "outputs": [],
   "source": [
    "len(test)"
   ]
  },
  {
   "cell_type": "code",
   "execution_count": null,
   "id": "a43018d3-e54b-421a-89be-9b8d5a12629d",
   "metadata": {
    "slideshow": {
     "slide_type": "slide"
    },
    "tags": []
   },
   "outputs": [],
   "source": [
    "from statsmodels.tsa.ar_model import AutoReg\n",
    "import statsmodels.api as sm\n",
    "from statsmodels.tsa.stattools import adfuller\n",
    "\n",
    "# Garante que os dados são apropriados para modelagem\n",
    "train.dropna(inplace= True) # Remove quaisquer valores faltantes\n",
    "\n",
    "# Ajusta um modelo autorregressivo (modelo AR)\n",
    "ar_model = sm.tsa.ARIMA(train, order=(2, 0, 1))\n",
    "ar_result = ar_model.fit()\n",
    "\n",
    "print(ar_result.summary())"
   ]
  },
  {
   "cell_type": "code",
   "execution_count": null,
   "id": "b41adaca-51fd-4005-ad88-50c172377905",
   "metadata": {},
   "outputs": [],
   "source": [
    "train.tail()"
   ]
  },
  {
   "cell_type": "code",
   "execution_count": null,
   "id": "b43b941a-f10f-4c0c-abdf-9191d2da2aa0",
   "metadata": {},
   "outputs": [],
   "source": [
    "ar_result.forecast(3)"
   ]
  },
  {
   "cell_type": "code",
   "execution_count": null,
   "id": "bb7cdad2-836a-49af-87b1-830d42c1bab1",
   "metadata": {},
   "outputs": [],
   "source": [
    "test.head()"
   ]
  },
  {
   "cell_type": "code",
   "execution_count": null,
   "id": "ace26095-466b-44f7-a4aa-66edb657fd96",
   "metadata": {
    "slideshow": {
     "slide_type": "slide"
    },
    "tags": []
   },
   "outputs": [],
   "source": [
    "from statsmodels.tsa.arima.model import ARIMA\n",
    "import numpy as np\n",
    "import pandas as pd\n",
    "import statsmodels.api as sm\n",
    "from sklearn.metrics import mean_squared_error, mean_absolute_error\n",
    "\n",
    "# Garante que os dados sejam apropriados para modelagem\n",
    "train.dropna(inplace=True)  # Remove os valores ausentes dos dados de treinamento\n",
    "\n",
    "# Ajusta um modelo de média móvel integrada autorregressiva (ARIMA)\n",
    "arima_model = ARIMA(train, order=(2, 0, 1))\n",
    "arima_result = arima_model.fit()\n",
    "\n",
    "# Previsões\n",
    "# Define manualmente a frequência dos dados da série temporal, se conhecida\n",
    "freq = 'M' # Substitui 'D' pela frequência apropriada dos seus dados\n",
    "\n",
    "# Calcula os pontos inicial e final das previsões\n",
    "start = train.index[-1] + pd.tseries.frequencies.to_offset(freq)\n",
    "end = start + (len(test) - 1) * pd.tseries.frequencies.to_offset(freq)\n",
    "\n",
    "predictions = arima_result.predict(start=start, end=end)\n",
    "\n",
    "# Garante que seus dados de 'test' sejam preparados de forma semelhante aos dados de 'train'\n",
    "test_prepared = test.dropna()\n",
    "\n",
    "# Calcula MSE, RMSE e MAPE\n",
    "mse = mean_squared_error(test_prepared, predictions)\n",
    "rmse = np.sqrt(mse)\n",
    "#mape = np.mean(np.abs((test_prepared - predictions) / test_prepared)) * 100\n",
    "\n",
    "print(\"MSE:\", mse)\n",
    "print(\"RMSE:\", rmse)\n",
    "#print(\"MAPE:\", mape)"
   ]
  },
  {
   "cell_type": "code",
   "execution_count": null,
   "id": "b17bf58c-4413-48f3-94f1-1855db5492b5",
   "metadata": {},
   "outputs": [],
   "source": [
    "print(pd.concat([test_prepared, arima_result.forecast(len(test_prepared))], axis = 1))"
   ]
  },
  {
   "cell_type": "markdown",
   "id": "a4b8c0cd-ffb4-489c-b44e-1e75c830636b",
   "metadata": {
    "slideshow": {
     "slide_type": "slide"
    },
    "tags": []
   },
   "source": [
    "# Compreendendo as Métricas de Erro: MSE, RMSE e MAPE\n",
    "\n",
    "## Erro Quadrático Médio (MSE)\n",
    "- **Fórmula:** \n",
    "  $ \\text{MSE} = \\frac{1}{n}\\sum_{i=1}^{n}(Y_i - \\hat{Y}_i)^2 $\n",
    "  \n",
    "## Raiz do Erro Quadrático Médio (RMSE)\n",
    "- **Fórmula:** \n",
    "  $ \\text{RMSE} = \\sqrt{\\frac{1}{n}\\sum_{i=1}^{n}(Y_i - \\hat{Y}_i)^2} $\n",
    "\n",
    "## Percentual Absoluto Médio Erro (MAPE)\n",
    "- **Fórmula:** \n",
    "  $ \\text{MAPE} = \\frac{100\\%}{n}\\sum_{i=1}^{n} \\left| \\frac{Y_i - \\hat{Y}_i}{Y_i} \\right| $\n",
    "- **Interpretação:** O MAPE é fácil de interpretar como uma porcentagem. Valores menores de MAPE indicam melhor ajuste. O MAPE é independente de escala, o que o torna particularmente útil para comparar a precisão entre diferentes conjuntos de dados."
   ]
  }
 ],
 "metadata": {
  "celltoolbar": "Slideshow",
  "kernelspec": {
   "display_name": "anaconda-2024.02-py310",
   "language": "python",
   "name": "conda-env-anaconda-2024.02-py310-py"
  },
  "language_info": {
   "codemirror_mode": {
    "name": "ipython",
    "version": 3
   },
   "file_extension": ".py",
   "mimetype": "text/x-python",
   "name": "python",
   "nbconvert_exporter": "python",
   "pygments_lexer": "ipython3",
   "version": "3.11.4 (main, Jun 20 2023, 17:37:48) [Clang 14.0.0 (clang-1400.0.29.202)]"
  },
  "vscode": {
   "interpreter": {
    "hash": "b0fa6594d8f4cbf19f97940f81e996739fb7646882a419484c72d19e05852a7e"
   }
  }
 },
 "nbformat": 4,
 "nbformat_minor": 5
}
