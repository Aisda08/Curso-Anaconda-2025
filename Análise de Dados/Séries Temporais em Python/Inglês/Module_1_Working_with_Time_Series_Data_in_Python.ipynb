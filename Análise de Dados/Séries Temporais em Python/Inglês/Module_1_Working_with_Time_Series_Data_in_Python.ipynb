{
 "cells": [
  {
   "cell_type": "markdown",
   "id": "49ed53ce",
   "metadata": {
    "slideshow": {
     "slide_type": "slide"
    }
   },
   "source": [
    "# Working with Time Series Data in Python"
   ]
  },
  {
   "cell_type": "markdown",
   "id": "5b382e82",
   "metadata": {
    "slideshow": {
     "slide_type": "slide"
    }
   },
   "source": [
    "## What is Time Series Data?"
   ]
  },
  {
   "cell_type": "code",
   "execution_count": null,
   "id": "95fb7f4f",
   "metadata": {
    "scrolled": true,
    "slideshow": {
     "slide_type": "fragment"
    }
   },
   "outputs": [],
   "source": [
    "import pandas as pd\n",
    "\n",
    "df = pd.read_csv(\"https://www.alphavantage.co/query?function=TIME_SERIES_DAILY&symbol=IBM&apikey=demo&datatype=csv\")\n",
    "\n",
    "df.head() "
   ]
  },
  {
   "cell_type": "code",
   "execution_count": null,
   "id": "a598be3b",
   "metadata": {
    "slideshow": {
     "slide_type": "subslide"
    }
   },
   "outputs": [],
   "source": [
    "df['timestamp'] = pd.to_datetime(df.timestamp)\n",
    "\n",
    "df.head()"
   ]
  },
  {
   "cell_type": "code",
   "execution_count": null,
   "id": "f1855007",
   "metadata": {
    "slideshow": {
     "slide_type": "subslide"
    }
   },
   "outputs": [],
   "source": [
    "df.index = df.timestamp\n",
    "\n",
    "print(df.head())\n",
    "\n",
    "df['close'].plot()"
   ]
  },
  {
   "cell_type": "markdown",
   "id": "aed9ed13",
   "metadata": {
    "slideshow": {
     "slide_type": "slide"
    }
   },
   "source": [
    "### We can do this all in one with..."
   ]
  },
  {
   "cell_type": "code",
   "execution_count": null,
   "id": "ea838ffd",
   "metadata": {
    "slideshow": {
     "slide_type": "fragment"
    }
   },
   "outputs": [],
   "source": [
    "one_step = pd.read_csv(\"https://www.alphavantage.co/query?function=TIME_SERIES_DAILY&symbol=IBM&apikey=demo&datatype=csv\" \\\n",
    "                       , parse_dates=['timestamp'], index_col = 'timestamp')\n",
    "\n",
    "one_step.head()"
   ]
  },
  {
   "cell_type": "markdown",
   "id": "6922f5e8",
   "metadata": {
    "slideshow": {
     "slide_type": "slide"
    }
   },
   "source": [
    "# Working With Time Series Data"
   ]
  },
  {
   "cell_type": "markdown",
   "id": "aa30a2aa",
   "metadata": {
    "slideshow": {
     "slide_type": "slide"
    }
   },
   "source": [
    "## Time-based indexing and slicing"
   ]
  },
  {
   "cell_type": "code",
   "execution_count": null,
   "id": "1a011318",
   "metadata": {
    "slideshow": {
     "slide_type": "subslide"
    }
   },
   "outputs": [],
   "source": [
    "# We can slice the dataframe\n",
    "\n",
    "start = df['timestamp'].iloc[10]\n",
    "stop = df['timestamp'].iloc[20]\n",
    "\n",
    "sample = df[start:stop]\n",
    "\n",
    "sample.head()"
   ]
  },
  {
   "cell_type": "code",
   "execution_count": null,
   "id": "f9134a51",
   "metadata": {
    "slideshow": {
     "slide_type": "subslide"
    }
   },
   "outputs": [],
   "source": [
    "# We can access date time values\n",
    "\n",
    "df.timestamp.dt.month"
   ]
  },
  {
   "cell_type": "markdown",
   "id": "c55154f1",
   "metadata": {
    "slideshow": {
     "slide_type": "slide"
    }
   },
   "source": [
    "## What is Stationarity? Why does it matter?"
   ]
  },
  {
   "cell_type": "markdown",
   "id": "36fb1d4e",
   "metadata": {
    "slideshow": {
     "slide_type": "slide"
    }
   },
   "source": [
    "A **stationary** time series is one whose statistical properties, such as mean, variance, and autocorrelation, do not change over time.\n",
    "\n",
    "- **Constant Mean:** The mean of the series should not be a function of time.\n",
    "\n",
    "- **Constant Variance:** The variance of the series should not be a function of time. This property is known as homoscedasticity\n",
    "\n",
    "- **Constant Covariance:** The covariance of the i-th term and the (i+m)-th term should not be a function of time."
   ]
  },
  {
   "cell_type": "markdown",
   "id": "c5c0b9fd",
   "metadata": {
    "slideshow": {
     "slide_type": "slide"
    }
   },
   "source": [
    "### The tale of two datasets"
   ]
  },
  {
   "cell_type": "code",
   "execution_count": null,
   "id": "33d3a449",
   "metadata": {
    "slideshow": {
     "slide_type": "subslide"
    }
   },
   "outputs": [],
   "source": [
    "### Heart Rate data\n",
    "\n",
    "\n",
    "hr = pd.read_csv(\"https://raw.githubusercontent.com/alyssaq/python-data-science-intro/master/datasets/heart-rate-time-series.csv\", header=None)\n",
    "hr.columns = ['rate']\n",
    "\n",
    "# Plot our Heart Rate Data\n",
    "hr.plot(title='HR Data')"
   ]
  },
  {
   "cell_type": "markdown",
   "id": "961d76b1",
   "metadata": {
    "slideshow": {
     "slide_type": "slide"
    }
   },
   "source": [
    "### The tale of two datasets"
   ]
  },
  {
   "cell_type": "code",
   "execution_count": null,
   "id": "a677b354",
   "metadata": {
    "slideshow": {
     "slide_type": "subslide"
    }
   },
   "outputs": [],
   "source": [
    "df['close'].plot(title='Stock Data')"
   ]
  },
  {
   "cell_type": "markdown",
   "id": "e177cebf",
   "metadata": {
    "slideshow": {
     "slide_type": "slide"
    }
   },
   "source": [
    "## Tests for Stationarity\n",
    "\n",
    "### Augmented Dickey-Fuller (ADF) Test\n",
    "\n",
    "The ADF test is one of the most popular statistical tests to check the stationarity of a time series. The null hypothesis of the ADF test is that the time series is non-stationary due to the presence of a unit root.\n",
    "\n",
    "$ \n",
    "\\Delta Y_t = \\alpha + \\beta t + \\gamma Y_{t-1} + \\delta_1 \\Delta Y_{t-1} + \\ldots + \\delta_{p-1} \\Delta Y_{t-p+1} + \\epsilon_t\n",
    "$\n",
    "\n",
    "Where:\n",
    "- $\\Delta Y_t$ is the difference series\n",
    "- $\\alpha$, $\\beta$, and $\\gamma$ are coefficients\n",
    "- $p$ is the number of lags\n",
    "- $\\epsilon_t$ is the error term\n",
    "\n"
   ]
  },
  {
   "cell_type": "markdown",
   "id": "499d3397",
   "metadata": {
    "slideshow": {
     "slide_type": "slide"
    }
   },
   "source": [
    "### Kwiatkowski-Phillips-Schmidt-Shin (KPSS) Test\n",
    "\n",
    "The KPSS test is another popular test for stationarity, where the null hypothesis is that the data is stationary around a deterministic trend.\n",
    "\n",
    "$\n",
    "Y_t = \\alpha + \\beta t + \\rho Y_{t-1} + \\epsilon_t\n",
    "$\n",
    "\n",
    "Where:\n",
    "- $Y_t$ is the time series\n",
    "- $\\alpha$ and $\\beta$ are coefficients\n",
    "- $\\rho$ is the autoregressive parameter\n",
    "- $\\epsilon_t$ is the error term"
   ]
  },
  {
   "cell_type": "markdown",
   "id": "5f7674b0",
   "metadata": {
    "slideshow": {
     "slide_type": "slide"
    }
   },
   "source": [
    "## The tests in action"
   ]
  },
  {
   "cell_type": "markdown",
   "id": "47c8dc17",
   "metadata": {
    "slideshow": {
     "slide_type": "subslide"
    }
   },
   "source": [
    "### The ADF test"
   ]
  },
  {
   "cell_type": "code",
   "execution_count": null,
   "id": "b43364c8",
   "metadata": {
    "slideshow": {
     "slide_type": "subslide"
    }
   },
   "outputs": [],
   "source": [
    "from statsmodels.tsa.stattools import adfuller\n",
    "\n",
    "result_adf_stock = adfuller(df['close'])\n",
    "result_adf_hr = adfuller(hr)\n",
    "\n",
    "print(f'ADF Statistic Stock: {result_adf_stock[0]}')\n",
    "print(f'p-value: {result_adf_stock[1]}')\n",
    "print('Critical Values:')\n",
    "for key, value in result_adf_stock[4].items():\n",
    "    print(f'\\t{key}: {value}')\n",
    "\n",
    "print(\"---------------------------\")\n",
    "    \n",
    "print(f'ADF Statistic HR: {result_adf_hr[0]}')\n",
    "print(f'p-value: {result_adf_hr[1]}')\n",
    "print('Critical Values:')\n",
    "for key, value in result_adf_hr[4].items():\n",
    "    print(f'\\t{key}: {value}') "
   ]
  },
  {
   "cell_type": "markdown",
   "id": "72674386",
   "metadata": {
    "slideshow": {
     "slide_type": "slide"
    }
   },
   "source": [
    "## The tests in action"
   ]
  },
  {
   "cell_type": "markdown",
   "id": "dbfab861",
   "metadata": {
    "slideshow": {
     "slide_type": "subslide"
    }
   },
   "source": [
    "### The KPSS Test"
   ]
  },
  {
   "cell_type": "code",
   "execution_count": null,
   "id": "9b223d7a",
   "metadata": {
    "slideshow": {
     "slide_type": "subslide"
    }
   },
   "outputs": [],
   "source": [
    "### NOTE: You may not get the same values from the video.\n",
    "## Data is live which will result in a change in value each time you run. However,\n",
    "## the conclusion is the same.\n",
    "\n",
    "from statsmodels.tsa.stattools import kpss\n",
    "\n",
    "# Perform KPSS test\n",
    "result_adf_stock = kpss(df['close'], nlags=\"auto\")\n",
    "result_adf_hr = kpss(hr, nlags=\"auto\")\n",
    "\n",
    "\n",
    "print(f'KPSS Statistic: {result_adf_stock[0]}')\n",
    "print(f'p-value: {result_adf_stock[1]}')\n",
    "print('Critical Values:')\n",
    "for key, value in result_adf_stock[3].items():\n",
    "    print(f'\\t{key}: {value}')\n",
    "    \n",
    "print(\"---------------------------\")\n",
    "\n",
    "print(f'KPSS Statistic: {result_adf_hr[0]}')\n",
    "print(f'p-value: {result_adf_hr[1]}')\n",
    "print('Critical Values:')\n",
    "for key, value in result_adf_hr[3].items():\n",
    "    print(f'\\t{key}: {value}')"
   ]
  },
  {
   "cell_type": "markdown",
   "id": "3f6a845d",
   "metadata": {
    "slideshow": {
     "slide_type": "slide"
    }
   },
   "source": [
    "## How do we fix TS data that is not Stationarity?"
   ]
  },
  {
   "cell_type": "markdown",
   "id": "05ad4519",
   "metadata": {
    "slideshow": {
     "slide_type": "subslide"
    }
   },
   "source": [
    "## Differencing\n",
    "\n",
    "Differencing is a technique used to make a non-stationary time series stationary. It involves transforming the series by computing the differences between consecutive observations.\n",
    "\n",
    "### First Order Differencing\n",
    "\n",
    "The first difference is given by the following equation:\n",
    "\n",
    "$ \n",
    "\\Delta Y_t = Y_t - Y_{t-1}\n",
    "$\n"
   ]
  },
  {
   "cell_type": "code",
   "execution_count": null,
   "id": "86d1cb51",
   "metadata": {
    "slideshow": {
     "slide_type": "subslide"
    }
   },
   "outputs": [],
   "source": [
    "df = df.sort_index()\n",
    "new_station_data = df['close'].diff()\n",
    "new_station_data = new_station_data.dropna()\n",
    "new_station_data.head()"
   ]
  },
  {
   "cell_type": "code",
   "execution_count": null,
   "id": "73a211a3",
   "metadata": {
    "slideshow": {
     "slide_type": "slide"
    }
   },
   "outputs": [],
   "source": [
    "### NOTE: You may not get the same values from the video.\n",
    "## Data is live which will result in a change in value each time you run. However,\n",
    "## the conclusion is the same.\n",
    "\n",
    "result_adf_stock = adfuller(new_station_data)\n",
    "result_kpss_stock = kpss(new_station_data, nlags=\"auto\")\n",
    "\n",
    "print(f'ADF Statistic Stock: {result_adf_stock[0]}')\n",
    "print(f'p-value: {result_adf_stock[1]}')\n",
    "print('Critical Values:')\n",
    "for key, value in result_adf_stock[4].items():\n",
    "    print(f'\\t{key}: {value}')\n",
    "    \n",
    "print(\"---------------------------\")\n",
    "\n",
    "print(f'KPSS Statistic: {result_kpss_stock[0]}')\n",
    "print(f'p-value: {result_kpss_stock[1]}')\n",
    "print('Critical Values:')\n",
    "for key, value in result_kpss_stock[3].items():\n",
    "    print(f'\\t{key}: {value}')\n",
    "    \n"
   ]
  },
  {
   "cell_type": "code",
   "execution_count": null,
   "id": "06d62df9",
   "metadata": {
    "slideshow": {
     "slide_type": "slide"
    }
   },
   "outputs": [],
   "source": [
    "new_station_data.plot(title='Stock Data')"
   ]
  },
  {
   "cell_type": "code",
   "execution_count": null,
   "id": "511f8847-e30c-450c-a73c-d497286bd7a4",
   "metadata": {},
   "outputs": [],
   "source": []
  }
 ],
 "metadata": {
  "celltoolbar": "Slideshow",
  "kernelspec": {
   "display_name": "anaconda-2024.02-py310",
   "language": "python",
   "name": "conda-env-anaconda-2024.02-py310-py"
  },
  "language_info": {
   "codemirror_mode": {
    "name": "ipython",
    "version": 3
   },
   "file_extension": ".py",
   "mimetype": "text/x-python",
   "name": "python",
   "nbconvert_exporter": "python",
   "pygments_lexer": "ipython3",
   "version": "3.12.3 (main, Apr  9 2024, 08:09:14) [Clang 15.0.0 (clang-1500.3.9.4)]"
  },
  "vscode": {
   "interpreter": {
    "hash": "b0fa6594d8f4cbf19f97940f81e996739fb7646882a419484c72d19e05852a7e"
   }
  }
 },
 "nbformat": 4,
 "nbformat_minor": 5
}
