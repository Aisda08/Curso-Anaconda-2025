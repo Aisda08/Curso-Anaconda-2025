{
 "cells": [
  {
   "cell_type": "markdown",
   "id": "5d246029",
   "metadata": {
    "slideshow": {
     "slide_type": "slide"
    }
   },
   "source": [
    "# Putting it all together."
   ]
  },
  {
   "cell_type": "markdown",
   "id": "6f7b9399-5e6b-4c85-a326-d630e9075f2b",
   "metadata": {
    "slideshow": {
     "slide_type": "subslide"
    },
    "tags": []
   },
   "source": [
    "Let's apply everything we learned and try to predict the S&P 500."
   ]
  },
  {
   "cell_type": "code",
   "execution_count": null,
   "id": "9534fc36-7576-4d04-a5de-e2ec9aa315a8",
   "metadata": {},
   "outputs": [],
   "source": [
    "pip install pmdarima"
   ]
  },
  {
   "cell_type": "code",
   "execution_count": null,
   "id": "3b5694fb",
   "metadata": {
    "slideshow": {
     "slide_type": "slide"
    },
    "tags": []
   },
   "outputs": [],
   "source": [
    "import pandas as pd\n",
    "import statsmodels.api as sm\n",
    "from pmdarima.arima import auto_arima\n",
    "import matplotlib.pyplot as plt\n",
    "\n",
    "# Load the dataset\n",
    "df = pd.read_csv(\"https://raw.githubusercontent.com/vijinho/sp500/refs/heads/master/csv/sp500.csv\")\n",
    "\n",
    "# Set the date as the index\n",
    "df['Date'] = pd.to_datetime(df['Date'])\n",
    "df.set_index('Date', inplace=True)\n",
    "df = df['Close']\n",
    "\n",
    "# Calculate monthly average temperature\n",
    "Stock_Price = df.resample('D').mean()\n",
    "\n",
    "Stock_Price.dropna(inplace = True)\n",
    "\n",
    "# Display the first few rows of the monthly average temperature\n",
    "Stock_Price.head()\n"
   ]
  },
  {
   "cell_type": "code",
   "execution_count": null,
   "id": "dd90b7c4-a570-4639-b376-65dfa5f6346d",
   "metadata": {
    "slideshow": {
     "slide_type": "notes"
    },
    "tags": []
   },
   "outputs": [],
   "source": [
    "# Note: Here I will work through an example live, helping you the student make decisions. \n",
    "# This will help better explain why and how we choose lags, if the model should be adjusted, \n",
    "# or how well our model is doing."
   ]
  },
  {
   "cell_type": "code",
   "execution_count": null,
   "id": "16c32311-f2f5-4569-b051-9f4d43229294",
   "metadata": {},
   "outputs": [],
   "source": [
    "Stock_Price = Stock_Price.diff().dropna()"
   ]
  },
  {
   "cell_type": "code",
   "execution_count": null,
   "id": "f9f60893-e52d-4ca7-823e-82e1ad21096a",
   "metadata": {},
   "outputs": [],
   "source": [
    "Stock_Price.plot()"
   ]
  },
  {
   "cell_type": "code",
   "execution_count": null,
   "id": "9784327a-740a-4c56-b461-8c6fdca39853",
   "metadata": {},
   "outputs": [],
   "source": [
    "# Split the data into training and testing sets\n",
    "train_size = int(len(Stock_Price) * 0.8)\n",
    "train, test = Stock_Price.iloc[:train_size], Stock_Price.iloc[train_size:]\n",
    "\n",
    "# Fit Auto ARIMA model\n",
    "auto_arima_model = auto_arima(train, start_p=0, start_q=0, \n",
    "                              max_p=5, max_q=5, \n",
    "                              seasonal=False, \n",
    "                              d=None, D=0, trace=True,\n",
    "                              error_action='ignore',   \n",
    "                              suppress_warnings=True,  \n",
    "                              stepwise=True)\n",
    "\n",
    "# Print the summary of the model\n",
    "print(auto_arima_model.summary())\n",
    "\n",
    "# Plotting the diagnostics of the model\n",
    "auto_arima_model.plot_diagnostics(figsize=(15,8))\n",
    "plt.show()\n"
   ]
  },
  {
   "cell_type": "code",
   "execution_count": null,
   "id": "8d5f0d49-abb2-4d2e-b834-d56442613c27",
   "metadata": {},
   "outputs": [],
   "source": [
    "from statsmodels.tsa.ar_model import AutoReg\n",
    "import statsmodels.api as sm\n",
    "\n",
    "\n",
    "# Fit an Autoregressive Model (AR model)\n",
    "ar_model = sm.tsa.ARIMA(train, order=(1, 0, 1))\n",
    "ar_result = ar_model.fit()\n",
    "\n",
    "print(ar_result.summary())"
   ]
  },
  {
   "cell_type": "code",
   "execution_count": null,
   "id": "b2a5d5a9-5ee0-440b-8183-4a597e9dce2e",
   "metadata": {},
   "outputs": [],
   "source": []
  }
 ],
 "metadata": {
  "celltoolbar": "Slideshow",
  "kernelspec": {
   "display_name": "anaconda-2024.02-py310",
   "language": "python",
   "name": "conda-env-anaconda-2024.02-py310-py"
  },
  "language_info": {
   "codemirror_mode": {
    "name": "ipython",
    "version": 3
   },
   "file_extension": ".py",
   "mimetype": "text/x-python",
   "name": "python",
   "nbconvert_exporter": "python",
   "pygments_lexer": "ipython3",
   "version": "3.12.3 (main, Apr  9 2024, 08:09:14) [Clang 15.0.0 (clang-1500.3.9.4)]"
  },
  "vscode": {
   "interpreter": {
    "hash": "b0fa6594d8f4cbf19f97940f81e996739fb7646882a419484c72d19e05852a7e"
   }
  }
 },
 "nbformat": 4,
 "nbformat_minor": 5
}
