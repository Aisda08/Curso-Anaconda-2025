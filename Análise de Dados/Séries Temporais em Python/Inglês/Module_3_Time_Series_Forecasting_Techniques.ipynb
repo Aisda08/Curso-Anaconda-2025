{
 "cells": [
  {
   "cell_type": "markdown",
   "id": "5d246029",
   "metadata": {
    "slideshow": {
     "slide_type": "slide"
    }
   },
   "source": [
    "# Time Series Forecasting Techniques"
   ]
  },
  {
   "cell_type": "markdown",
   "id": "6f7b9399-5e6b-4c85-a326-d630e9075f2b",
   "metadata": {
    "slideshow": {
     "slide_type": "subslide"
    },
    "tags": []
   },
   "source": [
    "Imagine you are given asked to analyze climate data. Your employer has asked you to create a model to forcast tomorrows tempreture.\n",
    "\n",
    "* What would have the most explanatory power in tomorrows weather?\n",
    "    - Todays?"
   ]
  },
  {
   "cell_type": "code",
   "execution_count": null,
   "id": "3b5694fb",
   "metadata": {
    "slideshow": {
     "slide_type": "slide"
    },
    "tags": []
   },
   "outputs": [],
   "source": [
    "import pandas as pd\n",
    "import statsmodels.api as sm\n",
    "\n",
    "# Load the Vega dataset\n",
    "df = pd.read_csv(\"https://raw.githubusercontent.com/stanfordnlp/plot-interface/master/public/data/sf-temps.csv\")\n",
    "\n",
    "# Set the date as the index\n",
    "df['date'] = pd.to_datetime(df['date'])\n",
    "df.set_index('date', inplace=True)\n",
    "\n",
    "\n",
    "# Calculate monthly average temperature\n",
    "monthly_avg_temp = df.resample('M').mean()\n",
    "monthly_avg_temp = monthly_avg_temp.diff()\n",
    "monthly_avg_temp = monthly_avg_temp.dropna()\n",
    "# Display the first few rows of the monthly average temperature\n",
    "monthly_avg_temp.plot()\n",
    "\n",
    "\n",
    "df = monthly_avg_temp"
   ]
  },
  {
   "cell_type": "code",
   "execution_count": null,
   "id": "a43018d3-e54b-421a-89be-9b8d5a12629d",
   "metadata": {
    "slideshow": {
     "slide_type": "slide"
    },
    "tags": []
   },
   "outputs": [],
   "source": [
    "from statsmodels.tsa.ar_model import AutoReg\n",
    "\n",
    "# Ensure the data is appropriate for modeling\n",
    "df['temp'] = df['temp'].dropna()  # Drop any missing values\n",
    "\n",
    "# Fit an Autoregressive Model (AR model)\n",
    "ar_model = AutoReg(df['temp'], lags=3)\n",
    "ar_result = ar_model.fit()\n",
    "\n",
    "print(ar_result.summary())"
   ]
  },
  {
   "cell_type": "markdown",
   "id": "0228d6bd-e3e5-4f88-a08f-bda1f5a946c4",
   "metadata": {
    "slideshow": {
     "slide_type": "slide"
    },
    "tags": []
   },
   "source": [
    "# Autoregressive (AR) Models\n",
    "\n",
    "## What is an AR Model?\n",
    "- An **Autoregressive (AR) model** is a type of statistical model used for forecasting in time series data.\n",
    "- It predicts future behavior based on past behavior.\n",
    "- The model is termed \"autoregressive\" because it regresses the variable against itself.\n",
    "\n",
    "## Formulation of an AR Model\n",
    "- The AR model is defined as:\n",
    "\n",
    "$\n",
    "Y_t = c + x_1 Y_{t-1} + x_2 Y_{t-2} + ... + x_p Y_{t-p} + \\epsilon_t$\n",
    "\n",
    "where,\n",
    "- $Y_t$ is the value at time \\( t \\),\n",
    "- $c$ is a constant,\n",
    "- $x_1, x_2, ..., x_p$ are the parameters of the model,\n",
    "- $p$ is the order of the AR model,\n",
    "- $\\epsilon_t$ is white noise."
   ]
  },
  {
   "cell_type": "markdown",
   "id": "a3e7e065",
   "metadata": {
    "slideshow": {
     "slide_type": "slide"
    }
   },
   "source": [
    "## Moving Averages"
   ]
  },
  {
   "cell_type": "markdown",
   "id": "d5d63d62-4287-4e3f-8054-60c6528da19f",
   "metadata": {
    "slideshow": {
     "slide_type": "subslide"
    },
    "tags": []
   },
   "source": [
    "Now imagine you're trying to understand the weather and predict what it will be like tomorrow. One way to do it is to look at how the weather has been changing over the past few days. The Moving Average (MA) model does something similar with data.\n",
    "\n",
    "In an MA model, instead of looking directly at the data itself (like the temperature each day), we look at the \"errors\" made in previous predictions. \"Error\" here means how much we were off in our past predictions. For example, if we predicted yesterday's temperature would be 70°F, but it was actually 72°F, the error is 2°F.\n",
    "\n",
    "The MA model says that the best prediction for today's temperature is a combination of these past errors. So, it's like saying, \"I know I've been off by a few degrees in the past few days, let me use that information to make a better guess today.\""
   ]
  },
  {
   "cell_type": "code",
   "execution_count": null,
   "id": "6f63f9e3",
   "metadata": {
    "slideshow": {
     "slide_type": "slide"
    },
    "tags": []
   },
   "outputs": [],
   "source": [
    "### The MA model in action\n",
    "\n",
    "ma_model = sm.tsa.ARIMA(df['temp'], order=(0, 0, 1))\n",
    "ma_result = ma_model.fit()\n",
    "\n",
    "# Display the summary of the MA model\n",
    "print(ma_result.summary())"
   ]
  },
  {
   "cell_type": "markdown",
   "id": "d7d94f7a-432c-4e02-b206-0f586d8f0205",
   "metadata": {
    "slideshow": {
     "slide_type": "slide"
    },
    "tags": []
   },
   "source": [
    "# Moving Average (MA) Models\n",
    "\n",
    "## What is an MA Model?\n",
    "- A **Moving Average (MA) model** is a statistical approach used for forecasting time series data.\n",
    "- It predicts future values based on the errors (differences between actual and predicted values) of past predictions.\n",
    "\n",
    "## How Does It Work?\n",
    "- Instead of using past values of the series directly, the MA model uses the past forecast errors.\n",
    "- A forecast error is the difference between the actual value and the forecasted value at a previous time point.\n",
    "\n",
    "## Model Formulation\n",
    "- The MA model is defined as:\n",
    "\n",
    "$Y_t = \\mu + ε_t + θ_1 ε_{t-1} + θ_2 ε_{t-2} + ... + θ_q ε_{t-q}$\n",
    "\n",
    "\n",
    "where,\n",
    "- $Y_t$ is the value at time $t$,\n",
    "- $\\mu$ is the mean of the series,\n",
    "- $ε_t$ is the forecast error at time `t`,\n",
    "- $θ_1, θ_2, ..., θ_q$ are the parameters of the model,\n",
    "- $q$ is the order of the MA model."
   ]
  },
  {
   "cell_type": "code",
   "execution_count": null,
   "id": "7720b147-7dc8-4439-a2b1-fe172bc44ab1",
   "metadata": {},
   "outputs": [],
   "source": [
    "\n",
    "# Load the Vega dataset\n",
    "df = pd.read_csv(\"https://raw.githubusercontent.com/stanfordnlp/plot-interface/master/public/data/co2-concentration.csv\")\n",
    "\n",
    "# Set the date as the index\n",
    "df['Date'] = pd.to_datetime(df['Date'])\n",
    "df.set_index('Date', inplace=True)\n",
    "\n",
    "# Calculate monthly average temperature\n",
    "monthly_avg_co = df.resample('M').mean()\n",
    "\n",
    "# Display the first few rows of the monthly average temperature\n",
    "monthly_avg_co = monthly_avg_co.diff()\n"
   ]
  },
  {
   "cell_type": "code",
   "execution_count": null,
   "id": "e0a8a88e-ef84-4e65-a46f-144796ec4ed5",
   "metadata": {},
   "outputs": [],
   "source": [
    "monthly_avg_co.plot()"
   ]
  },
  {
   "cell_type": "code",
   "execution_count": null,
   "id": "f9526b2e-3df8-4ff4-875c-a6bc5dff779a",
   "metadata": {},
   "outputs": [],
   "source": [
    "### The MA model in action\n",
    "\n",
    "ma_model = sm.tsa.ARIMA(monthly_avg_co['CO2'], order=(1, 0, 1))\n",
    "ma_result = ma_model.fit()\n",
    "\n",
    "# Display the summary of the MA model\n",
    "print(ma_result.summary())"
   ]
  },
  {
   "cell_type": "code",
   "execution_count": null,
   "id": "3032f85e-6ef2-443d-bc89-b15c68e0e6fb",
   "metadata": {},
   "outputs": [],
   "source": [
    "### The MA model in action\n",
    "\n",
    "ma_model = sm.tsa.ARIMA(monthly_avg_co['CO2'], order=(2, 0, 1))\n",
    "ma_result = ma_model.fit()\n",
    "\n",
    "# Display the summary of the MA model\n",
    "print(ma_result.summary())"
   ]
  },
  {
   "cell_type": "markdown",
   "id": "b5ed653f-f038-4fcb-9992-d6aaad5a94c1",
   "metadata": {},
   "source": [
    "## Autoregressive Integrated Moving Average (ARIMA) models\n",
    "\n",
    "Now we can talk both models, and combine them. Meaning, we can model both the error term and the moving average."
   ]
  },
  {
   "cell_type": "code",
   "execution_count": null,
   "id": "40614097-5a3f-4b19-a963-6125dba3fd67",
   "metadata": {},
   "outputs": [],
   "source": [
    "import pandas as pd\n",
    "\n",
    "# Load the Vega dataset\n",
    "df = pd.read_csv(\"https://raw.githubusercontent.com/stanfordnlp/plot-interface/master/public/data/co2-concentration.csv\")\n",
    "\n",
    "# Set the date as the index\n",
    "df['Date'] = pd.to_datetime(df['Date'])\n",
    "df.set_index('Date', inplace=True)\n",
    "\n",
    "# Calculate monthly average temperature\n",
    "monthly_avg_co = df.resample('M').mean()\n",
    "\n",
    "# Display the first few rows of the monthly average temperature\n",
    "monthly_avg_co = monthly_avg_co.diff()\n"
   ]
  },
  {
   "cell_type": "code",
   "execution_count": null,
   "id": "2fa0298b-a332-4365-86ee-598079288ced",
   "metadata": {},
   "outputs": [],
   "source": [
    "import statsmodels.api as sm\n",
    "\n",
    "\n",
    "ma_model = sm.tsa.ARIMA(monthly_avg_co['CO2'], order=(1, 0, 1))\n",
    "ma_result = ma_model.fit()\n",
    "\n",
    "# Display the summary of the MA model\n",
    "print(ma_result.summary())"
   ]
  },
  {
   "cell_type": "markdown",
   "id": "2d7d2782-9222-42d0-90d3-935c82554044",
   "metadata": {},
   "source": [
    "# Seasonal ARIMA (SARIMA)"
   ]
  },
  {
   "cell_type": "code",
   "execution_count": null,
   "id": "1cbbfd8b-2c91-4352-bcd1-e21f414107c1",
   "metadata": {},
   "outputs": [],
   "source": [
    "import pandas as pd\n",
    "import statsmodels.api as sm\n",
    "\n",
    "# Load the Vega dataset\n",
    "df = pd.read_csv(\"https://raw.githubusercontent.com/stanfordnlp/plot-interface/master/public/data/co2-concentration.csv\")\n",
    "\n",
    "# Set the date as the index and convert to datetime\n",
    "df['Date'] = pd.to_datetime(df['Date'])\n",
    "df.set_index('Date', inplace=True)\n",
    "\n",
    "# Resample to monthly average and take the first difference to make it stationary\n",
    "monthly_avg_co = df.resample('M').mean()\n",
    "monthly_avg_co_diff = monthly_avg_co.diff().dropna()"
   ]
  },
  {
   "cell_type": "code",
   "execution_count": null,
   "id": "f7982102-444d-4a2e-b383-b1004467582a",
   "metadata": {},
   "outputs": [],
   "source": [
    "df.plot()"
   ]
  },
  {
   "cell_type": "code",
   "execution_count": null,
   "id": "386bd6b6-1ef4-4754-a4d5-1f6669c8d4c4",
   "metadata": {},
   "outputs": [],
   "source": [
    "\n",
    "# Define the SARIMA model - adjust p, d, q and seasonal_order parameters as needed\n",
    "# Example parameters: p=1, d=1, q=1 for the non-seasonal part; \n",
    "# P=1, D=1, Q=1, s=12 for the seasonal part (assuming yearly seasonality)\n",
    "model = sm.tsa.SARIMAX(monthly_avg_co_diff, \n",
    "                       order=(2, 1, 1), \n",
    "                       seasonal_order=(1, 1, 1, 12))\n",
    "\n",
    "# Fit the model\n",
    "sarima_result = model.fit()\n",
    "\n",
    "# Display the summary of the model\n",
    "print(sarima_result.summary())\n"
   ]
  },
  {
   "cell_type": "code",
   "execution_count": null,
   "id": "a5616496-9551-412d-b992-08c7c6b2e420",
   "metadata": {},
   "outputs": [],
   "source": []
  }
 ],
 "metadata": {
  "celltoolbar": "Slideshow",
  "kernelspec": {
   "display_name": "anaconda-2024.02-py310",
   "language": "python",
   "name": "conda-env-anaconda-2024.02-py310-py"
  },
  "language_info": {
   "codemirror_mode": {
    "name": "ipython",
    "version": 3
   },
   "file_extension": ".py",
   "mimetype": "text/x-python",
   "name": "python",
   "nbconvert_exporter": "python",
   "pygments_lexer": "ipython3",
   "version": "3.12.3 (main, Apr  9 2024, 08:09:14) [Clang 15.0.0 (clang-1500.3.9.4)]"
  },
  "vscode": {
   "interpreter": {
    "hash": "b0fa6594d8f4cbf19f97940f81e996739fb7646882a419484c72d19e05852a7e"
   }
  }
 },
 "nbformat": 4,
 "nbformat_minor": 5
}
