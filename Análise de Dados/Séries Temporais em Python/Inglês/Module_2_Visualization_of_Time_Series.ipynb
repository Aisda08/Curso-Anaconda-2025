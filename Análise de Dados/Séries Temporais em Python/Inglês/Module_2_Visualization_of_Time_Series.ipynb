{
 "cells": [
  {
   "cell_type": "markdown",
   "id": "5d246029",
   "metadata": {
    "slideshow": {
     "slide_type": "slide"
    }
   },
   "source": [
    "# Visualization of Time Series"
   ]
  },
  {
   "cell_type": "code",
   "execution_count": null,
   "id": "3b5694fb",
   "metadata": {
    "slideshow": {
     "slide_type": "subslide"
    }
   },
   "outputs": [],
   "source": [
    "from statsmodels.tsa.stattools import acf\n",
    "import pandas as pd\n",
    "\n",
    "\n",
    "df = pd.read_csv(\"https://www.alphavantage.co/query?function=TIME_SERIES_DAILY&symbol=IBM&apikey=demo&datatype=csv\", parse_dates=['timestamp'], index_col = 'timestamp')\n",
    "\n",
    "df.head()"
   ]
  },
  {
   "cell_type": "markdown",
   "id": "a3e7e065",
   "metadata": {
    "slideshow": {
     "slide_type": "slide"
    }
   },
   "source": [
    "## Line plots"
   ]
  },
  {
   "cell_type": "code",
   "execution_count": null,
   "id": "6f63f9e3",
   "metadata": {
    "slideshow": {
     "slide_type": "subslide"
    }
   },
   "outputs": [],
   "source": [
    "df = df.asfreq('B')\n",
    "\n",
    "df['close'] = df['close'].fillna(method='ffill')\n",
    "\n",
    "df['close'].plot()\n",
    "\n"
   ]
  },
  {
   "cell_type": "code",
   "execution_count": null,
   "id": "2aae193c-85d7-47d1-9996-6ce2d318535c",
   "metadata": {},
   "outputs": [],
   "source": [
    "import hvplot.pandas\n",
    "\n",
    "df['close'].hvplot()"
   ]
  },
  {
   "cell_type": "markdown",
   "id": "ddf91b87",
   "metadata": {
    "slideshow": {
     "slide_type": "slide"
    }
   },
   "source": [
    "## Seasonal decomposition plots"
   ]
  },
  {
   "cell_type": "code",
   "execution_count": null,
   "id": "3f50a953",
   "metadata": {
    "slideshow": {
     "slide_type": "subslide"
    }
   },
   "outputs": [],
   "source": [
    "from statsmodels.tsa.seasonal import seasonal_decompose\n",
    "import matplotlib.pyplot as plt\n",
    "\n",
    "# Decompose the time series\n",
    "decomposition = seasonal_decompose(df['close'], model='additive')\n",
    "\n",
    "# Plot the decomposition\n",
    "fig, (ax1, ax2, ax3, ax4) = plt.subplots(4, 1, figsize=(12, 8))\n",
    "df['close'].plot(ax=ax1, title='Original Time Series')\n",
    "ax1.set_ylabel('Value')\n",
    "decomposition.trend.plot(ax=ax2, title='Trend Component')\n",
    "ax2.set_ylabel('Trend')\n",
    "decomposition.seasonal.plot(ax=ax3, title='Seasonal Component')\n",
    "ax3.set_ylabel('Seasonality')\n",
    "decomposition.resid.plot(ax=ax4, title='Residuals')\n",
    "ax4.set_ylabel('Residuals')\n",
    "\n",
    "plt.tight_layout()\n",
    "plt.show()"
   ]
  },
  {
   "cell_type": "markdown",
   "id": "cbaeaf49",
   "metadata": {
    "slideshow": {
     "slide_type": "slide"
    }
   },
   "source": [
    "## Autocorrelation and partial autocorrelation plots"
   ]
  },
  {
   "cell_type": "code",
   "execution_count": null,
   "id": "d4762d7e",
   "metadata": {
    "slideshow": {
     "slide_type": "subslide"
    }
   },
   "outputs": [],
   "source": [
    "import pandas as pd\n",
    "import matplotlib.pyplot as plt\n",
    "import statsmodels.api as sm\n",
    "\n",
    "\n",
    "sm.graphics.tsa.plot_acf(df.close.diff().dropna().squeeze(), lags=50)"
   ]
  },
  {
   "cell_type": "code",
   "execution_count": null,
   "id": "95da6bd2-21b3-40b7-937e-cde9a3e8c2a9",
   "metadata": {},
   "outputs": [],
   "source": [
    "df.close.plot()"
   ]
  }
 ],
 "metadata": {
  "celltoolbar": "Slideshow",
  "kernelspec": {
   "display_name": "anaconda-2024.02-py310",
   "language": "python",
   "name": "conda-env-anaconda-2024.02-py310-py"
  },
  "language_info": {
   "codemirror_mode": {
    "name": "ipython",
    "version": 3
   },
   "file_extension": ".py",
   "mimetype": "text/x-python",
   "name": "python",
   "nbconvert_exporter": "python",
   "pygments_lexer": "ipython3",
   "version": "3.11.4 (main, Jun 20 2023, 17:37:48) [Clang 14.0.0 (clang-1400.0.29.202)]"
  },
  "vscode": {
   "interpreter": {
    "hash": "b0fa6594d8f4cbf19f97940f81e996739fb7646882a419484c72d19e05852a7e"
   }
  }
 },
 "nbformat": 4,
 "nbformat_minor": 5
}
