{
 "cells": [
  {
   "cell_type": "markdown",
   "id": "5d246029",
   "metadata": {
    "slideshow": {
     "slide_type": "slide"
    }
   },
   "source": [
    "# Model Evaluation and Validation"
   ]
  },
  {
   "cell_type": "markdown",
   "id": "4b511740-c5ab-4893-bc5b-950b3b5b3c7a",
   "metadata": {
    "slideshow": {
     "slide_type": "slide"
    },
    "tags": []
   },
   "source": [
    "# Why Split Data into Training and Test Datasets?\n",
    "\n",
    "## Introduction\n",
    "When developing machine learning models, one of the key steps is to split the available data into training and test datasets. This practice is crucial for several reasons, which will be outlined below.\n",
    "\n",
    "## Reasons for Splitting Data\n",
    "\n",
    "### 1. **Model Evaluation**\n",
    "\n",
    "### 2. **Overfitting Prevention**\n",
    "\n",
    "### 3. **Model Tuning**\n",
    "\n",
    "### 4. **Cross-validation**\n",
    "\n",
    "### 5. **Fair Comparison**"
   ]
  },
  {
   "cell_type": "code",
   "execution_count": null,
   "id": "172f68db-a421-4aca-ae21-96e494e5d469",
   "metadata": {},
   "outputs": [],
   "source": [
    "import pandas as pd\n",
    "import requests\n",
    "from io import StringIO\n",
    "\n",
    "df = pd.read_csv(\"https://raw.githubusercontent.com/datasets/cpi-us/main/data/cpiai.csv\")\n",
    "\n",
    "print(df)\n",
    "# Extract and set the 'year' column as the index with DateTime format\n",
    "df['Date'] = pd.to_datetime(df['Date'])\n",
    "df.dropna(inplace=True)\n",
    "df.set_index('Date', inplace=True)\n",
    "df.sort_index(inplace = True)\n",
    "\n",
    "df = df[\"1990-01-01\":\"2014-01-01\"]\n",
    "\n",
    "\n",
    "# Select the 'Index' column for monthly CPI levels\n",
    "cpi_monthly = df['Inflation'].resample('M').mean()\n",
    "\n",
    "# Display the first few rows\n",
    "print(cpi_monthly.head())\n",
    "\n",
    "cpi_monthly = cpi_monthly.diff().dropna()\n",
    "\n",
    "# Split the data into train and test sets based on the split point\n",
    "train = cpi_monthly.iloc[:round(len(cpi_monthly)/2)]\n",
    "test = cpi_monthly.iloc[round(len(cpi_monthly)/2):]\n",
    "\n",
    "# Display the shapes of the train and test sets\n",
    "print(\"Train set shape:\", train.shape)\n",
    "print(\"Test set shape:\", test.shape)\n"
   ]
  },
  {
   "cell_type": "code",
   "execution_count": null,
   "id": "6c7d7a18-b1eb-453e-a0e4-0f7806a70e6d",
   "metadata": {},
   "outputs": [],
   "source": [
    "train.sort_index(inplace = True)\n",
    "train.head()"
   ]
  },
  {
   "cell_type": "code",
   "execution_count": null,
   "id": "937e4ef2-c72d-4b03-b3c7-c5e0ad3bd5b8",
   "metadata": {
    "slideshow": {
     "slide_type": "slide"
    },
    "tags": []
   },
   "outputs": [],
   "source": [
    "train.plot()"
   ]
  },
  {
   "cell_type": "code",
   "execution_count": null,
   "id": "5b18bf75-476a-4ce8-ab2e-4285e9d74203",
   "metadata": {},
   "outputs": [],
   "source": [
    "len(test)"
   ]
  },
  {
   "cell_type": "code",
   "execution_count": null,
   "id": "a43018d3-e54b-421a-89be-9b8d5a12629d",
   "metadata": {
    "slideshow": {
     "slide_type": "slide"
    },
    "tags": []
   },
   "outputs": [],
   "source": [
    "from statsmodels.tsa.ar_model import AutoReg\n",
    "import statsmodels.api as sm\n",
    "from statsmodels.tsa.stattools import adfuller\n",
    "\n",
    "# Ensure the data is appropriate for modeling\n",
    "train.dropna(inplace= True) # Drop any missing values\n",
    "\n",
    "# Fit an Autoregressive Model (AR model)\n",
    "ar_model = sm.tsa.ARIMA(train, order=(2, 0, 1))\n",
    "ar_result = ar_model.fit()\n",
    "\n",
    "print(ar_result.summary())"
   ]
  },
  {
   "cell_type": "code",
   "execution_count": null,
   "id": "b41adaca-51fd-4005-ad88-50c172377905",
   "metadata": {},
   "outputs": [],
   "source": [
    "train.tail()"
   ]
  },
  {
   "cell_type": "code",
   "execution_count": null,
   "id": "b43b941a-f10f-4c0c-abdf-9191d2da2aa0",
   "metadata": {},
   "outputs": [],
   "source": [
    "ar_result.forecast(3)"
   ]
  },
  {
   "cell_type": "code",
   "execution_count": null,
   "id": "bb7cdad2-836a-49af-87b1-830d42c1bab1",
   "metadata": {},
   "outputs": [],
   "source": [
    "test.head()"
   ]
  },
  {
   "cell_type": "code",
   "execution_count": null,
   "id": "ace26095-466b-44f7-a4aa-66edb657fd96",
   "metadata": {
    "slideshow": {
     "slide_type": "slide"
    },
    "tags": []
   },
   "outputs": [],
   "source": [
    "from statsmodels.tsa.arima.model import ARIMA\n",
    "import numpy as np\n",
    "import pandas as pd\n",
    "import statsmodels.api as sm\n",
    "from sklearn.metrics import mean_squared_error, mean_absolute_error\n",
    "\n",
    "# Ensure the data is appropriate for modeling\n",
    "train.dropna(inplace=True)  # Drop missing values from the training data\n",
    "\n",
    "# Fit an Autoregressive Integrated Moving Average (ARIMA) Model\n",
    "arima_model = ARIMA(train, order=(2, 0, 1))\n",
    "arima_result = arima_model.fit()\n",
    "\n",
    "# Predictions\n",
    "# Manually set the frequency of the time series data if it's known\n",
    "freq = 'M'  # Replace 'D' with the appropriate frequency of your data\n",
    "\n",
    "# Calculate the start and end points for predictions\n",
    "start = train.index[-1] + pd.tseries.frequencies.to_offset(freq)\n",
    "end = start + (len(test) - 1) * pd.tseries.frequencies.to_offset(freq)\n",
    "\n",
    "predictions = arima_result.predict(start=start, end=end)\n",
    "\n",
    "# Ensure your 'test' data is prepared similarly to 'train' data\n",
    "test_prepared = test.dropna()\n",
    "\n",
    "# Compute MSE, RMSE, and MAPE\n",
    "mse = mean_squared_error(test_prepared, predictions)\n",
    "rmse = np.sqrt(mse)\n",
    "#mape = np.mean(np.abs((test_prepared - predictions) / test_prepared)) * 100\n",
    "\n",
    "print(\"MSE:\", mse)\n",
    "print(\"RMSE:\", rmse)\n",
    "#print(\"MAPE:\", mape)"
   ]
  },
  {
   "cell_type": "code",
   "execution_count": null,
   "id": "b17bf58c-4413-48f3-94f1-1855db5492b5",
   "metadata": {},
   "outputs": [],
   "source": [
    "print(pd.concat([test_prepared, arima_result.forecast(len(test_prepared))], axis = 1))"
   ]
  },
  {
   "cell_type": "markdown",
   "id": "a4b8c0cd-ffb4-489c-b44e-1e75c830636b",
   "metadata": {
    "slideshow": {
     "slide_type": "slide"
    },
    "tags": []
   },
   "source": [
    "# Understanding Error Metrics: MSE, RMSE, and MAPE\n",
    "\n",
    "## Mean Squared Error (MSE)\n",
    "- **Formula:** \n",
    "  $ \\text{MSE} = \\frac{1}{n}\\sum_{i=1}^{n}(Y_i - \\hat{Y}_i)^2 $\n",
    "  \n",
    "## Root Mean Squared Error (RMSE)\n",
    "- **Formula:** \n",
    "  $ \\text{RMSE} = \\sqrt{\\frac{1}{n}\\sum_{i=1}^{n}(Y_i - \\hat{Y}_i)^2} $\n",
    "\n",
    "## Mean Absolute Percent Error (MAPE)\n",
    "- **Formula:** \n",
    "  $ \\text{MAPE} = \\frac{100\\%}{n}\\sum_{i=1}^{n} \\left| \\frac{Y_i - \\hat{Y}_i}{Y_i} \\right| $\n",
    "- **Interpretation:** MAPE is easy to interpret as a percentage. Lower values of MAPE indicate better fit. MAPE is scale-independent, making it particularly useful for comparing accuracy across different datasets."
   ]
  }
 ],
 "metadata": {
  "celltoolbar": "Slideshow",
  "kernelspec": {
   "display_name": "anaconda-2024.02-py310",
   "language": "python",
   "name": "conda-env-anaconda-2024.02-py310-py"
  },
  "language_info": {
   "codemirror_mode": {
    "name": "ipython",
    "version": 3
   },
   "file_extension": ".py",
   "mimetype": "text/x-python",
   "name": "python",
   "nbconvert_exporter": "python",
   "pygments_lexer": "ipython3",
   "version": "3.11.4 (main, Jun 20 2023, 17:37:48) [Clang 14.0.0 (clang-1400.0.29.202)]"
  },
  "vscode": {
   "interpreter": {
    "hash": "b0fa6594d8f4cbf19f97940f81e996739fb7646882a419484c72d19e05852a7e"
   }
  }
 },
 "nbformat": 4,
 "nbformat_minor": 5
}
