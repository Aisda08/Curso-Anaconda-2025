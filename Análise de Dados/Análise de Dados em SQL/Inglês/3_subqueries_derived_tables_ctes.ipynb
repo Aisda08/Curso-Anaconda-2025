{
 "cells": [
  {
   "cell_type": "markdown",
   "id": "16fa5e3323cf571a",
   "metadata": {},
   "source": [
    "# Subqueries, Derived Tables, and Common Table Expressions"
   ]
  },
  {
   "cell_type": "markdown",
   "id": "cc39bb3ba49db8fa",
   "metadata": {},
   "source": [
    "For this section, we are going to learn some more advanced patterns for embedding queries inside of queries. This can create some helpful tools for data analysis, including the replacement of missing values. \n",
    "\n",
    "Let's first start with the basics of subqueries and then escalate to derived tables and common table expressions. \n",
    "\n",
    "Connect to the `company_operations.db` database and let's focus on the `WEATHER_MONITOR` table first. "
   ]
  },
  {
   "cell_type": "code",
   "execution_count": null,
   "id": "550dee48ccfa65b6",
   "metadata": {},
   "outputs": [],
   "source": [
    "import sqlite3\n",
    "import pandas as pd \n",
    "\n",
    "conn = sqlite3.connect('company_operations.db')\n",
    "\n",
    "pd.read_sql(\"SELECT * FROM WEATHER_MONITOR LIMIT 10\", conn)"
   ]
  },
  {
   "cell_type": "markdown",
   "id": "54ebd5a39c73b014",
   "metadata": {},
   "source": [
    "## Subqueries"
   ]
  },
  {
   "cell_type": "markdown",
   "id": "71979e7ea3cf1773",
   "metadata": {},
   "source": [
    "Notice how the `TEMPERATURE` column has missing null values. There are not a lot. Just 3 records. "
   ]
  },
  {
   "cell_type": "code",
   "execution_count": null,
   "id": "2c610f5098bbb7f6",
   "metadata": {},
   "outputs": [],
   "source": [
    "sql = \"\"\"\n",
    "SELECT * FROM WEATHER_MONITOR\n",
    "WHERE TEMPERATURE IS NULL \n",
    "\"\"\"\n",
    "            \n",
    "pd.read_sql(sql, conn)\n"
   ]
  },
  {
   "cell_type": "markdown",
   "id": "b0724573284d9aa1",
   "metadata": {},
   "source": [
    "Let's say we wanted to replace these null values with the average `TEMPERATURE` across all records. Perhaps we would do this so we don't throw away the three records and still use them for modeling. We can do this using a **scalar subquery** like this, which embeds a query returning a single value inside a query. "
   ]
  },
  {
   "cell_type": "code",
   "execution_count": null,
   "id": "a133c67cfba21a93",
   "metadata": {},
   "outputs": [],
   "source": [
    "sql = \"\"\"\n",
    "SELECT ID, \n",
    "REPORT_CODE, \n",
    "REPORT_DATE, \n",
    "LOCATION_ID, \n",
    "\n",
    "CASE WHEN TEMPERATURE IS NULL THEN (SELECT AVG(TEMPERATURE) FROM WEATHER_MONITOR) \n",
    "     ELSE TEMPERATURE \n",
    "END AS TEMPERATURE_IMPUTED\n",
    "\n",
    "FROM WEATHER_MONITOR\n",
    "WHERE TEMPERATURE IS NULL \n",
    "\"\"\"\n",
    "            \n",
    "pd.read_sql(sql, conn)\n"
   ]
  },
  {
   "cell_type": "markdown",
   "id": "92d16aff972a6751",
   "metadata": {},
   "source": [
    "Perhaps it would be more accurate to account for the month and year, and only pull averages on fields matching those two attributes. After all, notice how the average temperature varies by `YEAR` and `MONTH`. Note that there is no `YEAR` and `MONTH` field as we can infer that from the `REPORT_DATE` field. In SQLite, the way we do this is use `strftime()` with a [special pattern syntax](https://www.sqlite.org/lang_datefunc.html) to convert date and time elements. We use `%Y` for the year and the `%m` for the month. "
   ]
  },
  {
   "cell_type": "code",
   "execution_count": null,
   "id": "308451066762722e",
   "metadata": {},
   "outputs": [],
   "source": [
    "sql = \"\"\" \n",
    "SELECT strftime('%Y', REPORT_DATE) AS YEAR, \n",
    "strftime('%m', REPORT_DATE) AS MONTH,\n",
    "AVG(TEMPERATURE) AS AVG_TEMP \n",
    "FROM WEATHER_MONITOR\n",
    "GROUP BY 1, 2\n",
    "\"\"\"\n",
    "\n",
    "pd.read_sql(sql, conn)"
   ]
  },
  {
   "cell_type": "markdown",
   "id": "e585fb05998473eb",
   "metadata": {},
   "source": [
    "This is a little tricky. In our correlated subquery, we are going to work with two instances of the `WEATHER_MONITOR` table, where we will alias the subquery instance `wm2` and the outer instance `wm1`. We can then make sure the subquery kicks off for every record, only querying other records matching the year and month. "
   ]
  },
  {
   "cell_type": "code",
   "execution_count": null,
   "id": "6b0082229e99675",
   "metadata": {},
   "outputs": [],
   "source": [
    "sql = \"\"\"\n",
    "SELECT ID, \n",
    "REPORT_CODE, \n",
    "REPORT_DATE, \n",
    "LOCATION_ID, \n",
    "\n",
    "\n",
    "CASE WHEN TEMPERATURE IS NULL THEN \n",
    "    (\n",
    "        SELECT AVG(TEMPERATURE) FROM WEATHER_MONITOR wm2 \n",
    "        WHERE strftime('%Y', wm1.REPORT_DATE) = strftime('%Y', wm2.REPORT_DATE) -- year must match outer record\n",
    "        AND strftime('%m', wm1.REPORT_DATE) = strftime('%m', wm2.REPORT_DATE) -- month must match outer record\n",
    "     ) \n",
    "     ELSE TEMPERATURE \n",
    "END AS TEMPERATURE_IMPUTED\n",
    "\n",
    "FROM WEATHER_MONITOR wm1 \n",
    "WHERE TEMPERATURE IS NULL \n",
    "\"\"\"\n",
    "            \n",
    "pd.read_sql(sql, conn)\n"
   ]
  },
  {
   "cell_type": "markdown",
   "id": "f425f2036a0a1252",
   "metadata": {},
   "source": [
    "There are more efficient ways of doing this, including derived tables and common table expressions. We will visit those in a moment.\n",
    "\n",
    "Let's turn our attention to two other tables, the `CUSTOMER` and `CUSTOMER_ORDER`. "
   ]
  },
  {
   "cell_type": "code",
   "execution_count": null,
   "id": "3ddb5bcdf877d229",
   "metadata": {},
   "outputs": [],
   "source": [
    "pd.read_sql(\"SELECT * FROM CUSTOMER\", conn)"
   ]
  },
  {
   "cell_type": "code",
   "execution_count": null,
   "id": "b435e3ba53a7d0da",
   "metadata": {},
   "outputs": [],
   "source": [
    "pd.read_sql(\"SELECT * FROM CUSTOMER_ORDER\", conn)"
   ]
  },
  {
   "cell_type": "markdown",
   "id": "90fe237804239d01",
   "metadata": {},
   "source": [
    "These two tables are linked by the `CUSTOMER_ID`, again meaning that each `CUSTOMER_ORDER` record has a `CUSTOMER_ID` associated with it. We can then use that `CUSTOMER_ID` value to look up the `CUSTOMER` details. \n",
    "\n",
    "What we are interested in achieving here is finding `CUSTOMER` records that have no `CUSTOMER_ORDER` records associated with them. The most rudimentary way of doing this is with a `LEFT JOIN` operator, which will include all records in the \"left\" table even if there are no records to join to in the \"right\" table. \"Left\" and \"right\" are determine by which side a table is specified against the `LEFT JOIN` operator keywords. If no records exist in the right table, those fields from the right table will be `NULL` in a placeholder record. We can check if those fields in the right table are null as a result of the `LEFT JOIN`. Here's that technique to find customers that have no order. "
   ]
  },
  {
   "cell_type": "code",
   "execution_count": null,
   "id": "bedcd59ce8faec82",
   "metadata": {},
   "outputs": [],
   "source": [
    "sql = \"\"\"\n",
    "SELECT CUSTOMER.CUSTOMER_ID, \n",
    "CUSTOMER_NAME\n",
    "\n",
    "FROM CUSTOMER LEFT JOIN CUSTOMER_ORDER\n",
    "ON CUSTOMER.CUSTOMER_ID = CUSTOMER_ORDER.CUSTOMER_ID\n",
    "\n",
    "WHERE CUSTOMER_ORDER.CUSTOMER_ID IS NULL\n",
    "\"\"\"\n",
    "            \n",
    "pd.read_sql(sql, conn)\n"
   ]
  },
  {
   "cell_type": "markdown",
   "id": "41b7ce6310d60b9",
   "metadata": {},
   "source": [
    "An arguably more elegant way to achieve this is to use subqueries. We can get a set of `CUSTOMER_ID` values in a subqueries and check for customers that do not have a `CUSTOMER_ID` in those `CUSTOMER_ORDER` records. "
   ]
  },
  {
   "cell_type": "code",
   "execution_count": null,
   "id": "31ea8e4a91ac873",
   "metadata": {},
   "outputs": [],
   "source": [
    "sql = \"\"\"\n",
    "SELECT * FROM CUSTOMER \n",
    "WHERE CUSTOMER_ID NOT IN (SELECT DISTINCT CUSTOMER_ID FROM CUSTOMER_ORDER)\n",
    "\"\"\"\n",
    "\n",
    "pd.read_sql(sql, conn)"
   ]
  },
  {
   "cell_type": "markdown",
   "id": "5be73981912386d1",
   "metadata": {},
   "source": [
    "Another way to achieve this is to use the `EXISTS` (or `NOT EXISTS`) operator to find any existing `CUSTOMER` records that meet the `WHERE` condition, looking for `CUSTOMER_ORDER` records with that `CUSTOMER_ID`. We can leverage the fact it will not do a full scan of the table, but rather stop the moment it finds a single record. "
   ]
  },
  {
   "cell_type": "code",
   "execution_count": null,
   "id": "3c244fe64b56c7c2",
   "metadata": {},
   "outputs": [],
   "source": [
    "sql = \"\"\"\n",
    "SELECT * FROM CUSTOMER c \n",
    "WHERE NOT EXISTS (SELECT * FROM CUSTOMER_ORDER WHERE CUSTOMER_ID = c.CUSTOMER_ID)\n",
    "\"\"\"\n",
    "\n",
    "pd.read_sql(sql, conn)"
   ]
  },
  {
   "cell_type": "markdown",
   "id": "d7433af0e5258ff7",
   "metadata": {},
   "source": [
    "Allow me to slip in just one more example. We can also use subqueries to return only orders for the latest `ORDER_DATE`. "
   ]
  },
  {
   "cell_type": "code",
   "execution_count": null,
   "id": "e1316b1fc9efa257",
   "metadata": {},
   "outputs": [],
   "source": [
    "sql = \"\"\"\n",
    "SELECT * FROM CUSTOMER_ORDER\n",
    "WHERE ORDER_DATE = (SELECT MAX(ORDER_DATE) FROM CUSTOMER_ORDER)\n",
    "\"\"\"\n",
    "\n",
    "pd.read_sql(sql, conn)"
   ]
  },
  {
   "cell_type": "markdown",
   "id": "ddf0e76fe03c80f7",
   "metadata": {},
   "source": [
    "## Derived Tables "
   ]
  },
  {
   "cell_type": "markdown",
   "id": "f1d57346520ef09a",
   "metadata": {},
   "source": [
    "Recall we demonstrated this query showing the average temperature by year and month. "
   ]
  },
  {
   "cell_type": "code",
   "execution_count": null,
   "id": "29c0d41de8f9e26",
   "metadata": {},
   "outputs": [],
   "source": [
    "sql = \"\"\" \n",
    "SELECT strftime('%Y', REPORT_DATE) AS YEAR, \n",
    "strftime('%m', REPORT_DATE) AS MONTH,\n",
    "AVG(TEMPERATURE) AS AVG_TEMP \n",
    "FROM WEATHER_MONITOR\n",
    "GROUP BY 1, 2\n",
    "\"\"\"\n",
    "\n",
    "pd.read_sql(sql, conn)"
   ]
  },
  {
   "cell_type": "markdown",
   "id": "ba348d221045e0fc",
   "metadata": {},
   "source": [
    "What if we were to join this \"table\" (backed by a `SELECT` query) to `WEATHER_MONITOR` and impute those three missing `TEMPERATURE` values with the averages for that year and month? Querying off another `SELECT` query in this fashion, and treating it like a table, is known as a **derived table**. Note below we embed that `SELECT` query into the `INNER JOIN` and treat it like a table, joining on the year and month. "
   ]
  },
  {
   "cell_type": "code",
   "execution_count": null,
   "id": "e2db12c957ce27e7",
   "metadata": {},
   "outputs": [],
   "source": [
    "sql = \"\"\"\n",
    "SELECT ID, \n",
    "REPORT_CODE, \n",
    "REPORT_DATE, \n",
    "LOCATION_ID, \n",
    "CASE WHEN TEMPERATURE IS NULL THEN AVG_TEMP ELSE TEMPERATURE END AS TEMPERATURE_IMPUTED\n",
    "\n",
    "FROM WEATHER_MONITOR INNER JOIN ( \n",
    "    SELECT strftime('%Y', REPORT_DATE) AS YEAR, \n",
    "    strftime('%m', REPORT_DATE) AS MONTH,\n",
    "    AVG(TEMPERATURE) AS AVG_TEMP \n",
    "    FROM WEATHER_MONITOR\n",
    "    GROUP BY 1, 2\n",
    ") AS temp_avgs\n",
    "\n",
    "ON strftime('%Y', REPORT_DATE) = temp_avgs.YEAR\n",
    "AND strftime('%m', REPORT_DATE) = temp_avgs.MONTH\n",
    "\n",
    "WHERE TEMPERATURE IS NULL \n",
    "\"\"\"\n",
    "            \n",
    "pd.read_sql(sql, conn)\n"
   ]
  },
  {
   "cell_type": "markdown",
   "id": "932855dc612257f3",
   "metadata": {},
   "source": [
    "There is an advantage here in that we calculate these averages in advance, and then look them up in the results in the final `SELECT` query. However derived tables can be nested in several tiers, creating an anti-pattern called the **pyramid of doom**. We can nest several derived tables in a query, but it gets messy and difficult to sift through and manage. For this reason, the modern SQL developer should opt to use common table expressions. "
   ]
  },
  {
   "cell_type": "markdown",
   "id": "f2b871f9cf4291ea",
   "metadata": {},
   "source": [
    "## Common Table Expressions (CTE's) "
   ]
  },
  {
   "cell_type": "markdown",
   "id": "946db77082c19426",
   "metadata": {},
   "source": [
    "**Common Table Expressions (CTE's)** are your best friend as a SQL developer and analyst. They will break down complex queries into easily digestible steps. Here is our previous example imputating averages for missing values for `TEMPERATURE` in our `WEATHER_MONITOR` table, but using common table expressions. "
   ]
  },
  {
   "cell_type": "code",
   "execution_count": null,
   "id": "7414787976d4d888",
   "metadata": {},
   "outputs": [],
   "source": [
    "sql = \"\"\"\n",
    "WITH temp_avgs AS (\n",
    "    SELECT strftime('%Y', REPORT_DATE) AS YEAR, \n",
    "    strftime('%m', REPORT_DATE) AS MONTH,\n",
    "    AVG(TEMPERATURE) AS AVG_TEMP \n",
    "    FROM WEATHER_MONITOR\n",
    "    GROUP BY 1, 2\n",
    ")\n",
    "\n",
    "SELECT ID, \n",
    "REPORT_CODE, \n",
    "REPORT_DATE, \n",
    "LOCATION_ID, \n",
    "CASE WHEN TEMPERATURE IS NULL THEN AVG_TEMP ELSE TEMPERATURE END AS TEMPERATURE_IMPUTED\n",
    "\n",
    "FROM WEATHER_MONITOR INNER JOIN temp_avgs\n",
    "\n",
    "ON strftime('%Y', REPORT_DATE) = temp_avgs.YEAR\n",
    "AND strftime('%m', REPORT_DATE) = temp_avgs.MONTH\n",
    "\n",
    "WHERE TEMPERATURE IS NULL \n",
    "\"\"\"\n",
    "            \n",
    "pd.read_sql(sql, conn)\n"
   ]
  },
  {
   "cell_type": "markdown",
   "id": "ad64cbf8b58f4db4",
   "metadata": {},
   "source": [
    "Notice how the `temp_avgs` can be declared in advance, treating it as a \"table\" named `temp_avgs` backed by a `SELECT` query. This is much cleaner than embedding it into the body of the main `SELECT` query. \n",
    "\n",
    "What's even better about common table expresions is one CTE can refer to a previous CTE, creating a \"chain\" of steps that breaks up complex logic without creating pyrmaids of doom. Below we further create a CTE imputing the missing temperatures, and then checking to see if the averages replaced those null values in the final query. "
   ]
  },
  {
   "cell_type": "code",
   "execution_count": null,
   "id": "c5a780d642eb9a29",
   "metadata": {},
   "outputs": [],
   "source": [
    "sql = \"\"\"\n",
    "WITH temp_avgs AS (\n",
    "    SELECT strftime('%Y', REPORT_DATE) AS YEAR, \n",
    "    strftime('%m', REPORT_DATE) AS MONTH,\n",
    "    AVG(TEMPERATURE) AS AVG_TEMP \n",
    "    FROM WEATHER_MONITOR\n",
    "    GROUP BY 1, 2\n",
    ") , \n",
    "\n",
    "missing_temps_imputed AS ( \n",
    "    SELECT ID, \n",
    "    REPORT_CODE, \n",
    "    REPORT_DATE, \n",
    "    LOCATION_ID, \n",
    "    CASE WHEN TEMPERATURE IS NULL THEN temp_avgs.AVG_TEMP ELSE TEMPERATURE END AS TEMPERATURE_IMPUTED\n",
    "    \n",
    "    FROM WEATHER_MONITOR INNER JOIN temp_avgs\n",
    "    \n",
    "    ON strftime('%Y', REPORT_DATE) = temp_avgs.YEAR \n",
    "    AND strftime('%m', REPORT_DATE)  = temp_avgs.MONTH\n",
    ")\n",
    "\n",
    "SELECT * FROM missing_temps_imputed\n",
    "WHERE ID IN (SELECT ID FROM WEATHER_MONITOR WHERE TEMPERATURE IS NULL)\n",
    "\"\"\"\n",
    "            \n",
    "pd.read_sql(sql, conn)\n"
   ]
  },
  {
   "cell_type": "markdown",
   "id": "60c3111e7c6325b7",
   "metadata": {},
   "source": [
    "## Exercise"
   ]
  },
  {
   "cell_type": "markdown",
   "id": "606a35a2771186c5",
   "metadata": {},
   "source": [
    "Rewrite this query below that shows total rain for each month/year alongside each `WEATHER_MONITOR` record, but as a common table expression rather than a correlated subquery. Take your time here, and label things however you want. "
   ]
  },
  {
   "cell_type": "code",
   "execution_count": null,
   "id": "6f2fb87c066fbe04",
   "metadata": {},
   "outputs": [],
   "source": [
    "sql = \"\"\"\n",
    "SELECT ID, \n",
    "REPORT_CODE, \n",
    "REPORT_DATE, \n",
    "LOCATION_ID, \n",
    "RAIN,\n",
    "(\n",
    "    SELECT SUM(RAIN) FROM WEATHER_MONITOR wm2 \n",
    "    WHERE strftime('%Y', wm1.REPORT_DATE) = strftime('%Y', wm2.REPORT_DATE) -- year must match outer record\n",
    "    AND strftime('%m', wm1.REPORT_DATE) = strftime('%m', wm2.REPORT_DATE) -- month must match outer record\n",
    ") AS RAIN_TOTAL_MONTH\n",
    "\n",
    "FROM WEATHER_MONITOR wm1 \n",
    "\"\"\"\n",
    "            \n",
    "pd.read_sql(sql, conn)\n"
   ]
  },
  {
   "cell_type": "markdown",
   "id": "434f4bc71013f34f",
   "metadata": {},
   "source": [
    "\n",
    "### SCROLL DOWN FOR ANSWER\n",
    "|<br>\n",
    "|<br>\n",
    "|<br>\n",
    "|<br>\n",
    "|<br>\n",
    "|<br>\n",
    "|<br>\n",
    "|<br>\n",
    "|<br>\n",
    "|<br>\n",
    "|<br>\n",
    "|<br>\n",
    "|<br>\n",
    "|<br>\n",
    "|<br>\n",
    "|<br>\n",
    "|<br>\n",
    "|<br>\n",
    "|<br>\n",
    "|<br>\n",
    "|<br>\n",
    "|<br>\n",
    "|<br>\n",
    "v "
   ]
  },
  {
   "cell_type": "code",
   "execution_count": null,
   "id": "fa399a73781c9cc",
   "metadata": {},
   "outputs": [],
   "source": [
    "sql = \"\"\" \n",
    "WITH rain_totals AS ( \n",
    "    SELECT strftime('%Y', REPORT_DATE) AS REPORT_YEAR, \n",
    "    strftime('%m', REPORT_DATE) AS REPORT_MONTH, \n",
    "    SUM(RAIN) AS TOTAL_RAIN \n",
    "    FROM WEATHER_MONITOR  \n",
    "    GROUP BY 1, 2 \n",
    ")\n",
    "\n",
    "SELECT ID, \n",
    "REPORT_CODE, \n",
    "REPORT_DATE, \n",
    "LOCATION_ID, \n",
    "RAIN,\n",
    "TOTAL_RAIN \n",
    "\n",
    "FROM WEATHER_MONITOR INNER JOIN rain_totals\n",
    "ON strftime('%Y', REPORT_DATE) = rain_totals.REPORT_YEAR\n",
    "AND strftime('%m', REPORT_DATE) = rain_totals.REPORT_MONTH\n",
    "\"\"\"\n",
    "            \n",
    "pd.read_sql(sql, conn)\n"
   ]
  }
 ],
 "metadata": {
  "kernelspec": {
   "display_name": "anaconda-2024.02-py310",
   "language": "python",
   "name": "conda-env-anaconda-2024.02-py310-py"
  },
  "language_info": {
   "codemirror_mode": {
    "name": "ipython",
    "version": 3
   },
   "file_extension": ".py",
   "mimetype": "text/x-python",
   "name": "python",
   "nbconvert_exporter": "python",
   "pygments_lexer": "ipython3",
   "version": "3.10.14"
  }
 },
 "nbformat": 4,
 "nbformat_minor": 5
}
