{
 "cells": [
  {
   "cell_type": "markdown",
   "id": "6db605a3d403873a",
   "metadata": {},
   "source": [
    "# Padrões de Junção Avançados"
   ]
  },
  {
   "cell_type": "markdown",
   "id": "499cad7ece3fe5fc",
   "metadata": {},
   "source": [
    "Nesta seção, abordaremos padrões de junção mais avançados que são úteis na análise de dados. Começaremos com uma breve revisão de `INNER JOIN`, `LEFT JOIN`, `RIGHT JOIN` e `FULL OUTER JOIN`.\n",
    "\n",
    "Vamos conectar ao banco de dados `company_operations.db`."
   ]
  },
  {
   "cell_type": "code",
   "execution_count": null,
   "id": "bf0249b5050d8d46",
   "metadata": {},
   "outputs": [],
   "source": [
    "import sqlite3\n",
    "import pandas as pd \n",
    "\n",
    "conn = sqlite3.connect('company_operations.db')\n"
   ]
  },
  {
   "cell_type": "markdown",
   "id": "1e3fa075b82c14fe",
   "metadata": {},
   "source": [
    "Vamos também ajustar o Pandas para exibir mais linhas e não truncá-las."
   ]
  },
  {
   "cell_type": "code",
   "execution_count": null,
   "id": "ef4bec6af1f3b85a",
   "metadata": {},
   "outputs": [],
   "source": [
    "pd.options.display.max_rows = 999"
   ]
  },
  {
   "cell_type": "markdown",
   "id": "f8ebda94d2e4fc56",
   "metadata": {},
   "source": [
    "## INNER JOIN, LEFT, RIGHT e FULL OUTER JOIN"
   ]
  },
  {
   "cell_type": "markdown",
   "id": "b4d4b944637e4f82",
   "metadata": {},
   "source": [
    "Usamos `INNER JOIN` e `LEFT JOIN` algumas vezes neste curso. Mas vamos revisar a diferença fundamental entre eles e, em seguida, como eles se estendem a `RIGHT JOIN` e `FULL OUTER JOIN`.\n",
    "\n",
    "Abaixo, unimos as tabelas `CUSTOMER` e `CUSTOMER_ORDER` usando um `INNER JOIN`. Isso nos permite trazer informações de `CUSTOMER` para mostrar junto com cada `CUSTOMER_ORDER`, como `CUSTOMER_NAME` e `SHIP_ADDRESS` (que é concatenado a partir de quatro campos)."
   ]
  },
  {
   "cell_type": "code",
   "execution_count": null,
   "id": "780c1d0b8d020598",
   "metadata": {},
   "outputs": [],
   "source": [
    "sql = \"\"\"\n",
    "SELECT CUSTOMER_ORDER_ID,\n",
    "CUSTOMER_NAME,\n",
    "ADDRESS || ' ' || CITY || ', ' || STATE || ' ' || ZIP AS SHIP_ADDRESS,\n",
    "ORDER_DATE,\n",
    "PRODUCT_ID,\n",
    "QUANTITY\n",
    "\n",
    "FROM CUSTOMER INNER JOIN CUSTOMER_ORDER\n",
    "ON CUSTOMER.CUSTOMER_ID = CUSTOMER_ORDER.CUSTOMER_ID\n",
    "\"\"\"\n",
    "\n",
    "pd.read_sql(sql, conn)"
   ]
  },
  {
   "cell_type": "markdown",
   "id": "265c99904d47eca4",
   "metadata": {},
   "source": [
    "> Observe que `INNER JOIN` também pode ser aliasado como `JOIN`. Eu, pessoalmente, não gosto de usar esse alias. Prefiro ser explícito sobre minha intenção de usar um `INNER JOIN`. Existem muitos tipos de junções e, quando vejo uma consulta SQL usando `JOIN` em vez de `INNER JOIN`, presumo que o programador não saiba que existem vários tipos de junções.\n",
    "\n",
    "No entanto, lembre-se de que existe um registro `CUSTOMER` sem nenhum registro `CUSTOMER_ORDER`."
   ]
  },
  {
   "cell_type": "code",
   "execution_count": null,
   "id": "575f464fcaabbed4",
   "metadata": {},
   "outputs": [],
   "source": [
    "sql = \"\"\"\n",
    "SELECT * FROM CUSTOMER \n",
    "WHERE CUSTOMER_ID NOT IN (SELECT DISTINCT CUSTOMER_ID FROM CUSTOMER_ORDER)\n",
    "\"\"\"\n",
    "\n",
    "pd.read_sql(sql, conn)"
   ]
  },
  {
   "cell_type": "markdown",
   "id": "94f402a13c93d42",
   "metadata": {},
   "source": [
    "Se quiséssemos um registro de espaço reservado para esse registro `CUSTOMER`, mesmo que não haja um registro `CUSTOMER_ORDER` para unir, podemos fazer isso usando um `LEFT JOIN`. Isso incluirá todos os registros na tabela \"esquerda\" (à esquerda das palavras-chave `LEFT JOIN`), mesmo que não haja registros para unir na tabela \"direita\" (à direita das palavras-chave `LEFT JOIN`). Quando não houver registros para unir na tabela \"direita\", esses campos da tabela \"direita\" serão nulos.\n",
    "\n",
    "Vamos classificar um desses campos `CUSTOMER_ORDER` para que os registros `NULL` resultantes do `LEFT JOIN` fiquem no topo."
   ]
  },
  {
   "cell_type": "code",
   "execution_count": null,
   "id": "a54395afa349bcac",
   "metadata": {},
   "outputs": [],
   "source": [
    "sql = \"\"\"\n",
    "SELECT CUSTOMER_ORDER_ID,\n",
    "CUSTOMER_NAME,\n",
    "ADDRESS || ' ' || CITY || ', ' || STATE || ' ' || ZIP AS SHIP_ADDRESS,\n",
    "ORDER_DATE,\n",
    "PRODUCT_ID,\n",
    "QUANTITY\n",
    "\n",
    "FROM CUSTOMER LEFT JOIN CUSTOMER_ORDER\n",
    "ON CUSTOMER.CUSTOMER_ID = CUSTOMER_ORDER.CUSTOMER_ID\n",
    "\n",
    "ORDER BY ORDER_DATE\n",
    "\"\"\"\n",
    "\n",
    "pd.read_sql(sql, conn)"
   ]
  },
  {
   "cell_type": "markdown",
   "id": "947cc15f6360098b",
   "metadata": {},
   "source": [
    "`LEFT JOIN` é uma abreviação de `LEFT OUTER JOIN`, então você também pode usar essas palavras-chave. Observe que elas são as mesmas.\n",
    "\n",
    "`RIGHT JOIN` (ou `RIGHT OUTER JOIN`) é exatamente o mesmo que `LEFT JOIN`, exceto que inverte a direção. Isso incluirá todos os registros na tabela `direita` (à direita das palavras-chave `RIGHT JOIN`), mesmo que não haja registros para unir na tabela `esquerda` (à direita das palavras-chave `RIGHT JOIN`). Quando não houver registros para unir na tabela `esquerda`, esses campos da tabela `esquerda` serão nulos.\n",
    "\n",
    "Podemos obter exatamente o mesmo resultado da nossa consulta `LEFT JOIN` anterior especificando `CUSTOMER_ORDER RIGHT JOIN CUSTOMER` em vez de `CUSTOMER LEFT JOIN CUSTOMER_ORDER`."
   ]
  },
  {
   "cell_type": "code",
   "execution_count": null,
   "id": "63dabdf5adcf656e",
   "metadata": {},
   "outputs": [],
   "source": [
    "sql = \"\"\"\n",
    "SELECT CUSTOMER_ORDER_ID,\n",
    "CUSTOMER_NAME,\n",
    "ADDRESS || ' ' || CITY || ', ' || STATE || ' ' || ZIP AS SHIP_ADDRESS,\n",
    "ORDER_DATE,\n",
    "PRODUCT_ID,\n",
    "QUANTITY\n",
    "\n",
    "FROM CUSTOMER_ORDER RIGHT JOIN CUSTOMER\n",
    "ON CUSTOMER.CUSTOMER_ID = CUSTOMER_ORDER.CUSTOMER_ID\n",
    "\n",
    "ORDER BY ORDER_DATE\n",
    "\"\"\"\n",
    "\n",
    "pd.read_sql(sql, conn)"
   ]
  },
  {
   "cell_type": "markdown",
   "id": "cbf1beb67ed770f6",
   "metadata": {},
   "source": [
    "Como qualquer consulta `RIGHT JOIN` pode ser composta como uma `LEFT JOIN`, ela raramente é usada. É uma prática recomendada usar uma `LEFT JOIN`. A `FULL OUTER JOIN` realiza uma `LEFT JOIN` e uma `RIGHT JOIN` simultaneamente, incluindo todos os registros das tabelas \"esquerda\" e \"direita\". Como registros órfãos são frequentemente ilegais em bancos de dados relacionais (por exemplo, um filho sem um pai, uma `CUSTOMER_ORDER` sem um `CUSTOMER` existente), ela raramente é usada. No entanto, é perfeitamente aceitável ter um pai sem um filho, como visto com um registro `CUSTOMER` sem registros `CUSTOMER_ORDER`.\n",
    "\n",
    "Também podemos unir mais de duas tabelas. Abaixo, estou unindo a uma terceira tabela chamada `PRODUCT` para obter informações do produto, como `PRODUCT_NAME` e `PRICE`. Preciso usar outro `LEFT JOIN` aqui em vez de um `INNER JOIN` porque o `PRODUCT_ID` será nulo para \"Alpha Medical\", já que não há pedidos. `LEFT JOIN` tolerará valores nulos em sua condição de junção, mas `RIGHT JOIN` os omitirá."
   ]
  },
  {
   "cell_type": "code",
   "execution_count": null,
   "id": "9ccba4b9a5d3213c",
   "metadata": {},
   "outputs": [],
   "source": [
    "sql = \"\"\"\n",
    "SELECT CUSTOMER_ORDER_ID,\n",
    "CUSTOMER_NAME,\n",
    "ADDRESS || ' ' || CITY || ', ' || STATE || ' ' || ZIP AS SHIP_ADDRESS,\n",
    "ORDER_DATE,\n",
    "PRODUCT.PRODUCT_ID,\n",
    "PRODUCT_NAME,\n",
    "PRICE,\n",
    "QUANTITY\n",
    "\n",
    "FROM CUSTOMER LEFT JOIN CUSTOMER_ORDER\n",
    "ON CUSTOMER.CUSTOMER_ID = CUSTOMER_ORDER.CUSTOMER_ID\n",
    "\n",
    "LEFT JOIN PRODUCT\n",
    "ON PRODUCT.PRODUCT_ID = CUSTOMER_ORDER.PRODUCT_ID\n",
    "\n",
    "ORDER BY ORDER_DATE\n",
    "\"\"\"\n",
    "\n",
    "pd.read_sql(sql, conn)"
   ]
  },
  {
   "cell_type": "markdown",
   "id": "18f33767784997ce",
   "metadata": {},
   "source": [
    "Com as três tabelas unidas, podemos introduzir um `GROUP BY` e algumas expressões para encontrar a receita total por `CUSTOMER`."
   ]
  },
  {
   "cell_type": "code",
   "execution_count": null,
   "id": "bdcdb06e23ff3e85",
   "metadata": {},
   "outputs": [],
   "source": [
    "sql = \"\"\"\n",
    "SELECT \n",
    "CUSTOMER.CUSTOMER_ID,\n",
    "CUSTOMER_NAME,\n",
    "COALESCE(SUM(PRICE * QUANTITY), 0) AS TOTAL_REVENUE\n",
    "\n",
    "FROM CUSTOMER LEFT JOIN CUSTOMER_ORDER\n",
    "ON CUSTOMER.CUSTOMER_ID = CUSTOMER_ORDER.CUSTOMER_ID\n",
    "\n",
    "LEFT JOIN PRODUCT\n",
    "ON PRODUCT.PRODUCT_ID = CUSTOMER_ORDER.PRODUCT_ID\n",
    "\n",
    "GROUP BY 1, 2\n",
    "\"\"\"\n",
    "\n",
    "pd.read_sql(sql, conn)"
   ]
  },
  {
   "cell_type": "markdown",
   "id": "e6761fdb648ea711",
   "metadata": {},
   "source": [
    "## Tabelas Voláteis/Temporárias"
   ]
  },
  {
   "cell_type": "markdown",
   "id": "b6ed5f580116c0df",
   "metadata": {},
   "source": [
    "Especialmente ao realizar análises de dados, pode haver momentos em que seja necessário injetar uma tabela temporária no banco de dados com alguns dados, geralmente para realizar a junção. Digamos que você tenha uma planilha de descontos que deseja conceder a determinados clientes para determinados produtos. Em vez de criar uma quantidade monstruosa de expressões `CASE` para lidar com isso, você pode criar uma **tabela temporária** que armazenará os dados no banco de dados até que você desconecte.\n",
    "\n",
    "Ela segue exatamente a mesma convenção `CREATE TABLE`, mas você a especifica como `CREATE TEMP TABLE`. Outras plataformas, como o Teradata, podem chamá-la de `VOLATILE TABLE`.\n",
    "\n",
    "Vamos primeiro criar um `DataFrame` do Pandas com nossos descontos."
   ]
  },
  {
   "cell_type": "code",
   "execution_count": null,
   "id": "aa34be8e15662c3e",
   "metadata": {},
   "outputs": [],
   "source": [
    "discounts = pd.DataFrame({\n",
    "    'customer_id' : [2,2,2,4,4,4,7,7,7,7,7],\n",
    "    'product_id' : [4,5,9,3,8,6,5,11,12,13,15],\n",
    "    'discounts' : [.1, .12, .2, .1, .3, .15, .05, .12, .15, .35, .05]\n",
    "})\n",
    "\n",
    "discounts"
   ]
  },
  {
   "cell_type": "markdown",
   "id": "554032d6db66e1ff",
   "metadata": {},
   "source": [
    "Em seguida, vamos criar nossa tabela temporária `DISCOUNT` e carregar o `DataFrame` do Pandas nela usando `executemany()` e um modelo `INSERT`."
   ]
  },
  {
   "cell_type": "code",
   "execution_count": null,
   "id": "21b3850732698932",
   "metadata": {},
   "outputs": [],
   "source": [
    "create_sql = \"\"\"\n",
    "CREATE TEMP TABLE DISCOUNT ( \n",
    "    CUSTOMER_ID INTEGER NOT NULL, \n",
    "    PRODUCT_ID INTEGER NOT NULL, \n",
    "    DISCOUNT_RATE DOUBLE NOT NULL\n",
    ");\n",
    "\"\"\"\n",
    "conn.execute(create_sql)\n",
    "\n",
    "insert_sql = 'INSERT INTO DISCOUNT (CUSTOMER_ID, PRODUCT_ID, DISCOUNT_RATE) VALUES (?, ?, ?)'\n",
    "conn.executemany(insert_sql, discounts.values)\n",
    "\n",
    "pd.read_sql(\"SELECT * FROM DISCOUNT\", conn)"
   ]
  },
  {
   "cell_type": "markdown",
   "id": "cc2736aa-10e4-4dad-b863-58109118158f",
   "metadata": {},
   "source": [
    "Agora podemos entrar na tabela `DESCONTO` e aplicar os descontos!"
   ]
  },
  {
   "cell_type": "code",
   "execution_count": null,
   "id": "f77705e0357595ae",
   "metadata": {},
   "outputs": [],
   "source": [
    "sql = \"\"\"\n",
    "SELECT CUSTOMER_ORDER_ID, \n",
    "CUSTOMER_ORDER.CUSTOMER_ID,\n",
    "CUSTOMER_ORDER.PRODUCT_ID, \n",
    "PRICE,\n",
    "DISCOUNT_RATE, \n",
    "PRICE * (1.0 - DISCOUNT_RATE) AS DISCOUNT_PRICE\n",
    "\n",
    "FROM CUSTOMER_ORDER INNER JOIN PRODUCT\n",
    "ON CUSTOMER_ORDER.PRODUCT_ID = PRODUCT.PRODUCT_ID\n",
    "\n",
    "LEFT JOIN DISCOUNT\n",
    "ON CUSTOMER_ORDER.CUSTOMER_ID = DISCOUNT.CUSTOMER_ID\n",
    "AND CUSTOMER_ORDER.PRODUCT_ID = DISCOUNT.PRODUCT_ID\n",
    "\n",
    "WHERE DISCOUNT_RATE IS NOT NULL\n",
    "\"\"\"\n",
    "\n",
    "pd.read_sql(sql, conn)"
   ]
  },
  {
   "cell_type": "markdown",
   "id": "2541bd429a69763",
   "metadata": {},
   "source": [
    "## Self Joins e Non-Equi Joins"
   ]
  },
  {
   "cell_type": "markdown",
   "id": "683deaa6313acfb9",
   "metadata": {},
   "source": [
    "Depois de todas as loucuras que fizemos com subconsultas e tabelas derivadas, provavelmente não é surpresa que possamos unir uma tabela a ela mesma. Isso pode ser útil para, por exemplo, obter o pedido do dia anterior `QUANTITY` em relação a cada registro. Usamos o alias `CUSTOMER_ORDER` duas vezes, como `o1` e `o2`. Pense nisso como criar duas cópias separadas dessa tabela e juntá-las."
   ]
  },
  {
   "cell_type": "code",
   "execution_count": null,
   "id": "30eef5dc35bc1fc3",
   "metadata": {},
   "outputs": [],
   "source": [
    "sql = \"\"\"\n",
    "SELECT o1.CUSTOMER_ORDER_ID,\n",
    "o1.CUSTOMER_ID,\n",
    "o1.PRODUCT_ID,\n",
    "o1.ORDER_DATE,\n",
    "o1.QUANTITY,\n",
    "o2.QUANTITY AS PREV_DAY_QUANTITY\n",
    "\n",
    "FROM CUSTOMER_ORDER o1 LEFT JOIN CUSTOMER_ORDER o2\n",
    "\n",
    "ON o1.CUSTOMER_ID = o2.CUSTOMER_ID\n",
    "AND o1.PRODUCT_ID = o2.PRODUCT_ID\n",
    "AND o2.ORDER_DATE = date(o1.ORDER_DATE, '-1 day')\n",
    "\n",
    "WHERE o1.ORDER_DATE BETWEEN '2024-03-05' AND '2024-03-11'\n",
    "\"\"\"\n",
    "\n",
    "pd.read_sql(sql, conn)"
   ]
  },
  {
   "cell_type": "markdown",
   "id": "b3a9a8afdcaa3d1d",
   "metadata": {},
   "source": [
    "Se você quiser obter a quantidade anterior de cada registro, mesmo que seja anterior ao dia anterior, podemos fazer isso usando uma subconsulta correlacionada."
   ]
  },
  {
   "cell_type": "code",
   "execution_count": null,
   "id": "e350c09c07f6c46e",
   "metadata": {},
   "outputs": [],
   "source": [
    "sql = \"\"\"\n",
    "SELECT ORDER_DATE,\n",
    "PRODUCT_ID,\n",
    "CUSTOMER_ID,\n",
    "QUANTITY,\n",
    "(\n",
    "    SELECT QUANTITY\n",
    "    FROM CUSTOMER_ORDER c2\n",
    "    WHERE c1.ORDER_DATE > c2.ORDER_DATE\n",
    "    AND c1.PRODUCT_ID = c2.PRODUCT_ID\n",
    "    AND c1.CUSTOMER_ID = c2.CUSTOMER_ID\n",
    "    ORDER BY ORDER_DATE DESC\n",
    "    LIMIT 1\n",
    ") as PREV_QTY\n",
    "FROM CUSTOMER_ORDER c1\n",
    "\"\"\"\n",
    "\n",
    "pd.read_sql(sql, conn)"
   ]
  },
  {
   "cell_type": "markdown",
   "id": "e0b168ef1df6ea74",
   "metadata": {},
   "source": [
    "Você também não precisa unir estritamente por igualdade. Podemos unir uma tabela a ela mesma, mas usar isso para somar registros de datas anteriores que compartilham os mesmos `PRODUCT_ID` e `CUSTOMER_ID`."
   ]
  },
  {
   "cell_type": "code",
   "execution_count": null,
   "id": "9013ec1dec5faa45",
   "metadata": {},
   "outputs": [],
   "source": [
    "sql = \"\"\"\n",
    "SELECT c1.ORDER_DATE,\n",
    "c1.PRODUCT_ID,\n",
    "c1.CUSTOMER_ID,\n",
    "c1.QUANTITY,\n",
    "SUM(c2.QUANTITY) as ROLLING_QTY\n",
    "\n",
    "FROM CUSTOMER_ORDER c1 INNER JOIN CUSTOMER_ORDER c2\n",
    "ON c1.PRODUCT_ID = c2.PRODUCT_ID\n",
    "AND c1.CUSTOMER_ID = c2.CUSTOMER_ID\n",
    "AND c1.ORDER_DATE >= c2.ORDER_DATE\n",
    "\n",
    "GROUP BY 1, 2, 3, 4\n",
    "\"\"\"\n",
    "\n",
    "pd.read_sql(sql, conn)"
   ]
  },
  {
   "cell_type": "markdown",
   "id": "fb4bf55e8fff901b",
   "metadata": {},
   "source": [
    "Aprenderemos como aproveitar as funções de janela mais tarde, o que facilitará essas tarefas, mas ainda podemos aproveitar essas ferramentas quando precisarmos criar lógicas mais complexas com flexibilidade."
   ]
  },
  {
   "cell_type": "markdown",
   "id": "af205680db553100",
   "metadata": {},
   "source": [
    "# Cross Joins "
   ]
  },
  {
   "cell_type": "markdown",
   "id": "3f6fee249301b687",
   "metadata": {},
   "source": [
    "Uma **junção cruzada** é um tipo especial de junção que cria todas as combinações possíveis entre duas ou mais tabelas. Isso também é conhecido como **junção cartesiana**. Por exemplo, podemos parear todos os `PRODUCT_ID` possíveis com todos os `CUSTOMER_ID` possíveis."
   ]
  },
  {
   "cell_type": "code",
   "execution_count": null,
   "id": "9ad6fe7af7dcaa97",
   "metadata": {},
   "outputs": [],
   "source": [
    "sql = \"\"\"\n",
    "SELECT PRODUCT_ID, CUSTOMER_ID \n",
    "FROM PRODUCT CROSS JOIN CUSTOMER\n",
    "\"\"\"\n",
    "\n",
    "pd.read_sql(sql, conn)"
   ]
  },
  {
   "cell_type": "markdown",
   "id": "15d883c4674ae731",
   "metadata": {},
   "source": [
    "Por que isso pode ser útil? Digamos que temos a consulta abaixo que encontra a receita total por `CUSTOMER_ID` e `PRODUCT_ID` para uma data específica."
   ]
  },
  {
   "cell_type": "code",
   "execution_count": null,
   "id": "7d037280b9d93025",
   "metadata": {},
   "outputs": [],
   "source": [
    "sql = \"\"\"\n",
    "SELECT CUSTOMER.CUSTOMER_ID, \n",
    "PRODUCT.PRODUCT_ID, \n",
    "SUM(PRICE * QUANTITY) AS TOTAL_REVENUE\n",
    "\n",
    "FROM CUSTOMER LEFT JOIN CUSTOMER_ORDER\n",
    "ON CUSTOMER.CUSTOMER_ID = CUSTOMER_ORDER.CUSTOMER_ID\n",
    "\n",
    "LEFT JOIN PRODUCT \n",
    "ON PRODUCT.PRODUCT_ID = CUSTOMER_ORDER.PRODUCT_ID\n",
    "\n",
    "WHERE ORDER_DATE = '2024-03-01'\n",
    "GROUP BY 1, 2 \n",
    "\"\"\"\n",
    "\n",
    "pd.read_sql(sql, conn)\n",
    "## Recursive Self Joins"
   ]
  },
  {
   "cell_type": "markdown",
   "id": "6fa5b8cfff62be3c",
   "metadata": {},
   "source": [
    "No entanto, queremos ver todos os clientes e produtos, mesmo que não tenha havido pedidos naquele dia para os `PRODUCT_ID` e `CUSTOMER_ID`. Podemos empacotar essa consulta em uma expressão de tabela comum e aplicar `LEFT JOIN` a essa consulta `CROSS JOIN` combinando todos os `PRODUCT_ID` e `CUSTOMER_ID`. Também aplicaremos `COALESCE()` a valores nulos para 0 quando não houver vendas."
   ]
  },
  {
   "cell_type": "code",
   "execution_count": null,
   "id": "35914672690a40d6",
   "metadata": {},
   "outputs": [],
   "source": [
    "sql = \"\"\"\n",
    "WITH totals AS ( \n",
    "    SELECT CUSTOMER.CUSTOMER_ID, \n",
    "    PRODUCT.PRODUCT_ID, \n",
    "    SUM(PRICE * QUANTITY) AS TOTAL_REVENUE\n",
    "    \n",
    "    FROM CUSTOMER LEFT JOIN CUSTOMER_ORDER\n",
    "    ON CUSTOMER.CUSTOMER_ID = CUSTOMER_ORDER.CUSTOMER_ID\n",
    "    \n",
    "    LEFT JOIN PRODUCT \n",
    "    ON PRODUCT.PRODUCT_ID = CUSTOMER_ORDER.PRODUCT_ID\n",
    "    \n",
    "    WHERE ORDER_DATE = '2024-03-01'\n",
    "    GROUP BY 1, 2 \n",
    "), \n",
    "\n",
    "all_combos AS ( \n",
    "    SELECT PRODUCT_ID, CUSTOMER_ID \n",
    "    FROM PRODUCT CROSS JOIN CUSTOMER\n",
    ")\n",
    "\n",
    "SELECT all_combos.PRODUCT_ID, \n",
    "all_combos.CUSTOMER_ID,\n",
    "COALESCE(totals.TOTAL_REVENUE, 0) AS TOTAL_REVENUE\n",
    "\n",
    "FROM all_combos LEFT JOIN totals\n",
    "ON all_combos.CUSTOMER_ID = totals.CUSTOMER_ID\n",
    "AND all_combos.PRODUCT_ID = totals.PRODUCT_ID\n",
    "\"\"\"\n",
    "\n",
    "pd.read_sql(sql, conn)"
   ]
  },
  {
   "cell_type": "markdown",
   "id": "93a1e047e65364d4",
   "metadata": {},
   "source": [
    "Tenha cuidado para não criar explosões combinatórias com junções cruzadas, pois criar muitas combinações pode tornar suas consultas muito lentas."
   ]
  },
  {
   "cell_type": "markdown",
   "id": "a0b640b00c2543b3",
   "metadata": {},
   "source": [
    "## Self Joins Recursivos"
   ]
  },
  {
   "cell_type": "markdown",
   "id": "22f98c15efe48241",
   "metadata": {},
   "source": [
    "Vamos dar uma olhada em uma tabela diferente: a tabela `EMPLOYEE`. Observe que a coluna `MANAGER_ID` possui valores que apontam para outros registros `EMPLOYEE`."
   ]
  },
  {
   "cell_type": "code",
   "execution_count": null,
   "id": "511d1be7627d9027",
   "metadata": {},
   "outputs": [],
   "source": [
    "pd.read_sql(\"SELECT * FROM EMPLOYEE\", conn, index_col='ID')"
   ]
  },
  {
   "cell_type": "markdown",
   "id": "5c3e3d4595293134",
   "metadata": {},
   "source": [
    "Você pode autojuntar esta tabela e subir um nível, mas como subimos em toda a hierarquia? Vamos nos concentrar em um funcionário com `FIRST_NAME` \"Mag\" e um `ID` de `29`. Podemos usar um tipo especial de expressão de tabela comum que é `RECURSIVE`. Inicializamos com um valor inicial de `29` e adicionamos recursivamente os IDs em toda a hierarquia até que não haja mais (quando chega ao CEO)."
   ]
  },
  {
   "cell_type": "code",
   "execution_count": null,
   "id": "795cb71c9f22feaa",
   "metadata": {},
   "outputs": [],
   "source": [
    "sql = \"\"\"\n",
    "-- generates a list of employee ID's hierarchical to Mag\n",
    "WITH RECURSIVE hierarchy_of_mag(x) AS (\n",
    " SELECT 29 -- start with Mag's ID\n",
    " UNION ALL -- append each manager ID recursively\n",
    " SELECT MANAGER_ID\n",
    " FROM hierarchy_of_mag INNER JOIN EMPLOYEE\n",
    " ON EMPLOYEE.ID = hierarchy_of_mag.x -- employee ID must equal previous recursion\n",
    ")\n",
    "\n",
    "SELECT * FROM hierarchy_of_mag;\n",
    "\"\"\"\n",
    "\n",
    "pd.read_sql(sql, conn)"
   ]
  },
  {
   "cell_type": "markdown",
   "id": "5e23c3ff9f019aa6",
   "metadata": {},
   "source": [
    "Podemos usar esse conjunto de IDs para qualificar esses funcionários nessa hierarquia."
   ]
  },
  {
   "cell_type": "code",
   "execution_count": null,
   "id": "43c2eb1d793a68f6",
   "metadata": {},
   "outputs": [],
   "source": [
    "sql = \"\"\"\n",
    "-- generates a list of employee ID's hierarchical to Mag\n",
    "WITH RECURSIVE hierarchy_of_mag(x) AS (\n",
    " SELECT 29 -- start with Mag's ID\n",
    " UNION ALL -- append each manager ID recursively\n",
    " SELECT MANAGER_ID \n",
    " FROM hierarchy_of_mag INNER JOIN EMPLOYEE\n",
    " ON EMPLOYEE.ID = hierarchy_of_mag.x -- employee ID must equal previous recursion\n",
    ")\n",
    "\n",
    "SELECT * FROM EMPLOYEE WHERE ID IN hierarchy_of_mag;\n",
    "\"\"\"\n",
    "\n",
    "pd.read_sql(sql, conn)"
   ]
  },
  {
   "cell_type": "markdown",
   "id": "f44fa9a62089244d",
   "metadata": {},
   "source": [
    "Consultas recursivas também são úteis para gerar um intervalo de valores consecutivos, como um intervalo de números inteiros ou datas/horas. Aqui está um intervalo de números inteiros de 1 a 1000."
   ]
  },
  {
   "cell_type": "code",
   "execution_count": null,
   "id": "4455ec09ac0d15a7",
   "metadata": {},
   "outputs": [],
   "source": [
    "sql = \"\"\" \n",
    "WITH RECURSIVE integers(i) AS (\n",
    "    SELECT 1\n",
    "        UNION ALL\n",
    "    SELECT i + 1 \n",
    "    FROM integers\n",
    "    WHERE i < 1000\n",
    ")\n",
    "\n",
    "SELECT * FROM integers\n",
    "\"\"\"\n",
    "\n",
    "pd.read_sql(sql, conn)"
   ]
  },
  {
   "cell_type": "markdown",
   "id": "b290ad9159815b29",
   "metadata": {},
   "source": [
    "E aqui está uma enumeração de datas de agora até 31 de dezembro de 2030."
   ]
  },
  {
   "cell_type": "code",
   "execution_count": null,
   "id": "3ef7097f77429c42",
   "metadata": {},
   "outputs": [],
   "source": [
    "sql = \"\"\" \n",
    "WITH RECURSIVE calendar_dates(dt) AS (\n",
    "    SELECT date('now')\n",
    "        UNION ALL\n",
    "    SELECT date(dt, '+1 day')\n",
    "    FROM calendar_dates\n",
    "    WHERE dt < '2030-12-31'\n",
    ")\n",
    "SELECT * FROM calendar_dates\n",
    "\"\"\"\n",
    "\n",
    "pd.read_sql(sql, conn)"
   ]
  },
  {
   "cell_type": "markdown",
   "id": "55448992768a0f52",
   "metadata": {},
   "source": [
    "Voltando ao nosso exemplo anterior de `CROSS JOIN`, podemos aproveitar essa enumeração de datas para preencher lacunas não apenas para `CUSTOMER_ID` e `PRODUCT_ID`, mas também para `ORDER_DATE`. Em outras palavras, podemos ver todos os `CUSTOMER_ID` e `PRODUCT_ID` representados em nossa consulta para cada `ORDER_DATE`, mesmo que não haja pedidos. Certifique-se de listar as consultas `RECURSIVE` primeiro em suas expressões de tabela comuns."
   ]
  },
  {
   "cell_type": "code",
   "execution_count": null,
   "id": "5cec0bf15633fb5",
   "metadata": {},
   "outputs": [],
   "source": [
    "sql = \"\"\"\n",
    "WITH RECURSIVE calendar_dates(dt) AS (\n",
    "    SELECT date('2020-01-01')\n",
    "        UNION ALL\n",
    "    SELECT date(dt, '+1 day')\n",
    "    FROM calendar_dates\n",
    "    WHERE dt <'2099-12-31'\n",
    "), \n",
    "\n",
    "totals AS ( \n",
    "    SELECT CUSTOMER.CUSTOMER_ID, \n",
    "    PRODUCT.PRODUCT_ID, \n",
    "    ORDER_DATE,\n",
    "    SUM(PRICE * QUANTITY) AS TOTAL_REVENUE\n",
    "    \n",
    "    FROM CUSTOMER INNER JOIN CUSTOMER_ORDER\n",
    "    ON CUSTOMER.CUSTOMER_ID = CUSTOMER_ORDER.CUSTOMER_ID\n",
    "    \n",
    "    INNER JOIN PRODUCT \n",
    "    ON PRODUCT.PRODUCT_ID = CUSTOMER_ORDER.PRODUCT_ID\n",
    "    \n",
    "    GROUP BY 1, 2, 3\n",
    "), \n",
    "\n",
    "all_combos AS ( \n",
    "    SELECT PRODUCT_ID, CUSTOMER_ID, dt\n",
    "    FROM PRODUCT CROSS JOIN CUSTOMER \n",
    "    CROSS JOIN calendar_dates\n",
    "    WHERE dt BETWEEN '2024-03-01' AND '2024-03-31'\n",
    ")\n",
    "SELECT all_combos.dt as ORDER_DATE, \n",
    "all_combos.PRODUCT_ID, \n",
    "all_combos.CUSTOMER_ID,\n",
    "COALESCE(totals.TOTAL_REVENUE, 0) AS TOTAL_REVENUE\n",
    "\n",
    "FROM all_combos LEFT JOIN totals\n",
    "ON all_combos.CUSTOMER_ID = totals.CUSTOMER_ID\n",
    "AND all_combos.PRODUCT_ID = totals.PRODUCT_ID\n",
    "AND all_combos.dt = totals.ORDER_DATE\n",
    "\"\"\"\n",
    "\n",
    "pd.read_sql(sql, conn)"
   ]
  },
  {
   "cell_type": "markdown",
   "id": "58343cc313d4e566",
   "metadata": {},
   "source": [
    "Vejamos um último exemplo. Observe a tabela `EMPLOYEE_AIR_TRAVEL`."
   ]
  },
  {
   "cell_type": "code",
   "execution_count": null,
   "id": "2d5c805164fa2ea3",
   "metadata": {},
   "outputs": [],
   "source": [
    "pd.read_sql(\"SELECT * FROM EMPLOYEE_AIR_TRAVEL\", conn)"
   ]
  },
  {
   "cell_type": "markdown",
   "id": "8e5d0652023cd35b",
   "metadata": {},
   "source": [
    "Observe que a coluna `NUM_OF_PASSENGERS` indica o número de passageiros naquele bilhete. Digamos que quiséssemos dividi-los em vários registros, então um `NUM_OF_PASSENGERS` de \"3\" transformaria esse registro em três cópias. Podemos usar uma enumeração `RECURSIVE` de inteiros para fazer isso, copiando o registro quantas vezes precisarmos."
   ]
  },
  {
   "cell_type": "code",
   "execution_count": null,
   "id": "71b1858f89e42b4d",
   "metadata": {},
   "outputs": [],
   "source": [
    "sql = \"\"\"\n",
    "WITH RECURSIVE integers(i) AS (\n",
    "    SELECT 1\n",
    "        UNION ALL\n",
    "    SELECT i + 1 \n",
    "    FROM integers\n",
    "    WHERE i < 100\n",
    ")\n",
    "\n",
    "SELECT BOOKING_ID, \n",
    "BOOKED_EMPLOYEE_ID,\n",
    "DEPARTURE_DATE,\n",
    "ORIGIN,\n",
    "DESTINATION,\n",
    "FARE_PRICE,\n",
    "integers.i AS PASSENGER_NUMBER\n",
    "FROM EMPLOYEE_AIR_TRAVEL CROSS JOIN integers\n",
    "ON integers.i <= NUM_OF_PASSENGERS\n",
    "\"\"\"\n",
    "\n",
    "pd.read_sql(sql, conn)"
   ]
  },
  {
   "cell_type": "markdown",
   "id": "dd2ac1dfab1549d0",
   "metadata": {},
   "source": [
    "Também podemos usar esses inteiros para enumerar cópias de registros para outra finalidade: dividir `ORIGIN` e `DESTINATION` em dois registros separados. Isso pode nos ajudar a descobrir quanto estamos gastando para que os funcionários voem por cada `AEROPORTO`, independentemente de esse `AEROPORTO` ser o `ORIGIN` ou o `DESTINATION`."
   ]
  },
  {
   "cell_type": "code",
   "execution_count": null,
   "id": "6281e88c7bdcf1",
   "metadata": {},
   "outputs": [],
   "source": [
    "sql = \"\"\"\n",
    "WITH RECURSIVE integers(i) AS (\n",
    "    SELECT 1\n",
    "        UNION ALL\n",
    "    SELECT i + 1 \n",
    "    FROM integers\n",
    "    WHERE i < 100\n",
    ")\n",
    "\n",
    "SELECT\n",
    "CASE WHEN integers.i == 1 THEN ORIGIN ELSE DESTINATION END AS AIRPORT,\n",
    "SUM(FARE_PRICE * NUM_OF_PASSENGERS) AS AIRPORT_COST\n",
    "FROM EMPLOYEE_AIR_TRAVEL CROSS JOIN integers\n",
    "ON integers.i <= 2\n",
    "GROUP BY AIRPORT\n",
    "\"\"\"\n",
    "\n",
    "pd.read_sql(sql, conn)"
   ]
  },
  {
   "cell_type": "markdown",
   "id": "5fcf8161db25b665",
   "metadata": {},
   "source": [
    "Como você pode ver, consultas recursivas são muito poderosas e altamente subutilizadas e subestimadas. Use-as para preencher lacunas em seus dados, duplicar e modificar registros ou simplesmente gerar um intervalo de valores, incluindo inteiros e datas/horas."
   ]
  },
  {
   "cell_type": "markdown",
   "id": "7af51533857dc1d9",
   "metadata": {},
   "source": [
    "## Exercício"
   ]
  },
  {
   "cell_type": "markdown",
   "id": "4c51c6ff2768d0b9",
   "metadata": {},
   "source": [
    "Para cada data do calendário e `PRODUCT_ID`, mostre a quantidade total pedida para o período de `2024-01-01` a `2024-02-28`. Já existe muita codificação padrão. Basta preencher os pontos de interrogação \"?\"."
   ]
  },
  {
   "cell_type": "code",
   "execution_count": null,
   "id": "b6c15729f4526274",
   "metadata": {},
   "outputs": [],
   "source": [
    "sql = \"\"\"\n",
    "WITH RECURSIVE calendar_dates(dt) AS (\n",
    "    SELECT date('2020-01-01')\n",
    "        UNION ALL\n",
    "    SELECT date(dt, '+1 day')\n",
    "    FROM calendar_dates\n",
    "    WHERE dt <'2099-12-31'\n",
    "), \n",
    "\n",
    "product_totals_by_date AS ( \n",
    "    ?\n",
    "), \n",
    "\n",
    "all_combos AS ( \n",
    "    SELECT ?, ?\n",
    "    FROM PRODUCT ? ? calendar_dates\n",
    "    WHERE dt BETWEEN '2024-01-01' AND '2024-02-28'\n",
    ")\n",
    "SELECT all_combos.dt as ORDER_DATE, \n",
    "all_combos.PRODUCT_ID, \n",
    "COALESCE(?, 0) AS TOTAL_REVENUE\n",
    "\n",
    "FROM all_combos LEFT JOIN product_totals_by_date\n",
    "ON all_combos.PRODUCT_ID = ?\n",
    "AND all_combos.dt = ?\n",
    "\"\"\"\n",
    "\n",
    "pd.read_sql(sql, conn)"
   ]
  },
  {
   "cell_type": "markdown",
   "id": "383deda4982fe1f8",
   "metadata": {},
   "source": [
    "### RESPOSTA A BAIXO\n",
    "\n",
    "|<br>\n",
    "|<br>\n",
    "|<br>\n",
    "|<br>\n",
    "|<br>\n",
    "|<br>\n",
    "|<br>\n",
    "|<br>\n",
    "|<br>\n",
    "|<br>\n",
    "|<br>\n",
    "|<br>\n",
    "|<br>\n",
    "|<br>\n",
    "|<br>\n",
    "|<br>\n",
    "|<br>\n",
    "|<br>\n",
    "|<br>\n",
    "|<br>\n",
    "|<br>\n",
    "|<br>\n",
    "|<br>\n",
    "v "
   ]
  },
  {
   "cell_type": "code",
   "execution_count": null,
   "id": "2a562add359bd03d",
   "metadata": {},
   "outputs": [],
   "source": [
    "sql = \"\"\"\n",
    "WITH RECURSIVE calendar_dates(dt) AS (\n",
    "    SELECT date('2020-01-01')\n",
    "        UNION ALL\n",
    "    SELECT date(dt, '+1 day')\n",
    "    FROM calendar_dates\n",
    "    WHERE dt <'2099-12-31'\n",
    "), \n",
    "\n",
    "product_totals_by_date AS ( \n",
    "    SELECT PRODUCT.PRODUCT_ID, \n",
    "    ORDER_DATE,\n",
    "    SUM(PRICE * QUANTITY) AS TOTAL_REVENUE\n",
    "    \n",
    "    FROM PRODUCT INNER JOIN CUSTOMER_ORDER \n",
    "    ON PRODUCT.PRODUCT_ID = CUSTOMER_ORDER.PRODUCT_ID\n",
    "    \n",
    "    GROUP BY 1,2\n",
    "), \n",
    "\n",
    "all_combos AS ( \n",
    "    SELECT PRODUCT_ID, dt\n",
    "    FROM PRODUCT CROSS JOIN calendar_dates\n",
    "    WHERE dt BETWEEN '2024-01-01' AND '2024-02-28'\n",
    ")\n",
    "SELECT all_combos.dt as ORDER_DATE, \n",
    "all_combos.PRODUCT_ID, \n",
    "COALESCE(product_totals_by_date.TOTAL_REVENUE, 0) AS TOTAL_REVENUE\n",
    "\n",
    "FROM all_combos LEFT JOIN product_totals_by_date\n",
    "ON all_combos.PRODUCT_ID = product_totals_by_date.PRODUCT_ID\n",
    "AND all_combos.dt = product_totals_by_date.ORDER_DATE\n",
    "\"\"\"\n",
    "\n",
    "pd.read_sql(sql, conn)"
   ]
  }
 ],
 "metadata": {
  "kernelspec": {
   "display_name": "anaconda-2024.02-py310",
   "language": "python",
   "name": "conda-env-anaconda-2024.02-py310-py"
  },
  "language_info": {
   "codemirror_mode": {
    "name": "ipython",
    "version": 3
   },
   "file_extension": ".py",
   "mimetype": "text/x-python",
   "name": "python",
   "nbconvert_exporter": "python",
   "pygments_lexer": "ipython3",
   "version": "3.10.14"
  }
 },
 "nbformat": 4,
 "nbformat_minor": 5
}
