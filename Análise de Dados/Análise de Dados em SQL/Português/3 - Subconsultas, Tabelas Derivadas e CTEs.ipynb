{
 "cells": [
  {
   "cell_type": "markdown",
   "id": "16fa5e3323cf571a",
   "metadata": {},
   "source": [
    "# Subconsultas, Tabelas Derivadas e Expressões Comuns de Tabela"
   ]
  },
  {
   "cell_type": "markdown",
   "id": "cc39bb3ba49db8fa",
   "metadata": {},
   "source": [
    "Nesta seção, aprenderemos alguns padrões mais avançados para incorporar consultas dentro de consultas. Isso pode criar algumas ferramentas úteis para análise de dados, incluindo a substituição de valores ausentes.\n",
    "\n",
    "Vamos começar com o básico sobre subconsultas e, em seguida, avançar para tabelas derivadas e expressões comuns de tabela.\n",
    "\n",
    "Conecte-se ao banco de dados `company_operations.db` e vamos nos concentrar primeiro na tabela `WEATHER_MONITOR`."
   ]
  },
  {
   "cell_type": "code",
   "execution_count": null,
   "id": "550dee48ccfa65b6",
   "metadata": {},
   "outputs": [],
   "source": [
    "import sqlite3\n",
    "import pandas as pd \n",
    "\n",
    "conn = sqlite3.connect('company_operations.db')\n",
    "\n",
    "pd.read_sql(\"SELECT * FROM WEATHER_MONITOR LIMIT 10\", conn)"
   ]
  },
  {
   "cell_type": "markdown",
   "id": "54ebd5a39c73b014",
   "metadata": {},
   "source": [
    "## Subconsultas"
   ]
  },
  {
   "cell_type": "markdown",
   "id": "71979e7ea3cf1773",
   "metadata": {},
   "source": [
    "Observe como a coluna `TEMPERATURE` apresenta valores nulos ausentes. Não há muitos. Apenas 3 registros."
   ]
  },
  {
   "cell_type": "code",
   "execution_count": null,
   "id": "2c610f5098bbb7f6",
   "metadata": {},
   "outputs": [],
   "source": [
    "sql = \"\"\"\n",
    "SELECT * FROM WEATHER_MONITOR\n",
    "WHERE TEMPERATURE IS NULL \n",
    "\"\"\"\n",
    "            \n",
    "pd.read_sql(sql, conn)\n"
   ]
  },
  {
   "cell_type": "markdown",
   "id": "b0724573284d9aa1",
   "metadata": {},
   "source": [
    "Digamos que queremos substituir esses valores nulos pela média de `TEMPERATURE` em todos os registros. Talvez façamos isso para não descartar os três registros e ainda usá-los para modelagem. Podemos fazer isso usando uma **subconsulta escalar** como esta, que incorpora uma consulta retornando um único valor dentro de uma consulta."
   ]
  },
  {
   "cell_type": "code",
   "execution_count": null,
   "id": "a133c67cfba21a93",
   "metadata": {},
   "outputs": [],
   "source": [
    "sql = \"\"\"\n",
    "SELECT ID, \n",
    "REPORT_CODE, \n",
    "REPORT_DATE, \n",
    "LOCATION_ID, \n",
    "\n",
    "CASE WHEN TEMPERATURE IS NULL THEN (SELECT AVG(TEMPERATURE) FROM WEATHER_MONITOR) \n",
    "     ELSE TEMPERATURE \n",
    "END AS TEMPERATURE_IMPUTED\n",
    "\n",
    "FROM WEATHER_MONITOR\n",
    "WHERE TEMPERATURE IS NULL \n",
    "\"\"\"\n",
    "            \n",
    "pd.read_sql(sql, conn)\n"
   ]
  },
  {
   "cell_type": "markdown",
   "id": "92d16aff972a6751",
   "metadata": {},
   "source": [
    "Talvez seja mais preciso considerar o mês e o ano e extrair médias apenas dos campos que correspondem a esses dois atributos. Afinal, observe como a temperatura média varia de acordo com `YEAR` e `MONTH`. Observe que não há campos `YEAR` e `MONTH`, pois podemos inferir isso do campo `REPORT_DATE`. No SQLite, a maneira como fazemos isso é usar `strftime()` com uma [sintaxe de padrão especial](https://www.sqlite.org/lang_datefunc.html) para converter elementos de data e hora. Usamos `%Y` para o ano e `%m` para o mês."
   ]
  },
  {
   "cell_type": "code",
   "execution_count": null,
   "id": "308451066762722e",
   "metadata": {},
   "outputs": [],
   "source": [
    "sql = \"\"\" \n",
    "SELECT strftime('%Y', REPORT_DATE) AS YEAR, \n",
    "strftime('%m', REPORT_DATE) AS MONTH,\n",
    "AVG(TEMPERATURE) AS AVG_TEMP \n",
    "FROM WEATHER_MONITOR\n",
    "GROUP BY 1, 2\n",
    "\"\"\"\n",
    "\n",
    "pd.read_sql(sql, conn)"
   ]
  },
  {
   "cell_type": "markdown",
   "id": "e585fb05998473eb",
   "metadata": {},
   "source": [
    "Isso é um pouco complicado. Em nossa subconsulta correlacionada, trabalharemos com duas instâncias da tabela `WEATHER_MONITOR`, onde usaremos o alias `wm2` para a instância da subconsulta e `wm1` para a instância externa. Podemos então garantir que a subconsulta seja iniciada para todos os registros, consultando apenas os registros correspondentes ao ano e ao mês."
   ]
  },
  {
   "cell_type": "code",
   "execution_count": null,
   "id": "6b0082229e99675",
   "metadata": {},
   "outputs": [],
   "source": [
    "sql = \"\"\"\n",
    "SELECT ID, \n",
    "REPORT_CODE, \n",
    "REPORT_DATE, \n",
    "LOCATION_ID, \n",
    "\n",
    "\n",
    "CASE WHEN TEMPERATURE IS NULL THEN \n",
    "    (\n",
    "        SELECT AVG(TEMPERATURE) FROM WEATHER_MONITOR wm2 \n",
    "        WHERE strftime('%Y', wm1.REPORT_DATE) = strftime('%Y', wm2.REPORT_DATE) -- year must match outer record\n",
    "        AND strftime('%m', wm1.REPORT_DATE) = strftime('%m', wm2.REPORT_DATE) -- month must match outer record\n",
    "     ) \n",
    "     ELSE TEMPERATURE \n",
    "END AS TEMPERATURE_IMPUTED\n",
    "\n",
    "FROM WEATHER_MONITOR wm1 \n",
    "WHERE TEMPERATURE IS NULL \n",
    "\"\"\"\n",
    "            \n",
    "pd.read_sql(sql, conn)\n"
   ]
  },
  {
   "cell_type": "markdown",
   "id": "f425f2036a0a1252",
   "metadata": {},
   "source": [
    "Existem maneiras mais eficientes de fazer isso, incluindo tabelas derivadas e expressões de tabela comuns. Abordaremos essas informações em breve.\n",
    "\n",
    "Vamos nos concentrar em duas outras tabelas, `CUSTOMER` e `CUSTOMER_ORDER`."
   ]
  },
  {
   "cell_type": "code",
   "execution_count": null,
   "id": "3ddb5bcdf877d229",
   "metadata": {},
   "outputs": [],
   "source": [
    "pd.read_sql(\"SELECT * FROM CUSTOMER\", conn)"
   ]
  },
  {
   "cell_type": "code",
   "execution_count": null,
   "id": "b435e3ba53a7d0da",
   "metadata": {},
   "outputs": [],
   "source": [
    "pd.read_sql(\"SELECT * FROM CUSTOMER_ORDER\", conn)"
   ]
  },
  {
   "cell_type": "markdown",
   "id": "90fe237804239d01",
   "metadata": {},
   "source": [
    "Essas duas tabelas são vinculadas pelo `CUSTOMER_ID`, o que significa que cada registro `CUSTOMER_ORDER` possui um `CUSTOMER_ID` associado a ele. Podemos então usar esse valor `CUSTOMER_ID` para consultar os detalhes de `CUSTOMER`.\n",
    "\n",
    "O que pretendemos alcançar aqui é encontrar registros `CUSTOMER` que não tenham registros `CUSTOMER_ORDER` associados a eles. A maneira mais rudimentar de fazer isso é com um operador `LEFT JOIN`, que incluirá todos os registros na tabela \"esquerda\", mesmo que não haja registros para unir na tabela \"direita\". \"Esquerda\" e \"direita\" determinam por qual lado uma tabela é especificada em relação às palavras-chave do operador `LEFT JOIN`. Se não houver registros na tabela da direita, esses campos da tabela da direita serão `NULL` em um registro de espaço reservado. Podemos verificar se esses campos na tabela da direita são nulos como resultado do `LEFT JOIN`. Esta é a técnica para encontrar clientes que não têm pedidos."
   ]
  },
  {
   "cell_type": "code",
   "execution_count": null,
   "id": "bedcd59ce8faec82",
   "metadata": {},
   "outputs": [],
   "source": [
    "sql = \"\"\"\n",
    "SELECT CUSTOMER.CUSTOMER_ID, \n",
    "CUSTOMER_NAME\n",
    "\n",
    "FROM CUSTOMER LEFT JOIN CUSTOMER_ORDER\n",
    "ON CUSTOMER.CUSTOMER_ID = CUSTOMER_ORDER.CUSTOMER_ID\n",
    "\n",
    "WHERE CUSTOMER_ORDER.CUSTOMER_ID IS NULL\n",
    "\"\"\"\n",
    "            \n",
    "pd.read_sql(sql, conn)\n"
   ]
  },
  {
   "cell_type": "markdown",
   "id": "41b7ce6310d60b9",
   "metadata": {},
   "source": [
    "Uma maneira possivelmente mais elegante de fazer isso é usar subconsultas. Podemos obter um conjunto de valores `CUSTOMER_ID` em uma subconsulta e verificar se há clientes que não tenham um `CUSTOMER_ID` nesses registros `CUSTOMER_ORDER`."
   ]
  },
  {
   "cell_type": "code",
   "execution_count": null,
   "id": "31ea8e4a91ac873",
   "metadata": {},
   "outputs": [],
   "source": [
    "sql = \"\"\"\n",
    "SELECT * FROM CUSTOMER \n",
    "WHERE CUSTOMER_ID NOT IN (SELECT DISTINCT CUSTOMER_ID FROM CUSTOMER_ORDER)\n",
    "\"\"\"\n",
    "\n",
    "pd.read_sql(sql, conn)"
   ]
  },
  {
   "cell_type": "markdown",
   "id": "5be73981912386d1",
   "metadata": {},
   "source": [
    "Outra maneira de fazer isso é usar o operador `EXISTS` (ou `NOT EXISTS`) para encontrar quaisquer registros `CUSTOMER` existentes que atendam à condição `WHERE`, procurando por registros `CUSTOMER_ORDER` com esse `CUSTOMER_ID`. Podemos aproveitar o fato de que ele não fará uma varredura completa da tabela, mas parará no momento em que encontrar um único registro."
   ]
  },
  {
   "cell_type": "code",
   "execution_count": null,
   "id": "3c244fe64b56c7c2",
   "metadata": {},
   "outputs": [],
   "source": [
    "sql = \"\"\"\n",
    "SELECT * FROM CUSTOMER c \n",
    "WHERE NOT EXISTS (SELECT * FROM CUSTOMER_ORDER WHERE CUSTOMER_ID = c.CUSTOMER_ID)\n",
    "\"\"\"\n",
    "\n",
    "pd.read_sql(sql, conn)"
   ]
  },
  {
   "cell_type": "markdown",
   "id": "d7433af0e5258ff7",
   "metadata": {},
   "source": [
    "Permita-me incluir apenas mais um exemplo. Também podemos usar subconsultas para retornar apenas pedidos da `ORDER_DATE` mais recente."
   ]
  },
  {
   "cell_type": "code",
   "execution_count": null,
   "id": "e1316b1fc9efa257",
   "metadata": {},
   "outputs": [],
   "source": [
    "sql = \"\"\"\n",
    "SELECT * FROM CUSTOMER_ORDER\n",
    "WHERE ORDER_DATE = (SELECT MAX(ORDER_DATE) FROM CUSTOMER_ORDER)\n",
    "\"\"\"\n",
    "\n",
    "pd.read_sql(sql, conn)"
   ]
  },
  {
   "cell_type": "markdown",
   "id": "ddf0e76fe03c80f7",
   "metadata": {},
   "source": [
    "## Tabelas Derivadas"
   ]
  },
  {
   "cell_type": "markdown",
   "id": "f1d57346520ef09a",
   "metadata": {},
   "source": [
    "Lembre-se de que demonstramos esta consulta mostrando a temperatura média por ano e mês."
   ]
  },
  {
   "cell_type": "code",
   "execution_count": null,
   "id": "29c0d41de8f9e26",
   "metadata": {},
   "outputs": [],
   "source": [
    "sql = \"\"\" \n",
    "SELECT strftime('%Y', REPORT_DATE) AS YEAR, \n",
    "strftime('%m', REPORT_DATE) AS MONTH,\n",
    "AVG(TEMPERATURE) AS AVG_TEMP \n",
    "FROM WEATHER_MONITOR\n",
    "GROUP BY 1, 2\n",
    "\"\"\"\n",
    "\n",
    "pd.read_sql(sql, conn)"
   ]
  },
  {
   "cell_type": "markdown",
   "id": "ba348d221045e0fc",
   "metadata": {},
   "source": [
    "E se juntássemos esta \"tabela\" (apoiada por uma consulta `SELECT`) a `WEATHER_MONITOR` e imputássemos os três valores ausentes de `TEMPERATURE` com as médias daquele ano e mês? Consultar outra consulta `SELECT` dessa forma e tratá-la como uma tabela é conhecido como uma **tabela derivada**. Observe abaixo que incorporamos essa consulta `SELECT` ao `INNER JOIN` e a tratamos como uma tabela, unindo-a com base no ano e mês."
   ]
  },
  {
   "cell_type": "code",
   "execution_count": null,
   "id": "e2db12c957ce27e7",
   "metadata": {},
   "outputs": [],
   "source": [
    "sql = \"\"\"\n",
    "SELECT ID, \n",
    "REPORT_CODE, \n",
    "REPORT_DATE, \n",
    "LOCATION_ID, \n",
    "CASE WHEN TEMPERATURE IS NULL THEN AVG_TEMP ELSE TEMPERATURE END AS TEMPERATURE_IMPUTED\n",
    "\n",
    "FROM WEATHER_MONITOR INNER JOIN ( \n",
    "    SELECT strftime('%Y', REPORT_DATE) AS YEAR, \n",
    "    strftime('%m', REPORT_DATE) AS MONTH,\n",
    "    AVG(TEMPERATURE) AS AVG_TEMP \n",
    "    FROM WEATHER_MONITOR\n",
    "    GROUP BY 1, 2\n",
    ") AS temp_avgs\n",
    "\n",
    "ON strftime('%Y', REPORT_DATE) = temp_avgs.YEAR\n",
    "AND strftime('%m', REPORT_DATE) = temp_avgs.MONTH\n",
    "\n",
    "WHERE TEMPERATURE IS NULL \n",
    "\"\"\"\n",
    "            \n",
    "pd.read_sql(sql, conn)\n"
   ]
  },
  {
   "cell_type": "markdown",
   "id": "932855dc612257f3",
   "metadata": {},
   "source": [
    "Há uma vantagem aqui: calculamos essas médias antecipadamente e, em seguida, as consultamos nos resultados da consulta `SELECT` final. No entanto, tabelas derivadas podem ser aninhadas em várias camadas, criando um antipadrão chamado de **pirâmide da perdição**. Podemos aninhar várias tabelas derivadas em uma consulta, mas isso se torna confuso e difícil de filtrar e gerenciar. Por esse motivo, o desenvolvedor SQL moderno deve optar por usar expressões de tabela comuns."
   ]
  },
  {
   "cell_type": "markdown",
   "id": "f2b871f9cf4291ea",
   "metadata": {},
   "source": [
    "## Expressões de Tabela Comuns (CTEs)"
   ]
  },
  {
   "cell_type": "markdown",
   "id": "946db77082c19426",
   "metadata": {},
   "source": [
    "**Expressões de Tabela Comuns (CTEs)** são suas melhores amigas como desenvolvedor e analista de SQL. Elas dividirão consultas complexas em etapas fáceis de entender. Aqui está nosso exemplo anterior imputando médias para valores ausentes para `TEMPERATURE` em nossa tabela `WEATHER_MONITOR`, mas usando expressões de tabela comuns."
   ]
  },
  {
   "cell_type": "code",
   "execution_count": null,
   "id": "7414787976d4d888",
   "metadata": {},
   "outputs": [],
   "source": [
    "sql = \"\"\"\n",
    "WITH temp_avgs AS (\n",
    "    SELECT strftime('%Y', REPORT_DATE) AS YEAR, \n",
    "    strftime('%m', REPORT_DATE) AS MONTH,\n",
    "    AVG(TEMPERATURE) AS AVG_TEMP \n",
    "    FROM WEATHER_MONITOR\n",
    "    GROUP BY 1, 2\n",
    ")\n",
    "\n",
    "SELECT ID, \n",
    "REPORT_CODE, \n",
    "REPORT_DATE, \n",
    "LOCATION_ID, \n",
    "CASE WHEN TEMPERATURE IS NULL THEN AVG_TEMP ELSE TEMPERATURE END AS TEMPERATURE_IMPUTED\n",
    "\n",
    "FROM WEATHER_MONITOR INNER JOIN temp_avgs\n",
    "\n",
    "ON strftime('%Y', REPORT_DATE) = temp_avgs.YEAR\n",
    "AND strftime('%m', REPORT_DATE) = temp_avgs.MONTH\n",
    "\n",
    "WHERE TEMPERATURE IS NULL \n",
    "\"\"\"\n",
    "            \n",
    "pd.read_sql(sql, conn)\n"
   ]
  },
  {
   "cell_type": "markdown",
   "id": "ad64cbf8b58f4db4",
   "metadata": {},
   "source": [
    "Observe como `temp_avgs` pode ser declarado antecipadamente, tratando-o como uma \"tabela\" chamada `temp_avgs` apoiada por uma consulta `SELECT`. Isso é muito mais limpo do que incorporá-lo ao corpo da consulta `SELECT` principal.\n",
    "\n",
    "O que é ainda melhor sobre expressões de tabela comuns é que uma CTE pode se referir a uma CTE anterior, criando uma \"cadeia\" de etapas que quebra a lógica complexa sem criar pirâmides da perdição. Abaixo, criamos uma CTE imputando as temperaturas ausentes e, em seguida, verificando se as médias substituíram esses valores nulos na consulta final."
   ]
  },
  {
   "cell_type": "code",
   "execution_count": null,
   "id": "c5a780d642eb9a29",
   "metadata": {},
   "outputs": [],
   "source": [
    "sql = \"\"\"\n",
    "WITH temp_avgs AS (\n",
    "    SELECT strftime('%Y', REPORT_DATE) AS YEAR, \n",
    "    strftime('%m', REPORT_DATE) AS MONTH,\n",
    "    AVG(TEMPERATURE) AS AVG_TEMP \n",
    "    FROM WEATHER_MONITOR\n",
    "    GROUP BY 1, 2\n",
    ") , \n",
    "\n",
    "missing_temps_imputed AS ( \n",
    "    SELECT ID, \n",
    "    REPORT_CODE, \n",
    "    REPORT_DATE, \n",
    "    LOCATION_ID, \n",
    "    CASE WHEN TEMPERATURE IS NULL THEN temp_avgs.AVG_TEMP ELSE TEMPERATURE END AS TEMPERATURE_IMPUTED\n",
    "    \n",
    "    FROM WEATHER_MONITOR INNER JOIN temp_avgs\n",
    "    \n",
    "    ON strftime('%Y', REPORT_DATE) = temp_avgs.YEAR \n",
    "    AND strftime('%m', REPORT_DATE)  = temp_avgs.MONTH\n",
    ")\n",
    "\n",
    "SELECT * FROM missing_temps_imputed\n",
    "WHERE ID IN (SELECT ID FROM WEATHER_MONITOR WHERE TEMPERATURE IS NULL)\n",
    "\"\"\"\n",
    "            \n",
    "pd.read_sql(sql, conn)\n"
   ]
  },
  {
   "cell_type": "markdown",
   "id": "60c3111e7c6325b7",
   "metadata": {},
   "source": [
    "## Exercício"
   ]
  },
  {
   "cell_type": "markdown",
   "id": "606a35a2771186c5",
   "metadata": {},
   "source": [
    "Reescreva a consulta abaixo, que mostra a precipitação total para cada mês/ano, juntamente com cada registro `WEATHER_MONITOR`, mas como uma expressão de tabela comum, em vez de uma subconsulta correlacionada. Use o tempo que precisar e rotule as informações como quiser."
   ]
  },
  {
   "cell_type": "code",
   "execution_count": null,
   "id": "6f2fb87c066fbe04",
   "metadata": {},
   "outputs": [],
   "source": [
    "sql = \"\"\"\n",
    "SELECT ID, \n",
    "REPORT_CODE, \n",
    "REPORT_DATE, \n",
    "LOCATION_ID, \n",
    "RAIN,\n",
    "(\n",
    "    SELECT SUM(RAIN) FROM WEATHER_MONITOR wm2 \n",
    "    WHERE strftime('%Y', wm1.REPORT_DATE) = strftime('%Y', wm2.REPORT_DATE) -- year must match outer record\n",
    "    AND strftime('%m', wm1.REPORT_DATE) = strftime('%m', wm2.REPORT_DATE) -- month must match outer record\n",
    ") AS RAIN_TOTAL_MONTH\n",
    "\n",
    "FROM WEATHER_MONITOR wm1 \n",
    "\"\"\"\n",
    "            \n",
    "pd.read_sql(sql, conn)\n"
   ]
  },
  {
   "cell_type": "markdown",
   "id": "434f4bc71013f34f",
   "metadata": {},
   "source": [
    "### RESPOSTA A BAIXO\n",
    "\n",
    "|<br>\n",
    "|<br>\n",
    "|<br>\n",
    "|<br>\n",
    "|<br>\n",
    "|<br>\n",
    "|<br>\n",
    "|<br>\n",
    "|<br>\n",
    "|<br>\n",
    "|<br>\n",
    "|<br>\n",
    "|<br>\n",
    "|<br>\n",
    "|<br>\n",
    "|<br>\n",
    "|<br>\n",
    "|<br>\n",
    "|<br>\n",
    "|<br>\n",
    "|<br>\n",
    "|<br>\n",
    "|<br>\n",
    "v "
   ]
  },
  {
   "cell_type": "code",
   "execution_count": null,
   "id": "fa399a73781c9cc",
   "metadata": {},
   "outputs": [],
   "source": [
    "sql = \"\"\" \n",
    "WITH rain_totals AS ( \n",
    "    SELECT strftime('%Y', REPORT_DATE) AS REPORT_YEAR, \n",
    "    strftime('%m', REPORT_DATE) AS REPORT_MONTH, \n",
    "    SUM(RAIN) AS TOTAL_RAIN \n",
    "    FROM WEATHER_MONITOR  \n",
    "    GROUP BY 1, 2 \n",
    ")\n",
    "\n",
    "SELECT ID, \n",
    "REPORT_CODE, \n",
    "REPORT_DATE, \n",
    "LOCATION_ID, \n",
    "RAIN,\n",
    "TOTAL_RAIN \n",
    "\n",
    "FROM WEATHER_MONITOR INNER JOIN rain_totals\n",
    "ON strftime('%Y', REPORT_DATE) = rain_totals.REPORT_YEAR\n",
    "AND strftime('%m', REPORT_DATE) = rain_totals.REPORT_MONTH\n",
    "\"\"\"\n",
    "            \n",
    "pd.read_sql(sql, conn)\n"
   ]
  }
 ],
 "metadata": {
  "kernelspec": {
   "display_name": "anaconda-2024.02-py310",
   "language": "python",
   "name": "conda-env-anaconda-2024.02-py310-py"
  },
  "language_info": {
   "codemirror_mode": {
    "name": "ipython",
    "version": 3
   },
   "file_extension": ".py",
   "mimetype": "text/x-python",
   "name": "python",
   "nbconvert_exporter": "python",
   "pygments_lexer": "ipython3",
   "version": "3.10.14"
  }
 },
 "nbformat": 4,
 "nbformat_minor": 5
}
