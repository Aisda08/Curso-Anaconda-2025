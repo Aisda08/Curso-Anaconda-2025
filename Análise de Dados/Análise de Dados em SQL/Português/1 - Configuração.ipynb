{
 "cells": [
  {
   "cell_type": "markdown",
   "id": "8f2089ac36a20de5",
   "metadata": {},
   "source": [
    "# SQL"
   ]
  },
  {
   "cell_type": "markdown",
   "id": "942663dd9e2f3294",
   "metadata": {},
   "source": [
    "Nesta seção, discutiremos o que é SQL e como configurar o SQLite em um ambiente Python. Se você não está familiarizado com SQL (structured query language), pode ser uma boa ideia fazer o outro curso da Anaconda *[Introdução ao SQL](https://learning.anaconda.cloud/introduction-to-sql)*."
   ]
  },
  {
   "cell_type": "markdown",
   "id": "49ac659eb551c1f8",
   "metadata": {},
   "source": [
    "## O que é SQL (Structured Query Language?) "
   ]
  },
  {
   "cell_type": "markdown",
   "id": "bb0704691831c15c",
   "metadata": {},
   "source": [
    "**SQL** significa linguagem de consulta estruturada e é usada para recuperar, manipular e gravar dados. Neste curso, daremos ênfase à recuperação e manipulação de dados para fins analíticos. Embora SQL seja tradicionalmente associado a bancos de dados relacionais, SQL continua popular o suficiente para ser implementado em bancos de dados NoSQL (\"Not only SQL\"), bem como em plataformas de \"big data\" como Apache Spark e Trino. Mesmo com 50 anos de existência, SQL continua sendo uma habilidade necessária para qualquer profissional de dados e uma linguagem essencial para trabalhar com dados."
   ]
  },
  {
   "cell_type": "markdown",
   "id": "b76676957f68e321",
   "metadata": {},
   "source": [
    "## O que são bancos de dados relacionais?"
   ]
  },
  {
   "cell_type": "markdown",
   "id": "e10d3f73c24390c9",
   "metadata": {},
   "source": [
    "**Sistemas de gerenciamento de banco de dados (SGBD)** são repositórios que contêm tabelas que podem ter relacionamentos entre si. Se você tiver uma tabela chamada `EMPLOYEE` e outra chamada `EMPLOYEE_AIR_TRAVEL` que rastreia seus voos para viagens de negócios, podemos esperar que esta última tabela tenha um campo (talvez chamado `BOOKED_EMPLOYEE_ID` que o vincule ao `EMPLOYEE_ID` da primeira tabela.\n",
    "\n",
    "![](./resource/uXeyKTO9.svg)"
   ]
  },
  {
   "cell_type": "markdown",
   "id": "880068e404219543",
   "metadata": {},
   "source": [
    "Armazenar dados dessa maneira, separando diferentes tipos de dados, é chamado de **normalização**, e reduz eficientemente o espaço de armazenamento e minimiza a duplicação de dados. Afinal, por que armazenaríamos o `FIRST_NAME` e o `LAST_NAME` de cada funcionário para cada reserva de `EMPLOYEE_AIR_TRAVEL`? Em vez disso, usamos apenas um número inteiro para referenciar as informações do funcionário.\n",
    "\n",
    "É importante observar que, em um contexto analítico, um **data warehouse** é uma entidade com a qual você interage frequentemente. Bancos de dados relacionais podem ser usados ​​para operações em tempo real. Exemplos seriam um banco de dados que gerencia a bagagem e os clientes que circulam por um aeroporto em tempo real ou captura e atende pedidos em um site de compras. Não realizamos consultas analíticas nesses bancos de dados, pois isso pode causar lentidão. Em vez disso, temos dados que são regularmente extraídos, transformados e carregados (ETL) em um data warehouse que atende usuários analíticos que buscam obter insights do negócio sem interromper os bancos de dados operacionais.\n",
    "\n",
    "Existem outros tipos de repositórios que armazenam e fornecem interfaces com dados, como data lakes, data lakehouses e data fabrics. Mas, em geral, você descobrirá que o SQL pode ser usado para interagir com muitas dessas plataformas de dados. Para nossos propósitos, usaremos uma plataforma de banco de dados relacional (SQLite), que é integrada ao Python. Mas você pode estender esse conhecimento para outras plataformas de dados."
   ]
  },
  {
   "cell_type": "markdown",
   "id": "4eb29b52ca568f09",
   "metadata": {},
   "source": [
    "## Por que SQLite?"
   ]
  },
  {
   "cell_type": "markdown",
   "id": "f57233a7833faad",
   "metadata": {},
   "source": [
    "**SQLite** é uma plataforma de banco de dados relacional, assim como [PostgreSQL](https://www.postgresql.org), [Oracle](https://www.oracle.com/database/technologies/appdev/sql.html), ou [Microsoft SQL Server](https://www.microsoft.com/en-us/sql-server). No entanto, o que o torna único é que ele não requer um servidor. Em vez disso, o banco de dados é simplesmente armazenado como um arquivo em sua máquina local e você usa uma biblioteca ou interface de usuário para abri-lo. O Python já possui suporte ao SQLite por padrão, então você não precisa instalá-lo. Ele também está em conformidade com a [DBI API 2.0 especificada pela PEP 249](https://docs.python.org/3/library/sqlite3.html). Isso significa que outros pacotes de plataforma de banco de dados que atendem a esse padrão (incluindo [Microsoft SQL Server](https://pypi.org/project/pymssql/) e [Oracle](https://pypi.org/project/cx-Oracle/)) podem ser trabalhados da mesma forma que usaremos o SQLite. Portanto, tudo o que você aprender neste treinamento pode ser aplicado à maioria das principais plataformas de banco de dados!\n",
    "\n",
    "> Se você deseja escrever SQL em um banco de dados SQLite com uma interface gráfica de usuário, existem muitas Ferramentas que oferecem isso. Meus favoritos são [SQLiteOnline](https://docs.python.org/3/library/sqlite3.html) e [SQLiteStudio](https://sqlitestudio.pl/)."
   ]
  },
  {
   "cell_type": "markdown",
   "id": "1435ea7a2794e81f",
   "metadata": {},
   "source": [
    "## Configurando"
   ]
  },
  {
   "cell_type": "markdown",
   "id": "ceb51d7c1ba1b157",
   "metadata": {},
   "source": [
    "Como mencionado anteriormente, o SQLite já vem integrado ao Python 3. Se você usa outras plataformas, como [Microsoft SQL Server](https://pypi.org/project/pymssql/) ou [Oracle](https://pypi.org/project/cx-Oracle/), será necessário executar `pip install` nos respectivos pacotes que atendem ao padrão DBI-API 2.0.\n",
    "\n",
    "No entanto, precisamos obter o arquivo SQLite contendo um banco de dados de exemplo com o qual trabalharemos com os exemplos. Para facilitar, podemos baixar o arquivo diretamente do [repositório do Github](https://github.com/thomasnield/anaconda_intro_to_sql/) e colocá-lo em nosso diretório Python de trabalho."
   ]
  },
  {
   "cell_type": "code",
   "execution_count": null,
   "id": "f7a31f28dcbb2ef8",
   "metadata": {},
   "outputs": [],
   "source": [
    "import urllib.request\n",
    "#urllib.request.urlretrieve(\"https://github.com/thomasnield/anaconda_intro_to_sql/blob/main/company_operations.db?raw=true\", \"company_operations.db\")"
   ]
  },
  {
   "cell_type": "markdown",
   "id": "39464ccb55cdcfe0",
   "metadata": {},
   "source": [
    "Agora estamos prontos para nos conectar ao banco de dados. Criaremos uma conexão usando o pacote `sqlite3`."
   ]
  },
  {
   "cell_type": "code",
   "execution_count": null,
   "id": "4093c0fe52a402d9",
   "metadata": {},
   "outputs": [],
   "source": [
    "import sqlite3\n",
    "\n",
    "conn = sqlite3.connect('company_operations.db')"
   ]
  },
  {
   "cell_type": "markdown",
   "id": "bee1bcba5c2fbacc",
   "metadata": {},
   "source": [
    "Também incluiremos `pandas`, que possui uma função `read_sql` muito útil para executar uma consulta SQL em uma conexão e empacotar os resultados em um `DataFrame`."
   ]
  },
  {
   "cell_type": "code",
   "execution_count": null,
   "id": "c38c9abb3b657211",
   "metadata": {},
   "outputs": [],
   "source": [
    "import pandas as pd\n",
    "\n",
    "sql = \"SELECT * FROM EMPLOYEE_AIR_TRAVEL\"\n",
    "pd.read_sql(sql, conn)"
   ]
  },
  {
   "cell_type": "markdown",
   "id": "b123f514dad3a6ba",
   "metadata": {},
   "source": [
    "Observe acima que exibimos os resultados da consulta em um `DataFrame`. Vamos falar sobre a execução de consultas a seguir."
   ]
  },
  {
   "cell_type": "markdown",
   "id": "631eae91f933e69e",
   "metadata": {},
   "source": [
    "## Por que SQL em vez de Pandas?\n",
    "\n",
    "Como aprenderemos a fazer análises com SQL, você pode estar se perguntando por que não usar o Pandas, já que ele também pode executar muitas dessas tarefas. SQL e Pandas não são concorrentes, mas sim duas ferramentas diferentes para dois ambientes distintos. Quando você tem muitos terabytes de dados armazenados em um banco de dados relacional, provavelmente não conseguirá processar esses dados localmente em sua máquina usando o Pandas. Faz sentido deixar o SQL fazer a computação pesada no lado do servidor (que é otimizado para processar os dados que está armazenando) e deixar o Pandas simplesmente receber os resultados. Por outro lado, o SQL pode estar menos equipado para tarefas de aprendizado de máquina e mesclar fontes de dados distintas, ou executar algoritmos mais elaborados para os quais Python e Pandas estão mais bem equipados.\n",
    "\n",
    "Geralmente, é uma boa prática ao trabalhar com um banco de dados relacional fazer com que o servidor de banco de dados faça o trabalho de computação sempre que possível e que o ambiente Python consuma os resultados. Mantenha ambas as ferramentas em mãos e use-as em situações em que façam sentido."
   ]
  },
  {
   "cell_type": "markdown",
   "id": "96239d86258f6907",
   "metadata": {},
   "source": [
    "## Executando Consultas"
   ]
  },
  {
   "cell_type": "markdown",
   "id": "5065fa55d2952bf1",
   "metadata": {},
   "source": [
    "Espero que você já tenha trabalhado com SQL antes. Caso contrário, confira o outro curso da Anaconda *[Introdução ao SQL](https://learning.anaconda.cloud/introduction-to-sql)*. Aqui, faremos uma revisão básica da operação `SELECT` e das tarefas comuns que realizaremos.\n",
    "\n",
    "`SELECT * FROM CUSTOMER` selecionará todos os campos da tabela `CUSTOMER`."
   ]
  },
  {
   "cell_type": "code",
   "execution_count": null,
   "id": "8cd3623dceac6957",
   "metadata": {},
   "outputs": [],
   "source": [
    "sql = \"SELECT * FROM CUSTOMER\"\n",
    "pd.read_sql(sql, conn)"
   ]
  },
  {
   "cell_type": "raw",
   "id": "832ba15982914298",
   "metadata": {
    "vscode": {
     "languageId": "raw"
    }
   },
   "source": [
    "Você também pode selecionar campos específicos usando nomes de campo separados por vírgula."
   ]
  },
  {
   "cell_type": "code",
   "execution_count": null,
   "id": "55c2940947c655b",
   "metadata": {},
   "outputs": [],
   "source": [
    "sql = \"SELECT CUSTOMER_ID, CUSTOMER_NAME FROM CUSTOMER\"\n",
    "pd.read_sql(sql, conn)"
   ]
  },
  {
   "cell_type": "markdown",
   "id": "e1603b722ccd99c0",
   "metadata": {},
   "source": [
    "Para filtrar linhas com base em uma ou mais condições, use a cláusula `WHERE`. Use as palavras-chave `AND` e `OR` para especificar várias condições, usando `AND` para exigir que todas as condições sejam atendidas ou `OR` para pelo menos uma condição."
   ]
  },
  {
   "cell_type": "code",
   "execution_count": null,
   "id": "988db90b35fc85b1",
   "metadata": {},
   "outputs": [],
   "source": [
    "sql = \"\"\"\n",
    "SELECT * FROM CUSTOMER \n",
    "WHERE STATE = 'TX' AND CATEGORY = 'COMMERCIAL'\n",
    "\"\"\"\n",
    "\n",
    "pd.read_sql(sql, conn)"
   ]
  },
  {
   "cell_type": "markdown",
   "id": "1a4b009a602b5f89",
   "metadata": {},
   "source": [
    "Use parênteses para agrupar várias condições, como a ocorrência de `NEVE` ou granizo. Para que haja granizo, é preciso que haja chuva e que a temperatura seja menor ou igual a 32°F, portanto, tratamos isso como uma única condição."
   ]
  },
  {
   "cell_type": "code",
   "execution_count": null,
   "id": "268bdb5ec0533d9f",
   "metadata": {},
   "outputs": [],
   "source": [
    "sql = \"\"\"\n",
    "SELECT * FROM WEATHER_MONITOR \n",
    "WHERE SNOW > 0 OR (RAIN = 1 AND TEMPERATURE <= 32)\n",
    "\"\"\"\n",
    "\n",
    "pd.read_sql(sql, conn)"
   ]
  },
  {
   "cell_type": "markdown",
   "id": "60e706ed3c357a5d",
   "metadata": {},
   "source": [
    "Use funções como `SUM`, `MIN`, `MAX`, `COUNT` e `AVG` para agregar uma coluna. Abaixo, obtemos a precipitação total quando os tornados ocorreram."
   ]
  },
  {
   "cell_type": "code",
   "execution_count": null,
   "id": "461200ea92dcdfbb",
   "metadata": {},
   "outputs": [],
   "source": [
    "sql = \"\"\"\n",
    "SELECT SUM(RAIN) FROM WEATHER_MONITOR \n",
    "WHERE TORNADO = 1 \n",
    "\"\"\"\n",
    "\n",
    "pd.read_sql(sql, conn)"
   ]
  },
  {
   "cell_type": "markdown",
   "id": "f0fa41563e8ccacd",
   "metadata": {},
   "source": [
    "Use `GROUP BY` para segmentar (ou agrupar) funções de agregação com base em um ou mais campos/expressões. Abaixo, obtemos o total de chuva por cada data de relatório."
   ]
  },
  {
   "cell_type": "code",
   "execution_count": null,
   "id": "8cae8d90ddf768c",
   "metadata": {},
   "outputs": [],
   "source": [
    "sql = \"\"\"\n",
    "SELECT REPORT_DATE, \n",
    "SUM(RAIN) AS TOTAL_RAIN\n",
    "\n",
    "FROM WEATHER_MONITOR \n",
    "WHERE TORNADO = 1 \n",
    "GROUP BY REPORT_DATE \n",
    "\"\"\"\n",
    "\n",
    "pd.read_sql(sql, conn)"
   ]
  },
  {
   "cell_type": "markdown",
   "id": "c36febd7acc86f3d",
   "metadata": {},
   "source": [
    "Outra nuance a ser observada é que valores numéricos (incluindo valores binários 1/0), bem como valores de ponto flutuante, não precisam estar entre aspas ao declarar um valor. Mas textos, datas/horas e outros tipos de dados normalmente precisam envolver os valores entre aspas, como mostrado abaixo."
   ]
  },
  {
   "cell_type": "code",
   "execution_count": null,
   "id": "b00c37b01667f8cf",
   "metadata": {},
   "outputs": [],
   "source": [
    "sql = \"\"\"\n",
    "SELECT * FROM WEATHER_MONITOR\n",
    "WHERE REPORT_CODE = '3J3YUUD'\n",
    "\"\"\"\n",
    "\n",
    "pd.read_sql(sql, conn)\n"
   ]
  },
  {
   "cell_type": "markdown",
   "id": "36d034931b3ae0e",
   "metadata": {},
   "source": [
    "## EXERCÍCIO"
   ]
  },
  {
   "cell_type": "markdown",
   "id": "1ac4b68a875b3355",
   "metadata": {},
   "source": [
    "Complete a consulta SQL abaixo (substituindo os pontos de interrogação \"?\") para encontrar a temperatura mínima e máxima por ano desde 1º de março de 2024."
   ]
  },
  {
   "cell_type": "code",
   "execution_count": null,
   "id": "7fbefb275856f022",
   "metadata": {},
   "outputs": [],
   "source": [
    "sql = \"\"\"\n",
    "SELECT strftime('%m', REPORT_DATE) AS YEAR, \n",
    "? AS MIN_TEMP, \n",
    "? AS MAX_TEMP\n",
    "\n",
    "FROM WEATHER_MONITOR\n",
    "WHERE ? >= ?\n",
    "GROUP BY ?\n",
    "\"\"\"\n",
    "\n",
    "pd.read_sql(sql, conn)\n"
   ]
  },
  {
   "cell_type": "markdown",
   "id": "5ea3aebb3cf7d9c4",
   "metadata": {},
   "source": [
    "### RESPOSTA A BAIXO\n",
    "\n",
    "|<br>\n",
    "|<br>\n",
    "|<br>\n",
    "|<br>\n",
    "|<br>\n",
    "|<br>\n",
    "|<br>\n",
    "|<br>\n",
    "|<br>\n",
    "|<br>\n",
    "|<br>\n",
    "|<br>\n",
    "|<br>\n",
    "|<br>\n",
    "|<br>\n",
    "|<br>\n",
    "|<br>\n",
    "|<br>\n",
    "|<br>\n",
    "|<br>\n",
    "|<br>\n",
    "|<br>\n",
    "|<br>\n",
    "v "
   ]
  },
  {
   "cell_type": "code",
   "execution_count": null,
   "id": "fb2a757935979352",
   "metadata": {},
   "outputs": [],
   "source": [
    "sql = \"\"\"\n",
    "SELECT strftime('%m', REPORT_DATE) AS YEAR, \n",
    "MIN(TEMPERATURE) AS MIN_TEMP, \n",
    "MAX(TEMPERATURE) AS MAX_TEMP\n",
    "\n",
    "FROM WEATHER_MONITOR\n",
    "WHERE REPORT_DATE >= '2024-03-01'\n",
    "GROUP BY 1 \n",
    "\"\"\"\n",
    "\n",
    "pd.read_sql(sql, conn)"
   ]
  }
 ],
 "metadata": {
  "kernelspec": {
   "display_name": "Python 3",
   "language": "python",
   "name": "python3"
  },
  "language_info": {
   "codemirror_mode": {
    "name": "ipython",
    "version": 3
   },
   "file_extension": ".py",
   "mimetype": "text/x-python",
   "name": "python",
   "nbconvert_exporter": "python",
   "pygments_lexer": "ipython3",
   "version": "3.10.0"
  }
 },
 "nbformat": 4,
 "nbformat_minor": 5
}
