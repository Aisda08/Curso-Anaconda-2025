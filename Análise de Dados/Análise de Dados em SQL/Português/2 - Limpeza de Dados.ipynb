{
 "cells": [
  {
   "cell_type": "markdown",
   "id": "cc921e6fc1ce05fa",
   "metadata": {},
   "source": [
    "# Limpeza e Preparação de Dados"
   ]
  },
  {
   "cell_type": "markdown",
   "id": "23f71f0c21ce973d",
   "metadata": {},
   "source": [
    "Embora as pessoas frequentemente associem a limpeza de dados a bibliotecas de dados Python como o Pandas, o SQL pode, na verdade, fazer bastante e superar o desafio. Abordaremos algumas funções essenciais para limpeza de dados, incluindo o tratamento de valores nulos, lógica condicional e operações com strings.\n",
    "\n",
    "Nesta seção, vamos praticar com o [conjunto de dados de colisão de pássaros da FAA](https://wildlife.faa.gov/home), que é um conjunto de dados bastante complexo com algumas oportunidades de limpeza. Se você quiser aprender mais sobre esse conjunto de dados, veja o [curso completo de análise exploratória de dados no Anaconda](https://learning.anaconda.cloud/exploratory-data-analysis-eda-with-python) usando o Pandas.\n",
    "\n",
    "Vamos importar o banco de dados que preparei e converti para SQLite, apenas para registros desde 2015."
   ]
  },
  {
   "cell_type": "code",
   "execution_count": null,
   "id": "b15a4fa2499ccbfe",
   "metadata": {},
   "outputs": [],
   "source": [
    "import sqlite3\n",
    "import pandas as pd \n",
    "\n",
    "conn = sqlite3.connect('bird_strike.db')\n",
    "\n",
    "pd.read_sql(\"SELECT * FROM BIRD_STRIKE_FAA\", conn)\n"
   ]
  },
  {
   "cell_type": "markdown",
   "id": "e540adcc59bdc292",
   "metadata": {},
   "source": [
    "Vamos falar primeiro sobre expressões de caso e, em seguida, sobre valores nulos."
   ]
  },
  {
   "cell_type": "markdown",
   "id": "c108a700592e6e59",
   "metadata": {},
   "source": [
    "## Expressões de Caso"
   ]
  },
  {
   "cell_type": "markdown",
   "id": "ee3b8c75823ce534",
   "metadata": {},
   "source": [
    "Digamos que eu selecione estes campos da tabela `BIRD_STRIKE_FAA`. Quero sinalizar quaisquer registros que envolvam um Boeing 737, que possui diversas variantes. Vamos usar um operador curinga `LIKE` para fazer isso."
   ]
  },
  {
   "cell_type": "code",
   "execution_count": null,
   "id": "609f59efa2421f6f",
   "metadata": {},
   "outputs": [],
   "source": [
    "sql = \"\"\" SELECT \n",
    "AIRPORT_ID,\n",
    "AIRPORT,\n",
    "AIRCRAFT\n",
    "\n",
    "FROM BIRD_STRIKE_FAA\n",
    "WHERE AIRCRAFT LIKE '%737%'\n",
    "\"\"\"\n",
    "\n",
    "pd.read_sql(sql, conn) "
   ]
  },
  {
   "cell_type": "markdown",
   "id": "f1f1a19ff5c26aa3",
   "metadata": {},
   "source": [
    "Se quisermos verificar quais valores estão sendo capturados com `%737%`, podemos usar um operador `DISTINCT`."
   ]
  },
  {
   "cell_type": "code",
   "execution_count": null,
   "id": "66967fe3527c7bc9",
   "metadata": {},
   "outputs": [],
   "source": [
    "sql = \"\"\" \n",
    "SELECT DISTINCT AIRCRAFT\n",
    "FROM BIRD_STRIKE_FAA\n",
    "WHERE AIRCRAFT LIKE '%737%'\n",
    "\"\"\"\n",
    "\n",
    "pd.read_sql(sql, conn) "
   ]
  },
  {
   "cell_type": "markdown",
   "id": "7e069cc035dba2f6",
   "metadata": {},
   "source": [
    "Agora, quero comparar os incidentes do Boeing 737 com os incidentes do Airbus A320. Podemos categorizá-los dessa forma usando uma expressão `CASE` e usar a ramificação `ELSE` para sinalizar todo o resto como `OTHER`."
   ]
  },
  {
   "cell_type": "code",
   "execution_count": null,
   "id": "735b52751d4f28f5",
   "metadata": {},
   "outputs": [],
   "source": [
    "sql = \"\"\" \n",
    "SELECT INDEX_NR, \n",
    "AIRCRAFT, \n",
    "INCIDENT_DATE,\n",
    "STATE, \n",
    "AIRPORT_ID, \n",
    "\n",
    "CASE \n",
    "    WHEN AIRCRAFT LIKE '%737%' THEN 'Boeing 737'\n",
    "    WHEN AIRCRAFT LIKE 'A-320%' THEN 'Airbus A-320'\n",
    "    ELSE 'Other'\n",
    "END AIRCRAFT_OF_INTEREST_FLAG \n",
    "\n",
    "FROM BIRD_STRIKE_FAA\n",
    "\n",
    "\"\"\"\n",
    "\n",
    "pd.read_sql(sql, conn) "
   ]
  },
  {
   "cell_type": "markdown",
   "id": "378949231f4fc035",
   "metadata": {},
   "source": [
    "Para ter uma ideia de quantos registros receberam cada uma dessas sinalizações, vamos usar `COUNT(*)` pareado com `GROUP BY`."
   ]
  },
  {
   "cell_type": "code",
   "execution_count": null,
   "id": "389a260b1edf9cfd",
   "metadata": {},
   "outputs": [],
   "source": [
    "sql = \"\"\" \n",
    "SELECT \n",
    "\n",
    "CASE \n",
    "    WHEN AIRCRAFT LIKE '%737%' THEN 'Boeing 737-related'\n",
    "    WHEN AIRCRAFT LIKE 'A-320%' THEN 'Airbus A-320-related'\n",
    "    ELSE 'Other'\n",
    "END AIRCRAFT_OF_INTEREST_FLAG, \n",
    "\n",
    "COUNT(*) AS RECORD_COUNT\n",
    "\n",
    "FROM BIRD_STRIKE_FAA\n",
    "\n",
    "GROUP BY AIRCRAFT_OF_INTEREST_FLAG\n",
    "\n",
    "\"\"\"\n",
    "\n",
    "pd.read_sql(sql, conn) "
   ]
  },
  {
   "cell_type": "markdown",
   "id": "fd21c3817e070f7c",
   "metadata": {},
   "source": [
    "A expressão `CASE` é útil para todos os tipos de transformações e limpeza de dados. Vamos falar sobre valores nulos a seguir."
   ]
  },
  {
   "cell_type": "markdown",
   "id": "4d577a044676b8b1",
   "metadata": {},
   "source": [
    "## Identificando Valores Nulos"
   ]
  },
  {
   "cell_type": "markdown",
   "id": "1d76cde934cb8dff",
   "metadata": {},
   "source": [
    "Vamos analisar alguns campos da tabela. Observe como os campos `RUNWAY` e `PHASE_OF_FLIGHT` têm alguns valores `None` e as colunas `HEIGHT`, `SPEED` e `DISTANCE` têm `NaN`."
   ]
  },
  {
   "cell_type": "code",
   "execution_count": null,
   "id": "afed1d26cc718ec7",
   "metadata": {},
   "outputs": [],
   "source": [
    "sql = \"\"\"\n",
    "SELECT AIRPORT, RUNWAY, PHASE_OF_FLIGHT, HEIGHT, SPEED, DISTANCE \n",
    "FROM BIRD_STRIKE_FAA\n",
    "\"\"\"\n",
    "\n",
    "pd.read_sql(sql, conn)"
   ]
  },
  {
   "cell_type": "markdown",
   "id": "db11e8e5dea39d5b",
   "metadata": {},
   "source": [
    "O pandas está, na verdade, transformando valores `NULL` do banco de dados SQLite em valores `None` e `NaN`, dependendo do tipo de dado da coluna (valores numéricos serão `NaN`). Nulos podem ser inconvenientes se você não os considerar. Funções de agregação como `SUM`, `MIN`, `MAX`, `COUNT` e `AVG` ignorarão valores nulos, o que podemos aproveitar posteriormente. Ao escrever uma condição `WHERE` em um campo, ela sempre ignorará valores nulos, a menos que você os trate explicitamente. Use os operadores `IS NULL` e `IS NOT NULL` para qualificar/desqualificar valores nulos."
   ]
  },
  {
   "cell_type": "code",
   "execution_count": null,
   "id": "95ecfdda21f94572",
   "metadata": {},
   "outputs": [],
   "source": [
    "sql = \"\"\"\n",
    "SELECT AIRPORT, RUNWAY, PHASE_OF_FLIGHT, HEIGHT, SPEED, DISTANCE \n",
    "FROM BIRD_STRIKE_FAA\n",
    "WHERE PHASE_OF_FLIGHT IS NULL\n",
    "\"\"\"\n",
    "\n",
    "pd.read_sql(sql, conn)"
   ]
  },
  {
   "cell_type": "markdown",
   "id": "24eeae926fae8802",
   "metadata": {},
   "source": [
    "Para esses campos, vamos contar o número de registros e o número de valores não nulos."
   ]
  },
  {
   "cell_type": "code",
   "execution_count": null,
   "id": "7fb4e6a2881933d1",
   "metadata": {},
   "outputs": [],
   "source": [
    "sql = \"\"\"\n",
    "SELECT COUNT(*) AS RECORD_COUNT, \n",
    "COUNT(AIRPORT) AS AIRPORT_VALUES, \n",
    "COUNT(RUNWAY) AS RUNWAY_VALUES, \n",
    "COUNT(PHASE_OF_FLIGHT) AS PHASE_OF_FLIGHT_VALUES, \n",
    "COUNT(HEIGHT) AS HEIGHT_VALUES, \n",
    "COUNT(SPEED) AS SPEED_VALUES, \n",
    "COUNT(DISTANCE) AS DISTANCE_VALUES \n",
    "FROM BIRD_STRIKE_FAA\n",
    "\"\"\"\n",
    "\n",
    "pd.read_sql(sql, conn)"
   ]
  },
  {
   "cell_type": "markdown",
   "id": "54897b7c729f98cd",
   "metadata": {},
   "source": [
    "Se quiséssemos contar o número de valores `NULL` (em vez de valores não `NULL`), poderíamos subtrair a contagem desses campos da contagem de registros ou, mais elegantemente, `SUM` o número de valores verdadeiros usando `IS NULL`. Como `1` será gerado para verdadeiro e `0` para falso, podemos usar isso para somar os valores verdadeiros."
   ]
  },
  {
   "cell_type": "code",
   "execution_count": null,
   "id": "5993f66eb841fcf2",
   "metadata": {},
   "outputs": [],
   "source": [
    "sql = \"\"\"\n",
    "SELECT COUNT(*) AS RECORD_COUNT, \n",
    "SUM(AIRPORT IS NULL) AS AIRPORT_NULLS, \n",
    "SUM(RUNWAY IS NULL) AS RUNWAY_NULLS, \n",
    "SUM(PHASE_OF_FLIGHT IS NULL) AS PHASE_OF_FLIGHT_NULLS, \n",
    "SUM(HEIGHT IS NULL) AS HEIGHT_NULLS, \n",
    "SUM(SPEED IS NULL) AS SPEED_NULLS, \n",
    "SUM(DISTANCE IS NULL) AS DISTANCE_NULLS \n",
    "FROM BIRD_STRIKE_FAA\n",
    "\"\"\"\n",
    "\n",
    "pd.read_sql(sql, conn)"
   ]
  },
  {
   "cell_type": "markdown",
   "id": "cd2efceca229c4a4",
   "metadata": {},
   "source": [
    "Também podemos calcular a porcentagem de nulos em cada um desses campos. Certifique-se apenas de converter a operação para valores de ponto flutuante em vez de inteiros, o que pode ser feito multiplicando a expressão por `1,0`."
   ]
  },
  {
   "cell_type": "code",
   "execution_count": null,
   "id": "d570595dea67ebdf",
   "metadata": {},
   "outputs": [],
   "source": [
    "sql = \"\"\"\n",
    "SELECT COUNT(*) AS RECORD_COUNT, \n",
    "1.0 * SUM(AIRPORT IS NULL) / COUNT(*) AS AIRPORT_NULL_RATE, \n",
    "1.0 * SUM(RUNWAY IS NULL) / COUNT(*)  AS RUNWAY_NULL_RATE, \n",
    "1.0 * SUM(PHASE_OF_FLIGHT IS NULL) / COUNT(*) AS PHASE_OF_FLIGHT_NULL_RATE, \n",
    "1.0 * SUM(HEIGHT IS NULL) / COUNT(*) AS HEIGHT_NULL_RATE, \n",
    "1.0 * SUM(SPEED IS NULL) / COUNT(*) AS SPEED_NULL_RATE, \n",
    "1.0 * SUM(DISTANCE IS NULL) / COUNT(*) AS DISTANCE_NULL_RATE \n",
    "FROM BIRD_STRIKE_FAA\n",
    "\"\"\"\n",
    "\n",
    "pd.read_sql(sql, conn)"
   ]
  },
  {
   "cell_type": "markdown",
   "id": "eabbf50f6a0cad2f",
   "metadata": {},
   "source": [
    "Se estivermos interessados ​​em colisões com pássaros que ocorreram abaixo de 500 pés, consideramos os valores nulos e se queremos incluí-los? É por isso que documentar o que `null` significa para um determinado campo é tão importante. Talvez a `HEIGHT` fosse irrelevante ou não pudesse ser medida porque um instrumento estava quebrado. Ou talvez o piloto tenha preenchido o relatório às pressas e não se importado em anotar essas informações. De qualquer forma, precisamos entender por que valores podem estar ausentes e se eles devem ser incluídos em uma determinada análise."
   ]
  },
  {
   "cell_type": "markdown",
   "id": "75e0b073212b07f5",
   "metadata": {},
   "source": [
    "> Um erro comum para iniciantes em SQL é usar `= NULL` em vez de `IS NULL`. Isso não funciona! Sempre use a última opção.\n",
    "\n",
    "Se quisermos encontrar registros onde `HEIGHT` seja menor que 500 pés, mas quisermos incluir valores `NULL` também, precisamos usar `IS NULL` combinado com `OR` para essa condição."
   ]
  },
  {
   "cell_type": "code",
   "execution_count": null,
   "id": "6b4b62254a19a134",
   "metadata": {},
   "outputs": [],
   "source": [
    "sql = \"\"\"\n",
    "SELECT AIRPORT, RUNWAY, PHASE_OF_FLIGHT, HEIGHT, SPEED, DISTANCE \n",
    "FROM BIRD_STRIKE_FAA\n",
    "\n",
    "WHERE HEIGHT IS NULL OR HEIGHT < 500\n",
    "\"\"\"\n",
    "\n",
    "pd.read_sql(sql, conn)"
   ]
  },
  {
   "cell_type": "markdown",
   "id": "a45f4f224ba36100",
   "metadata": {},
   "source": [
    "Também poderíamos usar uma expressão `CASE` para transformar valores de altura `NULL` em `0`, mas há algo ainda melhor: a função `COALESCE`. Ela pegará um valor possivelmente nulo e o trocará por um valor diferente se for nulo."
   ]
  },
  {
   "cell_type": "code",
   "execution_count": null,
   "id": "a7e7c0f26748ae50",
   "metadata": {},
   "outputs": [],
   "source": [
    "sql = \"\"\"\n",
    "SELECT AIRPORT, RUNWAY, PHASE_OF_FLIGHT, HEIGHT, SPEED, DISTANCE \n",
    "FROM BIRD_STRIKE_FAA\n",
    "\n",
    "WHERE COALESCE(HEIGHT, 0) < 500\n",
    "\"\"\"\n",
    "\n",
    "pd.read_sql(sql, conn)"
   ]
  },
  {
   "cell_type": "markdown",
   "id": "bac11bfe706c8392",
   "metadata": {},
   "source": [
    "Essa coalescência realiza o mesmo que uma expressão `CASE` convertendo valores nulos."
   ]
  },
  {
   "cell_type": "code",
   "execution_count": null,
   "id": "9a2312b4453f5a97",
   "metadata": {},
   "outputs": [],
   "source": [
    "sql = \"\"\"\n",
    "SELECT AIRPORT, RUNWAY, PHASE_OF_FLIGHT, HEIGHT, SPEED, DISTANCE \n",
    "FROM BIRD_STRIKE_FAA\n",
    "\n",
    "WHERE (CASE WHEN HEIGHT IS NULL THEN 0 ELSE HEIGHT END) < 500\n",
    "\"\"\"\n",
    "\n",
    "pd.read_sql(sql, conn)"
   ]
  },
  {
   "cell_type": "markdown",
   "id": "20a58687c7ee4f11",
   "metadata": {},
   "source": [
    "Isso fornece todas as ferramentas necessárias para filtrar e manipular valores nulos. Mais tarde, usaremos técnicas para imputar valores ausentes com subconsultas. Não existe uma abordagem única para lidar com valores nulos. Isso sempre dependerá da tarefa e da maneira mais apropriada de lidar com eles."
   ]
  },
  {
   "cell_type": "markdown",
   "id": "256a7444a6078fb0",
   "metadata": {},
   "source": [
    "## Operações com Strings"
   ]
  },
  {
   "cell_type": "markdown",
   "id": "403e8f8f705ad4ab",
   "metadata": {},
   "source": [
    "Grande parte da limpeza de dados envolverá operações com strings. Já vimos como usar curingas com o operador `LIKE`, mas existem muitas funções (e alguns operadores) que visam strings.\n",
    "\n",
    "| Nome      | Descrição                                                                         |\n",
    "|-----------|-----------------------------------------------------------------------------------|\n",
    "| LENGTH    | Conta o número de caracteres em uma string.                                       |\n",
    "| UPPER     | Converte uma string para letras maiúsculas.                                       |\n",
    "| LOWER     | Converte uma string para letras minúsculas.                                       |\n",
    "| SUBSTR    | Extrai uma substring com um comprimento predefinido em uma posição específica.    |\n",
    "| TRIM      | Remove os caracteres especificados (espaço padrão) do início e do fim da string.  |\n",
    "| LTRIM     | Remove os caracteres especificados (espaço padrão) do início da string.           |\n",
    "| RTRIM     | Remove os caracteres especificados (espaço padrão) do final da string.            |\n",
    "| REPLACE   | Substitui substrings correspondentes em uma string por outra substring.           |\n",
    "| INSTR     | Retorna a posição da primeira ocorrência da substring, -1 se não for encontrada.  |\n",
    "| \\|\\|      | Concatena dois ou mais valores em uma string                                      |\n",
    "| CONCAT_WS | Concatena várias strings em uma única string com um separador.                    |\n",
    "| REGEXP    | Determina se uma string corresponde a uma expressão regular.                      | \n"
   ]
  },
  {
   "cell_type": "markdown",
   "id": "a970fadaf794a463",
   "metadata": {},
   "source": [
    "Digamos que queremos verificar se todos os valores `AIRPORT_ID` têm quatro caracteres. Podemos usar a função `LENGTH()` para fazer isso e, com certeza, existem alguns que não têm."
   ]
  },
  {
   "cell_type": "code",
   "execution_count": null,
   "id": "d018631f6f10d0b9",
   "metadata": {},
   "outputs": [],
   "source": [
    "sql = \"\"\"\n",
    "SELECT * FROM BIRD_STRIKE_FAA\n",
    "WHERE LENGTH(AIRPORT_ID) != 4\n",
    "\"\"\"\n",
    "\n",
    "pd.read_sql(sql, conn)"
   ]
  },
  {
   "cell_type": "markdown",
   "id": "6e9e7aa906f40fc5",
   "metadata": {},
   "source": [
    "Aqui está outro exemplo em que substituímos \"ARPT\" por \"AIRPORT\" no campo `AIRPORT`."
   ]
  },
  {
   "cell_type": "code",
   "execution_count": null,
   "id": "2b2063fc2c9d9a2e",
   "metadata": {},
   "outputs": [],
   "source": [
    "sql = \"\"\"\n",
    "SELECT \n",
    "AIRPORT,\n",
    "REPLACE(AIRPORT, 'ARPT','AIRPORT') AS AIRPORT_NEW \n",
    "FROM BIRD_STRIKE_FAA\n",
    "\"\"\"\n",
    "\n",
    "pd.read_sql(sql, conn)"
   ]
  },
  {
   "cell_type": "markdown",
   "id": "908ca84e2d0578a1",
   "metadata": {},
   "source": [
    "Expressões regulares são definitivamente algo que você vai querer aprender ao limpar dados, e elas são suportadas em SQL, Pandas, Python e muitas outras plataformas. Na verdade, recomendo um [curso Anaconda em Python](https://learning.anaconda.cloud/regular-expressions-in-python). Outras plataformas SQL suportam expressões regulares, mas o SQLite precisa habilitá-las em Python. Podemos fazer isso executando o código abaixo."
   ]
  },
  {
   "cell_type": "code",
   "execution_count": null,
   "id": "d789d2ce81260e7f",
   "metadata": {},
   "outputs": [],
   "source": [
    "import re\n",
    "\n",
    "def regexp(expr, item):\n",
    "    reg = re.compile(expr)\n",
    "    return reg.search(item) is not None\n",
    "\n",
    "conn.create_function(\"REGEXP\", 2, regexp)"
   ]
  },
  {
   "cell_type": "markdown",
   "id": "c3c613ba398dd072",
   "metadata": {},
   "source": [
    "Agora, posso procurar as aeronaves Airbus A-320 e A-321 usando uma única expressão regular, como mostrado abaixo."
   ]
  },
  {
   "cell_type": "code",
   "execution_count": null,
   "id": "3070b747678e7ef2",
   "metadata": {},
   "outputs": [],
   "source": [
    "sql = \"\"\" \n",
    "SELECT * FROM BIRD_STRIKE_FAA\n",
    "WHERE AIRCRAFT REGEXP 'A-32[01]'\n",
    "\"\"\"\n",
    "\n",
    "pd.read_sql(sql, conn) "
   ]
  },
  {
   "cell_type": "markdown",
   "id": "9d97c0162b6a1321",
   "metadata": {},
   "source": [
    "Vamos juntar várias dessas operações com strings para uma tarefa prática. Vamos pegar as colunas `INCIDENT_DATE` e `TIME` e combiná-las em um `DATETIME` adequado. Podemos remover aquele texto padrão \"0 days \" da coluna `TIME` usando `SUBSTR`. Se o valor de `TIME` estiver ausente, podemos usar `coalesce()` para substituir os valores nulos e transformá-los em \"00:00:00\". Por fim, concatenamos isso com o `INCIDENT_DATE` e fazemos o cast de tudo como um `DATETIME`."
   ]
  },
  {
   "cell_type": "code",
   "execution_count": null,
   "id": "c85f698dde128f",
   "metadata": {},
   "outputs": [],
   "source": [
    "sql = \"\"\"\n",
    "SELECT OPERATOR, \n",
    "AIRCRAFT,\n",
    "AIRPORT,\n",
    "DATETIME(INCIDENT_DATE || ' ' || COALESCE(SUBSTR(TIME, 7), '00:00:00')) AS INCIDENT_DATETIME \n",
    "\n",
    "FROM BIRD_STRIKE_FAA\n",
    "\n",
    "ORDER BY INCIDENT_DATE DESC\n",
    "\"\"\"\n",
    "\n",
    "pd.read_sql(sql, conn)"
   ]
  },
  {
   "cell_type": "markdown",
   "id": "5d849f6beb1482e7",
   "metadata": {},
   "source": [
    "> **Devo gravar essas alterações de volta na tabela?**\n",
    "> \n",
    "> Uma das vantagens do SQL é que você pode facilmente pegar uma fonte de dados bruta e fazer transformações com consultas SQL. Você pode se perguntar se essas alterações devem ser gravadas de volta na tabela. Eu só faria isso no contexto em que você está realizando o trabalho de extração-transformação-carregamento (ETL) e fornecendo um conjunto de dados limpo para outros. Você pode fazer isso facilmente chamando `CREATE TABLE` com `SELECT` para criar uma nova tabela a partir de uma consulta `SELECT` ou usando `INSERT` com `SELECT` para uma tabela de destino existente. Mas você pode manter todo o seu trabalho de limpeza em consultas executadas conforme necessário, sem precisar armazenar os dados limpos de volta em uma tabela. Considere até mesmo compartilhar as próprias consultas `SELECT`, que podem ser armazenadas em um arquivo de texto, e-mail ou uma visualização."
   ]
  },
  {
   "cell_type": "markdown",
   "id": "6c25a090e2ea5407",
   "metadata": {},
   "source": [
    "## Truques com UNION, UNION ALL e CASE"
   ]
  },
  {
   "cell_type": "markdown",
   "id": "7943041cb7754cb6",
   "metadata": {},
   "source": [
    "Digamos que eu esteja interessado em comparar o custo de reparos por ano para incidentes abaixo de 1.000 pés e acima de 1.000 pés. A maioria das pessoas usaria `UNION ALL` para anexar essas duas consultas."
   ]
  },
  {
   "cell_type": "code",
   "execution_count": null,
   "id": "ddcde62cb9ca23d2",
   "metadata": {},
   "outputs": [],
   "source": [
    "sql = \"\"\"\n",
    "SELECT INCIDENT_YEAR, \n",
    "'BELOW 500' AS THRESHOLD, \n",
    "SUM(COST_REPAIRS) AS TOTAL_REPAIRS\n",
    "FROM BIRD_STRIKE_FAA\n",
    "WHERE HEIGHT < 1000 \n",
    "GROUP BY INCIDENT_YEAR, THRESHOLD\n",
    "\n",
    "UNION ALL \n",
    "\n",
    "SELECT INCIDENT_YEAR, \n",
    "'ABOVE 500' AS THRESHOLD, \n",
    "SUM(COST_REPAIRS) AS TOTAL_REPAIRS\n",
    "FROM BIRD_STRIKE_FAA\n",
    "WHERE HEIGHT >= 1000 \n",
    "GROUP BY INCIDENT_YEAR, THRESHOLD\n",
    "\"\"\"\n",
    "\n",
    "pd.read_sql(sql, conn)"
   ]
  },
  {
   "cell_type": "markdown",
   "id": "5b6da7f1688ccbd4",
   "metadata": {},
   "source": [
    "Isso demonstra o `UNION ALL`, que anexa os resultados de ambas as consultas. O `UNION`, que não demonstramos, faria a mesma coisa, mas eliminaria registros duplicados.\n",
    "\n",
    "No entanto, não sou fã desse caso de uso, por mais comum que seja. As consultas são redundantes e, portanto, precisam executar duas varreduras na tabela, o que é ineficiente. A única diferença entre as consultas é a condição `WHERE`. Se movermos essa condição `WHERE` para uma expressão `CASE`, podemos consolidar em uma única consulta."
   ]
  },
  {
   "cell_type": "code",
   "execution_count": null,
   "id": "265f4debe8cf4608",
   "metadata": {},
   "outputs": [],
   "source": [
    "sql = \"\"\"\n",
    "SELECT INCIDENT_YEAR, \n",
    "CASE WHEN HEIGHT < 1000 THEN 'BELOW 1000' ELSE 'ABOVE 1000' END AS THRESHOLD, \n",
    "SUM(COST_REPAIRS) AS TOTAL_REPAIRS\n",
    "FROM BIRD_STRIKE_FAA\n",
    "GROUP BY INCIDENT_YEAR, THRESHOLD\n",
    "\"\"\"\n",
    "\n",
    "pd.read_sql(sql, conn)"
   ]
  },
  {
   "cell_type": "markdown",
   "id": "de45f10630b57c49",
   "metadata": {},
   "source": [
    "Provavelmente podemos fazer algo ainda melhor aqui. Vamos dividir `TOTAL_REPAIRS` em duas colunas, uma para o limite \"ACIMA DE 1000\" e outra para o limite \"ABAIXO DE 1000\". Podemos fazer isso com duas expressões `CASE` dentro das funções `SUM`."
   ]
  },
  {
   "cell_type": "code",
   "execution_count": null,
   "id": "53a41ae2dcb0e163",
   "metadata": {},
   "outputs": [],
   "source": [
    "sql = \"\"\"\n",
    "SELECT INCIDENT_YEAR, \n",
    "SUM(CASE WHEN HEIGHT < 1000 THEN COST_REPAIRS ELSE NULL END) AS BELOW_1000_COST_REPAIRS, \n",
    "SUM(CASE WHEN HEIGHT >= 1000 THEN COST_REPAIRS ELSE NULL END) AS ABOVE_1000_COST_REPAIRS, \n",
    "SUM(COST_REPAIRS) AS TOTAL_REPAIRS\n",
    "FROM BIRD_STRIKE_FAA\n",
    "GROUP BY INCIDENT_YEAR\n",
    "\"\"\"\n",
    "\n",
    "pd.read_sql(sql, conn)"
   ]
  },
  {
   "cell_type": "markdown",
   "id": "540aef90e6da2215",
   "metadata": {},
   "source": [
    "Como os valores `NULL` são ignorados por `SUM()` e outras funções de agregação, podemos usá-las para ignorar condicionalmente valores que não queremos contabilizar na soma. Isso efetivamente permite que cada função `SUM()` (ou qualquer função de agregação) tenha diferentes condições `WHERE`.\n",
    "\n",
    "Como você pode ver, `UNION` e `UNION ALL` nem sempre são uma boa ideia de uso e, muitas vezes, existem maneiras melhores de realizar as tarefas para as quais são comumente usadas, geralmente envolvendo uma expressão `CASE`. Os únicos casos de uso para os quais elas são exclusivamente qualificadas são quando você tem várias consultas extraindo de tabelas diferentes (não da mesma) e transformando-as na mesma saída estrutural a ser anexada.\n",
    "\n",
    "Use a expressão `CASE` para habilitar padrões poderosos que poucos conhecem!"
   ]
  },
  {
   "cell_type": "markdown",
   "id": "b8694875547fc147",
   "metadata": {},
   "source": [
    "## Exercício\n"
   ]
  },
  {
   "cell_type": "markdown",
   "id": "5db40c5d7e857c08",
   "metadata": {},
   "source": [
    "Encontre o custo total dos reparos por `ANO_INCIDENTE` e `MÊS_INCIDENTE`, mas dividido em dois totais: onde `VELOCIDADE` é menor que 200 e `VELOCIDADE` é maior ou igual a `200`. Complete o código abaixo substituindo os pontos de interrogação por `?`."
   ]
  },
  {
   "cell_type": "code",
   "execution_count": null,
   "id": "beeaedf993490d60",
   "metadata": {},
   "outputs": [],
   "source": [
    "sql = \"\"\"\n",
    "SELECT ?, \n",
    "?,\n",
    "? AS BELOW_200_KNOTS_COST_REPAIRS, \n",
    "? AS ABOVE_200_KNOTS_COST_REPAIRS, \n",
    "SUM(COST_REPAIRS) AS TOTAL_REPAIRS\n",
    "FROM BIRD_STRIKE_FAA\n",
    "GROUP BY INCIDENT_YEAR, INCIDENT_MONTH \n",
    "\"\"\"\n",
    "\n",
    "pd.read_sql(sql, conn)"
   ]
  },
  {
   "cell_type": "markdown",
   "id": "77475528aeed4055",
   "metadata": {},
   "source": [
    "### RESPOSTA A BAIXO\n",
    "\n",
    "|<br>\n",
    "|<br>\n",
    "|<br>\n",
    "|<br>\n",
    "|<br>\n",
    "|<br>\n",
    "|<br>\n",
    "|<br>\n",
    "|<br>\n",
    "|<br>\n",
    "|<br>\n",
    "|<br>\n",
    "|<br>\n",
    "|<br>\n",
    "|<br>\n",
    "|<br>\n",
    "|<br>\n",
    "|<br>\n",
    "|<br>\n",
    "|<br>\n",
    "|<br>\n",
    "|<br>\n",
    "|<br>\n",
    "v "
   ]
  },
  {
   "cell_type": "code",
   "execution_count": null,
   "id": "2f6382d175c7d803",
   "metadata": {},
   "outputs": [],
   "source": [
    "sql = \"\"\"\n",
    "SELECT INCIDENT_YEAR, \n",
    "INCIDENT_MONTH,\n",
    "SUM(CASE WHEN SPEED < 200 THEN COST_REPAIRS ELSE NULL END) AS BELOW_200_KNOTS_COST_REPAIRS, \n",
    "SUM(CASE WHEN SPEED >= 200 THEN COST_REPAIRS ELSE NULL END) AS ABOVE_200_KNOTS_COST_REPAIRS, \n",
    "SUM(COST_REPAIRS) AS TOTAL_REPAIRS\n",
    "FROM BIRD_STRIKE_FAA\n",
    "GROUP BY 1, 2\n",
    "\"\"\"\n",
    "\n",
    "pd.read_sql(sql, conn)"
   ]
  }
 ],
 "metadata": {
  "kernelspec": {
   "display_name": "anaconda-2024.02-py310",
   "language": "python",
   "name": "conda-env-anaconda-2024.02-py310-py"
  },
  "language_info": {
   "codemirror_mode": {
    "name": "ipython",
    "version": 3
   },
   "file_extension": ".py",
   "mimetype": "text/x-python",
   "name": "python",
   "nbconvert_exporter": "python",
   "pygments_lexer": "ipython3",
   "version": "3.10.14"
  }
 },
 "nbformat": 4,
 "nbformat_minor": 5
}
