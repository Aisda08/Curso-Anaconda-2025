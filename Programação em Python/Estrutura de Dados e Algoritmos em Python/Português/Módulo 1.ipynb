{
 "cells": [
  {
   "cell_type": "markdown",
   "id": "9c4cf692-aec7-40e8-b601-f63fe79f1167",
   "metadata": {
    "editable": true,
    "slideshow": {
     "slide_type": "slide"
    },
    "tags": []
   },
   "source": [
    "# Módulo 1: Notação Big O para Aplicações do Mundo Real\n",
    "## Compreendendo a Complexidade de Tempo em Python"
   ]
  },
  {
   "cell_type": "markdown",
   "id": "15fc9881-a347-46b3-b430-a263c3fe881e",
   "metadata": {
    "editable": true,
    "slideshow": {
     "slide_type": "slide"
    },
    "tags": []
   },
   "source": [
    "## Apresentando a Notação Big O\n",
    "\n",
    "### **O que é a Notação Big O?**\n",
    "- A Notação Big O descreve como o desempenho de um algoritmo muda à medida que o tamanho da entrada aumenta.\n",
    "- Foca na **complexidade temporal** (quanto tempo leva) e na **complexidade espacial** (quanta memória usa).\n",
    "\n",
    "###\n",
    "\n",
    "### **Por que a Notação Big O é importante?**\n",
    "- **Compare algoritmos** para encontrar o mais eficiente.\n",
    "- **Identifique as partes lentas** do seu código que precisam de otimização.\n",
    "- **Garanta a escalabilidade** para que seu programa possa lidar com grandes quantidades de dados."
   ]
  },
  {
   "cell_type": "markdown",
   "id": "65f9cfad-8686-4213-b85c-48dacfcd035b",
   "metadata": {
    "editable": true,
    "slideshow": {
     "slide_type": "slide"
    },
    "tags": []
   },
   "source": [
    "## Apresentando a Notação Big O\n",
    "\n",
    "- **Classificações Comuns de Big O**\n",
    "- O(1): Tempo Constante\n",
    "- O(log n): Tempo Logarítmico\n",
    "- O(n): Tempo Linear\n",
    "- O(n^2): Tempo Quadrático"
   ]
  },
  {
   "cell_type": "markdown",
   "id": "6fb3940e-47bd-4490-93cd-756296ea9b87",
   "metadata": {
    "editable": true,
    "slideshow": {
     "slide_type": "slide"
    },
    "tags": []
   },
   "source": [
    "## Apresentando a Notação Big O\n",
    "### Classificações Comuns de Big O\n",
    "\n",
    "1. **O(1) - Tempo Constante**:\n",
    "- Não importa o tamanho da tarefa, o tempo que ela leva permanece o mesmo.\n",
    "- **Exemplo**: Imagine que você está pesquisando o preço de um produto em um catálogo usando seu número de item.\n",
    "```python\n",
    "     catalog = {\"item_123\": 20.99, \"item_456\": 15.49}\n",
    "     print(catalog[\"item_123\"])  # O acesso por tecla é instantâneo, como virar para a página correta.\n",
    "```"
   ]
  },
  {
   "cell_type": "markdown",
   "id": "5d93256a-9f69-4f5b-9705-49b3f7d6f7ca",
   "metadata": {
    "editable": true,
    "execution": {
     "iopub.execute_input": "2024-11-25T14:54:42.075504Z",
     "iopub.status.busy": "2024-11-25T14:54:42.075161Z",
     "iopub.status.idle": "2024-11-25T14:54:42.082413Z",
     "shell.execute_reply": "2024-11-25T14:54:42.081019Z",
     "shell.execute_reply.started": "2024-11-25T14:54:42.075480Z"
    },
    "slideshow": {
     "slide_type": "slide"
    },
    "tags": []
   },
   "source": [
    "## Apresentando a Notação Big O\n",
    "### Classificações Comuns do Big O\n",
    "\n",
    "2. **O(log n) - Tempo Logarítmico**:\n",
    "- Quanto maior a entrada, mais lento ela cresce, mas ainda é muito eficiente.\n",
    "- **Exemplo**: Imagine procurar um livro em uma biblioteca com um banco de dados ordenado. Você reduz o espaço de busca pela metade a cada vez.\n",
    "     ```python\n",
    "     def encontrar_livro(livros_ordenados, titulo):\n",
    "        inicio, fim = 0, len(livros_ordenados) - 1\n",
    "        while inicio <= fim:\n",
    "            meio = (inicio + fim) // 2\n",
    "            if livros_ordenados[meio] == titulo:\n",
    "                return meio\n",
    "            elif livros_ordenados[meio] < titulo:\n",
    "                inicio = meio + 1\n",
    "            else:\n",
    "                fim = meio - 1\n",
    "        return -1  # Não encontrado\n",
    "     ```"
   ]
  },
  {
   "cell_type": "markdown",
   "id": "1bd70f91-e6b3-4d6e-8785-aa78afd95a3b",
   "metadata": {
    "editable": true,
    "execution": {
     "iopub.execute_input": "2024-11-25T14:55:52.111830Z",
     "iopub.status.busy": "2024-11-25T14:55:52.111497Z",
     "iopub.status.idle": "2024-11-25T14:55:52.116866Z",
     "shell.execute_reply": "2024-11-25T14:55:52.116108Z",
     "shell.execute_reply.started": "2024-11-25T14:55:52.111810Z"
    },
    "slideshow": {
     "slide_type": "slide"
    },
    "tags": []
   },
   "source": [
    "## Apresentando a Notação Big O\n",
    "### Classificações comuns de Big O\n",
    "\n",
    "3. **O(n) - Tempo Linear**:\n",
    "- O tempo que leva cresce em proporção direta ao tamanho da entrada.\n",
    "- **Exemplo**: Verificando todos os corredores de um supermercado em busca de um item específico.\n",
    "     ```python\n",
    "      itens = [\"leite\", \"ovos\", \"pão\", \"queijo\"]\n",
    "      for item in itens:\n",
    "          if item == \"pão\":\n",
    "              print(\"Achei o pão!\")  # Você está escaneando cada corredor até encontrar o que quer.\n",
    "     ```"
   ]
  },
  {
   "cell_type": "markdown",
   "id": "d9284e2a-2ace-4961-9b33-bfab58d249e3",
   "metadata": {
    "editable": true,
    "slideshow": {
     "slide_type": "slide"
    },
    "tags": []
   },
   "source": [
    "## Apresentando a Notação Big O\n",
    "### Classificações comuns do Big O\n",
    "\n",
    "4. **O(n^2) - Tempo Quadrático**:\n",
    "- Tarefas em que você compara todos os itens.\n",
    "- **Exemplo**: Emparelhamento de todos os funcionários para uma pesquisa com toda a empresa.\n",
    "    ```python\n",
    "    funcionarios = [\"Alice\", \"Bob\", \"Charlie\"]\n",
    "    for func1 in funcionarios:\n",
    "        for func2 in funcionarios:\n",
    "            print(f\"Par: {func1} e {func2}\")  # Comparações aninhadas crescem rapidamente conforme o número de funcionários aumenta.\n",
    "\n",
    "    ```"
   ]
  },
  {
   "cell_type": "markdown",
   "id": "1ea72926-015a-4746-aa25-6969569b6177",
   "metadata": {
    "editable": true,
    "execution": {
     "iopub.execute_input": "2024-11-25T15:09:20.164594Z",
     "iopub.status.busy": "2024-11-25T15:09:20.164271Z",
     "iopub.status.idle": "2024-11-25T15:09:20.171681Z",
     "shell.execute_reply": "2024-11-25T15:09:20.170881Z",
     "shell.execute_reply.started": "2024-11-25T15:09:20.164564Z"
    },
    "slideshow": {
     "slide_type": "slide"
    },
    "tags": []
   },
   "source": [
    "## Resumo das Notações Big O Comuns\n",
    "\n",
    "\n",
    "| Notação Big O | Nome              | Tarefa de Exemplo                                 | Impacto no Desempenho                                   |\n",
    "|---------------|-------------------|---------------------------------------------------|---------------------------------------------------------|\n",
    "| **O(1)**      | Tempo Constante   | Acessando um item em uma lista por índice         | Sempre rápido, independentemente do tamanho da entrada. |\n",
    "| **O(log n)**  | Tempo Logarítmico | Busca binária em uma lista ordenada               | Muito eficiente para grandes conjuntos de dados.        |\n",
    "| **O(n)**      | Tempo Linear      | Iterando por uma lista                            | Diminui a velocidade conforme a entrada aumenta.        |\n",
    "| **O(n log n)**| Tempo Log-Linear  | Algoritmos de ordenação eficientes                | Escala bem para muitas tarefas do mundo real.           |\n",
    "| **O(n^2)**    | Tempo Quadrático  | Laços aninhados comparando todos os pares         | Torna-se lento rapidamente com entradas grandes.        |\n",
    "| **O(2^n)**    | Tempo Exponencial | Soluções recursivas para a sequência de Fibonacci | Torna-se impraticável para entradas grandes.            |\n",
    "| **O(n!)**     | Tempo Fatorial    | Gerando todas as permutações de um conjunto       | Gerenciável apenas para entradas muito pequenas.        |\n",
    "\n",
    "### Seu algoritmo **escala com eficiência** conforme o tamanho da entrada aumenta?\n"
   ]
  },
  {
   "cell_type": "markdown",
   "id": "a8f71844-0883-4d8f-a17c-0b4a8687e070",
   "metadata": {
    "editable": true,
    "execution": {
     "iopub.execute_input": "2024-11-25T15:16:29.844852Z",
     "iopub.status.busy": "2024-11-25T15:16:29.844412Z",
     "iopub.status.idle": "2024-11-25T15:16:29.848930Z",
     "shell.execute_reply": "2024-11-25T15:16:29.848347Z",
     "shell.execute_reply.started": "2024-11-25T15:16:29.844821Z"
    },
    "slideshow": {
     "slide_type": "slide"
    },
    "tags": []
   },
   "source": [
    "## Exercício: Analisando a complexidade temporal de loops Python"
   ]
  },
  {
   "cell_type": "code",
   "execution_count": null,
   "id": "09ba6ed6-05e3-414e-977f-5645af0b7a8a",
   "metadata": {
    "editable": true,
    "scrolled": true,
    "slideshow": {
     "slide_type": "subslide"
    },
    "tags": []
   },
   "outputs": [],
   "source": [
    "# Loop Simples\n",
    "\n",
    "n = 5\n",
    "for i in range(n):\n",
    "    print(i)  #<- Um loop, imprime cada número"
   ]
  },
  {
   "cell_type": "code",
   "execution_count": null,
   "id": "aff19f4f-6ee1-4092-8c05-7becb1a86e64",
   "metadata": {
    "editable": true,
    "slideshow": {
     "slide_type": "subslide"
    },
    "tags": []
   },
   "outputs": [],
   "source": [
    "# Loops aninhados\n",
    "\n",
    "n = 3\n",
    "for i in range(n): # <- Aqui temos um loop (como antes, n vezes)\n",
    "    for j in range(n): #<- Aqui temos um segundo loop (n vezes novamente!)\n",
    "        print(i, j)  "
   ]
  }
 ],
 "metadata": {
  "kernelspec": {
   "display_name": "anaconda-ai-2024.04-py310",
   "language": "python",
   "name": "conda-env-anaconda-ai-2024.04-py310-py"
  },
  "language_info": {
   "codemirror_mode": {
    "name": "ipython",
    "version": 3
   },
   "file_extension": ".py",
   "mimetype": "text/x-python",
   "name": "python",
   "nbconvert_exporter": "python",
   "pygments_lexer": "ipython3",
   "version": "3.10.13"
  }
 },
 "nbformat": 4,
 "nbformat_minor": 5
}
