{
 "cells": [
  {
   "cell_type": "markdown",
   "id": "61feb835-1334-4bd1-abbc-f5ffb5809cb7",
   "metadata": {
    "editable": true,
    "slideshow": {
     "slide_type": "slide"
    },
    "tags": []
   },
   "source": [
    "# Módulo 3: Tabelas de Hash, Dicionários, Árvores e Outros Dados Hierárquicos"
   ]
  },
  {
   "cell_type": "markdown",
   "id": "954fd5cd-7ffb-40ed-8176-0516ab9284d9",
   "metadata": {
    "editable": true,
    "slideshow": {
     "slide_type": "slide"
    },
    "tags": []
   },
   "source": [
    "## O que você aprenderá\n",
    "1. **Lição 1**: Entenda hashing e dicionários para armazenamento e recuperação eficientes de dados.\n",
    "2. **Lição 2**: Aprenda os conceitos básicos de árvores binárias para representação hierárquica de dados.\n",
    "3. **Lição 3**: Explore grafos e suas propriedades para estruturas de dados complexas."
   ]
  },
  {
   "cell_type": "markdown",
   "id": "bdfdf9e2-92f5-48b5-bcc9-a7f4d6481e98",
   "metadata": {
    "editable": true,
    "slideshow": {
     "slide_type": "slide"
    },
    "tags": []
   },
   "source": [
    "## Lição 1: Introdução ao Hashing e Dicionários"
   ]
  },
  {
   "cell_type": "markdown",
   "id": "dc8dc971-5329-4ea6-ad5e-10d30897e279",
   "metadata": {
    "editable": true,
    "slideshow": {
     "slide_type": "slide"
    },
    "tags": []
   },
   "source": [
    "### **O que são dicionários?**\n",
    "- Uma coleção de pares chave-valor em Python.\n",
    "- As chaves são criptografadas para consultas rápidas, tornando operações como busca e atualização muito eficientes.\n",
    "\n",
    "### **Exemplo**\n",
    "```python\n",
    "# Armazenamento de notas dos alunos\n",
    "grades = {\"Alice\": 85, \"Bob\": 92, \"Charlie\": 78}\n",
    "\n",
    "# Acessando dados\n",
    "print(grades[\"Alice\"])  # Output: 85\n",
    "\n",
    "# Adicionando ou atualizando uma nota\n",
    "grades[\"Diana\"] = 88\n",
    "print(grades)"
   ]
  },
  {
   "cell_type": "markdown",
   "id": "db95d699-ac19-4020-b6ea-a27e6abc3e9c",
   "metadata": {
    "editable": true,
    "execution": {
     "iopub.execute_input": "2024-12-09T15:48:35.389479Z",
     "iopub.status.busy": "2024-12-09T15:48:35.389176Z",
     "iopub.status.idle": "2024-12-09T15:48:35.394744Z",
     "shell.execute_reply": "2024-12-09T15:48:35.393823Z",
     "shell.execute_reply.started": "2024-12-09T15:48:35.389447Z"
    },
    "slideshow": {
     "slide_type": "slide"
    },
    "tags": []
   },
   "source": [
    "### Por que usar dicionários?\n",
    "- Buscas rápidas (O(1) em média).\n",
    "- Ideal para mapear relacionamentos (por exemplo, nome para número de telefone).\n",
    "\n",
    "### **Exemplo**\n",
    "```python\n",
    "# Criando um dicionário para mapear nomes a números de telefone\n",
    "agenda_telefonica = {\n",
    "    \"Alice\": \"555-1234\",\n",
    "    \"Bob\": \"555-5678\",\n",
    "    \"Charlie\": \"555-8765\"\n",
    "}\n",
    "\n",
    "# Busca rápida pelo nome\n",
    "print(agenda_telefonica[\"Alice\"])  # Saída: 555-1234"
   ]
  },
  {
   "cell_type": "markdown",
   "id": "4b748fe2-09dd-4634-8908-6d6ae757704d",
   "metadata": {
    "editable": true,
    "slideshow": {
     "slide_type": "slide"
    },
    "tags": []
   },
   "source": [
    "## Lição 2: Árvores Binárias\n",
    "\n",
    "### **O que são Árvores Binárias?**\n",
    "- Uma estrutura de dados hierárquica onde cada nó possui até dois filhos.\n",
    "- Comumente usada em:\n",
    "  - Busca e classificação (por exemplo, Árvores Binárias de Busca).\n",
    "  - Representação de relacionamentos hierárquicos (por exemplo, árvores genealógicas)."
   ]
  },
  {
   "cell_type": "code",
   "execution_count": null,
   "id": "28867c74-eee6-460b-843c-b4f0ee59ea52",
   "metadata": {
    "editable": true,
    "execution": {
     "iopub.execute_input": "2024-12-09T21:51:05.495451Z",
     "iopub.status.busy": "2024-12-09T21:51:05.494297Z",
     "iopub.status.idle": "2024-12-09T21:51:05.510567Z",
     "shell.execute_reply": "2024-12-09T21:51:05.509968Z",
     "shell.execute_reply.started": "2024-12-09T21:51:05.495418Z"
    },
    "slideshow": {
     "slide_type": "slide"
    },
    "tags": []
   },
   "outputs": [],
   "source": [
    "### **Exemplo**\n",
    "\n",
    "# Estrutura simples de nó de árvore binária\n",
    "class No:\n",
    "    def __init__(self, valor):\n",
    "        self.valor = valor\n",
    "        self.esquerda = None\n",
    "        self.direita = None\n",
    "\n",
    "# Criando uma árvore\n",
    "raiz = No(10)\n",
    "raiz.esquerda = No(5)\n",
    "raiz.direita = No(15)\n",
    "\n",
    "# Acessando os nós da árvore\n",
    "print(raiz.valor)          # Saída: 10\n",
    "print(raiz.esquerda.valor) # Saída: 5"
   ]
  },
  {
   "cell_type": "code",
   "execution_count": null,
   "id": "34e9fe3a-904e-4ff4-b1d8-0ac110330293",
   "metadata": {
    "editable": true,
    "execution": {
     "iopub.execute_input": "2024-12-09T16:02:37.558307Z",
     "iopub.status.busy": "2024-12-09T16:02:37.558020Z",
     "iopub.status.idle": "2024-12-09T16:02:37.571220Z",
     "shell.execute_reply": "2024-12-09T16:02:37.570708Z",
     "shell.execute_reply.started": "2024-12-09T16:02:37.558286Z"
    },
    "slideshow": {
     "slide_type": "slide"
    },
    "tags": []
   },
   "outputs": [],
   "source": [
    "from binarytree import Node\n",
    "\n",
    "# Criando a árvore binária\n",
    "raiz = Node(1)\n",
    "raiz.esquerda = Node(2)\n",
    "raiz.direita = Node(3)\n",
    "raiz.esquerda.esquerda = Node(4)\n",
    "raiz.esquerda.direita = Node(5)\n",
    "\n",
    "# Exibindo a árvore\n",
    "print(raiz)"
   ]
  },
  {
   "cell_type": "markdown",
   "id": "c193deef-dd72-4764-a402-116c8813ff9d",
   "metadata": {
    "editable": true,
    "slideshow": {
     "slide_type": "slide"
    },
    "tags": []
   },
   "source": [
    "## Lição 3: Introdução a Grafos e Suas Propriedades\n",
    "\n",
    "### **O que são Grafos?**\n",
    "- Um conjunto de nós (vértices) conectados por arestas.\n",
    "- Usado para representar relacionamentos, como:\n",
    "  - Redes sociais (pessoas conectadas por amizades).\n",
    "  - Mapas rodoviários (cidades conectadas por estradas).\n",
    "\n",
    "### **Exemplo**\n",
    "```python\n",
    "# Representando um grafo com um dicionário\n",
    "grafo = {\n",
    "    \"A\": [\"B\", \"C\"],\n",
    "    \"B\": [\"A\", \"D\"],\n",
    "    \"C\": [\"A\", \"D\"],\n",
    "    \"D\": [\"B\", \"C\"]\n",
    "}\n",
    "\n",
    "# Acessar os vizinhos de um nó\n",
    "print(grafo[\"A\"])  # Saída: ['B', 'C']"
   ]
  },
  {
   "cell_type": "markdown",
   "id": "f9e2cded-3452-45d5-abe6-647183a06e8b",
   "metadata": {
    "editable": true,
    "execution": {
     "iopub.execute_input": "2024-12-09T15:52:23.046034Z",
     "iopub.status.busy": "2024-12-09T15:52:23.045608Z",
     "iopub.status.idle": "2024-12-09T15:52:23.058337Z",
     "shell.execute_reply": "2024-12-09T15:52:23.057533Z",
     "shell.execute_reply.started": "2024-12-09T15:52:23.046003Z"
    },
    "slideshow": {
     "slide_type": "slide"
    },
    "tags": []
   },
   "source": [
    "### Propriedades de um Grafo\n",
    "\n",
    "- Vértices: Cada ponto em um grafo\n",
    "- Aresta: A conexão entre vértices\n",
    "- Grau: O número de arestas que se conectam a um vértice\n",
    "\n",
    "#### Diferentes tipos de Grafos\n",
    "\n",
    "- Direcionado ou Não Direcionado: As arestas podem ter direção (ruas de mão única).\n",
    "- Ponderado ou Não Ponderado: As arestas podem ter pesos (distâncias, custos)."
   ]
  },
  {
   "cell_type": "code",
   "execution_count": null,
   "id": "4e2f9358-321c-4814-b019-f697c674c23c",
   "metadata": {
    "editable": true,
    "execution": {
     "iopub.execute_input": "2024-12-09T16:02:33.132057Z",
     "iopub.status.busy": "2024-12-09T16:02:33.131428Z",
     "iopub.status.idle": "2024-12-09T16:02:37.539018Z",
     "shell.execute_reply": "2024-12-09T16:02:37.538251Z",
     "shell.execute_reply.started": "2024-12-09T16:02:33.132022Z"
    },
    "slideshow": {
     "slide_type": "skip"
    },
    "tags": []
   },
   "outputs": [],
   "source": [
    "!pip install -q binarytree "
   ]
  },
  {
   "cell_type": "code",
   "execution_count": null,
   "id": "505074c1-8950-4b3c-bb2c-e86086994ae1",
   "metadata": {
    "editable": true,
    "execution": {
     "iopub.execute_input": "2024-12-09T16:05:25.546093Z",
     "iopub.status.busy": "2024-12-09T16:05:25.545874Z",
     "iopub.status.idle": "2024-12-09T16:05:29.715139Z",
     "shell.execute_reply": "2024-12-09T16:05:29.712134Z",
     "shell.execute_reply.started": "2024-12-09T16:05:25.546066Z"
    },
    "slideshow": {
     "slide_type": "skip"
    },
    "tags": []
   },
   "outputs": [],
   "source": [
    "!pip install -q networkx"
   ]
  },
  {
   "cell_type": "code",
   "execution_count": null,
   "id": "9f2ee971-86a9-47fb-a272-a1fd9e49eba8",
   "metadata": {
    "editable": true,
    "execution": {
     "iopub.execute_input": "2024-12-09T16:05:29.968083Z",
     "iopub.status.busy": "2024-12-09T16:05:29.967849Z",
     "iopub.status.idle": "2024-12-09T16:05:30.119709Z",
     "shell.execute_reply": "2024-12-09T16:05:30.119006Z",
     "shell.execute_reply.started": "2024-12-09T16:05:29.968056Z"
    },
    "slideshow": {
     "slide_type": "slide"
    },
    "tags": []
   },
   "outputs": [],
   "source": [
    "import matplotlib.pyplot as plt\n",
    "import networkx as nx\n",
    "\n",
    "# Criar um grafo simples usando NetworkX\n",
    "grafo = nx.Graph()\n",
    "\n",
    "# Adicionar nós\n",
    "grafo.add_nodes_from([\"A\", \"B\", \"C\", \"D\"])\n",
    "\n",
    "# Adicionar arestas\n",
    "grafo.add_edges_from([(\"A\", \"B\"), (\"A\", \"C\"), (\"B\", \"D\"), (\"C\", \"D\")])\n",
    "\n",
    "# Desenhar o grafo\n",
    "plt.figure(figsize=(6, 6))\n",
    "nx.draw(\n",
    "    grafo,\n",
    "    with_labels=True,\n",
    "    node_color=\"skyblue\",\n",
    "    node_size=2000,\n",
    "    font_size=12,\n",
    "    font_weight=\"bold\",\n",
    "    edge_color=\"gray\"\n",
    ")\n",
    "plt.title(\"Visualização de Grafo Simples\", fontsize=16)\n",
    "plt.show()\n"
   ]
  },
  {
   "cell_type": "code",
   "execution_count": null,
   "id": "f81bd75f-ea70-4e9b-bf83-5535f31bd8ce",
   "metadata": {
    "editable": true,
    "execution": {
     "iopub.execute_input": "2024-12-09T16:07:14.726907Z",
     "iopub.status.busy": "2024-12-09T16:07:14.726562Z",
     "iopub.status.idle": "2024-12-09T16:07:14.928866Z",
     "shell.execute_reply": "2024-12-09T16:07:14.928196Z",
     "shell.execute_reply.started": "2024-12-09T16:07:14.726878Z"
    },
    "slideshow": {
     "slide_type": "slide"
    },
    "tags": []
   },
   "outputs": [],
   "source": [
    "import matplotlib.pyplot as plt\n",
    "import networkx as nx\n",
    "\n",
    "# Criar um grafo direcionado usando NetworkX\n",
    "grafo_direcionado = nx.DiGraph()\n",
    "\n",
    "# Adicionar nós\n",
    "grafo_direcionado.add_nodes_from([\"A\", \"B\", \"C\", \"D\"])\n",
    "\n",
    "# Adicionar arestas direcionadas\n",
    "grafo_direcionado.add_edges_from([(\"A\", \"B\"), (\"A\", \"C\"), (\"B\", \"D\"), (\"C\", \"D\"), (\"D\", \"A\")])\n",
    "\n",
    "# Desenhar o grafo direcionado\n",
    "plt.figure(figsize=(6, 6))\n",
    "nx.draw(\n",
    "    grafo_direcionado,\n",
    "    with_labels=True,\n",
    "    node_color=\"lightcoral\",\n",
    "    node_size=2000,\n",
    "    font_size=12,\n",
    "    font_weight=\"bold\",\n",
    "    edge_color=\"gray\",\n",
    "    arrowsize=20,\n",
    "    arrowstyle=\"->\"  # Estilo para arestas direcionadas\n",
    ")\n",
    "plt.title(\"Visualização de Grafo Direcionado\", fontsize=16)\n",
    "plt.show()"
   ]
  },
  {
   "cell_type": "code",
   "execution_count": null,
   "id": "4631d4b8-4447-4092-91bb-4fe6d89f60eb",
   "metadata": {
    "editable": true,
    "execution": {
     "iopub.execute_input": "2024-12-09T16:10:24.011893Z",
     "iopub.status.busy": "2024-12-09T16:10:24.011611Z",
     "iopub.status.idle": "2024-12-09T16:10:24.139797Z",
     "shell.execute_reply": "2024-12-09T16:10:24.139265Z",
     "shell.execute_reply.started": "2024-12-09T16:10:24.011869Z"
    },
    "slideshow": {
     "slide_type": "slide"
    },
    "tags": []
   },
   "outputs": [],
   "source": [
    "import matplotlib.pyplot as plt\n",
    "import networkx as nx\n",
    "\n",
    "# Criar um grafo direcionado\n",
    "grafo_ponderado = nx.DiGraph()\n",
    "\n",
    "# Adicionar nós\n",
    "grafo_ponderado.add_nodes_from([\"A\", \"B\", \"C\", \"D\"])\n",
    "\n",
    "# Adicionar arestas com pesos\n",
    "arestas_ponderadas = [\n",
    "    (\"A\", \"B\", 5),  # A → B com peso 5\n",
    "    (\"A\", \"C\", 3),  # A → C com peso 3\n",
    "    (\"B\", \"D\", 2),  # B → D com peso 2\n",
    "    (\"C\", \"D\", 8),  # C → D com peso 8\n",
    "    (\"D\", \"A\", 7)   # D → A com peso 7\n",
    "]\n",
    "grafo_ponderado.add_weighted_edges_from(arestas_ponderadas)\n",
    "\n",
    "# Desenhar o grafo\n",
    "plt.figure(figsize=(8, 6))\n",
    "posicoes = nx.spring_layout(grafo_ponderado)  # Posicionar os nós para visualização\n",
    "\n",
    "# Desenhar nós e arestas\n",
    "nx.draw(\n",
    "    grafo_ponderado,\n",
    "    posicoes,\n",
    "    with_labels=True,\n",
    "    node_color=\"lightgreen\",\n",
    "    node_size=2000,\n",
    "    font_size=12,\n",
    "    font_weight=\"bold\",\n",
    "    edge_color=\"gray\",\n",
    "    arrowsize=20,\n",
    "    arrowstyle=\"->\"\n",
    ")\n",
    "\n",
    "# Desenhar os rótulos das arestas (pesos)\n",
    "rotulos_arestas = nx.get_edge_attributes(grafo_ponderado, \"weight\")\n",
    "nx.draw_networkx_edge_labels(\n",
    "    grafo_ponderado,\n",
    "    posicoes,\n",
    "    edge_labels=rotulos_arestas,\n",
    "    font_size=10,\n",
    "    font_color=\"blue\"\n",
    ")\n",
    "\n",
    "plt.title(\"Grafo Direcionado Ponderado\", fontsize=16)\n",
    "plt.show()\n"
   ]
  }
 ],
 "metadata": {
  "kernelspec": {
   "display_name": "Python 3",
   "language": "python",
   "name": "python3"
  },
  "language_info": {
   "codemirror_mode": {
    "name": "ipython",
    "version": 3
   },
   "file_extension": ".py",
   "mimetype": "text/x-python",
   "name": "python",
   "nbconvert_exporter": "python",
   "pygments_lexer": "ipython3",
   "version": "3.10.0"
  }
 },
 "nbformat": 4,
 "nbformat_minor": 5
}
