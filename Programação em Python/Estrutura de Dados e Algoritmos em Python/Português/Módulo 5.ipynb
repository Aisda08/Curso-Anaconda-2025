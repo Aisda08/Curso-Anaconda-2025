{
 "cells": [
  {
   "cell_type": "markdown",
   "id": "23efb7c1-3f04-4ce7-8784-90dc7a1e00ba",
   "metadata": {
    "editable": true,
    "slideshow": {
     "slide_type": "slide"
    },
    "tags": []
   },
   "source": [
    "# Módulo 5: Algoritmos de Busca"
   ]
  },
  {
   "cell_type": "markdown",
   "id": "7dd0a9e2-8c86-4389-8717-df59c5425807",
   "metadata": {
    "editable": true,
    "execution": {
     "iopub.execute_input": "2024-12-16T15:07:34.702807Z",
     "iopub.status.busy": "2024-12-16T15:07:34.702320Z",
     "iopub.status.idle": "2024-12-16T15:07:34.707907Z",
     "shell.execute_reply": "2024-12-16T15:07:34.707002Z",
     "shell.execute_reply.started": "2024-12-16T15:07:34.702783Z"
    },
    "slideshow": {
     "slide_type": "slide"
    },
    "tags": []
   },
   "source": [
    "## O que você aprenderá\n",
    "1. Explore os fundamentos das Árvores Binárias de Busca.\n",
    "2. Entenda e implemente a Busca em Profundidade (DFS).\n",
    "3. Aprenda como a Busca em Largura (BFS) funciona e onde aplicá-la.\n",
    "\n",
    "### Por que os Algoritmos de Busca são Importantes:\n",
    "- Essenciais para recuperação e navegação eficientes de dados.\n",
    "- Amplamente utilizados em bancos de dados, IA e sistemas baseados em grafos."
   ]
  },
  {
   "cell_type": "markdown",
   "id": "39521d87-6b5d-4805-a22e-c20ff12faaaa",
   "metadata": {
    "editable": true,
    "slideshow": {
     "slide_type": "slide"
    },
    "tags": []
   },
   "source": [
    "## Lição 1: Árvore Binária de Busca\n",
    "\n",
    "### **O que é uma Árvore Binária de Busca (BST)?**\n",
    "- Uma estrutura de dados hierárquica onde:\n",
    "  - Os nós filhos da esquerda contêm valores **menores que** o nó pai.\n",
    "  - Os nós filhos da direita contêm valores **maiores que** o nó pai.\n",
    "  - Oferece busca, inserção e exclusão eficientes.\n",
    "\n",
    "### **Como Funciona**\n",
    "1. Comece pelo nó raiz.\n",
    "2. Compare o valor alvo com o nó atual:\n",
    "  - Mova para a esquerda se o alvo for menor.\n",
    "  - Mova para a direita se o alvo for maior."
   ]
  },
  {
   "cell_type": "code",
   "execution_count": null,
   "id": "753d4a5c-2718-40ae-89d3-831ea2ebe81f",
   "metadata": {
    "editable": true,
    "execution": {
     "iopub.execute_input": "2024-12-16T15:13:35.878672Z",
     "iopub.status.busy": "2024-12-16T15:13:35.878408Z",
     "iopub.status.idle": "2024-12-16T15:13:44.952908Z",
     "shell.execute_reply": "2024-12-16T15:13:44.951890Z",
     "shell.execute_reply.started": "2024-12-16T15:13:35.878646Z"
    },
    "slideshow": {
     "slide_type": "skip"
    },
    "tags": []
   },
   "outputs": [],
   "source": [
    "!pip install -q binarytree"
   ]
  },
  {
   "cell_type": "code",
   "execution_count": null,
   "id": "1459bacf-508f-4db4-b32d-1ce10aaddbd8",
   "metadata": {
    "editable": true,
    "execution": {
     "iopub.execute_input": "2024-12-16T21:17:44.394450Z",
     "iopub.status.busy": "2024-12-16T21:17:44.393824Z",
     "iopub.status.idle": "2024-12-16T21:17:44.602372Z",
     "shell.execute_reply": "2024-12-16T21:17:44.601540Z",
     "shell.execute_reply.started": "2024-12-16T21:17:44.394419Z"
    },
    "slideshow": {
     "slide_type": "slide"
    },
    "tags": []
   },
   "outputs": [],
   "source": [
    "import matplotlib.pyplot as plt\n",
    "\n",
    "# Definir a classe Nó\n",
    "class No:\n",
    "    def __init__(self, valor):\n",
    "        self.valor = valor\n",
    "        self.esquerda = None\n",
    "        self.direita = None\n",
    "\n",
    "# Função inserir para adicionar um nó na Árvore Binária de Busca (ABB)\n",
    "def inserir(raiz, valor):\n",
    "    if raiz is None:\n",
    "        return No(valor)\n",
    "    if valor < raiz.valor:\n",
    "        raiz.esquerda = inserir(raiz.esquerda, valor)\n",
    "    else:\n",
    "        raiz.direita = inserir(raiz.direita, valor)\n",
    "    return raiz\n",
    "\n",
    "# Função para visualizar a ABB\n",
    "def desenhar_abb(raiz, x=0, y=0, dx=2, ax=None, pos_pai=None):\n",
    "    if raiz is None:\n",
    "        return\n",
    "    \n",
    "    # Desenhar o nó atual\n",
    "    ax.scatter(x, y, s=100, color=\"skyblue\")\n",
    "    ax.text(x, y, str(raiz.valor), fontsize=10, ha=\"center\", va=\"center\", color=\"black\")\n",
    "    \n",
    "    # Desenhar arestas do nó pai para o nó atual\n",
    "    if pos_pai is not None:\n",
    "        ax.plot([pos_pai[0], x], [pos_pai[1], y], color=\"gray\", linewidth=1)\n",
    "\n",
    "    # Recursivamente desenhar os filhos à esquerda e à direita\n",
    "    desenhar_abb(raiz.esquerda, x - dx, y - 2, dx / 1.5, ax, (x, y))\n",
    "    desenhar_abb(raiz.direita, x + dx, y - 2, dx / 1.5, ax, (x, y))\n",
    "\n",
    "# Construir e visualizar a ABB\n",
    "valores = [10, 5, 15, 3, 7]\n",
    "raiz = None\n",
    "for v in valores:\n",
    "    raiz = inserir(raiz, v)\n",
    "\n",
    "print(raiz)\n",
    "\n",
    "# Preparar o gráfico\n",
    "fig, ax = plt.subplots(figsize=(8, 6))\n",
    "ax.set_title(\"Visualização de Árvore Binária de Busca\", fontsize=14)\n",
    "ax.axis(\"off\")  # Ocultar os eixos para visualização mais limpa\n",
    "desenhar_abb(raiz, ax=ax)\n",
    "plt.show()\n"
   ]
  },
  {
   "cell_type": "markdown",
   "id": "0419e5d2-420a-4fb7-824b-cee41fb8a303",
   "metadata": {
    "editable": true,
    "slideshow": {
     "slide_type": "slide"
    },
    "tags": []
   },
   "source": [
    "## Complexidade de Tempo\n",
    "\n",
    "- Busca: O(log n) em uma árvore balanceada.\n",
    "- Inserção: O(log n) em uma árvore balanceada.\n",
    "- Pior caso: O(n) (por exemplo, árvore não balanceada).\n",
    "\n",
    "### Quando Usar\n",
    "\n",
    "- Quando os dados são naturalmente ordenados e precisam ser buscados com eficiência."
   ]
  },
  {
   "cell_type": "markdown",
   "id": "99470500-bcd9-4475-a20c-b02f7bf5e9ac",
   "metadata": {
    "editable": true,
    "execution": {
     "iopub.execute_input": "2024-12-16T15:18:28.999843Z",
     "iopub.status.busy": "2024-12-16T15:18:28.997115Z",
     "iopub.status.idle": "2024-12-16T15:18:29.011841Z",
     "shell.execute_reply": "2024-12-16T15:18:29.010282Z",
     "shell.execute_reply.started": "2024-12-16T15:18:28.999813Z"
    },
    "slideshow": {
     "slide_type": "slide"
    },
    "tags": []
   },
   "source": [
    "## Lição 2: Busca em Profundidade\n",
    "\n",
    "### **O que é Busca em Profundidade?**\n",
    "- Um algoritmo recursivo ou baseado em pilha para percorrer uma árvore ou grafo.\n",
    "- Explora o máximo possível ao longo de cada ramo antes de retroceder.\n",
    "\n",
    "### **Como Funciona**\n",
    "1. Comece no nó raiz (ou em um nó selecionado em um grafo).\n",
    "2. Marque o nó como visitado.\n",
    "3. Visite recursivamente todos os seus vizinhos (ou filhos).\n",
    "4. Retroceda quando todos os vizinhos forem visitados."
   ]
  },
  {
   "cell_type": "code",
   "execution_count": null,
   "id": "911338d4-a9b3-40c8-bebb-d5420e7ebfd7",
   "metadata": {
    "editable": true,
    "execution": {
     "iopub.execute_input": "2024-12-16T15:19:01.940372Z",
     "iopub.status.busy": "2024-12-16T15:19:01.939671Z",
     "iopub.status.idle": "2024-12-16T15:19:01.946855Z",
     "shell.execute_reply": "2024-12-16T15:19:01.946072Z",
     "shell.execute_reply.started": "2024-12-16T15:19:01.940342Z"
    },
    "slideshow": {
     "slide_type": "slide"
    },
    "tags": []
   },
   "outputs": [],
   "source": [
    "### **Exemplo**\n",
    "\n",
    "# Busca em profundidade (DFS) em um grafo\n",
    "def dfs(grafo, no, visitados=None):\n",
    "    if visitados is None:\n",
    "        visitados = set()\n",
    "    if no not in visitados:\n",
    "        print(no, end=\" \")\n",
    "        visitados.add(no)\n",
    "        for vizinho in grafo[no]:\n",
    "            dfs(grafo, vizinho, visitados)\n",
    "\n",
    "grafo = {\n",
    "    \"A\": [\"B\", \"C\"],\n",
    "    \"B\": [\"D\", \"E\"],\n",
    "    \"C\": [\"F\"],\n",
    "    \"D\": [],\n",
    "    \"E\": [\"F\"],\n",
    "    \"F\": []\n",
    "}\n",
    "\n",
    "dfs(grafo, \"A\")  # Saída: A B D E F C"
   ]
  },
  {
   "cell_type": "markdown",
   "id": "b4a68f5f-2609-4958-897f-eb6760705662",
   "metadata": {
    "editable": true,
    "slideshow": {
     "slide_type": "slide"
    },
    "tags": []
   },
   "source": [
    "## Complexidade de Tempo\n",
    "\n",
    "- O(V + E): V é o número de vértices, E é o número de arestas.\n",
    "\n",
    "### Quando Usar\n",
    "\n",
    "- Para explorar todos os caminhos (por exemplo, encontrar um caminho em um labirinto).\n",
    "- Quando a solução está longe do nó raiz."
   ]
  },
  {
   "cell_type": "markdown",
   "id": "345db431-c838-48b3-8071-cffcd3bdee89",
   "metadata": {
    "editable": true,
    "slideshow": {
     "slide_type": "slide"
    },
    "tags": []
   },
   "source": [
    "## Lição 2: Busca em Largura (BFS)\n",
    "\n",
    "### **O que é Busca em Largura?**\n",
    "- Um algoritmo iterativo ou baseado em filas para percorrer uma árvore ou grafo.\n",
    "- Explora todos os vizinhos de um nó antes de se aprofundar.\n",
    "\n",
    "### **Como Funciona**\n",
    "1. Comece no nó raiz (ou em um nó selecionado em um grafo).\n",
    "2. Visite todos os seus vizinhos.\n",
    "3. Passe para o próximo nível e repita."
   ]
  },
  {
   "cell_type": "code",
   "execution_count": null,
   "id": "b76ea94a-8cec-4396-afcc-54474186d831",
   "metadata": {
    "editable": true,
    "execution": {
     "iopub.execute_input": "2024-12-16T15:20:30.343631Z",
     "iopub.status.busy": "2024-12-16T15:20:30.343301Z",
     "iopub.status.idle": "2024-12-16T15:20:30.348664Z",
     "shell.execute_reply": "2024-12-16T15:20:30.348004Z",
     "shell.execute_reply.started": "2024-12-16T15:20:30.343608Z"
    },
    "slideshow": {
     "slide_type": "slide"
    },
    "tags": []
   },
   "outputs": [],
   "source": [
    "### **Exemplo**\n",
    "\n",
    "# Busca em largura (BFS) em um grafo\n",
    "from collections import deque\n",
    "\n",
    "def bfs(grafo, inicio):\n",
    "    visitados = set()\n",
    "    fila = deque([inicio])\n",
    "    while fila:\n",
    "        no = fila.popleft()\n",
    "        if no not in visitados:\n",
    "            print(no, end=\" \")\n",
    "            visitados.add(no)\n",
    "            fila.extend(grafo[no])\n",
    "\n",
    "grafo = {\n",
    "    \"A\": [\"B\", \"C\"],\n",
    "    \"B\": [\"D\", \"E\"],\n",
    "    \"C\": [\"F\"],\n",
    "    \"D\": [],\n",
    "    \"E\": [\"F\"],\n",
    "    \"F\": []\n",
    "}\n",
    "\n",
    "bfs(grafo, \"A\")\n"
   ]
  },
  {
   "cell_type": "code",
   "execution_count": null,
   "id": "57937f0b-6669-4796-9a12-e0f6b9ddafdc",
   "metadata": {
    "execution": {
     "iopub.execute_input": "2024-12-16T16:04:22.210461Z",
     "iopub.status.busy": "2024-12-16T16:04:22.210205Z",
     "iopub.status.idle": "2024-12-16T16:04:22.458700Z",
     "shell.execute_reply": "2024-12-16T16:04:22.458030Z",
     "shell.execute_reply.started": "2024-12-16T16:04:22.210442Z"
    }
   },
   "outputs": [],
   "source": [
    "import matplotlib.pyplot as plt\n",
    "import networkx as nx\n",
    "from collections import deque\n",
    "\n",
    "# Definir a estrutura da árvore binária\n",
    "arvore_binaria = {\n",
    "    \"A\": [\"B\", \"C\"],  # Nó raiz \"A\" tem filhos \"B\" e \"C\"\n",
    "    \"B\": [\"D\", \"E\"],  # Nó \"B\" tem filhos \"D\" e \"E\"\n",
    "    \"C\": [\"F\", \"G\"],  # Nó \"C\" tem filhos \"F\" e \"G\"\n",
    "    \"D\": [],          # Nó folha\n",
    "    \"E\": [],          # Nó folha\n",
    "    \"F\": [],          # Nó folha\n",
    "    \"G\": []           # Nó folha\n",
    "}\n",
    "\n",
    "# Realizar BFS e retornar os nós visitados na ordem\n",
    "def bfs(arvore_binaria, inicio):\n",
    "    visitados = []\n",
    "    fila = deque([inicio])  # Inicializar fila com o nó inicial\n",
    "\n",
    "    while fila:\n",
    "        no = fila.popleft()  # Pegar o próximo nó para processar\n",
    "        if no not in visitados:\n",
    "            visitados.append(no)  # Marcar o nó como visitado\n",
    "            fila.extend(arvore_binaria[no])  # Adicionar seus filhos à fila\n",
    "\n",
    "    return visitados\n",
    "\n",
    "# Executar BFS na árvore binária a partir do nó \"A\"\n",
    "nos_visitados = bfs(arvore_binaria, \"A\")\n",
    "\n",
    "# Visualizar a árvore binária e a travessia BFS\n",
    "def visualizar_arvore_binaria(arvore_binaria, nos_visitados):\n",
    "    # Criar um grafo direcionado usando NetworkX\n",
    "    G = nx.DiGraph(arvore_binaria)\n",
    "\n",
    "    # Posicionar os nós em layout de árvore\n",
    "    pos = nx.drawing.nx_agraph.graphviz_layout(G, prog=\"dot\")\n",
    "\n",
    "    # Definir cores dos nós com base na travessia BFS\n",
    "    cores_nos = []\n",
    "    for no in G.nodes:\n",
    "        if no in nos_visitados:\n",
    "            cores_nos.append(\"skyblue\")  # Destacar nós visitados\n",
    "        else:\n",
    "            cores_nos.append(\"lightgray\")  # Nós não visitados\n",
    "\n",
    "    # Desenhar a árvore binária\n",
    "    plt.figure(figsize=(10, 6))\n",
    "    nx.draw(\n",
    "        G,\n",
    "        pos,\n",
    "        with_labels=True,\n",
    "        node_color=cores_nos,\n",
    "        node_size=1000,\n",
    "        font_size=12,\n",
    "        edge_color=\"black\"\n",
    "    )\n",
    "    plt.title(\"Árvore Binária com Travessia BFS\", fontsize=16)\n",
    "    plt.show()\n",
    "\n",
    "# Visualizar a árvore e a travessia BFS\n",
    "visualizar_arvore_binaria(arvore_binaria, nos_visitados)\n"
   ]
  },
  {
   "cell_type": "markdown",
   "id": "14d226e7-5bef-4eec-a3f7-b36f5ae0c95d",
   "metadata": {
    "editable": true,
    "execution": {
     "iopub.execute_input": "2024-12-16T15:20:58.311815Z",
     "iopub.status.busy": "2024-12-16T15:20:58.311209Z",
     "iopub.status.idle": "2024-12-16T15:20:58.316881Z",
     "shell.execute_reply": "2024-12-16T15:20:58.315876Z",
     "shell.execute_reply.started": "2024-12-16T15:20:58.311790Z"
    },
    "slideshow": {
     "slide_type": "slide"
    },
    "tags": []
   },
   "source": [
    "## Complexidade de Tempo\n",
    "\n",
    "- O(V + E): V é o número de vértices, E é o número de arestas.\n",
    "\n",
    "### Quando Usar\n",
    "\n",
    "- Para encontrar o caminho mais curto em um grafo não ponderado.\n",
    "- Quando a solução está mais próxima do nó raiz."
   ]
  },
  {
   "cell_type": "markdown",
   "id": "3efcf433-08c4-435d-aef0-855a466a807c",
   "metadata": {
    "editable": true,
    "slideshow": {
     "slide_type": "slide"
    },
    "tags": []
   },
   "source": [
    "## Recapitulação: Algoritmos de Busca\n",
    "\n",
    "| Algoritmo | Abordagem    | Estrutura de Dados Utilizada | Complexidade de Tempo | Quando Usar                                   |\n",
    "|-----------|--------------|------------------------------|-----------------------|-----------------------------------------------|\n",
    "| **DFS**   | Profundidade | Pilha (implícita)            | O(V + E)              | Explorando todos os caminhos ou nós profundos.|\n",
    "| **BFS**   | Largura      | Fila                         | O(V + E)              | Encontrando os caminhos mais curtos.          |\n",
    "\n",
    "### Principais Conclusões:\n",
    "1. **DFS** é ótimo para buscas exaustivas (por exemplo, explorando todos os caminhos).\n",
    "2. **BFS** é ideal para encontrar os caminhos mais curtos em grafos não ponderados.\n",
    "3. Ambas são técnicas fundamentais em teoria dos grafos e travessia de árvores."
   ]
  },
  {
   "cell_type": "code",
   "execution_count": null,
   "id": "08a2b574-fa07-4665-b179-dbcf8f296e2e",
   "metadata": {
    "execution": {
     "iopub.execute_input": "2024-12-16T16:01:10.489388Z",
     "iopub.status.busy": "2024-12-16T16:01:10.488899Z",
     "iopub.status.idle": "2024-12-16T16:01:38.567638Z",
     "shell.execute_reply": "2024-12-16T16:01:38.566257Z",
     "shell.execute_reply.started": "2024-12-16T16:01:10.489367Z"
    }
   },
   "outputs": [],
   "source": [
    "!pip install -q pygraphviz"
   ]
  },
  {
   "cell_type": "code",
   "execution_count": null,
   "id": "b34893e4-4c54-4a74-9146-39c7203f995c",
   "metadata": {
    "editable": true,
    "execution": {
     "iopub.execute_input": "2024-12-16T21:04:20.246935Z",
     "iopub.status.busy": "2024-12-16T21:04:20.246623Z",
     "iopub.status.idle": "2024-12-16T21:04:20.496346Z",
     "shell.execute_reply": "2024-12-16T21:04:20.495484Z",
     "shell.execute_reply.started": "2024-12-16T21:04:20.246915Z"
    },
    "slideshow": {
     "slide_type": ""
    },
    "tags": []
   },
   "outputs": [],
   "source": [
    "import matplotlib.pyplot as plt\n",
    "import networkx as nx\n",
    "from matplotlib.animation import FuncAnimation\n",
    "from collections import deque\n",
    "\n",
    "# Definir o grafo com estrutura em árvore\n",
    "grafo = {\n",
    "    \"A\": [\"B\", \"C\"],\n",
    "    \"B\": [\"D\", \"E\"],\n",
    "    \"C\": [\"F\", \"G\"],\n",
    "    \"D\": [],\n",
    "    \"E\": [],\n",
    "    \"F\": [],\n",
    "    \"G\": []\n",
    "}\n",
    "\n",
    "# Converter o grafo para um grafo direcionado do NetworkX\n",
    "G = nx.DiGraph(grafo)\n",
    "\n",
    "# Posicionar os nós usando layout em árvore\n",
    "pos = nx.drawing.nx_agraph.graphviz_layout(G, prog=\"dot\")\n",
    "\n",
    "# Função BFS com visualização\n",
    "visitados = []\n",
    "fila = deque([\"A\"])  # Começa o BFS a partir do nó \"A\"\n",
    "\n",
    "def passo_bfs():\n",
    "    \"\"\"Executa um passo do BFS e retorna os estados atuais de visitados e fila.\"\"\"\n",
    "    global fila, visitados\n",
    "    if fila:\n",
    "        no = fila.popleft()\n",
    "        if no not in visitados:\n",
    "            visitados.append(no)\n",
    "            fila.extend(grafo[no])\n",
    "    return visitados, fila\n",
    "\n",
    "# Inicializar o gráfico\n",
    "fig, ax = plt.subplots(figsize=(8, 6))\n",
    "nx.draw(G, pos, ax=ax, with_labels=True, node_color=\"lightgray\", node_size=1000, font_size=12)\n",
    "cores_nos = {no: \"lightgray\" for no in G.nodes}\n",
    "\n",
    "# Função de atualização para animação\n",
    "def atualizar(frame):\n",
    "    ax.clear()  # Limpar o quadro atual\n",
    "    visitados, _ = passo_bfs()\n",
    "\n",
    "    # Atualizar cores dos nós\n",
    "    for no in visitados:\n",
    "        cores_nos[no] = \"skyblue\"  # Nós visitados ficam azuis\n",
    "    nx.draw(\n",
    "        G, pos, ax=ax, with_labels=True,\n",
    "        node_color=[cores_nos[n] for n in G.nodes],\n",
    "        node_size=1000, font_size=12\n",
    "    )\n",
    "    ax.set_title(\"Visualização BFS (Estrutura em Árvore)\", fontsize=16)\n",
    "\n",
    "# Criar a animação\n",
    "ani = FuncAnimation(fig, atualizar, frames=range(len(G.nodes)), repeat=False, interval=1000)\n",
    "\n",
    "# Mostrar o gráfico\n",
    "plt.show()"
   ]
  },
  {
   "cell_type": "code",
   "execution_count": null,
   "id": "61ed0184-560d-4789-86f2-5f65de4e99e2",
   "metadata": {
    "editable": true,
    "slideshow": {
     "slide_type": ""
    },
    "tags": []
   },
   "outputs": [],
   "source": []
  }
 ],
 "metadata": {
  "kernelspec": {
   "display_name": "anaconda-ai-2024.04-py310",
   "language": "python",
   "name": "conda-env-anaconda-ai-2024.04-py310-py"
  },
  "language_info": {
   "codemirror_mode": {
    "name": "ipython",
    "version": 3
   },
   "file_extension": ".py",
   "mimetype": "text/x-python",
   "name": "python",
   "nbconvert_exporter": "python",
   "pygments_lexer": "ipython3",
   "version": "3.10.13"
  }
 },
 "nbformat": 4,
 "nbformat_minor": 5
}
