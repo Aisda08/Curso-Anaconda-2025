{
 "cells": [
  {
   "cell_type": "markdown",
   "id": "2f9cb434-dcd1-41c8-b5d2-f33ebd7d5a58",
   "metadata": {
    "editable": true,
    "slideshow": {
     "slide_type": "slide"
    },
    "tags": []
   },
   "source": [
    "# Módulo 4: Classificação para Recuperação de Dados"
   ]
  },
  {
   "cell_type": "markdown",
   "id": "061789d8-9430-4632-8cae-db4c5d7dade3",
   "metadata": {
    "editable": true,
    "slideshow": {
     "slide_type": "slide"
    },
    "tags": []
   },
   "source": [
    "## O que você aprenderá\n",
    "1. Compreender os conceitos básicos dos algoritmos de ordenação.\n",
    "2. Explorar e implementar:\n",
    "   - Ordenação por bolhas\n",
    "   - Ordenação por mesclagem\n",
    "   - Ordenação rápida\n",
    "3. Aprender quando e onde aplicar cada técnica de ordenação.\n",
    "\n",
    "### Por que a ordenação é importante:\n",
    "- Melhora a organização e a recuperação de dados.\n",
    "- Forma a base para algoritmos mais complexos."
   ]
  },
  {
   "cell_type": "markdown",
   "id": "c8b66e5d-aff1-42f7-b55e-0f390852645e",
   "metadata": {
    "editable": true,
    "execution": {
     "iopub.execute_input": "2024-12-16T14:52:46.748893Z",
     "iopub.status.busy": "2024-12-16T14:52:46.748419Z",
     "iopub.status.idle": "2024-12-16T14:52:46.752987Z",
     "shell.execute_reply": "2024-12-16T14:52:46.752250Z",
     "shell.execute_reply.started": "2024-12-16T14:52:46.748874Z"
    },
    "slideshow": {
     "slide_type": "slide"
    },
    "tags": []
   },
   "source": [
    "## Lição 1: Ordenação por Bolhas\n",
    "\n",
    "### **O que é Ordenação por Bolhas?**\n",
    "- Um algoritmo de ordenação simples que compara elementos adjacentes e os troca se estiverem fora de ordem.\n",
    "- Repetido até que toda a lista esteja ordenada."
   ]
  },
  {
   "cell_type": "markdown",
   "id": "c6d75af0-af60-4c51-8335-8c57b6be112e",
   "metadata": {
    "editable": true,
    "execution": {
     "iopub.execute_input": "2024-12-16T14:53:07.435077Z",
     "iopub.status.busy": "2024-12-16T14:53:07.434775Z",
     "iopub.status.idle": "2024-12-16T14:53:07.439302Z",
     "shell.execute_reply": "2024-12-16T14:53:07.438554Z",
     "shell.execute_reply.started": "2024-12-16T14:53:07.435058Z"
    },
    "slideshow": {
     "slide_type": "slide"
    },
    "tags": []
   },
   "source": [
    "### **Como funciona**\n",
    "1. Comece do início da lista.\n",
    "2. Compare os elementos adjacentes.\n",
    "3. Troque se necessário.\n",
    "4. Repita o processo para a parte restante não classificada."
   ]
  },
  {
   "cell_type": "code",
   "execution_count": null,
   "id": "5e75c900-d05f-4e17-9d3a-55d3008863fb",
   "metadata": {
    "editable": true,
    "execution": {
     "iopub.execute_input": "2024-12-16T20:40:19.461062Z",
     "iopub.status.busy": "2024-12-16T20:40:19.460583Z",
     "iopub.status.idle": "2024-12-16T20:40:19.475065Z",
     "shell.execute_reply": "2024-12-16T20:40:19.474444Z",
     "shell.execute_reply.started": "2024-12-16T20:40:19.461039Z"
    },
    "slideshow": {
     "slide_type": "slide"
    },
    "tags": []
   },
   "outputs": [],
   "source": [
    "### **Exemplo**\n",
    "\n",
    "def ordenacao_bolha(arr):\n",
    "    for i in range(len(arr)):\n",
    "        print(arr)\n",
    "        for j in range(0, len(arr) - i - 1):\n",
    "            if arr[j] > arr[j + 1]:\n",
    "                arr[j], arr[j + 1] = arr[j + 1], arr[j]\n",
    "    return arr\n",
    "\n",
    "arr = [64, 34, 25, 12, 22, 11, 90]\n",
    "ordenacao_bolha(arr)\n",
    "print(arr)"
   ]
  },
  {
   "cell_type": "markdown",
   "id": "9cbf3e5d-0889-47c7-906b-c5045c59e8b8",
   "metadata": {
    "editable": true,
    "execution": {
     "iopub.execute_input": "2024-12-16T14:54:41.629816Z",
     "iopub.status.busy": "2024-12-16T14:54:41.629543Z",
     "iopub.status.idle": "2024-12-16T14:54:41.633938Z",
     "shell.execute_reply": "2024-12-16T14:54:41.633161Z",
     "shell.execute_reply.started": "2024-12-16T14:54:41.629797Z"
    },
    "slideshow": {
     "slide_type": "slide"
    },
    "tags": []
   },
   "source": [
    "## Complexidade de Tempo\n",
    "\n",
    "- Pior caso: O(n²)\n",
    "- Melhor caso: O(n) (lista já ordenada).\n",
    "\n",
    "## Quando Usar\n",
    "\n",
    "- Para pequenos conjuntos de dados ou como ferramenta de aprendizado."
   ]
  },
  {
   "cell_type": "markdown",
   "id": "091ab545-6c56-4ea9-b50d-64de78704190",
   "metadata": {
    "editable": true,
    "slideshow": {
     "slide_type": "slide"
    },
    "tags": []
   },
   "source": [
    "## Lição 2: Ordenação por Mesclagem\n",
    "\n",
    "### **O que é Ordenação por Mesclagem?**\n",
    "- Um algoritmo de **divisão para conquistar** que divide a lista em partes menores, ordena-as e, em seguida, as mescla novamente.\n",
    "\n",
    "### **Como Funciona**\n",
    "1. Divida a lista em metades até que cada parte tenha 1 elemento.\n",
    "2. Mescle as metades ordenadas.\n",
    "3. Continue mesclando até que a lista inteira esteja ordenada."
   ]
  },
  {
   "cell_type": "code",
   "execution_count": null,
   "id": "23ebb358-f917-458f-964b-2371abde8548",
   "metadata": {
    "editable": true,
    "execution": {
     "iopub.execute_input": "2024-12-16T15:02:18.534143Z",
     "iopub.status.busy": "2024-12-16T15:02:18.533689Z",
     "iopub.status.idle": "2024-12-16T15:02:18.543466Z",
     "shell.execute_reply": "2024-12-16T15:02:18.542704Z",
     "shell.execute_reply.started": "2024-12-16T15:02:18.534112Z"
    },
    "slideshow": {
     "slide_type": "slide"
    },
    "tags": []
   },
   "outputs": [],
   "source": [
    "### **Exemplo**\n",
    "\n",
    "def ordenacao_por_fusao(arr):\n",
    "    if len(arr) > 1:\n",
    "        meio = len(arr) // 2\n",
    "        esquerda = arr[:meio]\n",
    "        direita = arr[meio:]\n",
    "\n",
    "        ordenacao_por_fusao(esquerda)\n",
    "        ordenacao_por_fusao(direita)\n",
    "\n",
    "        i = j = k = 0\n",
    "\n",
    "        while i < len(esquerda) and j < len(direita):\n",
    "            if esquerda[i] < direita[j]:\n",
    "                arr[k] = esquerda[i]\n",
    "                i += 1\n",
    "            else:\n",
    "                arr[k] = direita[j]\n",
    "                j += 1\n",
    "            k += 1\n",
    "\n",
    "        while i < len(esquerda):\n",
    "            arr[k] = esquerda[i]\n",
    "            i += 1\n",
    "            k += 1\n",
    "\n",
    "        while j < len(direita):\n",
    "            arr[k] = direita[j]\n",
    "            j += 1\n",
    "            k += 1\n",
    "\n",
    "arr = [38, 27, 43, 3, 9, 82, 10]\n",
    "ordenacao_por_fusao(arr)\n",
    "print(arr)"
   ]
  },
  {
   "cell_type": "markdown",
   "id": "14f3c7cb-d2eb-4a3c-8187-f166669ef7f3",
   "metadata": {
    "editable": true,
    "slideshow": {
     "slide_type": "slide"
    },
    "tags": []
   },
   "source": [
    "## Complexidade de Tempo\n",
    "\n",
    "- Pior caso: O(n log n)\n",
    "- Melhor caso: O(n log n).\n",
    "\n",
    "### Quando Usar\n",
    "\n",
    "- Para grandes conjuntos de dados quando estabilidade e desempenho são importantes."
   ]
  },
  {
   "cell_type": "markdown",
   "id": "b0c3e989-61b6-438c-ac0b-39fc14d2be51",
   "metadata": {
    "editable": true,
    "slideshow": {
     "slide_type": "slide"
    },
    "tags": []
   },
   "source": [
    "## Lição 3: Ordenação Rápida\n",
    "\n",
    "### **O que é Ordenação Rápida?**\n",
    "- Um algoritmo de **divisão para conquista** que seleciona um elemento \"pivô\" e particiona a lista em elementos menores e maiores que o pivô.\n",
    "\n",
    "### **Como Funciona**\n",
    "1. Escolha um elemento pivô.\n",
    "2. Reorganize os elementos de forma que:\n",
    "   - Os elementos menores que o pivô fiquem à esquerda.\n",
    "   - Os elementos maiores que o pivô fiquem à direita.\n",
    "3. Aplique recursivamente os passos acima às sublistas."
   ]
  },
  {
   "cell_type": "code",
   "execution_count": null,
   "id": "be6e51c1-6180-4896-ad99-66002a122a6e",
   "metadata": {
    "editable": true,
    "execution": {
     "iopub.execute_input": "2024-12-16T20:45:45.033059Z",
     "iopub.status.busy": "2024-12-16T20:45:45.032680Z",
     "iopub.status.idle": "2024-12-16T20:45:45.046695Z",
     "shell.execute_reply": "2024-12-16T20:45:45.046086Z",
     "shell.execute_reply.started": "2024-12-16T20:45:45.033039Z"
    },
    "slideshow": {
     "slide_type": "slide"
    },
    "tags": []
   },
   "outputs": [],
   "source": [
    "### **Exemplo**\n",
    "\n",
    "def quick_sort(arr):\n",
    "    if len(arr) <= 1:\n",
    "        return arr\n",
    "    pivô = arr[len(arr) // 2]\n",
    "    esquerda = [x for x in arr if x < pivô]\n",
    "    meio = [x for x in arr if x == pivô]\n",
    "    direita = [x for x in arr if x > pivô]\n",
    "    return quick_sort(esquerda) + meio + quick_sort(direita)\n",
    "\n",
    "arr = [10, 7, 8, 9, 1, 6]\n",
    "arr_ordenado = quick_sort(arr)\n",
    "print(arr_ordenado)"
   ]
  },
  {
   "cell_type": "markdown",
   "id": "384fbb66-8dde-4f07-9919-1ed274826198",
   "metadata": {
    "editable": true,
    "slideshow": {
     "slide_type": "slide"
    },
    "tags": []
   },
   "source": [
    "## Complexidade de Tempo\n",
    "\n",
    "- Pior caso: O(n²) (seleção de pivô ruim).\n",
    "- Melhor caso: O(n log n).\n",
    "\n",
    "### Quando Usar\n",
    "\n",
    "- Para grandes conjuntos de dados onde a ordenação no local é importante."
   ]
  },
  {
   "cell_type": "markdown",
   "id": "df134f37-1172-4f03-acc8-9f1e45ff8d36",
   "metadata": {
    "editable": true,
    "slideshow": {
     "slide_type": "slide"
    },
    "tags": []
   },
   "source": [
    "## Recapitulação: Algoritmos de Ordenação\n",
    "\n",
    "| Algoritmo               | Complexidade Temporal (Melhor, Pior) | Complexidade Espacial | Estável? | Quando Usar                                 |\n",
    "|-------------------------|--------------------------------------|-----------------------|----------|---------------------------------------------|\n",
    "| Ordenação por Bolhas    | O(n), O(n²)                          | O(1)                  | Sim      | Conjuntos de dados pequenos ou aprendizado. |\n",
    "| Ordenação por Mesclagem | O(n log n), O(n log n)               | O(n)                  | Sim      | Conjuntos de dados grandes, estabilidade.   |\n",
    "| Ordenação Rápida        | O(n log n), O(n²)                    | O(log n)              | Não      | Conjuntos de dados grandes, velocidade.     |\n",
    "\n",
    "\n",
    "### Principais Conclusões:\n",
    "1. **Ordenação por Bolhas**: Fácil de entender, mas ineficiente para dados grandes.\n",
    "2. **Ordenação por Mesclagem**: Estável e eficiente, ótima para conjuntos de dados grandes.\n",
    "3. **Classificação rápida**: rápida e com uso eficiente de memória, mas depende da seleção do pivô."
   ]
  },
  {
   "cell_type": "code",
   "execution_count": null,
   "id": "56aad30d-f850-4fec-bf0f-b393d9adeef0",
   "metadata": {
    "editable": true,
    "scrolled": true,
    "slideshow": {
     "slide_type": "slide"
    },
    "tags": []
   },
   "outputs": [],
   "source": [
    "from turtledemo import sorting_animate\n",
    "\n",
    "sorting_animate.main()"
   ]
  },
  {
   "cell_type": "markdown",
   "id": "c97ee6cf-c6cc-4d51-bf32-0386318e75b8",
   "metadata": {
    "editable": true,
    "execution": {
     "iopub.execute_input": "2024-12-16T15:22:50.293947Z",
     "iopub.status.busy": "2024-12-16T15:22:50.293599Z",
     "iopub.status.idle": "2024-12-16T15:22:50.306100Z",
     "shell.execute_reply": "2024-12-16T15:22:50.305410Z",
     "shell.execute_reply.started": "2024-12-16T15:22:50.293927Z"
    },
    "slideshow": {
     "slide_type": "slide"
    },
    "tags": []
   },
   "source": [
    "## Bônus!!!!!\n",
    "\n",
    "### Python tem um método `sorted()`. Que tipo de ordenação o Python usa?\n",
    "\n",
    "- Documentação sobre ordenação: https://docs.python.org/3/howto/sorting.html\n",
    "- https://en.wikipedia.org/wiki/Timsort"
   ]
  },
  {
   "cell_type": "code",
   "execution_count": null,
   "id": "45ea0a80-bf2e-41c2-b090-8c4b0b28993d",
   "metadata": {
    "editable": true,
    "slideshow": {
     "slide_type": ""
    },
    "tags": []
   },
   "outputs": [],
   "source": []
  }
 ],
 "metadata": {
  "kernelspec": {
   "display_name": "Python 3",
   "language": "python",
   "name": "python3"
  },
  "language_info": {
   "codemirror_mode": {
    "name": "ipython",
    "version": 3
   },
   "file_extension": ".py",
   "mimetype": "text/x-python",
   "name": "python",
   "nbconvert_exporter": "python",
   "pygments_lexer": "ipython3",
   "version": "3.10.0"
  }
 },
 "nbformat": 4,
 "nbformat_minor": 5
}
