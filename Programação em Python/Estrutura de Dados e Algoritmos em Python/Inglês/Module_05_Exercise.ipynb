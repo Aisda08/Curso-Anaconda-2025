{
 "cells": [
  {
   "cell_type": "code",
   "execution_count": null,
   "id": "f03b056b-7cfa-468e-b7f0-92a0a24c311c",
   "metadata": {},
   "outputs": [],
   "source": []
  }
 ],
 "metadata": {
  "kernelspec": {
   "display_name": "",
   "name": ""
  },
  "language_info": {
   "name": ""
  }
 },
 "nbformat": 4,
 "nbformat_minor": 5
}
