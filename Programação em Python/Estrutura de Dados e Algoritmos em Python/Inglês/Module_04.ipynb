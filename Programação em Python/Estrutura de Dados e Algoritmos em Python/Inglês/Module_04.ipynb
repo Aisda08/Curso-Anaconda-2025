{
 "cells": [
  {
   "cell_type": "markdown",
   "id": "2f9cb434-dcd1-41c8-b5d2-f33ebd7d5a58",
   "metadata": {
    "editable": true,
    "slideshow": {
     "slide_type": "slide"
    },
    "tags": []
   },
   "source": [
    "# Module 4: Sorting for Data Retrieval"
   ]
  },
  {
   "cell_type": "markdown",
   "id": "061789d8-9430-4632-8cae-db4c5d7dade3",
   "metadata": {
    "editable": true,
    "slideshow": {
     "slide_type": "slide"
    },
    "tags": []
   },
   "source": [
    "## What You'll Learn\n",
    "1. Understand the basics of sorting algorithms.\n",
    "2. Explore and implement:\n",
    "   - Bubble Sort\n",
    "   - Merge Sort\n",
    "   - Quick Sort\n",
    "3. Learn when and where to apply each sorting technique.\n",
    "\n",
    "### Why Sorting Matters:\n",
    "- Improves data organization and retrieval.\n",
    "- Forms the foundation for more complex algorithms."
   ]
  },
  {
   "cell_type": "markdown",
   "id": "c8b66e5d-aff1-42f7-b55e-0f390852645e",
   "metadata": {
    "editable": true,
    "execution": {
     "iopub.execute_input": "2024-12-16T14:52:46.748893Z",
     "iopub.status.busy": "2024-12-16T14:52:46.748419Z",
     "iopub.status.idle": "2024-12-16T14:52:46.752987Z",
     "shell.execute_reply": "2024-12-16T14:52:46.752250Z",
     "shell.execute_reply.started": "2024-12-16T14:52:46.748874Z"
    },
    "slideshow": {
     "slide_type": "slide"
    },
    "tags": []
   },
   "source": [
    "## Lesson 1: Bubble Sorting\n",
    "\n",
    "\n",
    "### **What Is Bubble Sort?**\n",
    "- A simple sorting algorithm that compares adjacent elements and swaps them if they are out of order.\n",
    "- Repeated until the entire list is sorted."
   ]
  },
  {
   "cell_type": "markdown",
   "id": "c6d75af0-af60-4c51-8335-8c57b6be112e",
   "metadata": {
    "editable": true,
    "execution": {
     "iopub.execute_input": "2024-12-16T14:53:07.435077Z",
     "iopub.status.busy": "2024-12-16T14:53:07.434775Z",
     "iopub.status.idle": "2024-12-16T14:53:07.439302Z",
     "shell.execute_reply": "2024-12-16T14:53:07.438554Z",
     "shell.execute_reply.started": "2024-12-16T14:53:07.435058Z"
    },
    "slideshow": {
     "slide_type": "slide"
    },
    "tags": []
   },
   "source": [
    "### **How It Works**\n",
    "1. Start from the beginning of the list.\n",
    "2. Compare adjacent elements.\n",
    "3. Swap if needed.\n",
    "4. Repeat for the remaining unsorted portion."
   ]
  },
  {
   "cell_type": "code",
   "execution_count": 7,
   "id": "5e75c900-d05f-4e17-9d3a-55d3008863fb",
   "metadata": {
    "editable": true,
    "execution": {
     "iopub.execute_input": "2024-12-16T20:40:19.461062Z",
     "iopub.status.busy": "2024-12-16T20:40:19.460583Z",
     "iopub.status.idle": "2024-12-16T20:40:19.475065Z",
     "shell.execute_reply": "2024-12-16T20:40:19.474444Z",
     "shell.execute_reply.started": "2024-12-16T20:40:19.461039Z"
    },
    "slideshow": {
     "slide_type": "slide"
    },
    "tags": []
   },
   "outputs": [
    {
     "name": "stdout",
     "output_type": "stream",
     "text": [
      "[64, 34, 25, 12, 22, 11, 90]\n",
      "[34, 25, 12, 22, 11, 64, 90]\n",
      "[25, 12, 22, 11, 34, 64, 90]\n",
      "[12, 22, 11, 25, 34, 64, 90]\n",
      "[12, 11, 22, 25, 34, 64, 90]\n",
      "[11, 12, 22, 25, 34, 64, 90]\n",
      "[11, 12, 22, 25, 34, 64, 90]\n",
      "[11, 12, 22, 25, 34, 64, 90]\n"
     ]
    }
   ],
   "source": [
    "### **Example**\n",
    "\n",
    "def bubble_sort(arr):\n",
    "    for i in range(len(arr)):\n",
    "        print(arr)\n",
    "        for j in range(0, len(arr) - i - 1):\n",
    "            if arr[j] > arr[j + 1]:\n",
    "                arr[j], arr[j + 1] = arr[j + 1], arr[j]\n",
    "    return arr\n",
    "\n",
    "arr = [64, 34, 25, 12, 22, 11, 90]\n",
    "bubble_sort(arr)\n",
    "print(arr)"
   ]
  },
  {
   "cell_type": "markdown",
   "id": "9cbf3e5d-0889-47c7-906b-c5045c59e8b8",
   "metadata": {
    "editable": true,
    "execution": {
     "iopub.execute_input": "2024-12-16T14:54:41.629816Z",
     "iopub.status.busy": "2024-12-16T14:54:41.629543Z",
     "iopub.status.idle": "2024-12-16T14:54:41.633938Z",
     "shell.execute_reply": "2024-12-16T14:54:41.633161Z",
     "shell.execute_reply.started": "2024-12-16T14:54:41.629797Z"
    },
    "slideshow": {
     "slide_type": "slide"
    },
    "tags": []
   },
   "source": [
    "## Time Complexity\n",
    "\n",
    "- Worst-case: O(n²)\n",
    "- Best-case: O(n) (already sorted list).\n",
    "\n",
    "## When to Use\n",
    "\n",
    "- For small datasets or as a learning tool. "
   ]
  },
  {
   "cell_type": "markdown",
   "id": "091ab545-6c56-4ea9-b50d-64de78704190",
   "metadata": {
    "editable": true,
    "slideshow": {
     "slide_type": "slide"
    },
    "tags": []
   },
   "source": [
    "## Lesson 2: Merge Sorting\n",
    "\n",
    "\n",
    "### **What Is Merge Sort?**\n",
    "- A **divide-and-conquer** algorithm that splits the list into smaller parts, sorts them, and then merges them back together.\n",
    "\n",
    "\n",
    "### **How It Works**\n",
    "1. Divide the list into halves until each piece has 1 element.\n",
    "2. Merge the sorted halves together.\n",
    "3. Continue merging until the entire list is sorted."
   ]
  },
  {
   "cell_type": "code",
   "execution_count": 31,
   "id": "23ebb358-f917-458f-964b-2371abde8548",
   "metadata": {
    "editable": true,
    "execution": {
     "iopub.execute_input": "2024-12-16T15:02:18.534143Z",
     "iopub.status.busy": "2024-12-16T15:02:18.533689Z",
     "iopub.status.idle": "2024-12-16T15:02:18.543466Z",
     "shell.execute_reply": "2024-12-16T15:02:18.542704Z",
     "shell.execute_reply.started": "2024-12-16T15:02:18.534112Z"
    },
    "slideshow": {
     "slide_type": "slide"
    },
    "tags": []
   },
   "outputs": [
    {
     "name": "stdout",
     "output_type": "stream",
     "text": [
      "[3, 9, 10, 27, 38, 43, 82]\n"
     ]
    }
   ],
   "source": [
    "### **Example**\n",
    "\n",
    "def merge_sort(arr):\n",
    "    if len(arr) > 1:\n",
    "        mid = len(arr) // 2\n",
    "        left = arr[:mid]\n",
    "        right = arr[mid:]\n",
    "\n",
    "        merge_sort(left)\n",
    "        merge_sort(right)\n",
    "\n",
    "        i = j = k = 0\n",
    "\n",
    "        while i < len(left) and j < len(right):\n",
    "            if left[i] < right[j]:\n",
    "                arr[k] = left[i]\n",
    "                i += 1\n",
    "            else:\n",
    "                arr[k] = right[j]\n",
    "                j += 1\n",
    "            k += 1\n",
    "\n",
    "        while i < len(left):\n",
    "            arr[k] = left[i]\n",
    "            i += 1\n",
    "            k += 1\n",
    "\n",
    "        while j < len(right):\n",
    "            arr[k] = right[j]\n",
    "            j += 1\n",
    "            k += 1\n",
    "\n",
    "arr = [38, 27, 43, 3, 9, 82, 10]\n",
    "merge_sort(arr)\n",
    "print(arr)"
   ]
  },
  {
   "cell_type": "markdown",
   "id": "14f3c7cb-d2eb-4a3c-8187-f166669ef7f3",
   "metadata": {
    "editable": true,
    "slideshow": {
     "slide_type": "slide"
    },
    "tags": []
   },
   "source": [
    "## Time Complexity\n",
    "\n",
    "- Worst-case: O(n log n)\n",
    "- Best-case: O(n log n).\n",
    "\n",
    "### When to Use\n",
    "\n",
    "- For large datasets when stability and performance matter."
   ]
  },
  {
   "cell_type": "markdown",
   "id": "b0c3e989-61b6-438c-ac0b-39fc14d2be51",
   "metadata": {
    "editable": true,
    "slideshow": {
     "slide_type": "slide"
    },
    "tags": []
   },
   "source": [
    "## Lesson 3: Quick Sorting\n",
    "\n",
    "\n",
    "### **What Is Quick Sort?**\n",
    "- A **divide-and-conquer** algorithm that selects a \"pivot\" element and partitions the list into elements smaller and larger than the pivot.\n",
    "\n",
    "\n",
    "### **How It Works**\n",
    "1. Choose a pivot element.\n",
    "2. Rearrange elements so that:\n",
    "   - Elements smaller than the pivot are on the left.\n",
    "   - Elements larger than the pivot are on the right.\n",
    "3. Recursively apply the above steps to the sub-lists."
   ]
  },
  {
   "cell_type": "code",
   "execution_count": 13,
   "id": "be6e51c1-6180-4896-ad99-66002a122a6e",
   "metadata": {
    "editable": true,
    "execution": {
     "iopub.execute_input": "2024-12-16T20:45:45.033059Z",
     "iopub.status.busy": "2024-12-16T20:45:45.032680Z",
     "iopub.status.idle": "2024-12-16T20:45:45.046695Z",
     "shell.execute_reply": "2024-12-16T20:45:45.046086Z",
     "shell.execute_reply.started": "2024-12-16T20:45:45.033039Z"
    },
    "slideshow": {
     "slide_type": "slide"
    },
    "tags": []
   },
   "outputs": [
    {
     "name": "stdout",
     "output_type": "stream",
     "text": [
      "[1, 6, 7, 8, 9, 10]\n"
     ]
    }
   ],
   "source": [
    "### **Example**\n",
    "\n",
    "def quick_sort(arr):\n",
    "    if len(arr) <= 1:\n",
    "        return arr\n",
    "    pivot = arr[len(arr) // 2]\n",
    "    left = [x for x in arr if x < pivot]\n",
    "    middle = [x for x in arr if x == pivot]\n",
    "    right = [x for x in arr if x > pivot]\n",
    "    return quick_sort(left) + middle + quick_sort(right)\n",
    "\n",
    "arr = [10, 7, 8, 9, 1, 6]\n",
    "sorted_arr = quick_sort(arr)\n",
    "print(sorted_arr)"
   ]
  },
  {
   "cell_type": "markdown",
   "id": "384fbb66-8dde-4f07-9919-1ed274826198",
   "metadata": {
    "editable": true,
    "slideshow": {
     "slide_type": "slide"
    },
    "tags": []
   },
   "source": [
    "## Time Complexity\n",
    "\n",
    "- Worst-case: O(n²) (poor pivot selection).\n",
    "- Best-case: O(n log n).\n",
    "\n",
    "### When to Use\n",
    "\n",
    "- For large datasets where in-place sorting is important."
   ]
  },
  {
   "cell_type": "markdown",
   "id": "df134f37-1172-4f03-acc8-9f1e45ff8d36",
   "metadata": {
    "editable": true,
    "slideshow": {
     "slide_type": "slide"
    },
    "tags": []
   },
   "source": [
    "## Recap: Sorting Algorithms\n",
    "\n",
    "| Algorithm     | Time Complexity (Best, Worst) | Space Complexity | Stable? | When to Use                 |\n",
    "|---------------|-------------------------------|------------------|---------|-----------------------------|\n",
    "| Bubble Sort   | O(n), O(n²)                   | O(1)             | Yes     | Small datasets or learning. |\n",
    "| Merge Sort    | O(n log n), O(n log n)        | O(n)             | Yes     | Large datasets, stability.  |\n",
    "| Quick Sort    | O(n log n), O(n²)             | O(log n)         | No      | Large datasets, speed.      |\n",
    "\n",
    "\n",
    "### Key Takeaways:\n",
    "1. **Bubble Sort**: Easy to understand, but inefficient for large data.\n",
    "2. **Merge Sort**: Stable and efficient, great for large datasets.\n",
    "3. **Quick Sort**: Fast and memory-efficient, but depends on pivot selection."
   ]
  },
  {
   "cell_type": "code",
   "execution_count": null,
   "id": "56aad30d-f850-4fec-bf0f-b393d9adeef0",
   "metadata": {
    "editable": true,
    "scrolled": true,
    "slideshow": {
     "slide_type": "slide"
    },
    "tags": []
   },
   "outputs": [],
   "source": [
    "from turtledemo import sorting_animate\n",
    "\n",
    "sorting_animate.main()"
   ]
  },
  {
   "cell_type": "markdown",
   "id": "c97ee6cf-c6cc-4d51-bf32-0386318e75b8",
   "metadata": {
    "editable": true,
    "execution": {
     "iopub.execute_input": "2024-12-16T15:22:50.293947Z",
     "iopub.status.busy": "2024-12-16T15:22:50.293599Z",
     "iopub.status.idle": "2024-12-16T15:22:50.306100Z",
     "shell.execute_reply": "2024-12-16T15:22:50.305410Z",
     "shell.execute_reply.started": "2024-12-16T15:22:50.293927Z"
    },
    "slideshow": {
     "slide_type": "slide"
    },
    "tags": []
   },
   "source": [
    "## Bonus!!!!!\n",
    "\n",
    "### Python has a method `sorted()`. What type of sorting does Python use?\n",
    "\n",
    "\n",
    "- Sorting Docs: https://docs.python.org/3/howto/sorting.html\n",
    "- https://en.wikipedia.org/wiki/Timsort"
   ]
  },
  {
   "cell_type": "code",
   "execution_count": null,
   "id": "45ea0a80-bf2e-41c2-b090-8c4b0b28993d",
   "metadata": {
    "editable": true,
    "slideshow": {
     "slide_type": ""
    },
    "tags": []
   },
   "outputs": [],
   "source": []
  }
 ],
 "metadata": {
  "kernelspec": {
   "display_name": "anaconda-ai-2024.04-py310",
   "language": "python",
   "name": "conda-env-anaconda-ai-2024.04-py310-py"
  },
  "language_info": {
   "codemirror_mode": {
    "name": "ipython",
    "version": 3
   },
   "file_extension": ".py",
   "mimetype": "text/x-python",
   "name": "python",
   "nbconvert_exporter": "python",
   "pygments_lexer": "ipython3",
   "version": "3.10.13"
  }
 },
 "nbformat": 4,
 "nbformat_minor": 5
}
