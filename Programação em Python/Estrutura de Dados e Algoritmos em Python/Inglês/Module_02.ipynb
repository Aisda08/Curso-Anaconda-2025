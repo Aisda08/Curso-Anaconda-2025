{
 "cells": [
  {
   "cell_type": "code",
   "execution_count": null,
   "id": "51eb473d-b141-4619-b940-9e5720a368e6",
   "metadata": {},
   "outputs": [],
   "source": []
  }
 ],
 "metadata": {
  "kernelspec": {
   "display_name": "",
   "name": ""
  },
  "language_info": {
   "name": ""
  }
 },
 "nbformat": 4,
 "nbformat_minor": 5
}
