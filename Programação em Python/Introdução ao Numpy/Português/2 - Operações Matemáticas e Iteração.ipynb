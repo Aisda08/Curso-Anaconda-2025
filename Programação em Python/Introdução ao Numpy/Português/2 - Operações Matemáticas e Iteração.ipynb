{
 "cells": [
  {
   "cell_type": "markdown",
   "id": "2c4d70f7-9cbe-495d-bf25-c3df5d47790a",
   "metadata": {},
   "source": [
    "# Indexação, Iteração e Matemática com Arrays"
   ]
  },
  {
   "cell_type": "markdown",
   "id": "9f90984e-986a-4325-a923-ee5ad3c93d98",
   "metadata": {},
   "source": [
    "Nesta seção, aprenderemos como realizar algumas operações e funções matemáticas entre matrizes NumPy. Também aprenderemos como acessar elementos individuais dentro de uma matriz, bem como iterar esses elementos com laços `for`."
   ]
  },
  {
   "cell_type": "markdown",
   "id": "d1312435-9eff-4bb4-9d3e-45a8b3e8d8e0",
   "metadata": {},
   "source": [
    "## Indexando Matrizes"
   ]
  },
  {
   "cell_type": "markdown",
   "id": "60a8eb6c-cf61-435e-908b-c6c9dfe120fb",
   "metadata": {},
   "source": [
    "Vamos declarar um array de quatro elementos inteiros."
   ]
  },
  {
   "cell_type": "code",
   "execution_count": null,
   "id": "41bdae29-f6b0-4904-83b0-c5c43dd0b61b",
   "metadata": {},
   "outputs": [],
   "source": [
    "import numpy as np \n",
    "\n",
    "a = np.array([67, 12, 19, 43])"
   ]
  },
  {
   "cell_type": "markdown",
   "id": "3e12c5d5-d9d7-4689-8714-a2d21ab3c468",
   "metadata": {},
   "source": [
    "Usando a indexação de base 0, podemos acessar o primeiro elemento."
   ]
  },
  {
   "cell_type": "code",
   "execution_count": null,
   "id": "2d234292-d0df-44a6-a04e-09c327431cf7",
   "metadata": {
    "scrolled": true
   },
   "outputs": [],
   "source": [
    "a[0]"
   ]
  },
  {
   "cell_type": "markdown",
   "id": "04497bf3-de11-4787-8a71-f6e855e0bd52",
   "metadata": {},
   "source": [
    "Podemos acessar o terceiro elemento."
   ]
  },
  {
   "cell_type": "code",
   "execution_count": null,
   "id": "6fb296e4-b13e-41b3-9512-50862535d4d4",
   "metadata": {},
   "outputs": [],
   "source": [
    "a[2]"
   ]
  },
  {
   "cell_type": "markdown",
   "id": "60e6f708-fa58-4e2e-ad17-63f001db958a",
   "metadata": {},
   "source": [
    "Também podemos acessar o último elemento."
   ]
  },
  {
   "cell_type": "code",
   "execution_count": null,
   "id": "ec2bc3f3-4af3-41fd-ac8f-8d16b84b8937",
   "metadata": {},
   "outputs": [],
   "source": [
    "a[-1]"
   ]
  },
  {
   "cell_type": "markdown",
   "id": "5ec01956-cd32-45fa-8e41-60072b09351a",
   "metadata": {},
   "source": [
    "Certo, então e quanto a matrizes em dimensões superiores? Aqui está uma matriz bidimensional."
   ]
  },
  {
   "cell_type": "code",
   "execution_count": null,
   "id": "72710b5f-0e6c-4a11-a8d8-12c2a238146e",
   "metadata": {
    "scrolled": true
   },
   "outputs": [],
   "source": [
    "b = np.array([[  10,   20,   30,   40,   50],\n",
    "              [ 100,  200,  300,  400,  500], \n",
    "              [1000, 2000, 3000, 4000, 5000]\n",
    "             ])\n",
    "\n",
    "b"
   ]
  },
  {
   "cell_type": "markdown",
   "id": "b5bef9df-1fad-4a9f-8717-70ebda54234e",
   "metadata": {},
   "source": [
    "Podemos acessar a primeira fileira."
   ]
  },
  {
   "cell_type": "code",
   "execution_count": null,
   "id": "ff525228-33d7-4279-b857-0fa63df41817",
   "metadata": {},
   "outputs": [],
   "source": [
    "b[0]"
   ]
  },
  {
   "cell_type": "markdown",
   "id": "ca8e7ee3-3fbd-4a1b-b31c-b042b2d09f37",
   "metadata": {},
   "source": [
    "podemos acessar o terceiro elemento na segunda linha usando qualquer uma dessas sintaxes."
   ]
  },
  {
   "cell_type": "code",
   "execution_count": null,
   "id": "48ce040e-cc13-4638-bad4-93c94ba90470",
   "metadata": {},
   "outputs": [],
   "source": [
    "b[1,2]"
   ]
  },
  {
   "cell_type": "code",
   "execution_count": null,
   "id": "bd6f9d0f-7bc3-4e38-9d3d-88edb857ab06",
   "metadata": {},
   "outputs": [],
   "source": [
    "b[1][2]"
   ]
  },
  {
   "cell_type": "markdown",
   "id": "2f781a2e-2436-49f7-8c45-36fabb147a2b",
   "metadata": {},
   "source": [
    "Também podemos usar o fatiamento para capturar intervalos do array, mas deixaremos isso para uma seção posterior. Saiba que a opção está lá."
   ]
  },
  {
   "cell_type": "code",
   "execution_count": null,
   "id": "e3a43ad9-d8c2-4a0f-8494-594a53644b22",
   "metadata": {},
   "outputs": [],
   "source": [
    "b[0:2, 3:5]"
   ]
  },
  {
   "cell_type": "markdown",
   "id": "69a725b9-a367-4437-80c2-b6fc0a412960",
   "metadata": {},
   "source": [
    "E aqui está um exemplo final de uma matriz tridimensional capturando o item mais central, o `34`."
   ]
  },
  {
   "cell_type": "code",
   "execution_count": null,
   "id": "5785dd02-91db-445b-88ac-aa3335dbd166",
   "metadata": {},
   "outputs": [],
   "source": [
    "minha_imagem = np.array([\n",
    "    [[0, 1, 3],\n",
    "     [6, 2, 6], \n",
    "     [1, 5, 4]], \n",
    "    \n",
    "    [[8, 3, 19],\n",
    "     [33, 34, 11], \n",
    "     [13, 14, 89]], \n",
    "    \n",
    "    [[14, 68, 17],\n",
    "     [66, 84, 92], \n",
    "     [4, 2, 58]]\n",
    "])\n",
    "\n",
    "minha_imagem[1][1][1]"
   ]
  },
  {
   "cell_type": "markdown",
   "id": "a8620048-54bd-4426-a5b7-9c4e93bc473e",
   "metadata": {
    "jp-MarkdownHeadingCollapsed": true
   },
   "source": [
    "## Operadores matemáticos básicos"
   ]
  },
  {
   "cell_type": "markdown",
   "id": "2d3f92be-97e1-4a51-a3c7-a270778f59ca",
   "metadata": {},
   "source": [
    "Vamos declarar dois arrays diferentes, `a` e `b`, que são unidimensionais."
   ]
  },
  {
   "cell_type": "code",
   "execution_count": null,
   "id": "6fa1d961-c9e8-4969-819f-aca85988e66c",
   "metadata": {},
   "outputs": [],
   "source": [
    "a = np.array([.25, .5, .75])\n",
    "\n",
    "b = np.array([4, 10, 100])\n",
    "\n",
    "a.shape, b.shape"
   ]
  },
  {
   "cell_type": "markdown",
   "id": "5c1360a0-fd23-4e43-b526-92cbbed435a3",
   "metadata": {},
   "source": [
    "Podemos adicionar duas matrizes, somando cada elemento respectivo."
   ]
  },
  {
   "cell_type": "code",
   "execution_count": null,
   "id": "b5919fc5-e53b-42a7-ba14-91e25b7f2fbe",
   "metadata": {},
   "outputs": [],
   "source": [
    "a + b"
   ]
  },
  {
   "cell_type": "markdown",
   "id": "94f241b5-28dd-43ea-9588-0edfa7029a41",
   "metadata": {},
   "source": [
    "Também podemos subtrair."
   ]
  },
  {
   "cell_type": "code",
   "execution_count": null,
   "id": "338cbe26-f212-43ee-ae16-7fee1a3663ec",
   "metadata": {},
   "outputs": [],
   "source": [
    "b - a"
   ]
  },
  {
   "cell_type": "markdown",
   "id": "05f9866f-e959-4a7d-a6a5-37ee9d0351d3",
   "metadata": {},
   "source": [
    "Multiplique cada elemento respectivo."
   ]
  },
  {
   "cell_type": "code",
   "execution_count": null,
   "id": "f1358753-2d62-4af9-83ea-b5045fd48615",
   "metadata": {},
   "outputs": [],
   "source": [
    "a * b"
   ]
  },
  {
   "cell_type": "markdown",
   "id": "a74f7d58-d645-4bea-a677-28b6e22949fc",
   "metadata": {},
   "source": [
    "Ou divida cada elemento respectivo."
   ]
  },
  {
   "cell_type": "code",
   "execution_count": null,
   "id": "db0006a7-589e-41e7-805f-3331714670f8",
   "metadata": {
    "scrolled": true
   },
   "outputs": [],
   "source": [
    "a / b"
   ]
  },
  {
   "cell_type": "markdown",
   "id": "e02c0513-0255-457e-a496-9b4b906a122a",
   "metadata": {},
   "source": [
    "Você pode até definir outro array `a` para ser o expoente de `b`."
   ]
  },
  {
   "cell_type": "code",
   "execution_count": null,
   "id": "1edc3bc1-8480-4c66-ac12-384d81f95c76",
   "metadata": {},
   "outputs": [],
   "source": [
    "b**a"
   ]
  },
  {
   "cell_type": "markdown",
   "id": "bbbdf178-68b9-4407-a795-f8b739bbbe93",
   "metadata": {},
   "source": [
    "Você também pode usar um único valor escalar com qualquer um desses operadores. Ele simplesmente aplicará esse valor a cada elemento de um array. Se multiplicarmos `a` por `100`, ele multiplicará cada elemento de `a` por `100`."
   ]
  },
  {
   "cell_type": "code",
   "execution_count": null,
   "id": "1ca21a8f-2042-457d-8dc6-3dca482ef1c3",
   "metadata": {},
   "outputs": [],
   "source": [
    "100*a"
   ]
  },
  {
   "cell_type": "markdown",
   "id": "c5010811-b589-4308-9911-2ae7ca9f5c6f",
   "metadata": {},
   "source": [
    "E, claro, você pode executar várias operações ao mesmo tempo."
   ]
  },
  {
   "cell_type": "code",
   "execution_count": null,
   "id": "dd57335a-bcae-4224-abda-081e4bfff2e3",
   "metadata": {
    "scrolled": true
   },
   "outputs": [],
   "source": [
    "a**2 - a*b + b + 10"
   ]
  },
  {
   "cell_type": "markdown",
   "id": "3587cfe8-6a0e-4669-aed0-811d5c43452c",
   "metadata": {
    "jp-MarkdownHeadingCollapsed": true
   },
   "source": [
    "## Funções matemáticas"
   ]
  },
  {
   "cell_type": "markdown",
   "id": "c7099875-51a0-433c-8ed0-99454ee3185c",
   "metadata": {},
   "source": [
    "Se você quiser utilizar outras funções matemáticas além do básico `+-*/`, existem funções matemáticas no NumPy para ajudar.\n",
    "\n",
    "Digamos que você queira encontrar a raiz quadrada de um array. Podemos usar a função `sqrt()`."
   ]
  },
  {
   "cell_type": "code",
   "execution_count": null,
   "id": "aca89cc6-edc4-4e1f-8c7b-b7542f1be968",
   "metadata": {},
   "outputs": [],
   "source": [
    "a = np.array([4, 9, 25])\n",
    "\n",
    "np.sqrt(a)"
   ]
  },
  {
   "cell_type": "markdown",
   "id": "7b604ac1-7f78-4e3b-b167-69c1c5f9ccaa",
   "metadata": {},
   "source": [
    "Podemos aproveitar `log()` para logaritmos naturais e `sin()` para funções senoidais."
   ]
  },
  {
   "cell_type": "code",
   "execution_count": null,
   "id": "3493b82c-dbb7-4fd0-97af-39af49e049b6",
   "metadata": {},
   "outputs": [],
   "source": [
    "np.log(a)"
   ]
  },
  {
   "cell_type": "code",
   "execution_count": null,
   "id": "afc1524c-56e1-4545-a5a4-6eb41de6b206",
   "metadata": {},
   "outputs": [],
   "source": [
    "np.sin(a)"
   ]
  },
  {
   "cell_type": "markdown",
   "id": "cfab563b-818f-433c-8946-f0cdc0edaa10",
   "metadata": {},
   "source": [
    "Existem inúmeras funções matemáticas disponíveis no NumPy, [então não deixe de consultar a documentação](https://numpy.org/doc/stable/reference/routines.math.html) para ver o que está disponível quando você precisar delas."
   ]
  },
  {
   "cell_type": "markdown",
   "id": "fb5621c0-6271-4a89-b7a5-b94c278f1080",
   "metadata": {},
   "source": [
    "Existem também [funções lógicas úteis](https://numpy.org/doc/stable/reference/routines.logic.html). Abaixo, comparamos elementos em dois arrays e verificamos se cada elemento em `a` é maior que `b`. Como resultado, obteremos um array de valores `True`/`False`."
   ]
  },
  {
   "cell_type": "code",
   "execution_count": null,
   "id": "734f364d-2c05-41ab-b667-d24fdb435c9a",
   "metadata": {},
   "outputs": [],
   "source": [
    "a = np.array([10, 45, 24])\n",
    "b = np.array([11, 56, 21]) \n",
    "\n",
    "np.greater(a, b)"
   ]
  },
  {
   "cell_type": "markdown",
   "id": "c027d3e9-a01c-448d-a82b-147f69a6204d",
   "metadata": {},
   "source": [
    "## Funções de Agregação"
   ]
  },
  {
   "cell_type": "markdown",
   "id": "0ead2beb-907a-44ba-b2b6-889515defb8f",
   "metadata": {},
   "source": [
    "Há um punhado de funções matemáticas que realizam agregações, como `sum()`, `min()`, `max()`, `median()` e `mean()`."
   ]
  },
  {
   "cell_type": "code",
   "execution_count": null,
   "id": "6e12a498-95e8-40b6-be6a-efd693a8c657",
   "metadata": {},
   "outputs": [],
   "source": [
    "a = np.array([4, 9, 25])\n",
    "\n",
    "print(f\"SUM: {np.sum(a)}\\n\",\n",
    "      f\"MIN: {np.min(a)}\\n\",\n",
    "      f\"MAX: {np.max(a)}\\n\",\n",
    "      f\"MEDIAN: {np.median(a)}\\n\", \n",
    "      f\"MEAN: {np.mean(a)}\"\n",
    ")"
   ]
  },
  {
   "cell_type": "markdown",
   "id": "a37d6541-b9af-4ad2-9174-82d7f4c94162",
   "metadata": {},
   "source": [
    "Também podemos trabalhar com matrizes multidimensionais com funções de agregação."
   ]
  },
  {
   "cell_type": "code",
   "execution_count": null,
   "id": "19f834f8-e78c-4f55-98cb-472afce3488d",
   "metadata": {},
   "outputs": [],
   "source": [
    "A = np.array([\n",
    "    [7, 1, -3], \n",
    "    [2, -2, 31]\n",
    "])\n",
    "\n",
    "A.sum()"
   ]
  },
  {
   "cell_type": "markdown",
   "id": "784e2ddb-3cf2-4bed-b07e-049ab3b4df51",
   "metadata": {},
   "source": [
    "Claro, também podemos agregar por coluna."
   ]
  },
  {
   "cell_type": "code",
   "execution_count": null,
   "id": "973be79d-3455-4ea8-810d-a2085ed7e64b",
   "metadata": {},
   "outputs": [],
   "source": [
    "A.sum(axis=0)"
   ]
  },
  {
   "cell_type": "markdown",
   "id": "11175bbc-f86d-4c0f-aefa-6cefb8627d1e",
   "metadata": {},
   "source": [
    "Também podemos agregar por linha."
   ]
  },
  {
   "cell_type": "code",
   "execution_count": null,
   "id": "8e341d30-8844-4002-9f80-abef3a2af3c8",
   "metadata": {},
   "outputs": [],
   "source": [
    "A.sum(axis=1)"
   ]
  },
  {
   "cell_type": "markdown",
   "id": "456dc1cc-c879-4fcb-9f9c-f9bd6effa66c",
   "metadata": {},
   "source": [
    "Você também pode fazer agregações em matrizes de dimensões mais altas e até mesmo em múltiplos eixos especificados em tuplas."
   ]
  },
  {
   "cell_type": "code",
   "execution_count": null,
   "id": "08a9a0ba-3d7e-445e-84ca-6b521467d9ec",
   "metadata": {},
   "outputs": [],
   "source": [
    "matriz_threed = np.array([\n",
    "    [[0, 1, 3],\n",
    "     [6, 2, 6], \n",
    "     [1, 5, 4]], \n",
    "    \n",
    "    [[8, 3, 19],\n",
    "     [33, 34, 11], \n",
    "     [13, 14, 89]], \n",
    "    \n",
    "    [[14, 68, 17],\n",
    "     [66, 84, 92], \n",
    "     [4, 2, 58]]\n",
    "])\n",
    "\n",
    "matriz_threed.sum(axis=(0,1))"
   ]
  },
  {
   "cell_type": "markdown",
   "id": "b3b6f6ba-572d-46ec-8cd5-0de427166a29",
   "metadata": {},
   "source": [
    "Observe que especificar todos os eixos na tupla é o mesmo que especificar `sum()` sem nenhum argumento de eixo."
   ]
  },
  {
   "cell_type": "markdown",
   "id": "45db411b-2ba5-40a9-a128-67feb38d1b66",
   "metadata": {
    "jp-MarkdownHeadingCollapsed": true
   },
   "source": [
    "## Iterando Arrays"
   ]
  },
  {
   "cell_type": "markdown",
   "id": "e47c9349-5f94-4f7a-aef9-0f464e8454c7",
   "metadata": {},
   "source": [
    "Se você precisar iterar elementos em um array, basta usar um loop `for`."
   ]
  },
  {
   "cell_type": "code",
   "execution_count": null,
   "id": "ae1662ed-5691-402f-acf5-4f825aa956c3",
   "metadata": {},
   "outputs": [],
   "source": [
    "import numpy as np \n",
    "\n",
    "a = np.array([1,2,3])\n",
    "\n",
    "for x in a: \n",
    "    print(x)"
   ]
  },
  {
   "cell_type": "markdown",
   "id": "256a9dd7-75ad-4169-84b8-64daffa8d038",
   "metadata": {},
   "source": [
    "Observe que, se você tiver mais de uma dimensão, a iteração resultará na análise de cada elemento no primeiro eixo (ou seja, linha)."
   ]
  },
  {
   "cell_type": "code",
   "execution_count": null,
   "id": "30876cd4-447f-4afd-92f4-9053265e6306",
   "metadata": {},
   "outputs": [],
   "source": [
    "b = np.array([[  10,   20,   30,   40,   50],\n",
    "              [ 100,  200,  300,  400,  500], \n",
    "              [1000, 2000, 3000, 4000, 5000]\n",
    "             ])\n",
    "\n",
    "for x in b: \n",
    "    print(x)"
   ]
  },
  {
   "cell_type": "markdown",
   "id": "ab4160f4-02a9-4d0e-8552-9a5e51a81437",
   "metadata": {},
   "source": [
    "Isso significa que se você quiser iterar cada elemento individual, terá que descompactar usando loops `for` aninhados."
   ]
  },
  {
   "cell_type": "code",
   "execution_count": null,
   "id": "0ccf5d8d-95f8-4196-a96b-39412329ac97",
   "metadata": {},
   "outputs": [],
   "source": [
    "for x in b: \n",
    "    for y in x: \n",
    "        print(y)"
   ]
  },
  {
   "cell_type": "markdown",
   "id": "3d21a00a-8bdf-4cb7-8d43-dfe145be2d0f",
   "metadata": {},
   "source": [
    "Em vez de aninhar vários loops for para acessar elementos individuais, você pode usar `nditer()`."
   ]
  },
  {
   "cell_type": "code",
   "execution_count": null,
   "id": "043d56ff-f7ce-4a6d-894e-936450cd059a",
   "metadata": {},
   "outputs": [],
   "source": [
    "for x in np.nditer(b):\n",
    "    print(x) "
   ]
  },
  {
   "cell_type": "markdown",
   "id": "b560719b-9a61-446d-8123-d5ddd9a53c59",
   "metadata": {},
   "source": [
    "## Multiplicação de matrizes"
   ]
  },
  {
   "cell_type": "markdown",
   "id": "d4515ee8-0d82-4b0a-b81c-58f4f3d9b29c",
   "metadata": {},
   "source": [
    "Uma operação matemática que merece destaque é a **multiplicação de matrizes**, bem como a **multiplicação de matrizes e vetores**. Mas primeiro, vamos ver uma animação de um vetor sendo multiplicado por uma matriz.\n",
    "\n",
    "<video src=\"https://github.com/thomasnield/anaconda_linear_algebra/raw/main/media/07_MatrixVectorMultiplicationScene.mp4\" controls=\"controls\" style=\"max-width: 730px;\">\n",
    "</video>\n"
   ]
  },
  {
   "cell_type": "markdown",
   "id": "d1b36c87-4d3f-4197-8fa8-765be6b41a3c",
   "metadata": {},
   "source": [
    "Numericamente, uma multiplicação de matriz por vetor multiplica cada linha respectiva por cada coluna respectiva e soma os produtos, respectivamente. Esta é uma operação muito comum, especialmente em aprendizado de máquina e aprendizado profundo.\n",
    "\n",
    "$ A\\vec{v} $\n",
    "\n",
    "$ = \\begin{bmatrix} 1 & 2 \\\\ -1 & 1 \\end{bmatrix} \\begin{bmatrix} 0.5 \\\\ 1.5 \\end{bmatrix} $\n",
    "\n",
    "$ = \\begin{bmatrix} (1)(0.5) + (2)(1.5) \\\\ (-1)(0.5) + (1)(1.5) \\end{bmatrix} $\n",
    "\n",
    "$ = \\begin{bmatrix} 3.5 \\\\ 1 \\end{bmatrix} $\n",
    "\n",
    "Isso é executado usando o operador `@` no NumPy. Observe que isso não é comutativo e a ordem importa! Na multiplicação de matriz-vetor, a matriz é \"aplicada\" ao vetor."
   ]
  },
  {
   "cell_type": "code",
   "execution_count": null,
   "id": "c6dec03f-ec81-4939-a9d5-fd930b324d08",
   "metadata": {},
   "outputs": [],
   "source": [
    "import numpy as np \n",
    "\n",
    "A = np.array([[1,  2],\n",
    "              [-1, 1]])\n",
    "\n",
    "v = np.array([0.5, 1.5])\n",
    "\n",
    "w = A @ v \n",
    "w"
   ]
  },
  {
   "cell_type": "markdown",
   "id": "89b6b886-5cbf-4a34-ac54-db7482fdb1f0",
   "metadata": {},
   "source": [
    "Há também a multiplicação de matrizes, que realiza uma operação semelhante, mas com duas matrizes. Ela combina cada linha da primeira matriz com cada coluna da segunda matriz, multiplicando e somando os respectivos elementos.\n",
    "\n",
    "$\n",
    "\\begin{aligned}\n",
    "A &= BC \\\\\n",
    "&= \\begin{bmatrix} 0 & 1 \\\\ 1 & 0 \\end{bmatrix} \\begin{bmatrix} 2 & 1 \\\\ 0 & 1 \\end{bmatrix} \\\\ &= \\begin{bmatrix} (0 \\cdot 2) + (1 \\cdot 0) & (0 \\cdot 1) + (1 \\cdot 1) \\\\ (1 \\cdot 2) + (0 \\cdot 0) & (1 \\cdot 1) + (0 \\cdot 1) \\end{bmatrix} \\\\\n",
    "&= \\begin{bmatrix} 0 & 1 \\\\ 2 & 1 \\end{bmatrix}\n",
    "\\end{aligned}\n",
    "$"
   ]
  },
  {
   "cell_type": "markdown",
   "id": "8454726a-3522-47ca-85e0-40191535b68c",
   "metadata": {},
   "source": [
    "Ele também é executado usando o operador `@`."
   ]
  },
  {
   "cell_type": "code",
   "execution_count": null,
   "id": "f4d82fbf-f565-4635-9205-b062e10d247c",
   "metadata": {},
   "outputs": [],
   "source": [
    "import numpy as np \n",
    "\n",
    "v = np.array([1,1])\n",
    "\n",
    "B = np.array([[0,1],[1,0]])\n",
    "C = np.array([[2,1],[0,1]])\n",
    "\n",
    "combinado = C @ B \n",
    "\n",
    "combinado @ v "
   ]
  },
  {
   "cell_type": "markdown",
   "id": "877e310f-06bd-4001-816b-19bee137ff0a",
   "metadata": {
    "jp-MarkdownHeadingCollapsed": true
   },
   "source": [
    "Para aprender mais sobre essas operações, confira o [curso Anaconda sobre Álgebra Linear](https://learning.anaconda.cloud/linear-algebra). Ele também tem animações bacanas."
   ]
  },
  {
   "cell_type": "markdown",
   "id": "a6eec5b7-b8bd-483d-9a56-49becc86da78",
   "metadata": {},
   "source": [
    "## Exercício"
   ]
  },
  {
   "cell_type": "markdown",
   "id": "8ecabe9b-94c8-4450-a839-849d0fdfb64b",
   "metadata": {},
   "source": [
    "Usando a função `mean()` no NumPy, calcule o `mean()` em cada coluna para `A`"
   ]
  },
  {
   "cell_type": "code",
   "execution_count": null,
   "id": "06d394c7-b969-458e-be34-72e348938c73",
   "metadata": {},
   "outputs": [],
   "source": [
    "import numpy as np \n",
    "\n",
    "A = np.array([[  10,   20,   30,   40,   50],\n",
    "              [ 100,  200,  300,  400,  500], \n",
    "              [1000, 2000, 3000, 4000, 5000]\n",
    "             ])\n",
    "\n",
    "## calcule a média por coluna\n",
    "## COLE SEU CÓDIGO AQUI\n",
    "\n"
   ]
  },
  {
   "cell_type": "markdown",
   "id": "8f9658ed-7c29-447f-bd97-990ea3c6ed8e",
   "metadata": {},
   "source": [
    "### RESPOSTA A BAIXO\n",
    "\n",
    "|<br>\n",
    "|<br>\n",
    "|<br>\n",
    "|<br>\n",
    "|<br>\n",
    "|<br>\n",
    "|<br>\n",
    "|<br>\n",
    "|<br>\n",
    "|<br>\n",
    "|<br>\n",
    "|<br>\n",
    "|<br>\n",
    "|<br>\n",
    "|<br>\n",
    "|<br>\n",
    "|<br>\n",
    "|<br>\n",
    "|<br>\n",
    "|<br>\n",
    "|<br>\n",
    "|<br>\n",
    "|<br>\n",
    "v "
   ]
  },
  {
   "cell_type": "code",
   "execution_count": null,
   "id": "a00f775e-d877-4a2c-aaaf-b57b369b3e25",
   "metadata": {},
   "outputs": [],
   "source": [
    "import numpy as np \n",
    "\n",
    "A = np.array([[  10,   20,   30,   40,   50],\n",
    "              [ 100,  200,  300,  400,  500], \n",
    "              [1000, 2000, 3000, 4000, 5000]\n",
    "             ])\n",
    "\n",
    "## calcular a média por coluna\n",
    "A.mean(axis=0)"
   ]
  }
 ],
 "metadata": {
  "kernelspec": {
   "display_name": "anaconda-2024.02-py310",
   "language": "python",
   "name": "conda-env-anaconda-2024.02-py310-py"
  },
  "language_info": {
   "codemirror_mode": {
    "name": "ipython",
    "version": 3
   },
   "file_extension": ".py",
   "mimetype": "text/x-python",
   "name": "python",
   "nbconvert_exporter": "python",
   "pygments_lexer": "ipython3",
   "version": "3.10.14"
  },
  "vscode": {
   "interpreter": {
    "hash": "b0fa6594d8f4cbf19f97940f81e996739fb7646882a419484c72d19e05852a7e"
   }
  }
 },
 "nbformat": 4,
 "nbformat_minor": 5
}
