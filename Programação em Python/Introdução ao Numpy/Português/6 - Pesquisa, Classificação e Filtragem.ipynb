{
 "cells": [
  {
   "cell_type": "markdown",
   "id": "b7e2136c-3a37-43e8-a3ef-91bee1db7262",
   "metadata": {},
   "source": [
    "# Pesquisa, Classificação e Filtragem"
   ]
  },
  {
   "cell_type": "markdown",
   "id": "5fbceae6-0976-4d37-ad7d-44108313c574",
   "metadata": {},
   "source": [
    "Nesta seção, abordaremos como pesquisar, classificar e filtrar matrizes. Você pode descobrir que essas tarefas são mais comuns no Pandas, mas haverá casos de uso em que você desejará filtrar registros usando matrizes."
   ]
  },
  {
   "cell_type": "markdown",
   "id": "e0d15523-1c23-4246-a7a6-04ae76b129e7",
   "metadata": {},
   "source": [
    "## Pesquisa e Filtragem"
   ]
  },
  {
   "cell_type": "markdown",
   "id": "75db68bd-7fd0-40d5-9624-db9fde33c23c",
   "metadata": {},
   "source": [
    "Quando você começa a executar operadores condicionais em uma matriz (como `>`, `<`, `>=`, `<=`, `==`), você obterá uma matriz de valores booleanos (`True` e `False`)."
   ]
  },
  {
   "cell_type": "code",
   "execution_count": null,
   "id": "60791fa9-39fe-4c95-8ac9-bf6c5c606ca3",
   "metadata": {},
   "outputs": [],
   "source": [
    "import numpy as np\n",
    "\n",
    "x = np.array([21, 500, 232, 72, 682])\n",
    "\n",
    "x < 100"
   ]
  },
  {
   "cell_type": "markdown",
   "id": "9e1cb583-6332-4d80-95e6-2e532307343b",
   "metadata": {},
   "source": [
    "Ao pesquisar em um array, você normalmente retornará os índices dos elementos que atendem aos seus critérios. Por exemplo, podemos usar a função `where()` para encontrar elementos em um array `x` menores que 100. Isso retornará um array de índices para os elementos que atendem a essa condição."
   ]
  },
  {
   "cell_type": "code",
   "execution_count": null,
   "id": "bd949882-33ec-4d79-bf56-d8624d1cd491",
   "metadata": {},
   "outputs": [],
   "source": [
    "import numpy as np\n",
    "\n",
    "x = np.array([21, 500, 232, 72, 682])\n",
    "\n",
    "i = np.where(x < 100)\n",
    "\n",
    "print(i)"
   ]
  },
  {
   "cell_type": "markdown",
   "id": "7437bd2b-7af8-430b-9092-5f56eafab21b",
   "metadata": {},
   "source": [
    "Se eu quisesse recuperar esses valores e não seus índices, bastaria passar o array de índices `i` de volta para `x` como `x[i]`."
   ]
  },
  {
   "cell_type": "code",
   "execution_count": null,
   "id": "02b09c67-61c3-4d77-9abe-96a137e7b5af",
   "metadata": {},
   "outputs": [],
   "source": [
    "import numpy as np\n",
    "\n",
    "x = np.array([21, 500, 232, 72, 682])\n",
    "\n",
    "i = np.where(x < 100)\n",
    "\n",
    "print(x[i])"
   ]
  },
  {
   "cell_type": "markdown",
   "id": "e134e2d5-8e60-4de0-bb12-58de666b209b",
   "metadata": {},
   "source": [
    "Também podemos usar o operador equals `==` para encontrar índices para um valor exato."
   ]
  },
  {
   "cell_type": "code",
   "execution_count": null,
   "id": "25a275ca-2730-47d3-adef-16a9c05febd6",
   "metadata": {},
   "outputs": [],
   "source": [
    "import numpy as np\n",
    "\n",
    "x = np.array([21, 500, 232, 72, 682])\n",
    "\n",
    "np.where(x == 500)"
   ]
  },
  {
   "cell_type": "markdown",
   "id": "8fe88fb2-b117-4532-b37f-5b2f6f4971c6",
   "metadata": {},
   "source": [
    "Também podemos usar `&` para combinar múltiplas condições, operando efetivamente como um \"E\". Apenas certifique-se de colocar cada condição entre parênteses. Abaixo, procuramos exclusivamente todos os índices onde x está entre 20 e 100."
   ]
  },
  {
   "cell_type": "code",
   "execution_count": null,
   "id": "c9536e2b-dfb1-4655-a6f4-e4992dab9f38",
   "metadata": {},
   "outputs": [],
   "source": [
    "import numpy as np\n",
    "\n",
    "x = np.array([21, 500, 232, 72, 682])\n",
    "\n",
    "i = np.where((20 < x) & (x < 100))\n",
    "\n",
    "print(i)"
   ]
  },
  {
   "cell_type": "code",
   "execution_count": null,
   "id": "6aef792d-7616-4010-8b59-d82ac3894443",
   "metadata": {},
   "outputs": [],
   "source": [
    "import numpy as np\n",
    "\n",
    "x = np.array([21, 500, 232, 72, 682])\n",
    "\n",
    "i = np.where((20 < x) & (x < 100))\n",
    "\n",
    "print(i)\n",
    "print(x[i])"
   ]
  },
  {
   "cell_type": "markdown",
   "id": "e0384e2b-3765-46f6-bc05-57e9bf360068",
   "metadata": {},
   "source": [
    "Use a barra vertical `|` para executar uma operação \"OU\". Abaixo, encontramos valores menores que 20 ou maiores que 100."
   ]
  },
  {
   "cell_type": "code",
   "execution_count": null,
   "id": "ec747d16-455a-41ca-a8eb-b324ca9ebe76",
   "metadata": {},
   "outputs": [],
   "source": [
    "import numpy as np\n",
    "\n",
    "x = np.array([21, 500, 232, 72, 682])\n",
    "\n",
    "i = np.where((x < 20) | (100 < x))\n",
    "\n",
    "print(i)\n",
    "print(x[i])"
   ]
  },
  {
   "cell_type": "markdown",
   "id": "f210941f-9f82-49fb-bb3b-b8d302bacfcd",
   "metadata": {},
   "source": [
    "Também podemos fornecer os argumentos `x` e `y` para a função `where()`. Isso fará o seguinte: se a condição for `True` para um elemento, retornará o elemento de `x`. Caso contrário, retornará o elemento de `y`.\n",
    "\n",
    "Abaixo, mantemos todos os elementos de `x` maiores que `100`. Caso contrário, eles serão convertidos para `0`."
   ]
  },
  {
   "cell_type": "code",
   "execution_count": null,
   "id": "2d53f38a-afe7-40d4-8ec6-e095a7fddcdc",
   "metadata": {
    "scrolled": true
   },
   "outputs": [],
   "source": [
    "import numpy as np\n",
    "\n",
    "x = np.array([21, 500, 232, 72, 682])\n",
    "y = np.zeros(5)\n",
    "\n",
    "np.where(x > 100, x, y)"
   ]
  },
  {
   "cell_type": "markdown",
   "id": "7bc7e292-df45-41c1-8330-81e51530ea12",
   "metadata": {},
   "source": [
    "Claro, essas ideias se estendem a matrizes multidimensionais. Abaixo, encontramos os índices para elementos maiores que 2 em uma matriz 2x2. Podemos então recuperar esses elementos para esses índices."
   ]
  },
  {
   "cell_type": "code",
   "execution_count": null,
   "id": "c110258d-9eb4-4f61-a102-43ed00839ce0",
   "metadata": {},
   "outputs": [],
   "source": [
    "X = np.array([[1,2],[3,4]])\n",
    "\n",
    "i = np.where(X > 2)"
   ]
  },
  {
   "cell_type": "code",
   "execution_count": null,
   "id": "ff6cb166-d70f-485c-8b85-0601fde9b5d2",
   "metadata": {},
   "outputs": [],
   "source": [
    "X[i]"
   ]
  },
  {
   "cell_type": "markdown",
   "id": "ab62d85a-0f1b-43f8-85cf-34cc1821111a",
   "metadata": {},
   "source": [
    "## Classificação"
   ]
  },
  {
   "cell_type": "markdown",
   "id": "82a1567b-852a-4e50-b75a-6774b26eecf2",
   "metadata": {},
   "source": [
    "Você pode classificar os elementos em um array usando a função `sort()`. Por padrão, ela classifica os elementos em ordem crescente."
   ]
  },
  {
   "cell_type": "code",
   "execution_count": null,
   "id": "f1939630-ddb0-451d-9139-e97d6d1a3374",
   "metadata": {},
   "outputs": [],
   "source": [
    "x = np.array([6, 2, 8, -1, 0, 12])\n",
    "np.sort(x) "
   ]
  },
  {
   "cell_type": "markdown",
   "id": "5a0e8603-8ee7-4117-afd8-d022a51f10c8",
   "metadata": {},
   "source": [
    "Que tal ordenar os elementos em ordem decrescente? Isso requer um pouco de habilidade. Primeiro, transformaremos todos os elementos `x` em negativos, faremos a ordenação e, em seguida, aplicaremos outra negativa para desfazer a primeira negativa."
   ]
  },
  {
   "cell_type": "code",
   "execution_count": null,
   "id": "b601dccd-db40-445a-8180-afeefc249254",
   "metadata": {},
   "outputs": [],
   "source": [
    "-np.sort(-x)"
   ]
  },
  {
   "cell_type": "markdown",
   "id": "107942b4-a7f8-442c-a339-4d3f8009f035",
   "metadata": {},
   "source": [
    "Também podemos aplicar a ordenação em matrizes multidimensionais. Por padrão, ela ordena os elementos em cada linha para uma matriz 2x3."
   ]
  },
  {
   "cell_type": "code",
   "execution_count": null,
   "id": "0ad0ad10-128c-4aac-9225-a84a2263dfd7",
   "metadata": {},
   "outputs": [],
   "source": [
    "x = np.array([[5, 1, 81], [45, 2, -1]])\n",
    "x"
   ]
  },
  {
   "cell_type": "code",
   "execution_count": null,
   "id": "e03c60af-d86c-4b55-90cb-f01cff4bb17d",
   "metadata": {
    "scrolled": true
   },
   "outputs": [],
   "source": [
    "np.sort(x)"
   ]
  },
  {
   "cell_type": "markdown",
   "id": "62721987-7810-4070-b01a-7e13292efacc",
   "metadata": {},
   "source": [
    "Também podemos classificar cada coluna em vez de linha definindo `axis=0`."
   ]
  },
  {
   "cell_type": "code",
   "execution_count": null,
   "id": "818de0ae-4116-4533-a4b0-b3c7708e6a6e",
   "metadata": {},
   "outputs": [],
   "source": [
    "np.sort(x, axis=0)"
   ]
  },
  {
   "cell_type": "markdown",
   "id": "ab51cab6-e1bd-47e1-94d7-38b7f4eb07de",
   "metadata": {},
   "source": [
    "## Pesquisa ordenada"
   ]
  },
  {
   "cell_type": "markdown",
   "id": "9d68367b-c57f-41da-a82e-c210fd228637",
   "metadata": {},
   "source": [
    "Se você tiver um array já classificado, você pode fazer uma busca especializada usando `searchsorted()`, que faz uma busca binária do array."
   ]
  },
  {
   "cell_type": "code",
   "execution_count": null,
   "id": "54781ca3-95f6-4066-9275-847a9147a84e",
   "metadata": {},
   "outputs": [],
   "source": [
    "x = np.array([-1,  0,  2,  6,  6,  8, 12])"
   ]
  },
  {
   "cell_type": "markdown",
   "id": "14f0947c-7d81-457d-b5bd-7ea589132afe",
   "metadata": {},
   "source": [
    "Digamos que eu queira encontrar a primeira instância de `6`. `searchsorted()` procurará da esquerda para a direita e parará no momento em que encontrar um `6`, depois retornará o índice."
   ]
  },
  {
   "cell_type": "code",
   "execution_count": null,
   "id": "e9fb72b7-8d71-487d-927e-c553c3cdcf82",
   "metadata": {},
   "outputs": [],
   "source": [
    "np.searchsorted(x, 6)"
   ]
  },
  {
   "cell_type": "markdown",
   "id": "3419ff7a-0ef1-40ac-818e-3ebcf8030fd8",
   "metadata": {},
   "source": [
    "Observe atentamente que a função `searchsorted()` se destina ao uso em arrays ordenados, pois se moverá da esquerda para a direita e encontrará a primeira instância daquele valor.\n",
    "\n",
    "Também podemos iniciar a busca pela direita e obter o índice mais à direita. Observe que este não é um índice de `4`, pois esta função é frequentemente usada para inserção, o que mostraremos em breve."
   ]
  },
  {
   "cell_type": "code",
   "execution_count": null,
   "id": "3852c6e8-b063-40e5-8a17-0a9420c35092",
   "metadata": {},
   "outputs": [],
   "source": [
    "np.searchsorted(x, 6, side='right')"
   ]
  },
  {
   "cell_type": "markdown",
   "id": "7c973862-8e87-4123-b25f-489999a2bbda",
   "metadata": {},
   "source": [
    "Frequentemente usamos `sortedsearch()` para encontrar o índice e inserir um valor com base em uma classificação existente. Então, se eu quisesse inserir `4` antes do `6`, eu poderia fazer isso."
   ]
  },
  {
   "cell_type": "code",
   "execution_count": null,
   "id": "765c51e8-4dde-4012-a35a-34e702f81ddf",
   "metadata": {},
   "outputs": [],
   "source": [
    "np.insert(x, 3, 4)"
   ]
  },
  {
   "cell_type": "markdown",
   "id": "be4cc8be-86d1-4469-907f-8145523e09ba",
   "metadata": {},
   "source": [
    "Se quiséssemos inserir um valor à direita, usaríamos o índice `5` para inserir um `7`."
   ]
  },
  {
   "cell_type": "code",
   "execution_count": null,
   "id": "713b27e6-6c83-49a7-ae2a-9dab54a9f38c",
   "metadata": {},
   "outputs": [],
   "source": [
    "np.insert(x,5,7)"
   ]
  },
  {
   "cell_type": "markdown",
   "id": "0fbd1bb0-3bcc-4f20-8eae-de4902b7f50f",
   "metadata": {},
   "source": [
    "## Exercício"
   ]
  },
  {
   "cell_type": "markdown",
   "id": "a550adaf-0bd2-4a56-8ff3-8f32c9a08833",
   "metadata": {},
   "source": [
    "Para os números inteiros de 0 a 99, pegue os elementos que estão inclusivamente entre 20 e 30, ou maiores que 70."
   ]
  },
  {
   "cell_type": "code",
   "execution_count": null,
   "id": "4f344b44-783a-447c-b8e1-4ee30374a836",
   "metadata": {},
   "outputs": [],
   "source": [
    "import numpy as np \n",
    "\n",
    "x = np.arange(0,100)\n",
    "\n",
    "## coloque seu código aqui \n",
    "\n"
   ]
  },
  {
   "cell_type": "markdown",
   "id": "61ef1487-356f-4309-b627-1a5c6cf5bcfa",
   "metadata": {},
   "source": [
    "### RESPOSTA A BAIXO\n",
    "\n",
    "|<br>\n",
    "|<br>\n",
    "|<br>\n",
    "|<br>\n",
    "|<br>\n",
    "|<br>\n",
    "|<br>\n",
    "|<br>\n",
    "|<br>\n",
    "|<br>\n",
    "|<br>\n",
    "|<br>\n",
    "|<br>\n",
    "|<br>\n",
    "|<br>\n",
    "|<br>\n",
    "|<br>\n",
    "|<br>\n",
    "|<br>\n",
    "|<br>\n",
    "|<br>\n",
    "|<br>\n",
    "|<br>\n",
    "v "
   ]
  },
  {
   "cell_type": "code",
   "execution_count": null,
   "id": "f3b899d7-3149-4d50-b250-33979ab72e69",
   "metadata": {},
   "outputs": [],
   "source": [
    "import numpy as np \n",
    "\n",
    "x = np.arange(0,100)\n",
    "\n",
    "## coloque seu código aqui \n",
    "\n",
    "i = np.where(((x >= 20) & (x <= 30)) | (x > 70))\n",
    "x[i]"
   ]
  }
 ],
 "metadata": {
  "kernelspec": {
   "display_name": "anaconda-2024.02-py310",
   "language": "python",
   "name": "conda-env-anaconda-2024.02-py310-py"
  },
  "language_info": {
   "codemirror_mode": {
    "name": "ipython",
    "version": 3
   },
   "file_extension": ".py",
   "mimetype": "text/x-python",
   "name": "python",
   "nbconvert_exporter": "python",
   "pygments_lexer": "ipython3",
   "version": "3.11.4 (main, Jun 20 2023, 17:37:48) [Clang 14.0.0 (clang-1400.0.29.202)]"
  },
  "vscode": {
   "interpreter": {
    "hash": "b0fa6594d8f4cbf19f97940f81e996739fb7646882a419484c72d19e05852a7e"
   }
  }
 },
 "nbformat": 4,
 "nbformat_minor": 5
}
