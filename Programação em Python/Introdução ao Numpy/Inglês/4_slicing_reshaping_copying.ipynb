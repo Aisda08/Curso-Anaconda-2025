{
 "cells": [
  {
   "cell_type": "code",
   "execution_count": null,
   "id": "41f2f7d3-ef12-44cb-948f-400ada4f1d1b",
   "metadata": {},
   "outputs": [],
   "source": []
  }
 ],
 "metadata": {
  "kernelspec": {
   "display_name": "",
   "name": ""
  },
  "language_info": {
   "name": ""
  }
 },
 "nbformat": 4,
 "nbformat_minor": 5
}
