{
 "cells": [
  {
   "cell_type": "markdown",
   "id": "0d9ef599",
   "metadata": {},
   "source": [
    "<h1>Como Ler um Gráfico</h1>\n",
    "\n",
    "<p class=\"lead\"> \n",
    "Índice:\n",
    "\n",
    "- <a href=\"#Get-started-with-a-simple-plot\">Comece com um Gráfico Simples</a>\n",
    "- <a href=\"#Anatomy-of-a-figure\">Anatomia de uma Figura</a>    \n",
    "- <a href=\"#Basic-Matplotlib-syntax\">Sintaxe Básica do Matplotlib</a>\n",
    "\n",
    "</p>\n"
   ]
  },
  {
   "cell_type": "markdown",
   "id": "8ba81f16",
   "metadata": {},
   "source": [
    "<div>\n",
    "<h2 class=\"Get-started-with-a-simple-plot\">Comece com um Gráfico Simples</h2><p>\n",
    "</div>"
   ]
  },
  {
   "cell_type": "code",
   "execution_count": null,
   "id": "9036a2bb",
   "metadata": {},
   "outputs": [],
   "source": [
    "import matplotlib.pyplot as plt"
   ]
  },
  {
   "cell_type": "code",
   "execution_count": null,
   "id": "cea0536b",
   "metadata": {},
   "outputs": [],
   "source": [
    "fig, ax = plt.subplots(figsize=(14,5))  # Cria uma figura contendo um único eixo.\n",
    "ax.plot([1, 2, 3, 4], [1, 4, 2, 3]);  # Traça alguns dados nos eixos."
   ]
  },
  {
   "cell_type": "markdown",
   "id": "321b494f",
   "metadata": {},
   "source": [
    "<div>\n",
    "<h2 class=\"breadcrumb\">Anatomia de uma Figura</h2>\n",
    "</div>"
   ]
  },
  {
   "attachments": {},
   "cell_type": "markdown",
   "id": "46546495",
   "metadata": {},
   "source": [
    "<img id=\"Image1\" src=\"https://static.anaconda.cloud/shared/lms/data_visualization/intro_data_visualization/assets/anatomy.jpeg\" align=\"left\"/>"
   ]
  },
  {
   "cell_type": "markdown",
   "id": "3315f695",
   "metadata": {},
   "source": [
    "<div class=\"alert alert-info\">\n",
    "<h4>Discussão</h4>\n",
    "\n",
    "Quais são as diferenças entre Figura, Eixos e Eixo?\n",
    "</div>"
   ]
  },
  {
   "cell_type": "markdown",
   "id": "47ee61fc",
   "metadata": {},
   "source": [
    "<div class=\"alert alert-info\">\n",
    "<h4>Questionário</h4>\n",
    "\n",
    "Quantos objetos Axis um Axes pode incluir?\n",
    "<details><summary><i><u>(Solução)</u><i></summary><br>\n",
    "\n",
    "2 para gráficos bidimensionais e 3 para gráficos tridimensionais.\n",
    "\n",
    "</details>\n",
    "</div>"
   ]
  },
  {
   "cell_type": "markdown",
   "id": "7eddbf8f",
   "metadata": {},
   "source": [
    "<div>\n",
    "<h2 class=\"breadcrumb\">Sintaxe Básica do Matplotlib</h2>\n",
    "</div>\n",
    "\n",
    "O Matplotlib possui dois estilos de codificação:\n",
    "\n",
    "- O \"estilo orientado a objetos (OO)\", em que criamos explicitamente Figuras e Eixos e chamamos métodos neles.\n",
    "- O estilo pyplot, semelhante ao MATLAB, em que respondemos ao pyplot para criar e gerenciar automaticamente as Figuras e Eixos.\n",
    "\n",
    "Vamos nos concentrar no estilo orientado a objetos."
   ]
  },
  {
   "cell_type": "markdown",
   "id": "27f41668",
   "metadata": {},
   "source": [
    "`plt.figure()` retorna um valor vazio."
   ]
  },
  {
   "cell_type": "code",
   "execution_count": null,
   "id": "d97b6844",
   "metadata": {},
   "outputs": [],
   "source": [
    "fig = plt.figure(figsize=(14,5));"
   ]
  },
  {
   "cell_type": "markdown",
   "id": "4a8cc574",
   "metadata": {},
   "source": [
    "A maneira mais simples de criar uma Figura com Eixos é usando `plt.subplots`."
   ]
  },
  {
   "cell_type": "code",
   "execution_count": null,
   "id": "9fe350f8",
   "metadata": {},
   "outputs": [],
   "source": [
    "fig, ax = plt.subplots(figsize=(14,5))  # Create a figure containing a single axes."
   ]
  },
  {
   "cell_type": "markdown",
   "id": "c494945b",
   "metadata": {},
   "source": [
    "### Adicionar Dados no Gráfico:"
   ]
  },
  {
   "cell_type": "markdown",
   "id": "43cb2ddd",
   "metadata": {},
   "source": [
    "<div class=\"alert alert-success\">\n",
    "<h4>Dicas</h4>\n",
    "\n",
    "Para entender como ax.plot funciona, tente `ax.plot?`"
   ]
  },
  {
   "cell_type": "code",
   "execution_count": null,
   "id": "9c140404",
   "metadata": {},
   "outputs": [],
   "source": [
    "ax.plot?"
   ]
  },
  {
   "cell_type": "markdown",
   "id": "d58f81dc",
   "metadata": {},
   "source": [
    "- Use x como índice de matriz 0...N-1"
   ]
  },
  {
   "cell_type": "code",
   "execution_count": null,
   "id": "a557b4de",
   "metadata": {},
   "outputs": [],
   "source": [
    "fig, ax = plt.subplots(figsize=(14,5))  # Cria uma figura contendo um único eixo.\n",
    "ax.plot([1, 4, 2, 3]);  # Plota alguns dados nos eixos."
   ]
  },
  {
   "cell_type": "markdown",
   "id": "96487e08",
   "metadata": {},
   "source": [
    "- gráfico x=[1,2,3,4] y=[1,4,2,3]"
   ]
  },
  {
   "cell_type": "code",
   "execution_count": null,
   "id": "29d83cc8",
   "metadata": {},
   "outputs": [],
   "source": [
    "fig, ax = plt.subplots(figsize=(14,5))  # Cria uma figura contendo um único eixo.\n",
    "ax.plot([1, 2, 3, 4], [1, 4, 2, 3]);  # Plota alguns dados nos eixos."
   ]
  },
  {
   "cell_type": "markdown",
   "id": "f20203f6",
   "metadata": {},
   "source": [
    "<div class=\"alert alert-success\">\n",
    "<h4>Dicas</h4>\n",
    "\n",
    "Para ver uma lista de métodos, tente `ax.<TAB>`."
   ]
  },
  {
   "cell_type": "code",
   "execution_count": null,
   "id": "01f37d24",
   "metadata": {},
   "outputs": [],
   "source": [
    "fig, ax = plt.subplots(figsize=(14,5))  # Cria uma figura contendo um único eixo.\n",
    "ax.scatter([1, 2, 3, 4], [1, 4, 2, 3]);  # Plota alguns dados nos eixos."
   ]
  },
  {
   "cell_type": "code",
   "execution_count": null,
   "id": "553bb733",
   "metadata": {},
   "outputs": [],
   "source": [
    "fig, ax = plt.subplots(figsize=(14,5))  # Cria uma figura contendo um único eixo.\n",
    "ax.bar([1, 2, 3, 4], [1, 4, 2, 3]);  # Plota alguns dados nos eixos."
   ]
  },
  {
   "cell_type": "markdown",
   "id": "cb1ae909",
   "metadata": {},
   "source": [
    "### Adicionando um Rótulo X:"
   ]
  },
  {
   "cell_type": "code",
   "execution_count": null,
   "id": "6507f9bc",
   "metadata": {},
   "outputs": [],
   "source": [
    "fig, ax = plt.subplots(figsize=(14,5))  # Cria uma figura contendo um único eixo.\n",
    "ax.plot([1, 2, 3, 4], [1, 4, 2, 3]);  # Plota alguns dados nos eixos.\n",
    "ax.set_xlabel('x'); # Adiciona um rótulo x aos eixos.\n"
   ]
  },
  {
   "cell_type": "markdown",
   "id": "ab1fc5ae",
   "metadata": {},
   "source": [
    "### Adicionando um Rótulo Y:"
   ]
  },
  {
   "cell_type": "code",
   "execution_count": null,
   "id": "ba92f9a0",
   "metadata": {},
   "outputs": [],
   "source": [
    "fig, ax = plt.subplots(figsize=(14,5))  # Cria uma figura contendo um único eixo.\n",
    "ax.plot([1, 2, 3, 4], [1, 4, 2, 3]);  # Plota alguns dados nos eixos.\n",
    "ax.set_xlabel('x'); # Adiciona um rótulo x aos eixos.\n",
    "ax.set_ylabel('y'); # Adiciona um rótulo y aos eixos."
   ]
  },
  {
   "cell_type": "markdown",
   "id": "386a901e",
   "metadata": {},
   "source": [
    "### Adicionando um Título:"
   ]
  },
  {
   "cell_type": "code",
   "execution_count": null,
   "id": "d0a15528",
   "metadata": {},
   "outputs": [],
   "source": [
    "fig, ax = plt.subplots(figsize=(14,5))  # Cria uma figura contendo um único eixo.\n",
    "ax.plot([1, 2, 3, 4], [1, 4, 2, 3]);  # Plota alguns dados nos eixos.\n",
    "ax.set_xlabel('x'); # Adiciona um rótulo x aos eixos.\n",
    "ax.set_ylabel('y'); # Adiciona um rótulo y aos eixos.\n",
    "ax.set_title('Simple Plot'); # Adiciona um título aos eixos."
   ]
  },
  {
   "cell_type": "markdown",
   "id": "aae40cd3",
   "metadata": {},
   "source": [
    "### Adicionanando Estilo:"
   ]
  },
  {
   "cell_type": "code",
   "execution_count": null,
   "id": "ceccd929",
   "metadata": {},
   "outputs": [],
   "source": [
    "fig, ax = plt.subplots(figsize=(14,5))  # Cria uma figura contendo um único eixo.\n",
    "ax.plot([1, 2, 3, 4], [1, 4, 2, 3], color='pink', marker='+', linestyle='dashed', markersize=12, linewidth=3);  # Plota alguns dados nos eixos.\n",
    "ax.set_xlabel('x'); # Adiciona um rótulo x aos eixos.\n",
    "ax.set_ylabel('y'); # Adiciona um rótulo y aos eixos.\n",
    "ax.set_title('Simple Plot'); # Adiciona um título aos eixos."
   ]
  },
  {
   "cell_type": "markdown",
   "id": "e735b2e4",
   "metadata": {},
   "source": [
    "<div class=\"alert alert-success\">\n",
    "<h4>Dicas</h4>\n",
    "\n",
    "`%matplotlib inline` não é mais necessário para exibir gráficos no Jupyter Notebook."
   ]
  },
  {
   "cell_type": "markdown",
   "id": "04ba544a",
   "metadata": {},
   "source": [
    "<div class=\"alert alert-success\">\n",
    "<h4>Dicas</h4>\n",
    "\n",
    "Se não terminarmos a instrução `ax.` com um ponto e vírgula, veremos a representação do objeto do gráfico."
   ]
  },
  {
   "cell_type": "markdown",
   "id": "d93b0cca",
   "metadata": {},
   "source": [
    "<div class=\"alert alert-info\">\n",
    "<h4>Exercício</h4>\n",
    "\n",
    "Adicione outra linha ao gráfico acima e estilize-o.\n",
    "\n",
    "<details><summary><i><u>(Dica)</u><i></summary><br>\n",
    "\n",
    "- Adicione outra linha `ax.plot()`\n",
    "- Altere os dados\n",
    "\n",
    "<details><summary><i><u>(Solução)</u><i></summary><br>\n",
    "\n",
    "```python\n",
    "fig, ax = plt.subplots() # Crie uma figura contendo um único eixo.\n",
    "ax.plot([1, 2, 3, 4], [1, 4, 2, 3], color='pink', marker='+', linestyle='dashed', markersize=12, linewidth=3); ax.plot([1, 2, 3, 4], [3, 4, 6, 1], color='red', marker='o', linestyle='dashed', markersize=12, linewidth=3);\n",
    "ax.set_xlabel('x'); # Adicione um rótulo x aos eixos.\n",
    "ax.set_ylabel('y'); # Adicione um rótulo y aos eixos.\n",
    "ax.set_title('Simple Plot'); # Adicione um título aos eixos.\n",
    "```\n",
    "\n",
    "</details>\n",
    "\n",
    "</details>\n",
    "</div>"
   ]
  },
  {
   "cell_type": "markdown",
   "id": "bf9dd5f9",
   "metadata": {},
   "source": [
    "<div class=\"alert alert-info\">\n",
    "<h4>Exercício</h4>\n",
    "\n",
    "Adicione rótulos e legendas representando duas linhas no seu gráfico.\n",
    "\n",
    "<details><summary><i><u>(Dica)</u><i></summary><br>\n",
    "\n",
    "- Use label='xxx' em ax.plot()\n",
    "- Adicione ax.legend()\n",
    "\n",
    "<details><summary><i><u>(Solução)</u><i></summary><br>\n",
    "\n",
    "```python\n",
    "fig, ax = plt.subplots() # Crie uma figura contendo um único eixo.\n",
    "ax.plot([1, 2, 3, 4], [1, 4, 2, 3], label='data 1', color='pink', marker='+', linestyle='dashed', markersize=12, linewidth=3);\n",
    "ax.plot([1, 2, 3, 4], [3, 4, 6, 1], label='data 2', color='red', marker='o', linestyle='dashed', markersize=12, linewidth=3);\n",
    "ax.set_xlabel('x'); # Adicione um rótulo x aos eixos.\n",
    "ax.set_ylabel('y'); # Adicione um rótulo y aos eixos.\n",
    "ax.set_title('Simple Plot'); # Adicione um título aos eixos.\n",
    "ax.legend(); # Adicione uma legenda\n",
    "```\n",
    "\n",
    "</details>\n",
    "\n",
    "</details>\n",
    "\n",
    "</div>"
   ]
  }
 ],
 "metadata": {
  "kernelspec": {
   "display_name": "anaconda-2024.02-py310",
   "language": "python",
   "name": "conda-env-anaconda-2024.02-py310-py"
  },
  "language_info": {
   "codemirror_mode": {
    "name": "ipython",
    "version": 3
   },
   "file_extension": ".py",
   "mimetype": "text/x-python",
   "name": "python",
   "nbconvert_exporter": "python",
   "pygments_lexer": "ipython3",
   "version": "3.10.14"
  }
 },
 "nbformat": 4,
 "nbformat_minor": 5
}
