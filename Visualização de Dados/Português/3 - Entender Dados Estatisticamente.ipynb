{
 "cells": [
  {
   "cell_type": "markdown",
   "id": "5f15d0b9",
   "metadata": {},
   "source": [
    "<h1>Como entender dados estatisticamente por meio de gráficos</h1>\n",
    "<br>\n",
    "Seaborn é outra biblioteca construída sobre a matplotlib que se integra perfeitamente aos dataframes do Pandas. É especialmente conhecida por sua estética e recursos estatísticos incorporados aos gráficos.\n",
    "\n",
    "<p class=\"lead\">\n",
    "Índice:\n",
    "\n",
    "- <a href=\"#Why-do-we-use-seaborn?\">Por que usamos o Seaborn?</a>\n",
    "- <a href=\"#Seaborn-plotting-syntax\">Sintaxe de gráficos do Seaborn</a>\n",
    "- <a href=\"#Create-statistical-plots\">Criar gráficos estatísticos</a>\n",
    "- <a href=\"#Visualizing-multiple-relationships\">Visualizar múltiplos relacionamentos</a>\n",
    "\n",
    "</p>"
   ]
  },
  {
   "cell_type": "markdown",
   "id": "449a5171",
   "metadata": {},
   "source": [
    "<div>\n",
    "<h2 class=\"breadcrumb\">Por que usamos o Seaborn?</h2><p>\n",
    "</div>\n",
    "\n",
    "> O Seaborn é uma biblioteca de visualização de dados em Python baseada em matplotlib. Ela fornece uma interface de alto nível para a criação de gráficos estatísticos atraentes e informativos. (seaborn.pydata.org)\n",
    "\n",
    "- A sintaxe é simples e fácil de usar.\n",
    "- O Seaborn fornece gráficos prontos para uso com boa aparência. Confira a [galeria de exemplos](https://seaborn.pydata.org/examples/index.html) para se inspirar.\n",
    "- É natural incluir informações estatísticas em seus gráficos usando o Seaborn."
   ]
  },
  {
   "cell_type": "markdown",
   "id": "47dec51d",
   "metadata": {},
   "source": [
    "<div>\n",
    "<h2 class=\"breadcrumb\">Sintaxe de Plotagem Seaborn</h2><p>\n",
    "</div>"
   ]
  },
  {
   "cell_type": "markdown",
   "id": "8710ac9a",
   "metadata": {},
   "source": [
    "Importar bibliotecas e dados:"
   ]
  },
  {
   "cell_type": "code",
   "execution_count": null,
   "id": "7065cfe2",
   "metadata": {},
   "outputs": [],
   "source": [
    "import seaborn as sns\n",
    "import pandas as pd"
   ]
  },
  {
   "cell_type": "code",
   "execution_count": null,
   "id": "ba7c0e31",
   "metadata": {},
   "outputs": [],
   "source": [
    "df = pd.read_csv(\"https://static.anaconda.cloud/shared/lms/data_visualization/intro_data_visualization/assets/mpg.csv\", storage_options = {'User-Agent': 'Mozilla/5.0'})"
   ]
  },
  {
   "cell_type": "markdown",
   "id": "d0d56c29",
   "metadata": {},
   "source": [
    "<div class=\"alert alert-success\">\n",
    "<h4>Dicas</h4>\n",
    "\n",
    "- Use `sns.set_theme()` para o tema padrão do Seaborn."
   ]
  },
  {
   "cell_type": "code",
   "execution_count": null,
   "id": "6a11a4ef",
   "metadata": {},
   "outputs": [],
   "source": [
    "sns.set_theme()\n",
    "sns.barplot(x=[1,2,3], y=[1, 3, 2]);"
   ]
  },
  {
   "cell_type": "markdown",
   "id": "63c5d231",
   "metadata": {},
   "source": [
    "## Funções de nível de eixos\n",
    "As funções de nível de eixos plotam dados em um único objeto `matplotlib.pyplot.Axes`."
   ]
  },
  {
   "cell_type": "markdown",
   "id": "8e53dbaf",
   "metadata": {},
   "source": [
    "### Histograma"
   ]
  },
  {
   "cell_type": "code",
   "execution_count": null,
   "id": "f98e57c6",
   "metadata": {},
   "outputs": [],
   "source": [
    "sns.histplot(data=df, x='mpg');"
   ]
  },
  {
   "cell_type": "code",
   "execution_count": null,
   "id": "b8841e59",
   "metadata": {},
   "outputs": [],
   "source": [
    "sns.histplot(data=df, x='mpg', kde=True);"
   ]
  },
  {
   "cell_type": "markdown",
   "id": "f4761117",
   "metadata": {},
   "source": [
    "### Gráfico de Dispersão"
   ]
  },
  {
   "cell_type": "code",
   "execution_count": null,
   "id": "16deca9e",
   "metadata": {},
   "outputs": [],
   "source": [
    "sns.scatterplot(data=df, x='weight', y='mpg');"
   ]
  },
  {
   "cell_type": "markdown",
   "id": "bffce94d",
   "metadata": {},
   "source": [
    "### Adicione `hue` para determinar a cor dos elementos do gráfico"
   ]
  },
  {
   "cell_type": "code",
   "execution_count": null,
   "id": "0343e2b2",
   "metadata": {},
   "outputs": [],
   "source": [
    "sns.histplot(data=df, x='mpg', kde=True, hue='origin').set(title='distribution of mpg by origin');"
   ]
  },
  {
   "cell_type": "code",
   "execution_count": null,
   "id": "7da95ba5",
   "metadata": {},
   "outputs": [],
   "source": [
    "sns.scatterplot(data=df, x='weight', y='mpg', hue='origin');"
   ]
  },
  {
   "cell_type": "markdown",
   "id": "f7aca212",
   "metadata": {},
   "source": [
    "### Mostre as contagens de observações em cada categoria categórica usando barras."
   ]
  },
  {
   "cell_type": "code",
   "execution_count": null,
   "id": "f988f21b",
   "metadata": {},
   "outputs": [],
   "source": [
    "df.origin.value_counts().plot(kind='bar');"
   ]
  },
  {
   "cell_type": "code",
   "execution_count": null,
   "id": "54b7e127",
   "metadata": {},
   "outputs": [],
   "source": [
    "sns.countplot(data=df, x='origin');"
   ]
  },
  {
   "cell_type": "markdown",
   "id": "4b3d7de5",
   "metadata": {},
   "source": [
    "### Integrar com Matplotlib"
   ]
  },
  {
   "cell_type": "markdown",
   "id": "4d2174b2",
   "metadata": {},
   "source": [
    "> As funções no nível dos eixos chamam internamente matplotlib.pyplot.gca(), que se conecta à interface da máquina de estados matplotlib para que desenhem seus gráficos nos eixos \"atualmente ativos\". Mas elas também aceitam um argumento ax=, que se integra à interface orientada a objetos e permite especificar exatamente onde cada gráfico deve ficar:"
   ]
  },
  {
   "cell_type": "code",
   "execution_count": null,
   "id": "ddc03fa8",
   "metadata": {},
   "outputs": [],
   "source": [
    "import matplotlib.pyplot as plt\n",
    "fig, ax = plt.subplots(figsize=(14,5))\n",
    "sns.histplot(data=df, x='mpg', kde=True, hue='origin', ax=ax);\n"
   ]
  },
  {
   "cell_type": "code",
   "execution_count": null,
   "id": "93b2ba6c",
   "metadata": {
    "scrolled": true
   },
   "outputs": [],
   "source": [
    "fig, (ax1, ax2) = plt.subplots(nrows=2, ncols=1, figsize=(14,5))\n",
    "sns.histplot(data=df, x='mpg', kde=True, hue='origin', ax=ax1);\n",
    "sns.scatterplot(data=df, x='weight', y=\"mpg\", hue='origin', ax=ax2);"
   ]
  },
  {
   "cell_type": "markdown",
   "id": "3d00f12e",
   "metadata": {},
   "source": [
    "<div class=\"alert alert-info\">\n",
    "<h4>Exercício</h4>\n",
    "\n",
    "- Carregue o conjunto de dados Penguins de 'assets/penguins.csv' e nomeie-o como `dfe`.\n",
    "- Use o Seaborn para visualizar a distribuição da massa corporal, a relação entre o comprimento da nadadeira e a massa corporal e visualizar as diferenças entre as espécies.\n",
    "\n",
    "<details><summary><i><u>(Dica)</u><i></summary><br>\n",
    "Use `hue='species'`.\n",
    "\n",
    "<details><summary><i><u>(Solução)</u><i></summary><br>\n",
    "    \n",
    "```python\n",
    "dfe = pd.read_csv('assets/penguins.csv')\n",
    "sns.histplot(data=dfe, x='body_mass_g', kde=True, hue='species');\n",
    "sns.scatterplot(data=dfe, x='flipper_length_mm', y=\"body_mass_g\", hue='species');\n",
    "```\n",
    "</details>\n",
    "</details>\n",
    "</div>"
   ]
  },
  {
   "cell_type": "markdown",
   "id": "a8cde3a4",
   "metadata": {},
   "source": [
    "### Funções de nível de figura"
   ]
  },
  {
   "attachments": {},
   "cell_type": "markdown",
   "id": "7976ee3f",
   "metadata": {},
   "source": [
    "<img id=\"Image1\" src=\"https://static.anaconda.cloud/shared/lms/data_visualization/intro_data_visualization/assets/seaborn.jpeg\" align=\"left\"/>"
   ]
  },
  {
   "cell_type": "code",
   "execution_count": null,
   "id": "7c26139c",
   "metadata": {},
   "outputs": [],
   "source": [
    "sns.relplot(data=df, x='weight', y='mpg', kind='scatter');"
   ]
  },
  {
   "cell_type": "code",
   "execution_count": null,
   "id": "422e0784",
   "metadata": {},
   "outputs": [],
   "source": [
    "sns.displot(data=df, x='mpg', kind='kde');"
   ]
  },
  {
   "cell_type": "code",
   "execution_count": null,
   "id": "45a826d9",
   "metadata": {},
   "outputs": [],
   "source": [
    "sns.catplot(data=df, x='origin', y='mpg', kind='violin');"
   ]
  },
  {
   "cell_type": "markdown",
   "id": "eff83fd6",
   "metadata": {},
   "source": [
    "<div class=\"alert alert-info\">\n",
    "<h4>Exercício</h4>\n",
    "\n",
    "- Explore as funções de nível de figura com o conjunto de dados Penguins.\n",
    "- Use as funções de nível de figura para visualizar a distribuição da massa corporal, a relação entre o comprimento da nadadeira e a massa corporal e visualizar as diferenças entre as espécies.\n",
    "\n",
    "<details><summary><i><u>(Dica)</u><i></summary><br>\n",
    "Use sns.displot e sns.relplot.\n",
    "\n",
    "<details><summary><i><u>(Solução)</u><i></summary><br>\n",
    "    \n",
    "```python\n",
    "sns.displot(data=dfe, x='body_mass_g', kind='hist', kde=True, hue='species');\n",
    "sns.relplot(data=dfe, x='flipper_length_mm', y=\"body_mass_g\", kind='scatter', hue='species');\n",
    "```\n",
    "</details>\n",
    "</details>    \n",
    "</div>"
   ]
  },
  {
   "cell_type": "markdown",
   "id": "846b87c9",
   "metadata": {},
   "source": [
    "<div>\n",
    "<h2 class=\"breadcrumb\">Criar gráficos estatísticos</h2><p>\n",
    "</div>"
   ]
  },
  {
   "cell_type": "markdown",
   "id": "e36ed6d9",
   "metadata": {},
   "source": [
    "### Plotando o intervalo de confiança ou desvio padrão em torno da média\n",
    "\n",
    "- Padrão: plotar o IC de 95%.\n",
    "> O comportamento padrão no Seaborn é agregar as múltiplas medições em cada valor de x, plotando a média e o intervalo de confiança de 95% em torno da média.\n",
    "\n",
    "- Definir `ci='sd'`\n",
    "> Outra boa opção, especialmente com dados maiores, é representar a dispersão da distribuição em cada ponto no tempo plotando o desvio padrão em vez de um intervalo de confiança:"
   ]
  },
  {
   "cell_type": "code",
   "execution_count": null,
   "id": "fbb57e19",
   "metadata": {},
   "outputs": [],
   "source": [
    "sns.relplot(data=df, x='cylinders', y='mpg', kind='line', ci='sd');"
   ]
  },
  {
   "cell_type": "markdown",
   "id": "16fffff2",
   "metadata": {},
   "source": [
    "### Desenhar modelos de regressão linear"
   ]
  },
  {
   "cell_type": "code",
   "execution_count": null,
   "id": "3fc337db",
   "metadata": {},
   "outputs": [],
   "source": [
    "sns.lmplot(data=df, x='weight', y='mpg');"
   ]
  },
  {
   "cell_type": "markdown",
   "id": "6312a5bd",
   "metadata": {},
   "source": [
    "Especifique matiz e marcadores para origem:"
   ]
  },
  {
   "cell_type": "code",
   "execution_count": null,
   "id": "81fb8838",
   "metadata": {},
   "outputs": [],
   "source": [
    "sns.lmplot(data=df, x=\"weight\", y=\"mpg\", hue=\"origin\", markers=['o','x','+']);"
   ]
  },
  {
   "cell_type": "markdown",
   "id": "010a6955",
   "metadata": {},
   "source": [
    "Separe o gráfico por origem em três colunas:"
   ]
  },
  {
   "cell_type": "code",
   "execution_count": null,
   "id": "5a61ff9f",
   "metadata": {},
   "outputs": [],
   "source": [
    "sns.lmplot(data=df, x=\"weight\", y=\"mpg\", row=\"origin\");"
   ]
  },
  {
   "cell_type": "markdown",
   "id": "50ba9fe4",
   "metadata": {},
   "source": [
    "<div class=\"alert alert-info\">\n",
    "<h4>Exercício</h4>\n",
    "\n",
    "- Trace a relação entre o comprimento da nadadeira e a massa corporal, visualize as diferenças entre as espécies e desenhe linhas de regressão nesses gráficos.\n",
    "\n",
    "<details><summary><i><u>(Dica)</u><i></summary><br>\n",
    "Use sns.lmplot\n",
    "<details><summary><i><u>(Solução)</u><i></summary><br>\n",
    "    \n",
    "```python\n",
    "sns.lmplot(data=dfe, x='flipper_length_mm', y=\"body_mass_g\");\n",
    "sns.lmplot(data=dfe, x='flipper_length_mm', y=\"body_mass_g\", hue='species');\n",
    "```\n",
    "</details>\n",
    "</details>\n",
    "</div>"
   ]
  },
  {
   "cell_type": "markdown",
   "id": "826b50ff",
   "metadata": {},
   "source": [
    "<div>\n",
    "<h2 class=\"breadcrumb\">Visualizando múltiplos relacionamentos</h2><p>\n",
    "</div>\n",
    "\n",
    "> `jointplot()` e `pairplot()` empregam vários tipos de gráficos de diferentes módulos para representar múltiplos aspectos de um conjunto de dados em uma única figura."
   ]
  },
  {
   "cell_type": "markdown",
   "id": "c5d66f1f",
   "metadata": {},
   "source": [
    "> jointplot() foca em um único relacionamento:"
   ]
  },
  {
   "cell_type": "code",
   "execution_count": null,
   "id": "13c2a1bd",
   "metadata": {},
   "outputs": [],
   "source": [
    "sns.jointplot(data=df, x=\"weight\", y=\"mpg\", kind=\"reg\");"
   ]
  },
  {
   "cell_type": "code",
   "execution_count": null,
   "id": "b3869eee",
   "metadata": {},
   "outputs": [],
   "source": [
    "sns.jointplot(data=df, x=\"weight\", y=\"mpg\", hue='origin');"
   ]
  },
  {
   "cell_type": "markdown",
   "id": "da539bc4",
   "metadata": {},
   "source": [
    "> pairplot() visualiza cada combinação de pares de variáveis ​​simultaneamente:"
   ]
  },
  {
   "cell_type": "code",
   "execution_count": null,
   "id": "2b7b819d",
   "metadata": {},
   "outputs": [],
   "source": [
    "sns.pairplot(data=df);"
   ]
  },
  {
   "cell_type": "code",
   "execution_count": null,
   "id": "97041dbc",
   "metadata": {
    "scrolled": true
   },
   "outputs": [],
   "source": [
    "sns.pairplot(data=df, hue=\"origin\");"
   ]
  }
 ],
 "metadata": {
  "kernelspec": {
   "display_name": "anaconda-2024.02-py310",
   "language": "python",
   "name": "conda-env-anaconda-2024.02-py310-py"
  },
  "language_info": {
   "codemirror_mode": {
    "name": "ipython",
    "version": 3
   },
   "file_extension": ".py",
   "mimetype": "text/x-python",
   "name": "python",
   "nbconvert_exporter": "python",
   "pygments_lexer": "ipython3",
   "version": "3.10.14"
  }
 },
 "nbformat": 4,
 "nbformat_minor": 5
}
