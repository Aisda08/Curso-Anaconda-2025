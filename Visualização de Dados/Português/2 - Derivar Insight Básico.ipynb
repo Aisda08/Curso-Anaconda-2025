{
 "cells": [
  {
   "cell_type": "markdown",
   "id": "2fb6c3de",
   "metadata": {},
   "source": [
    "<h1>Como obter insights básicos a partir de dados?</h1>\n",
    "<br>\n",
    "Frequentemente trabalhamos com um arquivo de dados semelhante ao Excel, para o qual o Pandas é uma biblioteca de dados apropriada. A plotagem do Pandas é construída sobre o Matplotlib, mas é uma API de plotagem de nível superior (com código mais curto e prático).\n",
    "\n",
    "<p class=\"lead\">\n",
    "Índice:\n",
    "\n",
    "- <a href=\"#Understanding-Pandas-and-loading-data\">Compreendendo o Pandas e Carregando Dados</a>\n",
    "- <a href=\"#Pandas-plotting-API\">API de Plotagem do Pandas</a>\n",
    "- <a href=\"#Pattern-of-a-continuous-variable\">Padrão de uma Variável Contínua</a>\n",
    "- <a href=\"#Pattern-of-a-categorical-variable\">Padrão de uma Variável Categórica</a>\n",
    "- <a href=\"#Relationship-between-two-variables\">Relação entre Duas Variáveis</a>\n",
    "- <a href=\"#Time-series\">Séries Temporais</a>\n",
    "\n",
    "</p>"
   ]
  },
  {
   "cell_type": "markdown",
   "id": "5c90f1f0",
   "metadata": {},
   "source": [
    "<div>\n",
    "<h2 class=\"breadcrumb\">Compreendendo o Pandas e Carregando Dados</h2><p>\n",
    "</div>\n",
    "\n",
    "> O Pandas DataFrame é uma estrutura de dados bidimensional rotulada com colunas de tipos potencialmente diferentes. Você pode pensar nele como uma planilha ou tabela SQL, ou um dicionário de objetos Series. (pandas.pydata.org)"
   ]
  },
  {
   "cell_type": "code",
   "execution_count": null,
   "id": "ae2cedc2",
   "metadata": {},
   "outputs": [],
   "source": [
    "import pandas as pd"
   ]
  },
  {
   "cell_type": "code",
   "execution_count": null,
   "id": "4ccfc59a",
   "metadata": {},
   "outputs": [],
   "source": [
    "df = pd.read_csv(\"https://static.anaconda.cloud/shared/lms/data_visualization/intro_data_visualization/assets/mpg.csv\", storage_options = {'User-Agent': 'Mozilla/5.0'})"
   ]
  },
  {
   "cell_type": "code",
   "execution_count": null,
   "id": "3abd6f9a",
   "metadata": {},
   "outputs": [],
   "source": [
    "df.head()"
   ]
  },
  {
   "cell_type": "code",
   "execution_count": null,
   "id": "892d045b",
   "metadata": {},
   "outputs": [],
   "source": [
    "len(df)"
   ]
  },
  {
   "cell_type": "code",
   "execution_count": null,
   "id": "9e17d785",
   "metadata": {},
   "outputs": [],
   "source": [
    "df.describe()"
   ]
  },
  {
   "cell_type": "markdown",
   "id": "b7e92072",
   "metadata": {},
   "source": [
    "Os rótulos das colunas podem ser acessados ​​usando atributos de colunas:"
   ]
  },
  {
   "cell_type": "code",
   "execution_count": null,
   "id": "d74fd540",
   "metadata": {},
   "outputs": [],
   "source": [
    "df.columns"
   ]
  },
  {
   "cell_type": "markdown",
   "id": "02c2c478",
   "metadata": {},
   "source": [
    "Use df.column_name ou df['column_name'] para obter uma coluna:"
   ]
  },
  {
   "cell_type": "code",
   "execution_count": null,
   "id": "c50466e5",
   "metadata": {},
   "outputs": [],
   "source": [
    "df.weight"
   ]
  },
  {
   "cell_type": "code",
   "execution_count": null,
   "id": "a8041bd9",
   "metadata": {},
   "outputs": [],
   "source": [
    "df['weight']"
   ]
  },
  {
   "cell_type": "code",
   "execution_count": null,
   "id": "5be83346",
   "metadata": {},
   "outputs": [],
   "source": [
    "df.weight.mean()"
   ]
  },
  {
   "cell_type": "code",
   "execution_count": null,
   "id": "dc15bae6",
   "metadata": {},
   "outputs": [],
   "source": [
    "df.weight.std()"
   ]
  },
  {
   "cell_type": "code",
   "execution_count": null,
   "id": "306b6070",
   "metadata": {},
   "outputs": [],
   "source": [
    "df.origin.value_counts()"
   ]
  },
  {
   "cell_type": "markdown",
   "id": "f7f4d08b",
   "metadata": {},
   "source": [
    "<div class=\"alert alert-info\">\n",
    "<h4>Exercício</h4>\n",
    "\n",
    "Tente carregar outro conjunto de dados de 'assets/penguins.csv' e chame-o de `dfe`.\n",
    "<details><summary><i><u>(Dica)</u><i></summary><br>\n",
    "Use o método `pd.read_csv`.\n",
    "\n",
    "<details><summary><i><u>(Solução)</u><i></summary><br>\n",
    "\n",
    "```python\n",
    "dfe = pd.read_csv('assets/penguins.csv')\n",
    "```\n",
    "</details>\n",
    "</details>\n",
    "</div>"
   ]
  },
  {
   "cell_type": "markdown",
   "id": "4c42037e",
   "metadata": {},
   "source": [
    "<div class=\"alert alert-info\">\n",
    "<h4>Exercício</h4>\n",
    "\n",
    "Explore o conjunto de dados dos Pinguins.\n",
    "</div>"
   ]
  },
  {
   "cell_type": "markdown",
   "id": "ea3ea31e",
   "metadata": {},
   "source": [
    "<div>\n",
    "<h2 class=\"breadcrumb\">API de Plotagem do Pandas</h2><p>\n",
    "</div>"
   ]
  },
  {
   "cell_type": "code",
   "execution_count": null,
   "id": "c32f6a8a",
   "metadata": {
    "scrolled": true
   },
   "outputs": [],
   "source": [
    "df.plot();"
   ]
  },
  {
   "cell_type": "markdown",
   "id": "063b39d8",
   "metadata": {},
   "source": [
    "<div class=\"alert alert-success\">\n",
    "<h4>Tips</h4>\n",
    "\n",
    "To understand how df.plot works, try `df.plot?`"
   ]
  },
  {
   "cell_type": "code",
   "execution_count": null,
   "id": "dbaa148c",
   "metadata": {},
   "outputs": [],
   "source": [
    "df.plot?"
   ]
  },
  {
   "cell_type": "markdown",
   "id": "0877ae43",
   "metadata": {},
   "source": [
    "<div>\n",
    "<h2 class=\"breadcrumb\">Padrão de uma Variável Contínua</h2><p>\n",
    "</div>"
   ]
  },
  {
   "cell_type": "code",
   "execution_count": null,
   "id": "a91f369a",
   "metadata": {},
   "outputs": [],
   "source": [
    "df.head()"
   ]
  },
  {
   "cell_type": "markdown",
   "id": "06d1e649",
   "metadata": {},
   "source": [
    "### Histograma\n",
    "\n",
    "> Um `histograma` é uma representação da distribuição de dados."
   ]
  },
  {
   "cell_type": "code",
   "execution_count": null,
   "id": "246976fa",
   "metadata": {},
   "outputs": [],
   "source": [
    "df['mpg'].hist(grid=True);"
   ]
  },
  {
   "cell_type": "code",
   "execution_count": null,
   "id": "78f7aaf3",
   "metadata": {},
   "outputs": [],
   "source": [
    "df['mpg'].plot(kind='hist');"
   ]
  },
  {
   "cell_type": "markdown",
   "id": "a2d537f9",
   "metadata": {},
   "source": [
    "Crie gráficos de histograma para duas variáveis:"
   ]
  },
  {
   "cell_type": "code",
   "execution_count": null,
   "id": "705db05c",
   "metadata": {
    "scrolled": true
   },
   "outputs": [],
   "source": [
    "df[['mpg', 'horsepower']].plot(kind='hist', subplots=True);"
   ]
  },
  {
   "cell_type": "markdown",
   "id": "45ef7037",
   "metadata": {},
   "source": [
    "Qual é a distribuição de mpg por origem?"
   ]
  },
  {
   "cell_type": "code",
   "execution_count": null,
   "id": "47f3169c",
   "metadata": {},
   "outputs": [],
   "source": [
    "df.groupby('origin')['mpg'].plot(kind='hist', alpha=0.3, legend=True);"
   ]
  },
  {
   "cell_type": "markdown",
   "id": "b9a28723",
   "metadata": {},
   "source": [
    "### Gráfico de Estimativa de Densidade do Kernel\n",
    "\n",
    "> Em estatística, a estimativa de densidade do kernel (EDK) é uma forma não paramétrica de estimar a função de densidade de probabilidade (FDP) de uma variável aleatória. Esta função utiliza kernels gaussianos e inclui a determinação automática da largura de banda."
   ]
  },
  {
   "cell_type": "code",
   "execution_count": null,
   "id": "cb86ef2c",
   "metadata": {
    "scrolled": true
   },
   "outputs": [],
   "source": [
    "df['mpg'].plot(kind='kde');"
   ]
  },
  {
   "cell_type": "code",
   "execution_count": null,
   "id": "c606ee61",
   "metadata": {},
   "outputs": [],
   "source": [
    "df.groupby('origin')['mpg'].plot(kind='kde', legend=True);"
   ]
  },
  {
   "cell_type": "markdown",
   "id": "5121bd37",
   "metadata": {},
   "source": [
    "<div class=\"alert alert-info\">\n",
    "<h4>Exercício</h4>\n",
    "\n",
    "No exercício anterior, você carregou o conjunto de dados Penguins. Neste exercício, explore a distribuição da massa corporal dos pinguins e veja como as distribuições diferem por espécie e sexo.\n",
    "\n",
    "<details><summary><i><u>(Dica)</u><i></summary><br>\n",
    "Você pode usar o histograma ou o gráfico de densidade do kernel para este exercício, ou ambos!\n",
    "\n",
    "<details><summary><i><u>(Solução)</u><i></summary><br>\n",
    "\n",
    "```python\n",
    "dfe['body_mass_g'].plot(kind='kde');\n",
    "dfe.groupby('species')['body_mass_g'].plot(kind='kde', legend=True);\n",
    "dfe.groupby('sex')['body_mass_g'].plot(kind='kde', legend=True);\n",
    "dfe.groupby(['sex','species'])['body_mass_g'].plot(kind='kde', legend=True);\n",
    "\n",
    "```\n",
    "</detalhes>\n",
    "</detalhes>\n",
    "</div>"
   ]
  },
  {
   "cell_type": "markdown",
   "id": "c6cb5bb2",
   "metadata": {},
   "source": [
    "<div>\n",
    "<h2 class=\"breadcrumb\">Padrão de uma Variável Categórica</h2><p>\n",
    "</div>"
   ]
  },
  {
   "cell_type": "markdown",
   "id": "b240da17",
   "metadata": {},
   "source": [
    "### Gráfico de Barras"
   ]
  },
  {
   "cell_type": "code",
   "execution_count": null,
   "id": "93f4e4dc",
   "metadata": {},
   "outputs": [],
   "source": [
    "df.head()"
   ]
  },
  {
   "cell_type": "code",
   "execution_count": null,
   "id": "95c71950",
   "metadata": {},
   "outputs": [],
   "source": [
    "df['origin'].value_counts()"
   ]
  },
  {
   "cell_type": "code",
   "execution_count": null,
   "id": "2c80ca14",
   "metadata": {},
   "outputs": [],
   "source": [
    "df['origin'].value_counts().plot(kind='bar');"
   ]
  },
  {
   "cell_type": "code",
   "execution_count": null,
   "id": "6eab44aa",
   "metadata": {},
   "outputs": [],
   "source": [
    "df['origin'].value_counts().plot(kind='barh');"
   ]
  },
  {
   "cell_type": "markdown",
   "id": "eb22b06e",
   "metadata": {},
   "source": [
    "#### Gráfico de barras do usuário para mostrar informações de mpg por origem e ano do modelo"
   ]
  },
  {
   "cell_type": "code",
   "execution_count": null,
   "id": "c10bbc09",
   "metadata": {},
   "outputs": [],
   "source": [
    "table = df.groupby(['model_year', 'origin']).mean()['mpg'].unstack('origin')"
   ]
  },
  {
   "cell_type": "code",
   "execution_count": null,
   "id": "de0e3e9a",
   "metadata": {},
   "outputs": [],
   "source": [
    "table.plot(kind='bar', stacked=True);"
   ]
  },
  {
   "cell_type": "markdown",
   "id": "e40a5cb0",
   "metadata": {},
   "source": [
    "### Gráfico de Pizza"
   ]
  },
  {
   "cell_type": "code",
   "execution_count": null,
   "id": "870927a3",
   "metadata": {},
   "outputs": [],
   "source": [
    "df['origin'].value_counts().plot(kind='pie');"
   ]
  },
  {
   "cell_type": "markdown",
   "id": "9bf23c31",
   "metadata": {},
   "source": [
    "<div class=\"alert alert-info\">\n",
    "<h4>Exercício</h4>\n",
    "\n",
    "Crie dois gráficos com o conjunto de dados Penguins:\n",
    "1) Gráfico de barras mostrando a contagem de espécies.\n",
    "\n",
    "2) Gráfico de barras mostrando os valores médios de massa corporal por espécie e por sexo.\n",
    "\n",
    "<details><summary><i><u>(Solução)</u><i></summary><br>\n",
    "<details><summary><i><u>(Você consegue!)</u><i></summary><br>\n",
    "\n",
    "```python\n",
    "dfe['species'].value_counts().plot(kind='bar');\n",
    "dfe.groupby(['species', 'sex']).mean().unstack('sex')['body_mass_g'].plot(kind='bar');\n",
    "```\n",
    "</details>\n",
    "</details>\n",
    "</div>"
   ]
  },
  {
   "cell_type": "markdown",
   "id": "95f00ed3",
   "metadata": {},
   "source": [
    "<div>\n",
    "<h2 class=\"breadcrumb\">Relação entre Duas Variáveis</h2><p>\n",
    "</div>"
   ]
  },
  {
   "cell_type": "markdown",
   "id": "0a55dfcb",
   "metadata": {},
   "source": [
    "Relação entre peso e mpg:"
   ]
  },
  {
   "cell_type": "code",
   "execution_count": null,
   "id": "9d414927",
   "metadata": {},
   "outputs": [],
   "source": [
    "df.plot(x='weight', y='mpg', kind='scatter', title='relationship between weight and mpg');"
   ]
  },
  {
   "cell_type": "markdown",
   "id": "d6e600b9",
   "metadata": {},
   "source": [
    "Relação entre peso e consumo de combustível por origem:\n",
    "\n",
    "Frequentemente, há muitas maneiras de criar o mesmo gráfico. Aqui está uma maneira de criar este gráfico. Veremos outra maneira no próximo caderno."
   ]
  },
  {
   "cell_type": "code",
   "execution_count": null,
   "id": "d0fe71a0",
   "metadata": {},
   "outputs": [],
   "source": [
    "import matplotlib.pyplot as plt\n",
    "fig, ax = plt.subplots()\n",
    "df[df.origin=='usa'].plot(x='weight', y='mpg', kind='scatter', ax=ax, c='r', label='USA');\n",
    "df[df.origin=='japan'].plot(x='weight', y='mpg', kind='scatter', ax=ax, c='g', label='Japan');\n",
    "df[df.origin=='europe'].plot(x='weight', y='mpg', kind='scatter', ax=ax, c='b', label='Europe');\n"
   ]
  },
  {
   "cell_type": "markdown",
   "id": "d99b15b3",
   "metadata": {},
   "source": [
    "<div class=\"alert alert-info\">\n",
    "<h4>Exercício</h4>\n",
    "\n",
    "Crie dois gráficos com o conjunto de dados Penguins:\n",
    "1) Gráfico de dispersão mostrando a relação entre o comprimento da nadadeira e a massa corporal.\n",
    "\n",
    "2) Mostrando essa relação por espécie.\n",
    "\n",
    "<details><summary><i><u>(Solução)</u><i></summary><br>\n",
    "\n",
    "<details><summary><i><u>(Mais um minuto)</u><i></summary><br>\n",
    "    \n",
    "```python\n",
    "dfe.plot(x='flipper_length_mm', y='body_mass_g', kind='scatter');\n",
    "\n",
    "fig, ax = plt.subplots()\n",
    "dfe[dfe.species=='Adelie'].plot(x='flipper_length_mm', y='body_mass_g', kind='scatter', ax=ax, c='r', label='Adelie');\n",
    "dfe[dfe.species=='Gentoo'].plot(x='flipper_length_mm', y='body_mass_g', kind='scatter', ax=ax, c='g', label='Gentoo');\n",
    "dfe[dfe.species=='Chinstrap'].plot(x='flipper_length_mm', y='body_mass_g', kind='scatter', ax=ax, c='b', label='Chinstrap');\n",
    "\n",
    "```\n",
    "</details>\n",
    "</details>\n",
    "</div>"
   ]
  },
  {
   "cell_type": "markdown",
   "id": "c27d5fc4",
   "metadata": {},
   "source": [
    "<div>\n",
    "<h2 class=\"breadcrumb\">Séries temporais</h2><p>\n",
    "</div>"
   ]
  },
  {
   "cell_type": "code",
   "execution_count": null,
   "id": "f03e306f",
   "metadata": {},
   "outputs": [],
   "source": [
    "dft = pd.read_csv(\n",
    "    'https://static.anaconda.cloud/shared/lms/data_visualization/intro_data_visualization/assets/air_quality_no2.csv', storage_options = {'User-Agent': 'Mozilla/5.0'},\n",
    "    index_col=0, \n",
    "    parse_dates=True,\n",
    ")"
   ]
  },
  {
   "cell_type": "code",
   "execution_count": null,
   "id": "5f8a665c",
   "metadata": {},
   "outputs": [],
   "source": [
    "dft.head()"
   ]
  },
  {
   "cell_type": "code",
   "execution_count": null,
   "id": "76db8fcd",
   "metadata": {},
   "outputs": [],
   "source": [
    "dft.plot();"
   ]
  },
  {
   "cell_type": "code",
   "execution_count": null,
   "id": "be6dedca",
   "metadata": {},
   "outputs": [],
   "source": [
    "dft.plot(subplots=True, layout=(1,3), figsize=(15,4));"
   ]
  },
  {
   "cell_type": "markdown",
   "id": "334b60b7",
   "metadata": {},
   "source": [
    "<div class=\"alert alert-info\">\n",
    "<h4>Exercício</h4>\n",
    "\n",
    "Crie um gráfico de área para os dados desta série temporal.\n",
    "<details><summary><i><u>(Dica)</u><i></summary><br>\n",
    "Experimente `kind=\"area\"`\n",
    "\n",
    "<details><summary><i><u>(Solução)</u><i></summary><br>\n",
    "\n",
    "```python\n",
    "dft.plot(figsize=(12, 4), kind='area');\n",
    "dft.plot(figsize=(12, 4), kind='area', subplots=True);\n",
    "```\n",
    "</details>\n",
    "</details>\n",
    "</div>"
   ]
  }
 ],
 "metadata": {
  "kernelspec": {
   "display_name": "anaconda-2024.02-py310",
   "language": "python",
   "name": "conda-env-anaconda-2024.02-py310-py"
  },
  "language_info": {
   "codemirror_mode": {
    "name": "ipython",
    "version": 3
   },
   "file_extension": ".py",
   "mimetype": "text/x-python",
   "name": "python",
   "nbconvert_exporter": "python",
   "pygments_lexer": "ipython3",
   "version": "3.10.14"
  }
 },
 "nbformat": 4,
 "nbformat_minor": 5
}
