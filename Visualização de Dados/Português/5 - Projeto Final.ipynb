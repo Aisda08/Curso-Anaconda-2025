{
 "cells": [
  {
   "cell_type": "markdown",
   "id": "26649f8f",
   "metadata": {},
   "source": [
    "<h1>Projeto final</h1>\n",
    "<br>\n",
    "\n",
    "Neste caderno, concluiremos um projeto completo de visualização de dados e aprenderemos como podemos usar a visualização para resolver problemas do mundo real.\n",
    "\n",
    "<p class=\"lead\">\n",
    "Índice:\n",
    "\n",
    "- <a href=\"#Come-up-with-questions\">Crie perguntas</a>\n",
    "- <a href=\"#Find-data\">Encontre dados</a>\n",
    "- <a href=\"#Refine-questions\">Refine suas perguntas</a>\n",
    "- <a href=\"#Data-cleaning\">Limpeza de dados</a>\n",
    "- <a href=\"#Data-exploration-and-visualization\">Exploração e visualização de dados</a>\n",
    "\n",
    "</p>"
   ]
  },
  {
   "attachments": {},
   "cell_type": "markdown",
   "id": "2f023122",
   "metadata": {},
   "source": [
    "<div>\n",
    "<h2 class=\"breadcrumb\">Crie perguntas</h2><p>\n",
    "</div>\n",
    "\n",
    "- O que te empolga? Que tipo de problemas você gostaria de explorar e resolver com a visualização de dados?\n",
    "\n",
    "![](https://static.anaconda.cloud/shared/lms/data_visualization/intro_data_visualization/assets/UFO1.gif)"
   ]
  },
  {
   "cell_type": "markdown",
   "id": "29203370",
   "metadata": {},
   "source": [
    "<div>\n",
    "<h2 class=\"breadcrumb\">Encontrar dados</h2><p>\n",
    "</div>\n",
    "\n",
    "- Google\n",
    "- Encontrar conjuntos de dados públicos (por exemplo, https://www.kaggle.com/datasets/)\n",
    "- Usar API (por exemplo, API do Twitter)\n",
    "- Raspagem da web\n",
    "- Pesquisa\n",
    "\n",
    "Dados de OVNIs: https://www.kaggle.com/datasets/NUFORC/ufo-sightings"
   ]
  },
  {
   "cell_type": "markdown",
   "id": "1f48fa62",
   "metadata": {},
   "source": [
    "<div>\n",
    "<h2 class=\"breadcrumb\">Refinar perguntas</h2><p>\n",
    "</div>\n",
    "\n",
    "Com os dados que vemos, podemos refinar nossas perguntas:\n",
    "\n",
    "- Qual é a tendência anual/mensal/diária de avistamentos de OVNIs? Qual ano/mês/dia do mês tem o maior número de avistamentos de OVNIs?\n",
    "- Qual país tem o maior número de avistamentos de OVNIs?\n",
    "- Há diferenças gerais na tendência por país?"
   ]
  },
  {
   "cell_type": "markdown",
   "id": "7007b7fe",
   "metadata": {},
   "source": [
    "<div>\n",
    "<h2 class=\"breadcrumb\">Limpeza de dados</h2><p>\n",
    "</div>"
   ]
  },
  {
   "cell_type": "code",
   "execution_count": null,
   "id": "7f7be86c",
   "metadata": {},
   "outputs": [],
   "source": [
    "import pandas as pd\n",
    "import seaborn as sns\n",
    "import matplotlib.pyplot as plt"
   ]
  },
  {
   "cell_type": "code",
   "execution_count": null,
   "id": "2d1ae8ff",
   "metadata": {},
   "outputs": [],
   "source": [
    "df = pd.read_csv('https://static.anaconda.cloud/shared/lms/data_visualization/intro_data_visualization/assets/scrubbed.csv', storage_options = {'User-Agent': 'Mozilla/5.0'},low_memory=False)"
   ]
  },
  {
   "cell_type": "code",
   "execution_count": null,
   "id": "f65dee29",
   "metadata": {
    "scrolled": true
   },
   "outputs": [],
   "source": [
    "df.head()"
   ]
  },
  {
   "cell_type": "code",
   "execution_count": null,
   "id": "b6741b8d",
   "metadata": {},
   "outputs": [],
   "source": [
    "df.columns"
   ]
  },
  {
   "cell_type": "code",
   "execution_count": null,
   "id": "fbc0e432",
   "metadata": {},
   "outputs": [],
   "source": [
    "# renomeia a coluna \"longitude\" para \"longitude\". Há um espaço extra.\n",
    "df = df.rename(columns={\"longitude \": \"longitude\"})"
   ]
  },
  {
   "cell_type": "code",
   "execution_count": null,
   "id": "8651ac5d",
   "metadata": {},
   "outputs": [],
   "source": [
    "# verifica tipos de dados\n",
    "df.dtypes"
   ]
  },
  {
   "cell_type": "code",
   "execution_count": null,
   "id": "477de0d3",
   "metadata": {},
   "outputs": [],
   "source": [
    "# converte duração para float\n",
    "# df['duration (seconds)'] = df['duration (seconds)'].astype(float)"
   ]
  },
  {
   "cell_type": "code",
   "execution_count": null,
   "id": "648a8b79",
   "metadata": {},
   "outputs": [],
   "source": [
    "# encontrou um problema com os dados\n",
    "df[df['duration (seconds)']=='2`']"
   ]
  },
  {
   "cell_type": "code",
   "execution_count": null,
   "id": "6b06cf7c",
   "metadata": {},
   "outputs": [],
   "source": [
    "# limpeza da duração\n",
    "df['duration (seconds)'] = df['duration (seconds)'].str.strip('`')"
   ]
  },
  {
   "cell_type": "code",
   "execution_count": null,
   "id": "47e18633",
   "metadata": {},
   "outputs": [],
   "source": [
    "# converte duração para float\n",
    "df['duration (seconds)'] = df['duration (seconds)'].astype(float)"
   ]
  },
  {
   "cell_type": "code",
   "execution_count": null,
   "id": "3f65f6cb",
   "metadata": {},
   "outputs": [],
   "source": [
    "# converte latitude para flutuante\n",
    "# df['latitude'] = df['latitude'].astype(float)"
   ]
  },
  {
   "cell_type": "code",
   "execution_count": null,
   "id": "c234fb3b",
   "metadata": {},
   "outputs": [],
   "source": [
    "# encontrou um problema com os dados\n",
    "df[df.latitude=='33q.200088']"
   ]
  },
  {
   "cell_type": "code",
   "execution_count": null,
   "id": "9205c142",
   "metadata": {},
   "outputs": [],
   "source": [
    "# verifica dados\n",
    "df.iloc[43780: 43786]"
   ]
  },
  {
   "cell_type": "code",
   "execution_count": null,
   "id": "0fd6cba8",
   "metadata": {},
   "outputs": [],
   "source": [
    "# verifica linhas com latitude contendo a string q\n",
    "df[df['latitude'].str.contains('q')]"
   ]
  },
  {
   "cell_type": "code",
   "execution_count": null,
   "id": "1e6fad82",
   "metadata": {},
   "outputs": [],
   "source": [
    "# limpa latitude\n",
    "df['latitude'] = df['latitude'].str.replace('q','')"
   ]
  },
  {
   "cell_type": "code",
   "execution_count": null,
   "id": "c12d7afe",
   "metadata": {},
   "outputs": [],
   "source": [
    "# converte latitude para flutuante\n",
    "df['latitude'] = df['latitude'].astype(float)"
   ]
  },
  {
   "cell_type": "code",
   "execution_count": null,
   "id": "fa66bc2b",
   "metadata": {},
   "outputs": [],
   "source": [
    "# converte data e hora para objeto pandas datetime\n",
    "# df['datetime'] = pd.to_datetime(df['datetime'])"
   ]
  },
  {
   "cell_type": "code",
   "execution_count": null,
   "id": "a296a142",
   "metadata": {},
   "outputs": [],
   "source": [
    "# encontrou um problema\n",
    "df[df['datetime']=='10/11/2006 24:00']"
   ]
  },
  {
   "cell_type": "code",
   "execution_count": null,
   "id": "b15abb17",
   "metadata": {},
   "outputs": [],
   "source": [
    "# limpa data e hora\n",
    "df['datetime'] = df['datetime'].str.replace('24:00','23:59')"
   ]
  },
  {
   "cell_type": "code",
   "execution_count": null,
   "id": "e9ddf948",
   "metadata": {},
   "outputs": [],
   "source": [
    "# converte data e hora para objeto pandas datetime\n",
    "df['datetime'] = pd.to_datetime(df['datetime'])"
   ]
  },
  {
   "cell_type": "code",
   "execution_count": null,
   "id": "41f7fbee",
   "metadata": {},
   "outputs": [],
   "source": [
    "# criar variáveis ​​ano, mês, dia \n",
    "df['year'] = df['datetime'].dt.year\n",
    "df['month'] = df['datetime'].dt.month\n",
    "df['day'] = df['datetime'].dt.day"
   ]
  },
  {
   "cell_type": "code",
   "execution_count": null,
   "id": "71a317f1",
   "metadata": {},
   "outputs": [],
   "source": [
    "# verifica os tipos de dados novamente\n",
    "df.dtypes"
   ]
  },
  {
   "cell_type": "markdown",
   "id": "aed50c59",
   "metadata": {},
   "source": [
    "<div>\n",
    "<h2 class=\"breadcrumb\">Exploração e visualização de dados</h2><p>\n",
    "</div>"
   ]
  },
  {
   "cell_type": "markdown",
   "id": "549c224f",
   "metadata": {},
   "source": [
    "### Qual é a tendência geral de avistamentos de OVNIs ao longo do tempo?"
   ]
  },
  {
   "cell_type": "code",
   "execution_count": null,
   "id": "550f5df2",
   "metadata": {},
   "outputs": [],
   "source": [
    "fig, ax = plt.subplots(figsize=(14,5), constrained_layout=True)\n",
    "sns.histplot(data=df, x='datetime', kde=True);"
   ]
  },
  {
   "cell_type": "markdown",
   "id": "22183c90",
   "metadata": {},
   "source": [
    "### Qual ano tem o maior número de avistamentos de OVNIs?"
   ]
  },
  {
   "cell_type": "code",
   "execution_count": null,
   "id": "9b6b7ccd",
   "metadata": {},
   "outputs": [],
   "source": [
    "df.year.value_counts()"
   ]
  },
  {
   "cell_type": "code",
   "execution_count": null,
   "id": "df5d152d",
   "metadata": {},
   "outputs": [],
   "source": [
    "fig, ax = plt.subplots(figsize=(15,5), constrained_layout=True)\n",
    "sns.countplot(data=df[df.year>1980], x='year');\n",
    "ax.set_xlabel(\"Year\");\n",
    "plt.xticks(rotation=90);\n",
    "ax.grid()\n"
   ]
  },
  {
   "cell_type": "code",
   "execution_count": null,
   "id": "7b86e372",
   "metadata": {},
   "outputs": [],
   "source": [
    "df.head()"
   ]
  },
  {
   "cell_type": "markdown",
   "id": "fea19d4e",
   "metadata": {},
   "source": [
    "### Qual dia do mês tem o maior número de avistamentos de OVNIs?"
   ]
  },
  {
   "cell_type": "code",
   "execution_count": null,
   "id": "713511b1",
   "metadata": {
    "scrolled": true
   },
   "outputs": [],
   "source": [
    "df.day.value_counts()"
   ]
  },
  {
   "cell_type": "code",
   "execution_count": null,
   "id": "114ec4c3",
   "metadata": {},
   "outputs": [],
   "source": [
    "fig, ax = plt.subplots(figsize=(14,5), constrained_layout=True)\n",
    "sns.countplot(data=df, x='day');\n",
    "ax.set_xlabel(\"Day of month\");\n",
    "for p in ax.patches:\n",
    "    ax.annotate(p.get_height(),  (p.get_x(), p.get_height()));"
   ]
  },
  {
   "cell_type": "markdown",
   "id": "ffbc2805",
   "metadata": {},
   "source": [
    "### Qual mês do ano tem o maior número de avistamentos de OVNIs?"
   ]
  },
  {
   "cell_type": "code",
   "execution_count": null,
   "id": "7a67c64b",
   "metadata": {},
   "outputs": [],
   "source": [
    "df.month.value_counts()"
   ]
  },
  {
   "cell_type": "code",
   "execution_count": null,
   "id": "b6bcf88c",
   "metadata": {},
   "outputs": [],
   "source": [
    "fig, ax = plt.subplots(figsize=(14,5), constrained_layout=True)\n",
    "sns.countplot(data=df, x='month');\n",
    "ax.set_xlabel(\"Month of year\");\n",
    "for p in ax.patches:\n",
    "    ax.annotate(p.get_height(),  (p.get_x()+0.2, p.get_height()));"
   ]
  },
  {
   "cell_type": "markdown",
   "id": "d60085c8",
   "metadata": {},
   "source": [
    "### Qual país tem o maior número de avistamentos de OVNIs?"
   ]
  },
  {
   "cell_type": "code",
   "execution_count": null,
   "id": "fb91ac02",
   "metadata": {},
   "outputs": [],
   "source": [
    "df.plot('longitude', 'latitude', kind='scatter', alpha=0.1);\n",
    "# there are other tools more approriate for geographical plotting that we will not cover here. "
   ]
  },
  {
   "cell_type": "code",
   "execution_count": null,
   "id": "ca598d98",
   "metadata": {},
   "outputs": [],
   "source": [
    "fig, ax = plt.subplots(figsize=(14,5), constrained_layout=True)\n",
    "sns.countplot(data=df, x='country');\n",
    "ax.set_xlabel(\"Country\");\n",
    "for p in ax.patches:\n",
    "    ax.annotate(p.get_height(),  (p.get_x()+0.3, p.get_height()));"
   ]
  },
  {
   "cell_type": "markdown",
   "id": "0fc3d456",
   "metadata": {},
   "source": [
    "### Existem diferenças gerais nas tendências por país?"
   ]
  },
  {
   "cell_type": "code",
   "execution_count": null,
   "id": "bceee52c",
   "metadata": {},
   "outputs": [],
   "source": [
    "fig, ax = plt.subplots(figsize=(14,5), constrained_layout=True)\n",
    "sns.kdeplot(data=df, x='datetime', hue='country');"
   ]
  },
  {
   "cell_type": "code",
   "execution_count": null,
   "id": "53a16c3c",
   "metadata": {},
   "outputs": [],
   "source": [
    "fig, ax = plt.subplots(figsize=(14,5), constrained_layout=True)\n",
    "for c in df['country'].unique():\n",
    "    sns.kdeplot(data=df[df.country==c], x='datetime', label=c, ax=ax);\n",
    "ax.legend();\n"
   ]
  },
  {
   "cell_type": "markdown",
   "id": "8b58e3f5",
   "metadata": {},
   "source": [
    "É a sua vez!\n",
    "\n",
    "Que outros insights você pode obter com este ou outro conjunto de dados escolhido?"
   ]
  },
  {
   "cell_type": "code",
   "execution_count": null,
   "id": "20900025",
   "metadata": {},
   "outputs": [],
   "source": []
  }
 ],
 "metadata": {
  "kernelspec": {
   "display_name": "anaconda-2024.02-py310",
   "language": "python",
   "name": "conda-env-anaconda-2024.02-py310-py"
  },
  "language_info": {
   "codemirror_mode": {
    "name": "ipython",
    "version": 3
   },
   "file_extension": ".py",
   "mimetype": "text/x-python",
   "name": "python",
   "nbconvert_exporter": "python",
   "pygments_lexer": "ipython3",
   "version": "3.10.14"
  }
 },
 "nbformat": 4,
 "nbformat_minor": 5
}
