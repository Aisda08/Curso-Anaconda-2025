{
 "cells": [
  {
   "cell_type": "markdown",
   "id": "a0584ebd",
   "metadata": {},
   "source": [
    "# Lidando com Dados Ausentes"
   ]
  },
  {
   "cell_type": "markdown",
   "id": "28b13b00",
   "metadata": {},
   "source": [
    "Por que um conjunto de dados pode apresentar valores ausentes? Às vezes, uma observação não pôde ser registrada por qualquer motivo, como um sensor ou instrumento quebrado ou um respondente de uma pesquisa que optou por não responder a uma pergunta. Infelizmente, o aprendizado de máquina e os modelos estatísticos geralmente não lidam bem com valores ausentes. Por esse motivo, você provavelmente considerará removê-los.\n",
    "\n",
    "Nesta seção, abordaremos como identificar e remover dados relacionados a valores ausentes.\n",
    "\n",
    "> Observe que você deve entender completamente por que os valores estão ausentes e rastrear a fonte que produziu os dados. Você também deve estar atento a quaisquer vieses de seleção que possam surgir devido aos dados ausentes. Por exemplo, se você remover registros de respondentes da pesquisa que não responderam a uma determinada pergunta... isso pode enviesar seus modelos em relação à população que optou por responder! Às vezes, é mais interessante perguntar por que os valores estão ausentes do que simplesmente ignorá-los."
   ]
  },
  {
   "cell_type": "markdown",
   "id": "17d7ea7b",
   "metadata": {},
   "source": [
    "Para configurar, vamos acessar um banco de dados SQLite e extrair os dados da tabela `WEATHER_MONITOR`. No entanto, analisaremos apenas uma região de estações, obtendo apenas registros com `LOCATION_ID` de `2`, `28` ou `48`, referentes ao mês de abril. Usaremos o SQL para fazer essa filtragem."
   ]
  },
  {
   "cell_type": "code",
   "execution_count": null,
   "id": "6a553272",
   "metadata": {},
   "outputs": [],
   "source": [
    "import urllib.request\n",
    "import sqlite3\n",
    "import pandas as pd \n",
    "\n",
    "# Baixe o banco de dados SQLite e conecte-se a ele\n",
    "urllib.request.urlretrieve(\"https://github.com/thomasnield/machine-learning-demo-data/blob/master/relational/company_operations.db?raw=true\", \"company_operations.db\") \n",
    "\n",
    "conn = sqlite3.connect('company_operations.db')\n",
    "\n",
    "df = pd.read_sql(\"\"\"\n",
    "SELECT * FROM WEATHER_MONITOR \n",
    "WHERE LOCATION_ID IN (2,28,48) \n",
    "AND strftime('%m', REPORT_DATE) = '04'\n",
    "\n",
    "\"\"\", conn, parse_dates=['REPORT_DATE'])\n",
    "df"
   ]
  },
  {
   "cell_type": "markdown",
   "id": "a9b509c4",
   "metadata": {},
   "source": [
    "> Se quiser aprender mais sobre SQL, confira o [curso Anaconda aqui](https://learning.anaconda.cloud/introduction-to-sql).\n",
    "\n",
    "Observe acima que a coluna `RAIN` possui valores `NaN`, o que significa que esses valores são `None` e estão ausentes. Há também um registro em que o valor `TEMPERATURE` está ausente. Vamos aprender algumas técnicas sobre como identificar e lidar com eles."
   ]
  },
  {
   "cell_type": "markdown",
   "id": "ab303180",
   "metadata": {},
   "source": [
    "## Rastreamento de valores ausentes"
   ]
  },
  {
   "cell_type": "markdown",
   "id": "0e44af0d",
   "metadata": {},
   "source": [
    "Para encontrar valores ausentes, podemos usar a função `isna()` em um dataframe."
   ]
  },
  {
   "cell_type": "code",
   "execution_count": null,
   "id": "614acc88",
   "metadata": {
    "scrolled": true
   },
   "outputs": [],
   "source": [
    "df.isna()"
   ]
  },
  {
   "cell_type": "markdown",
   "id": "df0ef9ac",
   "metadata": {},
   "source": [
    "Também podemos usar a função `any()` para ver quais colunas contêm valores ausentes."
   ]
  },
  {
   "cell_type": "code",
   "execution_count": null,
   "id": "7b1da5a3",
   "metadata": {},
   "outputs": [],
   "source": [
    "df.isna().any()"
   ]
  },
  {
   "cell_type": "markdown",
   "id": "bb9f60e7",
   "metadata": {},
   "source": [
    "Você também pode inverter o eixo para `any()` e obter uma série booleana informando se cada linha contém um valor ausente."
   ]
  },
  {
   "cell_type": "code",
   "execution_count": null,
   "id": "04206eda",
   "metadata": {},
   "outputs": [],
   "source": [
    "df.isna().any(axis=1)"
   ]
  },
  {
   "cell_type": "markdown",
   "id": "b1f3cc04",
   "metadata": {},
   "source": [
    "Observe que também existe uma contraparte `notna()` que inverte a condição e define os valores fornecidos como `True` e os valores ausentes como `False`. Há também os aliases `isnull()` e `notnull()`, que são apenas nomes diferentes para as mesmas operações.\n",
    "\n",
    "É claro que podemos pegar essa série booleana e passá-la para o getter `loc` para recuperar as colunas com valores `NaN`."
   ]
  },
  {
   "cell_type": "code",
   "execution_count": null,
   "id": "700ad0a2",
   "metadata": {
    "scrolled": true
   },
   "outputs": [],
   "source": [
    "df.loc[:, df.isna().any()]"
   ]
  },
  {
   "cell_type": "markdown",
   "id": "08a8feeb",
   "metadata": {},
   "source": [
    "Para encontrar valores ausentes em colunas específicas, podemos usar uma operação de filtragem com operadores lógicos. Aqui, encontramos todos os registros em que havia um valor `TEMPERATURA` ou `CHUVA` ausente."
   ]
  },
  {
   "cell_type": "code",
   "execution_count": null,
   "id": "a3281919",
   "metadata": {},
   "outputs": [],
   "source": [
    "df[df['TEMPERATURE'].isna() | df['RAIN'].isna()]"
   ]
  },
  {
   "cell_type": "markdown",
   "id": "8a0c6bb7",
   "metadata": {},
   "source": [
    "We can also filter for all records containing any missing values across all fields."
   ]
  },
  {
   "cell_type": "code",
   "execution_count": null,
   "id": "c3790046",
   "metadata": {},
   "outputs": [],
   "source": [
    "df[df.isna().any(axis=1)]"
   ]
  },
  {
   "cell_type": "markdown",
   "id": "ae891dd5",
   "metadata": {},
   "source": [
    "## Removendo linhas com valores ausentes"
   ]
  },
  {
   "cell_type": "markdown",
   "id": "50f0da8f",
   "metadata": {},
   "source": [
    "Como mencionado anteriormente, muitos modelos estatísticos e de aprendizado de máquina não toleram `NA`, `NaN` ou outros valores nulos ausentes. Se você entender por que eles estão ausentes e não achar que sua ausência influenciará significativamente seu modelo, poderá simplesmente remover os registros com valores ausentes.\n",
    "\n",
    "Você pode usar o operador `drop()` com lógica condicional, como aprendemos nas seções anteriores, mas também existe uma função `dropna()` útil para esse propósito.\n",
    "\n",
    "Abaixo, usamos `dropna()` para remover todos os registros com valores `NaN`. Observe que não estou usando o parâmetro `inplace=True` aqui, portanto, posso demonstrar outros exemplos posteriormente."
   ]
  },
  {
   "cell_type": "code",
   "execution_count": null,
   "id": "1269e3c7",
   "metadata": {},
   "outputs": [],
   "source": [
    "df.dropna(axis=0) # use inplace=True para substituir o dataframe atual"
   ]
  },
  {
   "cell_type": "markdown",
   "id": "2ef58279",
   "metadata": {},
   "source": [
    "Observe que os quatro registros com valores `NaN` para `RAIN` ou `TEMPERATURE` foram removidos. Também podemos fornecer apenas um `subconjunto` de índices a serem considerados para a remoção de valores nulos. Abaixo, removemos apenas os registros onde `NA` existe na coluna `RAIN`."
   ]
  },
  {
   "cell_type": "code",
   "execution_count": null,
   "id": "b5859880",
   "metadata": {},
   "outputs": [],
   "source": [
    "df.dropna(axis=0, subset=[\"RAIN\"])"
   ]
  },
  {
   "cell_type": "markdown",
   "id": "d6994d42",
   "metadata": {},
   "source": [
    "Se preferirmos descartar as colunas com valores `NaN`, podemos usar `axis=1`."
   ]
  },
  {
   "cell_type": "code",
   "execution_count": null,
   "id": "13aa0b33",
   "metadata": {
    "scrolled": true
   },
   "outputs": [],
   "source": [
    "df.dropna(axis=1)"
   ]
  },
  {
   "cell_type": "markdown",
   "id": "34d68a0c",
   "metadata": {},
   "source": [
    "## Substituindo Valores Ausentes"
   ]
  },
  {
   "cell_type": "markdown",
   "id": "69f878ce",
   "metadata": {},
   "source": [
    "Embora isso possa não fazer sentido do ponto de vista do aprendizado de máquina, pode haver momentos em que você queira substituir valores ausentes. Você pode fazer isso usando a função `fillna()`. Abaixo, substituímos todos os valores `na` em nossa tabela por `-1`. Infelizmente, não há um parâmetro `subset` para esta função, portanto, para atingir colunas específicas, você precisará extraí-las, aplicar a função `fillna()` e, em seguida, atribuí-las de volta."
   ]
  },
  {
   "cell_type": "code",
   "execution_count": null,
   "id": "3ded8d13",
   "metadata": {},
   "outputs": [],
   "source": [
    "df.fillna(value=-1, inplace=True)\n",
    "df"
   ]
  },
  {
   "cell_type": "markdown",
   "id": "0512c1bd",
   "metadata": {},
   "source": [
    "> Existem outros métodos que `fillna()` pode usar para preencher valores ausentes. [Leia a documentação do Pandas](https://pandas.pydata.org/docs/reference/api/pandas.DataFrame.fillna.html#pandas.DataFrame.fillna) para saber mais."
   ]
  },
  {
   "cell_type": "markdown",
   "id": "68830148",
   "metadata": {},
   "source": [
    "Por outro lado, pode haver momentos em que você queira substituir certos valores por `na`, como strings vazias ou strings de espaço reservado como `NULL`. Acabamos de transformar os valores `NaN` em `-1`. Vamos convertê-los de volta para `NaN` usando a função `replace()`."
   ]
  },
  {
   "cell_type": "code",
   "execution_count": null,
   "id": "67c63cf2",
   "metadata": {},
   "outputs": [],
   "source": [
    "from numpy import nan\n",
    "\n",
    "df.replace(-1, nan, inplace=True)\n",
    "df"
   ]
  },
  {
   "cell_type": "markdown",
   "id": "9122a73f",
   "metadata": {},
   "source": [
    "## Preencha os valores ausentes com a média"
   ]
  },
  {
   "cell_type": "markdown",
   "id": "79ae0e1d",
   "metadata": {},
   "source": [
    "Outra maneira de lidar com valores ausentes que pode ser mais adequada para aprendizado de máquina e modelos estatísticos é usar uma substituição de valor estatístico, como uma `mean` ou `median`.\n",
    "\n",
    "Vamos usar o `SimpleImputer` do scikit-learn e configurá-lo para usar a `média`."
   ]
  },
  {
   "cell_type": "code",
   "execution_count": null,
   "id": "29985c28",
   "metadata": {},
   "outputs": [],
   "source": [
    "from sklearn.impute import SimpleImputer\n",
    "\n",
    "imputer = SimpleImputer(strategy='mean')"
   ]
  },
  {
   "cell_type": "markdown",
   "id": "cb62a7c4",
   "metadata": {},
   "source": [
    "Vamos então aplicar os campos `TEMPERATURE` e `RAIN` ao imputador."
   ]
  },
  {
   "cell_type": "code",
   "execution_count": null,
   "id": "d34e910d",
   "metadata": {},
   "outputs": [],
   "source": [
    "transform_input = df[['TEMPERATURE','RAIN']]\n",
    "\n",
    "imputer.fit(transform_input)"
   ]
  },
  {
   "cell_type": "markdown",
   "id": "f67298c8",
   "metadata": {},
   "source": [
    "O `SimpleImputer` calculará a média para `RAIN` como `0.8585` e para `TEMPERATURE` como `59.740909`. Podemos então aplicar essas colunas com as médias substituindo os `NaN`s ao nosso dataframe."
   ]
  },
  {
   "cell_type": "code",
   "execution_count": null,
   "id": "cb9b1d8a",
   "metadata": {},
   "outputs": [],
   "source": [
    "# copia o dataframe do clima\n",
    "mean_df = df.copy() \n",
    "\n",
    "# aplica média às colunas TEMPERATURE e RAIN\n",
    "transform_output = imputer.transform(transform_input)\n",
    "mean_df[['TEMPERATURE','RAIN']] = transform_output\n",
    "mean_df"
   ]
  },
  {
   "cell_type": "markdown",
   "id": "88718322",
   "metadata": {},
   "source": [
    "Observe que há outras opções para o parâmetro `strategy`, incluindo 'mean', 'median', 'most_frequent' e 'constant'."
   ]
  },
  {
   "cell_type": "markdown",
   "id": "fd38ab9e",
   "metadata": {},
   "source": [
    "## Preencha os valores ausentes com o vizinho mais próximo"
   ]
  },
  {
   "cell_type": "markdown",
   "id": "835660a7",
   "metadata": {},
   "source": [
    "Outra opção para imputar um valor para substituir valores ausentes é utilizar o k-vizinho mais próximo (KNN), que funciona muito bem em muitos casos. Essencialmente, a ideia é encontrar pontos de dados próximos daquele com o valor ausente, considerando todos os campos. Esses registros vizinhos são então usados ​​para inferir uma estimativa para o valor ausente.\n",
    "\n",
    "Vamos usar o `KNNInputer` e os 5 vizinhos mais próximos. Uniformizaremos os pesos e informaremos para não ignorar valores `NaN`, definindo `metric` como `nan_euclidean`."
   ]
  },
  {
   "cell_type": "code",
   "execution_count": null,
   "id": "e917dc03",
   "metadata": {},
   "outputs": [],
   "source": [
    "from sklearn.impute import KNNImputer\n",
    "\n",
    "imputer = KNNImputer(n_neighbors=5, weights='uniform', metric='nan_euclidean')"
   ]
  },
  {
   "cell_type": "markdown",
   "id": "aadd4baf",
   "metadata": {},
   "source": [
    "Como estamos inferindo com base em outros campos, precisamos remover `ID`, `LOCATION_ID` e `REPORT_CODE`, pois não são úteis para o modelo KNN. São valores arbitrários ou gerados aleatoriamente e não têm valor preditivo. Também precisamos converter `REPORT_DATE` para um valor numérico. Felizmente, estamos trabalhando apenas com um mês, então vamos pegar apenas o dia do mês e essa será nossa conversão numérica."
   ]
  },
  {
   "cell_type": "code",
   "execution_count": null,
   "id": "1de2049d",
   "metadata": {},
   "outputs": [],
   "source": [
    "# copia o dataframe e remova duas colunas que não são úteis para modelagem\n",
    "knn_input = df.drop(['ID','REPORT_CODE','LOCATION_ID'],axis=1)\n",
    "\n",
    "# extrai o dia do mês e torne-o `REPORT_DATE`\n",
    "knn_input['REPORT_DATE'] = knn_input['REPORT_DATE'].dt.strftime('%d').astype(int)\n",
    "\n",
    "# ajusta o modelo knn\n",
    "imputer.fit(knn_input)\n",
    "knn_input"
   ]
  },
  {
   "cell_type": "markdown",
   "id": "1dc44c51",
   "metadata": {},
   "source": [
    "Por fim, vamos copiar o dataframe e aplicar a transformação às duas colunas. Os valores `RAIN` com índices de linha 5, 18 e 19 estavam ausentes, mas agora são `0.604`, `0.996` e `0.986`, respectivamente. O valor `TEMPERATURE` ausente do índice de linha 12 é inferido como `55.76`."
   ]
  },
  {
   "cell_type": "code",
   "execution_count": null,
   "id": "3973794a",
   "metadata": {},
   "outputs": [],
   "source": [
    "# copie o dataframe\n",
    "knn_output = df.copy()\n",
    "\n",
    "# aplica transformação knn à entrada\n",
    "knn_transform = imputer.transform(knn_input)\n",
    "\n",
    "# aplica somente as colunas TEMPERATURA e CHUVA de volta ao dataframe\n",
    "knn_output.loc[:,[\"TEMPERATURE\",\"RAIN\"]] = knn_transform[:,[1,3]]\n",
    "knn_output"
   ]
  },
  {
   "cell_type": "markdown",
   "id": "64e3ebae",
   "metadata": {},
   "source": [
    "## Exercício"
   ]
  },
  {
   "cell_type": "markdown",
   "id": "2d5a9465",
   "metadata": {},
   "source": [
    "O código abaixo contém um exemplo de dados do termostato. Complete o código abaixo para que a mediana seja imputada para os valores ausentes dos campos `temperatura` e `umidade`."
   ]
  },
  {
   "cell_type": "code",
   "execution_count": null,
   "id": "692528b5",
   "metadata": {},
   "outputs": [],
   "source": [
    "import pandas as pd\n",
    "from sklearn.impute import SimpleImputer\n",
    "\n",
    "df = pd.DataFrame({\n",
    "    \"record_id\" : ['OVUTJE','OVUTJE','WI4QEX','WI4QEX','FS40NF','O64LIT','U888EA'],\n",
    "    \"temperature\" : [65.2, 65.2, None, 57.2, 57.4, None, 27.5], \n",
    "    \"humidity\" : [.8, None, .7, .6, .7, .7, .8]\n",
    "})\n",
    "\n",
    "# criar e ajustar imputador\n",
    "imputer = ?\n",
    "transform_input = df[['temperature','humidity']]\n",
    "imputer.fit(?)\n",
    "\n",
    "# aplicar média à coluna de temperatura e umidade\n",
    "transform_output = imputer.transform(?)\n",
    "df[['temperature','humidity']] = transform_output\n",
    "df"
   ]
  },
  {
   "cell_type": "markdown",
   "id": "5a480b06",
   "metadata": {},
   "source": [
    "### RESPOSTA A BAIXO\n",
    "\n",
    "|<br>\n",
    "|<br>\n",
    "|<br>\n",
    "|<br>\n",
    "|<br>\n",
    "|<br>\n",
    "|<br>\n",
    "|<br>\n",
    "|<br>\n",
    "|<br>\n",
    "|<br>\n",
    "|<br>\n",
    "|<br>\n",
    "|<br>\n",
    "|<br>\n",
    "|<br>\n",
    "|<br>\n",
    "|<br>\n",
    "|<br>\n",
    "|<br>\n",
    "|<br>\n",
    "|<br>\n",
    "|<br>\n",
    "v "
   ]
  },
  {
   "cell_type": "code",
   "execution_count": null,
   "id": "183215e1",
   "metadata": {},
   "outputs": [],
   "source": [
    "import pandas as pd\n",
    "from sklearn.impute import SimpleImputer\n",
    "\n",
    "df = pd.DataFrame({\n",
    "    \"record_id\" : ['OVUTJE','OVUTJE','WI4QEX','WI4QEX','FS40NF','O64LIT','U888EA'],\n",
    "    \"temperature\" : [65.2, 65.2, None, 57.2, 57.4, None, 27.5], \n",
    "    \"humidity\" : [.8, None, .7, .6, .7, .7, .8]\n",
    "})\n",
    "\n",
    "# criar e ajustar imputador\n",
    "imputer = SimpleImputer(strategy='median')\n",
    "transform_input = df[['temperature','humidity']]\n",
    "imputer.fit(transform_input)\n",
    "\n",
    "# aplicar média às colunas TEMPERATURE e RAIN\n",
    "transform_output = imputer.transform(transform_input)\n",
    "df[['temperature','humidity']] = transform_output\n",
    "df"
   ]
  }
 ],
 "metadata": {
  "kernelspec": {
   "display_name": "Python 3",
   "language": "python",
   "name": "python3"
  },
  "language_info": {
   "codemirror_mode": {
    "name": "ipython",
    "version": 3
   },
   "file_extension": ".py",
   "mimetype": "text/x-python",
   "name": "python",
   "nbconvert_exporter": "python",
   "pygments_lexer": "ipython3",
   "version": "3.10.0"
  }
 },
 "nbformat": 4,
 "nbformat_minor": 5
}
