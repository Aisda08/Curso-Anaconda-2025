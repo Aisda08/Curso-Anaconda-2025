{
 "cells": [
  {
   "cell_type": "markdown",
   "id": "12b0a020",
   "metadata": {},
   "source": [
    "# Tratamento de Texto"
   ]
  },
  {
   "cell_type": "markdown",
   "id": "8d460bfd",
   "metadata": {},
   "source": [
    "Quando você pensa em limpeza de dados, uma tarefa que provavelmente vem à mente é a manipulação de texto. Afinal, quando as pessoas inserem dados em um formulário ou diferentes convenções de formatação são anexadas, você provavelmente se verá padronizando os dados e tentando torná-los consistentes. Você também buscará valores que se perderam na tradução e estão inutilizáveis.\n",
    "\n",
    "Nesta seção, abordaremos uma variedade de técnicas para manipular texto e executar tarefas como localizar, substituir e dividir valores. Ao longo do caminho, aprenderemos algumas expressões regulares para realizar o reconhecimento de padrões nessas tarefas.\n",
    "\n",
    "Primeiro, vamos trazer nossas dependências e analisar este conjunto de dados do GitHub. Observe como temos algumas informações de contato, bem como um log de endereços IP de diferentes usuários. Aprenderemos como executar algumas operações de texto comuns para limpar este conjunto de dados e garantir alguma consistência."
   ]
  },
  {
   "cell_type": "code",
   "execution_count": null,
   "id": "ac072dd3",
   "metadata": {
    "scrolled": true
   },
   "outputs": [],
   "source": [
    "import pandas as pd \n",
    "import numpy as np \n",
    "\n",
    "url = 'https://raw.githubusercontent.com/thomasnield/machine-learning-demo-data/master/unprocessed/contacts.csv'\n",
    "df = pd.read_csv(url)\n",
    "\n",
    "df"
   ]
  },
  {
   "cell_type": "markdown",
   "id": "d8c94d63",
   "metadata": {},
   "source": [
    "Estas são as operações de string comuns que podemos usar no Pandas. Observe que elas normalmente aceitam uma expressão regular como padrão, e abordaremos isso.\n",
    "\n",
    "| Função | Descrição |\n",
    "|------------|-----------------------------------------------------------------------------|\n",
    "| `count()` | Conta o número de instâncias em um padrão |\n",
    "| `contains()` | Retorna um valor booleano True/False indicando se uma string contém um padrão |\n",
    "| `replace()` | Substitui os padrões encontrados em uma string por outra string especificada. |\n",
    "| `fullmatch()` | Determina se a string inteira corresponde ao padrão |\n",
    "| `split()` | Divide uma string em strings separadas usando o padrão como separador |\n",
    "| `extract()` | Encontra todas as ocorrências de um padrão e as agrupa em colunas |\n",
    "| `findall()` | Encontra todas as ocorrências de um padrão e as agrupa em uma lista |"
   ]
  },
  {
   "cell_type": "markdown",
   "id": "ea5e3a21",
   "metadata": {},
   "source": [
    "Mas primeiro, precisamos abordar alguns conceitos básicos sobre expressões regulares."
   ]
  },
  {
   "cell_type": "markdown",
   "id": "0910cac3",
   "metadata": {},
   "source": [
    "## Noções básicas de expressões regulares"
   ]
  },
  {
   "cell_type": "markdown",
   "id": "83c9d6cd",
   "metadata": {},
   "source": [
    "Se você já usou curingas para pesquisar padrões de texto, expressões regulares são semelhantes. **Expressões regulares** são uma linguagem de programação especial, especificamente para a correspondência de padrões de texto complexos. Elas permitem a correspondência, divisão e substituição de texto com base em uma sintaxe de padrão padronizada. Você pode encontrá-las implementadas em centenas de plataformas, incluindo Python, Java e SQL. Até mesmo IDEs e editores de texto permitem a busca de texto usando expressões regulares como VSCode, PyCharm e Notepad++. Elas são tão úteis que o Pandas as torna a convenção de padrões padrão para muitos dos métodos de string mencionados anteriormente.\n",
    "\n",
    "Aprenderemos apenas o suficiente sobre expressões regulares para concluir este caderno.\n",
    "\n",
    "> Você pode consultar a documentação do Python sobre o pacote `re` aqui: https://docs.python.org/3/library/re.html. Para um tutorial mais completo sobre expressões regulares, confira meu artigo com a O'Reilly: https://www.oreilly.com/content/an-introduction-to-regular-expressions/\n",
    "\n",
    "Vamos primeiro usar a biblioteca `re` do Python, que implementa expressões regulares. Vamos testar nossas expressões regulares com a função `fullmatch()` e envolvê-la em uma função chamada `regex_match()`, que simplesmente imprimirá se o padrão corresponde à string. Ela também fará uma formatação conveniente da cor da fonte na saída."
   ]
  },
  {
   "cell_type": "code",
   "execution_count": null,
   "id": "8813b28d",
   "metadata": {},
   "outputs": [],
   "source": [
    "import re\n",
    "\n",
    "def red(str): \n",
    "    return '\\033[91m' + str + '\\033[0m'\n",
    "\n",
    "def green(str): \n",
    "    return '\\033[92m' + str + '\\033[0m'\n",
    "\n",
    "def regex_match(string, pattern):\n",
    "    result = re.fullmatch(pattern=pattern, string=string)\n",
    "\n",
    "    if result:\n",
    "        print(f\"{green(string)} Matches {green(pattern)}\")\n",
    "    else:\n",
    "        print(f\"{red(string)} Doesn't Match {red(pattern)}\")"
   ]
  },
  {
   "cell_type": "markdown",
   "id": "c33ffbf6",
   "metadata": {},
   "source": [
    "Para corresponder a um único caractere alfabético maiúsculo, use o intervalo de caracteres `[A-Z]` como espaço reservado para um único caractere. Observe como ele diferencia maiúsculas de minúsculas e você também pode definir intervalos arbitrários de letras."
   ]
  },
  {
   "cell_type": "code",
   "execution_count": null,
   "id": "5dc0fdc8",
   "metadata": {},
   "outputs": [],
   "source": [
    "regex_match(\"C\", \"[A-Z]\") # Match\n",
    "regex_match(\"F\", \"[A-C]\") # Doesn't Match\n",
    "regex_match(\"3\", \"[A-Z]\") # Doesn't Match \n",
    "regex_match(\"c\", \"[A-Z]\") # Doesn't Match \n",
    "regex_match(\"-\", \"[A-Z]\") # Doesn't Match "
   ]
  },
  {
   "cell_type": "markdown",
   "id": "7bfbc918",
   "metadata": {},
   "source": [
    "Para corresponder letras maiúsculas e minúsculas, use `[A-Za-z]`."
   ]
  },
  {
   "cell_type": "code",
   "execution_count": null,
   "id": "885ad911",
   "metadata": {
    "scrolled": true
   },
   "outputs": [],
   "source": [
    "regex_match(\"C\", \"[A-ZA-z]\") # Match\n",
    "regex_match(\"c\", \"[A-Za-z]\") # Matches\n",
    "regex_match(\"3\", \"[A-Za-z]\") # Doesn't Match "
   ]
  },
  {
   "cell_type": "markdown",
   "id": "8e02ab81",
   "metadata": {},
   "source": [
    "Também podemos usar `[0-9]` para especificar um dígito válido de 0 a 9, ou qualquer intervalo arbitrário de um único dígito."
   ]
  },
  {
   "cell_type": "code",
   "execution_count": null,
   "id": "f61a566d",
   "metadata": {},
   "outputs": [],
   "source": [
    "regex_match(\"9\", \"[0-9]\") # Match\n",
    "regex_match(\"c\", \"[A-Za-z0-9]\") # Match\n",
    "regex_match(\"9\", \"[3-6]\") # Doesn't Match\n",
    "regex_match(\"C\", \"[0-9]\") # Doesn't Match"
   ]
  },
  {
   "cell_type": "markdown",
   "id": "8f6c44e2",
   "metadata": {},
   "source": [
    "Você também pode especificar um conjunto de letras, dígitos e caracteres. Abaixo, qualificamos apenas os caracteres A, C, F, 2, 8 ou 9."
   ]
  },
  {
   "cell_type": "code",
   "execution_count": null,
   "id": "0d935f8e",
   "metadata": {},
   "outputs": [],
   "source": [
    "regex_match(\"9\", \"[ACF289]\") # Match\n",
    "regex_match(\"C\", \"[ACF289]\") # Match\n",
    "regex_match(\"7\", \"[ACF289]\") # Doesn't Match\n",
    "regex_match(\"G\", \"[ACF289]\") # Doesn't Match"
   ]
  },
  {
   "cell_type": "markdown",
   "id": "25af6022",
   "metadata": {},
   "source": [
    "Letras e dígitos fora de um intervalo de caracteres `[ ]` são tratados literalmente como letras e dígitos em expressões regulares. Eles corresponderão apenas a esses valores."
   ]
  },
  {
   "cell_type": "code",
   "execution_count": null,
   "id": "f867be41",
   "metadata": {},
   "outputs": [],
   "source": [
    "regex_match(\"Texas\", \"Texas\") # Match\n",
    "regex_match(\"Texas\", \"Arizona\") # Doesn't Match \n",
    "regex_match(\"Texas\", \"TEXAS\") # Doesn't Match "
   ]
  },
  {
   "cell_type": "markdown",
   "id": "1fbde604",
   "metadata": {},
   "source": [
    "Se quiser corresponder 3 letras maiúsculas do alfabeto, escreva `[A-Z]` três vezes ou coloque `{3}` repetições ao lado do intervalo de caracteres. Você também pode usar `{2,3}` para especificar um mínimo de 2 repetições e um máximo de `3`."
   ]
  },
  {
   "cell_type": "code",
   "execution_count": null,
   "id": "0524fd4f",
   "metadata": {},
   "outputs": [],
   "source": [
    "regex_match(\"AEH\", \"[A-Z][A-Z][A-Z]\") # Match\n",
    "regex_match(\"AFH\", \"[A-Z]{3}\") # Match\n",
    "regex_match(\"AFH\", \"[A-Z]{2,3}\") # Match\n",
    "regex_match(\"AF\", \"[A-Z]{2,3}\") # Match\n",
    "regex_match(\"A9H\", \"[A-Z]{2,3}\") # Doesn't Match"
   ]
  },
  {
   "cell_type": "markdown",
   "id": "0c8135bf",
   "metadata": {},
   "source": [
    "Se quiser corresponder a uma ou mais instâncias de um padrão, coloque um `+` ao lado dele. Por exemplo, `[A-Z]+` corresponderá a uma ou mais letras maiúsculas do alfabeto."
   ]
  },
  {
   "cell_type": "code",
   "execution_count": null,
   "id": "f88d97f1",
   "metadata": {},
   "outputs": [],
   "source": [
    "regex_match(\"AEH\", \"[A-Z]+\") # Match\n",
    "regex_match(\"AEHSDHHHNHEHHBV\", \"[A-Z]+\") # Match\n",
    "regex_match(\"93572\", \"[0-9]+\") # Match\n",
    "regex_match(\"AEHSDHHHNHEHHBV\", \"[A-Z0-9]+\") # Match\n",
    "regex_match(\"93572\", \"[A-Z]+\") # Doesn't Match\n",
    "regex_match(\"AEHSDHHHNHEHHBV\", \"[0-9]+\") # Doesn't Match"
   ]
  },
  {
   "cell_type": "markdown",
   "id": "4b6ae91d",
   "metadata": {},
   "source": [
    "Outro quantificador útil é o `?`, que corresponde a 0 ou 1 instância de um padrão. Por exemplo, podemos usá-lo para especificar um dígito opcional antes de duas letras maiúsculas."
   ]
  },
  {
   "cell_type": "code",
   "execution_count": null,
   "id": "94c95639",
   "metadata": {},
   "outputs": [],
   "source": [
    "regex_match(\"2GH\", \"[0-9]?[A-Z]{2}\") # Match\n",
    "regex_match(\"GH\", \"[0-9]?[A-Z]{2}\") # Match\n",
    "regex_match(\"2H\", \"[0-9]?[A-Z]{2}\") # No Match\n",
    "regex_match(\"22H\", \"[0-9]?[A-Z]{2}\") # No Match"
   ]
  },
  {
   "cell_type": "markdown",
   "id": "e6accc24",
   "metadata": {},
   "source": [
    "O ponto `.` representa um caractere curinga, correspondendo a qualquer caractere único, incluindo caracteres não alfanuméricos, como pontuação e símbolos. Se você pretende corresponder a um ponto literal, use uma barra de escape antes dele, `\\.`.\n",
    "\n",
    "Com um caractere curinga, você também pode colocar um quantificador como `{3}` ou `+` depois dele para especificar 3 caracteres ou um ou mais caracteres, respectivamente."
   ]
  },
  {
   "cell_type": "code",
   "execution_count": null,
   "id": "babcbdc7",
   "metadata": {},
   "outputs": [],
   "source": [
    "regex_match(\"A#H\", \"...\") # Match\n",
    "regex_match(\"A#H\", \".{3}\") # Match \n",
    "regex_match(\"A#H\", \".+\") # Match\n",
    "regex_match(\"AH\", \".{3}\") # Doesn't Match"
   ]
  },
  {
   "cell_type": "markdown",
   "id": "3e061210",
   "metadata": {},
   "source": [
    "Por fim, o último operador que precisamos conhecer é o agrupamento de parênteses `()`, bem como o alternador `|`. Se eu quiser corresponder apenas conexões de aeroporto de `ABQ` ou `DAL` a `HOU` ou `PHX`, posso expressar isso com `(ABQ|DAL)-(HOU|PHX)`."
   ]
  },
  {
   "cell_type": "code",
   "execution_count": null,
   "id": "d7177933",
   "metadata": {},
   "outputs": [],
   "source": [
    "regex_match(\"ABQ\", \"(ABQ|DAL)\") # Match \n",
    "regex_match(\"ABQ-HOU\", \"(ABQ|DAL)-(HOU|PHX)\") # Match \n",
    "regex_match(\"DAL-HOU\", \"(ABQ|DAL)-(HOU|PHX)\") # Match \n",
    "regex_match(\"DAL-PHX\", \"(ABQ|DAL)-(HOU|PHX)\") # Match \n",
    "regex_match(\"PHX-DAL\", \"(ABQ|DAL)-(HOU|PHX)\") # Doesn't Match \n",
    "regex_match(\"MDW-DAL\", \"(ABQ|DAL)-(HOU|PHX)\") # Doesn't Match \n"
   ]
  },
  {
   "cell_type": "markdown",
   "id": "c1525cb9",
   "metadata": {},
   "source": [
    "## Correspondências parciais de strings"
   ]
  },
  {
   "cell_type": "markdown",
   "id": "2c24cf3e",
   "metadata": {},
   "source": [
    "Digamos que queremos encontrar todos os registros com um `Email` contendo o domínio `outlook.com`. Isso é bastante fácil usando a função `contains()` na propriedade `str`. Observe que a string padrão é tratada como uma expressão regular, portanto, precisamos escapar o ponto `.` com uma barra invertida `\\.`. Caso contrário, ele será tratado como um curinga."
   ]
  },
  {
   "cell_type": "code",
   "execution_count": null,
   "id": "ce026547",
   "metadata": {},
   "outputs": [],
   "source": [
    "df['Email'].str.contains('outlook\\.com', regex=True)"
   ]
  },
  {
   "cell_type": "markdown",
   "id": "b77f1e87",
   "metadata": {},
   "source": [
    "Como um dos valores para e-mail é `NaN`, precisaremos tratá-lo se quisermos usá-lo como máscara de filtragem. Podemos fazer isso passando `na = False` para a função `contains()`. Isso fará com que os valores ausentes sejam tratados como `False`."
   ]
  },
  {
   "cell_type": "code",
   "execution_count": null,
   "id": "7d5e5b7c",
   "metadata": {
    "scrolled": true
   },
   "outputs": [],
   "source": [
    "df[df['Email'].str.contains('outlook\\.com', regex=True, na=False)]"
   ]
  },
  {
   "cell_type": "markdown",
   "id": "2a10f882",
   "metadata": {},
   "source": [
    "## Correspondências de sequência completa"
   ]
  },
  {
   "cell_type": "markdown",
   "id": "fbbe75b7",
   "metadata": {},
   "source": [
    "Digamos que queremos rastrear endereços IP inválidos. Embora possamos [ser extremamente específicos e elaborados com padrões IPv4](https://stackoverflow.com/questions/5284147/validating-ipv4-addresses-with-regexp), vamos simplificar.\n",
    "\n",
    "Abaixo está uma expressão regular simplista para corresponder a um endereço IP. Usamos a função `fullmatch()` para qualificar a string do endereço IP por completo."
   ]
  },
  {
   "cell_type": "code",
   "execution_count": null,
   "id": "ccbed4e3",
   "metadata": {},
   "outputs": [],
   "source": [
    "ipAddressRegex = r'[0-9]{1,3}\\.[0-9]{1,3}\\.[0-9]{1,3}\\.[0-9]{1,3}'\n",
    "\n",
    "df['IP_ADDRESS'].str.fullmatch(ipAddressRegex)"
   ]
  },
  {
   "cell_type": "markdown",
   "id": "39f7214e",
   "metadata": {},
   "source": [
    "> Normalmente, você só precisa tornar sua expressão regular específica o suficiente para capturar o que você está procurando nos dados. Se você não conhece bem seus dados, será melhor ser mais específico.\n",
    "\n",
    "Vamos usar para qualificar endereços IP que não correspondem a uma condição. De fato, temos um endereço IP quebrado que excede 4 dígitos entre os separadores `.`."
   ]
  },
  {
   "cell_type": "code",
   "execution_count": null,
   "id": "afa566e2",
   "metadata": {},
   "outputs": [],
   "source": [
    "df[df['IP_ADDRESS'].str.fullmatch(ipAddressRegex) == False]"
   ]
  },
  {
   "cell_type": "markdown",
   "id": "9914f60b",
   "metadata": {},
   "source": [
    "Aqui está outro exemplo de como encontrar números de telefone inválidos nos EUA. Observe como qualificamos os 3 primeiros dígitos, depois os 3 seguintes e, por fim, os 4 dígitos finais. Variantes que podem ou não conter hífens `-`, parênteses para o código de área `( )` e espaços. Com certeza, encontramos três números de telefone corrompidos."
   ]
  },
  {
   "cell_type": "code",
   "execution_count": null,
   "id": "8a57a3fc",
   "metadata": {
    "scrolled": true
   },
   "outputs": [],
   "source": [
    "df[df['Phone'].str.fullmatch(r\"\\(?[0-9]{3}\\)?[ -]?[0-9]{3}[ -]?[0-9]{4}\") == False]"
   ]
  },
  {
   "cell_type": "markdown",
   "id": "54210dcc",
   "metadata": {},
   "source": [
    "Vamos em frente e incluir apenas linhas em nosso dataframe que tenham números de telefone e endereços IP válidos."
   ]
  },
  {
   "cell_type": "code",
   "execution_count": null,
   "id": "3f275e1b",
   "metadata": {},
   "outputs": [],
   "source": [
    "df = df[df['Phone'].str.fullmatch(r\"\\(?[0-9]{3}\\)?[ -]?[0-9]{3}[ -]?[0-9]{4}\")]\n",
    "\n",
    "df = df[df['IP_ADDRESS'].str.fullmatch(ipAddressRegex)]\n",
    "\n",
    "df"
   ]
  },
  {
   "cell_type": "markdown",
   "id": "668a2162",
   "metadata": {},
   "source": [
    "Por fim, vamos identificar todos os endereços de e-mail inválidos. Um e-mail precisa ter uma série de caracteres alfanuméricos (com alguns símbolos permitidos, como o ponto `.`), seguidos do símbolo `@` e, em seguida, do domínio. Também trataremos `na` como falso para capturar endereços de e-mail ausentes."
   ]
  },
  {
   "cell_type": "code",
   "execution_count": null,
   "id": "cd7db943",
   "metadata": {},
   "outputs": [],
   "source": [
    "df[df['Email'].str.fullmatch(r'[.A-Za-z0-9]+@[A-Za-z0-9]+\\.[A-Za-z]+', na=False) == False]"
   ]
  },
  {
   "cell_type": "markdown",
   "id": "125ab3c9",
   "metadata": {},
   "source": [
    "Então, encontramos dois endereços de e-mail ausentes ou corrompidos. O e-mail da Lily não possui um domínio! Removeremos essas duas instâncias do dataframe."
   ]
  },
  {
   "cell_type": "code",
   "execution_count": null,
   "id": "c3c51638",
   "metadata": {},
   "outputs": [],
   "source": [
    "df = df[df['Email'].str.fullmatch(r'[.A-Za-z0-9]+@[A-Za-z0-9]+\\.[A-Za-z]+', na=False)]\n",
    "\n",
    "df"
   ]
  },
  {
   "cell_type": "markdown",
   "id": "04736781",
   "metadata": {},
   "source": [
    "## Encontrando todas as correspondências"
   ]
  },
  {
   "cell_type": "markdown",
   "id": "6946b8c8",
   "metadata": {},
   "source": [
    "Também podemos usar `findall()` para procurar todas as correspondências parciais de uma expressão regular e retorná-las como uma série. Abaixo, extraímos todos os domínios de e-mail da coluna `Email`."
   ]
  },
  {
   "cell_type": "code",
   "execution_count": null,
   "id": "9b65eca4",
   "metadata": {},
   "outputs": [],
   "source": [
    "df['Email'].str.findall(r'[A-Za-z0-9]+\\.[A-Za-z]{3}$')"
   ]
  },
  {
   "cell_type": "markdown",
   "id": "ec47f27f",
   "metadata": {},
   "source": [
    "Se quisermos reunir os domínios exclusivos, podemos unir as \"listas\" de itens individuais em uma string e então qualificar os valores exclusivos."
   ]
  },
  {
   "cell_type": "code",
   "execution_count": null,
   "id": "0ac0f1f1",
   "metadata": {},
   "outputs": [],
   "source": [
    "df['Email'].str.findall(r'[A-Za-z0-9]+\\.[A-Za-z]{3}$').str.join(\"\").unique()"
   ]
  },
  {
   "cell_type": "markdown",
   "id": "8de4cd34",
   "metadata": {},
   "source": [
    "## Substituindo Correspondências"
   ]
  },
  {
   "cell_type": "markdown",
   "id": "6f783bd2",
   "metadata": {},
   "source": [
    "Digamos que queremos limpar números de telefone removendo quaisquer traços `-`, parênteses `()` e espaços ` `. Podemos fazer isso usando um conjunto de caracteres de expressão regular `[-()]`. Observe que precisamos tornar o traço `-` o primeiro caractere para que ele não seja confundido com um operador de intervalo. Também adicionamos um espaço `` para capturar espaços."
   ]
  },
  {
   "cell_type": "code",
   "execution_count": null,
   "id": "bace49c6",
   "metadata": {},
   "outputs": [],
   "source": [
    "df['Phone'].str.replace(r\"[- ()]\", \"\", regex=True)"
   ]
  },
  {
   "cell_type": "markdown",
   "id": "30b5db23",
   "metadata": {},
   "source": [
    "## Dividindo Texto"
   ]
  },
  {
   "cell_type": "markdown",
   "id": "c4be2f72",
   "metadata": {},
   "source": [
    "Uma ferramenta poderosa que podemos usar para dividir texto em colunas é a função `str.split()`. Fornecemos um padrão que pode ser um separador (como vírgulas `,`) ou um padrão de expressão regular completo.\n",
    "\n",
    "Veja como podemos separar os domínios de e-mail em colunas separadas. Podemos então renomear essas colunas e adicioná-las de volta ao nosso dataframe."
   ]
  },
  {
   "cell_type": "code",
   "execution_count": null,
   "id": "d7e25d71",
   "metadata": {},
   "outputs": [],
   "source": [
    "df['Email'].str.split(\"@\", expand=True, regex=False)"
   ]
  },
  {
   "cell_type": "markdown",
   "id": "09c8a159",
   "metadata": {},
   "source": [
    "Ao usar recursos de expressões regulares, como previsões, você obtém recursos de divisão mais poderosos com base nos caracteres adjacentes. Isso está além do escopo deste notebook."
   ]
  },
  {
   "cell_type": "markdown",
   "id": "c01a386c",
   "metadata": {},
   "source": [
    "## Exercício"
   ]
  },
  {
   "cell_type": "markdown",
   "id": "4c0e2243",
   "metadata": {},
   "source": [
    "Complete o código abaixo substituindo o ponto de interrogação `?`. Substitua-o por uma operação de expressão regular para identificar registros sem um número de rua no dataframe."
   ]
  },
  {
   "cell_type": "code",
   "execution_count": null,
   "id": "7bb10b14",
   "metadata": {
    "scrolled": true
   },
   "outputs": [],
   "source": [
    "import pandas as pd\n",
    "\n",
    "df = pd.DataFrame({\n",
    "    \"CUSTOMER_NAME\" : [\"Rex Tooling\", \"Prairie Construction\", \"Banke Logistics\"],\n",
    "    \"STREET_ADDRESS\" : [\"147 Collie Way\", \"56 Samson Dr\", \"Elijah Blvd\"]\n",
    "})\n",
    "\n",
    "df[? == False]"
   ]
  },
  {
   "cell_type": "markdown",
   "id": "f3b43f03",
   "metadata": {},
   "source": [
    "### RESPOSTA A BAIXO\n",
    "\n",
    "|<br>\n",
    "|<br>\n",
    "|<br>\n",
    "|<br>\n",
    "|<br>\n",
    "|<br>\n",
    "|<br>\n",
    "|<br>\n",
    "|<br>\n",
    "|<br>\n",
    "|<br>\n",
    "|<br>\n",
    "|<br>\n",
    "|<br>\n",
    "|<br>\n",
    "|<br>\n",
    "|<br>\n",
    "|<br>\n",
    "|<br>\n",
    "|<br>\n",
    "|<br>\n",
    "|<br>\n",
    "|<br>\n",
    "v "
   ]
  },
  {
   "cell_type": "code",
   "execution_count": null,
   "id": "f4195dcd",
   "metadata": {},
   "outputs": [],
   "source": [
    "import pandas as pd\n",
    "\n",
    "df = pd.DataFrame({\n",
    "    \"CUSTOMER_NAME\" : [\"Rex Tooling\", \"Prairie Construction\", \"Banke Logistics\"],\n",
    "    \"STREET_ADDRESS\" : [\"147 Collie Way\", \"56 Samson Dr\", \"Elijah Blvd\"]\n",
    "})\n",
    "\n",
    "df[df[\"STREET_ADDRESS\"].str.fullmatch(\"[0-9]+ [A-Za-z0-9]+ (Way|Blvd|Dr|St)\") == False]"
   ]
  }
 ],
 "metadata": {
  "kernelspec": {
   "display_name": "anaconda-2024.02-py310",
   "language": "python",
   "name": "conda-env-anaconda-2024.02-py310-py"
  },
  "language_info": {
   "codemirror_mode": {
    "name": "ipython",
    "version": 3
   },
   "file_extension": ".py",
   "mimetype": "text/x-python",
   "name": "python",
   "nbconvert_exporter": "python",
   "pygments_lexer": "ipython3",
   "version": "3.10.14"
  }
 },
 "nbformat": 4,
 "nbformat_minor": 5
}
