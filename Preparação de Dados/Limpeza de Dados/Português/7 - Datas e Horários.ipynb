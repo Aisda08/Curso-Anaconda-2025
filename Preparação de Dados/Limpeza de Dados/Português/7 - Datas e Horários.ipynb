{
 "cells": [
  {
   "cell_type": "markdown",
   "id": "a5c1565b",
   "metadata": {},
   "source": [
    "# Datas e horários"
   ]
  },
  {
   "cell_type": "markdown",
   "id": "4d2e07fa",
   "metadata": {},
   "source": [
    "Ser capaz de lidar com datas e horas, especialmente para aplicações de séries temporais, é uma parte crucial da limpeza de dados. É fácil deixar que bugs sutis se instalem devido à análise incorreta de datas e horas ou à não consideração dos fusos horários. Em raras ocasiões, você pode encontrar conjuntos de dados provenientes de um sistema que corajosamente usa tipos de hora personalizados, como relógios de 27 horas (sim, isso aconteceu comigo!). A questão é que trabalhar com datas e horas pode ser confuso, então aprenderemos algumas estratégias práticas aqui."
   ]
  },
  {
   "cell_type": "code",
   "execution_count": null,
   "id": "0de517a3",
   "metadata": {},
   "outputs": [],
   "source": [
    "import pandas as pd \n",
    "import numpy as np "
   ]
  },
  {
   "cell_type": "markdown",
   "id": "16a52eac",
   "metadata": {},
   "source": [
    "Vamos carregar um dataframe do Github que contém 5 colunas de datas e horas, todas representando o mesmo valor, mas em 5 formatos diferentes."
   ]
  },
  {
   "cell_type": "code",
   "execution_count": null,
   "id": "ed09ed46",
   "metadata": {
    "scrolled": true
   },
   "outputs": [],
   "source": [
    "url = 'https://raw.githubusercontent.com/thomasnield/machine-learning-demo-data/master/timeseries/datetime_formatting.csv'\n",
    "\n",
    "df = pd.read_csv(url)\n",
    "df"
   ]
  },
  {
   "cell_type": "markdown",
   "id": "6c200dc6",
   "metadata": {},
   "source": [
    "Vamos extrair uma das colunas e analisar seus tipos de dados. Observe que se trata de um `dtype` de `object`, não de `datetime64` como gostaríamos."
   ]
  },
  {
   "cell_type": "code",
   "execution_count": null,
   "id": "1c4486f5",
   "metadata": {},
   "outputs": [],
   "source": [
    "df['ORDER_DATE_TM1']"
   ]
  },
  {
   "cell_type": "markdown",
   "id": "d162ad45",
   "metadata": {},
   "source": [
    "## Conversão implícita de data e hora"
   ]
  },
  {
   "cell_type": "markdown",
   "id": "70cb2bc1",
   "metadata": {},
   "source": [
    "Se você quiser aplicar lógica útil de calendário ou baseada em tempo a esses valores, precisará convertê-los para um tipo de dado diferente. Uma maneira de fazer isso é chamar a função `to_datetime()` do Pandas nessa coluna. O Pandas fará o possível para analisar a data dessa série."
   ]
  },
  {
   "cell_type": "code",
   "execution_count": null,
   "id": "0ac15c10",
   "metadata": {
    "scrolled": true
   },
   "outputs": [],
   "source": [
    "parsed_col = pd.to_datetime(df['ORDER_DATE_TM1'])\n",
    "parsed_col"
   ]
  },
  {
   "cell_type": "markdown",
   "id": "641f96e0",
   "metadata": {},
   "source": [
    "Podemos usar lógica baseada em calendário para extrair propriedades, como o dia da semana."
   ]
  },
  {
   "cell_type": "code",
   "execution_count": null,
   "id": "d075f0ec",
   "metadata": {},
   "outputs": [],
   "source": [
    "parsed_col.dt.dayofweek"
   ]
  },
  {
   "cell_type": "markdown",
   "id": "fbbe832c",
   "metadata": {},
   "source": [
    "Se você já sabe quais colunas deseja formatar como datas/horas, pode passar o parâmetro `parse_dates` para a função `read_csv()` com uma lista de nomes de colunas para as quais se espera o formato de datas/horas. Vamos analisar todas as datas usando essa abordagem e o resultado. Para resumir, vamos analisar apenas os três primeiros resultados."
   ]
  },
  {
   "cell_type": "code",
   "execution_count": null,
   "id": "16b73a29",
   "metadata": {},
   "outputs": [],
   "source": [
    "df_parsed = pd.read_csv(url, \n",
    "            parse_dates=['ORDER_DATE1','ORDER_DATE2','ORDER_DATE_TM1','ORDER_DATE_TM2','ORDER_DATE_TM3'])\n",
    "\n",
    "df_parsed.head(3)"
   ]
  },
  {
   "cell_type": "markdown",
   "id": "f4a9b3da",
   "metadata": {},
   "source": [
    "Há algum erro? Aliás, o `ORDER_DATE_TM2` foi analisado quase completamente errado! Por exemplo, o segundo registro realmente tem valores representando uma data e hora de `2022-09-25 20:16:00`, mas o `ORDER_DATE_TM2` foi analisado incorretamente como `2025-09-22 20:16:00`! O que aconteceu?\n",
    "\n",
    "Bem, vamos analisar o valor original. Aliás, vamos amostrar os três primeiros registros e analisar o que está acontecendo."
   ]
  },
  {
   "cell_type": "code",
   "execution_count": null,
   "id": "072e2cfc",
   "metadata": {},
   "outputs": [],
   "source": [
    "df.head(3)"
   ]
  },
  {
   "cell_type": "markdown",
   "id": "659fc251",
   "metadata": {},
   "source": [
    "O que parece estar acontecendo com `ORDER_DATE_TM2` é que ele está confundindo o dia e o mês. Convencionalmente, espera-se que um formato como `22-Set-25 8:16 PM` tenha o dia `22` no início, e foi isso que o Pandas presumiu. No entanto, um desenvolvedor sádico decidiu arbitrar sua própria convenção e registrar o ano nesse local, colocando o dia `25` após o mês.\n",
    "\n",
    "Isso explica por que o primeiro registro `22-Jan-22 4:08PM` foi analisado corretamente, já que o ano e o dia do mês eram exatamente os mesmos.\n",
    "\n",
    "Para lidar com isso, precisaremos fazer uma conversão explícita."
   ]
  },
  {
   "cell_type": "markdown",
   "id": "0c0327e7",
   "metadata": {},
   "source": [
    "## Conversão explícita de data e hora"
   ]
  },
  {
   "cell_type": "markdown",
   "id": "5d87a11a",
   "metadata": {},
   "source": [
    "Estude as convenções de formatação de data e hora para Python aqui.\n",
    "\n",
    "https://docs.python.org/3/library/datetime.html#strftime-and-strptime-behavior\n",
    "\n",
    "`strftime()` e `strptime()` são usados para escrever uma data e hora em uma string de formatação e analisar uma data e hora a partir de uma string formatada, respectivamente. Os códigos de formatação vêm das convenções padrão de C. Aqui estão algumas comuns, muitas das quais usaremos neste notebook. Consulte o link acima para ver todos os códigos de formatação.\n",
    "\n",
    "| Símbolo | Descrição | Exemplo de Análise: 2021-01-13 2:34PM |\n",
    "|--------|-------------------------|----------------------------------|\n",
    "| `%y` | Ano com 2 dígitos | 21 |\n",
    "| `%m` | Mês com 2 dígitos | 01 |\n",
    "| `%d` | Dia do mês com 2 dígitos | 13 |\n",
    "| `%b` | Mês com 3 letras | Jan |\n",
    "| `%I` | Hora para relógio de 12 horas | 2 |\n",
    "| `%H` | Hora para relógio de 24 horas | 14 |\n",
    "| `%M` | Minuto com 2 dígitos | 34 |\n",
    "| `%p` | AM/PM para relógio de 12 horas | PM |\n",
    "| `%S` | Segundos com 2 dígitos | 00 |\n",
    "| `%f` | Microssegundos | 000000 |\n",
    "| `%a` | Dia da semana com 3 letras | Qua |\n",
    "| `%A` | Nome completo do dia da semana | Quarta-feira |\n",
    "\n",
    "Para nossa coluna problemática `ORDER_DATE_TM2`, precisamos de `%y` para obter um ano com dois dígitos, `%b` para o nome do mês com três letras e `%d` para o dia do mês. Para o horário, usamos `%I` para a hora do relógio de 12 horas, `%M` para o minuto e `%p` para `AM/PM`. Corrigiremos a análise de `ORDER_DATE_TM2` passando-a para a função `to_datetime()` juntamente com o parâmetro `format` e, em seguida, atribuiremos isso de volta ao dataframe analisado."
   ]
  },
  {
   "cell_type": "code",
   "execution_count": null,
   "id": "c5d18dcf",
   "metadata": {},
   "outputs": [],
   "source": [
    "df_parsed['ORDER_DATE_TM2'] = pd.to_datetime(df['ORDER_DATE_TM2'], format='%y-%b-%d %I:%M %p')\n",
    "df_parsed"
   ]
  },
  {
   "cell_type": "markdown",
   "id": "9731739f",
   "metadata": {},
   "source": [
    "Muito melhor! Agora todas as datas estão funcionando. Podemos verificar isso contando o número de linhas onde há apenas um valor único entre `ORDER_DATE_TM1`, `ORDER_DATE_TM2` e `ORDER_DATE_TM3`. De fato, todas as 1190 linhas têm exatamente um valor de data e hora único em cada linha."
   ]
  },
  {
   "cell_type": "code",
   "execution_count": null,
   "id": "f931521e",
   "metadata": {},
   "outputs": [],
   "source": [
    "np.sum(df_parsed.loc[:,['ORDER_DATE_TM1','ORDER_DATE_TM2','ORDER_DATE_TM3']].nunique(axis=1) == 1)"
   ]
  },
  {
   "cell_type": "markdown",
   "id": "8ec2b83c",
   "metadata": {},
   "source": [
    "Podemos fazer a mesma verificação para as duas colunas de datas simples para garantir que elas também foram analisadas corretamente."
   ]
  },
  {
   "cell_type": "code",
   "execution_count": null,
   "id": "c07206db",
   "metadata": {},
   "outputs": [],
   "source": [
    "np.sum(df_parsed.loc[:,['ORDER_DATE1','ORDER_DATE2']].nunique(axis=1) == 1)"
   ]
  },
  {
   "cell_type": "markdown",
   "id": "b711fdcf",
   "metadata": {},
   "source": [
    "## Filtragem por data e hora"
   ]
  },
  {
   "cell_type": "markdown",
   "id": "36bcb3b6",
   "metadata": {},
   "source": [
    "Vamos consolidar nosso dataframe e renomear as colunas apenas para `ORDER_DATE` e `ORDER_DATE_TM`"
   ]
  },
  {
   "cell_type": "code",
   "execution_count": null,
   "id": "5a748925",
   "metadata": {},
   "outputs": [],
   "source": [
    "df = df_parsed[['RECORD_ID','ORDER_DATE1','ORDER_DATE_TM1']] \\\n",
    "    .rename(columns={\"ORDER_DATE1\": \"ORDER_DATE\", \"ORDER_DATE_TM1\": \"ORDER_DATE_TM\"})\n",
    "\n",
    "df"
   ]
  },
  {
   "cell_type": "markdown",
   "id": "c9cc8c8c",
   "metadata": {},
   "source": [
    "Digamos que queremos obter todos os registros cujo dia da semana seja terça-feira. Na propriedade `dt.dayofweek`, `0` será segunda-feira e `7` será domingo. Numericamente, isso fará com que terça-feira seja `1`. Podemos especificar isso como uma condição e retornar todos os registros que caem na terça-feira."
   ]
  },
  {
   "cell_type": "code",
   "execution_count": null,
   "id": "ef35cdb4",
   "metadata": {
    "scrolled": true
   },
   "outputs": [],
   "source": [
    "condition = df['ORDER_DATE'].dt.dayofweek == 1\n",
    "df[condition]"
   ]
  },
  {
   "cell_type": "markdown",
   "id": "d555b6b2",
   "metadata": {},
   "source": [
    "Você também pode filtrar rapidamente datas e horas usando um formato de string."
   ]
  },
  {
   "cell_type": "code",
   "execution_count": null,
   "id": "72824811",
   "metadata": {},
   "outputs": [],
   "source": [
    "df[df['ORDER_DATE'] >= '2022-06-01']"
   ]
  },
  {
   "cell_type": "code",
   "execution_count": null,
   "id": "ebcd8ed6",
   "metadata": {},
   "outputs": [],
   "source": [
    "df[('2022-06-01 12:35PM' <= df['ORDER_DATE_TM']) & (df['ORDER_DATE_TM'] <= '2022-06-05 8:05PM')]"
   ]
  },
  {
   "cell_type": "markdown",
   "id": "0a1a39b3",
   "metadata": {},
   "source": [
    "Você também pode fazer conversões de data e hora mais explícitas para os limites inicial e final."
   ]
  },
  {
   "cell_type": "code",
   "execution_count": null,
   "id": "b0bdaf8c",
   "metadata": {},
   "outputs": [],
   "source": [
    "start = pd.to_datetime('2022-06-01 12:35PM', format='%Y-%m-%d %I:%M%p')\n",
    "end = pd.to_datetime('2022-06-05 8:05PM', format='%Y-%m-%d %I:%M%p')\n",
    "\n",
    "df[(start <= df['ORDER_DATE_TM']) & (df['ORDER_DATE_TM'] <= end)]"
   ]
  },
  {
   "cell_type": "markdown",
   "id": "33f75e0c",
   "metadata": {},
   "source": [
    "## Lidando com fusos horários"
   ]
  },
  {
   "cell_type": "markdown",
   "id": "6782be0a",
   "metadata": {},
   "source": [
    "Provavelmente, uma das maiores dores de cabeça que você pode encontrar na limpeza de dados quando se trata de datas e horas são as conversões de fuso horário. O ideal é que as datas e horas sejam armazenadas em **Tempo Universal Coordenado** ou UTC**, que é um padrão internacionalmente aceito para armazenamento de datas e horas. Se os horários precisarem ser convertidos localmente, **deslocamentos** são usados para expressar esse horário local com base no horário UTC. Isso parece mais fácil do que realmente é, porque as leis regionais ao redor do mundo evoluem e alteram os deslocamentos, especialmente devido ao horário de verão.\n",
    "\n",
    "Felizmente, existe uma biblioteca conveniente chamada `pytz`, da qual o Pandas já depende. Ela cuidará dos deslocamentos de fuso horário, bem como do horário de verão, capturando até mesmo as leis de horário de verão alteradas no passado! Vamos importá-la e analisar os fusos horários comuns."
   ]
  },
  {
   "cell_type": "code",
   "execution_count": null,
   "id": "3227c381",
   "metadata": {},
   "outputs": [],
   "source": [
    "import pytz\n",
    "\n",
    "pytz.common_timezones"
   ]
  },
  {
   "cell_type": "markdown",
   "id": "d53a3bb5",
   "metadata": {},
   "source": [
    "Uau! É muita coisa. Digamos que queremos localizar o horário do Arizona, nos Estados Unidos. O Arizona é meio especial porque não reconhece o horário de verão como o resto dos Estados Unidos. Recebe bastante luz solar o ano todo!\n",
    "\n",
    "Vamos procurar pelo nome e salvá-lo em uma variável."
   ]
  },
  {
   "cell_type": "code",
   "execution_count": null,
   "id": "17c8f0cd",
   "metadata": {},
   "outputs": [],
   "source": [
    "tz = pytz.timezone('US/Arizona')\n",
    "tz"
   ]
  },
  {
   "cell_type": "markdown",
   "id": "e46bb13b",
   "metadata": {},
   "source": [
    "Agora, vamos analisar a coluna `ORDER_DATE_TM` no nosso dataframe. Observe que não há informações sobre o fuso horário, o que o torna **ingênuo em relação ao fuso horário**."
   ]
  },
  {
   "cell_type": "code",
   "execution_count": null,
   "id": "c2b6e9bc",
   "metadata": {},
   "outputs": [],
   "source": [
    "if df['ORDER_DATE_TM'].dt.tz is None:\n",
    "    print(\"TZ NAIVE\")\n",
    "else:\n",
    "    df['ORDER_DATE_TM'].dt.tz"
   ]
  },
  {
   "cell_type": "markdown",
   "id": "30c11564",
   "metadata": {},
   "source": [
    "Digamos que essas datas foram registradas no horário local do Arizona. Podemos tornar `ORDER_DATE_TM` sensível ao fuso horário chamando a função `tz_localize()` e especificando que elas foram registradas no horário `US/Arizona`."
   ]
  },
  {
   "cell_type": "code",
   "execution_count": null,
   "id": "0c8ac26a",
   "metadata": {},
   "outputs": [],
   "source": [
    "df['ORDER_DATE_TM'] = df['ORDER_DATE_TM'].dt.tz_localize('US/Arizona')\n",
    "df['ORDER_DATE_TM']"
   ]
  },
  {
   "cell_type": "markdown",
   "id": "9241f4f5",
   "metadata": {},
   "source": [
    "Observe como o tipo de dado de `ORDER_DATE_TM` muda para `datetime64[ns, US/Arizona]`, deixando de ser um fuso horário nativo e passando a ser associado ao horário do Arizona. A parte `-07:00` do valor indica o deslocamento em relação ao UTC.\n",
    "\n",
    "Agora podemos convertê-lo para diferentes fusos horários. Digamos que queremos adicionar uma coluna adicional `ORDER_DATE_TM_CST` mostrando a data e hora no horário dos EUA/Central. Podemos usar `tz_convert` para realizar essa conversão. Observe abaixo como o horário central às vezes está 2 horas à frente do Arizona, mas às vezes também está 1 hora à frente. Isso ocorre porque o Arizona não adota o horário de verão, mas o horário central sim."
   ]
  },
  {
   "cell_type": "code",
   "execution_count": null,
   "id": "863ef324",
   "metadata": {},
   "outputs": [],
   "source": [
    "df['ORDER_DATE_TM_CST'] = df['ORDER_DATE_TM'].dt.tz_convert('US/Central')\n",
    "df"
   ]
  },
  {
   "cell_type": "markdown",
   "id": "6cee4a4a",
   "metadata": {},
   "source": [
    "Por fim, podemos, é claro, converter a data para `UTC`, que salvaremos na coluna `ORDER_DATE_TM_UTC`. Observe o deslocamento `+00:00`, pois UTC é a linha de base, sem deslocamento."
   ]
  },
  {
   "cell_type": "code",
   "execution_count": null,
   "id": "043a5ab3",
   "metadata": {},
   "outputs": [],
   "source": [
    "df['ORDER_DATE_TM_UTC'] = df['ORDER_DATE_TM'].dt.tz_convert('UTC')\n",
    "df"
   ]
  },
  {
   "cell_type": "markdown",
   "id": "2e766b8b",
   "metadata": {},
   "source": [
    "Não é ótimo o trabalho que a biblioteca `tz` fez por você? Recomendamos usá-la, pois ela manterá para você aquele banco de dados complexo de fusos horários, compensações, horário de verão e alterações históricas nas leis de horário de verão."
   ]
  },
  {
   "cell_type": "markdown",
   "id": "9d7802a7",
   "metadata": {},
   "source": [
    "## EXERCÍCIO"
   ]
  },
  {
   "cell_type": "markdown",
   "id": "f9d1cfd2",
   "metadata": {},
   "source": [
    "Um dataframe de duas colunas e dois registros é mostrado abaixo. Complete o código abaixo substituindo os pontos de interrogação `?` para que `ORDER_DATE_TM` seja localizado para `US/Pacific`. Em seguida, adicione uma nova coluna `ORDER_DATE_TM_PARIS` que mostre o horário equivalente em `Europe/Paris`."
   ]
  },
  {
   "cell_type": "code",
   "execution_count": null,
   "id": "f0599309",
   "metadata": {},
   "outputs": [],
   "source": [
    "import pandas as pd\n",
    "\n",
    "df = pd.DataFrame({\n",
    "    \"ORDER_ID\": [1, 2], \n",
    "    \"ORDER_DATE_TM\": [pd.to_datetime('2023-01-05 7:05 PM'), pd.to_datetime('2023-01-06 8:15 AM')]\n",
    "})\n",
    "\n",
    "# localize US/Pacific\n",
    "df[\"ORDER_DATE_TM\"] = df[\"ORDER_DATE_TM\"].?\n",
    "\n",
    "# converta para Europe/Paris \n",
    "df[\"ORDER_DATE_TM_PARIS\"] = ?\n",
    "\n",
    "df"
   ]
  },
  {
   "cell_type": "markdown",
   "id": "39255aad",
   "metadata": {},
   "source": [
    "### RESPOSTA A BAIXO\n",
    "\n",
    "|<br>\n",
    "|<br>\n",
    "|<br>\n",
    "|<br>\n",
    "|<br>\n",
    "|<br>\n",
    "|<br>\n",
    "|<br>\n",
    "|<br>\n",
    "|<br>\n",
    "|<br>\n",
    "|<br>\n",
    "|<br>\n",
    "|<br>\n",
    "|<br>\n",
    "|<br>\n",
    "|<br>\n",
    "|<br>\n",
    "|<br>\n",
    "|<br>\n",
    "|<br>\n",
    "|<br>\n",
    "|<br>\n",
    "v "
   ]
  },
  {
   "cell_type": "code",
   "execution_count": null,
   "id": "90ef0007",
   "metadata": {},
   "outputs": [],
   "source": [
    "import pandas as pd\n",
    "\n",
    "df = pd.DataFrame({\n",
    "    \"ORDER_ID\": [1, 2], \n",
    "    \"ORDER_DATE_TM\": [pd.to_datetime('2023-01-05 7:05 PM'), pd.to_datetime('2023-01-06 8:15 AM')]\n",
    "})\n",
    "\n",
    "# localize US/Pacific\n",
    "df[\"ORDER_DATE_TM\"] = df[\"ORDER_DATE_TM\"].dt.tz_localize('US/Pacific')\n",
    "\n",
    "# converta para Europe/Paris \n",
    "df[\"ORDER_DATE_TM_PARIS\"] = df[\"ORDER_DATE_TM\"].dt.tz_convert('Europe/Paris')\n",
    "\n",
    "df"
   ]
  }
 ],
 "metadata": {
  "kernelspec": {
   "display_name": "anaconda-2024.02-py310",
   "language": "python",
   "name": "conda-env-anaconda-2024.02-py310-py"
  },
  "language_info": {
   "codemirror_mode": {
    "name": "ipython",
    "version": 3
   },
   "file_extension": ".py",
   "mimetype": "text/x-python",
   "name": "python",
   "nbconvert_exporter": "python",
   "pygments_lexer": "ipython3",
   "version": "3.10.14"
  }
 },
 "nbformat": 4,
 "nbformat_minor": 5
}
