{
 "cells": [
  {
   "cell_type": "markdown",
   "id": "13bb90a8",
   "metadata": {},
   "source": [
    "# Classificação, Casting e Categorias"
   ]
  },
  {
   "cell_type": "markdown",
   "id": "aaf61bfe",
   "metadata": {},
   "source": [
    "Neste caderno, abordaremos operações de ordenação, bem como dados categóricos. Também aprenderemos como usar funções apply para realizar operações mais personalizadas no Pandas.\n",
    "\n",
    "Vamos importar `pandas` e, em seguida, declarar este pequeno dataframe weathers para praticar."
   ]
  },
  {
   "cell_type": "code",
   "execution_count": null,
   "id": "ebba5aea",
   "metadata": {},
   "outputs": [],
   "source": [
    "import pandas as pd\n",
    "\n",
    "df = pd.DataFrame({\n",
    "    \"id_registro\": ['DCMXP87EDE', 'ZMIFM3HX9G', 'HIVVXBAPS2', 'U1AA66UDES', 'B20KL5PW3L', 'FIZLY34KSQ'],\n",
    "    \"plegadas_chuva\": [1.1, 0.0, 0.0, 2.4, 11.2, 3.2],\n",
    "    \"tornado\": [0, 1, 0, 0, 0, 0],\n",
    "    \"raios\": [0, 1, 1, 1, 0, 0],\n",
    "    \"velocidade_vento_mph\": [3.1, 143.0, 12.2, 8.1, 5.0, 19.0],\n",
    "    \"gravidade\": ['LIMPO', 'SEVERO', 'LEVE', 'LEVE', 'GRAVE', 'LIMPO']\n",
    "})\n",
    "\n",
    "df"
   ]
  },
  {
   "cell_type": "markdown",
   "id": "ab39500d",
   "metadata": {},
   "source": [
    "## Tipos de Dados e Casting"
   ]
  },
  {
   "cell_type": "markdown",
   "id": "425f4e27",
   "metadata": {},
   "source": [
    "À medida que falamos mais sobre limpeza de dados, talvez seja um bom momento para falar sobre tipos de dados e sua escolha criteriosa. Alguns tipos de dados básicos do Pandas, com exemplos, são declarados abaixo. Esses são os tipos de dados que também fazem parte do NumPy e, portanto, são os mais comuns."
   ]
  },
  {
   "cell_type": "code",
   "execution_count": null,
   "id": "1a81a0e6",
   "metadata": {},
   "outputs": [],
   "source": [
    "df_tipos = pd.DataFrame({\n",
    "    'flutuante': [1.2],\n",
    "    'inteiro': [3],\n",
    "    'data_hora': [pd.Timestamp('20230130')],\n",
    "    'booleano': [True],\n",
    "    'diferenca_tempo': [pd.Timestamp('20230130') - pd.Timestamp('20230127')],\n",
    "    'texto': ['olá']\n",
    "})\n",
    "\n",
    "df_tipos\n"
   ]
  },
  {
   "cell_type": "markdown",
   "id": "546d71ae",
   "metadata": {},
   "source": [
    "Você pode visualizar os tipos de dados de um determinado dataframe usando a propriedade `dtypes`."
   ]
  },
  {
   "cell_type": "code",
   "execution_count": null,
   "id": "fcd0ad99",
   "metadata": {},
   "outputs": [],
   "source": [
    "df_tipos.dtypes"
   ]
  },
  {
   "cell_type": "markdown",
   "id": "5029351e",
   "metadata": {},
   "source": [
    "Agora vamos voltar nossa atenção para o pequeno conjunto de dados meteorológicos."
   ]
  },
  {
   "cell_type": "code",
   "execution_count": null,
   "id": "87ce405a",
   "metadata": {},
   "outputs": [],
   "source": [
    "df"
   ]
  },
  {
   "cell_type": "markdown",
   "id": "287d0cdf",
   "metadata": {},
   "source": [
    "Vamos observar os tipos de dados."
   ]
  },
  {
   "cell_type": "code",
   "execution_count": null,
   "id": "1748a67c",
   "metadata": {},
   "outputs": [],
   "source": [
    "df.dtypes"
   ]
  },
  {
   "cell_type": "markdown",
   "id": "11953879",
   "metadata": {},
   "source": [
    "Uma das operações mais básicas na limpeza de dados é a conversão. Você pode usar a função `astype()` para converter uma determinada coluna para outro tipo de dado. Por exemplo, as colunas `tornado` e `raios` têm apenas 1 e 0, indicando que devem ser valores booleanos (True=1, False=0). Podemos convertê-los para booleanos aqui."
   ]
  },
  {
   "cell_type": "code",
   "execution_count": null,
   "id": "4bc5215c",
   "metadata": {
    "scrolled": true
   },
   "outputs": [],
   "source": [
    "df['tornado'] = df['tornado'].astype('bool')\n",
    "df['raios'] = df['raios'].astype('bool')\n",
    "\n",
    "df\n"
   ]
  },
  {
   "cell_type": "markdown",
   "id": "577abd4a",
   "metadata": {},
   "source": [
    "E com certeza, você verá que os tipos de dados foram alterados para `book` para essas duas colunas."
   ]
  },
  {
   "cell_type": "code",
   "execution_count": null,
   "id": "5ec11e2d",
   "metadata": {},
   "outputs": [],
   "source": [
    "df.dtypes"
   ]
  },
  {
   "cell_type": "markdown",
   "id": "f632ee25",
   "metadata": {},
   "source": [
    "## Classificando Valores"
   ]
  },
  {
   "cell_type": "markdown",
   "id": "989a964d",
   "metadata": {},
   "source": [
    "No Pandas, você pode classificar os dados ao longo de uma linha ou coluna especificando seu eixo na função `sort_values()`. Abaixo, classificamos em ordem crescente primeiro pelo campo `raios`, seguido pelo campo `polegadas_chuva`."
   ]
  },
  {
   "cell_type": "code",
   "execution_count": null,
   "id": "731dfff3",
   "metadata": {},
   "outputs": [],
   "source": [
    "df.sort_values(by=[\"raios\", \"polegadas_chuva\"])"
   ]
  },
  {
   "cell_type": "markdown",
   "id": "fea6fec1",
   "metadata": {},
   "source": [
    "Se eu quiser comportamentos de classificação diferentes para cada coluna, com algumas em ordem crescente e outras em ordem decrescente, passe uma lista booleana para o parâmetro `ascending`. Abaixo, definimos `raios` como decrescente, de modo que os registros `True` subam para o topo, enquanto `polegadas_chuva` é crescente."
   ]
  },
  {
   "cell_type": "code",
   "execution_count": null,
   "id": "5b0839af",
   "metadata": {
    "scrolled": true
   },
   "outputs": [],
   "source": [
    "df.sort_values(by=[\"raios\",\"polegadas_chuva\"],ascending=[False,True])"
   ]
  },
  {
   "cell_type": "markdown",
   "id": "1d1e5584",
   "metadata": {},
   "source": [
    "> Ao usar os métodos de classificação, lembre-se de adicionar o parâmetro `inplace=True` se quiser substituir o dataframe existente pelo classificado."
   ]
  },
  {
   "cell_type": "markdown",
   "id": "c7454090",
   "metadata": {},
   "source": [
    "## Índice de classificação"
   ]
  },
  {
   "cell_type": "markdown",
   "id": "6054bae2",
   "metadata": {},
   "source": [
    "Vamos demonstrar como classificar em um índice. Vamos primeiro definir o índice para usar o `record_id` para as linhas"
   ]
  },
  {
   "cell_type": "code",
   "execution_count": null,
   "id": "8dcbe75a",
   "metadata": {},
   "outputs": [],
   "source": [
    "df.set_index('record_id', inplace=True)\n",
    "\n",
    "df"
   ]
  },
  {
   "cell_type": "markdown",
   "id": "0b803849",
   "metadata": {},
   "source": [
    "Agora, quando classificamos as linhas (usando `axis=0`), observe que agora classificamos em ordem alfabética pelo `record_id` como índice."
   ]
  },
  {
   "cell_type": "code",
   "execution_count": null,
   "id": "b064c3b9",
   "metadata": {},
   "outputs": [],
   "source": [
    "df.sort_index(axis=0)"
   ]
  },
  {
   "cell_type": "markdown",
   "id": "ffc6734d",
   "metadata": {},
   "source": [
    "Isso pode não parecer muito interessante, pois também poderíamos ter ordenado `record_id` como uma coluna. Mas agora considere que, se definirmos `axis=1` em `sort_index()`, podemos ordenar as colunas!"
   ]
  },
  {
   "cell_type": "code",
   "execution_count": null,
   "id": "dd3ab9f7",
   "metadata": {},
   "outputs": [],
   "source": [
    "df.sort_index(axis=1)"
   ]
  },
  {
   "cell_type": "markdown",
   "id": "16b2bef4",
   "metadata": {},
   "source": [
    "Isso pode ser útil para classificar as colunas, e você pode classificar apenas determinadas colunas extraindo um dataframe parcial e, em seguida, substituindo essas colunas. Observe que, como o `record_id` foi transformado em um índice para as linhas, ele não é classificado com o restante das colunas e permanece à esquerda do dataframe.\n",
    "\n",
    "> Ao usar os métodos de classificação, lembre-se de adicionar o parâmetro `inplace=True` se desejar substituir o dataframe existente pelo classificado."
   ]
  },
  {
   "cell_type": "markdown",
   "id": "8458c726",
   "metadata": {},
   "source": [
    "## Categorias"
   ]
  },
  {
   "cell_type": "markdown",
   "id": "283906e8",
   "metadata": {},
   "source": [
    "Às vezes, haverá colunas em um dataframe que permitem apenas alguns valores. Quando esses valores são strings, torna-se ainda mais importante considerar convertê-los em um tipo de categoria. Nos bastidores, isso melhorará o desempenho do dataframe e eliminará redundância devido a strings duplicadas.\n",
    "\n",
    "Em nosso conjunto de dados meteorológicos, observe a coluna `gravidade`. Digamos que os únicos valores possíveis para ela sejam \"LIMPO\", \"LEVE\", \"GRAVE\" e \"SEVERO\". Em vez de armazená-los como strings, podemos transformá-los explicitamente em categorias.\n",
    "\n",
    "Primeiro, podemos criar um novo `CategoricalDType` e especificar as `categories` esperadas em uma lista. Se quisermos que as categorias tenham uma noção de ordenação, podemos especificar `ordered=True` e esses rótulos nessa ordem se tornarão a hierarquia. Em ordem crescente, \"LIMPO\" vem antes de \"LEVE\", depois \"LIMPO\" vem antes de \"GRAVE\" e assim por diante..."
   ]
  },
  {
   "cell_type": "code",
   "execution_count": null,
   "id": "eb25603d",
   "metadata": {},
   "outputs": [],
   "source": [
    "tipo_categoria = pd.CategoricalDtype(categories=[\"LIMPO\", \"LEVE\", \"GRAVE\", \"SEVERO\"], ordered=True)"
   ]
  },
  {
   "cell_type": "markdown",
   "id": "dac1a43f",
   "metadata": {},
   "source": [
    "Podemos então passar essa instância de `CategoricalDType` para a função `astype()` em um dataframe e substituir essa coluna pela `severity` categorizada."
   ]
  },
  {
   "cell_type": "code",
   "execution_count": null,
   "id": "6ff0e1b8",
   "metadata": {},
   "outputs": [],
   "source": [
    "df[\"gravidade\"] = df[\"gravidade\"].astype(tipo_categoria)\n",
    "\n",
    "df"
   ]
  },
  {
   "cell_type": "markdown",
   "id": "bad31594",
   "metadata": {},
   "source": [
    "Com certeza, se você inspecionar os tipos de dados do dataframe, a coluna `gravidade` agora é do tipo `category`. Isso será muito mais eficiente para trabalhar."
   ]
  },
  {
   "cell_type": "code",
   "execution_count": null,
   "id": "1cb67208",
   "metadata": {},
   "outputs": [],
   "source": [
    "df.dtypes"
   ]
  },
  {
   "cell_type": "markdown",
   "id": "192c936c",
   "metadata": {},
   "source": [
    "Observe que, se você aplicar uma categorização a uma coluna que possui valores que não correspondem a nenhuma categoria, esses valores se tornarão valores `NA`.\n",
    "\n",
    "Por fim, observe que, ao classificar na coluna `gravidade`, ela não será mais classificada em ordem alfabética, mas sim na ordem de classificação definida em `CategoricalDtype`. Isso é comprovado pelo uso de `LEVE` antes de `GRAVE`."
   ]
  },
  {
   "cell_type": "code",
   "execution_count": null,
   "id": "cbf4ff0f",
   "metadata": {
    "scrolled": true
   },
   "outputs": [],
   "source": [
    "df.sort_values(by=[\"gravidade\"])"
   ]
  },
  {
   "cell_type": "markdown",
   "id": "b2e2f4b1",
   "metadata": {},
   "source": [
    "# Usando apply()"
   ]
  },
  {
   "cell_type": "markdown",
   "id": "c3128a12",
   "metadata": {},
   "source": [
    "Digamos que você queira categorizar as velocidades do vento, então crie esta função Python."
   ]
  },
  {
   "cell_type": "code",
   "execution_count": null,
   "id": "0fe46d2a",
   "metadata": {
    "scrolled": true
   },
   "outputs": [],
   "source": [
    "def classificar_velocidade_vento(x):\n",
    "    if x >= 60:\n",
    "        return 'PERIGOSO'\n",
    "    elif x >= 30:\n",
    "        return 'ALTO'\n",
    "    elif x >= 15:\n",
    "        return 'MODERADO'\n",
    "    else:\n",
    "        return 'BAIXO'\n"
   ]
  },
  {
   "cell_type": "markdown",
   "id": "cba419de",
   "metadata": {},
   "source": [
    "Como aplicar isso à coluna `velocidade_vento_mph` e criar uma nova coluna a partir dela? Você pode usar a função `apply()`"
   ]
  },
  {
   "cell_type": "code",
   "execution_count": null,
   "id": "8acdd815",
   "metadata": {
    "scrolled": true
   },
   "outputs": [],
   "source": [
    "df['velocidade_vento_mph'].apply(classificar_velocidade_vento)"
   ]
  },
  {
   "cell_type": "markdown",
   "id": "0b4aa6fa",
   "metadata": {},
   "source": [
    "Você pode então anexar isso como uma nova coluna como uma categoria wind_speed_category."
   ]
  },
  {
   "cell_type": "code",
   "execution_count": null,
   "id": "8d3e884f",
   "metadata": {},
   "outputs": [],
   "source": [
    "df[\"categoria_velocidade_vento\"] = df['velocidade_vento_mph'].apply(classificar_velocidade_vento)\n",
    "\n",
    "df"
   ]
  },
  {
   "cell_type": "markdown",
   "id": "4a852dc1",
   "metadata": {},
   "source": [
    "Use `apply()` para passar uma coluna de valores por meio de uma função, passe cada valor respectivo por ela e obtenha a saída."
   ]
  },
  {
   "cell_type": "markdown",
   "id": "089e2f9b",
   "metadata": {},
   "source": [
    "## Exercício"
   ]
  },
  {
   "cell_type": "markdown",
   "id": "9a0bf831",
   "metadata": {},
   "source": [
    "Pegue o dataframe meteorológico que acabamos de criar e transforme `categoria_velocidade_vento` (que atualmente é armazenado como objetos string) em um tipo de categoria. Defina-o de forma que a ordem seja crescente: `BAIXO`, `MODERADO`, `ALTO` e, por fim, `PERIGOSO`. Em seguida, classifique essa coluna em ordem decrescente."
   ]
  },
  {
   "cell_type": "code",
   "execution_count": null,
   "id": "8ddc435e",
   "metadata": {},
   "outputs": [],
   "source": [
    "tipo_categoria_vento = ?\n",
    "\n",
    "df[\"categoria_velocidade_vento\"] = df['categoria_velocidade_vento'].astype(?)\n",
    "\n",
    "df.sort_values(by=?, ascending=?, inplace=True)\n",
    "df\n"
   ]
  },
  {
   "cell_type": "markdown",
   "id": "dfd73ed0",
   "metadata": {},
   "source": [
    "### RESPOSTA A BAIXO\n",
    "\n",
    "|<br>\n",
    "|<br>\n",
    "|<br>\n",
    "|<br>\n",
    "|<br>\n",
    "|<br>\n",
    "|<br>\n",
    "|<br>\n",
    "|<br>\n",
    "|<br>\n",
    "|<br>\n",
    "|<br>\n",
    "|<br>\n",
    "|<br>\n",
    "|<br>\n",
    "|<br>\n",
    "|<br>\n",
    "|<br>\n",
    "|<br>\n",
    "|<br>\n",
    "|<br>\n",
    "|<br>\n",
    "|<br>\n",
    "v "
   ]
  },
  {
   "cell_type": "code",
   "execution_count": null,
   "id": "b8c864b3",
   "metadata": {},
   "outputs": [],
   "source": [
    "tipo_categoria_vento = pd.CategoricalDtype(categories=[\"BAIXO\", \"MODERADO\", \"ALTO\", \"PERIGOSO\"], ordered=True)\n",
    "\n",
    "df[\"categoria_velocidade_vento\"] = df[\"categoria_velocidade_vento\"].astype(tipo_categoria_vento)\n",
    "\n",
    "df.sort_values(by=[\"categoria_velocidade_vento\"], ascending=[False], inplace=True)\n",
    "\n",
    "df"
   ]
  }
 ],
 "metadata": {
  "kernelspec": {
   "display_name": "Python 3",
   "language": "python",
   "name": "python3"
  },
  "language_info": {
   "codemirror_mode": {
    "name": "ipython",
    "version": 3
   },
   "file_extension": ".py",
   "mimetype": "text/x-python",
   "name": "python",
   "nbconvert_exporter": "python",
   "pygments_lexer": "ipython3",
   "version": "3.10.0"
  }
 },
 "nbformat": 4,
 "nbformat_minor": 5
}
