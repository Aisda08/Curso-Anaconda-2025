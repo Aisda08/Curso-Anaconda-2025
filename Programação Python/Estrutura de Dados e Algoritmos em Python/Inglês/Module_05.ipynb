{
 "cells": [
  {
   "cell_type": "markdown",
   "id": "23efb7c1-3f04-4ce7-8784-90dc7a1e00ba",
   "metadata": {
    "editable": true,
    "slideshow": {
     "slide_type": "slide"
    },
    "tags": []
   },
   "source": [
    "# Module 5: Searching Algorithms"
   ]
  },
  {
   "cell_type": "markdown",
   "id": "7dd0a9e2-8c86-4389-8717-df59c5425807",
   "metadata": {
    "editable": true,
    "execution": {
     "iopub.execute_input": "2024-12-16T15:07:34.702807Z",
     "iopub.status.busy": "2024-12-16T15:07:34.702320Z",
     "iopub.status.idle": "2024-12-16T15:07:34.707907Z",
     "shell.execute_reply": "2024-12-16T15:07:34.707002Z",
     "shell.execute_reply.started": "2024-12-16T15:07:34.702783Z"
    },
    "slideshow": {
     "slide_type": "slide"
    },
    "tags": []
   },
   "source": [
    "## What You'll Learn\n",
    "1. Explore the fundamentals of Binary Search Trees.\n",
    "2. Understand and implement Depth First Search (DFS).\n",
    "3. Learn how Breadth First Search (BFS) works and where to apply it.\n",
    "\n",
    "\n",
    "### Why Searching Algorithms Matter:\n",
    "- Essential for efficient data retrieval and navigation.\n",
    "- Widely used in databases, AI, and graph-based systems."
   ]
  },
  {
   "cell_type": "markdown",
   "id": "39521d87-6b5d-4805-a22e-c20ff12faaaa",
   "metadata": {
    "editable": true,
    "slideshow": {
     "slide_type": "slide"
    },
    "tags": []
   },
   "source": [
    "## Lesson 1: Binary Search Tree\n",
    "\n",
    "### **What Is a Binary Search Tree (BST)?**\n",
    "- A hierarchical data structure where:\n",
    "  - Left child nodes contain values **less than** the parent node.\n",
    "  - Right child nodes contain values **greater than** the parent node.\n",
    "- Provides efficient searching, insertion, and deletion.\n",
    "\n",
    "### **How It Works**\n",
    "1. Start from the root node.\n",
    "2. Compare the target value with the current node:\n",
    "   - Move left if the target is smaller.\n",
    "   - Move right if the target is larger."
   ]
  },
  {
   "cell_type": "code",
   "execution_count": null,
   "id": "753d4a5c-2718-40ae-89d3-831ea2ebe81f",
   "metadata": {
    "editable": true,
    "execution": {
     "iopub.execute_input": "2024-12-16T15:13:35.878672Z",
     "iopub.status.busy": "2024-12-16T15:13:35.878408Z",
     "iopub.status.idle": "2024-12-16T15:13:44.952908Z",
     "shell.execute_reply": "2024-12-16T15:13:44.951890Z",
     "shell.execute_reply.started": "2024-12-16T15:13:35.878646Z"
    },
    "slideshow": {
     "slide_type": "skip"
    },
    "tags": []
   },
   "outputs": [],
   "source": [
    "!pip install -q binarytree"
   ]
  },
  {
   "cell_type": "code",
   "execution_count": null,
   "id": "1459bacf-508f-4db4-b32d-1ce10aaddbd8",
   "metadata": {
    "editable": true,
    "execution": {
     "iopub.execute_input": "2024-12-16T21:17:44.394450Z",
     "iopub.status.busy": "2024-12-16T21:17:44.393824Z",
     "iopub.status.idle": "2024-12-16T21:17:44.602372Z",
     "shell.execute_reply": "2024-12-16T21:17:44.601540Z",
     "shell.execute_reply.started": "2024-12-16T21:17:44.394419Z"
    },
    "slideshow": {
     "slide_type": "slide"
    },
    "tags": []
   },
   "outputs": [],
   "source": [
    "import matplotlib.pyplot as plt\n",
    "\n",
    "# Define the Node class\n",
    "class Node:\n",
    "    def __init__(self, value):\n",
    "        self.value = value\n",
    "        self.left = None\n",
    "        self.right = None\n",
    "\n",
    "# Insert function to add a node to the BST\n",
    "def insert(root, value):\n",
    "    if root is None:\n",
    "        return Node(value)\n",
    "    if value < root.value:\n",
    "        root.left = insert(root.left, value)\n",
    "    else:\n",
    "        root.right = insert(root.right, value)\n",
    "    return root\n",
    "\n",
    "# Function to visualize the BST\n",
    "def plot_bst(root, x=0, y=0, dx=2, ax=None, parent_pos=None):\n",
    "    if root is None:\n",
    "        return\n",
    "    \n",
    "    # Plot current node\n",
    "    ax.scatter(x, y, s=100, color=\"skyblue\")\n",
    "    ax.text(x, y, str(root.value), fontsize=10, ha=\"center\", va=\"center\", color=\"black\")\n",
    "    \n",
    "    # Draw edges from parent to child\n",
    "    if parent_pos is not None:\n",
    "        ax.plot([parent_pos[0], x], [parent_pos[1], y], color=\"gray\", linewidth=1)\n",
    "\n",
    "    # Recursively plot left and right children\n",
    "    plot_bst(root.left, x - dx, y - 2, dx / 1.5, ax, (x, y))\n",
    "    plot_bst(root.right, x + dx, y - 2, dx / 1.5, ax, (x, y))\n",
    "\n",
    "# Build and visualize the BST\n",
    "values = [10, 5, 15, 3, 7]\n",
    "root = None\n",
    "for v in values:\n",
    "    root = insert(root, v)\n",
    "\n",
    "print(root)\n",
    "\n",
    "# Set up the plot\n",
    "fig, ax = plt.subplots(figsize=(8, 6))\n",
    "ax.set_title(\"Binary Search Tree Visualization\", fontsize=14)\n",
    "ax.axis(\"off\")  # Hide axes for cleaner visualization\n",
    "plot_bst(root, ax=ax)\n",
    "plt.show()\n"
   ]
  },
  {
   "cell_type": "markdown",
   "id": "0419e5d2-420a-4fb7-824b-cee41fb8a303",
   "metadata": {
    "editable": true,
    "slideshow": {
     "slide_type": "slide"
    },
    "tags": []
   },
   "source": [
    "## Time Complexity\n",
    "\n",
    "- Search: O(log n) in a balanced tree.\n",
    "- Insertion: O(log n) in a balanced tree.\n",
    "- Worst-case: O(n) (e.g., unbalanced tree).\n",
    "\n",
    "### When to Use\n",
    "\n",
    "- When data is naturally ordered and needs to be searched efficiently."
   ]
  },
  {
   "cell_type": "markdown",
   "id": "99470500-bcd9-4475-a20c-b02f7bf5e9ac",
   "metadata": {
    "editable": true,
    "execution": {
     "iopub.execute_input": "2024-12-16T15:18:28.999843Z",
     "iopub.status.busy": "2024-12-16T15:18:28.997115Z",
     "iopub.status.idle": "2024-12-16T15:18:29.011841Z",
     "shell.execute_reply": "2024-12-16T15:18:29.010282Z",
     "shell.execute_reply.started": "2024-12-16T15:18:28.999813Z"
    },
    "slideshow": {
     "slide_type": "slide"
    },
    "tags": []
   },
   "source": [
    "## Lesson 2: Depth First Search\n",
    "\n",
    "\n",
    "### **What Is Depth First Search?**\n",
    "- A recursive or stack-based algorithm to traverse a tree or graph.\n",
    "- Explores as far as possible along each branch before backtracking.\n",
    "\n",
    "\n",
    "### **How It Works**\n",
    "1. Start at the root node (or a selected node in a graph).\n",
    "2. Mark the node as visited.\n",
    "3. Recursively visit all its neighbors (or children).\n",
    "4. Backtrack when all neighbors are visited.\n"
   ]
  },
  {
   "cell_type": "code",
   "execution_count": null,
   "id": "911338d4-a9b3-40c8-bebb-d5420e7ebfd7",
   "metadata": {
    "editable": true,
    "execution": {
     "iopub.execute_input": "2024-12-16T15:19:01.940372Z",
     "iopub.status.busy": "2024-12-16T15:19:01.939671Z",
     "iopub.status.idle": "2024-12-16T15:19:01.946855Z",
     "shell.execute_reply": "2024-12-16T15:19:01.946072Z",
     "shell.execute_reply.started": "2024-12-16T15:19:01.940342Z"
    },
    "slideshow": {
     "slide_type": "slide"
    },
    "tags": []
   },
   "outputs": [],
   "source": [
    "### **Example**\n",
    "\n",
    "# DFS on a graph\n",
    "def dfs(graph, node, visited=None):\n",
    "    if visited is None:\n",
    "        visited = set()\n",
    "    if node not in visited:\n",
    "        print(node, end=\" \")\n",
    "        visited.add(node)\n",
    "        for neighbor in graph[node]:\n",
    "            dfs(graph, neighbor, visited)\n",
    "\n",
    "graph = {\n",
    "    \"A\": [\"B\", \"C\"],\n",
    "    \"B\": [\"D\", \"E\"],\n",
    "    \"C\": [\"F\"],\n",
    "    \"D\": [],\n",
    "    \"E\": [\"F\"],\n",
    "    \"F\": []\n",
    "}\n",
    "\n",
    "dfs(graph, \"A\")  # Output: A B D E F C"
   ]
  },
  {
   "cell_type": "markdown",
   "id": "b4a68f5f-2609-4958-897f-eb6760705662",
   "metadata": {
    "editable": true,
    "slideshow": {
     "slide_type": "slide"
    },
    "tags": []
   },
   "source": [
    "## Time Complexity\n",
    "\n",
    "- O(V + E): V is the number of vertices, E is the number of edges.\n",
    "\n",
    "### When to Use\n",
    "\n",
    "- To explore all paths (e.g., finding a path in a maze).\n",
    "- When the solution is far from the root node."
   ]
  },
  {
   "cell_type": "markdown",
   "id": "345db431-c838-48b3-8071-cffcd3bdee89",
   "metadata": {
    "editable": true,
    "slideshow": {
     "slide_type": "slide"
    },
    "tags": []
   },
   "source": [
    "## Lesson 2: Breadth First Search (BFS)\n",
    "\n",
    "### **What Is Breadth First Search?**\n",
    "- An iterative or queue-based algorithm to traverse a tree or graph.\n",
    "- Explores all neighbors of a node before moving deeper.\n",
    "\n",
    "\n",
    "### **How It Works**\n",
    "1. Start at the root node (or a selected node in a graph).\n",
    "2. Visit all its neighbors.\n",
    "3. Move to the next level and repeat."
   ]
  },
  {
   "cell_type": "code",
   "execution_count": null,
   "id": "b76ea94a-8cec-4396-afcc-54474186d831",
   "metadata": {
    "editable": true,
    "execution": {
     "iopub.execute_input": "2024-12-16T15:20:30.343631Z",
     "iopub.status.busy": "2024-12-16T15:20:30.343301Z",
     "iopub.status.idle": "2024-12-16T15:20:30.348664Z",
     "shell.execute_reply": "2024-12-16T15:20:30.348004Z",
     "shell.execute_reply.started": "2024-12-16T15:20:30.343608Z"
    },
    "slideshow": {
     "slide_type": "slide"
    },
    "tags": []
   },
   "outputs": [],
   "source": [
    "### **Example**\n",
    "\n",
    "# BFS on a graph\n",
    "from collections import deque\n",
    "\n",
    "def bfs(graph, start):\n",
    "    visited = set()\n",
    "    queue = deque([start])\n",
    "    while queue:\n",
    "        node = queue.popleft()\n",
    "        if node not in visited:\n",
    "            print(node, end=\" \")\n",
    "            visited.add(node)\n",
    "            queue.extend(graph[node])\n",
    "\n",
    "graph = {\n",
    "    \"A\": [\"B\", \"C\"],\n",
    "    \"B\": [\"D\", \"E\"],\n",
    "    \"C\": [\"F\"],\n",
    "    \"D\": [],\n",
    "    \"E\": [\"F\"],\n",
    "    \"F\": []\n",
    "}\n",
    "\n",
    "bfs(graph, \"A\")"
   ]
  },
  {
   "cell_type": "code",
   "execution_count": null,
   "id": "57937f0b-6669-4796-9a12-e0f6b9ddafdc",
   "metadata": {
    "execution": {
     "iopub.execute_input": "2024-12-16T16:04:22.210461Z",
     "iopub.status.busy": "2024-12-16T16:04:22.210205Z",
     "iopub.status.idle": "2024-12-16T16:04:22.458700Z",
     "shell.execute_reply": "2024-12-16T16:04:22.458030Z",
     "shell.execute_reply.started": "2024-12-16T16:04:22.210442Z"
    }
   },
   "outputs": [],
   "source": [
    "import matplotlib.pyplot as plt\n",
    "import networkx as nx\n",
    "from collections import deque\n",
    "\n",
    "# Define the binary tree structure\n",
    "binary_tree = {\n",
    "    \"A\": [\"B\", \"C\"],  # Root node \"A\" has children \"B\" and \"C\"\n",
    "    \"B\": [\"D\", \"E\"],  # Node \"B\" has children \"D\" and \"E\"\n",
    "    \"C\": [\"F\", \"G\"],  # Node \"C\" has children \"F\" and \"G\"\n",
    "    \"D\": [],          # Leaf node\n",
    "    \"E\": [],          # Leaf node\n",
    "    \"F\": [],          # Leaf node\n",
    "    \"G\": []           # Leaf node\n",
    "}\n",
    "\n",
    "# Perform BFS and return the visited nodes in order\n",
    "def bfs(binary_tree, start):\n",
    "    visited = []\n",
    "    queue = deque([start])  # Initialize the queue with the starting node\n",
    "\n",
    "    while queue:\n",
    "        node = queue.popleft()  # Get the next node to process\n",
    "        if node not in visited:\n",
    "            visited.append(node)  # Mark the node as visited\n",
    "            queue.extend(binary_tree[node])  # Add its children to the queue\n",
    "\n",
    "    return visited\n",
    "\n",
    "# Perform BFS on the binary tree starting at \"A\"\n",
    "visited_nodes = bfs(binary_tree, \"A\")\n",
    "\n",
    "# Visualize the binary tree and BFS traversal\n",
    "def visualize_binary_tree(binary_tree, visited_nodes):\n",
    "    # Create a directed graph using NetworkX\n",
    "    G = nx.DiGraph(binary_tree)\n",
    "\n",
    "    # Position the nodes in a tree layout\n",
    "    pos = nx.drawing.nx_agraph.graphviz_layout(G, prog=\"dot\")\n",
    "\n",
    "    # Assign colors to nodes based on BFS traversal\n",
    "    node_colors = []\n",
    "    for node in G.nodes:\n",
    "        if node in visited_nodes:\n",
    "            node_colors.append(\"skyblue\")  # Highlight visited nodes\n",
    "        else:\n",
    "            node_colors.append(\"lightgray\")  # Non-visited nodes\n",
    "\n",
    "    # Draw the binary tree\n",
    "    plt.figure(figsize=(10, 6))\n",
    "    nx.draw(\n",
    "        G,\n",
    "        pos,\n",
    "        with_labels=True,\n",
    "        node_color=node_colors,\n",
    "        node_size=1000,\n",
    "        font_size=12,\n",
    "        edge_color=\"black\"\n",
    "    )\n",
    "    plt.title(\"Binary Tree with BFS Traversal\", fontsize=16)\n",
    "    plt.show()\n",
    "\n",
    "# Visualize the tree and BFS traversal\n",
    "visualize_binary_tree(binary_tree, visited_nodes)\n"
   ]
  },
  {
   "cell_type": "markdown",
   "id": "14d226e7-5bef-4eec-a3f7-b36f5ae0c95d",
   "metadata": {
    "editable": true,
    "execution": {
     "iopub.execute_input": "2024-12-16T15:20:58.311815Z",
     "iopub.status.busy": "2024-12-16T15:20:58.311209Z",
     "iopub.status.idle": "2024-12-16T15:20:58.316881Z",
     "shell.execute_reply": "2024-12-16T15:20:58.315876Z",
     "shell.execute_reply.started": "2024-12-16T15:20:58.311790Z"
    },
    "slideshow": {
     "slide_type": "slide"
    },
    "tags": []
   },
   "source": [
    "## Time Complexity\n",
    "\n",
    "- O(V + E): V is the number of vertices, E is the number of edges.\n",
    "\n",
    "### When to Use\n",
    "\n",
    "- To find the shortest path in an unweighted graph.\n",
    "- When the solution is closer to the root node."
   ]
  },
  {
   "cell_type": "markdown",
   "id": "3efcf433-08c4-435d-aef0-855a466a807c",
   "metadata": {
    "editable": true,
    "slideshow": {
     "slide_type": "slide"
    },
    "tags": []
   },
   "source": [
    "## Recap: Searching Algorithms\n",
    "\n",
    "| Algorithm | Approach          | Data Structure Used | Time Complexity | When to Use                       |\n",
    "|-----------|-------------------|---------------------|-----------------|-----------------------------------|\n",
    "| **DFS**   | Depth-first       | Stack (implicit)    | O(V + E)        | Exploring all paths or deep nodes.|\n",
    "| **BFS**   | Breadth-first     | Queue               | O(V + E)        | Finding shortest paths.           |\n",
    "\n",
    "### Key Takeaways:\n",
    "1. **DFS** is great for exhaustive searches (e.g., exploring all paths).\n",
    "2. **BFS** is ideal for finding shortest paths in unweighted graphs.\n",
    "3. Both are foundational techniques in graph theory and tree traversal.\n"
   ]
  },
  {
   "cell_type": "code",
   "execution_count": null,
   "id": "08a2b574-fa07-4665-b179-dbcf8f296e2e",
   "metadata": {
    "execution": {
     "iopub.execute_input": "2024-12-16T16:01:10.489388Z",
     "iopub.status.busy": "2024-12-16T16:01:10.488899Z",
     "iopub.status.idle": "2024-12-16T16:01:38.567638Z",
     "shell.execute_reply": "2024-12-16T16:01:38.566257Z",
     "shell.execute_reply.started": "2024-12-16T16:01:10.489367Z"
    }
   },
   "outputs": [],
   "source": [
    "!pip install -q pygraphviz"
   ]
  },
  {
   "cell_type": "code",
   "execution_count": null,
   "id": "b34893e4-4c54-4a74-9146-39c7203f995c",
   "metadata": {
    "editable": true,
    "execution": {
     "iopub.execute_input": "2024-12-16T21:04:20.246935Z",
     "iopub.status.busy": "2024-12-16T21:04:20.246623Z",
     "iopub.status.idle": "2024-12-16T21:04:20.496346Z",
     "shell.execute_reply": "2024-12-16T21:04:20.495484Z",
     "shell.execute_reply.started": "2024-12-16T21:04:20.246915Z"
    },
    "slideshow": {
     "slide_type": ""
    },
    "tags": []
   },
   "outputs": [],
   "source": [
    "import matplotlib.pyplot as plt\n",
    "import networkx as nx\n",
    "from matplotlib.animation import FuncAnimation\n",
    "from collections import deque\n",
    "\n",
    "# Define the graph with a tree-like structure\n",
    "graph = {\n",
    "    \"A\": [\"B\", \"C\"],\n",
    "    \"B\": [\"D\", \"E\"],\n",
    "    \"C\": [\"F\", \"G\"],\n",
    "    \"D\": [],\n",
    "    \"E\": [],\n",
    "    \"F\": [],\n",
    "    \"G\": []\n",
    "}\n",
    "\n",
    "# Convert the graph into a NetworkX Graph\n",
    "G = nx.DiGraph(graph)\n",
    "\n",
    "# Position the nodes using a tree-like layout\n",
    "pos = nx.drawing.nx_agraph.graphviz_layout(G, prog=\"dot\")\n",
    "\n",
    "# BFS Function with visualization\n",
    "visited = []\n",
    "queue = deque([\"A\"])  # Start BFS from node \"A\"\n",
    "\n",
    "def bfs_step():\n",
    "    \"\"\"Perform one step of BFS and return the current visited and queue states.\"\"\"\n",
    "    global queue, visited\n",
    "    if queue:\n",
    "        node = queue.popleft()\n",
    "        if node not in visited:\n",
    "            visited.append(node)\n",
    "            queue.extend(graph[node])\n",
    "    return visited, queue\n",
    "\n",
    "# Initialize the plot\n",
    "fig, ax = plt.subplots(figsize=(8, 6))\n",
    "nx.draw(G, pos, ax=ax, with_labels=True, node_color=\"lightgray\", node_size=1000, font_size=12)\n",
    "node_colors = {node: \"lightgray\" for node in G.nodes}\n",
    "\n",
    "# Update function for animation\n",
    "def update(frame):\n",
    "    ax.clear()  # Clear the current frame\n",
    "    visited, _ = bfs_step()\n",
    "\n",
    "    # Update node colors\n",
    "    for node in visited:\n",
    "        node_colors[node] = \"skyblue\"  # Visited nodes are blue\n",
    "    nx.draw(\n",
    "        G, pos, ax=ax, with_labels=True,\n",
    "        node_color=[node_colors[n] for n in G.nodes],\n",
    "        node_size=1000, font_size=12\n",
    "    )\n",
    "    ax.set_title(\"BFS Visualization (Tree Structure)\", fontsize=16)\n",
    "\n",
    "# Create the animation and assign it to a variable\n",
    "ani = FuncAnimation(fig, update, frames=range(len(G.nodes)), repeat=False, interval=1000)\n",
    "\n",
    "# Show the plot\n",
    "plt.show()\n"
   ]
  },
  {
   "cell_type": "code",
   "execution_count": null,
   "id": "61ed0184-560d-4789-86f2-5f65de4e99e2",
   "metadata": {
    "editable": true,
    "slideshow": {
     "slide_type": ""
    },
    "tags": []
   },
   "outputs": [],
   "source": []
  }
 ],
 "metadata": {
  "kernelspec": {
   "display_name": "anaconda-ai-2024.04-py310",
   "language": "python",
   "name": "conda-env-anaconda-ai-2024.04-py310-py"
  },
  "language_info": {
   "codemirror_mode": {
    "name": "ipython",
    "version": 3
   },
   "file_extension": ".py",
   "mimetype": "text/x-python",
   "name": "python",
   "nbconvert_exporter": "python",
   "pygments_lexer": "ipython3",
   "version": "3.10.13"
  }
 },
 "nbformat": 4,
 "nbformat_minor": 5
}
