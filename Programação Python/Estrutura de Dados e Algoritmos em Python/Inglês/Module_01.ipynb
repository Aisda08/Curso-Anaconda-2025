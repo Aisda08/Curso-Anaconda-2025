{
 "cells": [
  {
   "cell_type": "markdown",
   "id": "9c4cf692-aec7-40e8-b601-f63fe79f1167",
   "metadata": {
    "editable": true,
    "slideshow": {
     "slide_type": "slide"
    },
    "tags": []
   },
   "source": [
    "# Module 1: Big O Notation for Real-World Applications\n",
    "## Understanding Time Complexity in Python\n"
   ]
  },
  {
   "cell_type": "markdown",
   "id": "15fc9881-a347-46b3-b430-a263c3fe881e",
   "metadata": {
    "editable": true,
    "slideshow": {
     "slide_type": "slide"
    },
    "tags": []
   },
   "source": [
    "## Introducing Big O Notation\n",
    "\n",
    "### **What is Big O Notation?**\n",
    "- Big O Notation describes how the performance of an algorithm changes as the size of the input grows.\n",
    "- Focuses on **time complexity** (how long it takes) and **space complexity** (how much memory it uses).\n",
    "\n",
    "###\n",
    "\n",
    "### **Why is Big O Notation Important?**\n",
    "- **Compare algorithms** to find the most efficient one.\n",
    "- **Identify slow parts** of your code that need optimization.\n",
    "- **Ensure scalability**, so your program can handle large amounts of data.\n"
   ]
  },
  {
   "cell_type": "markdown",
   "id": "65f9cfad-8686-4213-b85c-48dacfcd035b",
   "metadata": {
    "editable": true,
    "slideshow": {
     "slide_type": "slide"
    },
    "tags": []
   },
   "source": [
    "## Introducing Big O Notation\n",
    "\n",
    "- **Common Big O Classifications**\n",
    "  - O(1): Constant Time\n",
    "  - O(log n): Logarithmic Time\n",
    "  - O(n): Linear Time\n",
    "  - O(n^2): Quadratic Time"
   ]
  },
  {
   "cell_type": "markdown",
   "id": "6fb3940e-47bd-4490-93cd-756296ea9b87",
   "metadata": {
    "editable": true,
    "slideshow": {
     "slide_type": "slide"
    },
    "tags": []
   },
   "source": [
    "## Introducing Big O Notation\n",
    "### Common Big O Classifications\n",
    "\n",
    "1. **O(1) - Constant Time**:\n",
    "   - No matter how big the task is, the time it takes stays the same.\n",
    "   - **Example**: Imagine you’re looking up the price of a product in a catalog using its item number.\n",
    "     ```python\n",
    "     catalog = {\"item_123\": 20.99, \"item_456\": 15.49}\n",
    "     print(catalog[\"item_123\"])  # Accessing by key is instant, like flipping to the right page.\n",
    "     ```"
   ]
  },
  {
   "cell_type": "markdown",
   "id": "5d93256a-9f69-4f5b-9705-49b3f7d6f7ca",
   "metadata": {
    "editable": true,
    "execution": {
     "iopub.execute_input": "2024-11-25T14:54:42.075504Z",
     "iopub.status.busy": "2024-11-25T14:54:42.075161Z",
     "iopub.status.idle": "2024-11-25T14:54:42.082413Z",
     "shell.execute_reply": "2024-11-25T14:54:42.081019Z",
     "shell.execute_reply.started": "2024-11-25T14:54:42.075480Z"
    },
    "slideshow": {
     "slide_type": "slide"
    },
    "tags": []
   },
   "source": [
    "## Introducing Big O Notation\n",
    "### Common Big O Classifications\n",
    "\n",
    "2. **O(log n) - Logarithmic Time**:\n",
    "   - The bigger the input, the slower it grows, but it’s still very efficient.\n",
    "   - **Example**: Think of looking for a book in a library with a sorted database. You cut the search space in half each time.\n",
    "     ```python\n",
    "     def find_book(sorted_books, title):\n",
    "         start, end = 0, len(sorted_books) - 1\n",
    "         while start <= end:\n",
    "             mid = (start + end) // 2\n",
    "             if sorted_books[mid] == title:\n",
    "                 return mid\n",
    "             elif sorted_books[mid] < title:\n",
    "                 start = mid + 1\n",
    "             else:\n",
    "                 end = mid - 1\n",
    "         return -1  # Not found\n",
    "     ```"
   ]
  },
  {
   "cell_type": "markdown",
   "id": "1bd70f91-e6b3-4d6e-8785-aa78afd95a3b",
   "metadata": {
    "editable": true,
    "execution": {
     "iopub.execute_input": "2024-11-25T14:55:52.111830Z",
     "iopub.status.busy": "2024-11-25T14:55:52.111497Z",
     "iopub.status.idle": "2024-11-25T14:55:52.116866Z",
     "shell.execute_reply": "2024-11-25T14:55:52.116108Z",
     "shell.execute_reply.started": "2024-11-25T14:55:52.111810Z"
    },
    "slideshow": {
     "slide_type": "slide"
    },
    "tags": []
   },
   "source": [
    "## Introducing Big O Notation\n",
    "### Common Big O Classifications\n",
    "\n",
    "3. **O(n) - Linear Time**:\n",
    "   - The time it takes grows in direct proportion to the input size.\n",
    "   - **Example**: Checking every aisle in a grocery store for a specific item.\n",
    "     ```python\n",
    "     items = [\"milk\", \"eggs\", \"bread\", \"cheese\"]\n",
    "     for item in items:\n",
    "         if item == \"bread\":\n",
    "             print(\"Found the bread!\")  # You’re scanning each aisle until you find what you want.\n",
    "     ```"
   ]
  },
  {
   "cell_type": "markdown",
   "id": "d9284e2a-2ace-4961-9b33-bfab58d249e3",
   "metadata": {
    "editable": true,
    "slideshow": {
     "slide_type": "slide"
    },
    "tags": []
   },
   "source": [
    "## Introducing Big O Notation\n",
    "### Common Big O Classifications\n",
    "\n",
    "4. **O(n^2) - Quadratic Time**:\n",
    "   - Tasks where you compare every item with every other item.\n",
    "   - **Example**: Pairing up all employees for a company-wide survey.\n",
    "     ```python\n",
    "     employees = [\"Alice\", \"Bob\", \"Charlie\"]\n",
    "     for emp1 in employees:\n",
    "         for emp2 in employees:\n",
    "             print(f\"Pair: {emp1} and {emp2}\")  # Nested comparisons grow quickly as employees increase.\n",
    "     ```"
   ]
  },
  {
   "cell_type": "markdown",
   "id": "1ea72926-015a-4746-aa25-6969569b6177",
   "metadata": {
    "editable": true,
    "execution": {
     "iopub.execute_input": "2024-11-25T15:09:20.164594Z",
     "iopub.status.busy": "2024-11-25T15:09:20.164271Z",
     "iopub.status.idle": "2024-11-25T15:09:20.171681Z",
     "shell.execute_reply": "2024-11-25T15:09:20.170881Z",
     "shell.execute_reply.started": "2024-11-25T15:09:20.164564Z"
    },
    "slideshow": {
     "slide_type": "slide"
    },
    "tags": []
   },
   "source": [
    "## Summary of Common Big O Notations\n",
    "\n",
    "\n",
    "| Big O Notation  | Name                | Example Task                                         | Performance Impact                     |\n",
    "|------------------|---------------------|-----------------------------------------------------|----------------------------------------|\n",
    "| **O(1)**         | Constant Time       | Accessing an item in a list by index               | Always fast, no matter the input size. |\n",
    "| **O(log n)**     | Logarithmic Time    | Binary search in a sorted list                     | Very efficient for large datasets.     |\n",
    "| **O(n)**         | Linear Time         | Iterating through a list                           | Slows down as input grows.             |\n",
    "| **O(n log n)**   | Log-Linear Time     | Efficient sorting algorithms (e.g., Merge Sort)    | Scales well for many real-world tasks. |\n",
    "| **O(n^2)**       | Quadratic Time      | Nested loops comparing every pair                  | Quickly becomes slow with large inputs.|\n",
    "| **O(2^n)**       | Exponential Time    | Recursive solutions for the Fibonacci sequence     | Becomes impractical for large inputs.  |\n",
    "| **O(n!)**        | Factorial Time      | Generating all permutations of a set               | Only manageable for very small inputs. |\n",
    "\n",
    "### Does your algorithm **scale efficiently** as input size grows?\n"
   ]
  },
  {
   "cell_type": "markdown",
   "id": "a8f71844-0883-4d8f-a17c-0b4a8687e070",
   "metadata": {
    "editable": true,
    "execution": {
     "iopub.execute_input": "2024-11-25T15:16:29.844852Z",
     "iopub.status.busy": "2024-11-25T15:16:29.844412Z",
     "iopub.status.idle": "2024-11-25T15:16:29.848930Z",
     "shell.execute_reply": "2024-11-25T15:16:29.848347Z",
     "shell.execute_reply.started": "2024-11-25T15:16:29.844821Z"
    },
    "slideshow": {
     "slide_type": "slide"
    },
    "tags": []
   },
   "source": [
    "## Exercise: Analyzing the Time Complexity of Python Loops"
   ]
  },
  {
   "cell_type": "code",
   "execution_count": null,
   "id": "09ba6ed6-05e3-414e-977f-5645af0b7a8a",
   "metadata": {
    "editable": true,
    "scrolled": true,
    "slideshow": {
     "slide_type": "subslide"
    },
    "tags": []
   },
   "outputs": [],
   "source": [
    "# Simple Loop\n",
    "\n",
    "n = 5\n",
    "for i in range(n):\n",
    "    print(i)  #<- One loop, prints each number"
   ]
  },
  {
   "cell_type": "code",
   "execution_count": null,
   "id": "aff19f4f-6ee1-4092-8c05-7becb1a86e64",
   "metadata": {
    "editable": true,
    "slideshow": {
     "slide_type": "subslide"
    },
    "tags": []
   },
   "outputs": [],
   "source": [
    "# Nested Loops\n",
    "\n",
    "n = 3\n",
    "for i in range(n): # <- Here we have one loop (Just like before, n times)\n",
    "    for j in range(n): #<- Here we have a second loop (n times again!)\n",
    "        print(i, j)  "
   ]
  }
 ],
 "metadata": {
  "kernelspec": {
   "display_name": "anaconda-ai-2024.04-py310",
   "language": "python",
   "name": "conda-env-anaconda-ai-2024.04-py310-py"
  },
  "language_info": {
   "codemirror_mode": {
    "name": "ipython",
    "version": 3
   },
   "file_extension": ".py",
   "mimetype": "text/x-python",
   "name": "python",
   "nbconvert_exporter": "python",
   "pygments_lexer": "ipython3",
   "version": "3.10.13"
  }
 },
 "nbformat": 4,
 "nbformat_minor": 5
}
