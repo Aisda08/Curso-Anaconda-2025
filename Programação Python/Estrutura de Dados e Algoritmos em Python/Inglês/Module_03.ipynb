{
 "cells": [
  {
   "cell_type": "markdown",
   "id": "61feb835-1334-4bd1-abbc-f5ffb5809cb7",
   "metadata": {
    "editable": true,
    "slideshow": {
     "slide_type": "slide"
    },
    "tags": []
   },
   "source": [
    "# Module 3: Hash Tables, Dictionaries, Trees, and Other Hierarchical Data"
   ]
  },
  {
   "cell_type": "markdown",
   "id": "954fd5cd-7ffb-40ed-8176-0516ab9284d9",
   "metadata": {
    "editable": true,
    "slideshow": {
     "slide_type": "slide"
    },
    "tags": []
   },
   "source": [
    "## What You'll Learn\n",
    "1. **Lesson 1**: Understand hashing and dictionaries for efficient data storage and retrieval.\n",
    "2. **Lesson 2**: Learn the basics of binary trees for hierarchical data representation.\n",
    "3. **Lesson 3**: Explore graphs and their properties for complex data structures.\n"
   ]
  },
  {
   "cell_type": "markdown",
   "id": "bdfdf9e2-92f5-48b5-bcc9-a7f4d6481e98",
   "metadata": {
    "editable": true,
    "slideshow": {
     "slide_type": "slide"
    },
    "tags": []
   },
   "source": [
    "## Lesson 1: Introduction to Hashing and Dictionaries"
   ]
  },
  {
   "cell_type": "markdown",
   "id": "dc8dc971-5329-4ea6-ad5e-10d30897e279",
   "metadata": {
    "editable": true,
    "slideshow": {
     "slide_type": "slide"
    },
    "tags": []
   },
   "source": [
    "### **What Are Dictionaries?**\n",
    "- A collection of key-value pairs in Python.\n",
    "- Keys are hashed for fast lookup, making operations like search and update very efficient.\n",
    "\n",
    "### **Example**\n",
    "```python\n",
    "# Storing student grades\n",
    "grades = {\"Alice\": 85, \"Bob\": 92, \"Charlie\": 78}\n",
    "\n",
    "# Accessing data\n",
    "print(grades[\"Alice\"])  # Output: 85\n",
    "\n",
    "# Adding or updating a grade\n",
    "grades[\"Diana\"] = 88\n",
    "print(grades)"
   ]
  },
  {
   "cell_type": "markdown",
   "id": "db95d699-ac19-4020-b6ea-a27e6abc3e9c",
   "metadata": {
    "editable": true,
    "execution": {
     "iopub.execute_input": "2024-12-09T15:48:35.389479Z",
     "iopub.status.busy": "2024-12-09T15:48:35.389176Z",
     "iopub.status.idle": "2024-12-09T15:48:35.394744Z",
     "shell.execute_reply": "2024-12-09T15:48:35.393823Z",
     "shell.execute_reply.started": "2024-12-09T15:48:35.389447Z"
    },
    "slideshow": {
     "slide_type": "slide"
    },
    "tags": []
   },
   "source": [
    "### Why Use Dictionaries?\n",
    "- Fast lookups (O(1) on average).\n",
    "- Ideal for mapping relationships (e.g., name to phone number). \n",
    "\n",
    "### **Example**\n",
    "```python\n",
    "# Creating a dictionary to map names to phone numbers\n",
    "phonebook = {\n",
    "    \"Alice\": \"555-1234\",\n",
    "    \"Bob\": \"555-5678\",\n",
    "    \"Charlie\": \"555-8765\"\n",
    "}\n",
    "\n",
    "# Fast lookup by name\n",
    "print(phonebook[\"Alice\"])  # Output: 555-1234"
   ]
  },
  {
   "cell_type": "markdown",
   "id": "4b748fe2-09dd-4634-8908-6d6ae757704d",
   "metadata": {
    "editable": true,
    "slideshow": {
     "slide_type": "slide"
    },
    "tags": []
   },
   "source": [
    "## Lesson 2: Binary Trees\n",
    "\n",
    "### **What Are Binary Trees?**\n",
    "- A hierarchical data structure where each node has up to two children.\n",
    "- Commonly used in:\n",
    "  - Searching and sorting (e.g., Binary Search Trees).\n",
    "  - Representing hierarchical relationships (e.g., family trees).\n"
   ]
  },
  {
   "cell_type": "code",
   "execution_count": null,
   "id": "28867c74-eee6-460b-843c-b4f0ee59ea52",
   "metadata": {
    "editable": true,
    "execution": {
     "iopub.execute_input": "2024-12-09T21:51:05.495451Z",
     "iopub.status.busy": "2024-12-09T21:51:05.494297Z",
     "iopub.status.idle": "2024-12-09T21:51:05.510567Z",
     "shell.execute_reply": "2024-12-09T21:51:05.509968Z",
     "shell.execute_reply.started": "2024-12-09T21:51:05.495418Z"
    },
    "slideshow": {
     "slide_type": "slide"
    },
    "tags": []
   },
   "outputs": [],
   "source": [
    "### **Example**\n",
    "\n",
    "# Simple binary tree node structure\n",
    "class Node:\n",
    "    def __init__(self, value):\n",
    "        self.value = value\n",
    "        self.left = None\n",
    "        self.right = None\n",
    "\n",
    "# Creating a tree\n",
    "root = Node(10)\n",
    "root.left = Node(5)\n",
    "root.right = Node(15)\n",
    "\n",
    "# Accessing tree nodes\n",
    "print(root.value)         # Output: 10\n",
    "print(root.left.value)    # Output: 5"
   ]
  },
  {
   "cell_type": "code",
   "execution_count": null,
   "id": "34e9fe3a-904e-4ff4-b1d8-0ac110330293",
   "metadata": {
    "editable": true,
    "execution": {
     "iopub.execute_input": "2024-12-09T16:02:37.558307Z",
     "iopub.status.busy": "2024-12-09T16:02:37.558020Z",
     "iopub.status.idle": "2024-12-09T16:02:37.571220Z",
     "shell.execute_reply": "2024-12-09T16:02:37.570708Z",
     "shell.execute_reply.started": "2024-12-09T16:02:37.558286Z"
    },
    "slideshow": {
     "slide_type": "slide"
    },
    "tags": []
   },
   "outputs": [],
   "source": [
    "from binarytree import Node\n",
    "\n",
    "root = Node(1)\n",
    "root.left = Node(2)\n",
    "root.right = Node(3)\n",
    "root.left.left = Node(4)\n",
    "root.left.right = Node(5)\n",
    "\n",
    "print(root)"
   ]
  },
  {
   "cell_type": "markdown",
   "id": "c193deef-dd72-4764-a402-116c8813ff9d",
   "metadata": {
    "editable": true,
    "slideshow": {
     "slide_type": "slide"
    },
    "tags": []
   },
   "source": [
    "## Lesson 3: Introduction to Graphs and Their Properties\n",
    "\n",
    "\n",
    "### **What Are Graphs?**\n",
    "- A set of nodes (vertices) connected by edges.\n",
    "- Used to represent relationships, such as:\n",
    "  - Social networks (people connected by friendships).\n",
    "  - Roadmaps (cities connected by roads).\n",
    "\n",
    "\n",
    "### **Example**\n",
    "```python\n",
    "# Representing a graph with a dictionary\n",
    "graph = {\n",
    "    \"A\": [\"B\", \"C\"],\n",
    "    \"B\": [\"A\", \"D\"],\n",
    "    \"C\": [\"A\", \"D\"],\n",
    "    \"D\": [\"B\", \"C\"]\n",
    "}\n",
    "\n",
    "# Access neighbors of a node\n",
    "print(graph[\"A\"])  # Output: ['B', 'C']"
   ]
  },
  {
   "cell_type": "markdown",
   "id": "f9e2cded-3452-45d5-abe6-647183a06e8b",
   "metadata": {
    "editable": true,
    "execution": {
     "iopub.execute_input": "2024-12-09T15:52:23.046034Z",
     "iopub.status.busy": "2024-12-09T15:52:23.045608Z",
     "iopub.status.idle": "2024-12-09T15:52:23.058337Z",
     "shell.execute_reply": "2024-12-09T15:52:23.057533Z",
     "shell.execute_reply.started": "2024-12-09T15:52:23.046003Z"
    },
    "slideshow": {
     "slide_type": "slide"
    },
    "tags": []
   },
   "source": [
    "### Properties of a Graph\n",
    "\n",
    "- Vertices: Each point on a graph\n",
    "- Edge: The connection between vertices\n",
    "- Degree: The number of edges that connect to a vertex\n",
    "\n",
    "#### Different types of Graphs\n",
    "\n",
    "- Directed or Undirected: Edges may have direction (one-way streets).\n",
    "- Weighted or Unweighted: Edges may have weights (distances, costs)."
   ]
  },
  {
   "cell_type": "code",
   "execution_count": null,
   "id": "4e2f9358-321c-4814-b019-f697c674c23c",
   "metadata": {
    "editable": true,
    "execution": {
     "iopub.execute_input": "2024-12-09T16:02:33.132057Z",
     "iopub.status.busy": "2024-12-09T16:02:33.131428Z",
     "iopub.status.idle": "2024-12-09T16:02:37.539018Z",
     "shell.execute_reply": "2024-12-09T16:02:37.538251Z",
     "shell.execute_reply.started": "2024-12-09T16:02:33.132022Z"
    },
    "slideshow": {
     "slide_type": "skip"
    },
    "tags": []
   },
   "outputs": [],
   "source": [
    "!pip install -q binarytree "
   ]
  },
  {
   "cell_type": "code",
   "execution_count": null,
   "id": "505074c1-8950-4b3c-bb2c-e86086994ae1",
   "metadata": {
    "editable": true,
    "execution": {
     "iopub.execute_input": "2024-12-09T16:05:25.546093Z",
     "iopub.status.busy": "2024-12-09T16:05:25.545874Z",
     "iopub.status.idle": "2024-12-09T16:05:29.715139Z",
     "shell.execute_reply": "2024-12-09T16:05:29.712134Z",
     "shell.execute_reply.started": "2024-12-09T16:05:25.546066Z"
    },
    "slideshow": {
     "slide_type": "skip"
    },
    "tags": []
   },
   "outputs": [],
   "source": [
    "!pip install -q networkx"
   ]
  },
  {
   "cell_type": "code",
   "execution_count": null,
   "id": "9f2ee971-86a9-47fb-a272-a1fd9e49eba8",
   "metadata": {
    "editable": true,
    "execution": {
     "iopub.execute_input": "2024-12-09T16:05:29.968083Z",
     "iopub.status.busy": "2024-12-09T16:05:29.967849Z",
     "iopub.status.idle": "2024-12-09T16:05:30.119709Z",
     "shell.execute_reply": "2024-12-09T16:05:30.119006Z",
     "shell.execute_reply.started": "2024-12-09T16:05:29.968056Z"
    },
    "slideshow": {
     "slide_type": "slide"
    },
    "tags": []
   },
   "outputs": [],
   "source": [
    "import matplotlib.pyplot as plt\n",
    "import networkx as nx\n",
    "\n",
    "# Create a simple graph using NetworkX\n",
    "graph = nx.Graph()\n",
    "\n",
    "# Add nodes\n",
    "graph.add_nodes_from([\"A\", \"B\", \"C\", \"D\"])\n",
    "\n",
    "# Add edges\n",
    "graph.add_edges_from([(\"A\", \"B\"), (\"A\", \"C\"), (\"B\", \"D\"), (\"C\", \"D\")])\n",
    "\n",
    "# Draw the graph\n",
    "plt.figure(figsize=(6, 6))\n",
    "nx.draw(\n",
    "    graph, \n",
    "    with_labels=True, \n",
    "    node_color=\"skyblue\", \n",
    "    node_size=2000, \n",
    "    font_size=12, \n",
    "    font_weight=\"bold\",\n",
    "    edge_color=\"gray\"\n",
    ")\n",
    "plt.title(\"Simple Graph Visualization\", fontsize=16)\n",
    "plt.show()\n"
   ]
  },
  {
   "cell_type": "code",
   "execution_count": null,
   "id": "f81bd75f-ea70-4e9b-bf83-5535f31bd8ce",
   "metadata": {
    "editable": true,
    "execution": {
     "iopub.execute_input": "2024-12-09T16:07:14.726907Z",
     "iopub.status.busy": "2024-12-09T16:07:14.726562Z",
     "iopub.status.idle": "2024-12-09T16:07:14.928866Z",
     "shell.execute_reply": "2024-12-09T16:07:14.928196Z",
     "shell.execute_reply.started": "2024-12-09T16:07:14.726878Z"
    },
    "slideshow": {
     "slide_type": "slide"
    },
    "tags": []
   },
   "outputs": [],
   "source": [
    "import matplotlib.pyplot as plt\n",
    "import networkx as nx\n",
    "\n",
    "# Create a directed graph using NetworkX\n",
    "directed_graph = nx.DiGraph()\n",
    "\n",
    "# Add nodes\n",
    "directed_graph.add_nodes_from([\"A\", \"B\", \"C\", \"D\"])\n",
    "\n",
    "# Add directed edges\n",
    "directed_graph.add_edges_from([(\"A\", \"B\"), (\"A\", \"C\"), (\"B\", \"D\"), (\"C\", \"D\"), (\"D\", \"A\")])\n",
    "\n",
    "# Draw the directed graph\n",
    "plt.figure(figsize=(6, 6))\n",
    "nx.draw(\n",
    "    directed_graph,\n",
    "    with_labels=True,\n",
    "    node_color=\"lightcoral\",\n",
    "    node_size=2000,\n",
    "    font_size=12,\n",
    "    font_weight=\"bold\",\n",
    "    edge_color=\"gray\",\n",
    "    arrowsize=20,\n",
    "    arrowstyle=\"->\"  # Style for directed edges\n",
    ")\n",
    "plt.title(\"Directed Graph Visualization\", fontsize=16)\n",
    "plt.show()\n"
   ]
  },
  {
   "cell_type": "code",
   "execution_count": null,
   "id": "4631d4b8-4447-4092-91bb-4fe6d89f60eb",
   "metadata": {
    "editable": true,
    "execution": {
     "iopub.execute_input": "2024-12-09T16:10:24.011893Z",
     "iopub.status.busy": "2024-12-09T16:10:24.011611Z",
     "iopub.status.idle": "2024-12-09T16:10:24.139797Z",
     "shell.execute_reply": "2024-12-09T16:10:24.139265Z",
     "shell.execute_reply.started": "2024-12-09T16:10:24.011869Z"
    },
    "slideshow": {
     "slide_type": "slide"
    },
    "tags": []
   },
   "outputs": [],
   "source": [
    "import matplotlib.pyplot as plt\n",
    "import networkx as nx\n",
    "\n",
    "# Create a directed graph\n",
    "weighted_graph = nx.DiGraph()\n",
    "\n",
    "# Add nodes\n",
    "weighted_graph.add_nodes_from([\"A\", \"B\", \"C\", \"D\"])\n",
    "\n",
    "# Add weighted edges\n",
    "weighted_edges = [\n",
    "    (\"A\", \"B\", 5),  # A → B with weight 5\n",
    "    (\"A\", \"C\", 3),  # A → C with weight 3\n",
    "    (\"B\", \"D\", 2),  # B → D with weight 2\n",
    "    (\"C\", \"D\", 8),  # C → D with weight 8\n",
    "    (\"D\", \"A\", 7)   # D → A with weight 7\n",
    "]\n",
    "weighted_graph.add_weighted_edges_from(weighted_edges)\n",
    "\n",
    "# Draw the graph\n",
    "plt.figure(figsize=(8, 6))\n",
    "pos = nx.spring_layout(weighted_graph)  # Position nodes for visualization\n",
    "\n",
    "# Draw nodes and edges\n",
    "nx.draw(\n",
    "    weighted_graph,\n",
    "    pos,\n",
    "    with_labels=True,\n",
    "    node_color=\"lightgreen\",\n",
    "    node_size=2000,\n",
    "    font_size=12,\n",
    "    font_weight=\"bold\",\n",
    "    edge_color=\"gray\",\n",
    "    arrowsize=20,\n",
    "    arrowstyle=\"->\"\n",
    ")\n",
    "\n",
    "# Draw edge labels (weights)\n",
    "edge_labels = nx.get_edge_attributes(weighted_graph, \"weight\")\n",
    "nx.draw_networkx_edge_labels(\n",
    "    weighted_graph,\n",
    "    pos,\n",
    "    edge_labels=edge_labels,\n",
    "    font_size=10,\n",
    "    font_color=\"blue\"\n",
    ")\n",
    "\n",
    "plt.title(\"Weighted Directed Graph\", fontsize=16)\n",
    "plt.show()\n"
   ]
  }
 ],
 "metadata": {
  "kernelspec": {
   "display_name": "anaconda-ai-2024.04-py310",
   "language": "python",
   "name": "conda-env-anaconda-ai-2024.04-py310-py"
  },
  "language_info": {
   "codemirror_mode": {
    "name": "ipython",
    "version": 3
   },
   "file_extension": ".py",
   "mimetype": "text/x-python",
   "name": "python",
   "nbconvert_exporter": "python",
   "pygments_lexer": "ipython3",
   "version": "3.10.13"
  }
 },
 "nbformat": 4,
 "nbformat_minor": 5
}
