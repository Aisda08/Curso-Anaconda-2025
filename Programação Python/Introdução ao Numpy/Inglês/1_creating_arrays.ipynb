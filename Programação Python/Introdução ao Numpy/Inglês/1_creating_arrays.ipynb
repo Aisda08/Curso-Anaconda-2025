{
 "cells": [
  {
   "cell_type": "code",
   "execution_count": null,
   "id": "c59df4a5-dc21-4701-8ae8-b17f1fa69711",
   "metadata": {},
   "outputs": [],
   "source": []
  }
 ],
 "metadata": {
  "kernelspec": {
   "display_name": "",
   "name": ""
  },
  "language_info": {
   "name": ""
  }
 },
 "nbformat": 4,
 "nbformat_minor": 5
}
