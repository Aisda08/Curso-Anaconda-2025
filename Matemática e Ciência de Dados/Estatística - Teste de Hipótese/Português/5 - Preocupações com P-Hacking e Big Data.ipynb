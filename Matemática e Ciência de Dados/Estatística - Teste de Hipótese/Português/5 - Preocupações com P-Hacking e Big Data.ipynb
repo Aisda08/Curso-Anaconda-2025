{
 "cells": [
  {
   "cell_type": "markdown",
   "id": "b13bc577",
   "metadata": {},
   "source": [
    "# Preocupações com P-Hacking e Big Data"
   ]
  },
  {
   "cell_type": "markdown",
   "id": "54990d99",
   "metadata": {},
   "source": [
    "Esta seção abordará o p-hacking e outros problemas de big data. Até agora, aprendemos como utilizar modelos controlados para analisar a significância estatística e se podemos levar as descobertas a sério. No entanto, quando se introduz viés humano e grandes quantidades de dados, torna-se fácil \"comprar\" descobertas que parecem significativas e confiáveis, mas que, na verdade, são apenas mera coincidência. Abordaremos a falácia do atirador de elite do Texas, viés e fatores humanos no que diz respeito à pesquisa científica."
   ]
  },
  {
   "cell_type": "markdown",
   "id": "b9808835",
   "metadata": {},
   "source": [
    "> \"Quando você tortura os dados por tempo suficiente, eles confessam qualquer coisa.\" - Ronald H. Coase"
   ]
  },
  {
   "cell_type": "markdown",
   "id": "2c22dc36",
   "metadata": {},
   "source": [
    "## Falácia do atirador de elite do Texas"
   ]
  },
  {
   "cell_type": "markdown",
   "id": "ac027ce5",
   "metadata": {},
   "source": [
    "Vamos fazer um experimento bem simples. Digamos que você se aproxima de um celeiro e atira na parede sem um alvo específico, como simulado abaixo."
   ]
  },
  {
   "cell_type": "code",
   "execution_count": null,
   "id": "27357922",
   "metadata": {
    "scrolled": true
   },
   "outputs": [],
   "source": [
    "from matplotlib import pyplot as plt\n",
    "import random \n",
    "\n",
    "x, y = [random.randrange(0,5)], [random.randrange(0,5)]\n",
    "plt.xlim(-.5, 5.5)\n",
    "plt.ylim(-.5, 5.5)\n",
    "plt.plot(x, y, marker=\"x\", markersize=10, color='red')\n",
    "plt.show()"
   ]
  },
  {
   "cell_type": "markdown",
   "id": "5261f77d",
   "metadata": {},
   "source": [
    "Agora pergunte a si mesmo: qual é a probabilidade de acertar aquele ponto específico que você acabou de atirar? Bem... quando você considera a parede inteira e o número infinito de pontos para acertar nela, você perceberá que é incrivelmente improvável. Para reforçar meu ponto, vamos desenhar um alvo ao redor daquele buraco que acabamos de criar."
   ]
  },
  {
   "cell_type": "code",
   "execution_count": null,
   "id": "9852db46",
   "metadata": {},
   "outputs": [],
   "source": [
    "plt.xlim(-.5, 5.5)\n",
    "plt.ylim(-.5, 5.5)\n",
    "plt.plot(x, y, marker=\"o\", markersize=36, color='red')\n",
    "plt.plot(x, y, marker=\"o\", markersize=26, color='blue')\n",
    "plt.plot(x, y, marker=\"o\", markersize=16, color='yellow')\n",
    "plt.plot(x, y, marker=\"x\", markersize=10, color='red')\n",
    "plt.show()\n"
   ]
  },
  {
   "cell_type": "markdown",
   "id": "69d86499",
   "metadata": {},
   "source": [
    "Agora vou fazer algo ridículo. Vou chamar meus amigos e mostrar minha incrível pontaria. \"Olha o alvo que acabei de acertar!\", digo. \"É tão improvável que eu acertasse EXATAMENTE neste ponto, e mesmo assim acertei!\" Pense por um momento qual é o problema e siga em frente.\n",
    "\n",
    "O problema é que, embora acertar um alvo específico seja extremamente improvável, é fácil apontar um alvo *depois* de ele ter acontecido. Posso atirar às cegas em uma parede, desenhar um alvo ao redor do buraco e apontar o ponto improvável que acabei de acertar. *Eu nunca previ o alvo, eu o observei depois que ele aconteceu.* Isso é o que chamamos de **Falácia do Atirador de Elite do Texas** e acontece com muita frequência em pesquisas científicas.\n",
    "\n",
    "Considere outro exemplo: a probabilidade de um jogador específico ganhar na loteria é extremamente improvável, mas alguém *vai* ganhar na loteria. Vamos simular isso abaixo, supondo que haja apenas um ganhador em um milhão de competidores."
   ]
  },
  {
   "cell_type": "code",
   "execution_count": null,
   "id": "c1987e22",
   "metadata": {},
   "outputs": [],
   "source": [
    "import random \n",
    "\n",
    "def loteria(num_de_participantes: int): \n",
    "    ganhador = random.randint(0,num_de_participantes)\n",
    "    probabilidade = 1 / num_de_participantes\n",
    "    \n",
    "    print(f\"JOGADOR {ganhador} GANHOU NA LOTERIA!\")\n",
    "    print(f\"Ele tinha {round(probabilidade * 100, 4)}% de chance de ganhar.\")\n",
    "          \n",
    "\n",
    "loteria(1_000_000)"
   ]
  },
  {
   "cell_type": "markdown",
   "id": "923b7e75",
   "metadata": {},
   "source": [
    "Estamos surpresos com o fato de haver um vencedor? Não! Foi pura sorte. Se previmos o vencedor, isso seria impressionante e útil. Mas não há nada de extraordinário em uma pessoa específica vencer quando ninguém previu que ela venceria. E, no entanto, essa pessoa tinha uma chance extremamente improvável de vencer: 0,0001%.\n",
    "\n",
    "**A probabilidade de um evento improvável é provável! Só não sabemos qual.**\n",
    "\n",
    "Essa falácia também é fácil de ser feita com dados e análises. Quanto mais dados temos, mais alvos podemos encontrar que foram coincidências aleatórias. Os alvos podem ter um valor-p notavelmente baixo e, ainda assim, serem coincidentes e considerados significativos. Isso é o que chamamos de p-hacking."
   ]
  },
  {
   "cell_type": "markdown",
   "id": "06aef2af",
   "metadata": {},
   "source": [
    "## Mineração de Dados e o Paradoxo de Simpson"
   ]
  },
  {
   "cell_type": "markdown",
   "id": "e8c6fe79",
   "metadata": {},
   "source": [
    "Pergunte a si mesmo: mais dados são uma coisa boa?\n",
    "\n",
    "Claro, ter mais dados oferece mais oportunidades de coletar informações. Mas quando se trata de descobertas estatísticas, a situação se torna cada vez mais precária. Podemos cair na armadilha de encontrar cada vez mais alvos que, por acaso, foram atingidos, mas o fizeram por coincidência. Podemos argumentar que os valores de p para essas descobertas são baixos e significativos. No entanto, como dito anteriormente, a probabilidade de eventos improváveis ​​é provável, apenas não sabemos quais. Eles são fáceis de identificar em retrospectiva.\n",
    "\n",
    "Vejamos um conjunto de dados que estuda possíveis variáveis ​​que contribuem para o latido de um cachorro."
   ]
  },
  {
   "cell_type": "code",
   "execution_count": null,
   "id": "eeafd367",
   "metadata": {},
   "outputs": [],
   "source": [
    "import pandas as pd \n",
    "\n",
    "df = pd.read_csv(\"https://raw.githubusercontent.com/thomasnield/machine-learning-demo-data/797f82f66f2283bcb75d5ff8275c39f45167c2b6/regression/dog_barking.csv\")\n",
    "df"
   ]
  },
  {
   "cell_type": "markdown",
   "id": "7427dcf6",
   "metadata": {},
   "source": [
    "A coluna da direita representa o número de latidos, ou a variável de saída em que estamos interessados. As outras variáveis ​​incluem idade, sexo, temperatura ambiente, nível de ruído, número de batidas na porta e o número de horas que o dono ficou em casa. Vamos construir uma matriz de correlação, que mede a força de uma correlação/relação entre cada variável. Um valor de correlação de 0 indica ausência de correlação, enquanto um valor próximo a -1 ou 1 indica uma forte correlação negativa ou positiva, respectivamente."
   ]
  },
  {
   "cell_type": "code",
   "execution_count": null,
   "id": "bd18b608",
   "metadata": {},
   "outputs": [],
   "source": [
    "df.corr(method='pearson')"
   ]
  },
  {
   "cell_type": "markdown",
   "id": "0806edef",
   "metadata": {},
   "source": [
    "Parece haver uma correlação positiva decente entre `DOOR_KNOCKS` e `NUMBER_OF_BARKS`. Isso faz sentido. Cães tendem a latir quando alguém bate na porta da frente. Mas as outras variáveis ​​têm correlações muito fracas.\n",
    "\n",
    "Poderíamos encerrar nosso estudo aqui, e devemos! Mas digamos que o pesquisador esteja desesperado para encontrar algo \"interessante\" ou \"inovador\". Então, o pesquisador agora divide os dados em diferentes faixas etárias.\n",
    "\n",
    "Ele observa os cães abaixo, com idades entre 4 e 7 anos. Estranhamente, a correlação desaparece entre `DOOR_KNOCKS` e `NUMBER_OF_BARKS` neste grupo, e agora é `-0,054233`. Isso é o que chamamos de **Paradoxo de Simpson**, em que um padrão é revertido após ser segmentado."
   ]
  },
  {
   "cell_type": "code",
   "execution_count": null,
   "id": "342c6b2c",
   "metadata": {
    "scrolled": true
   },
   "outputs": [],
   "source": [
    "filtered_df = df[(df[\"AGE\"] <= 7) & (df[\"AGE\"] >= 4)]\n",
    "filtered_df.corr(method='pearson')"
   ]
  },
  {
   "attachments": {},
   "cell_type": "markdown",
   "id": "329da784",
   "metadata": {},
   "source": [
    "Em seguida, ele observa cães entre 8 e 11 anos. Curiosamente, parece que cães na faixa etária de 8 a 11 anos latem menos quando o nível de ruído é maior, já que a correlação entre as duas variáveis ​​é `-0,700051`."
   ]
  },
  {
   "cell_type": "code",
   "execution_count": null,
   "id": "4ea72d8e",
   "metadata": {},
   "outputs": [],
   "source": [
    "filtered_df = df[(df[\"AGE\"] <= 11) & (df[\"AGE\"] >= 8)]\n",
    "filtered_df.corr(method='pearson')"
   ]
  },
  {
   "cell_type": "markdown",
   "id": "6954cf5b",
   "metadata": {},
   "source": [
    "Agora, o pesquisador começa a levantar hipóteses. Talvez cães na faixa etária de 4 a 7 anos percam o interesse em latir quando batem na porta depois de fazer isso quando filhotes, mas retornem quando não estiverem mais esgotados! Talvez cães na faixa de 8 a 11 anos tenham mais dificuldades auditivas e os níveis de ruído ambiente abafem quaisquer outros estímulos que os façam latir.\n",
    "\n",
    "Viu como estamos enlouquecendo minerando os dados em busca de descobertas, e continuamos fragmentando e manipulando os dados tentando encontrar conclusões interessantes? Essa prática lhe parece familiar?\n",
    "\n",
    "![charlie](https://i.giphy.com/media/l0IylOPCNkiqOgMyA/giphy.webp \"charlie\")\n",
    "\n",
    "*Cortesia: 20th Century Fox* \n",
    "\n",
    "Surpresa! Esses dados são gerados aleatoriamente, mostrando como é fácil fazer descobertas espúrias até mesmo em dados aleatórios. Essa busca por padrões nos dados é conhecida como mineração de dados, e as correlações que encontramos ocorreram completamente por acaso. Para maior credibilidade, determinei uma correlação positiva entre batidas de porta e latidos de cachorro, mas todos os outros campos eram completamente aleatórios. Isso mostra que correlações podem ser encontradas até mesmo em dados gerados aleatoriamente e, portanto, podem não ter sentido. Correlações aleatórias podem existir no mundo real e é outro motivo pelo qual o mantra \"correlação não significa causalidade\" é tão importante.\n",
    "\n",
    "Se você quiser ver o código exato que foi usado para criar este conjunto de dados, aqui está a declaração Pandas/NumPy abaixo."
   ]
  },
  {
   "cell_type": "code",
   "execution_count": null,
   "id": "2dc1ed07",
   "metadata": {},
   "outputs": [],
   "source": [
    "import numpy as np\n",
    "import pandas as pd\n",
    "\n",
    "pd.set_option('display.max_rows', None)\n",
    "pd.set_option('display.width', None)\n",
    "\n",
    "n = 40\n",
    "np.random.seed(7)\n",
    "door_knocks =  np.random.normal(3, 1, n).astype(int)\n",
    "\n",
    "df =  pd.DataFrame({\"AGE\" : np.random.randint(0,16,n),\n",
    "                    \"SEX\" : np.random.randint(0,2, n),\n",
    "                    \"ROOM_TEMPERATURE\" : np.random.normal(76, 4, n),\n",
    "                    \"NOISE_LEVEL\": np.random.normal(30, 10, n),\n",
    "                    \"DOOR_KNOCKS\" : door_knocks,\n",
    "                    \"HOURS_OWNER_HOME\" : np.random.normal(7, 3, n),\n",
    "                    \"NUMBER_OF_BARKS\" :  door_knocks * np.random.binomial(2,.85, n)\n",
    "                   })\n",
    "\n",
    "df"
   ]
  },
  {
   "attachments": {},
   "cell_type": "markdown",
   "id": "fa5a163b",
   "metadata": {},
   "source": [
    "O problema com os exemplos anteriores é que praticamos mineração de dados em vez do método científico.\n",
    "\n",
    "**Mineração de dados:** Coletar dados e, em seguida, formular hipóteses\n",
    "\n",
    "**Método científico:** Formular hipóteses e, em seguida, reunir dados\n",
    "\n",
    "O método científico exige uma hipótese estruturada, e os dados são deliberadamente coletados para comprovar e refutar essa hipótese, utilizando um grupo de teste e um grupo de controle. A mineração de dados é um processo aberto, no qual coletamos muitos dados e esperamos encontrar padrões ocultos e insights (não testados) que podem não ser óbvios ou mesmo fazer sentido! Se a mineração de dados for utilizada, o ideal é que ela seja complementada com novos dados e testes, mas muitos profissionais não conseguem fazer isso.\n",
    "\n",
    "> **Aprendizado de Máquina é Mineração de Dados?**\n",
    "\n",
    "> O aprendizado de máquina percorre um enorme espaço de hipóteses em busca de hipóteses que se correlacionem com os dados, portanto, é, de fato, mineração de dados. Pense no aprendizado de máquina como uma ferramenta automatizada de mineração de dados, que avalia inúmeras relações de variáveis ​​nos dados. Quando treinamos um classificador de imagens para reconhecer vacas, estamos minerando dados para encontrar pixels que formam formas que se correlacionam com o rótulo \"vaca\". Embora isso possa ser útil, não é incomum encontrar correlações sem sentido ou incorretas entre grupos de pixels. Por exemplo, um classificador de imagens pode reconhecer campos vazios como \"vacas\" porque foi treinado em campos com vacas, mas correlacionou-se com o campo e não com as vacas.\n",
    "As vacas coincidiram com o campo e, portanto, resultaram em uma hipótese que se correlacionou com as variáveis ​​incorretas."
   ]
  },
  {
   "attachments": {},
   "cell_type": "markdown",
   "id": "091be2ac",
   "metadata": {},
   "source": [
    "## P-Hacking\n",
    "\n",
    "P-hacking é a seleção seletiva de modelos e dados que produz um resultado desejado em vez de um resultado realista. Mais especificamente, P-hacking é a mineração de dados para um valor-p inferior a 0,05. Práticas indisciplinadas e sob pressão costumam ser a causa. Simplesmente escolher um modelo porque \"parece significativo\" ou \"resolve meu objetivo\", em vez de desafiá-lo, é uma maneira sutil e fácil de fazer P-hacking.\n",
    "\n",
    "Isso pode levar a uma inflação de falsos positivos, onde nosso modelo se torna muito otimista em relação a um resultado, mas apresenta um desempenho ruim na prática. P-hacking é supostamente responsável pela crise de replicabilidade1, e pode-se argumentar que é agravada pela disponibilidade de dados e aprendizado de máquina.\n",
    "\n",
    "**Exemplos de P-Hacking:**\n",
    "* Coletar apenas dados suficientes para obter o resultado desejado.\n",
    "\n",
    "* Removendo dados inconvenientes como \"outliers\" ou \"ruído\"\n",
    "* Buscando variáveis ​​que geram o resultado desejado\n",
    "* Dividindo os dados em subgrupos e focando em um grupo\n",
    "* Buscando parâmetros do modelo que geram o resultado correto\n",
    "* Usando sementes aleatórias que produzem os resultados desejados\n",
    "\n",
    "**Motivações para o P-Hacking**\n",
    "* Pressão da pesquisa: \"Sem papel, sem financiamento\"\n",
    "* Pressão do trabalho: \"Nosso cliente quer ver um modelo que preveja uma economia de 10% nos custos de transporte\"\n",
    "* Pressão da startup: \"Nossos investidores de capital de risco querem uma demonstração, então encontre um conjunto de dados que produza resultados favoráveis.\"\n",
    "\n",
    "O P-Hacking é malicioso e enganoso? Geralmente não, muitas vezes é a natureza humana operando sob pressão e sobrevivência na carreira."
   ]
  },
  {
   "cell_type": "markdown",
   "id": "07c64ed9",
   "metadata": {},
   "source": [
    "## Viés de dados"
   ]
  },
  {
   "cell_type": "markdown",
   "id": "a4ed3da1",
   "metadata": {},
   "source": [
    "Como humanos, somos estranhamente programados para sermos tendenciosos. Tendemos a procurar padrões em vez de raciocinar sobre por que eles podem nos enganar. O viés de dados é inevitável em estatística e ciência de dados, portanto, você deve sempre procurá-lo ativamente. Se eu fizer uma pesquisa com estudantes universitários da minha universidade local e usar minhas descobertas para representar todas as universidades dos Estados Unidos, obviamente haverá viés. Estou favorecendo a representação dessa universidade em detrimento de outras universidades e fazendo generalizações com base em uma amostra limitada.\n",
    "\n",
    "Existem muitos tipos de viés, mas um dos mais perniciosos em estatística é o viés de *autosseleção*. Isso ocorre quando certos tipos de sujeitos têm maior probabilidade de se incluir no experimento. Se você embarcar em um voo e perguntar aos passageiros qual é a companhia aérea favorita deles, não se surpreenda se for exatamente a mesma companhia aérea em que estão voando! Se você estiver realizando pesquisas por telefone no meio de um dia de semana, não se surpreenda se a maioria dos seus entrevistados for aposentada, pais que ficam em casa e indivíduos que não trabalham. Tudo isso pode distorcer suas descobertas, pois a população pretendida da qual você deseja amostrar não está se incluindo na amostra.\n",
    "\n",
    "Uma variante do viés de autosseleção é o **viés de sobrevivência**, em que apenas a população \"sobrevivente\" é incluída na amostra e aqueles que \"pereceram\" nunca são contabilizados.\n",
    "\n",
    "O viés de sobrevivência acontece sutilmente. Empresas e indivíduos \"bem-sucedidos\" costumam ser alvo de críticas, e há muitos livros que analisam suas qualidades, mas não levam em conta que essas qualidades também podem ser comuns a empresas e indivíduos fracassados ​​que fracassaram na obscuridade.\n",
    "\n",
    "Em resumo, desconfie do viés e pergunte de onde vieram os dados e o que pode tê-los direcionado, intencional ou não. Fazer isso evitará enormes dores de cabeça e projetos que dão errado. O viés não desaparece com mais dados. Isso só cria mais oportunidades para que o preconceito se instale."
   ]
  },
  {
   "cell_type": "markdown",
   "id": "ecaec6e3",
   "metadata": {},
   "source": [
    "## Exercício"
   ]
  },
  {
   "cell_type": "markdown",
   "id": "cbe59eec",
   "metadata": {},
   "source": [
    "![svg image](data:image/svg+xml;base64,PD94bWwgdmVyc2lvbj0iMS4wIiBlbmNvZGluZz0iVVRGLTgiIHN0YW5kYWxvbmU9Im5vIj8+CjxzdmcKICAgdmVyc2lvbj0iMS4xIgogICBpZD0iTGF5ZXJfMSIKICAgeD0iMHB4IgogICB5PSIwcHgiCiAgIHZpZXdCb3g9IjAgMCAxNTQuMjU0ODUgMTU0LjM1NTM1IgogICB4bWw6c3BhY2U9InByZXNlcnZlIgogICBzb2RpcG9kaTpkb2NuYW1lPSJhaXJjcmFmdC1qZXQtaWNvbi5zdmciCiAgIHdpZHRoPSIxNTQuMjU0ODUiCiAgIGhlaWdodD0iMTU0LjM1NTM1IgogICBpbmtzY2FwZTp2ZXJzaW9uPSIxLjIuMiAoYjBhODQ4NjUsIDIwMjItMTItMDEpIgogICB4bWxuczppbmtzY2FwZT0iaHR0cDovL3d3dy5pbmtzY2FwZS5vcmcvbmFtZXNwYWNlcy9pbmtzY2FwZSIKICAgeG1sbnM6c29kaXBvZGk9Imh0dHA6Ly9zb2RpcG9kaS5zb3VyY2Vmb3JnZS5uZXQvRFREL3NvZGlwb2RpLTAuZHRkIgogICB4bWxucz0iaHR0cDovL3d3dy53My5vcmcvMjAwMC9zdmciCiAgIHhtbG5zOnN2Zz0iaHR0cDovL3d3dy53My5vcmcvMjAwMC9zdmciPjxkZWZzCiAgICAgaWQ9ImRlZnMxODQiIC8+PHNvZGlwb2RpOm5hbWVkdmlldwogICAgIGlkPSJuYW1lZHZpZXcxODIiCiAgICAgcGFnZWNvbG9yPSIjZmZmZmZmIgogICAgIGJvcmRlcmNvbG9yPSIjMDAwMDAwIgogICAgIGJvcmRlcm9wYWNpdHk9IjAuMjUiCiAgICAgaW5rc2NhcGU6c2hvd3BhZ2VzaGFkb3c9IjIiCiAgICAgaW5rc2NhcGU6cGFnZW9wYWNpdHk9IjAuMCIKICAgICBpbmtzY2FwZTpwYWdlY2hlY2tlcmJvYXJkPSIwIgogICAgIGlua3NjYXBlOmRlc2tjb2xvcj0iI2QxZDFkMSIKICAgICBzaG93Z3JpZD0iZmFsc2UiCiAgICAgaW5rc2NhcGU6em9vbT0iMi44MjY3ODA5IgogICAgIGlua3NjYXBlOmN4PSI5Ni4wNDU2NDgiCiAgICAgaW5rc2NhcGU6Y3k9IjQyLjYyNzk5NSIKICAgICBpbmtzY2FwZTp3aW5kb3ctd2lkdGg9IjE0NDAiCiAgICAgaW5rc2NhcGU6d2luZG93LWhlaWdodD0iODQ3IgogICAgIGlua3NjYXBlOndpbmRvdy14PSIwIgogICAgIGlua3NjYXBlOndpbmRvdy15PSIyNSIKICAgICBpbmtzY2FwZTp3aW5kb3ctbWF4aW1pemVkPSIxIgogICAgIGlua3NjYXBlOmN1cnJlbnQtbGF5ZXI9IkxheWVyXzEiIC8+PHN0eWxlCiAgICAgdHlwZT0idGV4dC9jc3MiCiAgICAgaWQ9InN0eWxlMTc1Ij4uc3Qwe2ZpbGwtcnVsZTpldmVub2RkO2NsaXAtcnVsZTpldmVub2RkO308L3N0eWxlPjxnCiAgICAgaWQ9Imc3MjgiCiAgICAgdHJhbnNmb3JtPSJzY2FsZSgyLjM4MDAzNDgpIgogICAgIHN0eWxlPSJzdHJva2Utd2lkdGg6MC40MjAxNjIiPjxnCiAgICAgICBpZD0iZzE3OSIKICAgICAgIHRyYW5zZm9ybT0ic2NhbGUoMC41Mjc3ODUxMykiCiAgICAgICBzdHlsZT0ic3Ryb2tlLXdpZHRoOjAuNzk2MDg1Ij48cGF0aAogICAgICAgICBjbGFzcz0ic3QwIgogICAgICAgICBkPSJNIDEwNi42MSwzMC4wOSBDIDExNC43NiwxOC43NSAxMjIuMDIsNy44NCAxMjIuOCwwIDExMy40NCwxLjMgMTAzLjQyLDkuMTcgOTMsMTYuMSBMIDc0LjIyLDMwLjcyIGMgMy4xNCwwLjAyIDYuMDcsMC42OSA4LjY0LDEuODkgMi4wNiwwLjk3IDMuODgsMi4yNyA1LjM4LDMuODcgMS41MSwxLjYgMi43LDMuNDkgMy40OSw1LjYgMC42LDEuNjEgMC45NiwzLjM0IDEuMDUsNS4xNyB6IG0gLTU5LjgzLC05LjYgMi44OSwyLjg5IC00LjY0LDQuNjQgLTQuNCwtMS4zOCB6IG0gLTUuNjgsLTUuNDEgMi44OSwyLjg5IC03Ljk1LDcuOTUgLTQuNCwtMS4zOCB6IG0gNjEuMDIsNjAuNzUgLTIuODMsLTIuODMgLTQuNjQsNC42NCAxLjMyLDQuMzQgeiBtIDUuNDEsNS42OCAtMi44MywtMi44MyAtNy45NSw3Ljk1IDEuMzIsNC4zNCB6IE0gNjkuMjUsMzQuNTggNjcuNzgsMzUuNzIgNjYuNDYsMzUuNDQgYyAtMC40OCwwLjEyIC0xLDAgLTEuNDEsLTAuMyBsIC00Mi40MywtOS4wNiAtMTEuNCwxMS40IDI4LjM5LDI4LjM5IC0wLjEsMi4xNCAtMi45NywyLjk3IDYuMjIsOS40NiA5LjExLDUuODMgMy4xLC0zLjEgMS43NCwwLjEgMjguNTYsMjguNTYgMTEuNTQsLTExLjU0IC0xMC4wNywtNDUuNTcgMi4zNSwtMi45MSBDIDg5Ljg2LDQ4LjUxIDg5LjY2LDQ1LjUgODguNzEsNDIuOTQgODguMSw0MS4yOSA4Ny4xNywzOS44MSA4NS45OSwzOC41NyA4NC44LDM3LjMxIDgzLjM2LDM2LjI3IDgxLjcyLDM1LjUgNzguMjUsMzMuODcgNzMuOSwzMy40MyA2OS4yNSwzNC41OCBaIE0gMzQuMzIsNzMuMiAzMS4xNiw3Ni4zNiA3Ljc4LDczLjU2IDAsODEuMzQgbCA0MS41NCw0MS41NCA3LjgzLC03LjgzIC0yLjgsLTIzLjQ4IDMuMDgsLTMuMDggLTguODIsLTUuNjQgYyAtMC4yMiwtMC4xNCAtMC4zOSwtMC4zMyAtMC41MSwtMC41NCB6IgogICAgICAgICBpZD0icGF0aDE3NyIKICAgICAgICAgc3R5bGU9InN0cm9rZS13aWR0aDowLjc5NjA4NSIgLz48L2c+PGNpcmNsZQogICAgICAgc3R5bGU9ImZpbGw6I2ZmMDAwMDtmaWxsLXJ1bGU6ZXZlbm9kZDtzdHJva2U6bm9uZTtzdHJva2Utd2lkdGg6My4xNzYwMyIKICAgICAgIGlkPSJwYXRoNTU0IgogICAgICAgY3g9IjI4LjYyNzg3OCIKICAgICAgIGN5PSIyNS43NjY2NzQiCiAgICAgICByPSIxLjIwMzMzOTUiIC8+PGNpcmNsZQogICAgICAgc3R5bGU9ImZpbGw6I2ZmMDAwMDtmaWxsLXJ1bGU6ZXZlbm9kZDtzdHJva2U6bm9uZTtzdHJva2Utd2lkdGg6My4xNzYwMyIKICAgICAgIGlkPSJwYXRoNTU0LTkiCiAgICAgICBjeD0iMjguNjI3ODc4IgogICAgICAgY3k9IjMwLjMwMTI4OSIKICAgICAgIHI9IjEuMjAzMzM5NSIgLz48Y2lyY2xlCiAgICAgICBzdHlsZT0iZmlsbDojZmYwMDAwO2ZpbGwtcnVsZTpldmVub2RkO3N0cm9rZTpub25lO3N0cm9rZS13aWR0aDozLjE3NjAzIgogICAgICAgaWQ9InBhdGg1NTQtMyIKICAgICAgIGN4PSIzMi4xNjgxOTQiCiAgICAgICBjeT0iMjguMTczMzUzIgogICAgICAgcj0iMS4yMDMzMzk1IiAvPjxjaXJjbGUKICAgICAgIHN0eWxlPSJmaWxsOiNmZjAwMDA7ZmlsbC1ydWxlOmV2ZW5vZGQ7c3Ryb2tlOm5vbmU7c3Ryb2tlLXdpZHRoOjMuMTc2MDMiCiAgICAgICBpZD0icGF0aDU1NC04IgogICAgICAgY3g9IjU1LjA2MzgzNSIKICAgICAgIGN5PSIxNS44ODEwNTUiCiAgICAgICByPSIxLjIwMzMzOTUiIC8+PGNpcmNsZQogICAgICAgc3R5bGU9ImZpbGw6I2ZmMDAwMDtmaWxsLXJ1bGU6ZXZlbm9kZDtzdHJva2U6bm9uZTtzdHJva2Utd2lkdGg6My4xNzYwMyIKICAgICAgIGlkPSJwYXRoNTU0LTAiCiAgICAgICBjeD0iNDguNTM5NTA5IgogICAgICAgY3k9IjEzLjQ3NDM3NiIKICAgICAgIHI9IjEuMjAzMzM5NSIgLz48Y2lyY2xlCiAgICAgICBzdHlsZT0iZmlsbDojZmYwMDAwO2ZpbGwtcnVsZTpldmVub2RkO3N0cm9rZTpub25lO3N0cm9rZS13aWR0aDozLjE3NjAzIgogICAgICAgaWQ9InBhdGg1NTQtMiIKICAgICAgIGN4PSI1My44NjA0OTciCiAgICAgICBjeT0iMTIuMjcxMDM2IgogICAgICAgcj0iMS4yMDMzMzk1IiAvPjxjaXJjbGUKICAgICAgIHN0eWxlPSJmaWxsOiNmZjAwMDA7ZmlsbC1ydWxlOmV2ZW5vZGQ7c3Ryb2tlOm5vbmU7c3Ryb2tlLXdpZHRoOjMuMTc2MDMiCiAgICAgICBpZD0icGF0aDU1NC00IgogICAgICAgY3g9IjM0LjE3ODcwNyIKICAgICAgIGN5PSIzMi40MjcxMiIKICAgICAgIHI9IjEuMjAzMzM5NSIgLz48Y2lyY2xlCiAgICAgICBzdHlsZT0iZmlsbDojZmYwMDAwO2ZpbGwtcnVsZTpldmVub2RkO3N0cm9rZTpub25lO3N0cm9rZS13aWR0aDozLjE3NjAzIgogICAgICAgaWQ9InBhdGg1NTQtODMiCiAgICAgICBjeD0iMTQuMTQ1MzkiCiAgICAgICBjeT0iNTEuOTE0Mjk1IgogICAgICAgcj0iMS4yMDMzMzk1IiAvPjxjaXJjbGUKICAgICAgIHN0eWxlPSJmaWxsOiNmZjAwMDA7ZmlsbC1ydWxlOmV2ZW5vZGQ7c3Ryb2tlOm5vbmU7c3Ryb2tlLXdpZHRoOjMuMTc2MDMiCiAgICAgICBpZD0icGF0aDU1NC05MCIKICAgICAgIGN4PSIxMC4wNTI1NjEiCiAgICAgICBjeT0iNDIuOTM4NzkzIgogICAgICAgcj0iMS4yMDMzMzk1IiAvPjxjaXJjbGUKICAgICAgIHN0eWxlPSJmaWxsOiNmZjAwMDA7ZmlsbC1ydWxlOmV2ZW5vZGQ7c3Ryb2tlOm5vbmU7c3Ryb2tlLXdpZHRoOjMuMTc2MDMiCiAgICAgICBpZD0icGF0aDU1NC01IgogICAgICAgY3g9IjIyLjY5MDA2NSIKICAgICAgIGN5PSIyMi4yNTkyNDMiCiAgICAgICByPSIxLjIwMzMzOTUiIC8+PGNpcmNsZQogICAgICAgc3R5bGU9ImZpbGw6I2ZmMDAwMDtmaWxsLXJ1bGU6ZXZlbm9kZDtzdHJva2U6bm9uZTtzdHJva2Utd2lkdGg6My4xNzYwMyIKICAgICAgIGlkPSJwYXRoNTU0LTIyIgogICAgICAgY3g9IjQ0LjM3NDg3NCIKICAgICAgIGN5PSI1My41NjU3ODgiCiAgICAgICByPSIxLjIwMzMzOTUiIC8+PGNpcmNsZQogICAgICAgc3R5bGU9ImZpbGw6I2ZmMDAwMDtmaWxsLXJ1bGU6ZXZlbm9kZDtzdHJva2U6bm9uZTtzdHJva2Utd2lkdGg6My4xNzYwMyIKICAgICAgIGlkPSJwYXRoNTU0LTkwMiIKICAgICAgIGN4PSI0My41MTMyMjYiCiAgICAgICBjeT0iMjYuNDIzODc0IgogICAgICAgcj0iMS4yMDMzMzk1IiAvPjxjaXJjbGUKICAgICAgIHN0eWxlPSJmaWxsOiNmZjAwMDA7ZmlsbC1ydWxlOmV2ZW5vZGQ7c3Ryb2tlOm5vbmU7c3Ryb2tlLXdpZHRoOjMuMTc2MDMiCiAgICAgICBpZD0icGF0aDU1NC0zOSIKICAgICAgIGN4PSI0Mi4wNzcxNDUiCiAgICAgICBjeT0iNDEuNjQ2MzI0IgogICAgICAgcj0iMS4yMDMzMzk1IiAvPjxjaXJjbGUKICAgICAgIHN0eWxlPSJmaWxsOiNmZjAwMDA7ZmlsbC1ydWxlOmV2ZW5vZGQ7c3Ryb2tlOm5vbmU7c3Ryb2tlLXdpZHRoOjMuMTc2MDMiCiAgICAgICBpZD0icGF0aDU1NC05NyIKICAgICAgIGN4PSI2MC44ODk3OTciCiAgICAgICBjeT0iMi44NzIxNjIzIgogICAgICAgcj0iMS4yMDMzMzk1IiAvPjxjaXJjbGUKICAgICAgIHN0eWxlPSJmaWxsOiNmZjAwMDA7ZmlsbC1ydWxlOmV2ZW5vZGQ7c3Ryb2tlOm5vbmU7c3Ryb2tlLXdpZHRoOjMuMTc2MDMiCiAgICAgICBpZD0icGF0aDU1NC0wMyIKICAgICAgIGN4PSI5LjQ3ODEyOTQiCiAgICAgICBjeT0iMTkuOTYxNTE1IgogICAgICAgcj0iMS4yMDMzMzk1IiAvPjwvZz48L3N2Zz4K)"
   ]
  },
  {
   "cell_type": "markdown",
   "id": "995b310d",
   "metadata": {},
   "source": [
    "Um fornecedor entrou em contato com a sua empresa de aeronaves militares. Eles possuem um modelo estatístico de \"IA\" que utiliza dados coletados de aeronaves retornando de combate e prevê onde a blindagem leve precisa ser instalada. O modelo utiliza dados detalhados e técnicas estatísticas para identificar onde é provável encontrar buracos de bala e danos. Em seguida, recomenda a blindagem desses pontos críticos.\n",
    "\n",
    "Que perguntas você tem para o fornecedor? O método deles é sólido? Por que sim ou por que não? Há algum fator faltando? Pense bem sobre isso antes de prosseguir para a resposta."
   ]
  },
  {
   "cell_type": "markdown",
   "id": "10c62f62",
   "metadata": {},
   "source": [
    "### RESPOSTA A BAIXO\n",
    "\n",
    "|<br>\n",
    "|<br>\n",
    "|<br>\n",
    "|<br>\n",
    "|<br>\n",
    "|<br>\n",
    "|<br>\n",
    "|<br>\n",
    "|<br>\n",
    "|<br>\n",
    "|<br>\n",
    "|<br>\n",
    "|<br>\n",
    "|<br>\n",
    "|<br>\n",
    "|<br>\n",
    "|<br>\n",
    "|<br>\n",
    "|<br>\n",
    "|<br>\n",
    "|<br>\n",
    "|<br>\n",
    "|<br>\n",
    "v "
   ]
  },
  {
   "cell_type": "markdown",
   "id": "18133f25",
   "metadata": {},
   "source": [
    "![svg image](data:image/svg+xml;base64,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)"
   ]
  },
  {
   "attachments": {},
   "cell_type": "markdown",
   "id": "955e2d64",
   "metadata": {},
   "source": [
    "Esta é uma versão modernizada de um problema estatístico real da Segunda Guerra Mundial. (https://apps.dtic.mil/docs/citations/ADA091073)\n",
    "\n",
    "O Centro de Análises Navais conduziu um estudo sobre a mitigação da perda de bombardeiros. Após analisar frotas de bombardeiros retornados de missões, eles concluíram que superfícies que estatisticamente apresentam os maiores danos devem ser priorizadas para maior blindagem. Mas um matemático húngaro chamado Abraham Wald apontou uma falha fatal nessa heurística.\n",
    "\n",
    "**A falha: os dados capturaram apenas aeronaves sobreviventes e, portanto, a abordagem estava completamente errada.**\n",
    "\n",
    "Este é um exemplo de viés de sobrevivência, onde, novamente, fazemos inferências errôneas sobre a população sobrevivente, enquanto a população falecida nunca é contabilizada. Embora muitos digam cinicamente que os dados estão incompletos, eles ainda fornecem uma pista valiosa para resolver nosso objetivo. A pergunta que deveríamos estar fazendo: por que a aeronave retornou em segurança, apesar dos danos observados?\n",
    "\n",
    "Com sucesso, Abraham inverteu a teoria ao blindar as partes não danificadas da aeronave, inferindo que essas eram provavelmente as áreas críticas que faziam com que o avião caísse e nunca mais retornasse à base. Isso não só salvou aeronaves e vidas, como também foi um momento crucial para o esforço de guerra."
   ]
  }
 ],
 "metadata": {
  "kernelspec": {
   "display_name": "anaconda-2024.02-py310",
   "language": "python",
   "name": "conda-env-anaconda-2024.02-py310-py"
  },
  "language_info": {
   "codemirror_mode": {
    "name": "ipython",
    "version": 3
   },
   "file_extension": ".py",
   "mimetype": "text/x-python",
   "name": "python",
   "nbconvert_exporter": "python",
   "pygments_lexer": "ipython3",
   "version": "3.9.16"
  }
 },
 "nbformat": 4,
 "nbformat_minor": 5
}
