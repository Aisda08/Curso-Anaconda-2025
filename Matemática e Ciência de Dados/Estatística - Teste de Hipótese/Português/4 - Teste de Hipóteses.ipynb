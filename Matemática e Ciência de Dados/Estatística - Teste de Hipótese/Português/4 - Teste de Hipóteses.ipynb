{
 "cells": [
  {
   "cell_type": "markdown",
   "id": "d29e7c28",
   "metadata": {},
   "source": [
    "# Teste de hipóteses"
   ]
  },
  {
   "cell_type": "markdown",
   "id": "034ae676",
   "metadata": {},
   "source": [
    "Este caderno abordará **testes de hipóteses**, que medem se uma descoberta provavelmente ocorreu por acaso e não por causa de uma variável hipotética. Imagine testar um novo medicamento que supostamente reduz a duração de um resfriado. Se o tempo médio de recuperação com o medicamento for menor do que o tempo médio sem o medicamento, a diferença deve ser grande o suficiente para que seja improvável que tenha sido devido ao acaso. Pode muito bem ser que o medicamento não tenha tido efeito.\n",
    "\n",
    "Vamos primeiro usar a intuição, explorando o componente mais crítico desse raciocínio: o valor-p."
   ]
  },
  {
   "cell_type": "markdown",
   "id": "4b500f28",
   "metadata": {},
   "source": [
    "## Intuição do valor P"
   ]
  },
  {
   "cell_type": "markdown",
   "id": "1eabf72f",
   "metadata": {},
   "source": [
    "Quando alguém diz que algo é estatisticamente significativo, o que isso significa? É uma expressão muito usada, mas poucas pessoas param para explicar como a significância estatística funciona em nível matemático. Para entender a significância estatística, podemos voltar à invenção do valor-p em 1925."
   ]
  },
  {
   "cell_type": "markdown",
   "id": "fbefa4c5",
   "metadata": {},
   "source": [
    "Um matemático chamado Ronald Fisher estava em uma festa. Uma de suas colegas, Muriel Bristol, afirmou ser capaz de detectar quando o chá era servido antes do leite simplesmente provando-o. Intrigado com a afirmação, Ronald montou um experimento na hora.\n",
    "\n",
    "Ele preparou oito xícaras de chá. Quatro delas receberam o leite primeiro; as outras quatro receberam o chá primeiro. Ele então pediu que ela identificasse a ordem de cada uma. Surpreendentemente, ela identificou todas corretamente e, se estivesse apenas chutando, a probabilidade de isso acontecer por acaso é de 1 em 70, ou 0,01428571. Isso é o que chamamos de **valor-p**, a probabilidade de algo ter acontecido por acaso e não por causa de uma explicação hipotética."
   ]
  },
  {
   "cell_type": "markdown",
   "id": "96208b5e",
   "metadata": {},
   "source": [
    "![svg image](data:image/svg+xml;base64,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)"
   ]
  },
  {
   "cell_type": "markdown",
   "id": "7f6efaa4",
   "metadata": {},
   "source": [
    "Quando você tem um valor de p muito baixo (convencionalmente < 0,05), isso indica que o evento provavelmente não ocorreu por acaso. Portanto, somos inclinados a pensar que Muriel tem essa habilidade especial de detectar quando o chá foi servido antes do leite, porque se ela estivesse apenas chutando aleatoriamente, teria apenas 1,42% de chance de acertar.\n",
    "\n",
    "Este exemplo não captura todas as nuances de um valor de p, mas fornece a essência dele. Vejamos como esse conceito se aplica a uma média amostral e à distribuição normal."
   ]
  },
  {
   "cell_type": "markdown",
   "id": "a2bfd77e",
   "metadata": {},
   "source": [
    "## Teste de duas caudas"
   ]
  },
  {
   "cell_type": "markdown",
   "id": "cd2b9665",
   "metadata": {},
   "source": [
    "Vamos trazer o conjunto de dados da lâmpada e calcular sua média, desvio padrão e contagem."
   ]
  },
  {
   "cell_type": "code",
   "execution_count": null,
   "id": "a144ec56",
   "metadata": {},
   "outputs": [],
   "source": [
    "import pandas as pd\n",
    "import matplotlib.pyplot as plt\n",
    "from scipy.stats import norm\n",
    "import numpy as np \n",
    "\n",
    "X = pd.read_csv(\"https://raw.githubusercontent.com/thomasnield/machine-learning-demo-data/master/distribution/lightbulb_data.csv\") \\\n",
    "    .squeeze()\n",
    "X\n",
    "\n",
    "mean, std, n = X.mean(), X.std(), X.count()\n",
    "print(\"MEAN: \", mean)\n",
    "print(\"STD: \", std)\n",
    "print(\"n: \", n)"
   ]
  },
  {
   "cell_type": "markdown",
   "id": "19ca0fdf",
   "metadata": {},
   "source": [
    "Com base nesses dados, podemos inferir que há 95% de probabilidade de a lâmpada durar aproximadamente entre 571,3 horas e 773,1 horas, conforme mostrado abaixo."
   ]
  },
  {
   "cell_type": "code",
   "execution_count": null,
   "id": "bc8cddcf",
   "metadata": {},
   "outputs": [],
   "source": [
    "from matplotlib.patches import Polygon\n",
    "\n",
    "fig, ax = plt.subplots()\n",
    "x_range = np.arange(mean-std*3, mean+std*3, .01) \n",
    "ax.plot(x_range, norm.pdf(x_range, mean, std)) # curva de sino\n",
    "\n",
    "# .95 area \n",
    "a,b = norm.ppf(.025, mean, std), norm.ppf(.975, mean, std)\n",
    "ix = np.linspace(a, b)\n",
    "iy =  norm.pdf(ix, mean, std)\n",
    "verts = [(a, 0), *zip(ix, iy), (b, 0)]\n",
    "poly = Polygon(verts, facecolor='0.9', edgecolor='0.5')\n",
    "ax.add_patch(poly)\n",
    "\n",
    "# adiciona rótulos de texto\n",
    "plt.text(mean, .003, '.95', fontsize = 22, ha='center')\n",
    "plt.text(a, norm.pdf(a,mean,std), round(a,2), fontsize = 16, ha='right', color='blue')\n",
    "plt.text(b, norm.pdf(b,mean,std), round(b,2), fontsize = 16, ha='left', color='blue')\n",
    "\n",
    "\n",
    "plt.show()"
   ]
  },
  {
   "cell_type": "markdown",
   "id": "39f57f7f",
   "metadata": {},
   "source": [
    "Podemos calcular que o intervalo central captura a área de 0,95 usando a função de densidade cumulativa inversa (a função `ppf()` no SciPy), conforme mostrado abaixo."
   ]
  },
  {
   "cell_type": "code",
   "execution_count": null,
   "id": "35621cdd",
   "metadata": {},
   "outputs": [],
   "source": [
    "from scipy.stats import norm\n",
    "\n",
    "print(norm.ppf(.025, mean, std), norm.ppf(.975, mean, std))"
   ]
  },
  {
   "cell_type": "markdown",
   "id": "2a7bba9b",
   "metadata": {},
   "source": [
    "Digamos que um engenheiro fez uma alteração no projeto e testou 31 lâmpadas com essa nova adaptação. Ele relata, com satisfação, que a média nesta nova amostra é 790. Agora, considere isto... será uma coincidência? Vamos comparar essa nova média com a nossa distribuição atual da vida útil das lâmpadas."
   ]
  },
  {
   "cell_type": "code",
   "execution_count": null,
   "id": "e8c460c8",
   "metadata": {},
   "outputs": [],
   "source": [
    "from matplotlib.patches import Polygon\n",
    "\n",
    "new_mean = 790\n",
    "\n",
    "# gráfico de plotagem\n",
    "fig, ax = plt.subplots()\n",
    "x_range = np.arange(mean-std*3, mean+std*3, .01) \n",
    "ax.plot(x_range, norm.pdf(x_range, mean, std)) # curva de sino\n",
    "\n",
    "# .95 area \n",
    "a,b = norm.ppf(.025, mean, std), norm.ppf(.975, mean, std)\n",
    "ix = np.linspace(a, b)\n",
    "iy =  norm.pdf(ix, mean, std)\n",
    "verts = [(a, 0), *zip(ix, iy), (b, 0)]\n",
    "poly = Polygon(verts, facecolor='0.9', edgecolor='0.5')\n",
    "ax.add_patch(poly)\n",
    "\n",
    "# adiciona rótulos de texto\n",
    "plt.vlines(x = new_mean, ymin = 0, ymax = .005,\n",
    "           colors = 'red',\n",
    "           label = r\"\\bar{x}_{new}\")\n",
    "\n",
    "plt.text(mean, .003, '.95', fontsize = 22, ha='center')\n",
    "plt.text(new_mean, .005, round(new_mean,2), fontsize = 16, ha='center', va='bottom', color='red')\n",
    "\n",
    "\n",
    "plt.show()"
   ]
  },
  {
   "cell_type": "markdown",
   "id": "c2cb3c86",
   "metadata": {},
   "source": [
    "Hmm... observe aqui que, se quisermos ter 95% de certeza de que a mudança de engenharia teve algum efeito, logicamente a média da nova amostra deve estar fora dessa faixa de 0,95 (devido ao teorema do limite central). Portanto, estamos inclinados a acreditar com 95% de certeza que a mudança de engenharia melhorou o projeto.\n",
    "\n",
    "Vamos formalizar um pouco mais essas ideias. Afirmamos que a **hipótese nula ($ H_0 $)** é o status quo: a média é 672,2 e a mudança de engenharia não teve efeito. Mas a **hipótese alternativa ($ H_1 $)** é que a média *não* é 672,2 com o novo projeto de engenharia, e acreditamos que ela teve efeito suficiente para rejeitar a hipótese nula.\n",
    "\n",
    "$$\n",
    "H_0: \\mu = 672,2\n",
    "$$\n",
    "\n",
    "$$\n",
    "H_1: \\mu \\ne 672,2\n",
    "$$\n",
    "\n",
    "Como essa nova média de 790 está fora da faixa de confiança de 95%, a chamamos de **estatisticamente significativa**, o que significa que é improvável que seja coincidência o suficiente para que possamos rejeitar a hipótese nula e promover a hipótese alternativa.\n",
    "\n",
    "Mas *quão improvável* é que teríamos observado 790 com o design atual da lâmpada? Podemos dizer, grosso modo, que está fora da faixa de \"coincidência\" de 95%, como mostrado acima, mas por quanto? É aqui que o **valor-p** entra novamente. Vamos dar uma olhada na área restante em cada cauda, ​​que será de $ 0,025 $."
   ]
  },
  {
   "cell_type": "code",
   "execution_count": null,
   "id": "8d047fdb",
   "metadata": {},
   "outputs": [],
   "source": [
    "from matplotlib.patches import Polygon\n",
    "\n",
    "new_mean = 790\n",
    "\n",
    "# gráfico de plotagem\n",
    "fig, ax = plt.subplots()\n",
    "x_range = np.arange(mean-std*3, mean+std*3, .01) \n",
    "ax.plot(x_range, norm.pdf(x_range, mean, std)) # curva de sino\n",
    "\n",
    "def plot_tail(a, b): \n",
    "    # áreas de valor p\n",
    "    ix = np.linspace(a, b)\n",
    "    iy = norm.pdf(ix, mean, std)\n",
    "    verts = [(a, 0), *zip(ix, iy), (b, 0)]\n",
    "    poly = Polygon(verts, facecolor='0.9', edgecolor='0.5')\n",
    "    ax.add_patch(poly)\n",
    "\n",
    "plot_tail(mean-std*3, norm.ppf(.025, mean, std))\n",
    "plot_tail(norm.ppf(.975, mean, std), mean+std*3)\n",
    "\n",
    "# adiciona rótulos de texto\n",
    "plt.vlines(x = new_mean, ymin = norm.pdf(new_mean, mean, std), ymax = .005,\n",
    "           colors = 'red',\n",
    "           label = r\"\\bar{x}_{new}\")\n",
    "\n",
    "plt.text(555, .0001, '.025', fontsize = 12, ha='center')\n",
    "plt.text(775, .0001, '.025', fontsize = 12, ha='left')\n",
    "plt.text(new_mean, .005, round(new_mean,2), fontsize = 16, ha='center', va='bottom', color='red')\n",
    "\n",
    "\n",
    "plt.show()"
   ]
  },
  {
   "cell_type": "markdown",
   "id": "cca54afa",
   "metadata": {},
   "source": [
    "No entanto, este não é o nosso valor-p. O valor-p precisa capturar qualquer probabilidade que seja igual ou menor em ambos os lados onde observamos a nova média. Afinal, estamos tentando provar significância, e isso inclui qualquer coisa que seja igualmente ou menos provável de acontecer. Vamos visualizar apenas essa área em ambos os lados, que no total será o valor-p."
   ]
  },
  {
   "cell_type": "code",
   "execution_count": null,
   "id": "44625f22",
   "metadata": {},
   "outputs": [],
   "source": [
    "from matplotlib.patches import Polygon\n",
    "\n",
    "new_mean = 790\n",
    "\n",
    "# gráfico de plotagem\n",
    "fig, ax = plt.subplots()\n",
    "x_range = np.arange(mean-std*3, mean+std*3, .01) \n",
    "ax.plot(x_range, norm.pdf(x_range, mean, std)) # curva de sino \n",
    "\n",
    "def plot_tail(a, b): \n",
    "    # áreas de valor p\n",
    "    ix = np.linspace(a, b)\n",
    "    iy = norm.pdf(ix, mean, std)\n",
    "    verts = [(a, 0), *zip(ix, iy), (b, 0)]\n",
    "    poly = Polygon(verts, facecolor='0.9', edgecolor='0.5')\n",
    "    ax.add_patch(poly)\n",
    "\n",
    "plot_tail(mean-std*3, norm.ppf(1.0 - norm.cdf(new_mean, mean, std), mean, std))\n",
    "plot_tail(new_mean, mean+std*3)\n",
    "\n",
    "# adicionar rótulos de texto\n",
    "plt.vlines(x = new_mean, ymin = 0, ymax = .005,\n",
    "           colors = 'red',\n",
    "           label = r\"\\bar{x}_{new}\")\n",
    "\n",
    "one_side_p_value  = 1.0 - norm.cdf(new_mean, mean, std)\n",
    "print(one_side_p_value*2)\n",
    "plt.text(530, .0005, round(one_side_p_value, 3), fontsize = 12, ha='center')\n",
    "plt.text(800, .0005, round(one_side_p_value, 3), fontsize = 12, ha='left')\n",
    "plt.text(new_mean, .005, round(new_mean,2), fontsize = 16, ha='center', va='bottom', color='red')\n",
    "\n",
    "\n",
    "plt.show()"
   ]
  },
  {
   "cell_type": "markdown",
   "id": "9652ce99",
   "metadata": {},
   "source": [
    "Portanto, ficamos com um valor-p de aproximadamente $ 0,022 $, que é dividido por ambas as extremidades como $ 0,011 $. Embora tentar identificar os intervalos dessas extremidades exija alguma matemática dedutiva e um pouco de código, o cálculo do valor-p em si pode ser feito em duas linhas de código. Podemos simplesmente calcular a área da extremidade direita usando a FCD na nova média amostral (e subtrair de 1,0 para obter a área da extremidade direita, não da esquerda) e, em seguida, dobrá-la para aproveitar a simetria da extremidade esquerda."
   ]
  },
  {
   "cell_type": "code",
   "execution_count": null,
   "id": "527e03fa",
   "metadata": {},
   "outputs": [],
   "source": [
    "# área da cauda direita\n",
    "p_value_right_tail = 1.0 -  norm.cdf(new_mean, mean, std)\n",
    "\n",
    "# valor p de ambas as caudas (simétricas)\n",
    "p_value = p_value_right_tail*2 \n",
    "\n",
    "print(p_value) # 0.02212358425605565"
   ]
  },
  {
   "cell_type": "markdown",
   "id": "8ed032e6",
   "metadata": {},
   "source": [
    "Em termos práticos, como interpretamos esse valor-p? Dizemos que a vida útil da lâmpada reprojetada de 790 tem 2,2% de probabilidade de ter ocorrido por acaso (incluindo a probabilidade de eventos igualmente ou menos prováveis). Se nosso limite for de 95% de confiança, ou um nível de significância de 5%, $ 0,022 $ é menor que $ 0,05 $, então podemos rejeitar nossa hipótese nula e promover a hipótese alternativa de que nossa lâmpada reprojetada é uma melhoria."
   ]
  },
  {
   "cell_type": "markdown",
   "id": "9ccc9502",
   "metadata": {},
   "source": [
    "Alternativamente, digamos que a nova lâmpada apenas melhorou a média da amostra para 750. Observe abaixo que isso não estaria na faixa \"estatisticamente significativa\", embora seja maior que a média atual de 672,2."
   ]
  },
  {
   "cell_type": "code",
   "execution_count": null,
   "id": "71f0be51",
   "metadata": {},
   "outputs": [],
   "source": [
    "from matplotlib.patches import Polygon\n",
    "\n",
    "new_mean = 750\n",
    "\n",
    "# gráfico de plotagem\n",
    "fig, ax = plt.subplots()\n",
    "x_range = np.arange(mean-std*3, mean+std*3, .01) \n",
    "ax.plot(x_range, norm.pdf(x_range, mean, std)) # curva de sino \n",
    "\n",
    "def plot_tail(a, b): \n",
    "    # áreas de valor p\n",
    "    ix = np.linspace(a, b)\n",
    "    iy = norm.pdf(ix, mean, std)\n",
    "    verts = [(a, 0), *zip(ix, iy), (b, 0)]\n",
    "    poly = Polygon(verts, facecolor='0.9', edgecolor='0.5')\n",
    "    ax.add_patch(poly)\n",
    "\n",
    "plot_tail(mean-std*3, norm.ppf(.025, mean, std))\n",
    "plot_tail(norm.ppf(.975, mean, std), mean+std*3)\n",
    "\n",
    "# adicionar rótulos de texto\n",
    "plt.vlines(x = new_mean, ymin = 0, ymax = .005,\n",
    "           colors = 'red',\n",
    "           label = r\"\\bar{x}_{new}\")\n",
    "\n",
    "plt.text(555, .0001, '.025', fontsize = 12, ha='center')\n",
    "plt.text(775, .0001, '.025', fontsize = 12, ha='left')\n",
    "plt.text(new_mean, .005, round(new_mean,2), fontsize = 16, ha='center', va='bottom', color='red')\n",
    "\n",
    "\n",
    "plt.show()"
   ]
  },
  {
   "cell_type": "markdown",
   "id": "6abc62ec",
   "metadata": {},
   "source": [
    "Com um limite de 95%, não podemos atribuir a esta lâmpada um desempenho significativamente melhor do que a atual, pois há uma boa chance de que tenha sido apenas por acaso e que ela tenha o mesmo desempenho que a lâmpada atual. Qual a probabilidade? Bem, novamente, esse é o valor-p e podemos calculá-lo. Descobrimos que é $ 0,13 $, e isso é muito maior do que $ 0,05 $. Portanto, não podemos rejeitar a hipótese nula."
   ]
  },
  {
   "cell_type": "code",
   "execution_count": null,
   "id": "79a9b7b5",
   "metadata": {},
   "outputs": [],
   "source": [
    "new_mean = 750 \n",
    "\n",
    "# área da cauda direita\n",
    "p_value_right_tail = 1.0 -  norm.cdf(new_mean, mean, std)\n",
    "\n",
    "# valor p de ambas as caudas (simétricas)\n",
    "p_value = p_value_right_tail*2 \n",
    "\n",
    "print(p_value) # 0.13072525593787487"
   ]
  },
  {
   "cell_type": "markdown",
   "id": "33bdc86f",
   "metadata": {},
   "source": [
    "E só para garantir, aqui está a área do valor p visualizada para uma nova média amostral de 750."
   ]
  },
  {
   "cell_type": "code",
   "execution_count": null,
   "id": "b73cdcf9",
   "metadata": {},
   "outputs": [],
   "source": [
    "from matplotlib.patches import Polygon\n",
    "\n",
    "new_mean = 750\n",
    "\n",
    "# gráfico de plotagem\n",
    "fig, ax = plt.subplots()\n",
    "x_range = np.arange(mean-std*3, mean+std*3, .01) \n",
    "ax.plot(x_range, norm.pdf(x_range, mean, std)) # curva de sino\n",
    "\n",
    "def plot_tail(a, b): \n",
    "    # áreas de valor p\n",
    "    ix = np.linspace(a, b)\n",
    "    iy = norm.pdf(ix, mean, std)\n",
    "    verts = [(a, 0), *zip(ix, iy), (b, 0)]\n",
    "    poly = Polygon(verts, facecolor='0.9', edgecolor='0.5')\n",
    "    ax.add_patch(poly)\n",
    "\n",
    "plot_tail(mean-std*3, norm.ppf(1.0 - norm.cdf(new_mean, mean, std), mean, std))\n",
    "plot_tail(new_mean, mean+std*3)\n",
    "\n",
    "# adicionar rótulos de texto\n",
    "plt.vlines(x = new_mean, ymin = 0, ymax = .005,\n",
    "           colors = 'red',\n",
    "           label = r\"\\bar{x}_{new}\")\n",
    "\n",
    "one_side_p_value  = 1.0 - norm.cdf(new_mean, mean, std)\n",
    "print(one_side_p_value*2)\n",
    "plt.text(555, .0015, round(one_side_p_value, 3), fontsize = 12, ha='center')\n",
    "plt.text(775, .0015, round(one_side_p_value, 3), fontsize = 12, ha='left')\n",
    "plt.text(new_mean, .005, round(new_mean,2), fontsize = 16, ha='center', va='bottom', color='red')\n",
    "\n",
    "\n",
    "plt.show()"
   ]
  },
  {
   "cell_type": "markdown",
   "id": "a3953a80",
   "metadata": {},
   "source": [
    "## Teste unilateral"
   ]
  },
  {
   "cell_type": "markdown",
   "id": "eaf71534",
   "metadata": {},
   "source": [
    "Embora testes bicaudais não sejam tão robustos, existe outra maneira de realizar testes de hipóteses por meio de **testes unicaudais**. Expressamos hipóteses nulas e alternativas como desigualdades. Seriam:\n",
    "\n",
    "$$\n",
    "H_0: \\mu <= 672,2\n",
    "$$\n",
    "\n",
    "$$\n",
    "H_1: \\mu > 672,2\n",
    "$$\n",
    "\n",
    "Vamos visualizar o valor de p para testes unicaudais, como mostrado abaixo."
   ]
  },
  {
   "cell_type": "code",
   "execution_count": null,
   "id": "97017daa",
   "metadata": {},
   "outputs": [],
   "source": [
    "from matplotlib.patches import Polygon\n",
    "\n",
    "new_mean = 790\n",
    "\n",
    "# gráfico de plotagem\n",
    "fig, ax = plt.subplots()\n",
    "x_range = np.arange(mean-std*3, mean+std*3, .01) \n",
    "ax.plot(x_range, norm.pdf(x_range, mean, std)) # curva de sino\n",
    "\n",
    "def plot_tail(a, b): \n",
    "    # áreas de valor p\n",
    "    ix = np.linspace(a, b)\n",
    "    iy = norm.pdf(ix, mean, std)\n",
    "    verts = [(a, 0), *zip(ix, iy), (b, 0)]\n",
    "    poly = Polygon(verts, facecolor='0.9', edgecolor='0.5')\n",
    "    ax.add_patch(poly)\n",
    "\n",
    "plot_tail(new_mean, mean+std*3)\n",
    "\n",
    "# adicionar rótulos de texto\n",
    "plt.vlines(x = new_mean, ymin = 0, ymax = .005,\n",
    "           colors = 'red',\n",
    "           label = r\"\\bar{x}_{new}\")\n",
    "\n",
    "one_side_p_value  = 1.0 - norm.cdf(new_mean, mean, std)\n",
    "plt.text(800, .0005, round(one_side_p_value, 3), fontsize = 12, ha='left')\n",
    "plt.text(new_mean, .005, round(new_mean,2), fontsize = 16, ha='center', va='bottom', color='red')\n",
    "\n",
    "\n",
    "plt.show()"
   ]
  },
  {
   "cell_type": "markdown",
   "id": "3df2d0aa",
   "metadata": {},
   "source": [
    "Isso simplifica o cálculo do valor p, incluindo apenas a cauda que corresponde à hipótese alternativa."
   ]
  },
  {
   "cell_type": "code",
   "execution_count": null,
   "id": "dcd3af87",
   "metadata": {},
   "outputs": [],
   "source": [
    "new_mean = 790 \n",
    "\n",
    "# área da cauda direita\n",
    "p_value = 1.0 -  norm.cdf(new_mean, mean, std)\n",
    "\n",
    "print(p_value) # 0.011061792128027825"
   ]
  },
  {
   "cell_type": "markdown",
   "id": "2c31726c",
   "metadata": {},
   "source": [
    "Como isso afeta a rejeição da hipótese nula? Pergunte a si mesmo: qual delas define um limite mais alto? Você notará que, mesmo quando nosso objetivo é mostrar que podemos ter diminuído/aumentado algo (a vida útil da lâmpada), reformular nossa hipótese para mostrar qualquer impacto (maior ou menor) cria um limite de significância mais alto. Se nosso limite de significância for um valor-p de 0,05 ou menos, nosso teste unicaudal teve um valor-p muito menor, 0,011, em oposição ao teste bicaudal, que foi aproximadamente o dobro daquele com valor-p de 0,022.\n",
    "\n",
    "Por esse motivo, é preferível usar o teste bicaudal em vez do unicaudal em muitas situações. Ele não enviesa o teste em uma direção e também define um limite mais alto para a aceitação da hipótese alternativa."
   ]
  },
  {
   "cell_type": "markdown",
   "id": "0dad9915",
   "metadata": {},
   "source": [
    "## Lidando com amostras menores"
   ]
  },
  {
   "cell_type": "markdown",
   "id": "8a0e1c99",
   "metadata": {},
   "source": [
    "Conforme discutido na seção anterior, se você tiver uma amostra menor (n<31), troque a distribuição normal pela distribuição T. Por exemplo, digamos que o novo projeto da lâmpada tenha apenas um tamanho de amostra de 5. Podemos calcular o valor-p bicaudal conforme mostrado abaixo."
   ]
  },
  {
   "cell_type": "code",
   "execution_count": null,
   "id": "2d92cf75",
   "metadata": {},
   "outputs": [],
   "source": [
    "from scipy.stats import t\n",
    "\n",
    "new_mean = 790 \n",
    "n = 5\n",
    "\n",
    "# área da cauda direita\n",
    "p_value_right_tail = 1.0 -  t.cdf(new_mean, df=n-1, loc=mean, scale=std)\n",
    "\n",
    "# valor p de ambas as caudas (simétricas)\n",
    "p_value = p_value_right_tail*2 \n",
    "\n",
    "print(p_value) # 0.08401989317568481"
   ]
  },
  {
   "cell_type": "markdown",
   "id": "10df5c57",
   "metadata": {},
   "source": [
    "Nosso valor-p é muito maior: 0,084. Como isso não ultrapassa nosso limite de 0,05, não podemos rejeitar a hipótese nula."
   ]
  },
  {
   "cell_type": "markdown",
   "id": "9b9d9741",
   "metadata": {},
   "source": [
    "## Exercício"
   ]
  },
  {
   "cell_type": "markdown",
   "id": "66f75296",
   "metadata": {},
   "source": [
    "Uma plataforma de jogos online está tentando aumentar o tempo de jogo de seus usuários com um novo sistema de recompensas. Normalmente, o jogador médio joga por 95 minutos, com um desvio padrão de 20 minutos. Após testar o novo sistema de recompensas com 100 jogadores selecionados aleatoriamente, eles descobriram que o tempo médio de jogo aumentou para 125 minutos. Complete o código abaixo usando o teste bicaudal para determinar o valor de p e determine se isso é estatisticamente significativo com 95% de confiança."
   ]
  },
  {
   "cell_type": "code",
   "execution_count": null,
   "id": "21bb9814",
   "metadata": {},
   "outputs": [],
   "source": [
    "from scipy.stats import norm \n",
    "\n",
    "mean = 95\n",
    "std = 20\n",
    "new_mean = 125\n",
    "\n",
    "# área da cauda direita\n",
    "p_value_right_tail = 1.0 -  ?\n",
    "\n",
    "# valor p de ambas as caudas (simétricas)\n",
    "p_value = ?\n",
    "\n",
    "print(p_value) "
   ]
  },
  {
   "cell_type": "markdown",
   "id": "2f748028",
   "metadata": {},
   "source": [
    "### RESPOSTA A BAIXO\n",
    "\n",
    "|<br>\n",
    "|<br>\n",
    "|<br>\n",
    "|<br>\n",
    "|<br>\n",
    "|<br>\n",
    "|<br>\n",
    "|<br>\n",
    "|<br>\n",
    "|<br>\n",
    "|<br>\n",
    "|<br>\n",
    "|<br>\n",
    "|<br>\n",
    "|<br>\n",
    "|<br>\n",
    "|<br>\n",
    "|<br>\n",
    "|<br>\n",
    "|<br>\n",
    "|<br>\n",
    "|<br>\n",
    "|<br>\n",
    "v "
   ]
  },
  {
   "cell_type": "markdown",
   "id": "9b7cd268",
   "metadata": {},
   "source": [
    "O valor de p é 0,1336 e, como é maior que 0,05, isso não rejeita a hipótese nula. Isso significa que não podemos afirmar que o novo sistema de recompensas teve algum impacto no tempo de jogo dos jogadores."
   ]
  },
  {
   "cell_type": "code",
   "execution_count": null,
   "id": "bd5c3506",
   "metadata": {},
   "outputs": [],
   "source": [
    "from scipy.stats import norm \n",
    "\n",
    "mean = 95\n",
    "std = 20\n",
    "new_mean = 125\n",
    "\n",
    "# área da cauda direita\n",
    "p_value_right_tail = 1.0 -  norm.cdf(new_mean, mean, std)\n",
    "\n",
    "# valor p de ambas as caudas (simétricas)\n",
    "p_value = p_value_right_tail*2 \n",
    "\n",
    "print(p_value) # 0.13361440253771617"
   ]
  }
 ],
 "metadata": {
  "kernelspec": {
   "display_name": "anaconda-2024.02-py310",
   "language": "python",
   "name": "conda-env-anaconda-2024.02-py310-py"
  },
  "language_info": {
   "codemirror_mode": {
    "name": "ipython",
    "version": 3
   },
   "file_extension": ".py",
   "mimetype": "text/x-python",
   "name": "python",
   "nbconvert_exporter": "python",
   "pygments_lexer": "ipython3",
   "version": "3.10.14"
  }
 },
 "nbformat": 4,
 "nbformat_minor": 5
}
