{
 "cells": [
  {
   "cell_type": "code",
   "execution_count": null,
   "id": "bfd23333-65ab-4291-b3f4-4da05b207ec5",
   "metadata": {},
   "outputs": [],
   "source": []
  }
 ],
 "metadata": {
  "kernelspec": {
   "display_name": "",
   "name": ""
  },
  "language_info": {
   "name": ""
  }
 },
 "nbformat": 4,
 "nbformat_minor": 5
}
