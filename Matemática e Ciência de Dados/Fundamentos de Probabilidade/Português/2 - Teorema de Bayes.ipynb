{
 "cells": [
  {
   "cell_type": "markdown",
   "id": "af13a224-ff1e-4312-8bd7-bedb2ebb72c0",
   "metadata": {},
   "source": [
    "# Teorema de Bayes"
   ]
  },
  {
   "cell_type": "markdown",
   "id": "c0e732d0-cce2-4542-ab02-0e148447846b",
   "metadata": {},
   "source": [
    "O *Teorema de Bayes* é uma fórmula famosa e útil para inverter a direção de uma probabilidade condicional. É importante para muitas aplicações em aprendizado de máquina, ciência de dados e estatística. Da descoberta da eficácia de um medicamento ao Bayes Naïf em aprendizado de máquina, o Teorema de Bayes será um encontro inevitável em sua jornada.\n",
    "\n",
    "Aprenderemos sobre o Teorema de Bayes estudando a ligação (ou a ausência dela) entre videogames e comportamento homicida. Também aprenderemos como ele pode ser aplicado à matriz de confusão, uma ferramenta de validação crítica em aprendizado de máquina."
   ]
  },
  {
   "cell_type": "markdown",
   "id": "8f31d333-8fca-4811-82b5-ffd9ca4ef5e5",
   "metadata": {},
   "source": [
    "## Fórmula do Teorema de Bayes"
   ]
  },
  {
   "cell_type": "markdown",
   "id": "228ea7cc-e700-4e7a-bc78-547b5e2c173e",
   "metadata": {},
   "source": [
    "A fórmula do Teorema de Bayes inverte fundamentalmente a direção de uma probabilidade condicional, como transformar $ P(B|A) $ em $ P(A|B) $.\n",
    "\n",
    "$ \\Large P(A|B) = \\frac{P(B|A) \\times P(A)}{P(B)} $ \n",
    "\n",
    "Existem algumas outras peças que você precisa para realizar essa inversão. Você precisa de $ P(A) $ e $ P(B) $. Como você verá em nosso exemplo, o Teorema de Bayes é um jogo de proporções."
   ]
  },
  {
   "cell_type": "markdown",
   "id": "f14bf06b-3c96-482f-ab3f-66ae5a9e7f62",
   "metadata": {},
   "source": [
    "## Compreendendo o Teorema de Bayes"
   ]
  },
  {
   "cell_type": "markdown",
   "id": "2edcea0e-5760-488b-8e6e-60d31ec00050",
   "metadata": {},
   "source": [
    "Houve diversas alegações controversas sobre uma ligação entre violência e videogames, que surgiram e desapareceram ao longo das décadas. A questão [entra e sai ciclicamente do ciclo de notícias](https://youtu.be/0oPVxqCx1Lw?si=l3jaX_flri_9TJIa), aparentemente após um evento trágico envolvendo jovens violentos. Embora jogos de tiro em primeira pessoa e títulos \"classificados como M para Adultos\" possam de fato ser desconfortáveis ​​ou moralmente questionáveis, precisamos considerar as evidências empíricas de que esses videogames causam comportamento homicida.\n",
    "\n",
    "![img](data:image/svg+xml;base64,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)\n",
    "\n",
    "Digamos que um grupo de interesse especial cite dados de que 85% dos criminosos homicidas jogaram videogames violentos nos Estados Unidos.\n",
    "\n",
    "$ P(\\text{gamer}|\\text{homicida}) = .85 $ \n",
    "\n",
    "Embora isso possa deixar políticos e a mídia em polvorosa, nunca devemos aceitar qualquer afirmação como essa como verdadeira. Poderíamos examinar minuciosamente a amostragem tendenciosa ou suposições equivocadas no estudo. Talvez até isolássemos as faixas etárias e a exposição a videogames violentos em diferentes idades. Mas, mesmo assim, mostraremos o quão marginalizado esse número se torna no panorama geral.\n",
    "\n",
    "Considere isto: a probabilidade de alguém ser *um jogador, dado que seja homicida*, é a mesma que a probabilidade de ser *homicida, dado que seja um jogador*? A resposta é um sonoro não! Essas duas probabilidades condicionais são muito diferentes, e precisamos levar em conta a última.\n",
    "\n",
    "$  P(\\text{gamer}|\\text{homicida}) = .85 $ \n",
    "\n",
    "$ P(\\text{homicida}|\\text{gamer}) = \\text{ ? } $ \n"
   ]
  },
  {
   "cell_type": "markdown",
   "id": "3c24cd12-5c84-46f5-be3f-fcbcb6c070b6",
   "metadata": {},
   "source": [
    "Vamos reunir mais algumas estatísticas. De acordo com o Departamento Federal de Investigação (FBI), havia 17.251 criminosos homicidas conhecidos nos Estados Unidos em 2017. Havia aproximadamente 324 milhões de pessoas nos Estados Unidos naquele ano também. De acordo com minhas estimativas aproximadas baseadas em pesquisas do setor, 19% da população joga videogames violentos.\n",
    "\n",
    "Vamos anotar essas probabilidades com base nos dados.\n",
    "\n",
    "$  P(\\text{homicida}) = \\frac{17,251}{324,000,000} = .00005 $ \n",
    "\n",
    "$ P(\\text{gamer}) = \\frac{61,560,000}{324,000,000} = .19 $ \n",
    "\n",
    "Antes de prosseguirmos, pergunte-se o seguinte: há algo de estranho nesses dois números acima, considerando as alegações de que videogames causam comportamento homicida? Pense por um momento e siga em frente.\n",
    "\n",
    "Raciocine novamente que 19% da população joga videogames violentos e, no entanto, apenas 0,005% da população é homicida. Se os videogames estivessem tornando as pessoas homicidas, não deveríamos estar vendo MUITO mais pessoas sendo homicidas... digamos, 19% ou algo assim? Se esses dois números parecem exagerados para você, você estaria correto em pensar assim!\n",
    "\n",
    "A maneira de formalizar isso é usar o Teorema de Bayes, que novamente inverte uma probabilidade condicional $ P(B|A) $ em $ P(A|B) $.\n",
    "\n",
    "$ P(A|B) = \\frac{P(B|A) \\times P(A)}{P(B)} $ \n",
    "\n",
    "If $ P(B) $ is $ P(\\text{gamer}) $ and $ P(A) $ is $ P(\\text{homicida}) $, então podemos substituir\n",
    "\n",
    "$ P(\\text{gamer}|\\text{homicida}) = .85 $ \n",
    "\n",
    "$  P(\\text{homicida}) = .00005 $ \n",
    "\n",
    "$  P(\\text{gamer}) = .19 $ \n",
    "\n",
    "$   P(\\text{homicida}|\\text{gamer}) = \\frac{P(\\text{gamer}|\\text{homicida}) \\times P(\\text{homicida})}{P(\\text{gamer})} = \\frac{.85 \\times .00005}{.19} = .0002 $ \n",
    "\n",
    "Também podemos fazer isso em Python usando operadores aritméticos simples."
   ]
  },
  {
   "cell_type": "code",
   "execution_count": null,
   "id": "d9b2e660-6ebe-4f9a-87b0-430f602dc250",
   "metadata": {},
   "outputs": [],
   "source": [
    "p_gamer_sendo_homicida = .85\n",
    "p_homicida = .00005\n",
    "p_gamer = .19\n",
    "\n",
    "p_homicida_sendo_gamer = p_gamer_sendo_homicida * p_homicida / p_gamer\n",
    "\n",
    "print(p_homicida_sendo_gamer) # 0.0002236842105263158"
   ]
  },
  {
   "cell_type": "markdown",
   "id": "72dc601e-38e1-4a7a-ba2a-f5faacfa3684",
   "metadata": {},
   "source": [
    "Uau, vamos falar sobre o elefante na sala. Claro, alguém pode afirmar que 85% dos homicidas são gamers. No entanto, apenas 0,02% dos gamers são homicidas. Vamos dar uma olhada na animação abaixo para entender o porquê e ver por que somos enganados por porcentagens."
   ]
  },
  {
   "cell_type": "markdown",
   "id": "6dc158d7-64fc-4f82-b90c-b185b987aaf1",
   "metadata": {},
   "source": [
    "\n",
    "<video src=\"https://github.com/thomasnield/anaconda_probability_fundamentals/raw/main/media/02_VennDiagramBayes.mp4\" controls=\"controls\" style=\"max-width: 730px;\">\n",
    "</video>\n"
   ]
  },
  {
   "cell_type": "markdown",
   "id": "5d44d7ad-530d-4b18-82cb-0ca369674f50",
   "metadata": {},
   "source": [
    "Agora, é claro, a mídia pode distorcer isso e dizer que \"jogadores têm 4 vezes mais probabilidade de serem homicidas\", mas a realidade é que estamos comparando números minúsculos com números minúsculos. Isso é como dizer que pessoas homicidas têm 4 vezes mais probabilidade de usar chapéus e óculos. Na prática, estamos pegando atributos comuns e associando-os a incomuns, e isso é [uma [fonte comum para muitas falácias](https://en.wikipedia.org/wiki/Base_rate_fallacy). Isso também pode aparecer em aprendizado de máquina e validação de estudos, que discutiremos a seguir."
   ]
  },
  {
   "cell_type": "markdown",
   "id": "1ed4dbf9-cd7a-4652-a38a-541c757791cd",
   "metadata": {},
   "source": [
    "## Teorema de Bayes e Matrizes de Confusão"
   ]
  },
  {
   "cell_type": "markdown",
   "id": "e9985f85-a3b4-49f7-bbb9-e280698e9942",
   "metadata": {},
   "source": [
    "Vamos aplicar o Teorema de Bayes ao aprendizado de máquina. Digamos que temos um algoritmo sofisticado de regressão logística ou aprendizado profundo que foi treinado com alguns dados e prevê se alguém tem uma doença. Queremos avaliar os resultados usando uma ferramenta chamada **matriz de confusão**, que rastreia verdadeiros positivos, falsos positivos, verdadeiros negativos e falsos negativos.\n",
    "\n",
    "Abaixo, um código simplificado do Scikit-learn demonstra como usar uma matriz de confusão. O `y_pred` normalmente seria a saída de teste de um modelo de classificação (por exemplo, uma regressão logística, árvore de decisão ou rede neural) e o `y_true` seriam nossos valores reais."
   ]
  },
  {
   "cell_type": "code",
   "execution_count": null,
   "id": "08bf0784-4a44-4fdb-99c4-dd41de3b1d23",
   "metadata": {},
   "outputs": [],
   "source": [
    "import numpy as np \n",
    "from sklearn.metrics import confusion_matrix\n",
    "\n",
    "y_pred = np.array([1,0,1,1,1,1,0,0,0,1,1,1,1,1,1,0,0,0,0,0,0,1,1,1,1,0,0,0,0,0,1,0,0,0,1,0])\n",
    "y_true = np.array([1,0,1,1,1,1,0,0,0,1,1,1,1,0,1,0,0,0,1,0,0,1,0,1,1,0,0,0,0,0,0,0,0,0,1,0])\n",
    "\n",
    "'''\n",
    "[[truepositives falsenegatives]\n",
    " [falsepositives truenegatives]]\n",
    " '''\n",
    "matrix = confusion_matrix(y_true=y_true, y_pred=y_pred, normalize=None)\n",
    "print(matrix)\n",
    "'''\n",
    "[[18  3]\n",
    " [ 1 14]]\n",
    "'''"
   ]
  },
  {
   "cell_type": "markdown",
   "id": "8d00de73-34a0-42c2-b0c9-95bf63113847",
   "metadata": {},
   "source": [
    "Aqui está o resultado formatado.\n",
    "\n",
    "|          | Doença  | Sem Doença |\n",
    "|----------|---------|------------|\n",
    "| Positivo | 18      | 3          |\n",
    "| Negativo | 1       | 14         |\n",
    "\n",
    "Podemos calcular facilmente a partir disso que, se alguém tiver a doença, essa pessoa tem 94,7% de probabilidade de testar positivo, o que parece promissor.\n",
    "\n",
    "$ P(\\text{positivo}|\\text{doença}) = \\frac{18}{18+3} = 0,947 $\n",
    "\n",
    "Mas e se essa amostra for altamente enviesada para lidar com o desequilíbrio de classes, que é um problema em aberto no aprendizado de máquina? **Desequilíbrio de classes** é não ter dados suficientes equitativamente entre os casos *verdadeiro* e *falso*. Por exemplo, se apenas 1% da população tem uma doença, isso faria com que o algoritmo de aprendizado de máquina simplesmente previsse que *ninguém* tem a doença, o que resultaria em 99% de precisão. É por isso que não podemos confiar nas métricas de precisão pelo valor de face e usar matrizes de confusão e o Teorema de Bayes de acordo.\n",
    "\n",
    "Digamos que encontramos essa estatística, que apenas 1% da população tem a doença.\n",
    "\n",
    "$ P(\\text{doença}|\\text{positivo}) = \\frac{P(\\text{positivo}|\\text{doença}) \\times P(\\text{doença})}{P(\\text{positivo})} $\n",
    "\n",
    "$ P(\\text{doença}|\\text{positivo}) = \\frac{.947 \\times .01}{.583} = \\textbf{.016} $\n",
    "\n",
    "Droga! Então você quer me dizer que, se considerarmos 1% da população realmente tendo a doença, a probabilidade de ter a doença com um teste positivo é de apenas 1,6%? Isso só mostra como o desempenho pode despencar rapidamente e a matriz de confusão não leva em conta toda a população, especialmente se a amostra foi deliberadamente enviesada!\n",
    "\n",
    "> 3Blue1Brown tem um ótimo vídeo sobre o [paradoxo dos testes médicos e o Teorema de Bayes.](https://www.youtube.com/watch?v=lG4VkPoG3ko)\n",
    "\n",
    "Sejam videogames violentos, validação de aprendizado de máquina ou testes médicos, o Teorema de Bayes nos mostra como podemos ser facilmente enganados por porcentagens e como devemos sempre nos avaliar adequadamente."
   ]
  },
  {
   "cell_type": "markdown",
   "id": "3a6032cd-86a2-4359-9902-bfe28b6a007c",
   "metadata": {},
   "source": [
    "## Constante de Normalização## Normalizing Constant"
   ]
  },
  {
   "cell_type": "markdown",
   "id": "c406394d-7725-4b2a-bc80-28d34bdbf493",
   "metadata": {},
   "source": [
    "Ao resolver problemas de probabilidade condicional e Teorema de Bayes, você pode ocasionalmente precisar trabalhar com probabilidades quando um evento NÃO acontece. Felizmente, existe uma fórmula útil de probabilidade condicional chamada **constante de normalização** que nos ajudará a identificar essas probabilidades de eventos negadas.\n",
    "\n",
    "$ \\Large P(A) = P(A|B) \\times P(B) + P(A|'B) \\times P('B) $ "
   ]
  },
  {
   "cell_type": "markdown",
   "id": "c9a5ea12-5292-4693-bc7c-1d88ce66b44d",
   "metadata": {},
   "source": [
    "Digamos que haja 30% de chance de chover $ A $ hoje e 40% de chance de seu pedido de guarda-chuva chegar no horário. Mas se chover, há apenas 20% de chance de seu pedido chegar no horário. Para fazer compras, não precisa chover, caso contrário, seu guarda-chuva chegará.\n",
    "\n",
    "Portanto, o seguinte é obtido imediatamente do problema acima.\n",
    "\n",
    "$  P(\\text{chuva}) = .3 $\n",
    "\n",
    "$  P(\\text{no horário}) = .4 $\n",
    "\n",
    "$  P(\\text{no horário}|\\text{chuva}) = .2 $\n",
    "\n",
    "But we need to find the probability of $ P(\\text{no horário}|\\text{sem chuva}) $. Thankfully we can use the normalizing constant formula to solve this.\n",
    "\n",
    "$  P(A) = P(A|B) \\times P(B) + P(A|'B) \\times P('B) $ \n",
    "\n",
    "$  P(\\text{no horário}) = P(\\text{no horário}|\\text{chuva}) \\times P(\\text{chuva}) + P(\\text{no horário}|\\text{sem chuva}) \\times P(\\text{sem chuva}) $ \n"
   ]
  },
  {
   "cell_type": "markdown",
   "id": "63ab3601-78d7-4b7e-89ed-31e9b46e2248",
   "metadata": {},
   "source": [
    "Substitute the values we do have and then solve algebraically for $  P(\\text{on time}|\\text{no rain}) $ from there. "
   ]
  },
  {
   "cell_type": "markdown",
   "id": "0cd113bc-cff3-455a-889f-b8323e0e8581",
   "metadata": {},
   "source": [
    "$  .4 = .2 \\times .3 + P(\\text{no horário}|\\text{sem chuva}) \\times (1 - .3) $ \n",
    "\n",
    "$  P(\\text{no horário}|\\text{sem chuva}) = \\mathbf{.486} $"
   ]
  },
  {
   "cell_type": "markdown",
   "id": "a85d3683-b6aa-4632-99b2-f55bab69be0c",
   "metadata": {},
   "source": [
    "Agora temos tudo o que precisamos para calcular nossa probabilidade de união. Lembre-se, queríamos encontrar a probabilidade de não chover ou de o guarda-chuva chegar na hora certa.\n",
    "\n",
    "$  P(\\text{sem chuva} \\cup \\text{no horário}) = P(\\text{sem chuva}) + P(\\text{no horário}) - P(\\text{sem chuva}) \\times P(\\text{no horário}|\\text{sem chuva}) $ \n",
    "\n",
    "$  P(\\text{sem chuva} \\cup \\text{no horário})  = 7 + .4 - .7 \\times .486 = \\mathbf{.7598} $ \n",
    "\n",
    "Portanto, há uma probabilidade de 75,98% de conseguirmos fazer nossas tarefas (se não chover *OU* o guarda-chuva chegar na hora certa)."
   ]
  },
  {
   "attachments": {},
   "cell_type": "markdown",
   "id": "d1e8cb3d-3875-4599-bbf8-a5b6e337b61f",
   "metadata": {},
   "source": [
    "## Exercício\n",
    "\n",
    "Uma empresa de carros elétricos anunciou que possui um novo \"sistema de IA\" que detecta pneus desgastados com 95% de precisão e notifica o motorista para substituí-los.\n",
    "\n",
    "No entanto, em um dado momento, apenas 5% dos pneus na estrada precisam ser substituídos, e o sistema sinaliza resultados positivos em 7% das vezes.\n",
    "\n",
    "Qual é a probabilidade de um pneu estar realmente desgastado se o teste for positivo? Complete o código Python abaixo (substituindo os pontos de interrogação \"?\") para calcular sua resposta."
   ]
  },
  {
   "cell_type": "code",
   "execution_count": null,
   "id": "7d49dcd4-8e1f-4dbb-9605-2256e5dad850",
   "metadata": {},
   "outputs": [],
   "source": [
    "p_positivo_se_desgastado = .95\n",
    "p_desgastado = .05\n",
    "p_positivo = .07\n",
    "\n",
    "p_desgastado_se_positivo = ? "
   ]
  },
  {
   "cell_type": "markdown",
   "id": "14c3899f-71b3-47d4-84c2-41f4167cd0c2",
   "metadata": {},
   "source": [
    "### RESPOSTA A BAIXO\n",
    "\n",
    "|<br>\n",
    "|<br>\n",
    "|<br>\n",
    "|<br>\n",
    "|<br>\n",
    "|<br>\n",
    "|<br>\n",
    "|<br>\n",
    "|<br>\n",
    "|<br>\n",
    "|<br>\n",
    "|<br>\n",
    "|<br>\n",
    "|<br>\n",
    "|<br>\n",
    "|<br>\n",
    "|<br>\n",
    "|<br>\n",
    "|<br>\n",
    "|<br>\n",
    "|<br>\n",
    "|<br>\n",
    "|<br>\n",
    "v "
   ]
  },
  {
   "cell_type": "markdown",
   "id": "0970d5ea-b449-43bc-af49-54476c89a369",
   "metadata": {},
   "source": [
    "A resposta é uma probabilidade de 67,85% de que um teste positivo realmente resulte em um pneu gasto. Use o Teorema de Bayes para inverter essa probabilidade condicional, como mostrado abaixo."
   ]
  },
  {
   "cell_type": "code",
   "execution_count": null,
   "id": "2837305c-44a8-4931-8aaa-73e47618e772",
   "metadata": {},
   "outputs": [],
   "source": [
    "p_positivo_se_desgastado = .95\n",
    "p_desgastado = .05\n",
    "p_positivo = .07\n",
    "\n",
    "\n",
    "p_desgastado_se_positivo = = p_positivo_se_desgastado * p_desgastado / p_positivo\n",
    "print(p_desgastado_se_positivo) # 0.6785714285714285"
   ]
  },
  {
   "cell_type": "code",
   "execution_count": null,
   "id": "a2df067f-1267-46ca-a56c-daf403ffb72f",
   "metadata": {},
   "outputs": [],
   "source": []
  }
 ],
 "metadata": {
  "kernelspec": {
   "display_name": "anaconda-2024.02-py310",
   "language": "python",
   "name": "conda-env-anaconda-2024.02-py310-py"
  },
  "language_info": {
   "codemirror_mode": {
    "name": "ipython",
    "version": 3
   },
   "file_extension": ".py",
   "mimetype": "text/x-python",
   "name": "python",
   "nbconvert_exporter": "python",
   "pygments_lexer": "ipython3",
   "version": "3.11.5"
  }
 },
 "nbformat": 4,
 "nbformat_minor": 5
}
