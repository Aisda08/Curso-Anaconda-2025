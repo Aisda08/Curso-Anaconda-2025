{
 "cells": [
  {
   "cell_type": "markdown",
   "id": "91edcec7-56d8-49f2-be10-3924666dcd96",
   "metadata": {},
   "source": [
    "# Distribuições Contínuas"
   ]
  },
  {
   "cell_type": "markdown",
   "id": "f590744f-73e4-42c7-a769-6972d255f574",
   "metadata": {},
   "source": [
    "Distribuições contínuas são distribuições de probabilidade que lidam com valores contínuos (por exemplo, decimais, valores de ponto flutuante) em vez de valores discretos (valores binários, inteiros, números naturais). A mais famosa é a distribuição normal, comumente encontrada na natureza e na estatística. Também usaremos a distribuição exponencial e a distribuição beta para descobrir mais duas utilidades úteis."
   ]
  },
  {
   "cell_type": "markdown",
   "id": "690abcd7-a9ae-49c8-bc1d-0418f60e52a2",
   "metadata": {},
   "source": [
    "## Distribuição Normal"
   ]
  },
  {
   "cell_type": "markdown",
   "id": "c48f8060-3188-4f10-8e12-786b20327fad",
   "metadata": {},
   "source": [
    "A **distribuição normal** é uma curva simétrica em forma de sino que aparece em muitos fenômenos naturais e científicos. Mesmo para dados que não seguem a distribuição normal, ela ainda se generaliza para uma distribuição normal devido ao teorema do limite central, sobre o qual também falaremos brevemente.\n",
    "\n",
    "Digamos que esperamos que um laptop tenha 12 horas de duração da bateria com um desvio padrão de 1 hora. O desvio padrão define o quão \"espalhada\" é a curva em forma de sino. Quanto menor o desvio padrão, mais consistente esperamos que seja a duração da bateria.\n",
    "\n",
    "Abaixo, usamos o matplotlib para plotar a **função de densidade de probabilidade (PDF)** da distribuição normal, que é a curva em forma de sino que mostra a probabilidade que esperamos de cada valor (em horas)."
   ]
  },
  {
   "cell_type": "code",
   "execution_count": null,
   "id": "18b89a3b-7303-4256-9a80-e6bf29ded912",
   "metadata": {},
   "outputs": [],
   "source": [
    "from scipy.stats import norm\n",
    "import numpy as np \n",
    "import matplotlib.pyplot as plt\n",
    "\n",
    "# define média e desvio padrão\n",
    "mean = 12\n",
    "std = 1\n",
    "\n",
    "# captura de intervalo de eixo ± 3 desvios padrão em torno da média\n",
    "x_range = np.arange(mean-std*3, mean+std*3, .01) \n",
    "\n",
    "# plota o PDF normal\n",
    "plt.plot(x_range, norm.pdf(x_range, mean, std)) # curva de sino\n",
    "plt.show()"
   ]
  },
  {
   "cell_type": "markdown",
   "id": "59e21587-9673-4f63-b258-03aac74cce2d",
   "metadata": {},
   "source": [
    "A fórmula da função densidade de probabilidade (PDF) para uma distribuição normal é definida como...\n",
    "\n",
    "$ \\Large f(x) = \\frac{1}{\\sqrt{2\\pi\\sigma^2}} e^{-\\frac{(x-\\mu)^2}{2\\sigma^2}} $ \n",
    "\n",
    "onde $ \\mu $ é a média, $ \\sigma $ é o desvio padrão, $ x $ é a variável de entrada e $ f(x) $ é a verossimilhança de saída.\n",
    "\n",
    "**Existem algumas propriedades importantes em torno da distribuição normal.**\n",
    "\n",
    "* Ela é simétrica em direção ao centro.\n",
    "* No topo da curva em sino, a maior verossimilhança está na média.\n",
    "* A \"dispersão\" das caudas é definida pelo desvio padrão.\n",
    "* As caudas se aproximam sempre do eixo x, mas nunca o alcançam.\n",
    "* A área sob toda a curva, como qualquer distribuição de probabilidade, é 1.0."
   ]
  },
  {
   "cell_type": "markdown",
   "id": "1f40dcd3-d42f-4009-bfa6-730577b39ce3",
   "metadata": {},
   "source": [
    "Procurar um valor específico de probabilidade *y* para um determinado valor *x* não é produtivo. Em vez disso, usamos intervalos de *x* e capturamos áreas para esse intervalo, o que nos dá uma probabilidade. Por exemplo, **qual é a probabilidade de obter entre 10 e 14 horas de bateria com uma determinada carga**? Calculamos a área/probabilidade para esse intervalo conforme ilustrado abaixo."
   ]
  },
  {
   "cell_type": "code",
   "execution_count": null,
   "id": "653b7195-9b78-433b-a41d-dd1c74e28d7c",
   "metadata": {},
   "outputs": [],
   "source": [
    "import matplotlib.pyplot as plt\n",
    "import numpy as np\n",
    "from scipy.stats import norm\n",
    "\n",
    "# define média e desvio padrão\n",
    "mean = 12\n",
    "std = 1\n",
    "\n",
    "# limites inferior e superior da área\n",
    "lower_x, upper_x = -3*std+mean, 3*std+mean \n",
    "lower_area_x, upper_area_x = 10, 14 \n",
    "\n",
    "# captura de intervalo de eixo ± 3 desvios padrão em torno da média\n",
    "x = np.arange(lower_x, upper_x, .01) \n",
    "y = norm.pdf(x, mean, std)\n",
    "\n",
    "# plota o PDF normal \n",
    "plt.plot(x, y) # bell curve \n",
    "\n",
    "# Calcula a área sombreada sob a curva\n",
    "area_sombreada = norm.cdf(upper_area_x, mean, std) - norm.cdf(lower_area_x, mean, std)\n",
    "\n",
    "# plota a distribuição normal e a área sombreada\n",
    "intervalo_de_área_x = (x >= lower_area_x) & (x <= upper_area_x)\n",
    "plt.fill_between(x[intervalo_de_área_x], y[intervalo_de_área_x], 0, alpha=0.5, color='red')\n",
    "plt.xlabel('Valor')\n",
    "plt.ylabel('Densidade de probabilidade')\n",
    "plt.title('Distribuição normal com média = {} e desvio padrão = {}'.format(mean, std))\n",
    "plt.text(11.4, 0.1, 'Area = {:.2f}'.format(area_sombreada))\n",
    "plt.show()"
   ]
  },
  {
   "cell_type": "markdown",
   "id": "1098b2cd-3a17-4120-8b49-11c8a2991267",
   "metadata": {},
   "source": [
    "A área é de $ 0.95 $ para esse intervalo, então há 95% de probabilidade de uma carga de bateria durar entre 10 e 14 horas. Deixando o código matplotlib de lado, podemos calcular isso usando a **função de densidade cumulativa (CDF)**, que captura a área de menos infinito até um determinado valor de x. Podemos calcular a área até 14 e, em seguida, subtrair a área até 10."
   ]
  },
  {
   "cell_type": "code",
   "execution_count": null,
   "id": "9d19196d-4f75-4a6b-9f2a-05c404aae121",
   "metadata": {},
   "outputs": [],
   "source": [
    "from scipy.stats import norm\n",
    "\n",
    "mean, std = 12, 1\n",
    "\n",
    "# Calcula a área sombreada sob a curva\n",
    "area_sombreada = norm.cdf(14, mean, std) - norm.cdf(10, mean, std)\n",
    "\n",
    "print(area_sombreada) # 0.9544997361036416"
   ]
  },
  {
   "cell_type": "markdown",
   "id": "490061af-4cf0-421c-bf5c-6c1b59d576e5",
   "metadata": {},
   "source": [
    "Se quiser ver a aparência da função de densidade cumulativa, você pode plotá-la usando o matplotlib. Observe que se trata de uma curva em forma de S que atinge $ .5 $ na média e se estabiliza perto de $ 1.0 $ à medida que você avança na extremidade direita do PDF."
   ]
  },
  {
   "cell_type": "code",
   "execution_count": null,
   "id": "0c7d3eb3-f8c5-4719-842f-890f7b1aa3e9",
   "metadata": {},
   "outputs": [],
   "source": [
    "# plota PDF e CDF lado a lado\n",
    "plt.plot(x, norm.pdf(x, mean, std), color=\"blue\") # função de densidade de probabilidade\n",
    "plt.plot(x, norm.cdf(x, mean, std), color=\"red\") # função de densidade cumulativa\n",
    "plt.show()"
   ]
  },
  {
   "cell_type": "markdown",
   "id": "c20a6626-4786-46ce-a0a8-e80d10399679",
   "metadata": {},
   "source": [
    "Há muitas aplicações interessantes para a distribuição normal de uma perspectiva estatística, desde o teorema do limite central até testes de hipóteses, que são abordados em [outro curso da Anaconda](https://learning.anaconda.cloud/statistics-and-hypothesis-testing). Mas vamos manter o foco na probabilidade. Podemos inverter a função de densidade cumulativa para criar a **função de ponto percentual (PPF)**, que nos permite procurar um valor de x que capture uma determinada área (da cauda esquerda até esse valor de x)."
   ]
  },
  {
   "cell_type": "code",
   "execution_count": null,
   "id": "08a174a2-46cc-4ef0-b9e8-a41540f3b9b9",
   "metadata": {},
   "outputs": [],
   "source": [
    "p = np.arange(0, 1, .01) \n",
    "plt.plot(p, norm.ppf(p, mean, std), color=\"red\") # função de ponto percentual \n",
    "plt.show()"
   ]
  },
  {
   "cell_type": "markdown",
   "id": "ba791797-c070-43ca-8e08-22322c54e911",
   "metadata": {},
   "source": [
    "Por exemplo, qual valor de x me dá 80% da área à esquerda? Isso pode ser respondido usando o FPP."
   ]
  },
  {
   "cell_type": "code",
   "execution_count": null,
   "id": "0098bd23-1c5c-458c-bcc4-8b61f03d425b",
   "metadata": {
    "scrolled": true
   },
   "outputs": [],
   "source": [
    "norm.ppf(.8, mean, std) # 12.841621233572914"
   ]
  },
  {
   "cell_type": "markdown",
   "id": "6f1da17c-c570-48fa-ae5f-c36ba210fffe",
   "metadata": {},
   "source": [
    "Para complementar, sabemos agora que $ 12,841621233572914 $ nos dá $ 0.8 $ da área à esquerda. Portanto, esperamos que 80% das cargas da bateria durem $ 12.84 $ horas ou menos."
   ]
  },
  {
   "cell_type": "code",
   "execution_count": null,
   "id": "b135b211-213b-42c6-84e6-a3919b43a2a4",
   "metadata": {},
   "outputs": [],
   "source": [
    "intervalo_de_área_x = (x <= 12.841621233572914)\n",
    "plt.plot(x, norm.pdf(x, mean, std), color=\"blue\") # função de densidade de probabilidade \n",
    "plt.fill_between(x[intervalo_de_área_x], y[intervalo_de_área_x], 0, alpha=0.5, color='red')\n",
    "plt.text(11.4, 0.1, 'Area = {:.2f}'.format(.8))\n",
    "plt.show()"
   ]
  },
  {
   "cell_type": "markdown",
   "id": "0071184a-a4b6-484e-b0ad-56459b0e53b7",
   "metadata": {},
   "source": [
    "## Distribuição Exponencial"
   ]
  },
  {
   "cell_type": "markdown",
   "id": "8b907039-2247-4934-9600-f9c6e1ef2f0c",
   "metadata": {},
   "source": [
    "Outra distribuição contínua útil é a **distribuição exponencial**, frequentemente usada para modelar quanto tempo decorre entre eventos, dada uma duração média. A fórmula para a função de densidade de probabilidade de uma distribuição exponencial é...\n",
    "\n",
    "$ \\Large f(x) = \\lambda e^{-\\lambda x} $ \n",
    "\n",
    "onde $ \\lambda $ é o número médio de eventos que ocorrem em um período definido. Digamos que lançamos um vídeo no YouTube e esperamos que ele tenha, em média, 2 visualizações a cada minuto. Quanto tempo podemos esperar entre cada visualização? É isso que a distribuição exponencial nos ajuda a responder.\n",
    "\n",
    "Vamos plotar usando SciPy, como mostrado abaixo. Observe que precisamos inserir a taxa lambda por meio do argumento `scale` como $ \\frac{1}{\\lambda} $. "
   ]
  },
  {
   "cell_type": "code",
   "execution_count": null,
   "id": "d931602b-1732-42f1-a9d0-a9845c55a33a",
   "metadata": {},
   "outputs": [],
   "source": [
    "from scipy.stats import expon \n",
    "\n",
    "lambda_rate = 2 # média de visualizações por minuto\n",
    "\n",
    "x = np.arange(.01, 3, .01)\n",
    "y = expon.pdf(x, scale = 1/lambda_rate)\n",
    "\n",
    "plt.plot(x, y)\n",
    "plt.show()"
   ]
  },
  {
   "cell_type": "markdown",
   "id": "c59db174-f239-4df7-96ce-8a278c3d2054",
   "metadata": {},
   "source": [
    "Agora, vamos perguntar: qual é a probabilidade de que, após uma determinada visualização, a próxima visualização ocorra após 1 a 2 minutos? Queremos encontrar a área sombreada abaixo."
   ]
  },
  {
   "cell_type": "code",
   "execution_count": null,
   "id": "6e2237c5-2de7-41ff-8839-2e5980c9796b",
   "metadata": {},
   "outputs": [],
   "source": [
    "lower_area_x, upper_area_x = 1, 2\n",
    "intervalo_de_área_x = (x >= lower_area_x) & (x <= upper_area_x)\n",
    "\n",
    "plt.plot(x, expon.pdf(x, scale = 1/lambda_rate))\n",
    "plt.fill_between(x[intervalo_de_área_x], y[intervalo_de_área_x], 0, alpha=0.5, color='red')\n",
    "plt.show()"
   ]
  },
  {
   "cell_type": "markdown",
   "id": "68ed0dc1-249b-4862-8f76-d2ea0baae0f0",
   "metadata": {},
   "source": [
    "Assim como fizemos com a distribuição normal, podemos usar a função de densidade cumulativa (CDF) para calcular a área até 2 e, então, subtrair toda a área até 1. Isso retornaria uma área/probabilidade de `.117`."
   ]
  },
  {
   "cell_type": "code",
   "execution_count": null,
   "id": "cc070aa2-6835-4b34-96ef-9c3c8876e8c1",
   "metadata": {},
   "outputs": [],
   "source": [
    "expon.cdf(2, scale = 1/lambda_rate) - expon.cdf(1, scale = 1/lambda_rate)"
   ]
  },
  {
   "cell_type": "markdown",
   "id": "4079af87-e72b-4240-a2f6-195efb4c70c0",
   "metadata": {},
   "source": [
    "Portanto, há uma probabilidade de 11,7% de que a próxima visualização ocorra após 1 a 2 minutos."
   ]
  },
  {
   "cell_type": "markdown",
   "id": "baa2b360-5481-4751-8ac3-d7d83658c3d8",
   "metadata": {},
   "source": [
    "## Distribuição Beta"
   ]
  },
  {
   "cell_type": "markdown",
   "id": "c18268e4-5151-45d0-b320-ae83e9cecaf9",
   "metadata": {},
   "source": [
    "Aqui está mais uma distribuição contínua útil. A **distribuição beta** mede as probabilidades das probabilidades. Se isso soa muito meta, não se preocupe. Vamos retornar a um problema que abordamos na seção anterior.\n",
    "\n",
    "Lembre-se de que na última seção usamos a distribuição binomial para medir, de *n* tentativas, qual é a probabilidade de ver *k* sucessos/eventos dada uma probabilidade *p*? Queríamos saber qual seria a probabilidade, com uma taxa de sucesso de 90%, de vermos 8 tocadores de MP3 de natação funcionando em 10. Consulte o gráfico abaixo para ativar sua memória."
   ]
  },
  {
   "cell_type": "code",
   "execution_count": null,
   "id": "843287c6-a56c-46ed-8aa0-532729f999e2",
   "metadata": {},
   "outputs": [],
   "source": [
    "import numpy as np\n",
    "import matplotlib.pyplot as plt\n",
    "from scipy.stats import binom\n",
    "\n",
    "# Define o número de tentativas e a probabilidade de sucesso\n",
    "n = 10\n",
    "p = 0.9\n",
    "\n",
    "# Gera valores x para o gráfico\n",
    "x = np.arange(0, n + 1)\n",
    "\n",
    "# Calcula a função de massa de probabilidade (PMF)\n",
    "pmf = binom.pmf(x, n, p)\n",
    "\n",
    "# Plota o PMF\n",
    "plt.bar(x, pmf, align='center')\n",
    "\n",
    "# Define o título e os rótulos\n",
    "plt.title('Binomial Distribution')\n",
    "plt.xlabel('Number of successes')\n",
    "plt.ylabel('Probability')\n",
    "\n",
    "# Mostra o gráfico\n",
    "plt.show()"
   ]
  },
  {
   "cell_type": "markdown",
   "id": "7511af3c-fb67-4472-b749-71a37cb523aa",
   "metadata": {},
   "source": [
    "Mas e se invertêssemos a questão? Em vez de perguntar *qual a probabilidade de 8/10 sucessos, dada uma taxa de sucesso subjacente de 90%*, vamos perguntar *qual a probabilidade de cada probabilidade de sucesso (de 0,0 a 1,0) dada 8/10 sucessos?* É exatamente isso que a distribuição beta faz.\n",
    "\n",
    "Vamos plotar a distribuição beta abaixo, com 8 sucessos e 2 falhas como nossos parâmetros alfa/beta."
   ]
  },
  {
   "cell_type": "code",
   "execution_count": null,
   "id": "2bd50339-690d-4572-a089-e74250dd0207",
   "metadata": {},
   "outputs": [],
   "source": [
    "from scipy.stats import beta \n",
    "\n",
    "a, b = 8, 2 # sucessos, fracassos\n",
    "\n",
    "x = np.arange(0, 1.01, .01)\n",
    "y = beta.pdf(x, a, b)\n",
    "\n",
    "plt.plot(x, y)\n",
    "plt.show()"
   ]
  },
  {
   "cell_type": "markdown",
   "id": "96e1b795-4bfa-4818-9f61-b8ef53bb9264",
   "metadata": {},
   "source": [
    "Observe como o eixo x reflete as probabilidades subjacentes de sucesso entre $ 0.0 $ e $ 1.0 $. O eixo y reflete a probabilidade dessa probabilidade de sucesso, considerando que tivemos 8 em cada 10 sucessos. Como em todas as distribuições contínuas, calculamos as probabilidades usando as áreas sob a curva.\n",
    "\n",
    "Por exemplo, considerando 8 em cada 10 sucessos, qual é a probabilidade de a taxa subjacente de sucesso estar entre $ 0.6 $ e $ 0.9 $? Vamos primeiro visualizar essa área de interesse abaixo."
   ]
  },
  {
   "cell_type": "code",
   "execution_count": null,
   "id": "9fab7449-dd74-4f8d-87a8-c587f0ccaa9f",
   "metadata": {},
   "outputs": [],
   "source": [
    "lower_area_x, upper_area_x = .6, .9\n",
    "intervalo_de_área_x = (x >= lower_area_x) & (x <= upper_area_x)\n",
    "\n",
    "plt.plot(x, beta.pdf(x, a, b))\n",
    "plt.fill_between(x[intervalo_de_área_x], y[intervalo_de_área_x], 0, alpha=.5,  color='red')\n",
    "plt.show()"
   ]
  },
  {
   "cell_type": "markdown",
   "id": "8299f427-6eb4-4b7b-a9a4-6c669b6c9b08",
   "metadata": {},
   "source": [
    "Podemos então responder a isso, mais uma vez, com a função de densidade cumulativa, capturando a área até $ 0.9 $ e depois subtraindo a área até $ 0.6 $."
   ]
  },
  {
   "cell_type": "code",
   "execution_count": null,
   "id": "d58b1c97-286a-4053-a9e4-03c978dd63b9",
   "metadata": {},
   "outputs": [],
   "source": [
    "beta.cdf(.9, a, b) - beta.cdf(.6, a, b)"
   ]
  },
  {
   "cell_type": "markdown",
   "id": "eb6d8608-39ac-4070-9130-70813da4ada7",
   "metadata": {},
   "source": [
    "Isso nos dá uma área de $ 0.704 $, então há uma probabilidade de 70,4% de que a taxa subjacente de mp3 players funcionando esteja entre $ .6 $ e $ 0.8 $."
   ]
  },
  {
   "cell_type": "markdown",
   "id": "902e98d8-1cfc-44a1-ae85-8fe401c3cfb1",
   "metadata": {},
   "source": [
    "## Exercício"
   ]
  },
  {
   "cell_type": "markdown",
   "id": "67b49952-01a7-4a34-83b9-9132e3261ee9",
   "metadata": {},
   "source": [
    "![img](data:image/svg+xml;base64,PD94bWwgdmVyc2lvbj0iMS4wIiBlbmNvZGluZz0idXRmLTgiPz48c3ZnIHZlcnNpb249IjEuMSIgaWQ9IkxheWVyXzEiIHhtbG5zPSJodHRwOi8vd3d3LnczLm9yZy8yMDAwL3N2ZyIgeG1sbnM6eGxpbms9Imh0dHA6Ly93d3cudzMub3JnLzE5OTkveGxpbmsiIHg9IjBweCIgeT0iMHB4IiB3aWR0aD0iMTUwcHgiIHZpZXdCb3g9IjAgMCAxMTUuNTQgMTIyLjg4IiBzdHlsZT0iZW5hYmxlLWJhY2tncm91bmQ6bmV3IDAgMCAxMTUuNTQgMTIyLjg4IiB4bWw6c3BhY2U9InByZXNlcnZlIj48Zz48cGF0aCBkPSJNMTcuMzEsMjYuODN2ODQuODhjMCwwLjA2LDAsMC4xMi0wLjAxLDAuMTdoMjMuMDF2LTguODdoMzYuNzN2OC44N2gyMC43OWMwLTAuMDUtMC4wMS0wLjA5LTAuMDEtMC4xNFYyNi44M2gtNi41N3YxMC40NCBINjkuODR2MC4wMXYxMi4yOGMwLDAuNS0wLjQsMC45LTAuOSwwLjlINjQuN3Y1LjU1aC0zLjkxdi01LjU1aC00LjQ2djUuNTVoLTMuOTF2LTUuNTVoLTQuMjVjLTAuNSwwLTAuOS0wLjQtMC45LTAuOVYzNy4yOGwwLTAuMDEgSDI2LjA5VjI2LjgzSDE3LjMxTDE3LjMxLDI2LjgzeiBNMzkuNzIsNjUuMjZoMzguMThjMC43MiwwLDEuMzgsMC4zLDEuODYsMC43N2wwLDBsMCwwbDAsMGMwLjQ4LDAuNDgsMC43NywxLjE0LDAuNzcsMS44NnYxLjE5IGg1LjYyYzEuMywwLDIuNDgsMC41MywzLjMzLDEuMzhjMC4wMywwLjAzLDAuMDcsMC4wNywwLjEsMC4xMWMwLjgsMC44NSwxLjI5LDEuOTgsMS4yOSwzLjIydjUuNTFjMCwxLjQ4LTAuNjEsMi44My0xLjU4LDMuODEgYy0wLjk4LDAuOTgtMi4zMiwxLjU4LTMuODEsMS41OGgtNi4xYy0yLjA1LDYuMTQtNi42MiwxMC4zNy0xMi4wMywxMi41N2MtMi43OSwxLjE0LTUuODIsMS43Mi04Ljg1LDEuNzQgYy0zLjAzLDAuMDItNi4wNS0wLjU0LTguODItMS42OWMtNy4xLTIuOTMtMTIuNi05LjY1LTEyLjYtMjAuNDR2LTguOThjMC0wLjcyLDAuMy0xLjM4LDAuNzctMS44NmwwLDBsMCwwIEMzOC4zMyw2NS41NiwzOC45OSw2NS4yNiwzOS43Miw2NS4yNkwzOS43Miw2NS4yNnogTTg2LjE1LDcyLjIyaC01LjUydjkuMzZoNC44NWMwLjYyLDAsMS4xOS0wLjI2LDEuNi0wLjY3IGMwLjQxLTAuNDEsMC42Ny0wLjk4LDAuNjctMS42VjczLjhjMC0wLjQxLTAuMTUtMC43OC0wLjQxLTEuMDZjLTAuMDItMC4wMi0wLjA0LTAuMDQtMC4wNi0wLjA2IEM4Ni45OCw3Mi40LDg2LjU5LDcyLjIyLDg2LjE1LDcyLjIyTDg2LjE1LDcyLjIyeiBNNzcuNDEsNjguMzlINDAuMnY4LjVjMCw5LjMyLDQuNjUsMTUuMDgsMTAuNjYsMTcuNTYgYzIuMzksMC45OSw1LjAxLDEuNDcsNy42MywxLjQ1YzIuNjItMC4wMSw1LjI1LTAuNTMsNy42OS0xLjUyYzYuMjgtMi41NSwxMS4yNC04LjM1LDExLjI0LTE3LjFWNjguMzlMNzcuNDEsNjguMzl6IE0xMy45NiwxMTEuODkgYy0wLjAxLTAuMDYtMC4wMS0wLjExLTAuMDEtMC4xN1YyNi44M0gxLjU2QzAuNywyNi44MywwLDI2LjEzLDAsMjUuMjdWMS41NkMwLDAuNywwLjcsMCwxLjU2LDBoMTEyLjQxYzAuODYsMCwxLjU2LDAuNywxLjU2LDEuNTYgdjIzLjcxYzAsMC44Ni0wLjcsMS41Ni0xLjU2LDEuNTZIMTAxLjJ2ODQuOTJjMCwwLjA1LDAsMC4wOS0wLjAxLDAuMTRoMTIuNzh2MTAuOTlIMS41NnYtMTAuOTlIMTMuOTZMMTMuOTYsMTExLjg5eiBNNDYuMjUsNi40IGgyNS4wNGMwLjQ0LDAsMC44LDAuMzksMC44LDAuODhWMTkuM2MwLDAuNDktMC4zNiwwLjg4LTAuOCwwLjg4SDQ2LjI1Yy0wLjQ0LDAtMC44LTAuMzktMC44LTAuODhWNy4yOCBDNDUuNDUsNi43OSw0NS44MSw2LjQsNDYuMjUsNi40TDQ2LjI1LDYuNHogTTY4LjA0LDM4LjE4SDQ5LjA3djEwLjQ4aDE4Ljk4VjM4LjE4TDY4LjA0LDM4LjE4eiBNMTEyLjE3LDMuMzZIMy4zNnYyMC4xaDEwOC44MSBWMy4zNkwxMTIuMTcsMy4zNnoiLz48L2c+PC9zdmc+)\n",
    "\n",
    "Você está tentando construir uma distribuição normal de quantos gramas de grãos compõem uma xícara ideal de café de 473 ml (16 oz). Após entrevistar centenas de baristas, você determinou que a média é de 33 gramas com desvio padrão de 1,5 grama.\n",
    "\n",
    "Qual é a probabilidade de a xícara \"ideal\" de 473 ml (16 oz) de café estar entre 31 e 35 gramas? Complete o código abaixo para encontrar a resposta."
   ]
  },
  {
   "cell_type": "code",
   "execution_count": null,
   "id": "3615d491-9809-4058-a4cb-49d0c927f82d",
   "metadata": {
    "scrolled": true
   },
   "outputs": [],
   "source": [
    "from scipy.stats import norm\n",
    "\n",
    "mean, std = 33, 1.5\n",
    "\n",
    "p = norm.cdf(?,?,?) - ? \n",
    "\n",
    "print(p)"
   ]
  },
  {
   "cell_type": "markdown",
   "id": "a2cb835f-53fe-4caf-9cff-7488be78036a",
   "metadata": {},
   "source": [
    "### RESPOSTA A BAIXO\n",
    "\n",
    "|<br>\n",
    "|<br>\n",
    "|<br>\n",
    "|<br>\n",
    "|<br>\n",
    "|<br>\n",
    "|<br>\n",
    "|<br>\n",
    "|<br>\n",
    "|<br>\n",
    "|<br>\n",
    "|<br>\n",
    "|<br>\n",
    "|<br>\n",
    "|<br>\n",
    "|<br>\n",
    "|<br>\n",
    "|<br>\n",
    "|<br>\n",
    "|<br>\n",
    "|<br>\n",
    "|<br>\n",
    "|<br>\n",
    "v "
   ]
  },
  {
   "cell_type": "markdown",
   "id": "01d92049-8166-41ee-9b24-b7129fd18393",
   "metadata": {},
   "source": [
    "A probabilidade de o número ideal de gramas para uma xícara de café de 473 ml estar entre 31 e 35 é de 0,8175. Você pode calcular isso usando a função de densidade cumulativa (CDF) da distribuição normal. Calcule a área até 35 e, em seguida, subtraia a área até 31."
   ]
  },
  {
   "cell_type": "code",
   "execution_count": null,
   "id": "528af258-5424-4c6f-b5b6-24f66c32722e",
   "metadata": {},
   "outputs": [],
   "source": [
    "from scipy.stats import norm\n",
    "\n",
    "mean, std = 33, 1.5\n",
    "\n",
    "p = norm.cdf(35,mean,std) - norm.cdf(31,mean,std)\n",
    "\n",
    "print(p)"
   ]
  }
 ],
 "metadata": {
  "kernelspec": {
   "display_name": "Python 3",
   "language": "python",
   "name": "python3"
  },
  "language_info": {
   "codemirror_mode": {
    "name": "ipython",
    "version": 3
   },
   "file_extension": ".py",
   "mimetype": "text/x-python",
   "name": "python",
   "nbconvert_exporter": "python",
   "pygments_lexer": "ipython3",
   "version": "3.10.0"
  }
 },
 "nbformat": 4,
 "nbformat_minor": 5
}
