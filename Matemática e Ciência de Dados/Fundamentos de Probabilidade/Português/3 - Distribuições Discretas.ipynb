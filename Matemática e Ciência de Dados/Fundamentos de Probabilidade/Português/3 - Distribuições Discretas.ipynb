{
 "cells": [
  {
   "cell_type": "markdown",
   "id": "e0bd6551-c24f-40ea-a13b-95e90f2511ab",
   "metadata": {},
   "source": [
    "# Distribuições Discretas\n",
    "\n",
    "Vamos medir eventos discretos (por exemplo, Verdadeiro/Falso, A/B/C, Cachorro/Gato/Pássaro, etc.) usando distribuições discretas. Eventos discretos são eventos categóricos que são números naturais ou inteiros contáveis, e não valores de ponto flutuante.\n",
    "\n",
    "Vamos começar com a distribuição discreta, sem dúvida a mais simples, e usá-la para apresentar distribuições em geral."
   ]
  },
  {
   "cell_type": "markdown",
   "id": "799e858a-f60e-4fc1-9b30-3a746942d82d",
   "metadata": {},
   "source": [
    "## Distribuição de Bernoulli"
   ]
  },
  {
   "cell_type": "markdown",
   "id": "84776465-a0ea-408b-9a59-fed5f88cace5",
   "metadata": {},
   "source": [
    "Digamos que eu esteja tentando fabricar um MP3 player para natação. Mas, para funcionar, ele obviamente precisa ser à prova d'água. Minha engenheira afirma que o protótipo atual deve funcionar 90% das vezes. Quando peço que ela esclareça, ela diz que cada unidade construída tem 90% de chance de funcionar corretamente e manter a água longe.\n",
    "\n",
    "![img](data:image/svg+xml;base64,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)"
   ]
  },
  {
   "cell_type": "markdown",
   "id": "84c4d307-cb96-40ff-a1d8-30b9eefc4e91",
   "metadata": {},
   "source": [
    "Se lhe pedissem para mostrar isso em um gráfico de barras simples, a porcentagem de tocadores de MP3 que funcionam e não funcionam, usaríamos uma **Distribuição de Bernoulli**. Isso incluiria duas barras, com valores de x $0$ e $1$ para resultados que funcionam e não funcionam, e valores de y $0,1$ e $0,9$, respectivamente.\n",
    "\n",
    "Abaixo, usamos a função `pmf` da distribuição `de Bernoulli` para mostrar as probabilidades de Falso (0) e Verdadeiro (1), respectivamente. PMF significa \"função de massa de probabilidade\", que gera a probabilidade para cada resultado de evento."
   ]
  },
  {
   "cell_type": "code",
   "execution_count": null,
   "id": "d89ea34d-5b14-493e-9e96-7221c011eaf9",
   "metadata": {},
   "outputs": [],
   "source": [
    "from scipy.stats import bernoulli\n",
    "import numpy as np \n",
    "\n",
    "# Define a probabilidade de sucesso (pense em \"1\" ou \"cara\" no cara ou coroa)\n",
    "p = 0.9\n",
    "\n",
    "# Cria um objeto de distribuição de Bernoulli\n",
    "bd = bernoulli(p)\n",
    "\n",
    "# Gera valores x\n",
    "x = np.array([0, 1])\n",
    "\n",
    "# Calcula a função de massa de probabilidade (PMF)\n",
    "pmf = bd.pmf(x)\n",
    "print(pmf) # [0.1 0.9]"
   ]
  },
  {
   "cell_type": "markdown",
   "id": "91652da0-6a38-47f7-b23d-eae04e434a8a",
   "metadata": {},
   "source": [
    "Não é de se surpreender que ambos os resultados (*0* ou *1*, *Verdadeiro* ou *Falso*, *funcionando* ou *não funcionando*) somem $ 1.0 $. Isso é o que forma uma **distribuição de probabilidade**, onde todos os resultados somam 1.0.\n",
    "\n",
    "Para visualizar isso, vamos colocar em um gráfico de barras."
   ]
  },
  {
   "cell_type": "code",
   "execution_count": null,
   "id": "1704e93b-cea7-4cf2-b642-962fb90fe029",
   "metadata": {},
   "outputs": [],
   "source": [
    "import numpy as np\n",
    "import matplotlib.pyplot as plt\n",
    "from scipy.stats import bernoulli\n",
    "\n",
    "# Define a probabilidade de sucesso (pense em \"1\" ou \"cara\" no cara ou coroa)\n",
    "p = 0.9\n",
    "\n",
    "# Cria um objeto de distribuição de Bernoulli\n",
    "bd = bernoulli(p)\n",
    "\n",
    "# Gera valores x\n",
    "x = np.array([0, 1])\n",
    "\n",
    "# Calcula a função de massa de probabilidade (PMF)\n",
    "pmf = bd.pmf(x)\n",
    "print(pmf) # [0.1 0.9]\n",
    "\n",
    "# Plota o PMF\n",
    "plt.bar(x, pmf,  label='Bernoulli PMF')\n",
    "\n",
    "# Define as marcas de escala no eixo x\n",
    "plt.xticks([0, 1])\n",
    "\n",
    "# Define o título e os rótulos\n",
    "plt.title('Bernoulli Distribution')\n",
    "plt.xlabel('Outcome (0 or 1)')\n",
    "plt.ylabel('Probability')\n",
    "\n",
    "# Mostra o gráfico\n",
    "plt.legend(loc='best', frameon=False)\n",
    "plt.show()"
   ]
  },
  {
   "cell_type": "markdown",
   "id": "1ef22384-baea-4d0b-a152-c1dfd9ad8da8",
   "metadata": {},
   "source": [
    "Esperamos que a distribuição de Bernoulli seja direta. Ela apenas mostra as probabilidades de o evento ocorrer ou não em um gráfico de barras."
   ]
  },
  {
   "cell_type": "markdown",
   "id": "6c3e3180-4c29-4f28-b137-43e042c9915b",
   "metadata": {},
   "source": [
    "## Distribuição Binomial"
   ]
  },
  {
   "cell_type": "markdown",
   "id": "f0d793a4-2ca1-4ef3-93e3-00361e4e6b67",
   "metadata": {},
   "source": [
    "![img](data:image/svg+xml;base64,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)\n",
    "\n",
    "A seguir, vamos falar sobre a **distribuição binomial**, que mede, a partir de *n* tentativas, qual é a probabilidade de se ver *k* sucessos/eventos, dada uma probabilidade *p*? Digamos que queremos saber a probabilidade de, com uma taxa de sucesso de 90%, vermos 8 tocadores de MP3 funcionando em 10. Podemos fazer isso usando a distribuição binomial. Abaixo, declaramos uma distribuição binomial no SciPy e especificamos os valores `k`, `n` e `x`, sendo que o último será 8, por meio da função `pmf()`."
   ]
  },
  {
   "cell_type": "code",
   "execution_count": null,
   "id": "ca859977-53cf-4e10-be7a-70aaaf1bc218",
   "metadata": {},
   "outputs": [],
   "source": [
    "from scipy.stats import binom\n",
    "\n",
    "# Define o número de tentativas e a probabilidade de sucesso\n",
    "n = 10\n",
    "p = 0.9\n",
    "\n",
    "# Calcula a função de massa de probabilidade (PMF)\n",
    "y = binom.pmf(8, n, p)\n",
    "\n",
    "print(\"Qual é a probabilidade de 8 dispositivos em 10 funcionarem?\")\n",
    "print(y) # 0.1937102445"
   ]
  },
  {
   "cell_type": "markdown",
   "id": "50912d66-45f6-45e0-b121-0037ed09adfe",
   "metadata": {},
   "source": [
    "Portanto, há uma probabilidade de 19,37% de vermos 8 dispositivos funcionando de um total de 10. Que tal analisarmos todos os resultados possíveis em um gráfico de barras? Onde vemos, para 10 tentativas, qual é a probabilidade de $ k $ dispositivos funcionando de 0 a 10?"
   ]
  },
  {
   "cell_type": "code",
   "execution_count": null,
   "id": "8813ba56-acbf-4b56-ac95-54a5a156be8b",
   "metadata": {},
   "outputs": [],
   "source": [
    "import numpy as np\n",
    "import matplotlib.pyplot as plt\n",
    "from scipy.stats import binom\n",
    "\n",
    "# Define o número de tentativas e a probabilidade de sucesso\n",
    "n = 10\n",
    "p = 0.9\n",
    "\n",
    "# Gera valores x para o gráfico\n",
    "x = np.arange(0, n + 1)\n",
    "\n",
    "# Calcula a função de massa de probabilidade (PMF)\n",
    "pmf = binom.pmf(x, n, p)\n",
    "\n",
    "# Plota o PMF\n",
    "plt.plot(x, pmf, 'bo', ms=8, label='Binomial PMF')\n",
    "plt.vlines(x, 0, pmf, colors='b', lw=5, alpha=0.5)\n",
    "\n",
    "# Define o título e os rótulos\n",
    "plt.title('Binomial Distribution')\n",
    "plt.xlabel('Number of successes')\n",
    "plt.ylabel('Probability')\n",
    "\n",
    "# Mostra o gráfico\n",
    "plt.legend(loc='best', frameon=False)\n",
    "plt.show()\n"
   ]
  },
  {
   "cell_type": "markdown",
   "id": "cc7fe270-ab19-42b7-bc3a-fc3a0ddfc8dd",
   "metadata": {},
   "source": [
    "Podemos observar aqui que as probabilidades de todos os resultados somam 1,0, mas a maior parte está à direita, de k = 6 a 10. As probabilidades de obter 5 dispositivos bem-sucedidos ou menos são muito improváveis, visto que se aproximam de 0. Podemos usar isso para avaliar razoavelmente o quão realista é a taxa de sucesso subjacente $ p $, dado um resultado de $ 10 $ testes resultando em $ 8 $ de sucesso, $ 7 $ de sucesso e assim por diante.\n",
    "\n",
    "Se o engenheiro industrial afirma que o protótipo tem uma taxa de sucesso de 90%, e você realiza 10 testes e obtém 8 sucessos, isso não significa necessariamente que o engenheiro estava errado. Sempre há uma margem de variação, assim como uma moeda honesta pode ter 4/10 caras ou 6/10 caras, mas a questão é: qual a probabilidade desse resultado, dada essa taxa de sucesso?"
   ]
  },
  {
   "cell_type": "markdown",
   "id": "ec6adf71-bbae-4374-a929-03178504c4f1",
   "metadata": {},
   "source": [
    "## Distribuição Multinomial"
   ]
  },
  {
   "cell_type": "markdown",
   "id": "6537f8bd-69b0-40a3-94a2-8086efd7ff6a",
   "metadata": {},
   "source": [
    "A **distribuição multinomial** é semelhante à distribuição binomial, mas permite mais categorias do que apenas resultados binários como Verdadeiro/Falso ou Sucesso/Falha.\n",
    "\n",
    "Digamos que um grupo piloto testou o MP3 player de natação e recebeu uma breve pesquisa. Com base na experiência, eles podem responder à pergunta \"Como foi sua experiência com o MP3 player de natação?\" e ​​podem responder *Bom*, *Regular* e *Ruim*.\n",
    "\n",
    "Em nossa pesquisa, acreditamos que 60% dos usuários responderão *Bom*, 30% responderão *Regular* e 10% responderão *Ruim*.\n",
    "\n",
    "$ P(\\text{Bom}) = .6 $ \n",
    "\n",
    "$ P(\\text{Regular}) = .3 $\n",
    "\n",
    "$ P(\\text{Ruim}) = .1 $ \n",
    "\n",
    "Como podemos generalizar essas informações de forma que possamos prever a probabilidade de cada categoria ocorrer em $ n $ testes? É aqui que entra a distribuição multinomial. Abaixo, usando o SciPy, criamos uma distribuição multinomial com 10 tentativas, ou $ n = 10 $. Também passamos essas três probabilidades para esses três eventos.\n",
    "\n",
    "Na mesma ordem das probabilidades fornecidas, podemos chamar a função `pmf()` para verificar a probabilidade de obter esses resultados específicos do evento em 10 tentativas. É muito importante que esses números somem 10, pois definimos $ n = 10 $."
   ]
  },
  {
   "cell_type": "code",
   "execution_count": null,
   "id": "ae9b0ac9-b531-47e5-9d16-287facf340cf",
   "metadata": {},
   "outputs": [],
   "source": [
    "from scipy.stats import multinomial\n",
    "\n",
    "md = multinomial(n=10,p=[.6, .3, .1])\n",
    "\n",
    "print(\"Qual é a probabilidade de 6 bons, 3 razoáveis ​​e 1 ruim?\")\n",
    "print(md.pmf([6,3,1]))\n",
    "\n",
    "print(\"\\nQual é a probabilidade de 7 bons, 2 razoáveis ​​e 1 ruim?\")\n",
    "print(md.pmf([7,2,1]))\n",
    "\n",
    "print(\"\\nQual é a probabilidade de 7 bons, 1 razoável e 2 ruins?\")\n",
    "print(md.pmf([7,1,2]))"
   ]
  },
  {
   "cell_type": "markdown",
   "id": "2e9e6dc2-cac6-471b-b5cf-ab611c9bedc9",
   "metadata": {},
   "source": [
    "Como esperado, resultados mais próximos das probabilidades de 0.6, 0.3 e 0.1 são mais prováveis. Quanto mais você se afasta dessas proporções, menor a probabilidade de ocorrência."
   ]
  },
  {
   "cell_type": "code",
   "execution_count": null,
   "id": "d8a91a72-cacc-4708-b926-e7b0838aeee1",
   "metadata": {},
   "outputs": [],
   "source": [
    "from scipy.stats import binom\n",
    "\n",
    "# Defina o número de tentativas e a probabilidade de sucesso\n",
    "n = ?\n",
    "p = ?\n",
    "\n",
    "# Calcular a função de massa de probabilidade (PMF)\n",
    "y = binom.pmf(?, ?, ?)\n",
    "\n",
    "print(\"Qual é a probabilidade de 7 caras em 8 lançamentos de moeda?\")\n",
    "print(y) "
   ]
  },
  {
   "cell_type": "markdown",
   "id": "8f397886-d686-40af-8c04-81455908cecb",
   "metadata": {},
   "source": [
    "## Distribuição de Poisson"
   ]
  },
  {
   "cell_type": "markdown",
   "id": "2468e31e-4767-4795-884e-9d7f48e5707f",
   "metadata": {},
   "source": [
    "Uma **distribuição de Poisson** é uma distribuição discreta que mede a probabilidade de quantas vezes * k * um evento provavelmente ocorrerá em um determinado período de tempo. O parâmetro $ \\lambda $ é o número médio de eventos que ocorrerão nesse período.\n",
    "\n",
    "Digamos que eu queira prever o tempo entre cada visualização de um determinado vídeo do YouTube. É claro que as tendências em um vídeo podem mudar em um determinado momento (por exemplo, uma celebridade compartilha o vídeo no Twitter ou o YouTube muda seu algoritmo), mas digamos que atualmente o vídeo tenha uma média de 5 visualizações a cada minuto. Isso tornaria `5` meu parâmetro lambda. Se eu quiser medir a probabilidade de cada contagem de visualizações (entre 0 e 10) em um minuto, posso usar uma distribuição de Poisson para fazer isso."
   ]
  },
  {
   "cell_type": "code",
   "execution_count": null,
   "id": "4a9a6caf-a831-4f15-9b50-f176f47df5be",
   "metadata": {},
   "outputs": [],
   "source": [
    "import numpy as np\n",
    "import matplotlib.pyplot as plt\n",
    "from scipy.stats import poisson\n",
    "\n",
    "# Define o parâmetro de Poisson lambda\n",
    "lambda_p = 5\n",
    "\n",
    "# Cria uma matriz numpy para o eixo x\n",
    "x = np.arange(0, 11, 1)\n",
    "\n",
    "# Calcula os valores da função de massa de probabilidade de Poisson (PMF) para os valores lambda e x fornecidos\n",
    "y = poisson.pmf(x, mu=lambda_p)\n",
    "\n",
    "# Cria um gráfico de barras dos valores de PMF\n",
    "plt.bar(x, y, align='center')\n",
    "\n",
    "# Define o título e os rótulos\n",
    "plt.title('Poisson Distribution')\n",
    "plt.xlabel('Number of Views')\n",
    "plt.ylabel('Probability')\n",
    "\n",
    "# Mostra o gráfico\n",
    "plt.show()"
   ]
  },
  {
   "cell_type": "markdown",
   "id": "8aa21476-04c0-489b-8917-db7d3f140a51",
   "metadata": {},
   "source": [
    "Olhando para cima, podemos ver que todos os resultados somam 1, tornando-se novamente uma distribuição de probabilidade. Há uma probabilidade maior de obter uma contagem de visualizações próxima a 5, pois é onde a maior parte da massa de probabilidade gravita, e menos provável em torno de 0 e 10 visualizações."
   ]
  },
  {
   "cell_type": "markdown",
   "id": "c9ac6b60-6435-467e-96ff-abb863e314ab",
   "metadata": {},
   "source": [
    "## Exercício\n",
    "\n",
    "Você suspeita que seu amigo não está usando uma moeda honesta em um jogo de futebol. Você pegou a moeda e a jogou 8 vezes, e ela deu cara 7 vezes. Qual é a probabilidade de uma moeda honesta com probabilidade de 0,5 de cara resultar em 7 caras em 8 lançamentos de moeda?\n",
    "\n",
    "Complete o código abaixo (substituindo os pontos de interrogação \"?\") para obter a resposta."
   ]
  },
  {
   "cell_type": "markdown",
   "id": "37dc0c80-44b5-46be-a7b0-32b4a07d2ceb",
   "metadata": {},
   "source": [
    "### RESPOSTA A BAIXO\n",
    "\n",
    "|<br>\n",
    "|<br>\n",
    "|<br>\n",
    "|<br>\n",
    "|<br>\n",
    "|<br>\n",
    "|<br>\n",
    "|<br>\n",
    "|<br>\n",
    "|<br>\n",
    "|<br>\n",
    "|<br>\n",
    "|<br>\n",
    "|<br>\n",
    "|<br>\n",
    "|<br>\n",
    "|<br>\n",
    "|<br>\n",
    "|<br>\n",
    "|<br>\n",
    "|<br>\n",
    "|<br>\n",
    "|<br>\n",
    "v "
   ]
  },
  {
   "cell_type": "markdown",
   "id": "40d15f56-54b3-4d44-b163-34206e42e3fb",
   "metadata": {},
   "source": [
    "Como mostrado no código abaixo, há uma probabilidade de 0,03 de obter 7 caras em 8 lançamentos de moeda, se a moeda for honesta. Portanto, podemos suspeitar muito de que esta moeda seja injusta, dada a sua improvável probabilidade. Se a lançarmos mais vezes, podemos usar isso para reduzir ainda mais a probabilidade."
   ]
  },
  {
   "cell_type": "code",
   "execution_count": null,
   "id": "44e20b3a-41ee-467e-8c2a-f17600b33260",
   "metadata": {},
   "outputs": [],
   "source": [
    "from scipy.stats import binom\n",
    "\n",
    "# Defina o número de tentativas e a probabilidade de sucesso\n",
    "n = 8\n",
    "p = 0.5\n",
    "\n",
    "# Calcular a função de massa de probabilidade (PMF)\n",
    "y = binom.pmf(7, n, p)\n",
    "\n",
    "print(\"Qual é a probabilidade de 7 caras em 8 lançamentos de moeda?\")\n",
    "print(y) # 0.031249999999999976"
   ]
  }
 ],
 "metadata": {
  "kernelspec": {
   "display_name": "anaconda-2024.02-py310",
   "language": "python",
   "name": "conda-env-anaconda-2024.02-py310-py"
  },
  "language_info": {
   "codemirror_mode": {
    "name": "ipython",
    "version": 3
   },
   "file_extension": ".py",
   "mimetype": "text/x-python",
   "name": "python",
   "nbconvert_exporter": "python",
   "pygments_lexer": "ipython3",
   "version": "3.10.14"
  }
 },
 "nbformat": 4,
 "nbformat_minor": 5
}
