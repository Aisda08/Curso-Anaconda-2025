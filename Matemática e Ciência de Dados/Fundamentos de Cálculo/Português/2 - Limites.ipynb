{
 "cells": [
  {
   "cell_type": "markdown",
   "id": "e4c51428-ffd4-4138-8629-23b506a8886b",
   "metadata": {},
   "source": [
    "# Limites"
   ]
  },
  {
   "cell_type": "markdown",
   "id": "b45a58bc-d937-42ac-a0aa-1bd0954f91b7",
   "metadata": {},
   "source": [
    "À medida que nos familiarizamos com os conceitos de cálculo, vamos querer nos familiarizar com o conceito de limites. A ideia de se aproximar constantemente de um valor, mas nunca alcançá-lo, e observar alguma convergência é fundamental para desvendar conceitos críticos de cálculo, como derivadas e integrais."
   ]
  },
  {
   "cell_type": "markdown",
   "id": "aea906a3-63cb-4c9f-af89-3d59dc08a415",
   "metadata": {},
   "source": [
    "## Aproximando-se do Infinito"
   ]
  },
  {
   "cell_type": "markdown",
   "id": "c213dbfb-d685-40de-b7d2-d463be84db03",
   "metadata": {},
   "source": [
    "Vamos pegar esta função e plotá-la no SymPy.\n",
    "\n",
    "$\n",
    "\\Large f(x) = \\frac{x^2 - 1}{x - 1}\n",
    "$"
   ]
  },
  {
   "cell_type": "code",
   "execution_count": null,
   "id": "d113df38-4a7c-4673-b0e9-c9fae9c3ce88",
   "metadata": {},
   "outputs": [],
   "source": [
    "from sympy import *\n",
    "\n",
    "x = symbols('x')\n",
    "f = (x**2 - 1) / (x - 1)\n",
    "\n",
    "plot(f)"
   ]
  },
  {
   "cell_type": "markdown",
   "id": "a0075353-cfe7-4b3b-a97a-831f9a233ab6",
   "metadata": {},
   "source": [
    "Pode não ser óbvio, mas há uma lacuna neste gráfico em $ x = 1 $. Você consegue descobrir o porquê? É porque não podemos dividir por 0, e o denominador seria 0 se $ x = 1 $. Tente você mesmo em Python."
   ]
  },
  {
   "cell_type": "code",
   "execution_count": null,
   "id": "f0a871fe-c031-4d29-8897-e3e600d02bf0",
   "metadata": {},
   "outputs": [],
   "source": [
    "def f(x): \n",
    "    return (x**2 - 1) / (x - 1)\n",
    "\n",
    "f(1)"
   ]
  },
  {
   "cell_type": "markdown",
   "id": "7e1e7885-315e-4849-a36b-6dd1a154ac15",
   "metadata": {},
   "source": [
    "O SymPy não lançará exatamente um erro, mas retornará um `NaN` indicando um valor inexistente."
   ]
  },
  {
   "cell_type": "code",
   "execution_count": null,
   "id": "f087babc-8c33-4e97-9ff5-f1ccd182a451",
   "metadata": {},
   "outputs": [],
   "source": [
    "from sympy import *\n",
    "\n",
    "x = symbols('x')\n",
    "f = (x**2 - 1) / (x - 1)\n",
    "\n",
    "f.subs(x, 1)"
   ]
  },
  {
   "cell_type": "markdown",
   "id": "676a350c-0a4d-4178-a720-e4bda2926d2f",
   "metadata": {},
   "source": [
    "E se quiséssemos saber para qual valor a função se aproxima quando $ x = 1 $, sem nunca atingir $ x = 1 $? Bem, podemos tentar usar um valor bem próximo de $ 1 $, como $ 1.1 $, certo?"
   ]
  },
  {
   "cell_type": "code",
   "execution_count": null,
   "id": "cc5981a3-fe9a-49b5-9200-91ff5d3bcf79",
   "metadata": {},
   "outputs": [],
   "source": [
    "def f(x): \n",
    "    return (x**2 - 1) / (x - 1)\n",
    "\n",
    "f(1.1)"
   ]
  },
  {
   "cell_type": "markdown",
   "id": "ef833453-655a-463e-abfd-b839a1d2180f",
   "metadata": {},
   "source": [
    "Certo, e se fizéssemos um valor ainda menor, tipo $ 1.0001 $. "
   ]
  },
  {
   "cell_type": "code",
   "execution_count": null,
   "id": "3e886d72-3eed-44ab-92ce-cd38be7c6414",
   "metadata": {},
   "outputs": [],
   "source": [
    "def f(x): \n",
    "    return (x**2 - 1) / (x - 1)\n",
    "\n",
    "f(1.0001)"
   ]
  },
  {
   "cell_type": "markdown",
   "id": "b74de039-d15c-43c6-bf6d-145915cc1da6",
   "metadata": {},
   "source": [
    "Suspeito que o valor que estamos alcançando seja 2. Vamos chegar ainda mais perto de 1."
   ]
  },
  {
   "cell_type": "code",
   "execution_count": null,
   "id": "499bfa0b-dcf2-42cf-a45a-bd2f12cc3b4e",
   "metadata": {},
   "outputs": [],
   "source": [
    "def f(x): \n",
    "    return (x**2 - 1) / (x - 1)\n",
    "\n",
    "f(1.0000001)"
   ]
  },
  {
   "cell_type": "markdown",
   "id": "d4bcb1eb-e3d8-4637-a19d-fc87ca959e22",
   "metadata": {},
   "source": [
    "Certo, provavelmente é $ 2 $ e, se eu adicionar mais casas decimais, o sistema de ponto flutuante em Python vai arredondar para $ 2 $. Existe uma maneira matematicamente mais precisa de realizar essa tarefa de se aproximar cada vez mais de $ x = 1 $ e ver até onde a função se aproxima, sem nunca chegar a $ x = 1 $?"
   ]
  },
  {
   "cell_type": "markdown",
   "id": "b789f864-afb9-4746-9f41-fa467df35bba",
   "metadata": {},
   "source": [
    "## Apresentando Limites"
   ]
  },
  {
   "cell_type": "markdown",
   "id": "deb67e6f-723e-4309-b401-b23933ad6316",
   "metadata": {},
   "source": [
    "Temos esta função com uma lacuna onde $ x = 1 $. Isso causaria uma divisão por zero."
   ]
  },
  {
   "cell_type": "markdown",
   "id": "235ee5d9-7731-468d-9c2f-853048133ebf",
   "metadata": {},
   "source": [
    "$\n",
    "\\Large f(x) = \\frac{x^2 - 1}{x - 1}\n",
    "$"
   ]
  },
  {
   "cell_type": "markdown",
   "id": "8146596f-8b72-4a67-947e-f705fca256b0",
   "metadata": {},
   "source": [
    "No entanto, podemos descobrir qual valor $ f(x) $ se aproxima à medida que $ x $ se aproxima de $ 1 $ usando um **limite**, que nos ajuda a identificar o comportamento convergente próximo a um valor de entrada.\n",
    "\n",
    "![limit](https://latex.codecogs.com/svg.image?\\Large\\lim_{x\\to1}\\frac{x^2-1}{x-1}=2)"
   ]
  },
  {
   "cell_type": "markdown",
   "id": "166ded6d-990a-4e61-ba42-88afe32478f4",
   "metadata": {},
   "source": [
    "Você pode calcular um limite no SymPy usando a função `limit()`. Passe a função SymPy"
   ]
  },
  {
   "cell_type": "code",
   "execution_count": null,
   "id": "c40d70c9-9fd1-4e5d-9265-9280b8888e33",
   "metadata": {},
   "outputs": [],
   "source": [
    "from sympy import * \n",
    "\n",
    "x = symbols('x')\n",
    "f = (x**2 - 1) / (x - 1)\n",
    "\n",
    "limit(f,x,1)"
   ]
  },
  {
   "cell_type": "markdown",
   "id": "359dac7a-577c-4389-98ed-ba80fb536c4e",
   "metadata": {},
   "source": [
    "Vamos investigar esta função a seguir, que também apresenta um problema de \"divisão por zero\". Para ter uma boa visão do `plot()` com o SymPy, defina os intervalos dos eixos $ x $ e $ y $ como $ \\pm 10 $ a partir de $ 0 $.\n",
    "\n",
    "$ \n",
    "\\Large f(x) = \\frac{1}{x}\n",
    "$"
   ]
  },
  {
   "cell_type": "markdown",
   "id": "851288a3-2537-40a5-b75e-97eedb2ae2dc",
   "metadata": {},
   "source": [
    "À medida que $ x $ se aproxima de $ 0 $, o que $ f(x) $ se aproxima?"
   ]
  },
  {
   "cell_type": "code",
   "execution_count": null,
   "id": "d3fccfc3-acce-4f5a-a18d-a5286b70c25c",
   "metadata": {},
   "outputs": [],
   "source": [
    "from sympy import * \n",
    "\n",
    "x = symbols('x')\n",
    "f = 1 / x\n",
    "\n",
    "plot(f, xlim=(-10,10), ylim=(-10,10))"
   ]
  },
  {
   "cell_type": "markdown",
   "id": "6c169e55-645a-4d1f-848e-6af07786db0e",
   "metadata": {},
   "source": [
    "Vamos usar novamente o SymPy para responder a essa pergunta."
   ]
  },
  {
   "cell_type": "code",
   "execution_count": null,
   "id": "73d37aad-ebc3-4fa5-9bc3-2aa4a79e878e",
   "metadata": {},
   "outputs": [],
   "source": [
    "from sympy import * \n",
    "\n",
    "x = symbols('x')\n",
    "f = 1 / x\n",
    "\n",
    "limit(f, x, 0)"
   ]
  },
  {
   "cell_type": "markdown",
   "id": "1b49930d-77f8-4092-9b4c-d8ab6ffc9702",
   "metadata": {},
   "source": [
    "Dado o gráfico, isso faz sentido. À medida que nos aproximamos de $ x $ sendo $ 0 $, vemos a variável de saída se estender ao infinito. Falando em infinito, também podemos aproximar a variável de entrada $ x $ ao infinito para ver de onde a variável de saída $ y $ se aproxima. Vamos estender para o infinito positivo e ver de qual valor estamos nos aproximando. O SymPy habilmente usa dois \"o's\" `oo` como símbolo de infinito."
   ]
  },
  {
   "cell_type": "code",
   "execution_count": null,
   "id": "c770a79d-599b-423c-a9be-d4757b3f111a",
   "metadata": {},
   "outputs": [],
   "source": [
    "from sympy import * \n",
    "\n",
    "x = symbols('x')\n",
    "f = 1 / x\n",
    "\n",
    "limit(f, x, oo)"
   ]
  },
  {
   "cell_type": "markdown",
   "id": "8501de1d-9760-4d44-b71a-a3174b0f8d1f",
   "metadata": {},
   "source": [
    "Sem surpresa, $ y $ se aproxima de $ 0 $ à medida que $ x $ se estende para o infinito $ \\infty $. Se nos aproximarmos do infinito negativo, $ y $ também se aproxima de $ 0 $."
   ]
  },
  {
   "cell_type": "code",
   "execution_count": null,
   "id": "171dd5a7-f11e-483f-8bd3-53efbbfe583b",
   "metadata": {},
   "outputs": [],
   "source": [
    "limit(f, x, -oo)"
   ]
  },
  {
   "cell_type": "markdown",
   "id": "c77ac8a2-ba43-4f60-875e-da07b5b7906c",
   "metadata": {},
   "source": [
    "## Número de Euler"
   ]
  },
  {
   "cell_type": "markdown",
   "id": "f06962f2-d316-4761-96a9-2d34a967d483",
   "metadata": {},
   "source": [
    "Em matemática, existe uma constante especial chamada **Número de Euler** com algumas propriedades mágicas. Ela aparece na natureza, finanças e engenharia, bem como em estatística e probabilidade. Ela é usada até mesmo para a fórmula em uma distribuição normal.\n",
    "\n",
    "Aqui está uma maneira de descobrir o número de Euler. Digamos que temos uma fórmula para calcular o valor principal, dados uma taxa de juros e um tempo.\n",
    "\n",
    "$\n",
    "A = p \\times (1 + \\frac{r}{n})^{n \\times t}\n",
    "$ \n",
    "\n",
    "Supondo que não haja pagamentos, $ p $ é o valor principal inicial, que renderemos \\\\$1000. $ r $ é a taxa de juros anual. $ n $ é o número de vezes que os juros são compostos a cada ano/período, que renderemos mensalmente e, portanto, é 12. $ t $ é o número de anos/períodos.\n",
    "\n",
    "Ao longo desses três anos compostos por mês, esse saldo de \\\\$1000 se torna \\\\$1.220,39.\n",
    "\n",
    "$\n",
    "A = 1000 \\times (1 + \\frac{.10}{12})^{12 \\times 2}\n",
    "$\n",
    "\n",
    "$\n",
    "A = 1,220.39\n",
    "$"
   ]
  },
  {
   "cell_type": "markdown",
   "id": "c92605da-9641-4370-9505-ec352905cc75",
   "metadata": {},
   "source": [
    "Também podemos calcular isso no SymPy usando a função `subs()`."
   ]
  },
  {
   "cell_type": "code",
   "execution_count": null,
   "id": "c8860d57-9b08-4538-bbb9-b35087edd8de",
   "metadata": {},
   "outputs": [],
   "source": [
    "from sympy import *\n",
    "\n",
    "p, r, n, t = symbols('p r n t')\n",
    "\n",
    "A = p * (1 + (r/n))**(n*t)\n",
    "\n",
    "A.subs([(p, 1000), (r, .10), (n, 12), (t, 2)])"
   ]
  },
  {
   "cell_type": "markdown",
   "id": "5244f408-f139-46a7-a1a8-80caf7d72739",
   "metadata": {},
   "source": [
    "Agora, o que acontece se fizermos um composto semanal, onde $ n = 52 $?"
   ]
  },
  {
   "cell_type": "code",
   "execution_count": null,
   "id": "f1f29b22-935c-4ee1-8cdd-d575eecb06a0",
   "metadata": {},
   "outputs": [],
   "source": [
    "A.subs([(p, 1000), (r, .10), (n, 52), (t, 2)])"
   ]
  },
  {
   "cell_type": "markdown",
   "id": "48320951-5a4c-47cd-8b25-195d6b9e3ee8",
   "metadata": {},
   "source": [
    "Ah, ganhamos um pouquinho mais. E quanto a cada dia em que $ n = 365 $?"
   ]
  },
  {
   "cell_type": "code",
   "execution_count": null,
   "id": "a99c5ce6-89e1-4f61-bd83-675551584243",
   "metadata": {},
   "outputs": [],
   "source": [
    "A.subs([(p, 1000), (r, .10), (n, 365), (t, 2)])"
   ]
  },
  {
   "cell_type": "markdown",
   "id": "5bcc0de2-3bca-43e3-b794-2a800ae49ad8",
   "metadata": {},
   "source": [
    "Ganhamos alguns centavos a mais. E a cada hora em que $ n = 8760 $?"
   ]
  },
  {
   "cell_type": "code",
   "execution_count": null,
   "id": "b44b26ea-45e6-421d-a31b-9393e6f1073e",
   "metadata": {},
   "outputs": [],
   "source": [
    "A.subs([(p, 1000), (r, .10), (n, 8760), (t, 2)])"
   ]
  },
  {
   "cell_type": "markdown",
   "id": "5a92712c-cd89-47fe-be8f-8934fc681cac",
   "metadata": {},
   "source": [
    "A cada minuto?"
   ]
  },
  {
   "cell_type": "code",
   "execution_count": null,
   "id": "cbd99908-dbf5-4a5c-bf38-ad4593cb286e",
   "metadata": {},
   "outputs": [],
   "source": [
    "A.subs([(p, 1000), (r, .10), (n, 525600), (t, 2)])"
   ]
  },
  {
   "cell_type": "markdown",
   "id": "54155611-7136-4792-9604-cf8c28bf377e",
   "metadata": {},
   "source": [
    "Certo, os ganhos têm um retorno decrescente, obviamente, mas estamos nos aproximando de algo. Espere, *aproximação*! Isso significa que podemos usar um limite.\n",
    "\n",
    "Vamos reestruturar isso para usarmos um limite para ver o que acontece quando fazemos $ n $ se aproximar do infinito."
   ]
  },
  {
   "cell_type": "code",
   "execution_count": null,
   "id": "72fe8239-5a35-4d59-9bb8-378427d8584f",
   "metadata": {
    "scrolled": true
   },
   "outputs": [],
   "source": [
    "from sympy import *\n",
    "\n",
    "p, r, n, t = symbols('p r n t')\n",
    "\n",
    "A = p * (1 + (r/n))**(n*t)\n",
    "\n",
    "# substitui p, r, t\n",
    "A = A.subs([(p, 1000), (r, .10), (t, 2)])\n",
    "\n",
    "# aproximação n ao infinito\n",
    "limit(A, n, oo)"
   ]
  },
  {
   "cell_type": "markdown",
   "id": "6b23b00a-d7e6-4bd4-af47-5287b9192f7f",
   "metadata": {},
   "source": [
    "Estranho! O SymPy está nos dando este valor $ e $. Curiosidade: em finanças, a fórmula para juros compostos continuamente é...\n",
    "\n",
    "$\n",
    "A = Pe^{rt}\n",
    "$\n",
    "\n",
    "e acabamos de derivar essa fórmula matematicamente usando limites.\n",
    "\n",
    "Qual é exatamente o valor de $ e $? Podemos acessá-lo no SymPy pelo símbolo interno `E`."
   ]
  },
  {
   "cell_type": "code",
   "execution_count": null,
   "id": "57fac05d-fa50-4a56-ac47-8d55881ca51c",
   "metadata": {},
   "outputs": [],
   "source": [
    "E.evalf(10)"
   ]
  },
  {
   "cell_type": "markdown",
   "id": "a446914a-bb52-4946-8307-0d57c6c1afc4",
   "metadata": {},
   "source": [
    "$ e $ é uma constante especial que vemos em toda a matemática. Mais tecnicamente, é o limite da função abaixo quando $ n $ se aproxima do infinito.\n",
    "\n",
    "![limit](https://latex.codecogs.com/svg.image?&space;e=\\lim_{x\\to\\infty}(1&plus;\\frac{1}{n})^{n})"
   ]
  },
  {
   "cell_type": "markdown",
   "id": "23ad2eca-dffd-4ba5-820f-6cb7082c2cca",
   "metadata": {},
   "source": [
    "Podemos calcular $ e $ usando um limite abaixo e, surpreendentemente, o SymPy percebe que estamos calculando $ e $ e nos retorna."
   ]
  },
  {
   "cell_type": "code",
   "execution_count": null,
   "id": "f0d73731-5ecd-455e-ad25-a085acd012e4",
   "metadata": {},
   "outputs": [],
   "source": [
    "from sympy import *\n",
    "\n",
    "n = symbols('n')\n",
    "f = (1 + (1/n))**n\n",
    "result = limit(f, n, oo)\n",
    "\n",
    "print(result) # E\n",
    "print(result.evalf()) # 2.71828182845905"
   ]
  },
  {
   "cell_type": "markdown",
   "id": "3da44cde-30a3-4c4b-b6f4-9cf6b8bd9a30",
   "metadata": {},
   "source": [
    "Usaremos $ e $ algumas vezes ao longo deste curso. Por exemplo, $ e $ é usado para definir uma distribuição normal, também conhecida como curva de sino.\n",
    "\n",
    "$\n",
    "f(x; \\mu, \\sigma^2) = \\frac{1}{\\sqrt{2 \\pi \\sigma^2}} \\cdot \n",
    "e^{\\frac{-(x - \\mu)^2}{2 \\sigma^2}}\n",
    "$\n",
    "\n"
   ]
  },
  {
   "cell_type": "markdown",
   "id": "2c23f2f4-f28d-4038-a640-74c2bbc733e1",
   "metadata": {},
   "source": [
    "## Exercício"
   ]
  },
  {
   "cell_type": "markdown",
   "id": "32901321-cf8d-4f35-9029-555bd6355b81",
   "metadata": {},
   "source": [
    "Encontre o limite da função declarada no SymPy abaixo, fazendo com que $ x $ se aproxime do infinito positivo. Para qual ponto a função $ f $ converge? Complete o código substituindo o ponto de interrogação \"?\" abaixo."
   ]
  },
  {
   "cell_type": "code",
   "execution_count": null,
   "id": "aa97d7a0-3273-4bac-92f0-1230e1409384",
   "metadata": {},
   "outputs": [],
   "source": [
    "from sympy import * \n",
    "\n",
    "x = symbols('x')\n",
    "f = (2 / (x + 3)) + 5\n",
    "\n",
    "?"
   ]
  },
  {
   "cell_type": "markdown",
   "id": "bfaed011-c347-4941-9389-030e0c4b4964",
   "metadata": {},
   "source": [
    "### RESPOSTA A BAIXO\n",
    "\n",
    "|<br>\n",
    "|<br>\n",
    "|<br>\n",
    "|<br>\n",
    "|<br>\n",
    "|<br>\n",
    "|<br>\n",
    "|<br>\n",
    "|<br>\n",
    "|<br>\n",
    "|<br>\n",
    "|<br>\n",
    "|<br>\n",
    "|<br>\n",
    "|<br>\n",
    "|<br>\n",
    "|<br>\n",
    "|<br>\n",
    "|<br>\n",
    "|<br>\n",
    "|<br>\n",
    "|<br>\n",
    "|<br>\n",
    "v "
   ]
  },
  {
   "cell_type": "markdown",
   "id": "443d5bd9-4656-4c57-b698-820501bf3e3e",
   "metadata": {},
   "source": [
    "A função se aproxima de $ 5 $ à medida que $ x $ se aproxima do infinito."
   ]
  },
  {
   "cell_type": "code",
   "execution_count": null,
   "id": "e29c004b-a84d-404a-a4b7-b285060f2456",
   "metadata": {},
   "outputs": [],
   "source": [
    "from sympy import * \n",
    "\n",
    "x = symbols('x')\n",
    "f = (2 / (x + 3)) + 5\n",
    "\n",
    "limit(f, x, oo)"
   ]
  },
  {
   "cell_type": "markdown",
   "id": "f1f5f434-c239-4552-bcdd-4f229e825e0e",
   "metadata": {},
   "source": [
    "Para garantir, você pode plotar a função e vê-la visualizada e verificada."
   ]
  },
  {
   "cell_type": "code",
   "execution_count": null,
   "id": "639b2e2f-33d7-49b8-8f65-5b2d8b04229e",
   "metadata": {},
   "outputs": [],
   "source": [
    "plot(f, xlim=(-20,20), ylim=(-20,20))"
   ]
  }
 ],
 "metadata": {
  "kernelspec": {
   "display_name": "anaconda-2024.02-py310",
   "language": "python",
   "name": "conda-env-anaconda-2024.02-py310-py"
  },
  "language_info": {
   "codemirror_mode": {
    "name": "ipython",
    "version": 3
   },
   "file_extension": ".py",
   "mimetype": "text/x-python",
   "name": "python",
   "nbconvert_exporter": "python",
   "pygments_lexer": "ipython3",
   "version": "3.11.4 (main, Jun 20 2023, 17:37:48) [Clang 14.0.0 (clang-1400.0.29.202)]"
  },
  "vscode": {
   "interpreter": {
    "hash": "b0fa6594d8f4cbf19f97940f81e996739fb7646882a419484c72d19e05852a7e"
   }
  }
 },
 "nbformat": 4,
 "nbformat_minor": 5
}
