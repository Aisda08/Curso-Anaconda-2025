{
 "cells": [
  {
   "cell_type": "markdown",
   "id": "e5bf96d7-4c45-4506-964f-88df8fc6a590",
   "metadata": {},
   "source": [
    "# Integrais"
   ]
  },
  {
   "cell_type": "markdown",
   "id": "bd0ac4d5-849b-4948-a974-699431be78cd",
   "metadata": {},
   "source": [
    "Nesta seção, encerraremos discutindo **integrais**, que calculam áreas sob uma função. Também chamado de **antiderivada**, o processo é realizado por meio de **integração**. Usaremos novamente o SymPy para nos auxiliar no cálculo de integrais e evitar o trabalho de lápis e papel que você talvez tenha feito no ensino médio e na faculdade."
   ]
  },
  {
   "cell_type": "markdown",
   "id": "3836f78d-03eb-4cdf-b217-29fc5017980d",
   "metadata": {},
   "source": [
    "## Descobrindo a Integração"
   ]
  },
  {
   "cell_type": "markdown",
   "id": "b6a7544f-b82c-460a-b94e-8728b1559920",
   "metadata": {},
   "source": [
    "Digamos que temos esta função.\n",
    "\n",
    "$ \n",
    "\\Large f(x) = 2x - 2\n",
    "$"
   ]
  },
  {
   "cell_type": "code",
   "execution_count": null,
   "id": "e10ae0bf-26a0-414c-954c-b5db2e2490d5",
   "metadata": {},
   "outputs": [],
   "source": [
    "from sympy import * \n",
    "\n",
    "x = symbols('x')\n",
    "f = 2*x - 2\n",
    "\n",
    "plot(f,xlim=(-5,5), ylim=(-5,5)) "
   ]
  },
  {
   "cell_type": "markdown",
   "id": "f9f532e8-c09a-424e-ac3c-b1a54518cfeb",
   "metadata": {},
   "source": [
    "Agora, digamos que você queira encontrar a área sob a função entre $ x = 1 $ e $ x = 3 $, mas acima do eixo x. Vamos sombreá-la passando o parâmetro `fill` abaixo para `plot()`."
   ]
  },
  {
   "cell_type": "code",
   "execution_count": null,
   "id": "e6ee1253-53b9-45cc-ad0c-d22665824bd6",
   "metadata": {},
   "outputs": [],
   "source": [
    "from sympy import * \n",
    "import numpy as np \n",
    "\n",
    "x = symbols('x')\n",
    "f = 2*x - 2\n",
    "\n",
    "x_array = np.linspace(1, 3, 1000)\n",
    "f_array = lambdify(x, f)(x_array)\n",
    "\n",
    "plot(f, xlim=(-5,5), ylim=(-5,5), fill={'x': x_array,'y1':f_array, 'alpha': .5}) "
   ]
  },
  {
   "cell_type": "markdown",
   "id": "f54f429d-7803-4042-82a0-6b4f26ab250f",
   "metadata": {},
   "source": [
    "Calcular esta área não é um grande problema. Podemos ver claramente que se trata de um triângulo e podemos usar a fórmula básica da geometria:\n",
    "\n",
    "$ \n",
    "\\Large A = \\frac{1}{2} bh\n",
    "$ \n",
    "\n",
    "Portanto, se a base é $ 2 $ e a altura é $ 4 $, descobrimos que a área é $ 4 $.\n",
    "\n",
    "\n",
    "$ \n",
    "\\Large A = \\frac{1}{2} (2)(4) = 4\n",
    "$ \n",
    "\n",
    "Também podemos usar a função `integrate()` no SymPy para calcular a área deste intervalo. Exploraremos essa função mais adiante."
   ]
  },
  {
   "cell_type": "code",
   "execution_count": null,
   "id": "b3aa2b71-0695-4008-8560-9babcfc884f5",
   "metadata": {},
   "outputs": [],
   "source": [
    "from sympy import * \n",
    "\n",
    "x = symbols('x')\n",
    "f = 2*x - 2\n",
    "\n",
    "integrate(f, (x,1,3))"
   ]
  },
  {
   "cell_type": "markdown",
   "id": "4943cabc-7aa9-450f-baaf-d7b97e0f6a82",
   "metadata": {},
   "source": [
    "Agora, o que dizer de uma função curvilínea que não seja uma reta? Qual é a área entre $ 0 $ e $ 1 $?\n",
    "\n",
    "$\n",
    "\\Large f(x) = 2 x^{2} + 1\n",
    "$"
   ]
  },
  {
   "cell_type": "code",
   "execution_count": null,
   "id": "f7881a20-f743-4463-9516-3dc7d66ef40a",
   "metadata": {},
   "outputs": [],
   "source": [
    "from sympy import * \n",
    "import numpy as np \n",
    "\n",
    "x = symbols('x')\n",
    "f = 2*x**2 + 1\n",
    "\n",
    "x_array = np.linspace(0, 1, 1000)\n",
    "f_array = lambdify(x, f)(x_array)\n",
    "\n",
    "plot(f, xlim=(-2,2), ylim=(-1,5), fill={'x': x_array,'y1':f_array, 'alpha': .5}) "
   ]
  },
  {
   "cell_type": "markdown",
   "id": "2d3b2499-e951-4fb1-8822-4601a9250257",
   "metadata": {},
   "source": [
    "Opa. Isso não é tão simples, pois não temos mais bordas retas para calcular. Agora, coincidentemente, podemos usar o SymPy para calcular isso usando a função `integrate()` novamente. Obtemos uma área de $ 5/3 $."
   ]
  },
  {
   "cell_type": "code",
   "execution_count": null,
   "id": "df013aea-1139-4bc6-aacf-d03fad85f66a",
   "metadata": {},
   "outputs": [],
   "source": [
    "from sympy import * \n",
    "\n",
    "x = symbols('x')\n",
    "f = 2*x**2 + 1\n",
    "\n",
    "integrate(f, (x,0,1))"
   ]
  },
  {
   "cell_type": "markdown",
   "id": "b717c29a-4663-4bb9-8394-d5e7ca8dbe28",
   "metadata": {},
   "source": [
    "Mas como isso funciona? Como podemos encontrar a área sob uma função como essa? Bem, tudo se resume, mais uma vez... a um limite!"
   ]
  },
  {
   "cell_type": "markdown",
   "id": "0176e217-8a33-431e-9bf8-b9e0cbc8c011",
   "metadata": {},
   "source": [
    "## Somas de Riemann"
   ]
  },
  {
   "cell_type": "markdown",
   "id": "de73e5c5-3aff-4e6e-93e5-c33988dc37e1",
   "metadata": {},
   "source": [
    "Veja como podemos raciocinar sobre como encontrar a área sob qualquer função dada. Digamos que empacotamos alguns retângulos de largura igual sob a função para o intervalo dado em que estamos interessados. Criaremos uma função `plot_reimann_sums()` que faz exatamente isso, e vamos começar com 5 retângulos."
   ]
  },
  {
   "cell_type": "code",
   "execution_count": null,
   "id": "a3d84c13-30c6-41bc-a2f7-2760be147b9c",
   "metadata": {},
   "outputs": [],
   "source": [
    "import matplotlib.pyplot as plt\n",
    "from matplotlib.patches import Rectangle\n",
    "import numpy as np \n",
    "\n",
    "def plot_reimann_sums(f, eixo_x_inferior, eixo_x_superior, x_inferior, x_superior, n_rects): \n",
    "    \n",
    "    # Define o intervalo para o eixo x\n",
    "    x_vals = np.linspace(eixo_x_inferior, eixo_x_superior, 1000)\n",
    "    \n",
    "    # Calcula os valores da função para os valores do eixo x\n",
    "    y_vals = f(x_vals)\n",
    "    \n",
    "    # Cria o enredo\n",
    "    fig, ax = plt.subplots()\n",
    "\n",
    "    # Define os retângulos\n",
    "    x_rects = np.linspace(x_inferior, x_superior, n_rects+1)\n",
    "    y_rects = f(x_rects)\n",
    "\n",
    "    # plota retângulos\n",
    "    for x,y,next_x in zip(x_rects, y_rects, x_rects[1:]): \n",
    "        ax.add_patch(Rectangle((x, 0), next_x-x, y, alpha=.5, color='orange'))\n",
    "\n",
    "    plt.plot(x_vals, y_vals)\n",
    "    \n",
    "    # Mostra o gráfico\n",
    "    plt.show()\n",
    "\n",
    "def f(x): return 2*x**2 + 1\n",
    "    \n",
    "plot_reimann_sums(f, eixo_x_inferior=-2, eixo_x_superior=2, x_inferior=0, x_superior=1, n_rects=5)"
   ]
  },
  {
   "cell_type": "markdown",
   "id": "d6ce11a9-3df2-489d-9ff3-bad5e8cab8e9",
   "metadata": {},
   "source": [
    "É fácil calcular a área de retângulos, certo? Então, podemos aproximar a área somando a área sob os retângulos. Mas e se usássemos mais retângulos com larguras menores? Como seriam 10 retângulos?"
   ]
  },
  {
   "cell_type": "code",
   "execution_count": null,
   "id": "52dc482e-03d3-4ea3-aa47-1fda2ccebf89",
   "metadata": {},
   "outputs": [],
   "source": [
    "plot_reimann_sums(f, eixo_x_inferior=-2, eixo_x_superior=2, x_inferior=0, x_superior=1, n_rects=10)"
   ]
  },
  {
   "cell_type": "markdown",
   "id": "c9822633-df7f-4caa-95f9-57862f634ea7",
   "metadata": {},
   "source": [
    "Que tal 20 retângulos?"
   ]
  },
  {
   "cell_type": "code",
   "execution_count": null,
   "id": "bc054ced-9cb9-4420-945a-2328f351bfb3",
   "metadata": {},
   "outputs": [],
   "source": [
    "plot_reimann_sums(f, eixo_x_inferior=-2, eixo_x_superior=2, x_inferior=0, x_superior=1, n_rects=20)"
   ]
  },
  {
   "cell_type": "markdown",
   "id": "fb3ce1fe-067c-456a-a4a9-12af5dffc56b",
   "metadata": {},
   "source": [
    "É justo dizer que quanto mais retângulos tivermos e somarmos suas áreas, mais próximos estaremos da área real para esse intervalo sob a curva? Essa abordagem é o que chamamos de **Somas de Reimann**. Espere um minuto, isso é um limite! À medida que nos aproximamos do número de retângulos ao infinito, isso não convergiria para a área real sob a curva?\n",
    "\n",
    "Vamos executar uma aproximação usando 10.000 retângulos, sem gráfico. Vamos colocar isso nesta função que aproxima aproximadamente usando esta abordagem das Somas de Reimann."
   ]
  },
  {
   "cell_type": "code",
   "execution_count": null,
   "id": "e8fbcbf0-a4f3-40bf-bf4c-4417bc7779b7",
   "metadata": {},
   "outputs": [],
   "source": [
    "def integral_aproximada(a, b, n, f):\n",
    "    delta_x = (b - a) / n\n",
    "    total_sum = 0\n",
    "\n",
    "    for i in range(1, n + 1):\n",
    "        leftpoint = a + delta_x * (i - 1)\n",
    "        total_sum += f(leftpoint)\n",
    "\n",
    "    return total_sum * delta_x\n",
    "\n",
    "area = integral_aproximada(a=0, b=1, n=10_000, f=f)\n",
    "\n",
    "print(area) # 1.6665666699999973"
   ]
  },
  {
   "cell_type": "markdown",
   "id": "065bfc32-e369-4197-ae23-342ffb60e910",
   "metadata": {},
   "source": [
    "Vamos ser mais precisos. Vamos usar o SymPy, aproximar-nos de um número infinito de retângulos e somá-los. Com certeza, obtemos $ 5 / 3 $."
   ]
  },
  {
   "cell_type": "code",
   "execution_count": null,
   "id": "766d27ee-123e-4687-ae3e-2ce78aa322ba",
   "metadata": {},
   "outputs": [],
   "source": [
    "from sympy import *\n",
    "\n",
    "# Declara variáveis ​​para SymPy\n",
    "x, i, n = symbols('x i n')\n",
    "\n",
    "# Declara função e intervalo\n",
    "f = 2*x**2 + 1\n",
    "lower, upper = 0, 1\n",
    "\n",
    "# Calcula a largura e a altura de cada retângulo no índice \"i\"\n",
    "delta_x = ((upper - lower) / n)\n",
    "x_i = (lower + delta_x * i)\n",
    "fx_i = f.subs(x, x_i)\n",
    "\n",
    "# Itera todos os \"n\" retângulos e soma suas áreas\n",
    "n_rectangles = Sum(delta_x * fx_i, (i, 1, n)).doit()\n",
    "\n",
    "# Calcula a área aproximando o número\n",
    "# de retângulos \"n\" ao infinito\n",
    "area = limit(n_rectangles, n, oo)\n",
    "\n",
    "area # prints 5/3"
   ]
  },
  {
   "cell_type": "markdown",
   "id": "996c6b82-6a1e-472f-9ff2-47882783397b",
   "metadata": {},
   "source": [
    "Felizmente, assim como com as derivadas, não precisamos fazer todo esse trabalho de limite. Em vez disso, podemos usar a função `integrate()`, como mostramos anteriormente. Ela cuidará de todo o trabalho de limite nos bastidores."
   ]
  },
  {
   "cell_type": "code",
   "execution_count": null,
   "id": "6605e3f1-9ae1-4086-9505-e7f1481db2ef",
   "metadata": {
    "scrolled": true
   },
   "outputs": [],
   "source": [
    "from sympy import * \n",
    "\n",
    "x = symbols('x')\n",
    "f = 2*x**2 + 1\n",
    "\n",
    "integrate(f, (x,0,1))"
   ]
  },
  {
   "cell_type": "markdown",
   "id": "f877b8d8-68c3-4b09-b2bf-81697eeb3e5a",
   "metadata": {},
   "source": [
    "Observe que, quando fornecemos um intervalo, como mostrado no exemplo anterior, o chamamos de **integral definida**. Denotamos assim:\n",
    "\n",
    "$\n",
    "\\Large \\int_{0}^{1} (2x^2 + 1) = \\frac{5}{3}\n",
    "$\n",
    "\n",
    "\n",
    "Se quiséssemos generalizar a função integral sem nenhum intervalo específico, a chamaríamos de **integral indefinida**.\n",
    "\n",
    "$\n",
    "\\Large \\int (2x^2 + 1) = \\frac{2 x^{3}}{3} + x\n",
    "$\n",
    "\n",
    "Podemos calcular uma integral indefinida assim no SymPy."
   ]
  },
  {
   "cell_type": "code",
   "execution_count": null,
   "id": "c89677ae-e09e-460a-bed1-347010efdac4",
   "metadata": {},
   "outputs": [],
   "source": [
    "from sympy import * \n",
    "\n",
    "x = symbols('x')\n",
    "f = 2*x**2 + 1\n",
    "\n",
    "integrate(f,x)"
   ]
  },
  {
   "cell_type": "markdown",
   "id": "7031cc2e-057e-40c9-812b-b91d6cced053",
   "metadata": {},
   "source": [
    "Lembre-se de que a integral indefinida captura a área de menos infinito até o valor dado de $ x $. Portanto, se quiséssemos calcular a área de $ x = 0 $ a $ x = 1 $, substituiríamos ambos os valores na integral indefinida e subtraíríamos o último do primeiro.\n",
    "\n",
    "$ \n",
    "\\Large \\int_{0}^{1} (2x^2 + 1) = (\\frac{2 (1)^{3}}{3} + 1) - (\\frac{2 (0)^{3}}{3} + 0) = \\frac{5}{3}\n",
    "$ "
   ]
  },
  {
   "cell_type": "markdown",
   "id": "079f6064-bb89-4c87-a600-e519dbbff11c",
   "metadata": {},
   "source": [
    "## Exemplo de Distribuição Normal"
   ]
  },
  {
   "cell_type": "markdown",
   "id": "4671b864-3c87-4902-a9bc-0e9e336a72e6",
   "metadata": {},
   "source": [
    "Aqui está um exemplo aplicado de integrais, bastante utilizado em estatística. Sempre que trabalhamos com distribuições de probabilidade contínuas, precisamos encontrar áreas sob a curva (a função densidade de probabilidade) para calcular probabilidades para um determinado intervalo de valores de $ x $. Normalmente, para calcular essas áreas, usamos uma função densidade cumulativa, que provaremos ser apenas uma integral.\n",
    "\n",
    "Uma distribuição comum é uma distribuição normal, cuja função densidade de probabilidade é formulada por:"
   ]
  },
  {
   "cell_type": "markdown",
   "id": "f6c73abb-816a-49df-93dd-04ea7ba9d98b",
   "metadata": {},
   "source": [
    "\n",
    "\n",
    "$\n",
    "\\Large f(x) = \\frac{1}{\\sigma \\sqrt{2\\pi}} e^{-\\frac{1}{2}(\\frac{x-\\mu}{\\sigma})^2}\n",
    "$"
   ]
  },
  {
   "cell_type": "markdown",
   "id": "7826c8fd-ead3-4239-8af7-60039cc9ca97",
   "metadata": {},
   "source": [
    "$ \\mu $ é a média, $ \\sigma $ é o desvio padrão e $ e $ é o número de Euler que aprendemos. O valor $ x $ é a variável de entrada. Isso produzirá a famosa curva de sino, que podemos plotar no SymPy abaixo. Para simplificar, vamos definir a média como $ 0 $ e o desvio padrão como $ 1 $, o que define uma distribuição normal padrão."
   ]
  },
  {
   "cell_type": "code",
   "execution_count": null,
   "id": "4c9a4165-a162-4e63-84ed-c1c7b9b59d39",
   "metadata": {
    "scrolled": true
   },
   "outputs": [],
   "source": [
    "from sympy import * \n",
    "\n",
    "x,u,s = symbols('x u s')\n",
    "f = 1 / (s * sqrt(2*pi)) * E**(-1/2 * ((x - u)/s)**2)\n",
    "\n",
    "# uma distribuição normal padrão tem uma\n",
    "# média de 0 e um desvio padrão de 1\n",
    "padrão_normal = f.subs([(u,0), (s, 1)])\n",
    "\n",
    "plot(padrão_normal, xlim=(-4,4), ylim=(-0,.5))"
   ]
  },
  {
   "cell_type": "markdown",
   "id": "1196bfbb-cfe9-41eb-abbc-38dd71063f94",
   "metadata": {},
   "source": [
    "Vamos calcular a área até $ x = 1 $, que está sombreada abaixo."
   ]
  },
  {
   "cell_type": "code",
   "execution_count": null,
   "id": "90b76294-b016-4a6d-a7f7-ebd8f24bf5dd",
   "metadata": {},
   "outputs": [],
   "source": [
    "x_array = np.linspace(-4, 1, 1000)\n",
    "f_array = lambdify(x, padrão_normal)(x_array)\n",
    "\n",
    "plot(padrão_normal, xlim=(-4,4), ylim=(-0,.5), fill={'x': x_array,'y1':f_array, 'alpha': .5})"
   ]
  },
  {
   "cell_type": "markdown",
   "id": "d81dc58a-1491-4601-9a2a-3ceb6bab4afa",
   "metadata": {},
   "source": [
    "Vamos calcular essa área até $ 1 $ usando a função `integrate()`. Novamente, usaremos a distribuição normal padrão, que tem $ \\mu $ e $ \\sigma $ substituídos por $ 0 $ e $ 1 $, respectivamente. Observe que as caudas em uma distribuição normal se estendem ao infinito e se aproximam do eixo x para sempre. Portanto, incluiremos infinito negativo como o início do intervalo e 1 como o fim do intervalo."
   ]
  },
  {
   "cell_type": "code",
   "execution_count": null,
   "id": "c91ed100-4cf9-4f8f-8ca3-3d8ce3a7f96f",
   "metadata": {
    "scrolled": true
   },
   "outputs": [],
   "source": [
    "integrate(padrão_normal,(x,-oo, 1)).evalf()"
   ]
  },
  {
   "cell_type": "markdown",
   "id": "65f552d1-6e52-43ba-907a-99435f5a9d7e",
   "metadata": {},
   "source": [
    "Portanto, esta área entre o infinito negativo e $ 1 $ resulta em uma área de $ 0,8413 $. Com certeza, se compararmos isso com o cálculo do SciPy usando a função de densidade cumulativa, obteremos quase exatamente a mesma resposta. Isso mostra, com certeza, que a função de densidade cumulativa `cdf()` é apenas uma operação de integração."
   ]
  },
  {
   "cell_type": "code",
   "execution_count": null,
   "id": "9421eb44-7b9a-470d-8c4a-56555172a9bf",
   "metadata": {},
   "outputs": [],
   "source": [
    "from scipy.stats import norm \n",
    "\n",
    "norm.cdf(1, 0, 1) # x, mean, std"
   ]
  },
  {
   "cell_type": "markdown",
   "id": "16b9e3de-b5f5-4a04-a2a0-7f62c958267b",
   "metadata": {},
   "source": [
    "## Exercício\n",
    "\n",
    "Para esta função:\n",
    "\n",
    "$ \n",
    "f(x) = 5x^3 - 10 \n",
    "$ \n",
    "\n",
    "Calcule a área de $ x = 2 $ a $ x = 3 $ substituindo o ponto de interrogação abaixo."
   ]
  },
  {
   "cell_type": "code",
   "execution_count": null,
   "id": "e7390866-981e-40f7-8cfb-045b3481af62",
   "metadata": {},
   "outputs": [],
   "source": [
    "from sympy import * \n",
    "\n",
    "x = symbols('x')\n",
    "f = 5*x**3 - 10 \n",
    "\n",
    "?"
   ]
  },
  {
   "cell_type": "markdown",
   "id": "0c41a771-3306-45ea-b782-d31729f8e499",
   "metadata": {},
   "source": [
    "### RESPOSTA A BAIXO\n",
    "\n",
    "|<br>\n",
    "|<br>\n",
    "|<br>\n",
    "|<br>\n",
    "|<br>\n",
    "|<br>\n",
    "|<br>\n",
    "|<br>\n",
    "|<br>\n",
    "|<br>\n",
    "|<br>\n",
    "|<br>\n",
    "|<br>\n",
    "|<br>\n",
    "|<br>\n",
    "|<br>\n",
    "|<br>\n",
    "|<br>\n",
    "|<br>\n",
    "|<br>\n",
    "|<br>\n",
    "|<br>\n",
    "|<br>\n",
    "v "
   ]
  },
  {
   "cell_type": "markdown",
   "id": "048e15af-4532-4e3b-8aff-3acc2911656b",
   "metadata": {},
   "source": [
    "Você deve encontrar uma área de $ \\frac{258}{4} $ usando a função `integrate()`."
   ]
  },
  {
   "cell_type": "code",
   "execution_count": null,
   "id": "a64aecc2-1155-4fbe-99db-65540b5935ac",
   "metadata": {},
   "outputs": [],
   "source": [
    "from sympy import * \n",
    "\n",
    "x = symbols('x')\n",
    "f = 5*x**3 - 10 \n",
    "\n",
    "integrate(f, (x,2,3))"
   ]
  }
 ],
 "metadata": {
  "kernelspec": {
   "display_name": "anaconda-2024.02-py310",
   "language": "python",
   "name": "conda-env-anaconda-2024.02-py310-py"
  },
  "language_info": {
   "codemirror_mode": {
    "name": "ipython",
    "version": 3
   },
   "file_extension": ".py",
   "mimetype": "text/x-python",
   "name": "python",
   "nbconvert_exporter": "python",
   "pygments_lexer": "ipython3",
   "version": "3.10.14"
  },
  "vscode": {
   "interpreter": {
    "hash": "b0fa6594d8f4cbf19f97940f81e996739fb7646882a419484c72d19e05852a7e"
   }
  }
 },
 "nbformat": 4,
 "nbformat_minor": 5
}
