{
 "cells": [
  {
   "cell_type": "markdown",
   "id": "2f1fb9d5-7f43-43a5-b4b3-07bf29ad2231",
   "metadata": {},
   "source": [
    "# Derivativos e Derivativos Parciais"
   ]
  },
  {
   "cell_type": "markdown",
   "id": "d7a9eaf8-5bb4-4d20-b87d-3f5e94b066a3",
   "metadata": {},
   "source": [
    "Com a noção de limites em mãos, exploraremos uma de suas aplicações mais úteis no Cálculo: a derivada. Uma **derivada** é uma função que gera a inclinação de outra função. Medir a taxa de variação em diferentes partes de uma função é útil em aplicações de aprendizado de máquina e ciência de dados, particularmente em gradiente descendente e gradiente descendente estocástico. Esta é a parte de *aprendizado* do aprendizado de máquina e discutiremos isso mais tarde. Por enquanto, vamos primeiro colocar os blocos de construção em seus devidos lugares."
   ]
  },
  {
   "cell_type": "markdown",
   "id": "2f2f9fc0-6c0c-450f-b0f4-cb574b8c44dd",
   "metadata": {},
   "source": [
    "## Retas Secantes e Tangentes"
   ]
  },
  {
   "cell_type": "markdown",
   "id": "634c31c2-f831-44c6-bf6a-252683b4595f",
   "metadata": {},
   "source": [
    "Digamos que você precise encontrar a inclinação desta função em $ x = 2 $.\n",
    "\n",
    "$\n",
    "\\Large f(x) = .75x^2\n",
    "$\n",
    "\n",
    "Uma maneira de aproximar essa inclinação é obter o ponto em $ x = 2 $ e, em seguida, escolher um vizinho próximo de $ x $, como $ x = 3,5 $. Podemos então traçar uma ** reta secante** passando por ambos os pontos e obter sua inclinação usando a fórmula de subida-sobre-corrida.\n",
    "\n",
    "$\n",
    "\\Large m = \\frac{x_2 - x_1}{y_2 - y_1}\n",
    "$\n",
    "\n",
    "Vamos aproximar esse valor, mas, por enquanto, vamos começar pelo ponto vizinho em $ x_2 = 3,5 $."
   ]
  },
  {
   "cell_type": "code",
   "execution_count": null,
   "id": "dd26f2ea-5032-454a-9eda-1763b67f9481",
   "metadata": {},
   "outputs": [],
   "source": [
    "import matplotlib.pyplot as plt\n",
    "import numpy as np \n",
    "\n",
    "def plot_com_secant(f, x1, x2): \n",
    "    \n",
    "    # Define o intervalo para o eixo x\n",
    "    x_vals = np.linspace(-4, 4, 1000)\n",
    "    \n",
    "    # Calcula os valores da função para os valores do eixo x\n",
    "    y_vals = f(x_vals)\n",
    "    \n",
    "    # plota o gráfico\n",
    "    plt.plot(x_vals, y_vals)\n",
    "    \n",
    "    # Define a reta secante\n",
    "    y1, y2 = f(x1), f(x2)\n",
    "    \n",
    "    # Calcula a inclinação da reta secante\n",
    "    m = (y2 - y1) / (x2 - x1)\n",
    "    print(f\"A inclinação é {m}\")\n",
    "    \n",
    "    # Calcula a interceptação em y da reta secante\n",
    "    b = y1 - m * x1\n",
    "    \n",
    "    # Desenha a reta secante\n",
    "    x_secant = x_vals \n",
    "    y_secant = m*x_vals+b\n",
    "\n",
    "    # corta a linha para permanecer no intervalo do eixo y da parábola\n",
    "    x_secant = x_secant[(y_secant <= np.max(y_vals)) & (y_secant >= np.min(y_vals))]\n",
    "    y_secant = m*x_secant+b\n",
    "\n",
    "    # plota reta secante \n",
    "    plt.plot(x_secant, y_secant)\n",
    "\n",
    "    # plota pontos secantes\n",
    "    plt.plot([x1,x2],[y1,y2], 'o')\n",
    "    \n",
    "    # Adiciona rótulos e título\n",
    "    plt.xlabel('X')\n",
    "    plt.ylabel('Y')\n",
    "    plt.title('Function f(x) with Secant Line')\n",
    "    \n",
    "    # Mostra o gráfico\n",
    "    plt.show()\n",
    "\n",
    "def f(x): return .75*x**2\n",
    "    \n",
    "plot_com_secant(f, 2, 3.5)"
   ]
  },
  {
   "cell_type": "markdown",
   "id": "4c2fa10c-fb32-4f76-855c-69479e82bf39",
   "metadata": {},
   "source": [
    "Agora, o que acontece se aproximarmos esse ponto vizinho?"
   ]
  },
  {
   "cell_type": "code",
   "execution_count": null,
   "id": "f72bc658-8dfd-423b-be43-69dc191b826b",
   "metadata": {},
   "outputs": [],
   "source": [
    "plot_com_secant(f,2,3)"
   ]
  },
  {
   "cell_type": "code",
   "execution_count": null,
   "id": "d7ba60d8-2613-42bc-a4df-a910edd80d2c",
   "metadata": {},
   "outputs": [],
   "source": [
    "plot_com_secant(f, 2, 2.1)"
   ]
  },
  {
   "cell_type": "code",
   "execution_count": null,
   "id": "1515073b-4609-489d-9552-6b5b472137c4",
   "metadata": {
    "scrolled": true
   },
   "outputs": [],
   "source": [
    "plot_com_secant(f, 2, 2.001)"
   ]
  },
  {
   "cell_type": "markdown",
   "id": "2c451fa0-f360-4521-9462-998f865dea0b",
   "metadata": {},
   "source": [
    "De forma mais geral, se tivermos uma função $ f(x) $ e quisermos encontrar a inclinação em um dado $ x $, podemos aproximá-la traçando a **reta secante** que também cruza um ponto vizinho próximo em $ x + h $. A inclinação dessa reta secante pode ser aproximada diminuindo $ h $.\n",
    "\n",
    "$ \n",
    "\\Large m = \\frac{f(x + h) - f(x)}{(x + h) - x}\n",
    "$\n",
    "\n",
    "Mais apropriadamente, podemos usar um limite para diminuir $ h $ continuamente em direção a 0, mas nunca a cada 0.\n",
    "\n",
    "![lim](https://latex.codecogs.com/svg.image?&space;m=\\lim_{x\\to0}\\frac{f(x&plus;h)-f(x)}{(x&plus;h)-x})"
   ]
  },
  {
   "cell_type": "markdown",
   "id": "1bd68f24-7eb0-4251-b507-8dc2a8d2b4f9",
   "metadata": {},
   "source": [
    "Vamos substituir $ x = 2 $ nesta fórmula e calcular o limite aproximando $ h $ de 0. Podemos calcular claramente que a inclinação é $ 3 $! A reta resultante não seria mais uma reta secante, mas sim uma **reta tangente**, pois convergimos ambos os pontos usando um limite."
   ]
  },
  {
   "cell_type": "code",
   "execution_count": null,
   "id": "418e76ee-d0d8-4a19-b478-fa24ddd2b79b",
   "metadata": {},
   "outputs": [],
   "source": [
    "from sympy import * \n",
    "\n",
    "x,h = symbols('x h')\n",
    "\n",
    "f = .75*x**2\n",
    "\n",
    "# calcula a inclinação para x e seu vizinho\n",
    "m = (f.subs(x, x+h) - f) / (x+h - x)\n",
    "\n",
    "# substitui x = 2\n",
    "m = m.subs(x, 2)\n",
    "\n",
    "# calcula a inclinação aproximando h de 0 \n",
    "limit(m,h,0)"
   ]
  },
  {
   "cell_type": "markdown",
   "id": "598bdd79-68f6-4918-a44d-8d65ad1767e3",
   "metadata": {},
   "source": [
    "Podemos generalizar isso e verificar a inclinação para qualquer valor $ x $ dado, simplesmente não substituindo um valor por $ x $ em nosso limite."
   ]
  },
  {
   "cell_type": "code",
   "execution_count": null,
   "id": "55d48671-25a6-4056-adca-96f8a83e7b43",
   "metadata": {
    "scrolled": true
   },
   "outputs": [],
   "source": [
    "from sympy import * \n",
    "\n",
    "x,h = symbols('x h')\n",
    "\n",
    "f = .75*x**2\n",
    "\n",
    "# calcular a inclinação para x e seu vizinho\n",
    "m = (f.subs(x, x+h) - f) / (x+h - x)\n",
    "\n",
    "# calcular a inclinação aproximando h de 0\n",
    "limit(m,h,0)"
   ]
  },
  {
   "cell_type": "markdown",
   "id": "08001ac4-2ac8-4a57-8f5f-0300fed360d9",
   "metadata": {},
   "source": [
    "Obtemos a função derivada `f'(x)`, que nos indica a inclinação de $ f(x) $ para qualquer valor de x dado.\n",
    "\n",
    "$ \n",
    "f'(x) = \\frac{3}{2}x\n",
    "$ "
   ]
  },
  {
   "cell_type": "markdown",
   "id": "acad64fc-5914-40e3-83a3-440ca4d6ddaf",
   "metadata": {},
   "source": [
    "Felizmente, não precisamos calcular limites toda vez que queremos calcular uma inclinação ou derivada. O SymPy tem uma função `diff()` que faz isso para nós."
   ]
  },
  {
   "cell_type": "markdown",
   "id": "f9a227e0-7d11-476f-bae7-7d51bad7cacd",
   "metadata": {},
   "source": [
    "## Derivadas\n",
    "\n",
    "Como descobrimos acima, uma **derivada** é uma função que indica a inclinação de outra função, para qualquer entrada $ x $. Podemos usar a função `diff()` do SymPy para calcular a derivada de uma função `f` em relação a `x`."
   ]
  },
  {
   "cell_type": "code",
   "execution_count": null,
   "id": "8b78e70e-6447-4cd2-b7e1-4936039f4e4e",
   "metadata": {},
   "outputs": [],
   "source": [
    "from sympy import * \n",
    "\n",
    "x = symbols('x')\n",
    "f = .75*x**2\n",
    "\n",
    "dx_f = diff(f, x)\n",
    "dx_f"
   ]
  },
  {
   "cell_type": "markdown",
   "id": "04718ffb-c1c2-4671-a416-87413ca1fad7",
   "metadata": {},
   "source": [
    "Isso significa que em $ x = 1 $, a inclinação é $ 1.5 $. Em $ x = 2 $, a inclinação é $ 3 $. Em $ x = 5 $, a inclinação é $ 7.5 $, e assim por diante...\n",
    "\n",
    "Pode ser interessante plotar uma função juntamente com sua derivada. Observe como, para esta função $ f(x) = 0.75x^2 $ e sua derivada $ f'(x) = 1.5x^2 $, a primeira é uma parábola, mas a segunda é linear. Lembre-se de que a derivada $ f'(x) $ indica a inclinação para cada valor de $ x $ dado para $ f(x) $."
   ]
  },
  {
   "cell_type": "code",
   "execution_count": null,
   "id": "8a584a00-534d-41d0-8152-3bbd93f21ce9",
   "metadata": {},
   "outputs": [],
   "source": [
    "from sympy import * \n",
    "\n",
    "x = symbols('x')\n",
    "f = .75*x**2\n",
    "\n",
    "dx_f = diff(f, x)\n",
    "dx_f\n",
    "\n",
    "plot(f, dx_f, xlim=(-4,4), ylim=(-4,4))"
   ]
  },
  {
   "cell_type": "markdown",
   "id": "95c73f12-b509-414e-92d5-d29345770de3",
   "metadata": {},
   "source": [
    "Não confunda o gráfico da derivada com a reta tangente ou secante. O gráfico da derivada exibe todas as inclinações para cada valor de x. A reta tangente/secante visualiza a própria inclinação em relação à função-alvo."
   ]
  },
  {
   "cell_type": "markdown",
   "id": "93ef423b-dc68-4340-9391-8980882e5890",
   "metadata": {},
   "source": [
    "## Derivadas Parciais"
   ]
  },
  {
   "cell_type": "markdown",
   "id": "015eeee6-0cc8-4bc5-8ac2-2531e8ef159f",
   "metadata": {},
   "source": [
    "É possível ter derivadas em relação a mais de uma variável de entrada. Aliás, esta é uma ideia fundamental no cálculo multivariável.\n",
    "\n",
    "Considere esta função.\n",
    "\n",
    "$ \n",
    "\\Large f(x,y) = .15x^3 + 5y^2 + 1 \n",
    "$"
   ]
  },
  {
   "cell_type": "markdown",
   "id": "2dc8aa55-0a35-4122-8fac-d9b8f4b5c459",
   "metadata": {},
   "source": [
    "Usando gráficos 3D no SymPy, vamos plotar esta função. Observe que temos inclinações em relação à direção $ x $ e inclinações em relação à direção $ y $."
   ]
  },
  {
   "cell_type": "code",
   "execution_count": null,
   "id": "7be503fb-1418-4e17-9363-43246f5e17f3",
   "metadata": {},
   "outputs": [],
   "source": [
    "from sympy import * \n",
    "from sympy.plotting import plot3d\n",
    "\n",
    "x, y = symbols('x y')\n",
    "\n",
    "f = .15 * x**3 + 5*y**2 + 1 \n",
    "\n",
    "plot3d(f)"
   ]
  },
  {
   "cell_type": "markdown",
   "id": "f56e86b0-7d2f-4d68-b48d-9f29fa1c99f0",
   "metadata": {},
   "source": [
    "Podemos ter como alvo derivadas separadas em relação a $ x $ e $ y $, que denotamos como...\n",
    "\n",
    "$ \n",
    "\\Large \\frac{\\delta}{\\delta x} \n",
    "$   \n",
    "\n",
    "$ \n",
    "\\Large \\frac{\\delta}{\\delta y} \n",
    "$\n",
    "\n",
    "Podemos usar o SymPy para calcular essas derivadas em relação a $ x $ e $ y $ separadamente, usando o mesmo padrão que usaríamos para uma única variável."
   ]
  },
  {
   "cell_type": "code",
   "execution_count": null,
   "id": "b384c91b-e8ac-4933-8b38-4d854f8da098",
   "metadata": {},
   "outputs": [],
   "source": [
    "from sympy import * \n",
    "\n",
    "x, y = symbols('x y')\n",
    "f = .15 * x**3 + 5*y**2 + 1 \n",
    "\n",
    "dx = diff(f, x)\n",
    "dy = diff(f, y) "
   ]
  },
  {
   "cell_type": "code",
   "execution_count": null,
   "id": "a0d8ebf6-8b40-45c4-aede-ff87b1b3a853",
   "metadata": {},
   "outputs": [],
   "source": [
    "dx"
   ]
  },
  {
   "cell_type": "code",
   "execution_count": null,
   "id": "94382f45-f085-42a5-885a-14fefad91a42",
   "metadata": {},
   "outputs": [],
   "source": [
    "dy"
   ]
  },
  {
   "cell_type": "markdown",
   "id": "a594b706-01c6-4974-8e03-0425905bd636",
   "metadata": {},
   "source": [
    "Então, qual seria a inclinação em relação a $ x $ e $ y $ em $ x = 2 $ e $ y = 1 $?"
   ]
  },
  {
   "cell_type": "markdown",
   "id": "b7f29573-67d8-4aac-8c32-e11b123f1b66",
   "metadata": {},
   "source": [
    "\n",
    "$ \n",
    "\\Large \\frac{\\delta}{\\delta x} = 0.45x^2\n",
    "$   \n",
    "\n",
    "$ \n",
    "\\Large \\frac{\\delta}{\\delta y} = 10y\n",
    "$\n",
    "\n",
    "\n"
   ]
  },
  {
   "cell_type": "markdown",
   "id": "4c2b8385-d88d-4915-9811-ea0c2c940120",
   "metadata": {},
   "source": [
    "Se calculássemos usando substituição simples ou SymPy, descobriríamos que a inclinação em relação a $ x $ é 1,8 e a inclinação em relação a $ y $ é $ 10 $."
   ]
  },
  {
   "cell_type": "code",
   "execution_count": null,
   "id": "e5b59a67-20a4-459f-ab46-c418a0142f9b",
   "metadata": {},
   "outputs": [],
   "source": [
    "dx.subs(x,2), dy.subs(y,1)"
   ]
  },
  {
   "cell_type": "markdown",
   "id": "47a7715b-16ba-48a0-a416-75274bc8e198",
   "metadata": {},
   "source": [
    "## Exercício\n",
    "\n",
    "Para esta função:\n",
    "\n",
    "$ \n",
    "f(x) = 5x^3 - 10 \n",
    "$ \n",
    "\n",
    "Calcule a inclinação em $ x = -1 $ completando o código (substituindo os pontos de interrogação \"?\") abaixo."
   ]
  },
  {
   "cell_type": "code",
   "execution_count": null,
   "id": "aa918a8c-19f7-4378-9767-5110fec4e5d0",
   "metadata": {},
   "outputs": [],
   "source": [
    "from sympy import * \n",
    "\n",
    "x = symbols('x')\n",
    "f = 5*x**3 - 10 \n",
    "\n",
    "dx = ?\n",
    "dx.subs(?, ?)"
   ]
  },
  {
   "cell_type": "markdown",
   "id": "17142979-1cb9-470a-bfae-79ef55c8935a",
   "metadata": {},
   "source": [
    "### RESPOSTA A BAIXO\n",
    "\n",
    "|<br>\n",
    "|<br>\n",
    "|<br>\n",
    "|<br>\n",
    "|<br>\n",
    "|<br>\n",
    "|<br>\n",
    "|<br>\n",
    "|<br>\n",
    "|<br>\n",
    "|<br>\n",
    "|<br>\n",
    "|<br>\n",
    "|<br>\n",
    "|<br>\n",
    "|<br>\n",
    "|<br>\n",
    "|<br>\n",
    "|<br>\n",
    "|<br>\n",
    "|<br>\n",
    "|<br>\n",
    "|<br>\n",
    "v "
   ]
  },
  {
   "cell_type": "markdown",
   "id": "4a8014d8-1261-434a-925f-570531a915e7",
   "metadata": {},
   "source": [
    "A inclinação de $ f(x) $ em $ x = -1 $ é 15."
   ]
  },
  {
   "cell_type": "code",
   "execution_count": null,
   "id": "bf304c01-b14c-434c-b217-03cae3f319b1",
   "metadata": {},
   "outputs": [],
   "source": [
    "from sympy import * \n",
    "\n",
    "x = symbols('x')\n",
    "f = 5*x**3 - 10 \n",
    "\n",
    "dx = diff(f, x)\n",
    "dx.subs(x, -1)"
   ]
  }
 ],
 "metadata": {
  "kernelspec": {
   "display_name": "anaconda-2024.02-py310",
   "language": "python",
   "name": "conda-env-anaconda-2024.02-py310-py"
  },
  "language_info": {
   "codemirror_mode": {
    "name": "ipython",
    "version": 3
   },
   "file_extension": ".py",
   "mimetype": "text/x-python",
   "name": "python",
   "nbconvert_exporter": "python",
   "pygments_lexer": "ipython3",
   "version": "3.10.14"
  },
  "vscode": {
   "interpreter": {
    "hash": "b0fa6594d8f4cbf19f97940f81e996739fb7646882a419484c72d19e05852a7e"
   }
  }
 },
 "nbformat": 4,
 "nbformat_minor": 5
}
