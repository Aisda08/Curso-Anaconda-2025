{
 "cells": [
  {
   "cell_type": "markdown",
   "id": "64764f12",
   "metadata": {},
   "source": [
    "# Determinantes e Casos Especiais\n",
    "\n",
    "Agora que já estamos familiarizados com transformações, vamos fazer algumas análises sobre elas, que serão pertinentes posteriormente. Uma das operações mais fundamentais para avaliar uma transformação é o determinante, que abordaremos primeiro. Em seguida, falaremos sobre dependência linear e casos especiais que veremos em formas matriciais."
   ]
  },
  {
   "cell_type": "markdown",
   "id": "2d3ff90c",
   "metadata": {},
   "source": [
    "## O Determinante\n",
    "\n",
    "Observe esta transformação linear abaixo. Também colocaremos um quadrado laranja com área de $ 1 $ no espaço. O que acontece com a área do quadrado durante a transformação?\n",
    "<br><br><br>\n",
    "\n",
    "<video src=\"https://github.com/thomasnield/anaconda_linear_algebra/raw/main/media/01_DeterminantScene.mp4\" controls=\"controls\" style=\"max-width: 730px;\">\n",
    "</video>"
   ]
  },
  {
   "cell_type": "markdown",
   "id": "93d5f597",
   "metadata": {},
   "source": [
    "Se você conseguiu notar que a área aumentou com a transformação, está no caminho certo. Melhor ainda, quanto ela aumentou ou diminuiu? Neste caso, podemos ver claramente que a área do quadrado aumentou por um fator de 6. Esse fator de aumento/diminuição em uma área amostrada de uma transformação é o que chamamos de **determinante**. Ele mostra o quanto uma matriz aumenta ou diminui a quantidade de algo.\n",
    "\n",
    "Podemos calcular o determinante usando a função `det()` do NumPy do pacote `linalg`. De fato, vemos que o determinante é `6,0` para esta matriz dada $ \\begin{bmatrix} 3 & 0 \\\\ 0 & 2 \\end{bmatrix} $."
   ]
  },
  {
   "cell_type": "code",
   "execution_count": null,
   "id": "0196938e",
   "metadata": {},
   "outputs": [],
   "source": [
    "import numpy as np \n",
    "from numpy.linalg import det \n",
    "\n",
    "i_chapeu = np.array([3,0])\n",
    "j_chapeu = np.array([0,2])\n",
    "\n",
    "A = np.array([i_chapeu,j_chapeu]).transpose()\n",
    "\n",
    "det(A)"
   ]
  },
  {
   "cell_type": "markdown",
   "id": "a634ecb0",
   "metadata": {},
   "source": [
    "Para uma matriz 2x2, você pode calcular o determinante manualmente multiplicando e somando os elementos diagonais.\n",
    "\n",
    "$\n",
    " det(\\begin{bmatrix} 3 & 0 \\\\ 0 & 2 \\end{bmatrix}) = (3)(2) + (0)(0) = 6 \n",
    "$"
   ]
  },
  {
   "cell_type": "markdown",
   "id": "8d6537ff",
   "metadata": {},
   "source": [
    "Aqui está outro exemplo com uma transformação de cisalhamento. O que acontece com a área e qual você acha que é o determinante?\n",
    "\n",
    "<video src=\"https://github.com/thomasnield/anaconda_linear_algebra/raw/main/media/02_DeterminantSheerScene.mp4\" controls=\"controls\" style=\"max-width: 730px;\">\n",
    "</video>\n",
    "\n",
    "Sabendo que a área de um losango é quase igual à de um retângulo (base * altura), você deve calcular visualmente o determinante como $ 2 $. Dadas as matrizes exatas de $ \\hat{i} $ e $ \\hat{j} $, podemos encontrar que, de fato, isso é $ 2 $."
   ]
  },
  {
   "cell_type": "code",
   "execution_count": null,
   "id": "c36a0250",
   "metadata": {},
   "outputs": [],
   "source": [
    "import numpy as np \n",
    "from numpy.linalg import det \n",
    "\n",
    "i_chapeu = np.array([1,0])\n",
    "j_chapeu = np.array([0,2])\n",
    "\n",
    "A = np.array([i_chapeu,j_chapeu]).transpose()\n",
    "\n",
    "det(A)"
   ]
  },
  {
   "cell_type": "markdown",
   "id": "b02c22d1",
   "metadata": {},
   "source": [
    "Determinantes negativos também podem existir. Isso acontece quando a orientação do espaço se inverte de alguma forma, e $\\hat{i}$ e $\\hat{j} trocam suas posições no sentido horário.\n",
    "\n",
    "A matriz $ \\begin{bmatrix}0 & 1\\\\2 & 1\\end{bmatrix} $ abaixo tem um determinante de $ -2 $."
   ]
  },
  {
   "cell_type": "markdown",
   "id": "29995c87",
   "metadata": {},
   "source": [
    "\n",
    "<video src=\"https://github.com/thomasnield/anaconda_linear_algebra/raw/main/media/03_DeterminantInversionScene.mp4\" controls=\"controls\" style=\"max-width: 730px;\">\n",
    "</video>"
   ]
  },
  {
   "cell_type": "code",
   "execution_count": null,
   "id": "b13b1638",
   "metadata": {},
   "outputs": [],
   "source": [
    "import numpy as np \n",
    "from numpy.linalg import det \n",
    "\n",
    "i_chapeu = np.array([0,2])\n",
    "j_chapeu = np.array([1,1])\n",
    "\n",
    "A = np.array([i_chapeu,j_chapeu]).transpose()\n",
    "\n",
    "det(A)"
   ]
  },
  {
   "cell_type": "markdown",
   "id": "b7edbe63",
   "metadata": {},
   "source": [
    "Determinantes também funcionam em dimensões superiores. Pense em termos de volume em vez de área. Abaixo, temos um cubo de volume 1. Após aplicar essa transformação, obtemos um determinante de 4,5, pois o volume do cubo aumenta por esse fator."
   ]
  },
  {
   "cell_type": "markdown",
   "id": "95c74e11",
   "metadata": {},
   "source": [
    "$\n",
    "A = \\begin{bmatrix} 1.5 & -1.2 & 2.5\\\\0 & 2.0 & 1.0\\\\0 & 0 & 1.5 \\end{bmatrix}\n",
    "$\n",
    "\n",
    "$\n",
    "det(a) = 4.5\n",
    "$\n"
   ]
  },
  {
   "cell_type": "markdown",
   "id": "f1baae16",
   "metadata": {},
   "source": [
    "\n",
    "<video src=\"https://github.com/thomasnield/anaconda_linear_algebra/raw/main/media/04_ThreeDDeterminantScene.mp4\" controls=\"controls\" style=\"max-width: 730px;\">\n",
    "</video>"
   ]
  },
  {
   "cell_type": "code",
   "execution_count": null,
   "id": "0821533b",
   "metadata": {
    "scrolled": true
   },
   "outputs": [],
   "source": [
    "import numpy as np \n",
    "from numpy.linalg import det \n",
    "\n",
    "i_chapeu = np.array([1.5,0,0])\n",
    "j_chapeu = np.array([-1.2,2,0])\n",
    "k_chapeu = np.array([2.5,1, 1.5])\n",
    "\n",
    "A = np.array([i_chapeu,j_chapeu,k_chapeu]).transpose()\n",
    "det(A)"
   ]
  },
  {
   "cell_type": "markdown",
   "id": "92d3cfcd",
   "metadata": {},
   "source": [
    "## Dependência Linear"
   ]
  },
  {
   "cell_type": "markdown",
   "id": "f062e74f",
   "metadata": {},
   "source": [
    "Vamos pegar esta matriz $ A $ e então animar sua transformação. O que acontece com o determinante?\n",
    "\n",
    "$ \n",
    "A = \\begin{bmatrix} -2 & 2 \\\\ 1 & -1 \\end{bmatrix}\n",
    "$"
   ]
  },
  {
   "cell_type": "markdown",
   "id": "1ccdcbb1",
   "metadata": {},
   "source": [
    "\n",
    "<video src=\"https://github.com/thomasnield/anaconda_linear_algebra/raw/main/media/05_ZeroDeterminantScene.mp4\" controls=\"controls\" style=\"max-width: 730px;\">\n",
    "</video>"
   ]
  },
  {
   "cell_type": "markdown",
   "id": "0b1bcf23",
   "metadata": {},
   "source": [
    "Você viu isso? Execute o código Python abaixo para calcular o determinante."
   ]
  },
  {
   "cell_type": "code",
   "execution_count": null,
   "id": "81fdeacd",
   "metadata": {},
   "outputs": [],
   "source": [
    "import numpy as np \n",
    "from numpy.linalg import det \n",
    "\n",
    "i_chapeu = np.array([-2,1])\n",
    "j_chapeu = np.array([2,-1])\n",
    "\n",
    "A = np.array([i_chapeu,j_chapeu]).transpose()\n",
    "\n",
    "det(A)"
   ]
  },
  {
   "cell_type": "markdown",
   "id": "52b5bf9b",
   "metadata": {},
   "source": [
    "Como você pode ver na animação e no código Python acima, o determinante foi para $0$! Este é um conceito importante porque quando um determinante vai para $0$, significa que pode haver problemas com a matriz para certos tipos de problemas. Por exemplo, quando aprendemos a resolver sistemas de equações, um determinante de $0$ significa que o sistema de equações é insolúvel!\n",
    "\n",
    "O que mais você notou? Você deve ter notado que os vetores base caíram na mesma reta subjacente e compartilham a mesma direção (com escalares negativos, é claro). Também vimos todo o espaço 2D comprimido em um espaço 1D.\n",
    "\n",
    "Agora, vamos considerar uma matriz 3D. Como é um determinante nulo?\n",
    "\n",
    "<video src=\"https://github.com/thomasnield/anaconda_linear_algebra/raw/main/media/06_ThreeDZeroDeterminantScene.mp4\" controls=\"controls\" style=\"max-width: 730px;\">\n",
    "</video>"
   ]
  },
  {
   "cell_type": "code",
   "execution_count": null,
   "id": "913fd5cd",
   "metadata": {},
   "outputs": [],
   "source": [
    "A = np.array([[1, 0, 0], [-1, 1, 0], [1, 0, 0]])\n",
    "\n",
    "# Calcula o determinante da matriz.\n",
    "determinant = np.linalg.det(A)\n",
    "\n",
    "# Imprime o determinante.\n",
    "print(determinant)\n"
   ]
  },
  {
   "cell_type": "markdown",
   "id": "771cfd2b",
   "metadata": {},
   "source": [
    "Novamente, você pode ver este tema de um determinante nulo refletindo uma compressão em dimensões menores. Isso reflete uma matriz que é linearmente dependente.\n",
    "\n",
    "> Você pode ouvir o termo **posto** em álgebra linear, que descreve em quantas dimensões a matriz se transforma. Se uma matriz 3D comprime o espaço em uma reta, ela tem posto 1. Se comprime o espaço em um plano, ela tem posto 2. Se permanece em 3 dimensões, ela tem posto 3 e seria \"posto completo\" porque mantém essas dimensões."
   ]
  },
  {
   "cell_type": "markdown",
   "id": "fa913302",
   "metadata": {},
   "source": [
    "## Matrizes de Casos Especiais"
   ]
  },
  {
   "cell_type": "markdown",
   "id": "bfe8b275",
   "metadata": {},
   "source": [
    "Aqui está uma série de diferentes tipos de matrizes que são notáveis.\n",
    "\n",
    "### Matriz Quadrada\n",
    "\n",
    "Uma matriz quadrada é o que temos trabalhado principalmente. Ela tem um número igual de linhas e colunas e é usada para descrever transformações lineares simples que permanecem no mesmo número de dimensões. Matrizes quadradas são um requisito para muitas operações, como a autodecomposição.\n",
    "\n",
    "Abaixo está uma matriz quadrada 3x3.\n",
    "\n",
    "$\n",
    "\\mathbf{A} = \\begin{bmatrix} 3 & 1 & -2 \\\\ 5 & 4.3 & 6.1 \\\\ 2.9 & 1 & 2\\end{bmatrix}\n",
    "$\n",
    "\n",
    "### Matriz Não Quadrada\n",
    "\n",
    "Matrizes não quadradas estão um pouco além do escopo deste curso, mas vamos abordá-las um pouco aqui. Um encontro comum de matrizes não quadradas está na forma de dados, onde cada linha representa um registro em um conjunto de dados. Abaixo está uma matriz 5x3.\n",
    "\n",
    "$\n",
    "\\mathbf{A} = \\begin{bmatrix}\n",
    "3 & 9 & 0.5 \\\\\n",
    "7 & 2 & 13 \\\\\n",
    "14 & 6 & 0 \\\\\n",
    "4 & 0.1 & 5 \\\\\n",
    "11 & 9 & 7\n",
    "\\end{bmatrix}\n",
    "$\n",
    "\n",
    "De uma interpretação geométrica/visual, uma matriz não quadrada significa que a transformação altera as dimensões do espaço.\n",
    "\n",
    "### Matriz Identidade\n",
    "\n",
    "Quando encontramos uma matriz composta apenas por 0s, exceto por uma diagonal de 1s do canto superior esquerdo ao canto inferior direito, temos o que chamamos de matriz identidade. Ela efetivamente identifica uma transformação desfeita e os vetores de base estão em seu ponto inicial. Usaremos a matriz identidade mais tarde como nosso alvo para resolver um sistema de equações. A aplicação de uma matriz inversa a uma matriz nos dará a matriz identidade.\n",
    "\n",
    "$ \n",
    "\\mathbf{I} = \\begin{bmatrix}\n",
    "1 & 0 & 0 \\\\\n",
    "0 & 1 & 0 \\\\\n",
    "0 & 0 & 1\n",
    "\\end{bmatrix}\n",
    "$ \n",
    "\n",
    "### Matriz Diagonal\n",
    "\n",
    "Semelhante à matriz identidade é a matriz diagonal, que essencialmente consiste em vetores de base escalonados. Isso a torna desejável para certas operações. Os valores existem apenas do canto superior esquerdo para o canto inferior direito, e todo o resto é zero.\n",
    "\n",
    "$ \n",
    "\\mathbf{A} = \\begin{bmatrix}\n",
    "4 & 0 & 0 \\\\\n",
    "0 & 1 & 0 \\\\\n",
    "0 & 0 & 9\n",
    "\\end{bmatrix}\n",
    "$ \n",
    "\n",
    "### Matriz Triangular\n",
    "\n",
    "Uma matriz triangular é uma matriz em que a diagonal e tudo acima dela (o canto superior direito) têm valores e tudo abaixo é zero.\n",
    "\n",
    "$\n",
    "\\mathbf{A} = \\begin{bmatrix}\n",
    "1 & 3 & 2 \\\\\n",
    "0 & 2 & 7 \\\\\n",
    "0 & 0 & 5\n",
    "\\end{bmatrix}\n",
    "$\n",
    "\n",
    "A matriz triangular é útil para certos tipos de problemas, como resolução de sistemas de equações e decomposição LU.\n",
    "\n",
    "### Matriz Esparsa\n",
    "\n",
    "Ocasionalmente, você pode ter uma matriz composta principalmente por zeros e com poucos valores diferentes de zero. Essas são matrizes esparsas e só são interessantes quando se trata de computadores e memória de dados. Em vez de armazenar todos os valores na matriz, podemos armazenar apenas os valores diferentes de zero e sua localização na matriz. Isso evita o armazenamento redundante de zeros.\n",
    "\n",
    "$ \n",
    "\\mathbf{A} = \\begin{bmatrix}\n",
    "0 & 0 & 2 & 0 \\\\\n",
    "0 & 0 & 0 & 1 \\\\\n",
    "3 & 0 & 0 & 0 \\\\\n",
    "0 & 0 & 0 & 0\n",
    "\\end{bmatrix}\n",
    "$ \n",
    "\n",
    "Você verá o termo matriz esparsa sendo muito usado em aprendizado de máquina e ciência da computação, pois essas áreas geralmente usam matrizes esparsas para economizar memória."
   ]
  },
  {
   "cell_type": "markdown",
   "id": "6dc242f6",
   "metadata": {},
   "source": [
    "## Exercício\n",
    "\n",
    "A matriz $ \\begin{bmatrix} 1 e 2 \\\\ 0 e 0 \\end{bmatrix} $ é linearmente dependente? Por quê? Por quê?\n",
    "\n",
    "Use Python e NumPy para calcular a resposta ou calcule à mão, com lápis e papel.\n",
    "\n",
    "### RESPOSTA A BAIXO\n",
    "\n",
    "|<br>\n",
    "|<br>\n",
    "|<br>\n",
    "|<br>\n",
    "|<br>\n",
    "|<br>\n",
    "|<br>\n",
    "|<br>\n",
    "|<br>\n",
    "|<br>\n",
    "|<br>\n",
    "|<br>\n",
    "|<br>\n",
    "|<br>\n",
    "|<br>\n",
    "|<br>\n",
    "|<br>\n",
    "|<br>\n",
    "|<br>\n",
    "|<br>\n",
    "|<br>\n",
    "|<br>\n",
    "|<br>\n",
    "v "
   ]
  },
  {
   "cell_type": "markdown",
   "id": "b7b5d3c1",
   "metadata": {},
   "source": [
    "A transformação linear desta matriz tem um determinante de zero, portanto ela é linearmente dependente."
   ]
  },
  {
   "cell_type": "code",
   "execution_count": null,
   "id": "a276f912",
   "metadata": {},
   "outputs": [],
   "source": [
    "import numpy as np \n",
    "from numpy.linalg import det \n",
    "\n",
    "i_chapeu = np.array([1,0])\n",
    "j_chapeu = np.array([2,0])\n",
    "\n",
    "A = np.array([i_chapeu,j_chapeu]).transpose()\n",
    "\n",
    "det(A)"
   ]
  }
 ],
 "metadata": {
  "kernelspec": {
   "display_name": "anaconda-2024.02-py310",
   "language": "python",
   "name": "conda-env-anaconda-2024.02-py310-py"
  },
  "language_info": {
   "codemirror_mode": {
    "name": "ipython",
    "version": 3
   },
   "file_extension": ".py",
   "mimetype": "text/x-python",
   "name": "python",
   "nbconvert_exporter": "python",
   "pygments_lexer": "ipython3",
   "version": "3.10.14"
  },
  "vscode": {
   "interpreter": {
    "hash": "b0fa6594d8f4cbf19f97940f81e996739fb7646882a419484c72d19e05852a7e"
   }
  }
 },
 "nbformat": 4,
 "nbformat_minor": 5
}
