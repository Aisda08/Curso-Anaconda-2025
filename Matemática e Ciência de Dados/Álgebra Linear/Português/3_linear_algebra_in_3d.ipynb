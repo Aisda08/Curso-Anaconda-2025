{
 "cells": [
  {
   "cell_type": "code",
   "execution_count": null,
   "id": "4f4efebb-5a7d-4492-8e9a-b8725c4b09d2",
   "metadata": {},
   "outputs": [],
   "source": []
  }
 ],
 "metadata": {
  "kernelspec": {
   "display_name": "",
   "name": ""
  },
  "language_info": {
   "name": ""
  }
 },
 "nbformat": 4,
 "nbformat_minor": 5
}
